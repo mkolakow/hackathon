{
  "cells": [
    {
      "cell_type": "markdown",
      "metadata": {
        "id": "view-in-github",
        "colab_type": "text"
      },
      "source": [
        "<a href=\"https://colab.research.google.com/github/swicklund/hackathon/blob/main/MLModel1.ipynb\" target=\"_parent\"><img src=\"https://colab.research.google.com/assets/colab-badge.svg\" alt=\"Open In Colab\"/></a>"
      ]
    },
    {
      "cell_type": "code",
      "execution_count": 1,
      "metadata": {
        "id": "f18J8QM17E0a",
        "outputId": "275d1680-6720-4671-82b3-cb3f55773966",
        "colab": {
          "base_uri": "https://localhost:8080/"
        }
      },
      "outputs": [
        {
          "output_type": "stream",
          "name": "stdout",
          "text": [
            "\u001b[K     |████████████████████████████████| 719 kB 4.2 MB/s \n",
            "\u001b[K     |████████████████████████████████| 4.4 MB 22.3 MB/s \n",
            "\u001b[K     |████████████████████████████████| 362 kB 38.9 MB/s \n",
            "\u001b[K     |████████████████████████████████| 1.2 MB 37.7 MB/s \n",
            "\u001b[K     |████████████████████████████████| 212 kB 39.0 MB/s \n",
            "\u001b[K     |████████████████████████████████| 140 kB 42.8 MB/s \n",
            "\u001b[K     |████████████████████████████████| 101 kB 4.3 MB/s \n",
            "\u001b[K     |████████████████████████████████| 1.1 MB 41.3 MB/s \n",
            "\u001b[K     |████████████████████████████████| 596 kB 42.8 MB/s \n",
            "\u001b[K     |████████████████████████████████| 127 kB 53.8 MB/s \n",
            "\u001b[K     |████████████████████████████████| 271 kB 45.9 MB/s \n",
            "\u001b[K     |████████████████████████████████| 144 kB 50.1 MB/s \n",
            "\u001b[K     |████████████████████████████████| 94 kB 2.4 MB/s \n",
            "\u001b[K     |████████████████████████████████| 6.6 MB 31.5 MB/s \n",
            "\u001b[31mERROR: pip's dependency resolver does not currently take into account all the packages that are installed. This behaviour is the source of the following dependency conflicts.\n",
            "datascience 0.10.6 requires folium==0.2.1, but you have folium 0.8.3 which is incompatible.\u001b[0m\n",
            "\u001b[?25hLooking in indexes: https://pypi.org/simple, https://us-python.pkg.dev/colab-wheels/public/simple/\n",
            "Collecting dtreeviz\n",
            "  Downloading dtreeviz-1.3.6.tar.gz (61 kB)\n",
            "\u001b[K     |████████████████████████████████| 61 kB 184 kB/s \n",
            "\u001b[?25hRequirement already satisfied: graphviz>=0.9 in /usr/local/lib/python3.7/dist-packages (from dtreeviz) (0.10.1)\n",
            "Requirement already satisfied: pandas in /usr/local/lib/python3.7/dist-packages (from dtreeviz) (1.3.5)\n",
            "Requirement already satisfied: numpy in /usr/local/lib/python3.7/dist-packages (from dtreeviz) (1.21.6)\n",
            "Requirement already satisfied: scikit-learn in /usr/local/lib/python3.7/dist-packages (from dtreeviz) (1.0.2)\n",
            "Requirement already satisfied: matplotlib in /usr/local/lib/python3.7/dist-packages (from dtreeviz) (3.2.2)\n",
            "Collecting colour\n",
            "  Downloading colour-0.1.5-py2.py3-none-any.whl (23 kB)\n",
            "Requirement already satisfied: pytest in /usr/local/lib/python3.7/dist-packages (from dtreeviz) (3.6.4)\n",
            "Requirement already satisfied: cycler>=0.10 in /usr/local/lib/python3.7/dist-packages (from matplotlib->dtreeviz) (0.11.0)\n",
            "Requirement already satisfied: kiwisolver>=1.0.1 in /usr/local/lib/python3.7/dist-packages (from matplotlib->dtreeviz) (1.4.3)\n",
            "Requirement already satisfied: pyparsing!=2.0.4,!=2.1.2,!=2.1.6,>=2.0.1 in /usr/local/lib/python3.7/dist-packages (from matplotlib->dtreeviz) (3.0.9)\n",
            "Requirement already satisfied: python-dateutil>=2.1 in /usr/local/lib/python3.7/dist-packages (from matplotlib->dtreeviz) (2.8.2)\n",
            "Requirement already satisfied: typing-extensions in /usr/local/lib/python3.7/dist-packages (from kiwisolver>=1.0.1->matplotlib->dtreeviz) (4.1.1)\n",
            "Requirement already satisfied: six>=1.5 in /usr/local/lib/python3.7/dist-packages (from python-dateutil>=2.1->matplotlib->dtreeviz) (1.15.0)\n",
            "Requirement already satisfied: pytz>=2017.3 in /usr/local/lib/python3.7/dist-packages (from pandas->dtreeviz) (2022.1)\n",
            "Requirement already satisfied: more-itertools>=4.0.0 in /usr/local/lib/python3.7/dist-packages (from pytest->dtreeviz) (8.13.0)\n",
            "Requirement already satisfied: atomicwrites>=1.0 in /usr/local/lib/python3.7/dist-packages (from pytest->dtreeviz) (1.4.0)\n",
            "Requirement already satisfied: attrs>=17.4.0 in /usr/local/lib/python3.7/dist-packages (from pytest->dtreeviz) (21.4.0)\n",
            "Requirement already satisfied: setuptools in /usr/local/lib/python3.7/dist-packages (from pytest->dtreeviz) (57.4.0)\n",
            "Requirement already satisfied: py>=1.5.0 in /usr/local/lib/python3.7/dist-packages (from pytest->dtreeviz) (1.11.0)\n",
            "Requirement already satisfied: pluggy<0.8,>=0.5 in /usr/local/lib/python3.7/dist-packages (from pytest->dtreeviz) (0.7.1)\n",
            "Requirement already satisfied: scipy>=1.1.0 in /usr/local/lib/python3.7/dist-packages (from scikit-learn->dtreeviz) (1.4.1)\n",
            "Requirement already satisfied: threadpoolctl>=2.0.0 in /usr/local/lib/python3.7/dist-packages (from scikit-learn->dtreeviz) (3.1.0)\n",
            "Requirement already satisfied: joblib>=0.11 in /usr/local/lib/python3.7/dist-packages (from scikit-learn->dtreeviz) (1.1.0)\n",
            "Building wheels for collected packages: dtreeviz\n",
            "  Building wheel for dtreeviz (setup.py) ... \u001b[?25l\u001b[?25hdone\n",
            "  Created wheel for dtreeviz: filename=dtreeviz-1.3.6-py3-none-any.whl size=67326 sha256=1d4f72292db0027dc4db28f6a0de2f613024fdc22ec598bf3057d52ed60051e3\n",
            "  Stored in directory: /root/.cache/pip/wheels/33/76/fe/99227ff871766e7284bb88d3d28e2f4886b8ec04d669033478\n",
            "Successfully built dtreeviz\n",
            "Installing collected packages: colour, dtreeviz\n",
            "Successfully installed colour-0.1.5 dtreeviz-1.3.6\n",
            "Updated property [core/project].\n",
            "Mounted at /content/gdrive\n"
          ]
        }
      ],
      "source": [
        "!pip install -Uqq fastbook\n",
        "!pip install dtreeviz\n",
        "!gcloud config set project {'hackathon-352519'}\n",
        "\n",
        "import os\n",
        "\n",
        "import IPython\n",
        "import IPython.display\n",
        "import matplotlib as mpl\n",
        "import matplotlib.pyplot as plt\n",
        "import numpy as np\n",
        "import fastbook as fastai\n",
        "import pandas as pd\n",
        "from pandas.io.json import json_normalize\n",
        "import seaborn as sns\n",
        "import tensorflow as tf\n",
        "import json\n",
        "import zipfile\n",
        "from io import BytesIO\n",
        "import torch\n",
        "import math\n",
        "from google.colab import files\n",
        "from google.colab import auth\n",
        "from datetime import datetime, timedelta\n",
        "\n",
        "fastai.setup_book()\n",
        "from fastai import tabular\n"
      ]
    },
    {
      "cell_type": "code",
      "source": [
        "from pandas.api.types import is_string_dtype, is_numeric_dtype, is_categorical_dtype\n",
        "from fastai.tabular.all import *\n",
        "from sklearn.ensemble import RandomForestRegressor\n",
        "from sklearn.tree import DecisionTreeRegressor\n",
        "from dtreeviz.trees import *\n",
        "from IPython.display import Image, display_svg, SVG\n",
        "\n",
        "pd.options.display.max_rows = 20\n",
        "pd.options.display.max_columns = 8"
      ],
      "metadata": {
        "id": "wAzfcrrIByux"
      },
      "execution_count": 2,
      "outputs": []
    },
    {
      "cell_type": "code",
      "source": [
        "auth.authenticate_user()"
      ],
      "metadata": {
        "id": "_wNuGIFQT0nZ"
      },
      "execution_count": 3,
      "outputs": []
    },
    {
      "cell_type": "code",
      "execution_count": 4,
      "metadata": {
        "id": "TpnuFITI6Tzu"
      },
      "outputs": [],
      "source": [
        "# !gcloud config set project {'hackathon-352519'}"
      ]
    },
    {
      "cell_type": "code",
      "source": [
        "filename = \"train-data_all-train-events.zip\""
      ],
      "metadata": {
        "id": "M3W7KKZc8f92"
      },
      "execution_count": 5,
      "outputs": []
    },
    {
      "cell_type": "code",
      "source": [
        "!gsutil cp gs://trains_data/$filename /tmp/."
      ],
      "metadata": {
        "colab": {
          "base_uri": "https://localhost:8080/"
        },
        "id": "srQJL7OKVRww",
        "outputId": "2380c9a1-1df0-4d47-b029-ebf562c2bed2"
      },
      "execution_count": 6,
      "outputs": [
        {
          "output_type": "stream",
          "name": "stdout",
          "text": [
            "Copying gs://trains_data/train-data_all-train-events.zip...\n",
            "/ [1 files][ 57.1 MiB/ 57.1 MiB]                                                \n",
            "Operation completed over 1 objects/57.1 MiB.                                     \n"
          ]
        }
      ]
    },
    {
      "cell_type": "code",
      "source": [
        "!gsutil del /tmp/$filename"
      ],
      "metadata": {
        "id": "ArLKme4t-Nyz",
        "outputId": "483176b6-6269-4a8f-8790-7564b41b3893",
        "colab": {
          "base_uri": "https://localhost:8080/"
        }
      },
      "execution_count": 9,
      "outputs": [
        {
          "output_type": "stream",
          "name": "stdout",
          "text": [
            "CommandException: \"rm\" command does not support \"file://\" URLs. Did you mean to use a gs:// URL?\n"
          ]
        }
      ]
    },
    {
      "cell_type": "code",
      "execution_count": 7,
      "metadata": {
        "id": "ckXLQ7eQ7E0c",
        "colab": {
          "base_uri": "https://localhost:8080/"
        },
        "outputId": "59afe693-a0a4-41e8-e02b-e75e2be6b800"
      },
      "outputs": [
        {
          "output_type": "stream",
          "name": "stdout",
          "text": [
            "1000   16:21:25\n",
            "2000   16:21:36\n",
            "3000   16:21:40\n",
            "4000   16:21:46\n",
            "5000   16:21:52\n",
            "6000   16:21:57\n",
            "7000   16:22:02\n",
            "8000   16:22:08\n",
            "9000   16:22:11\n",
            "10000   16:22:17\n"
          ]
        }
      ],
      "source": [
        "trains = {}\n",
        "i = 1\n",
        "prevLoco = ''\n",
        "with zipfile.ZipFile(\"/tmp/\"+filename, \"r\") as f:\n",
        "    for name in f.namelist():\n",
        "        if name.endswith('.json'):\n",
        "            with f.open(name) as zd:\n",
        "                data = json.load(zd)\n",
        "                lastTrainReporting = data['lastTrainReporting']\n",
        "                currentLoco = lastTrainReporting['ptcLeadLocomotiveId']\n",
        "                # prevLoco != currentLoco and \n",
        "                if (\"trainActualPositionList\" in lastTrainReporting and len(lastTrainReporting['trainActualPositionList']) > 0): \n",
        "                    trainActualPositionList = lastTrainReporting['trainActualPositionList']\n",
        "                    trains[i] = pd.json_normalize(lastTrainReporting)\n",
        "                    i = i + 1\n",
        "                    if (i % 1000 == 0):\n",
        "                      current_time = datetime.now().strftime(\"%H:%M:%S\")\n",
        "                      print(i, \" \", current_time)\n",
        "                    prevLoco = currentLoco\n",
        "                            "
      ]
    },
    {
      "cell_type": "code",
      "execution_count": null,
      "metadata": {
        "id": "lgWV768N7E0d"
      },
      "outputs": [],
      "source": [
        "dfTrainsAll = pd.concat(trains.values())\n",
        "dfTrainsAll[\"milepost\"] = dfTrainsAll.apply(lambda row: math.trunc(row['lastReportedPosition.milepostLocation.milepost.milepostNumber']), axis=1)"
      ]
    },
    {
      "cell_type": "code",
      "source": [
        "del trains"
      ],
      "metadata": {
        "id": "Q581UU9nCWZ1"
      },
      "execution_count": null,
      "outputs": []
    },
    {
      "cell_type": "code",
      "execution_count": null,
      "metadata": {
        "colab": {
          "base_uri": "https://localhost:8080/"
        },
        "id": "Idznxze77E0e",
        "outputId": "059ec77f-b6e5-4394-a4df-44b2520aad24"
      },
      "outputs": [
        {
          "output_type": "stream",
          "name": "stdout",
          "text": [
            "<class 'pandas.core.frame.DataFrame'>\n",
            "Int64Index: 10054 entries, 0 to 0\n",
            "Data columns (total 45 columns):\n",
            " #   Column                                                                     Non-Null Count  Dtype  \n",
            "---  ------                                                                     --------------  -----  \n",
            " 0   ptcLeadLocomotiveId                                                        10054 non-null  object \n",
            " 1   maximumTrainSpeed                                                          10053 non-null  float64\n",
            " 2   loadedCarCount                                                             10053 non-null  float64\n",
            " 3   emptyCarCount                                                              10053 non-null  float64\n",
            " 4   trainLength                                                                10053 non-null  float64\n",
            " 5   trailingTonnage                                                            10053 non-null  float64\n",
            " 6   positionHistoryList                                                        10054 non-null  object \n",
            " 7   locomotiveList                                                             10054 non-null  object \n",
            " 8   subdivisionList                                                            10054 non-null  object \n",
            " 9   trainEstimatedPositionList                                                 9623 non-null   object \n",
            " 10  trainActualPositionList                                                    10054 non-null  object \n",
            " 11  trainId.trainSCAC                                                          10054 non-null  object \n",
            " 12  trainId.trainSection                                                       10054 non-null  object \n",
            " 13  trainId.trainSymbol                                                        10054 non-null  object \n",
            " 14  trainId.trainDate                                                          10054 non-null  object \n",
            " 15  lastReportedPosition.positionTime                                          10054 non-null  object \n",
            " 16  lastReportedPosition.speedMPH                                              10054 non-null  int64  \n",
            " 17  lastReportedPosition.milepostLocation.subdivisionId                        10054 non-null  int64  \n",
            " 18  lastReportedPosition.milepostLocation.trackName                            10054 non-null  object \n",
            " 19  lastReportedPosition.milepostLocation.milepost.milepostNumber              10054 non-null  float64\n",
            " 20  aotuTrainData.priorityCode                                                 10054 non-null  int64  \n",
            " 21  aotuTrainData.categoryCode                                                 10054 non-null  int64  \n",
            " 22  aotuTrainData.authorityRangeCode                                           10054 non-null  int64  \n",
            " 23  aotuTrainData.ownershipCode                                                10054 non-null  int64  \n",
            " 24  aotuTrainData.tenantCarrier                                                10054 non-null  object \n",
            " 25  aotuTrainData.totalCarWeight                                               10054 non-null  float64\n",
            " 26  aotuTrainData.totalCarLength                                               10054 non-null  float64\n",
            " 27  aotuTrainData.totalLocomotiveWeight                                        10054 non-null  float64\n",
            " 28  aotuTrainData.totalLocomotiveLength                                        10054 non-null  float64\n",
            " 29  aotuTrainData.actualTonsPerAxle                                            10054 non-null  float64\n",
            " 30  aotuTrainData.heavy143TonCarCount                                          10054 non-null  int64  \n",
            " 31  aotuTrainData.heavy158TonCarCount                                          10054 non-null  int64  \n",
            " 32  aotuTrainData.over158TonCarCount                                           10054 non-null  int64  \n",
            " 33  aotuTrainData.highWideCarCount                                             10054 non-null  int64  \n",
            " 34  aotuTrainData.eventCode                                                    10054 non-null  int64  \n",
            " 35  aotuTrainData.routeLocationList                                            10054 non-null  object \n",
            " 36  lastReportedPosition.precedingSignalState.milepostLocation.milepostNumber  8017 non-null   float64\n",
            " 37  lastReportedPosition.precedingSignalState.previousSignalState              6280 non-null   float64\n",
            " 38  lastReportedPosition.precedingSignalState.currentStateTime                 6280 non-null   object \n",
            " 39  lastReportedPosition.precedingSignalState.signalState                      8017 non-null   float64\n",
            " 40  lastReportedPosition.nextSignalState.milepostLocation.milepostNumber       7996 non-null   float64\n",
            " 41  lastReportedPosition.nextSignalState.signalState                           7996 non-null   float64\n",
            " 42  lastReportedPosition.nextSignalState.previousSignalState                   3345 non-null   float64\n",
            " 43  lastReportedPosition.nextSignalState.currentStateTime                      3345 non-null   object \n",
            " 44  milepost                                                                   10054 non-null  int64  \n",
            "dtypes: float64(17), int64(12), object(16)\n",
            "memory usage: 3.5+ MB\n",
            "None\n",
            "(10054, 45)\n"
          ]
        }
      ],
      "source": [
        "print(dfTrainsAll.info())\n",
        "print(dfTrainsAll.shape)"
      ]
    },
    {
      "cell_type": "code",
      "source": [
        "dfTrainsLearn = dfTrainsAll\n",
        "dfTrainsLearn['lastReportedPosition.milepostLocation.trackName'] = dfTrainsLearn['lastReportedPosition.milepostLocation.trackName'].astype('category')\n",
        "dfTrainsLearn['lastReportedPosition.milepostLocation.trackName'] = dfTrainsLearn['lastReportedPosition.milepostLocation.trackName'].cat.set_categories(['WEST MAIN', 'MAIN', 'MT 2', 'MT 1', 'WESTXO', 'XO', 'EASTXO','YD LD', 'EAST MAIN', 'TO_N_EAST MAIN', 'TO_S_UP_MAINLINE', 'TO_S_CS JUNCTION', 'S_STARKS', 'TO_S_KCS UP PRT CONN', 'TO_N_LUCAS', 'S_LUCAS'])\n",
        "#dfTrainsLearn['lastReportedSpeedMPH'] = dfTrainsLearn.apply(lambda row: row['positionHistoryList'][0]['speedMPH'], axis=1)\n",
        "dfTrainsLearn['symbolType'] = dfTrainsLearn.apply(lambda row: row['trainId.trainSymbol'][:1], axis=1)\n",
        "dfTrainsLearn['symbolType'] = dfTrainsLearn['symbolType'].astype('category')\n",
        "dfTrainsLearn['symbolType'] = dfTrainsLearn['symbolType'].cat.set_categories(['M', 'I', 'Z', 'C', 'W', 'E', 'U'])\n"
      ],
      "metadata": {
        "id": "DParW0UUrZKv"
      },
      "execution_count": null,
      "outputs": []
    },
    {
      "cell_type": "code",
      "source": [
        "def getWorkLocations(dfTrainsLocation):\n",
        "  if len(dfTrainsLocation['aotuTrainData.routeLocationList']) == 0:\n",
        "    return None\n",
        "  aotuRoute=pd.json_normalize(dfTrainsLocation['aotuTrainData.routeLocationList']) \n",
        "  eventLocations = aotuRoute[aotuRoute['activityList'].map(len) > 1]\n",
        "  temp = eventLocations['milepost.milepostNumber'].unique()\n",
        "  if len(temp) == 0:\n",
        "    return None\n",
        "  return ','.join(['%.2f' % num for num in temp])"
      ],
      "metadata": {
        "id": "TsYgT41SKyAn"
      },
      "execution_count": null,
      "outputs": []
    },
    {
      "cell_type": "code",
      "source": [
        "#getWorkLocations(dfTrainsLearn.iloc[301])"
      ],
      "metadata": {
        "id": "PM-Q6r-A2JNS"
      },
      "execution_count": null,
      "outputs": []
    },
    {
      "cell_type": "code",
      "source": [
        "#dfTrainsLearn.loc[dfTrainsLearn['aotuTrainData.routeLocationList'].map(len)==0]"
      ],
      "metadata": {
        "id": "fK5apSV-R6NF"
      },
      "execution_count": null,
      "outputs": []
    },
    {
      "cell_type": "code",
      "source": [
        "dfTrainsLearn['workLocations'] = dfTrainsLearn.apply(lambda row: getWorkLocations(row), axis=1)"
      ],
      "metadata": {
        "id": "5sNuNU-iSgFy"
      },
      "execution_count": null,
      "outputs": []
    },
    {
      "cell_type": "code",
      "source": [
        "dfTrainsLearn['workLocations'].unique()"
      ],
      "metadata": {
        "colab": {
          "base_uri": "https://localhost:8080/"
        },
        "id": "jA6cNsHR8VSr",
        "outputId": "cc8234f0-5728-4035-93b1-2c9c4627dda1"
      },
      "execution_count": null,
      "outputs": [
        {
          "output_type": "execute_result",
          "data": {
            "text/plain": [
              "array([None, '202.20', '258.40,202.20', '202.20,258.40', '202.20,258.40,321.50', '202.92,202.20', '225.10,202.20', '240.90,202.20'], dtype=object)"
            ]
          },
          "metadata": {},
          "execution_count": 16
        }
      ]
    },
    {
      "cell_type": "markdown",
      "source": [
        "We can make this more clever later, but for now this seems the most sensible shortcut"
      ],
      "metadata": {
        "id": "-AZiJPI24QO9"
      }
    },
    {
      "cell_type": "code",
      "source": [
        "dfTrainsLearn['locomotiveCount'] = dfTrainsLearn.apply(lambda row: len(row['locomotiveList']),axis = 1)"
      ],
      "metadata": {
        "id": "LuG8-GNBzwrF"
      },
      "execution_count": null,
      "outputs": []
    },
    {
      "cell_type": "code",
      "source": [
        "dfTrainsLearnActuals = dfTrainsLearn.apply(lambda row: pd.json_normalize(row['trainActualPositionList']), axis=1)"
      ],
      "metadata": {
        "id": "Ag-KbEfz4Is8"
      },
      "execution_count": null,
      "outputs": []
    },
    {
      "cell_type": "code",
      "source": [
        "dfTrainsLearnActuals.iloc[1]"
      ],
      "metadata": {
        "colab": {
          "base_uri": "https://localhost:8080/",
          "height": 206
        },
        "id": "r_gdrmU4IgpY",
        "outputId": "0e477009-1699-4ae0-9910-77f1b02f9e0e"
      },
      "execution_count": null,
      "outputs": [
        {
          "output_type": "execute_result",
          "data": {
            "text/plain": [
              "           positionTime  speedMPH  milepostLocation.subdivisionId  \\\n",
              "0  2022-04-21T23:34:11Z       -10                             106   \n",
              "1  2022-04-21T23:36:11Z       -10                             106   \n",
              "2  2022-04-21T23:38:11Z        -9                             106   \n",
              "3  2022-04-21T23:40:11Z        -8                             106   \n",
              "4  2022-04-21T23:42:11Z        -9                             106   \n",
              "\n",
              "  milepostLocation.trackName  milepostLocation.milepost.milepostNumber  \n",
              "0                  WEST MAIN                                 766.36030  \n",
              "1                       MAIN                                 766.01776  \n",
              "2                       MAIN                                 765.68665  \n",
              "3                       MAIN                                 765.38310  \n",
              "4                       MAIN                                 765.07520  "
            ],
            "text/html": [
              "\n",
              "  <div id=\"df-446f6d0c-a2f1-4721-8f8d-cca7f1e42dd9\">\n",
              "    <div class=\"colab-df-container\">\n",
              "      <div>\n",
              "<style scoped>\n",
              "    .dataframe tbody tr th:only-of-type {\n",
              "        vertical-align: middle;\n",
              "    }\n",
              "\n",
              "    .dataframe tbody tr th {\n",
              "        vertical-align: top;\n",
              "    }\n",
              "\n",
              "    .dataframe thead th {\n",
              "        text-align: right;\n",
              "    }\n",
              "</style>\n",
              "<table border=\"1\" class=\"dataframe\">\n",
              "  <thead>\n",
              "    <tr style=\"text-align: right;\">\n",
              "      <th></th>\n",
              "      <th>positionTime</th>\n",
              "      <th>speedMPH</th>\n",
              "      <th>milepostLocation.subdivisionId</th>\n",
              "      <th>milepostLocation.trackName</th>\n",
              "      <th>milepostLocation.milepost.milepostNumber</th>\n",
              "    </tr>\n",
              "  </thead>\n",
              "  <tbody>\n",
              "    <tr>\n",
              "      <th>0</th>\n",
              "      <td>2022-04-21T23:34:11Z</td>\n",
              "      <td>-10</td>\n",
              "      <td>106</td>\n",
              "      <td>WEST MAIN</td>\n",
              "      <td>766.36030</td>\n",
              "    </tr>\n",
              "    <tr>\n",
              "      <th>1</th>\n",
              "      <td>2022-04-21T23:36:11Z</td>\n",
              "      <td>-10</td>\n",
              "      <td>106</td>\n",
              "      <td>MAIN</td>\n",
              "      <td>766.01776</td>\n",
              "    </tr>\n",
              "    <tr>\n",
              "      <th>2</th>\n",
              "      <td>2022-04-21T23:38:11Z</td>\n",
              "      <td>-9</td>\n",
              "      <td>106</td>\n",
              "      <td>MAIN</td>\n",
              "      <td>765.68665</td>\n",
              "    </tr>\n",
              "    <tr>\n",
              "      <th>3</th>\n",
              "      <td>2022-04-21T23:40:11Z</td>\n",
              "      <td>-8</td>\n",
              "      <td>106</td>\n",
              "      <td>MAIN</td>\n",
              "      <td>765.38310</td>\n",
              "    </tr>\n",
              "    <tr>\n",
              "      <th>4</th>\n",
              "      <td>2022-04-21T23:42:11Z</td>\n",
              "      <td>-9</td>\n",
              "      <td>106</td>\n",
              "      <td>MAIN</td>\n",
              "      <td>765.07520</td>\n",
              "    </tr>\n",
              "  </tbody>\n",
              "</table>\n",
              "</div>\n",
              "      <button class=\"colab-df-convert\" onclick=\"convertToInteractive('df-446f6d0c-a2f1-4721-8f8d-cca7f1e42dd9')\"\n",
              "              title=\"Convert this dataframe to an interactive table.\"\n",
              "              style=\"display:none;\">\n",
              "        \n",
              "  <svg xmlns=\"http://www.w3.org/2000/svg\" height=\"24px\"viewBox=\"0 0 24 24\"\n",
              "       width=\"24px\">\n",
              "    <path d=\"M0 0h24v24H0V0z\" fill=\"none\"/>\n",
              "    <path d=\"M18.56 5.44l.94 2.06.94-2.06 2.06-.94-2.06-.94-.94-2.06-.94 2.06-2.06.94zm-11 1L8.5 8.5l.94-2.06 2.06-.94-2.06-.94L8.5 2.5l-.94 2.06-2.06.94zm10 10l.94 2.06.94-2.06 2.06-.94-2.06-.94-.94-2.06-.94 2.06-2.06.94z\"/><path d=\"M17.41 7.96l-1.37-1.37c-.4-.4-.92-.59-1.43-.59-.52 0-1.04.2-1.43.59L10.3 9.45l-7.72 7.72c-.78.78-.78 2.05 0 2.83L4 21.41c.39.39.9.59 1.41.59.51 0 1.02-.2 1.41-.59l7.78-7.78 2.81-2.81c.8-.78.8-2.07 0-2.86zM5.41 20L4 18.59l7.72-7.72 1.47 1.35L5.41 20z\"/>\n",
              "  </svg>\n",
              "      </button>\n",
              "      \n",
              "  <style>\n",
              "    .colab-df-container {\n",
              "      display:flex;\n",
              "      flex-wrap:wrap;\n",
              "      gap: 12px;\n",
              "    }\n",
              "\n",
              "    .colab-df-convert {\n",
              "      background-color: #E8F0FE;\n",
              "      border: none;\n",
              "      border-radius: 50%;\n",
              "      cursor: pointer;\n",
              "      display: none;\n",
              "      fill: #1967D2;\n",
              "      height: 32px;\n",
              "      padding: 0 0 0 0;\n",
              "      width: 32px;\n",
              "    }\n",
              "\n",
              "    .colab-df-convert:hover {\n",
              "      background-color: #E2EBFA;\n",
              "      box-shadow: 0px 1px 2px rgba(60, 64, 67, 0.3), 0px 1px 3px 1px rgba(60, 64, 67, 0.15);\n",
              "      fill: #174EA6;\n",
              "    }\n",
              "\n",
              "    [theme=dark] .colab-df-convert {\n",
              "      background-color: #3B4455;\n",
              "      fill: #D2E3FC;\n",
              "    }\n",
              "\n",
              "    [theme=dark] .colab-df-convert:hover {\n",
              "      background-color: #434B5C;\n",
              "      box-shadow: 0px 1px 3px 1px rgba(0, 0, 0, 0.15);\n",
              "      filter: drop-shadow(0px 1px 2px rgba(0, 0, 0, 0.3));\n",
              "      fill: #FFFFFF;\n",
              "    }\n",
              "  </style>\n",
              "\n",
              "      <script>\n",
              "        const buttonEl =\n",
              "          document.querySelector('#df-446f6d0c-a2f1-4721-8f8d-cca7f1e42dd9 button.colab-df-convert');\n",
              "        buttonEl.style.display =\n",
              "          google.colab.kernel.accessAllowed ? 'block' : 'none';\n",
              "\n",
              "        async function convertToInteractive(key) {\n",
              "          const element = document.querySelector('#df-446f6d0c-a2f1-4721-8f8d-cca7f1e42dd9');\n",
              "          const dataTable =\n",
              "            await google.colab.kernel.invokeFunction('convertToInteractive',\n",
              "                                                     [key], {});\n",
              "          if (!dataTable) return;\n",
              "\n",
              "          const docLinkHtml = 'Like what you see? Visit the ' +\n",
              "            '<a target=\"_blank\" href=https://colab.research.google.com/notebooks/data_table.ipynb>data table notebook</a>'\n",
              "            + ' to learn more about interactive tables.';\n",
              "          element.innerHTML = '';\n",
              "          dataTable['output_type'] = 'display_data';\n",
              "          await google.colab.output.renderOutput(dataTable, element);\n",
              "          const docLink = document.createElement('div');\n",
              "          docLink.innerHTML = docLinkHtml;\n",
              "          element.appendChild(docLink);\n",
              "        }\n",
              "      </script>\n",
              "    </div>\n",
              "  </div>\n",
              "  "
            ]
          },
          "metadata": {},
          "execution_count": 19
        }
      ]
    },
    {
      "cell_type": "code",
      "source": [
        "dfTrainsLearn = dfTrainsLearn.reset_index(drop=True)"
      ],
      "metadata": {
        "id": "Kw_c3Ddj4zN4"
      },
      "execution_count": null,
      "outputs": []
    },
    {
      "cell_type": "code",
      "source": [
        "def findNextSpeed(trainsEntry, actualsEntry):\n",
        "  milepost = trainsEntry['lastReportedPosition.milepostLocation.milepost.milepostNumber']\n",
        "  #print(milepost)\n",
        "  value  = actualsEntry.loc[actualsEntry['milepostLocation.milepost.milepostNumber'] > milepost+1]\n",
        "  if (len(value) > 0):\n",
        "    return (value.min()['speedMPH'] - trainsEntry['lastReportedPosition.speedMPH'])\n",
        "  value  = actualsEntry.loc[actualsEntry['milepostLocation.milepost.milepostNumber'] < milepost-1]\n",
        "  if (len(value) > 0):\n",
        "    return (value.max()['speedMPH'] - trainsEntry['lastReportedPosition.speedMPH'])\n",
        "  return None"
      ],
      "metadata": {
        "id": "i_JszmqL0MR6"
      },
      "execution_count": null,
      "outputs": []
    },
    {
      "cell_type": "code",
      "source": [
        "dfTrainsLearn['nextSpeed'] = dfTrainsLearn['lastReportedPosition.speedMPH']\n",
        "i = 0;\n",
        "for index, trainsEntry in dfTrainsLearn.iterrows():\n",
        "  actualsEntry = dfTrainsLearnActuals.iloc[i]\n",
        "  nextSpeed = findNextSpeed(trainsEntry, actualsEntry)\n",
        "  if (nextSpeed != None):\n",
        "    dfTrainsLearn.at[i,'nextSpeed'] = nextSpeed\n",
        "  if (i % 1000 == 0):\n",
        "    print(i)\n",
        "  i = i + 1"
      ],
      "metadata": {
        "colab": {
          "base_uri": "https://localhost:8080/"
        },
        "id": "fG2U-anX-jbt",
        "outputId": "38269306-3bd7-4d8f-a7c9-a75939636011"
      },
      "execution_count": null,
      "outputs": [
        {
          "output_type": "stream",
          "name": "stdout",
          "text": [
            "0\n"
          ]
        },
        {
          "output_type": "stream",
          "name": "stderr",
          "text": [
            "/usr/local/lib/python3.7/dist-packages/ipykernel_launcher.py:6: FutureWarning: Dropping of nuisance columns in DataFrame reductions (with 'numeric_only=None') is deprecated; in a future version this will raise TypeError.  Select only valid columns before calling the reduction.\n",
            "  \n",
            "/usr/local/lib/python3.7/dist-packages/ipykernel_launcher.py:9: FutureWarning: Dropping of nuisance columns in DataFrame reductions (with 'numeric_only=None') is deprecated; in a future version this will raise TypeError.  Select only valid columns before calling the reduction.\n",
            "  if __name__ == '__main__':\n"
          ]
        },
        {
          "output_type": "stream",
          "name": "stdout",
          "text": [
            "1000\n",
            "2000\n",
            "3000\n",
            "4000\n",
            "5000\n",
            "6000\n",
            "7000\n",
            "8000\n",
            "9000\n",
            "10000\n"
          ]
        }
      ]
    },
    {
      "cell_type": "code",
      "source": [
        "# dfTrainsLearn = dfTrainsLearn.drop(['hour'], axis=1)\n",
        "dfTrainsLearn['nextSpeed'].unique()"
      ],
      "metadata": {
        "colab": {
          "base_uri": "https://localhost:8080/"
        },
        "id": "BpeBp1Jfu-Hj",
        "outputId": "82a3d5f5-1a86-4e9b-a775-4e1b2747f118"
      },
      "execution_count": null,
      "outputs": [
        {
          "output_type": "execute_result",
          "data": {
            "text/plain": [
              "array([  4,   3,   2,   1, -10,  -8,  56,  58,  55,  43,  29,  34,   0,  12,  22,  28,  27,  65,  68,  70,  67,  64,  71,  69,  62,  59,  61,  66,  48,  50,  53,  60,  52,  47,  46,  38,  37,  51,\n",
              "       -26, -24, -31, -36, -37, -16,  -4, -13,   6,  -1,   7,  16,   8,  24,   9,  14,  17,  11,  21,  -2, -14, -25, -22, -23, -32, -33, -30, -17,  -3,  -5, -29, -28, -27,  -9, -12, -11, -21, -18,\n",
              "       -15, -20, -19,  36,  40,  41,  45,  44,  57,  49,  39,  63,  54, -39,  10,  25,  26,  23,  19,  30,  20,  18,  15,  -6, -34, -52, -51, -50, -45, -44, -41, -38, -56, -58, -54, -53, -48, -42,\n",
              "       -43, -46, -35, -40, -49, -55,  -7,  13,  35,  33,  31,  42,   5,  32, -47, -57, -59, -61])"
            ]
          },
          "metadata": {},
          "execution_count": 23
        }
      ]
    },
    {
      "cell_type": "markdown",
      "source": [
        "Drop some values we are not using at the moment not needed"
      ],
      "metadata": {
        "id": "moXjNcMQu-3C"
      }
    },
    {
      "cell_type": "code",
      "source": [
        "dfTrainsLearn = dfTrainsLearn.drop(columns=['aotuTrainData.tenantCarrier',\n",
        "                                            'lastReportedPosition.precedingSignalState.currentStateTime', \n",
        "                                            'lastReportedPosition.nextSignalState.previousSignalState', \n",
        "                                            'lastReportedPosition.nextSignalState.currentStateTime', \n",
        "                                            'positionHistoryList',\n",
        "                                            'locomotiveList',\n",
        "                                            'subdivisionList',\n",
        "                                            'trainActualPositionList',\n",
        "                                            'trainEstimatedPositionList',\n",
        "                                            'aotuTrainData.routeLocationList'])"
      ],
      "metadata": {
        "id": "hBmsqv6IuVVO"
      },
      "execution_count": null,
      "outputs": []
    },
    {
      "cell_type": "code",
      "source": [
        "tabular.core.make_date(dfTrainsLearn, 'trainId.trainDate')\n",
        "tabular.core.make_date(dfTrainsLearn, 'lastReportedPosition.positionTime')\n",
        "tabular.core.add_datepart(dfTrainsLearn, 'lastReportedPosition.positionTime')\n",
        "# tabular.core.add_elapsed_times(dfTrainsLearn, 'lastReportedPosition.positionTime')\n"
      ],
      "metadata": {
        "colab": {
          "base_uri": "https://localhost:8080/",
          "height": 488
        },
        "id": "DjTAxScsbHCN",
        "outputId": "60c5c4ff-20f9-4411-defe-b4501e2e01eb"
      },
      "execution_count": null,
      "outputs": [
        {
          "output_type": "execute_result",
          "data": {
            "text/plain": [
              "      ptcLeadLocomotiveId  maximumTrainSpeed  loadedCarCount  emptyCarCount  \\\n",
              "0                  UP2010               50.0            61.0           92.0   \n",
              "1                  UP2010               50.0            61.0           92.0   \n",
              "2                  UP2010               50.0            61.0           92.0   \n",
              "3                  UP2010               50.0            61.0           92.0   \n",
              "4                  UP2010               50.0            61.0           92.0   \n",
              "...                   ...                ...             ...            ...   \n",
              "10049              UP6459               40.0           105.0           91.0   \n",
              "10050              UP6459               40.0           105.0           91.0   \n",
              "10051              UP6459               40.0           105.0           91.0   \n",
              "10052              UP6459               40.0           105.0           91.0   \n",
              "10053              UP6459               40.0           105.0           91.0   \n",
              "\n",
              "       ...  lastReportedPosition.positionTimeIs_quarter_start  \\\n",
              "0      ...                                              False   \n",
              "1      ...                                              False   \n",
              "2      ...                                              False   \n",
              "3      ...                                              False   \n",
              "4      ...                                              False   \n",
              "...    ...                                                ...   \n",
              "10049  ...                                              False   \n",
              "10050  ...                                              False   \n",
              "10051  ...                                              False   \n",
              "10052  ...                                              False   \n",
              "10053  ...                                              False   \n",
              "\n",
              "       lastReportedPosition.positionTimeIs_year_end  \\\n",
              "0                                             False   \n",
              "1                                             False   \n",
              "2                                             False   \n",
              "3                                             False   \n",
              "4                                             False   \n",
              "...                                             ...   \n",
              "10049                                         False   \n",
              "10050                                         False   \n",
              "10051                                         False   \n",
              "10052                                         False   \n",
              "10053                                         False   \n",
              "\n",
              "      lastReportedPosition.positionTimeIs_year_start  \\\n",
              "0                                              False   \n",
              "1                                              False   \n",
              "2                                              False   \n",
              "3                                              False   \n",
              "4                                              False   \n",
              "...                                              ...   \n",
              "10049                                          False   \n",
              "10050                                          False   \n",
              "10051                                          False   \n",
              "10052                                          False   \n",
              "10053                                          False   \n",
              "\n",
              "      lastReportedPosition.positionTimeElapsed  \n",
              "0                                 1.650584e+09  \n",
              "1                                 1.650584e+09  \n",
              "2                                 1.650584e+09  \n",
              "3                                 1.650584e+09  \n",
              "4                                 1.650584e+09  \n",
              "...                                        ...  \n",
              "10049                             1.649637e+09  \n",
              "10050                             1.649637e+09  \n",
              "10051                             1.649637e+09  \n",
              "10052                             1.649637e+09  \n",
              "10053                             1.649638e+09  \n",
              "\n",
              "[10054 rows x 51 columns]"
            ],
            "text/html": [
              "\n",
              "  <div id=\"df-bdfcf6a7-3ac3-4062-8247-8f593a2b15c8\">\n",
              "    <div class=\"colab-df-container\">\n",
              "      <div>\n",
              "<style scoped>\n",
              "    .dataframe tbody tr th:only-of-type {\n",
              "        vertical-align: middle;\n",
              "    }\n",
              "\n",
              "    .dataframe tbody tr th {\n",
              "        vertical-align: top;\n",
              "    }\n",
              "\n",
              "    .dataframe thead th {\n",
              "        text-align: right;\n",
              "    }\n",
              "</style>\n",
              "<table border=\"1\" class=\"dataframe\">\n",
              "  <thead>\n",
              "    <tr style=\"text-align: right;\">\n",
              "      <th></th>\n",
              "      <th>ptcLeadLocomotiveId</th>\n",
              "      <th>maximumTrainSpeed</th>\n",
              "      <th>loadedCarCount</th>\n",
              "      <th>emptyCarCount</th>\n",
              "      <th>...</th>\n",
              "      <th>lastReportedPosition.positionTimeIs_quarter_start</th>\n",
              "      <th>lastReportedPosition.positionTimeIs_year_end</th>\n",
              "      <th>lastReportedPosition.positionTimeIs_year_start</th>\n",
              "      <th>lastReportedPosition.positionTimeElapsed</th>\n",
              "    </tr>\n",
              "  </thead>\n",
              "  <tbody>\n",
              "    <tr>\n",
              "      <th>0</th>\n",
              "      <td>UP2010</td>\n",
              "      <td>50.0</td>\n",
              "      <td>61.0</td>\n",
              "      <td>92.0</td>\n",
              "      <td>...</td>\n",
              "      <td>False</td>\n",
              "      <td>False</td>\n",
              "      <td>False</td>\n",
              "      <td>1.650584e+09</td>\n",
              "    </tr>\n",
              "    <tr>\n",
              "      <th>1</th>\n",
              "      <td>UP2010</td>\n",
              "      <td>50.0</td>\n",
              "      <td>61.0</td>\n",
              "      <td>92.0</td>\n",
              "      <td>...</td>\n",
              "      <td>False</td>\n",
              "      <td>False</td>\n",
              "      <td>False</td>\n",
              "      <td>1.650584e+09</td>\n",
              "    </tr>\n",
              "    <tr>\n",
              "      <th>2</th>\n",
              "      <td>UP2010</td>\n",
              "      <td>50.0</td>\n",
              "      <td>61.0</td>\n",
              "      <td>92.0</td>\n",
              "      <td>...</td>\n",
              "      <td>False</td>\n",
              "      <td>False</td>\n",
              "      <td>False</td>\n",
              "      <td>1.650584e+09</td>\n",
              "    </tr>\n",
              "    <tr>\n",
              "      <th>3</th>\n",
              "      <td>UP2010</td>\n",
              "      <td>50.0</td>\n",
              "      <td>61.0</td>\n",
              "      <td>92.0</td>\n",
              "      <td>...</td>\n",
              "      <td>False</td>\n",
              "      <td>False</td>\n",
              "      <td>False</td>\n",
              "      <td>1.650584e+09</td>\n",
              "    </tr>\n",
              "    <tr>\n",
              "      <th>4</th>\n",
              "      <td>UP2010</td>\n",
              "      <td>50.0</td>\n",
              "      <td>61.0</td>\n",
              "      <td>92.0</td>\n",
              "      <td>...</td>\n",
              "      <td>False</td>\n",
              "      <td>False</td>\n",
              "      <td>False</td>\n",
              "      <td>1.650584e+09</td>\n",
              "    </tr>\n",
              "    <tr>\n",
              "      <th>...</th>\n",
              "      <td>...</td>\n",
              "      <td>...</td>\n",
              "      <td>...</td>\n",
              "      <td>...</td>\n",
              "      <td>...</td>\n",
              "      <td>...</td>\n",
              "      <td>...</td>\n",
              "      <td>...</td>\n",
              "      <td>...</td>\n",
              "    </tr>\n",
              "    <tr>\n",
              "      <th>10049</th>\n",
              "      <td>UP6459</td>\n",
              "      <td>40.0</td>\n",
              "      <td>105.0</td>\n",
              "      <td>91.0</td>\n",
              "      <td>...</td>\n",
              "      <td>False</td>\n",
              "      <td>False</td>\n",
              "      <td>False</td>\n",
              "      <td>1.649637e+09</td>\n",
              "    </tr>\n",
              "    <tr>\n",
              "      <th>10050</th>\n",
              "      <td>UP6459</td>\n",
              "      <td>40.0</td>\n",
              "      <td>105.0</td>\n",
              "      <td>91.0</td>\n",
              "      <td>...</td>\n",
              "      <td>False</td>\n",
              "      <td>False</td>\n",
              "      <td>False</td>\n",
              "      <td>1.649637e+09</td>\n",
              "    </tr>\n",
              "    <tr>\n",
              "      <th>10051</th>\n",
              "      <td>UP6459</td>\n",
              "      <td>40.0</td>\n",
              "      <td>105.0</td>\n",
              "      <td>91.0</td>\n",
              "      <td>...</td>\n",
              "      <td>False</td>\n",
              "      <td>False</td>\n",
              "      <td>False</td>\n",
              "      <td>1.649637e+09</td>\n",
              "    </tr>\n",
              "    <tr>\n",
              "      <th>10052</th>\n",
              "      <td>UP6459</td>\n",
              "      <td>40.0</td>\n",
              "      <td>105.0</td>\n",
              "      <td>91.0</td>\n",
              "      <td>...</td>\n",
              "      <td>False</td>\n",
              "      <td>False</td>\n",
              "      <td>False</td>\n",
              "      <td>1.649637e+09</td>\n",
              "    </tr>\n",
              "    <tr>\n",
              "      <th>10053</th>\n",
              "      <td>UP6459</td>\n",
              "      <td>40.0</td>\n",
              "      <td>105.0</td>\n",
              "      <td>91.0</td>\n",
              "      <td>...</td>\n",
              "      <td>False</td>\n",
              "      <td>False</td>\n",
              "      <td>False</td>\n",
              "      <td>1.649638e+09</td>\n",
              "    </tr>\n",
              "  </tbody>\n",
              "</table>\n",
              "<p>10054 rows × 51 columns</p>\n",
              "</div>\n",
              "      <button class=\"colab-df-convert\" onclick=\"convertToInteractive('df-bdfcf6a7-3ac3-4062-8247-8f593a2b15c8')\"\n",
              "              title=\"Convert this dataframe to an interactive table.\"\n",
              "              style=\"display:none;\">\n",
              "        \n",
              "  <svg xmlns=\"http://www.w3.org/2000/svg\" height=\"24px\"viewBox=\"0 0 24 24\"\n",
              "       width=\"24px\">\n",
              "    <path d=\"M0 0h24v24H0V0z\" fill=\"none\"/>\n",
              "    <path d=\"M18.56 5.44l.94 2.06.94-2.06 2.06-.94-2.06-.94-.94-2.06-.94 2.06-2.06.94zm-11 1L8.5 8.5l.94-2.06 2.06-.94-2.06-.94L8.5 2.5l-.94 2.06-2.06.94zm10 10l.94 2.06.94-2.06 2.06-.94-2.06-.94-.94-2.06-.94 2.06-2.06.94z\"/><path d=\"M17.41 7.96l-1.37-1.37c-.4-.4-.92-.59-1.43-.59-.52 0-1.04.2-1.43.59L10.3 9.45l-7.72 7.72c-.78.78-.78 2.05 0 2.83L4 21.41c.39.39.9.59 1.41.59.51 0 1.02-.2 1.41-.59l7.78-7.78 2.81-2.81c.8-.78.8-2.07 0-2.86zM5.41 20L4 18.59l7.72-7.72 1.47 1.35L5.41 20z\"/>\n",
              "  </svg>\n",
              "      </button>\n",
              "      \n",
              "  <style>\n",
              "    .colab-df-container {\n",
              "      display:flex;\n",
              "      flex-wrap:wrap;\n",
              "      gap: 12px;\n",
              "    }\n",
              "\n",
              "    .colab-df-convert {\n",
              "      background-color: #E8F0FE;\n",
              "      border: none;\n",
              "      border-radius: 50%;\n",
              "      cursor: pointer;\n",
              "      display: none;\n",
              "      fill: #1967D2;\n",
              "      height: 32px;\n",
              "      padding: 0 0 0 0;\n",
              "      width: 32px;\n",
              "    }\n",
              "\n",
              "    .colab-df-convert:hover {\n",
              "      background-color: #E2EBFA;\n",
              "      box-shadow: 0px 1px 2px rgba(60, 64, 67, 0.3), 0px 1px 3px 1px rgba(60, 64, 67, 0.15);\n",
              "      fill: #174EA6;\n",
              "    }\n",
              "\n",
              "    [theme=dark] .colab-df-convert {\n",
              "      background-color: #3B4455;\n",
              "      fill: #D2E3FC;\n",
              "    }\n",
              "\n",
              "    [theme=dark] .colab-df-convert:hover {\n",
              "      background-color: #434B5C;\n",
              "      box-shadow: 0px 1px 3px 1px rgba(0, 0, 0, 0.15);\n",
              "      filter: drop-shadow(0px 1px 2px rgba(0, 0, 0, 0.3));\n",
              "      fill: #FFFFFF;\n",
              "    }\n",
              "  </style>\n",
              "\n",
              "      <script>\n",
              "        const buttonEl =\n",
              "          document.querySelector('#df-bdfcf6a7-3ac3-4062-8247-8f593a2b15c8 button.colab-df-convert');\n",
              "        buttonEl.style.display =\n",
              "          google.colab.kernel.accessAllowed ? 'block' : 'none';\n",
              "\n",
              "        async function convertToInteractive(key) {\n",
              "          const element = document.querySelector('#df-bdfcf6a7-3ac3-4062-8247-8f593a2b15c8');\n",
              "          const dataTable =\n",
              "            await google.colab.kernel.invokeFunction('convertToInteractive',\n",
              "                                                     [key], {});\n",
              "          if (!dataTable) return;\n",
              "\n",
              "          const docLinkHtml = 'Like what you see? Visit the ' +\n",
              "            '<a target=\"_blank\" href=https://colab.research.google.com/notebooks/data_table.ipynb>data table notebook</a>'\n",
              "            + ' to learn more about interactive tables.';\n",
              "          element.innerHTML = '';\n",
              "          dataTable['output_type'] = 'display_data';\n",
              "          await google.colab.output.renderOutput(dataTable, element);\n",
              "          const docLink = document.createElement('div');\n",
              "          docLink.innerHTML = docLinkHtml;\n",
              "          element.appendChild(docLink);\n",
              "        }\n",
              "      </script>\n",
              "    </div>\n",
              "  </div>\n",
              "  "
            ]
          },
          "metadata": {},
          "execution_count": 25
        }
      ]
    },
    {
      "cell_type": "code",
      "source": [
        "print(dfTrainsLearn.shape)\n",
        "print(dfTrainsLearnActuals.shape)\n",
        "\n",
        "print(dfTrainsLearn.info())\n",
        "print(dfTrainsLearn.iloc[100])"
      ],
      "metadata": {
        "colab": {
          "base_uri": "https://localhost:8080/"
        },
        "id": "jTVXPBSQ2gp3",
        "outputId": "6ecb981f-7a61-46a8-dc16-7ea86de0d831"
      },
      "execution_count": null,
      "outputs": [
        {
          "output_type": "stream",
          "name": "stdout",
          "text": [
            "(10054, 51)\n",
            "(10054,)\n",
            "<class 'pandas.core.frame.DataFrame'>\n",
            "RangeIndex: 10054 entries, 0 to 10053\n",
            "Data columns (total 51 columns):\n",
            " #   Column                                                                     Non-Null Count  Dtype         \n",
            "---  ------                                                                     --------------  -----         \n",
            " 0   ptcLeadLocomotiveId                                                        10054 non-null  object        \n",
            " 1   maximumTrainSpeed                                                          10053 non-null  float64       \n",
            " 2   loadedCarCount                                                             10053 non-null  float64       \n",
            " 3   emptyCarCount                                                              10053 non-null  float64       \n",
            " 4   trainLength                                                                10053 non-null  float64       \n",
            " 5   trailingTonnage                                                            10053 non-null  float64       \n",
            " 6   trainId.trainSCAC                                                          10054 non-null  object        \n",
            " 7   trainId.trainSection                                                       10054 non-null  object        \n",
            " 8   trainId.trainSymbol                                                        10054 non-null  object        \n",
            " 9   trainId.trainDate                                                          10054 non-null  datetime64[ns]\n",
            " 10  lastReportedPosition.speedMPH                                              10054 non-null  int64         \n",
            " 11  lastReportedPosition.milepostLocation.subdivisionId                        10054 non-null  int64         \n",
            " 12  lastReportedPosition.milepostLocation.trackName                            10004 non-null  category      \n",
            " 13  lastReportedPosition.milepostLocation.milepost.milepostNumber              10054 non-null  float64       \n",
            " 14  aotuTrainData.priorityCode                                                 10054 non-null  int64         \n",
            " 15  aotuTrainData.categoryCode                                                 10054 non-null  int64         \n",
            " 16  aotuTrainData.authorityRangeCode                                           10054 non-null  int64         \n",
            " 17  aotuTrainData.ownershipCode                                                10054 non-null  int64         \n",
            " 18  aotuTrainData.totalCarWeight                                               10054 non-null  float64       \n",
            " 19  aotuTrainData.totalCarLength                                               10054 non-null  float64       \n",
            " 20  aotuTrainData.totalLocomotiveWeight                                        10054 non-null  float64       \n",
            " 21  aotuTrainData.totalLocomotiveLength                                        10054 non-null  float64       \n",
            " 22  aotuTrainData.actualTonsPerAxle                                            10054 non-null  float64       \n",
            " 23  aotuTrainData.heavy143TonCarCount                                          10054 non-null  int64         \n",
            " 24  aotuTrainData.heavy158TonCarCount                                          10054 non-null  int64         \n",
            " 25  aotuTrainData.over158TonCarCount                                           10054 non-null  int64         \n",
            " 26  aotuTrainData.highWideCarCount                                             10054 non-null  int64         \n",
            " 27  aotuTrainData.eventCode                                                    10054 non-null  int64         \n",
            " 28  lastReportedPosition.precedingSignalState.milepostLocation.milepostNumber  8017 non-null   float64       \n",
            " 29  lastReportedPosition.precedingSignalState.previousSignalState              6280 non-null   float64       \n",
            " 30  lastReportedPosition.precedingSignalState.signalState                      8017 non-null   float64       \n",
            " 31  lastReportedPosition.nextSignalState.milepostLocation.milepostNumber       7996 non-null   float64       \n",
            " 32  lastReportedPosition.nextSignalState.signalState                           7996 non-null   float64       \n",
            " 33  milepost                                                                   10054 non-null  int64         \n",
            " 34  symbolType                                                                 9684 non-null   category      \n",
            " 35  workLocations                                                              8555 non-null   object        \n",
            " 36  locomotiveCount                                                            10054 non-null  int64         \n",
            " 37  nextSpeed                                                                  10054 non-null  int64         \n",
            " 38  lastReportedPosition.positionTimeYear                                      10054 non-null  int64         \n",
            " 39  lastReportedPosition.positionTimeMonth                                     10054 non-null  int64         \n",
            " 40  lastReportedPosition.positionTimeWeek                                      10054 non-null  int64         \n",
            " 41  lastReportedPosition.positionTimeDay                                       10054 non-null  int64         \n",
            " 42  lastReportedPosition.positionTimeDayofweek                                 10054 non-null  int64         \n",
            " 43  lastReportedPosition.positionTimeDayofyear                                 10054 non-null  int64         \n",
            " 44  lastReportedPosition.positionTimeIs_month_end                              10054 non-null  bool          \n",
            " 45  lastReportedPosition.positionTimeIs_month_start                            10054 non-null  bool          \n",
            " 46  lastReportedPosition.positionTimeIs_quarter_end                            10054 non-null  bool          \n",
            " 47  lastReportedPosition.positionTimeIs_quarter_start                          10054 non-null  bool          \n",
            " 48  lastReportedPosition.positionTimeIs_year_end                               10054 non-null  bool          \n",
            " 49  lastReportedPosition.positionTimeIs_year_start                             10054 non-null  bool          \n",
            " 50  lastReportedPosition.positionTimeElapsed                                   10054 non-null  float64       \n",
            "dtypes: bool(6), category(2), datetime64[ns](1), float64(17), int64(20), object(5)\n",
            "memory usage: 3.4+ MB\n",
            "None\n",
            "ptcLeadLocomotiveId                                        UP2524\n",
            "maximumTrainSpeed                                            70.0\n",
            "loadedCarCount                                               37.0\n",
            "emptyCarCount                                                 5.0\n",
            "trainLength                                                6034.0\n",
            "                                                         ...     \n",
            "lastReportedPosition.positionTimeIs_quarter_end             False\n",
            "lastReportedPosition.positionTimeIs_quarter_start           False\n",
            "lastReportedPosition.positionTimeIs_year_end                False\n",
            "lastReportedPosition.positionTimeIs_year_start              False\n",
            "lastReportedPosition.positionTimeElapsed             1649441741.0\n",
            "Name: 100, Length: 51, dtype: object\n"
          ]
        }
      ]
    },
    {
      "cell_type": "markdown",
      "source": [
        "# Use Decision Tree to predict speed in 1 mile"
      ],
      "metadata": {
        "id": "mg1p1vouBeIB"
      }
    },
    {
      "cell_type": "code",
      "source": [
        "procs = [tabular.core.Categorify, tabular.core.FillMissing]"
      ],
      "metadata": {
        "id": "F9TApkZWbAbz"
      },
      "execution_count": null,
      "outputs": []
    },
    {
      "cell_type": "code",
      "source": [
        "print (dfTrainsLearn.groupby(['lastReportedPosition.positionTimeDayofyear'])['lastReportedPosition.positionTimeDayofyear'].count())\n"
      ],
      "metadata": {
        "colab": {
          "base_uri": "https://localhost:8080/"
        },
        "id": "gDgYzofcvcpM",
        "outputId": "ef5e2722-d752-45b6-f204-835d93ee192a"
      },
      "execution_count": null,
      "outputs": [
        {
          "output_type": "stream",
          "name": "stdout",
          "text": [
            "lastReportedPosition.positionTimeDayofyear\n",
            "90     124\n",
            "91     271\n",
            "92      79\n",
            "93     106\n",
            "95     109\n",
            "      ... \n",
            "121     45\n",
            "122    247\n",
            "123    214\n",
            "124    237\n",
            "125    150\n",
            "Name: lastReportedPosition.positionTimeDayofyear, Length: 33, dtype: int64\n"
          ]
        }
      ]
    },
    {
      "cell_type": "code",
      "source": [
        "cond = ( dfTrainsLearn['lastReportedPosition.positionTimeDayofyear'] < 121 )\n",
        "trainIdx = np.where(cond)[0]\n",
        "validIdx = np.where(~cond)[0]\n",
        "splits = (list(trainIdx), list(validIdx))"
      ],
      "metadata": {
        "id": "nIURJVe5vc_n"
      },
      "execution_count": null,
      "outputs": []
    },
    {
      "cell_type": "code",
      "source": [
        "dep_var = 'nextSpeed'"
      ],
      "metadata": {
        "id": "rPW42wgnOLO_"
      },
      "execution_count": null,
      "outputs": []
    },
    {
      "cell_type": "code",
      "source": [
        "cont,cat = tabular.core.cont_cat_split(dfTrainsLearn, 1, dep_var=dep_var)"
      ],
      "metadata": {
        "id": "gHDAeThzyzc6"
      },
      "execution_count": null,
      "outputs": []
    },
    {
      "cell_type": "code",
      "source": [
        "to = tabular.core.TabularPandas(dfTrainsLearn, procs, cat, cont, y_names=dep_var, splits=splits)"
      ],
      "metadata": {
        "id": "xz1ZonvnO-I7"
      },
      "execution_count": null,
      "outputs": []
    },
    {
      "cell_type": "code",
      "source": [
        "len(to.train),len(to.valid)"
      ],
      "metadata": {
        "colab": {
          "base_uri": "https://localhost:8080/"
        },
        "id": "0DJly6_Z94uI",
        "outputId": "b8f936de-9ae7-4048-d43d-fe58ee8b2a3e"
      },
      "execution_count": null,
      "outputs": [
        {
          "output_type": "execute_result",
          "data": {
            "text/plain": [
              "(9161, 893)"
            ]
          },
          "metadata": {},
          "execution_count": 33
        }
      ]
    },
    {
      "cell_type": "code",
      "source": [
        "to.show()"
      ],
      "metadata": {
        "colab": {
          "base_uri": "https://localhost:8080/",
          "height": 383
        },
        "id": "xoEQAME4-n0M",
        "outputId": "89a5fa9f-6684-4535-983b-93324ebb1bb5"
      },
      "execution_count": null,
      "outputs": [
        {
          "output_type": "display_data",
          "data": {
            "text/plain": [
              "<IPython.core.display.HTML object>"
            ],
            "text/html": [
              "<table border=\"1\" class=\"dataframe\">\n",
              "  <thead>\n",
              "    <tr style=\"text-align: right;\">\n",
              "      <th></th>\n",
              "      <th>ptcLeadLocomotiveId</th>\n",
              "      <th>trainId.trainSCAC</th>\n",
              "      <th>trainId.trainSection</th>\n",
              "      <th>trainId.trainSymbol</th>\n",
              "      <th>trainId.trainDate</th>\n",
              "      <th>lastReportedPosition.milepostLocation.subdivisionId</th>\n",
              "      <th>lastReportedPosition.milepostLocation.trackName</th>\n",
              "      <th>aotuTrainData.ownershipCode</th>\n",
              "      <th>aotuTrainData.eventCode</th>\n",
              "      <th>symbolType</th>\n",
              "      <th>workLocations</th>\n",
              "      <th>lastReportedPosition.positionTimeYear</th>\n",
              "      <th>lastReportedPosition.positionTimeIs_month_end</th>\n",
              "      <th>lastReportedPosition.positionTimeIs_month_start</th>\n",
              "      <th>lastReportedPosition.positionTimeIs_quarter_end</th>\n",
              "      <th>lastReportedPosition.positionTimeIs_quarter_start</th>\n",
              "      <th>lastReportedPosition.positionTimeIs_year_end</th>\n",
              "      <th>lastReportedPosition.positionTimeIs_year_start</th>\n",
              "      <th>maximumTrainSpeed_na</th>\n",
              "      <th>loadedCarCount_na</th>\n",
              "      <th>emptyCarCount_na</th>\n",
              "      <th>trainLength_na</th>\n",
              "      <th>trailingTonnage_na</th>\n",
              "      <th>lastReportedPosition.precedingSignalState.milepostLocation.milepostNumber_na</th>\n",
              "      <th>lastReportedPosition.precedingSignalState.previousSignalState_na</th>\n",
              "      <th>lastReportedPosition.precedingSignalState.signalState_na</th>\n",
              "      <th>lastReportedPosition.nextSignalState.milepostLocation.milepostNumber_na</th>\n",
              "      <th>lastReportedPosition.nextSignalState.signalState_na</th>\n",
              "      <th>maximumTrainSpeed</th>\n",
              "      <th>loadedCarCount</th>\n",
              "      <th>emptyCarCount</th>\n",
              "      <th>trainLength</th>\n",
              "      <th>trailingTonnage</th>\n",
              "      <th>lastReportedPosition.speedMPH</th>\n",
              "      <th>lastReportedPosition.milepostLocation.milepost.milepostNumber</th>\n",
              "      <th>aotuTrainData.priorityCode</th>\n",
              "      <th>aotuTrainData.categoryCode</th>\n",
              "      <th>aotuTrainData.authorityRangeCode</th>\n",
              "      <th>aotuTrainData.totalCarWeight</th>\n",
              "      <th>aotuTrainData.totalCarLength</th>\n",
              "      <th>aotuTrainData.totalLocomotiveWeight</th>\n",
              "      <th>aotuTrainData.totalLocomotiveLength</th>\n",
              "      <th>aotuTrainData.actualTonsPerAxle</th>\n",
              "      <th>aotuTrainData.heavy143TonCarCount</th>\n",
              "      <th>aotuTrainData.heavy158TonCarCount</th>\n",
              "      <th>aotuTrainData.over158TonCarCount</th>\n",
              "      <th>aotuTrainData.highWideCarCount</th>\n",
              "      <th>lastReportedPosition.precedingSignalState.milepostLocation.milepostNumber</th>\n",
              "      <th>lastReportedPosition.precedingSignalState.previousSignalState</th>\n",
              "      <th>lastReportedPosition.precedingSignalState.signalState</th>\n",
              "      <th>lastReportedPosition.nextSignalState.milepostLocation.milepostNumber</th>\n",
              "      <th>lastReportedPosition.nextSignalState.signalState</th>\n",
              "      <th>milepost</th>\n",
              "      <th>locomotiveCount</th>\n",
              "      <th>lastReportedPosition.positionTimeMonth</th>\n",
              "      <th>lastReportedPosition.positionTimeWeek</th>\n",
              "      <th>lastReportedPosition.positionTimeDay</th>\n",
              "      <th>lastReportedPosition.positionTimeDayofweek</th>\n",
              "      <th>lastReportedPosition.positionTimeDayofyear</th>\n",
              "      <th>lastReportedPosition.positionTimeElapsed</th>\n",
              "      <th>nextSpeed</th>\n",
              "    </tr>\n",
              "  </thead>\n",
              "  <tbody>\n",
              "    <tr>\n",
              "      <th>0</th>\n",
              "      <td>UP2010</td>\n",
              "      <td>UP</td>\n",
              "      <td></td>\n",
              "      <td>MEWLI</td>\n",
              "      <td>2022-04-21</td>\n",
              "      <td>106</td>\n",
              "      <td>WEST MAIN</td>\n",
              "      <td>2</td>\n",
              "      <td>0</td>\n",
              "      <td>M</td>\n",
              "      <td>#na#</td>\n",
              "      <td>2022</td>\n",
              "      <td>False</td>\n",
              "      <td>False</td>\n",
              "      <td>False</td>\n",
              "      <td>False</td>\n",
              "      <td>False</td>\n",
              "      <td>False</td>\n",
              "      <td>False</td>\n",
              "      <td>False</td>\n",
              "      <td>False</td>\n",
              "      <td>False</td>\n",
              "      <td>False</td>\n",
              "      <td>True</td>\n",
              "      <td>True</td>\n",
              "      <td>True</td>\n",
              "      <td>True</td>\n",
              "      <td>True</td>\n",
              "      <td>50.0</td>\n",
              "      <td>61.0</td>\n",
              "      <td>92.0</td>\n",
              "      <td>9282.0</td>\n",
              "      <td>10992.0</td>\n",
              "      <td>-12</td>\n",
              "      <td>766.930420</td>\n",
              "      <td>4</td>\n",
              "      <td>12</td>\n",
              "      <td>2</td>\n",
              "      <td>219727008.0</td>\n",
              "      <td>1078840.0</td>\n",
              "      <td>12202400.0</td>\n",
              "      <td>25820.0</td>\n",
              "      <td>65535.0</td>\n",
              "      <td>10</td>\n",
              "      <td>0</td>\n",
              "      <td>0</td>\n",
              "      <td>0</td>\n",
              "      <td>258.420013</td>\n",
              "      <td>-4.0</td>\n",
              "      <td>1.0</td>\n",
              "      <td>260.200012</td>\n",
              "      <td>1.0</td>\n",
              "      <td>766</td>\n",
              "      <td>2</td>\n",
              "      <td>4</td>\n",
              "      <td>16</td>\n",
              "      <td>21</td>\n",
              "      <td>3</td>\n",
              "      <td>111</td>\n",
              "      <td>1.650584e+09</td>\n",
              "      <td>4</td>\n",
              "    </tr>\n",
              "    <tr>\n",
              "      <th>1</th>\n",
              "      <td>UP2010</td>\n",
              "      <td>UP</td>\n",
              "      <td></td>\n",
              "      <td>MEWLI</td>\n",
              "      <td>2022-04-21</td>\n",
              "      <td>106</td>\n",
              "      <td>WEST MAIN</td>\n",
              "      <td>2</td>\n",
              "      <td>0</td>\n",
              "      <td>M</td>\n",
              "      <td>#na#</td>\n",
              "      <td>2022</td>\n",
              "      <td>False</td>\n",
              "      <td>False</td>\n",
              "      <td>False</td>\n",
              "      <td>False</td>\n",
              "      <td>False</td>\n",
              "      <td>False</td>\n",
              "      <td>False</td>\n",
              "      <td>False</td>\n",
              "      <td>False</td>\n",
              "      <td>False</td>\n",
              "      <td>False</td>\n",
              "      <td>True</td>\n",
              "      <td>True</td>\n",
              "      <td>True</td>\n",
              "      <td>True</td>\n",
              "      <td>True</td>\n",
              "      <td>50.0</td>\n",
              "      <td>61.0</td>\n",
              "      <td>92.0</td>\n",
              "      <td>9282.0</td>\n",
              "      <td>10992.0</td>\n",
              "      <td>-11</td>\n",
              "      <td>766.718811</td>\n",
              "      <td>4</td>\n",
              "      <td>12</td>\n",
              "      <td>2</td>\n",
              "      <td>219727008.0</td>\n",
              "      <td>1078840.0</td>\n",
              "      <td>12202400.0</td>\n",
              "      <td>25820.0</td>\n",
              "      <td>65535.0</td>\n",
              "      <td>10</td>\n",
              "      <td>0</td>\n",
              "      <td>0</td>\n",
              "      <td>0</td>\n",
              "      <td>258.420013</td>\n",
              "      <td>-4.0</td>\n",
              "      <td>1.0</td>\n",
              "      <td>260.200012</td>\n",
              "      <td>1.0</td>\n",
              "      <td>766</td>\n",
              "      <td>2</td>\n",
              "      <td>4</td>\n",
              "      <td>16</td>\n",
              "      <td>21</td>\n",
              "      <td>3</td>\n",
              "      <td>111</td>\n",
              "      <td>1.650584e+09</td>\n",
              "      <td>3</td>\n",
              "    </tr>\n",
              "    <tr>\n",
              "      <th>2</th>\n",
              "      <td>UP2010</td>\n",
              "      <td>UP</td>\n",
              "      <td></td>\n",
              "      <td>MEWLI</td>\n",
              "      <td>2022-04-21</td>\n",
              "      <td>106</td>\n",
              "      <td>WEST MAIN</td>\n",
              "      <td>2</td>\n",
              "      <td>0</td>\n",
              "      <td>M</td>\n",
              "      <td>#na#</td>\n",
              "      <td>2022</td>\n",
              "      <td>False</td>\n",
              "      <td>False</td>\n",
              "      <td>False</td>\n",
              "      <td>False</td>\n",
              "      <td>False</td>\n",
              "      <td>False</td>\n",
              "      <td>False</td>\n",
              "      <td>False</td>\n",
              "      <td>False</td>\n",
              "      <td>False</td>\n",
              "      <td>False</td>\n",
              "      <td>True</td>\n",
              "      <td>True</td>\n",
              "      <td>True</td>\n",
              "      <td>True</td>\n",
              "      <td>True</td>\n",
              "      <td>50.0</td>\n",
              "      <td>61.0</td>\n",
              "      <td>92.0</td>\n",
              "      <td>9282.0</td>\n",
              "      <td>10992.0</td>\n",
              "      <td>-10</td>\n",
              "      <td>766.565308</td>\n",
              "      <td>4</td>\n",
              "      <td>12</td>\n",
              "      <td>2</td>\n",
              "      <td>219727008.0</td>\n",
              "      <td>1078840.0</td>\n",
              "      <td>12202400.0</td>\n",
              "      <td>25820.0</td>\n",
              "      <td>65535.0</td>\n",
              "      <td>10</td>\n",
              "      <td>0</td>\n",
              "      <td>0</td>\n",
              "      <td>0</td>\n",
              "      <td>258.420013</td>\n",
              "      <td>-4.0</td>\n",
              "      <td>1.0</td>\n",
              "      <td>260.200012</td>\n",
              "      <td>1.0</td>\n",
              "      <td>766</td>\n",
              "      <td>2</td>\n",
              "      <td>4</td>\n",
              "      <td>16</td>\n",
              "      <td>21</td>\n",
              "      <td>3</td>\n",
              "      <td>111</td>\n",
              "      <td>1.650584e+09</td>\n",
              "      <td>2</td>\n",
              "    </tr>\n",
              "    <tr>\n",
              "      <th>3</th>\n",
              "      <td>UP2010</td>\n",
              "      <td>UP</td>\n",
              "      <td></td>\n",
              "      <td>MEWLI</td>\n",
              "      <td>2022-04-21</td>\n",
              "      <td>106</td>\n",
              "      <td>WEST MAIN</td>\n",
              "      <td>2</td>\n",
              "      <td>0</td>\n",
              "      <td>M</td>\n",
              "      <td>#na#</td>\n",
              "      <td>2022</td>\n",
              "      <td>False</td>\n",
              "      <td>False</td>\n",
              "      <td>False</td>\n",
              "      <td>False</td>\n",
              "      <td>False</td>\n",
              "      <td>False</td>\n",
              "      <td>False</td>\n",
              "      <td>False</td>\n",
              "      <td>False</td>\n",
              "      <td>False</td>\n",
              "      <td>False</td>\n",
              "      <td>True</td>\n",
              "      <td>True</td>\n",
              "      <td>True</td>\n",
              "      <td>True</td>\n",
              "      <td>True</td>\n",
              "      <td>50.0</td>\n",
              "      <td>61.0</td>\n",
              "      <td>92.0</td>\n",
              "      <td>9282.0</td>\n",
              "      <td>10992.0</td>\n",
              "      <td>-10</td>\n",
              "      <td>766.435181</td>\n",
              "      <td>4</td>\n",
              "      <td>12</td>\n",
              "      <td>2</td>\n",
              "      <td>219727008.0</td>\n",
              "      <td>1078840.0</td>\n",
              "      <td>12202400.0</td>\n",
              "      <td>25820.0</td>\n",
              "      <td>65535.0</td>\n",
              "      <td>10</td>\n",
              "      <td>0</td>\n",
              "      <td>0</td>\n",
              "      <td>0</td>\n",
              "      <td>258.420013</td>\n",
              "      <td>-4.0</td>\n",
              "      <td>1.0</td>\n",
              "      <td>260.200012</td>\n",
              "      <td>1.0</td>\n",
              "      <td>766</td>\n",
              "      <td>2</td>\n",
              "      <td>4</td>\n",
              "      <td>16</td>\n",
              "      <td>21</td>\n",
              "      <td>3</td>\n",
              "      <td>111</td>\n",
              "      <td>1.650584e+09</td>\n",
              "      <td>1</td>\n",
              "    </tr>\n",
              "    <tr>\n",
              "      <th>4</th>\n",
              "      <td>UP2010</td>\n",
              "      <td>UP</td>\n",
              "      <td></td>\n",
              "      <td>MEWLI</td>\n",
              "      <td>2022-04-21</td>\n",
              "      <td>106</td>\n",
              "      <td>WEST MAIN</td>\n",
              "      <td>2</td>\n",
              "      <td>0</td>\n",
              "      <td>M</td>\n",
              "      <td>#na#</td>\n",
              "      <td>2022</td>\n",
              "      <td>False</td>\n",
              "      <td>False</td>\n",
              "      <td>False</td>\n",
              "      <td>False</td>\n",
              "      <td>False</td>\n",
              "      <td>False</td>\n",
              "      <td>False</td>\n",
              "      <td>False</td>\n",
              "      <td>False</td>\n",
              "      <td>False</td>\n",
              "      <td>False</td>\n",
              "      <td>True</td>\n",
              "      <td>True</td>\n",
              "      <td>True</td>\n",
              "      <td>True</td>\n",
              "      <td>True</td>\n",
              "      <td>50.0</td>\n",
              "      <td>61.0</td>\n",
              "      <td>92.0</td>\n",
              "      <td>9282.0</td>\n",
              "      <td>10992.0</td>\n",
              "      <td>-10</td>\n",
              "      <td>766.322815</td>\n",
              "      <td>4</td>\n",
              "      <td>12</td>\n",
              "      <td>2</td>\n",
              "      <td>219727008.0</td>\n",
              "      <td>1078840.0</td>\n",
              "      <td>12202400.0</td>\n",
              "      <td>25820.0</td>\n",
              "      <td>65535.0</td>\n",
              "      <td>10</td>\n",
              "      <td>0</td>\n",
              "      <td>0</td>\n",
              "      <td>0</td>\n",
              "      <td>258.420013</td>\n",
              "      <td>-4.0</td>\n",
              "      <td>1.0</td>\n",
              "      <td>260.200012</td>\n",
              "      <td>1.0</td>\n",
              "      <td>766</td>\n",
              "      <td>2</td>\n",
              "      <td>4</td>\n",
              "      <td>16</td>\n",
              "      <td>21</td>\n",
              "      <td>3</td>\n",
              "      <td>111</td>\n",
              "      <td>1.650584e+09</td>\n",
              "      <td>1</td>\n",
              "    </tr>\n",
              "    <tr>\n",
              "      <th>5</th>\n",
              "      <td>UP2010</td>\n",
              "      <td>UP</td>\n",
              "      <td></td>\n",
              "      <td>MEWLI</td>\n",
              "      <td>2022-04-21</td>\n",
              "      <td>106</td>\n",
              "      <td>WEST MAIN</td>\n",
              "      <td>2</td>\n",
              "      <td>0</td>\n",
              "      <td>M</td>\n",
              "      <td>#na#</td>\n",
              "      <td>2022</td>\n",
              "      <td>False</td>\n",
              "      <td>False</td>\n",
              "      <td>False</td>\n",
              "      <td>False</td>\n",
              "      <td>False</td>\n",
              "      <td>False</td>\n",
              "      <td>False</td>\n",
              "      <td>False</td>\n",
              "      <td>False</td>\n",
              "      <td>False</td>\n",
              "      <td>False</td>\n",
              "      <td>True</td>\n",
              "      <td>True</td>\n",
              "      <td>True</td>\n",
              "      <td>True</td>\n",
              "      <td>True</td>\n",
              "      <td>50.0</td>\n",
              "      <td>61.0</td>\n",
              "      <td>92.0</td>\n",
              "      <td>9282.0</td>\n",
              "      <td>10992.0</td>\n",
              "      <td>-10</td>\n",
              "      <td>766.289795</td>\n",
              "      <td>4</td>\n",
              "      <td>12</td>\n",
              "      <td>2</td>\n",
              "      <td>219727008.0</td>\n",
              "      <td>1078840.0</td>\n",
              "      <td>12202400.0</td>\n",
              "      <td>25820.0</td>\n",
              "      <td>65535.0</td>\n",
              "      <td>10</td>\n",
              "      <td>0</td>\n",
              "      <td>0</td>\n",
              "      <td>0</td>\n",
              "      <td>258.420013</td>\n",
              "      <td>-4.0</td>\n",
              "      <td>1.0</td>\n",
              "      <td>260.200012</td>\n",
              "      <td>1.0</td>\n",
              "      <td>766</td>\n",
              "      <td>2</td>\n",
              "      <td>4</td>\n",
              "      <td>16</td>\n",
              "      <td>21</td>\n",
              "      <td>3</td>\n",
              "      <td>111</td>\n",
              "      <td>1.650584e+09</td>\n",
              "      <td>1</td>\n",
              "    </tr>\n",
              "    <tr>\n",
              "      <th>6</th>\n",
              "      <td>UP2010</td>\n",
              "      <td>UP</td>\n",
              "      <td></td>\n",
              "      <td>MEWLI</td>\n",
              "      <td>2022-04-21</td>\n",
              "      <td>106</td>\n",
              "      <td>MAIN</td>\n",
              "      <td>2</td>\n",
              "      <td>0</td>\n",
              "      <td>M</td>\n",
              "      <td>#na#</td>\n",
              "      <td>2022</td>\n",
              "      <td>False</td>\n",
              "      <td>False</td>\n",
              "      <td>False</td>\n",
              "      <td>False</td>\n",
              "      <td>False</td>\n",
              "      <td>False</td>\n",
              "      <td>False</td>\n",
              "      <td>False</td>\n",
              "      <td>False</td>\n",
              "      <td>False</td>\n",
              "      <td>False</td>\n",
              "      <td>True</td>\n",
              "      <td>True</td>\n",
              "      <td>True</td>\n",
              "      <td>True</td>\n",
              "      <td>True</td>\n",
              "      <td>50.0</td>\n",
              "      <td>61.0</td>\n",
              "      <td>92.0</td>\n",
              "      <td>9282.0</td>\n",
              "      <td>10992.0</td>\n",
              "      <td>-10</td>\n",
              "      <td>766.046082</td>\n",
              "      <td>4</td>\n",
              "      <td>12</td>\n",
              "      <td>2</td>\n",
              "      <td>219727008.0</td>\n",
              "      <td>1078840.0</td>\n",
              "      <td>12202400.0</td>\n",
              "      <td>25820.0</td>\n",
              "      <td>65535.0</td>\n",
              "      <td>10</td>\n",
              "      <td>0</td>\n",
              "      <td>0</td>\n",
              "      <td>0</td>\n",
              "      <td>258.420013</td>\n",
              "      <td>-4.0</td>\n",
              "      <td>1.0</td>\n",
              "      <td>260.200012</td>\n",
              "      <td>1.0</td>\n",
              "      <td>766</td>\n",
              "      <td>2</td>\n",
              "      <td>4</td>\n",
              "      <td>16</td>\n",
              "      <td>21</td>\n",
              "      <td>3</td>\n",
              "      <td>111</td>\n",
              "      <td>1.650584e+09</td>\n",
              "      <td>-10</td>\n",
              "    </tr>\n",
              "    <tr>\n",
              "      <th>7</th>\n",
              "      <td>UP2010</td>\n",
              "      <td>UP</td>\n",
              "      <td></td>\n",
              "      <td>MEWLI</td>\n",
              "      <td>2022-04-21</td>\n",
              "      <td>106</td>\n",
              "      <td>MAIN</td>\n",
              "      <td>2</td>\n",
              "      <td>0</td>\n",
              "      <td>M</td>\n",
              "      <td>#na#</td>\n",
              "      <td>2022</td>\n",
              "      <td>False</td>\n",
              "      <td>False</td>\n",
              "      <td>False</td>\n",
              "      <td>False</td>\n",
              "      <td>False</td>\n",
              "      <td>False</td>\n",
              "      <td>False</td>\n",
              "      <td>False</td>\n",
              "      <td>False</td>\n",
              "      <td>False</td>\n",
              "      <td>False</td>\n",
              "      <td>True</td>\n",
              "      <td>True</td>\n",
              "      <td>True</td>\n",
              "      <td>True</td>\n",
              "      <td>True</td>\n",
              "      <td>50.0</td>\n",
              "      <td>61.0</td>\n",
              "      <td>92.0</td>\n",
              "      <td>9282.0</td>\n",
              "      <td>10992.0</td>\n",
              "      <td>-10</td>\n",
              "      <td>765.774414</td>\n",
              "      <td>4</td>\n",
              "      <td>12</td>\n",
              "      <td>2</td>\n",
              "      <td>219727008.0</td>\n",
              "      <td>1078840.0</td>\n",
              "      <td>12202400.0</td>\n",
              "      <td>25820.0</td>\n",
              "      <td>65535.0</td>\n",
              "      <td>10</td>\n",
              "      <td>0</td>\n",
              "      <td>0</td>\n",
              "      <td>0</td>\n",
              "      <td>258.420013</td>\n",
              "      <td>-4.0</td>\n",
              "      <td>1.0</td>\n",
              "      <td>260.200012</td>\n",
              "      <td>1.0</td>\n",
              "      <td>765</td>\n",
              "      <td>2</td>\n",
              "      <td>4</td>\n",
              "      <td>16</td>\n",
              "      <td>21</td>\n",
              "      <td>3</td>\n",
              "      <td>111</td>\n",
              "      <td>1.650584e+09</td>\n",
              "      <td>-10</td>\n",
              "    </tr>\n",
              "    <tr>\n",
              "      <th>8</th>\n",
              "      <td>UP2010</td>\n",
              "      <td>UP</td>\n",
              "      <td></td>\n",
              "      <td>MEWLI</td>\n",
              "      <td>2022-04-21</td>\n",
              "      <td>106</td>\n",
              "      <td>MAIN</td>\n",
              "      <td>2</td>\n",
              "      <td>0</td>\n",
              "      <td>M</td>\n",
              "      <td>#na#</td>\n",
              "      <td>2022</td>\n",
              "      <td>False</td>\n",
              "      <td>False</td>\n",
              "      <td>False</td>\n",
              "      <td>False</td>\n",
              "      <td>False</td>\n",
              "      <td>False</td>\n",
              "      <td>False</td>\n",
              "      <td>False</td>\n",
              "      <td>False</td>\n",
              "      <td>False</td>\n",
              "      <td>False</td>\n",
              "      <td>True</td>\n",
              "      <td>True</td>\n",
              "      <td>True</td>\n",
              "      <td>True</td>\n",
              "      <td>True</td>\n",
              "      <td>50.0</td>\n",
              "      <td>61.0</td>\n",
              "      <td>92.0</td>\n",
              "      <td>9282.0</td>\n",
              "      <td>10992.0</td>\n",
              "      <td>-8</td>\n",
              "      <td>765.598877</td>\n",
              "      <td>4</td>\n",
              "      <td>12</td>\n",
              "      <td>2</td>\n",
              "      <td>219727008.0</td>\n",
              "      <td>1078840.0</td>\n",
              "      <td>12202400.0</td>\n",
              "      <td>25820.0</td>\n",
              "      <td>65535.0</td>\n",
              "      <td>10</td>\n",
              "      <td>0</td>\n",
              "      <td>0</td>\n",
              "      <td>0</td>\n",
              "      <td>258.420013</td>\n",
              "      <td>-4.0</td>\n",
              "      <td>1.0</td>\n",
              "      <td>260.200012</td>\n",
              "      <td>1.0</td>\n",
              "      <td>765</td>\n",
              "      <td>2</td>\n",
              "      <td>4</td>\n",
              "      <td>16</td>\n",
              "      <td>21</td>\n",
              "      <td>3</td>\n",
              "      <td>111</td>\n",
              "      <td>1.650584e+09</td>\n",
              "      <td>-8</td>\n",
              "    </tr>\n",
              "    <tr>\n",
              "      <th>9</th>\n",
              "      <td>UP2524</td>\n",
              "      <td>UP</td>\n",
              "      <td></td>\n",
              "      <td>ZBRG2</td>\n",
              "      <td>2022-04-06</td>\n",
              "      <td>106</td>\n",
              "      <td>MT 2</td>\n",
              "      <td>2</td>\n",
              "      <td>0</td>\n",
              "      <td>Z</td>\n",
              "      <td>202.20</td>\n",
              "      <td>2022</td>\n",
              "      <td>False</td>\n",
              "      <td>False</td>\n",
              "      <td>False</td>\n",
              "      <td>False</td>\n",
              "      <td>False</td>\n",
              "      <td>False</td>\n",
              "      <td>False</td>\n",
              "      <td>False</td>\n",
              "      <td>False</td>\n",
              "      <td>False</td>\n",
              "      <td>False</td>\n",
              "      <td>True</td>\n",
              "      <td>True</td>\n",
              "      <td>True</td>\n",
              "      <td>True</td>\n",
              "      <td>True</td>\n",
              "      <td>70.0</td>\n",
              "      <td>37.0</td>\n",
              "      <td>5.0</td>\n",
              "      <td>6034.0</td>\n",
              "      <td>4180.0</td>\n",
              "      <td>-56</td>\n",
              "      <td>326.180389</td>\n",
              "      <td>1</td>\n",
              "      <td>10</td>\n",
              "      <td>2</td>\n",
              "      <td>83582000.0</td>\n",
              "      <td>678370.0</td>\n",
              "      <td>21020000.0</td>\n",
              "      <td>43900.0</td>\n",
              "      <td>65535.0</td>\n",
              "      <td>0</td>\n",
              "      <td>0</td>\n",
              "      <td>0</td>\n",
              "      <td>0</td>\n",
              "      <td>258.420013</td>\n",
              "      <td>-4.0</td>\n",
              "      <td>1.0</td>\n",
              "      <td>260.200012</td>\n",
              "      <td>1.0</td>\n",
              "      <td>326</td>\n",
              "      <td>5</td>\n",
              "      <td>4</td>\n",
              "      <td>14</td>\n",
              "      <td>8</td>\n",
              "      <td>4</td>\n",
              "      <td>98</td>\n",
              "      <td>1.649435e+09</td>\n",
              "      <td>56</td>\n",
              "    </tr>\n",
              "  </tbody>\n",
              "</table>"
            ]
          },
          "metadata": {}
        }
      ]
    },
    {
      "cell_type": "code",
      "source": [
        "fastai.save_pickle('/tmp/to.pkl',to)"
      ],
      "metadata": {
        "id": "r-D5hdO3-ypC"
      },
      "execution_count": null,
      "outputs": []
    },
    {
      "cell_type": "markdown",
      "source": [
        "# Creating the Decision Tree"
      ],
      "metadata": {
        "id": "knWgCrX_A0Ep"
      }
    },
    {
      "cell_type": "code",
      "source": [
        "to = fastai.load_pickle('/tmp/to.pkl')"
      ],
      "metadata": {
        "id": "rtc_YDw0ArMR"
      },
      "execution_count": null,
      "outputs": []
    },
    {
      "cell_type": "code",
      "source": [
        "xs,y = to.train.xs,to.train.y\n",
        "valid_xs,valid_y = to.valid.xs,to.valid.y"
      ],
      "metadata": {
        "id": "CcGx27DMBMbc"
      },
      "execution_count": null,
      "outputs": []
    },
    {
      "cell_type": "code",
      "source": [
        "m = DecisionTreeRegressor(max_leaf_nodes=16)\n",
        "m.fit(xs, y);"
      ],
      "metadata": {
        "id": "clTcBmpGBXv6"
      },
      "execution_count": null,
      "outputs": []
    },
    {
      "cell_type": "code",
      "source": [
        "fastai.draw_tree(m, xs, size=20, leaves_parallel=True, precision=2)"
      ],
      "metadata": {
        "colab": {
          "base_uri": "https://localhost:8080/",
          "height": 1000
        },
        "id": "nhXNnHk7CSmF",
        "outputId": "d53bfde5-ea9f-45b2-f0dc-fff3c5e9043b"
      },
      "execution_count": null,
      "outputs": [
        {
          "output_type": "execute_result",
          "data": {
            "text/plain": [
              "<graphviz.files.Source at 0x7f779dda87d0>"
            ],
            "image/svg+xml": "<?xml version=\"1.0\" encoding=\"UTF-8\" standalone=\"no\"?>\n<!DOCTYPE svg PUBLIC \"-//W3C//DTD SVG 1.1//EN\"\n \"http://www.w3.org/Graphics/SVG/1.1/DTD/svg11.dtd\">\n<!-- Generated by graphviz version 2.40.1 (20161225.0304)\n -->\n<!-- Title: Tree Pages: 1 -->\n<svg width=\"1440pt\" height=\"866pt\"\n viewBox=\"0.00 0.00 1440.00 866.19\" xmlns=\"http://www.w3.org/2000/svg\" xmlns:xlink=\"http://www.w3.org/1999/xlink\">\n<g id=\"graph0\" class=\"graph\" transform=\"scale(.4867 .4867) rotate(0) translate(4 1775.8943)\">\n<title>Tree</title>\n<polygon fill=\"#ffffff\" stroke=\"transparent\" points=\"-4,4 -4,-1775.8943 2955,-1775.8943 2955,4 -4,4\"/>\n<!-- 0 -->\n<g id=\"node1\" class=\"node\">\n<title>0</title>\n<path fill=\"#f3c3a1\" stroke=\"#000000\" d=\"M1597,-1718C1597,-1718 1346,-1718 1346,-1718 1340,-1718 1334,-1712 1334,-1706 1334,-1706 1334,-1662 1334,-1662 1334,-1656 1340,-1650 1346,-1650 1346,-1650 1597,-1650 1597,-1650 1603,-1650 1609,-1656 1609,-1662 1609,-1662 1609,-1706 1609,-1706 1609,-1712 1603,-1718 1597,-1718\"/>\n<text text-anchor=\"start\" x=\"1342\" y=\"-1702.8\" font-family=\"Helvetica,sans-Serif\" font-size=\"14.00\" fill=\"#000000\">lastReportedPosition.speedMPH ≤ &#45;18.5</text>\n<text text-anchor=\"start\" x=\"1399\" y=\"-1687.8\" font-family=\"Helvetica,sans-Serif\" font-size=\"14.00\" fill=\"#000000\">squared_error = 728.5</text>\n<text text-anchor=\"start\" x=\"1419.5\" y=\"-1672.8\" font-family=\"Helvetica,sans-Serif\" font-size=\"14.00\" fill=\"#000000\">samples = 9161</text>\n<text text-anchor=\"start\" x=\"1431.5\" y=\"-1657.8\" font-family=\"Helvetica,sans-Serif\" font-size=\"14.00\" fill=\"#000000\">value = 3.72</text>\n</g>\n<!-- 1 -->\n<g id=\"node2\" class=\"node\">\n<title>1</title>\n<path fill=\"#eca26c\" stroke=\"#000000\" d=\"M1331,-1449C1331,-1449 1080,-1449 1080,-1449 1074,-1449 1068,-1443 1068,-1437 1068,-1437 1068,-1393 1068,-1393 1068,-1387 1074,-1381 1080,-1381 1080,-1381 1331,-1381 1331,-1381 1337,-1381 1343,-1387 1343,-1393 1343,-1393 1343,-1437 1343,-1437 1343,-1443 1337,-1449 1331,-1449\"/>\n<text text-anchor=\"start\" x=\"1076\" y=\"-1433.8\" font-family=\"Helvetica,sans-Serif\" font-size=\"14.00\" fill=\"#000000\">lastReportedPosition.speedMPH ≤ &#45;39.5</text>\n<text text-anchor=\"start\" x=\"1129\" y=\"-1418.8\" font-family=\"Helvetica,sans-Serif\" font-size=\"14.00\" fill=\"#000000\">squared_error = 235.13</text>\n<text text-anchor=\"start\" x=\"1153.5\" y=\"-1403.8\" font-family=\"Helvetica,sans-Serif\" font-size=\"14.00\" fill=\"#000000\">samples = 3584</text>\n<text text-anchor=\"start\" x=\"1161.5\" y=\"-1388.8\" font-family=\"Helvetica,sans-Serif\" font-size=\"14.00\" fill=\"#000000\">value = 29.86</text>\n</g>\n<!-- 0&#45;&gt;1 -->\n<g id=\"edge1\" class=\"edge\">\n<title>0&#45;&gt;1</title>\n<path fill=\"none\" stroke=\"#000000\" d=\"M1437.8109,-1649.931C1389.0766,-1600.6471 1299.011,-1509.5656 1246.4884,-1456.4507\"/>\n<polygon fill=\"#000000\" stroke=\"#000000\" points=\"1248.8547,-1453.8659 1239.3346,-1449.2162 1243.8772,-1458.7878 1248.8547,-1453.8659\"/>\n<text text-anchor=\"middle\" x=\"1239.1944\" y=\"-1470.5158\" font-family=\"Helvetica,sans-Serif\" font-size=\"14.00\" fill=\"#000000\">True</text>\n</g>\n<!-- 2 -->\n<g id=\"node19\" class=\"node\">\n<title>2</title>\n<path fill=\"#f7d9c3\" stroke=\"#000000\" d=\"M1867,-1449C1867,-1449 1620,-1449 1620,-1449 1614,-1449 1608,-1443 1608,-1437 1608,-1437 1608,-1393 1608,-1393 1608,-1387 1614,-1381 1620,-1381 1620,-1381 1867,-1381 1867,-1381 1873,-1381 1879,-1387 1879,-1393 1879,-1393 1879,-1437 1879,-1437 1879,-1443 1873,-1449 1867,-1449\"/>\n<text text-anchor=\"start\" x=\"1616\" y=\"-1433.8\" font-family=\"Helvetica,sans-Serif\" font-size=\"14.00\" fill=\"#000000\">lastReportedPosition.speedMPH ≤ 19.5</text>\n<text text-anchor=\"start\" x=\"1667\" y=\"-1418.8\" font-family=\"Helvetica,sans-Serif\" font-size=\"14.00\" fill=\"#000000\">squared_error = 324.16</text>\n<text text-anchor=\"start\" x=\"1691.5\" y=\"-1403.8\" font-family=\"Helvetica,sans-Serif\" font-size=\"14.00\" fill=\"#000000\">samples = 5577</text>\n<text text-anchor=\"start\" x=\"1697\" y=\"-1388.8\" font-family=\"Helvetica,sans-Serif\" font-size=\"14.00\" fill=\"#000000\">value = &#45;13.08</text>\n</g>\n<!-- 0&#45;&gt;2 -->\n<g id=\"edge18\" class=\"edge\">\n<title>0&#45;&gt;2</title>\n<path fill=\"none\" stroke=\"#000000\" d=\"M1505.949,-1649.931C1555.7825,-1600.6471 1647.8797,-1509.5656 1701.587,-1456.4507\"/>\n<polygon fill=\"#000000\" stroke=\"#000000\" points=\"1704.2531,-1458.7366 1708.9022,-1449.2162 1699.3309,-1453.7594 1704.2531,-1458.7366\"/>\n<text text-anchor=\"middle\" x=\"1708.7636\" y=\"-1470.5158\" font-family=\"Helvetica,sans-Serif\" font-size=\"14.00\" fill=\"#000000\">False</text>\n</g>\n<!-- 5 -->\n<g id=\"node3\" class=\"node\">\n<title>5</title>\n<path fill=\"#ea9a61\" stroke=\"#000000\" d=\"M918.5,-1179C918.5,-1179 742.5,-1179 742.5,-1179 736.5,-1179 730.5,-1173 730.5,-1167 730.5,-1167 730.5,-1123 730.5,-1123 730.5,-1117 736.5,-1111 742.5,-1111 742.5,-1111 918.5,-1111 918.5,-1111 924.5,-1111 930.5,-1117 930.5,-1123 930.5,-1123 930.5,-1167 930.5,-1167 930.5,-1173 924.5,-1179 918.5,-1179\"/>\n<text text-anchor=\"start\" x=\"738.5\" y=\"-1163.8\" font-family=\"Helvetica,sans-Serif\" font-size=\"14.00\" fill=\"#000000\">ptcLeadLocomotiveId ≤ 21.0</text>\n<text text-anchor=\"start\" x=\"754\" y=\"-1148.8\" font-family=\"Helvetica,sans-Serif\" font-size=\"14.00\" fill=\"#000000\">squared_error = 237.64</text>\n<text text-anchor=\"start\" x=\"778.5\" y=\"-1133.8\" font-family=\"Helvetica,sans-Serif\" font-size=\"14.00\" fill=\"#000000\">samples = 1874</text>\n<text text-anchor=\"start\" x=\"786.5\" y=\"-1118.8\" font-family=\"Helvetica,sans-Serif\" font-size=\"14.00\" fill=\"#000000\">value = 35.57</text>\n</g>\n<!-- 1&#45;&gt;5 -->\n<g id=\"edge2\" class=\"edge\">\n<title>1&#45;&gt;5</title>\n<path fill=\"none\" stroke=\"#000000\" d=\"M1158.006,-1380.8043C1088.6448,-1330.8642 959.8961,-1238.1652 886.1752,-1185.0861\"/>\n<polygon fill=\"#000000\" stroke=\"#000000\" points=\"888.0639,-1182.1332 877.9034,-1179.1305 883.9737,-1187.8139 888.0639,-1182.1332\"/>\n</g>\n<!-- 6 -->\n<g id=\"node14\" class=\"node\">\n<title>6</title>\n<path fill=\"#edaa79\" stroke=\"#000000\" d=\"M1439,-1179C1439,-1179 972,-1179 972,-1179 966,-1179 960,-1173 960,-1167 960,-1167 960,-1123 960,-1123 960,-1117 966,-1111 972,-1111 972,-1111 1439,-1111 1439,-1111 1445,-1111 1451,-1117 1451,-1123 1451,-1123 1451,-1167 1451,-1167 1451,-1173 1445,-1179 1439,-1179\"/>\n<text text-anchor=\"start\" x=\"968\" y=\"-1163.8\" font-family=\"Helvetica,sans-Serif\" font-size=\"14.00\" fill=\"#000000\">lastReportedPosition.milepostLocation.milepost.milepostNumber ≤ 216.51</text>\n<text text-anchor=\"start\" x=\"1129\" y=\"-1148.8\" font-family=\"Helvetica,sans-Serif\" font-size=\"14.00\" fill=\"#000000\">squared_error = 157.67</text>\n<text text-anchor=\"start\" x=\"1153.5\" y=\"-1133.8\" font-family=\"Helvetica,sans-Serif\" font-size=\"14.00\" fill=\"#000000\">samples = 1710</text>\n<text text-anchor=\"start\" x=\"1161.5\" y=\"-1118.8\" font-family=\"Helvetica,sans-Serif\" font-size=\"14.00\" fill=\"#000000\">value = 23.61</text>\n</g>\n<!-- 1&#45;&gt;6 -->\n<g id=\"edge13\" class=\"edge\">\n<title>1&#45;&gt;6</title>\n<path fill=\"none\" stroke=\"#000000\" d=\"M1205.5,-1380.8043C1205.5,-1332.2476 1205.5,-1243.2681 1205.5,-1189.5866\"/>\n<polygon fill=\"#000000\" stroke=\"#000000\" points=\"1209.0001,-1189.3434 1205.5,-1179.3434 1202.0001,-1189.3435 1209.0001,-1189.3434\"/>\n</g>\n<!-- 11 -->\n<g id=\"node4\" class=\"node\">\n<title>11</title>\n<path fill=\"#e99254\" stroke=\"#000000\" d=\"M437,-910C437,-910 292,-910 292,-910 286,-910 280,-904 280,-898 280,-898 280,-854 280,-854 280,-848 286,-842 292,-842 292,-842 437,-842 437,-842 443,-842 449,-848 449,-854 449,-854 449,-898 449,-898 449,-904 443,-910 437,-910\"/>\n<text text-anchor=\"start\" x=\"311.5\" y=\"-894.8\" font-family=\"Helvetica,sans-Serif\" font-size=\"14.00\" fill=\"#000000\">milepost ≤ 236.5</text>\n<text text-anchor=\"start\" x=\"288\" y=\"-879.8\" font-family=\"Helvetica,sans-Serif\" font-size=\"14.00\" fill=\"#000000\">squared_error = 226.43</text>\n<text text-anchor=\"start\" x=\"316.5\" y=\"-864.8\" font-family=\"Helvetica,sans-Serif\" font-size=\"14.00\" fill=\"#000000\">samples = 793</text>\n<text text-anchor=\"start\" x=\"320.5\" y=\"-849.8\" font-family=\"Helvetica,sans-Serif\" font-size=\"14.00\" fill=\"#000000\">value = 41.81</text>\n</g>\n<!-- 5&#45;&gt;11 -->\n<g id=\"edge3\" class=\"edge\">\n<title>5&#45;&gt;11</title>\n<path fill=\"none\" stroke=\"#000000\" d=\"M771.4808,-1110.931C684.8508,-1060.9235 523.6717,-967.8824 432.2973,-915.1362\"/>\n<polygon fill=\"#000000\" stroke=\"#000000\" points=\"433.8171,-911.9723 423.4067,-910.0041 430.3175,-918.0347 433.8171,-911.9723\"/>\n</g>\n<!-- 12 -->\n<g id=\"node9\" class=\"node\">\n<title>12</title>\n<path fill=\"#eba06a\" stroke=\"#000000\" d=\"M967.5,-910C967.5,-910 693.5,-910 693.5,-910 687.5,-910 681.5,-904 681.5,-898 681.5,-898 681.5,-854 681.5,-854 681.5,-848 687.5,-842 693.5,-842 693.5,-842 967.5,-842 967.5,-842 973.5,-842 979.5,-848 979.5,-854 979.5,-854 979.5,-898 979.5,-898 979.5,-904 973.5,-910 967.5,-910\"/>\n<text text-anchor=\"start\" x=\"689.5\" y=\"-894.8\" font-family=\"Helvetica,sans-Serif\" font-size=\"14.00\" fill=\"#000000\">aotuTrainData.heavy143TonCarCount ≤ 0.5</text>\n<text text-anchor=\"start\" x=\"754\" y=\"-879.8\" font-family=\"Helvetica,sans-Serif\" font-size=\"14.00\" fill=\"#000000\">squared_error = 196.36</text>\n<text text-anchor=\"start\" x=\"778.5\" y=\"-864.8\" font-family=\"Helvetica,sans-Serif\" font-size=\"14.00\" fill=\"#000000\">samples = 1081</text>\n<text text-anchor=\"start\" x=\"786.5\" y=\"-849.8\" font-family=\"Helvetica,sans-Serif\" font-size=\"14.00\" fill=\"#000000\">value = 30.99</text>\n</g>\n<!-- 5&#45;&gt;12 -->\n<g id=\"edge8\" class=\"edge\">\n<title>5&#45;&gt;12</title>\n<path fill=\"none\" stroke=\"#000000\" d=\"M830.5,-1110.931C830.5,-1062.5541 830.5,-973.9042 830.5,-920.4215\"/>\n<polygon fill=\"#000000\" stroke=\"#000000\" points=\"834.0001,-920.2162 830.5,-910.2162 827.0001,-920.2163 834.0001,-920.2162\"/>\n</g>\n<!-- 27 -->\n<g id=\"node5\" class=\"node\">\n<title>27</title>\n<path fill=\"#eca16c\" stroke=\"#000000\" d=\"M157,-95.5C157,-95.5 12,-95.5 12,-95.5 6,-95.5 0,-89.5 0,-83.5 0,-83.5 0,-54.5 0,-54.5 0,-48.5 6,-42.5 12,-42.5 12,-42.5 157,-42.5 157,-42.5 163,-42.5 169,-48.5 169,-54.5 169,-54.5 169,-83.5 169,-83.5 169,-89.5 163,-95.5 157,-95.5\"/>\n<text text-anchor=\"start\" x=\"8\" y=\"-80.3\" font-family=\"Helvetica,sans-Serif\" font-size=\"14.00\" fill=\"#000000\">squared_error = 284.74</text>\n<text text-anchor=\"start\" x=\"36.5\" y=\"-65.3\" font-family=\"Helvetica,sans-Serif\" font-size=\"14.00\" fill=\"#000000\">samples = 160</text>\n<text text-anchor=\"start\" x=\"40.5\" y=\"-50.3\" font-family=\"Helvetica,sans-Serif\" font-size=\"14.00\" fill=\"#000000\">value = 30.09</text>\n</g>\n<!-- 11&#45;&gt;27 -->\n<g id=\"edge4\" class=\"edge\">\n<title>11&#45;&gt;27</title>\n<path fill=\"none\" stroke=\"#000000\" d=\"M343.1249,-841.829C302.3548,-776.6523 217.5,-641 217.5,-641 217.5,-641 122.4504,-232.2151 93.0563,-105.7984\"/>\n<polygon fill=\"#000000\" stroke=\"#000000\" points=\"96.4104,-104.769 90.7365,-95.8215 89.5923,-106.3544 96.4104,-104.769\"/>\n</g>\n<!-- 28 -->\n<g id=\"node6\" class=\"node\">\n<title>28</title>\n<path fill=\"#e88e4e\" stroke=\"#000000\" d=\"M490,-641C490,-641 239,-641 239,-641 233,-641 227,-635 227,-629 227,-629 227,-585 227,-585 227,-579 233,-573 239,-573 239,-573 490,-573 490,-573 496,-573 502,-579 502,-585 502,-585 502,-629 502,-629 502,-635 496,-641 490,-641\"/>\n<text text-anchor=\"start\" x=\"235\" y=\"-625.8\" font-family=\"Helvetica,sans-Serif\" font-size=\"14.00\" fill=\"#000000\">lastReportedPosition.speedMPH ≤ &#45;49.5</text>\n<text text-anchor=\"start\" x=\"288\" y=\"-610.8\" font-family=\"Helvetica,sans-Serif\" font-size=\"14.00\" fill=\"#000000\">squared_error = 168.21</text>\n<text text-anchor=\"start\" x=\"316.5\" y=\"-595.8\" font-family=\"Helvetica,sans-Serif\" font-size=\"14.00\" fill=\"#000000\">samples = 633</text>\n<text text-anchor=\"start\" x=\"320.5\" y=\"-580.8\" font-family=\"Helvetica,sans-Serif\" font-size=\"14.00\" fill=\"#000000\">value = 44.77</text>\n</g>\n<!-- 11&#45;&gt;28 -->\n<g id=\"edge5\" class=\"edge\">\n<title>11&#45;&gt;28</title>\n<path fill=\"none\" stroke=\"#000000\" d=\"M364.5,-841.931C364.5,-793.5541 364.5,-704.9042 364.5,-651.4215\"/>\n<polygon fill=\"#000000\" stroke=\"#000000\" points=\"368.0001,-651.2162 364.5,-641.2162 361.0001,-651.2163 368.0001,-651.2162\"/>\n</g>\n<!-- 29 -->\n<g id=\"node7\" class=\"node\">\n<title>29</title>\n<path fill=\"#e58139\" stroke=\"#000000\" d=\"M344,-95.5C344,-95.5 199,-95.5 199,-95.5 193,-95.5 187,-89.5 187,-83.5 187,-83.5 187,-54.5 187,-54.5 187,-48.5 193,-42.5 199,-42.5 199,-42.5 344,-42.5 344,-42.5 350,-42.5 356,-48.5 356,-54.5 356,-54.5 356,-83.5 356,-83.5 356,-89.5 350,-95.5 344,-95.5\"/>\n<text text-anchor=\"start\" x=\"195\" y=\"-80.3\" font-family=\"Helvetica,sans-Serif\" font-size=\"14.00\" fill=\"#000000\">squared_error = 120.88</text>\n<text text-anchor=\"start\" x=\"223.5\" y=\"-65.3\" font-family=\"Helvetica,sans-Serif\" font-size=\"14.00\" fill=\"#000000\">samples = 213</text>\n<text text-anchor=\"start\" x=\"227.5\" y=\"-50.3\" font-family=\"Helvetica,sans-Serif\" font-size=\"14.00\" fill=\"#000000\">value = 55.25</text>\n</g>\n<!-- 28&#45;&gt;29 -->\n<g id=\"edge6\" class=\"edge\">\n<title>28&#45;&gt;29</title>\n<path fill=\"none\" stroke=\"#000000\" d=\"M358.6119,-572.9375C342.027,-476.9952 295.0194,-205.0582 277.8657,-105.8253\"/>\n<polygon fill=\"#000000\" stroke=\"#000000\" points=\"281.2647,-104.9404 276.1124,-95.6827 274.367,-106.1328 281.2647,-104.9404\"/>\n</g>\n<!-- 30 -->\n<g id=\"node8\" class=\"node\">\n<title>30</title>\n<path fill=\"#e99559\" stroke=\"#000000\" d=\"M531,-95.5C531,-95.5 386,-95.5 386,-95.5 380,-95.5 374,-89.5 374,-83.5 374,-83.5 374,-54.5 374,-54.5 374,-48.5 380,-42.5 386,-42.5 386,-42.5 531,-42.5 531,-42.5 537,-42.5 543,-48.5 543,-54.5 543,-54.5 543,-83.5 543,-83.5 543,-89.5 537,-95.5 531,-95.5\"/>\n<text text-anchor=\"start\" x=\"382\" y=\"-80.3\" font-family=\"Helvetica,sans-Serif\" font-size=\"14.00\" fill=\"#000000\">squared_error = 108.17</text>\n<text text-anchor=\"start\" x=\"410.5\" y=\"-65.3\" font-family=\"Helvetica,sans-Serif\" font-size=\"14.00\" fill=\"#000000\">samples = 420</text>\n<text text-anchor=\"start\" x=\"414.5\" y=\"-50.3\" font-family=\"Helvetica,sans-Serif\" font-size=\"14.00\" fill=\"#000000\">value = 39.45</text>\n</g>\n<!-- 28&#45;&gt;30 -->\n<g id=\"edge7\" class=\"edge\">\n<title>28&#45;&gt;30</title>\n<path fill=\"none\" stroke=\"#000000\" d=\"M370.4514,-572.9375C387.2146,-476.9952 434.7277,-205.0582 452.0658,-105.8253\"/>\n<polygon fill=\"#000000\" stroke=\"#000000\" points=\"455.5645,-106.1359 453.838,-95.6827 448.669,-104.9311 455.5645,-106.1359\"/>\n</g>\n<!-- 13 -->\n<g id=\"node10\" class=\"node\">\n<title>13</title>\n<path fill=\"#eeac7d\" stroke=\"#000000\" d=\"M902.5,-641C902.5,-641 746.5,-641 746.5,-641 740.5,-641 734.5,-635 734.5,-629 734.5,-629 734.5,-585 734.5,-585 734.5,-579 740.5,-573 746.5,-573 746.5,-573 902.5,-573 902.5,-573 908.5,-573 914.5,-579 914.5,-585 914.5,-585 914.5,-629 914.5,-629 914.5,-635 908.5,-641 902.5,-641\"/>\n<text text-anchor=\"start\" x=\"742.5\" y=\"-625.8\" font-family=\"Helvetica,sans-Serif\" font-size=\"14.00\" fill=\"#000000\">trainId.trainSymbol ≤ 52.0</text>\n<text text-anchor=\"start\" x=\"748\" y=\"-610.8\" font-family=\"Helvetica,sans-Serif\" font-size=\"14.00\" fill=\"#000000\">squared_error = 145.51</text>\n<text text-anchor=\"start\" x=\"776.5\" y=\"-595.8\" font-family=\"Helvetica,sans-Serif\" font-size=\"14.00\" fill=\"#000000\">samples = 509</text>\n<text text-anchor=\"start\" x=\"780.5\" y=\"-580.8\" font-family=\"Helvetica,sans-Serif\" font-size=\"14.00\" fill=\"#000000\">value = 21.74</text>\n</g>\n<!-- 12&#45;&gt;13 -->\n<g id=\"edge9\" class=\"edge\">\n<title>12&#45;&gt;13</title>\n<path fill=\"none\" stroke=\"#000000\" d=\"M829.7401,-841.931C828.6611,-793.5541 826.6837,-704.9042 825.4908,-651.4215\"/>\n<polygon fill=\"#000000\" stroke=\"#000000\" points=\"828.9854,-651.1357 825.2632,-641.2162 821.9871,-651.2918 828.9854,-651.1357\"/>\n</g>\n<!-- 14 -->\n<g id=\"node13\" class=\"node\">\n<title>14</title>\n<path fill=\"#e99659\" stroke=\"#000000\" d=\"M1076,-95.5C1076,-95.5 939,-95.5 939,-95.5 933,-95.5 927,-89.5 927,-83.5 927,-83.5 927,-54.5 927,-54.5 927,-48.5 933,-42.5 939,-42.5 939,-42.5 1076,-42.5 1076,-42.5 1082,-42.5 1088,-48.5 1088,-54.5 1088,-54.5 1088,-83.5 1088,-83.5 1088,-89.5 1082,-95.5 1076,-95.5\"/>\n<text text-anchor=\"start\" x=\"935\" y=\"-80.3\" font-family=\"Helvetica,sans-Serif\" font-size=\"14.00\" fill=\"#000000\">squared_error = 97.87</text>\n<text text-anchor=\"start\" x=\"959.5\" y=\"-65.3\" font-family=\"Helvetica,sans-Serif\" font-size=\"14.00\" fill=\"#000000\">samples = 572</text>\n<text text-anchor=\"start\" x=\"963.5\" y=\"-50.3\" font-family=\"Helvetica,sans-Serif\" font-size=\"14.00\" fill=\"#000000\">value = 39.22</text>\n</g>\n<!-- 12&#45;&gt;14 -->\n<g id=\"edge12\" class=\"edge\">\n<title>12&#45;&gt;14</title>\n<path fill=\"none\" stroke=\"#000000\" d=\"M844.023,-841.829C869.8163,-776.6523 923.5,-641 923.5,-641 923.5,-641 983.5314,-232.2151 1002.096,-105.7984\"/>\n<polygon fill=\"#000000\" stroke=\"#000000\" points=\"1005.571,-106.224 1003.5612,-95.8215 998.6453,-105.2069 1005.571,-106.224\"/>\n</g>\n<!-- 15 -->\n<g id=\"node11\" class=\"node\">\n<title>15</title>\n<path fill=\"#efb184\" stroke=\"#000000\" d=\"M710,-95.5C710,-95.5 573,-95.5 573,-95.5 567,-95.5 561,-89.5 561,-83.5 561,-83.5 561,-54.5 561,-54.5 561,-48.5 567,-42.5 573,-42.5 573,-42.5 710,-42.5 710,-42.5 716,-42.5 722,-48.5 722,-54.5 722,-54.5 722,-83.5 722,-83.5 722,-89.5 716,-95.5 710,-95.5\"/>\n<text text-anchor=\"start\" x=\"569\" y=\"-80.3\" font-family=\"Helvetica,sans-Serif\" font-size=\"14.00\" fill=\"#000000\">squared_error = 42.67</text>\n<text text-anchor=\"start\" x=\"593.5\" y=\"-65.3\" font-family=\"Helvetica,sans-Serif\" font-size=\"14.00\" fill=\"#000000\">samples = 427</text>\n<text text-anchor=\"start\" x=\"597.5\" y=\"-50.3\" font-family=\"Helvetica,sans-Serif\" font-size=\"14.00\" fill=\"#000000\">value = 17.95</text>\n</g>\n<!-- 13&#45;&gt;15 -->\n<g id=\"edge10\" class=\"edge\">\n<title>13&#45;&gt;15</title>\n<path fill=\"none\" stroke=\"#000000\" d=\"M812.9137,-572.9375C780.213,-476.801 687.4053,-203.9565 653.8218,-105.2248\"/>\n<polygon fill=\"#000000\" stroke=\"#000000\" points=\"657.11,-104.0229 650.5761,-95.6827 650.4829,-106.2772 657.11,-104.0229\"/>\n</g>\n<!-- 16 -->\n<g id=\"node12\" class=\"node\">\n<title>16</title>\n<path fill=\"#e99355\" stroke=\"#000000\" d=\"M897,-95.5C897,-95.5 752,-95.5 752,-95.5 746,-95.5 740,-89.5 740,-83.5 740,-83.5 740,-54.5 740,-54.5 740,-48.5 746,-42.5 752,-42.5 752,-42.5 897,-42.5 897,-42.5 903,-42.5 909,-48.5 909,-54.5 909,-54.5 909,-83.5 909,-83.5 909,-89.5 903,-95.5 897,-95.5\"/>\n<text text-anchor=\"start\" x=\"748\" y=\"-80.3\" font-family=\"Helvetica,sans-Serif\" font-size=\"14.00\" fill=\"#000000\">squared_error = 215.84</text>\n<text text-anchor=\"start\" x=\"780.5\" y=\"-65.3\" font-family=\"Helvetica,sans-Serif\" font-size=\"14.00\" fill=\"#000000\">samples = 82</text>\n<text text-anchor=\"start\" x=\"784.5\" y=\"-50.3\" font-family=\"Helvetica,sans-Serif\" font-size=\"14.00\" fill=\"#000000\">value = 41.5</text>\n</g>\n<!-- 13&#45;&gt;16 -->\n<g id=\"edge11\" class=\"edge\">\n<title>13&#45;&gt;16</title>\n<path fill=\"none\" stroke=\"#000000\" d=\"M824.5,-572.9375C824.5,-476.9952 824.5,-205.0582 824.5,-105.8253\"/>\n<polygon fill=\"#000000\" stroke=\"#000000\" points=\"828.0001,-105.6827 824.5,-95.6827 821.0001,-105.6828 828.0001,-105.6827\"/>\n</g>\n<!-- 21 -->\n<g id=\"node15\" class=\"node\">\n<title>21</title>\n<path fill=\"#f1bc95\" stroke=\"#000000\" d=\"M1263,-95.5C1263,-95.5 1118,-95.5 1118,-95.5 1112,-95.5 1106,-89.5 1106,-83.5 1106,-83.5 1106,-54.5 1106,-54.5 1106,-48.5 1112,-42.5 1118,-42.5 1118,-42.5 1263,-42.5 1263,-42.5 1269,-42.5 1275,-48.5 1275,-54.5 1275,-54.5 1275,-83.5 1275,-83.5 1275,-89.5 1269,-95.5 1263,-95.5\"/>\n<text text-anchor=\"start\" x=\"1114\" y=\"-80.3\" font-family=\"Helvetica,sans-Serif\" font-size=\"14.00\" fill=\"#000000\">squared_error = 181.43</text>\n<text text-anchor=\"start\" x=\"1142.5\" y=\"-65.3\" font-family=\"Helvetica,sans-Serif\" font-size=\"14.00\" fill=\"#000000\">samples = 151</text>\n<text text-anchor=\"start\" x=\"1150.5\" y=\"-50.3\" font-family=\"Helvetica,sans-Serif\" font-size=\"14.00\" fill=\"#000000\">value = 9.59</text>\n</g>\n<!-- 6&#45;&gt;21 -->\n<g id=\"edge14\" class=\"edge\">\n<title>6&#45;&gt;21</title>\n<path fill=\"none\" stroke=\"#000000\" d=\"M1205.0221,-1110.7199C1202.7825,-950.0675 1193.3372,-272.5202 1191.0166,-106.0548\"/>\n<polygon fill=\"#000000\" stroke=\"#000000\" points=\"1194.5133,-105.7903 1190.8742,-95.8401 1187.514,-105.8879 1194.5133,-105.7903\"/>\n</g>\n<!-- 22 -->\n<g id=\"node16\" class=\"node\">\n<title>22</title>\n<path fill=\"#eda876\" stroke=\"#000000\" d=\"M1450,-910C1450,-910 1305,-910 1305,-910 1299,-910 1293,-904 1293,-898 1293,-898 1293,-854 1293,-854 1293,-848 1299,-842 1305,-842 1305,-842 1450,-842 1450,-842 1456,-842 1462,-848 1462,-854 1462,-854 1462,-898 1462,-898 1462,-904 1456,-910 1450,-910\"/>\n<text text-anchor=\"start\" x=\"1304.5\" y=\"-894.8\" font-family=\"Helvetica,sans-Serif\" font-size=\"14.00\" fill=\"#000000\">emptyCarCount ≤ 24.5</text>\n<text text-anchor=\"start\" x=\"1301\" y=\"-879.8\" font-family=\"Helvetica,sans-Serif\" font-size=\"14.00\" fill=\"#000000\">squared_error = 134.48</text>\n<text text-anchor=\"start\" x=\"1325.5\" y=\"-864.8\" font-family=\"Helvetica,sans-Serif\" font-size=\"14.00\" fill=\"#000000\">samples = 1559</text>\n<text text-anchor=\"start\" x=\"1333.5\" y=\"-849.8\" font-family=\"Helvetica,sans-Serif\" font-size=\"14.00\" fill=\"#000000\">value = 24.97</text>\n</g>\n<!-- 6&#45;&gt;22 -->\n<g id=\"edge15\" class=\"edge\">\n<title>6&#45;&gt;22</title>\n<path fill=\"none\" stroke=\"#000000\" d=\"M1227.2839,-1110.931C1258.5385,-1062.0502 1316.0833,-972.0529 1350.1579,-918.7617\"/>\n<polygon fill=\"#000000\" stroke=\"#000000\" points=\"1353.1837,-920.5267 1355.622,-910.2162 1347.2862,-916.7558 1353.1837,-920.5267\"/>\n</g>\n<!-- 25 -->\n<g id=\"node17\" class=\"node\">\n<title>25</title>\n<path fill=\"#eead7e\" stroke=\"#000000\" d=\"M1450,-95.5C1450,-95.5 1305,-95.5 1305,-95.5 1299,-95.5 1293,-89.5 1293,-83.5 1293,-83.5 1293,-54.5 1293,-54.5 1293,-48.5 1299,-42.5 1305,-42.5 1305,-42.5 1450,-42.5 1450,-42.5 1456,-42.5 1462,-48.5 1462,-54.5 1462,-54.5 1462,-83.5 1462,-83.5 1462,-89.5 1456,-95.5 1450,-95.5\"/>\n<text text-anchor=\"start\" x=\"1301\" y=\"-80.3\" font-family=\"Helvetica,sans-Serif\" font-size=\"14.00\" fill=\"#000000\">squared_error = 136.49</text>\n<text text-anchor=\"start\" x=\"1329.5\" y=\"-65.3\" font-family=\"Helvetica,sans-Serif\" font-size=\"14.00\" fill=\"#000000\">samples = 848</text>\n<text text-anchor=\"start\" x=\"1333.5\" y=\"-50.3\" font-family=\"Helvetica,sans-Serif\" font-size=\"14.00\" fill=\"#000000\">value = 21.11</text>\n</g>\n<!-- 22&#45;&gt;25 -->\n<g id=\"edge16\" class=\"edge\">\n<title>22&#45;&gt;25</title>\n<path fill=\"none\" stroke=\"#000000\" d=\"M1377.5,-841.8397C1377.5,-710.8371 1377.5,-241.1271 1377.5,-105.7546\"/>\n<polygon fill=\"#000000\" stroke=\"#000000\" points=\"1381.0001,-105.5054 1377.5,-95.5054 1374.0001,-105.5055 1381.0001,-105.5054\"/>\n</g>\n<!-- 26 -->\n<g id=\"node18\" class=\"node\">\n<title>26</title>\n<path fill=\"#eca26d\" stroke=\"#000000\" d=\"M1629,-95.5C1629,-95.5 1492,-95.5 1492,-95.5 1486,-95.5 1480,-89.5 1480,-83.5 1480,-83.5 1480,-54.5 1480,-54.5 1480,-48.5 1486,-42.5 1492,-42.5 1492,-42.5 1629,-42.5 1629,-42.5 1635,-42.5 1641,-48.5 1641,-54.5 1641,-54.5 1641,-83.5 1641,-83.5 1641,-89.5 1635,-95.5 1629,-95.5\"/>\n<text text-anchor=\"start\" x=\"1488\" y=\"-80.3\" font-family=\"Helvetica,sans-Serif\" font-size=\"14.00\" fill=\"#000000\">squared_error = 93.12</text>\n<text text-anchor=\"start\" x=\"1512.5\" y=\"-65.3\" font-family=\"Helvetica,sans-Serif\" font-size=\"14.00\" fill=\"#000000\">samples = 711</text>\n<text text-anchor=\"start\" x=\"1516.5\" y=\"-50.3\" font-family=\"Helvetica,sans-Serif\" font-size=\"14.00\" fill=\"#000000\">value = 29.58</text>\n</g>\n<!-- 22&#45;&gt;26 -->\n<g id=\"edge17\" class=\"edge\">\n<title>22&#45;&gt;26</title>\n<path fill=\"none\" stroke=\"#000000\" d=\"M1385.2464,-841.8397C1414.9831,-710.7057 1521.6812,-240.1845 1552.2574,-105.3483\"/>\n<polygon fill=\"#000000\" stroke=\"#000000\" points=\"1555.6912,-106.0319 1554.4895,-95.5054 1548.8645,-104.4838 1555.6912,-106.0319\"/>\n</g>\n<!-- 3 -->\n<g id=\"node20\" class=\"node\">\n<title>3</title>\n<path fill=\"#f4c8a9\" stroke=\"#000000\" d=\"M2001,-1179C2001,-1179 1486,-1179 1486,-1179 1480,-1179 1474,-1173 1474,-1167 1474,-1167 1474,-1123 1474,-1123 1474,-1117 1480,-1111 1486,-1111 1486,-1111 2001,-1111 2001,-1111 2007,-1111 2013,-1117 2013,-1123 2013,-1123 2013,-1167 2013,-1167 2013,-1173 2007,-1179 2001,-1179\"/>\n<text text-anchor=\"start\" x=\"1482\" y=\"-1163.8\" font-family=\"Helvetica,sans-Serif\" font-size=\"14.00\" fill=\"#000000\">lastReportedPosition.nextSignalState.milepostLocation.milepostNumber ≤ 306.13</text>\n<text text-anchor=\"start\" x=\"1667\" y=\"-1148.8\" font-family=\"Helvetica,sans-Serif\" font-size=\"14.00\" fill=\"#000000\">squared_error = 136.79</text>\n<text text-anchor=\"start\" x=\"1691.5\" y=\"-1133.8\" font-family=\"Helvetica,sans-Serif\" font-size=\"14.00\" fill=\"#000000\">samples = 2536</text>\n<text text-anchor=\"start\" x=\"1701\" y=\"-1118.8\" font-family=\"Helvetica,sans-Serif\" font-size=\"14.00\" fill=\"#000000\">value = &#45;0.27</text>\n</g>\n<!-- 2&#45;&gt;3 -->\n<g id=\"edge19\" class=\"edge\">\n<title>2&#45;&gt;3</title>\n<path fill=\"none\" stroke=\"#000000\" d=\"M1743.5,-1380.8043C1743.5,-1332.2476 1743.5,-1243.2681 1743.5,-1189.5866\"/>\n<polygon fill=\"#000000\" stroke=\"#000000\" points=\"1747.0001,-1189.3434 1743.5,-1179.3434 1740.0001,-1189.3435 1747.0001,-1189.3434\"/>\n</g>\n<!-- 4 -->\n<g id=\"node23\" class=\"node\">\n<title>4</title>\n<path fill=\"#fae7d9\" stroke=\"#000000\" d=\"M2188,-1179C2188,-1179 2043,-1179 2043,-1179 2037,-1179 2031,-1173 2031,-1167 2031,-1167 2031,-1123 2031,-1123 2031,-1117 2037,-1111 2043,-1111 2043,-1111 2188,-1111 2188,-1111 2194,-1111 2200,-1117 2200,-1123 2200,-1123 2200,-1167 2200,-1167 2200,-1173 2194,-1179 2188,-1179\"/>\n<text text-anchor=\"start\" x=\"2050.5\" y=\"-1163.8\" font-family=\"Helvetica,sans-Serif\" font-size=\"14.00\" fill=\"#000000\">workLocations ≤ 0.5</text>\n<text text-anchor=\"start\" x=\"2039\" y=\"-1148.8\" font-family=\"Helvetica,sans-Serif\" font-size=\"14.00\" fill=\"#000000\">squared_error = 229.68</text>\n<text text-anchor=\"start\" x=\"2063.5\" y=\"-1133.8\" font-family=\"Helvetica,sans-Serif\" font-size=\"14.00\" fill=\"#000000\">samples = 3041</text>\n<text text-anchor=\"start\" x=\"2069\" y=\"-1118.8\" font-family=\"Helvetica,sans-Serif\" font-size=\"14.00\" fill=\"#000000\">value = &#45;23.76</text>\n</g>\n<!-- 2&#45;&gt;4 -->\n<g id=\"edge22\" class=\"edge\">\n<title>2&#45;&gt;4</title>\n<path fill=\"none\" stroke=\"#000000\" d=\"M1790.6141,-1380.8043C1859.4204,-1330.8642 1987.1391,-1238.1652 2060.2702,-1185.0861\"/>\n<polygon fill=\"#000000\" stroke=\"#000000\" points=\"2062.4387,-1187.837 2068.4758,-1179.1305 2058.3269,-1182.1719 2062.4387,-1187.837\"/>\n</g>\n<!-- 23 -->\n<g id=\"node21\" class=\"node\">\n<title>23</title>\n<path fill=\"#f4caab\" stroke=\"#000000\" d=\"M1816,-95.5C1816,-95.5 1671,-95.5 1671,-95.5 1665,-95.5 1659,-89.5 1659,-83.5 1659,-83.5 1659,-54.5 1659,-54.5 1659,-48.5 1665,-42.5 1671,-42.5 1671,-42.5 1816,-42.5 1816,-42.5 1822,-42.5 1828,-48.5 1828,-54.5 1828,-54.5 1828,-83.5 1828,-83.5 1828,-89.5 1822,-95.5 1816,-95.5\"/>\n<text text-anchor=\"start\" x=\"1667\" y=\"-80.3\" font-family=\"Helvetica,sans-Serif\" font-size=\"14.00\" fill=\"#000000\">squared_error = 120.27</text>\n<text text-anchor=\"start\" x=\"1691.5\" y=\"-65.3\" font-family=\"Helvetica,sans-Serif\" font-size=\"14.00\" fill=\"#000000\">samples = 2411</text>\n<text text-anchor=\"start\" x=\"1701\" y=\"-50.3\" font-family=\"Helvetica,sans-Serif\" font-size=\"14.00\" fill=\"#000000\">value = &#45;1.09</text>\n</g>\n<!-- 3&#45;&gt;23 -->\n<g id=\"edge20\" class=\"edge\">\n<title>3&#45;&gt;23</title>\n<path fill=\"none\" stroke=\"#000000\" d=\"M1743.5,-1110.7199C1743.5,-950.0675 1743.5,-272.5202 1743.5,-106.0548\"/>\n<polygon fill=\"#000000\" stroke=\"#000000\" points=\"1747.0001,-105.84 1743.5,-95.8401 1740.0001,-105.8401 1747.0001,-105.84\"/>\n</g>\n<!-- 24 -->\n<g id=\"node22\" class=\"node\">\n<title>24</title>\n<path fill=\"#f0b48a\" stroke=\"#000000\" d=\"M2003,-95.5C2003,-95.5 1858,-95.5 1858,-95.5 1852,-95.5 1846,-89.5 1846,-83.5 1846,-83.5 1846,-54.5 1846,-54.5 1846,-48.5 1852,-42.5 1858,-42.5 1858,-42.5 2003,-42.5 2003,-42.5 2009,-42.5 2015,-48.5 2015,-54.5 2015,-54.5 2015,-83.5 2015,-83.5 2015,-89.5 2009,-95.5 2003,-95.5\"/>\n<text text-anchor=\"start\" x=\"1854\" y=\"-80.3\" font-family=\"Helvetica,sans-Serif\" font-size=\"14.00\" fill=\"#000000\">squared_error = 195.19</text>\n<text text-anchor=\"start\" x=\"1882.5\" y=\"-65.3\" font-family=\"Helvetica,sans-Serif\" font-size=\"14.00\" fill=\"#000000\">samples = 125</text>\n<text text-anchor=\"start\" x=\"1886.5\" y=\"-50.3\" font-family=\"Helvetica,sans-Serif\" font-size=\"14.00\" fill=\"#000000\">value = 15.46</text>\n</g>\n<!-- 3&#45;&gt;24 -->\n<g id=\"edge21\" class=\"edge\">\n<title>3&#45;&gt;24</title>\n<path fill=\"none\" stroke=\"#000000\" d=\"M1749.4576,-1110.7199C1777.3777,-950.0675 1895.1299,-272.5202 1924.0602,-106.0548\"/>\n<polygon fill=\"#000000\" stroke=\"#000000\" points=\"1927.5714,-106.2917 1925.8354,-95.8401 1920.6748,-105.0931 1927.5714,-106.2917\"/>\n</g>\n<!-- 7 -->\n<g id=\"node24\" class=\"node\">\n<title>7</title>\n<path fill=\"#fef8f4\" stroke=\"#000000\" d=\"M2183,-95.5C2183,-95.5 2046,-95.5 2046,-95.5 2040,-95.5 2034,-89.5 2034,-83.5 2034,-83.5 2034,-54.5 2034,-54.5 2034,-48.5 2040,-42.5 2046,-42.5 2046,-42.5 2183,-42.5 2183,-42.5 2189,-42.5 2195,-48.5 2195,-54.5 2195,-54.5 2195,-83.5 2195,-83.5 2195,-89.5 2189,-95.5 2183,-95.5\"/>\n<text text-anchor=\"start\" x=\"2042\" y=\"-80.3\" font-family=\"Helvetica,sans-Serif\" font-size=\"14.00\" fill=\"#000000\">squared_error = 99.01</text>\n<text text-anchor=\"start\" x=\"2066.5\" y=\"-65.3\" font-family=\"Helvetica,sans-Serif\" font-size=\"14.00\" fill=\"#000000\">samples = 453</text>\n<text text-anchor=\"start\" x=\"2068\" y=\"-50.3\" font-family=\"Helvetica,sans-Serif\" font-size=\"14.00\" fill=\"#000000\">value = &#45;37.24</text>\n</g>\n<!-- 4&#45;&gt;7 -->\n<g id=\"edge23\" class=\"edge\">\n<title>4&#45;&gt;7</title>\n<path fill=\"none\" stroke=\"#000000\" d=\"M2115.4681,-1110.7199C2115.3188,-950.0675 2114.6891,-272.5202 2114.5344,-106.0548\"/>\n<polygon fill=\"#000000\" stroke=\"#000000\" points=\"2118.0343,-105.8368 2114.5249,-95.8401 2111.0343,-105.8434 2118.0343,-105.8368\"/>\n</g>\n<!-- 8 -->\n<g id=\"node25\" class=\"node\">\n<title>8</title>\n<path fill=\"#f9e4d4\" stroke=\"#000000\" d=\"M2474.5,-910C2474.5,-910 2154.5,-910 2154.5,-910 2148.5,-910 2142.5,-904 2142.5,-898 2142.5,-898 2142.5,-854 2142.5,-854 2142.5,-848 2148.5,-842 2154.5,-842 2154.5,-842 2474.5,-842 2474.5,-842 2480.5,-842 2486.5,-848 2486.5,-854 2486.5,-854 2486.5,-898 2486.5,-898 2486.5,-904 2480.5,-910 2474.5,-910\"/>\n<text text-anchor=\"start\" x=\"2150.5\" y=\"-894.8\" font-family=\"Helvetica,sans-Serif\" font-size=\"14.00\" fill=\"#000000\">aotuTrainData.totalLocomotiveWeight ≤ 8435000.0</text>\n<text text-anchor=\"start\" x=\"2238\" y=\"-879.8\" font-family=\"Helvetica,sans-Serif\" font-size=\"14.00\" fill=\"#000000\">squared_error = 215.17</text>\n<text text-anchor=\"start\" x=\"2262.5\" y=\"-864.8\" font-family=\"Helvetica,sans-Serif\" font-size=\"14.00\" fill=\"#000000\">samples = 2588</text>\n<text text-anchor=\"start\" x=\"2272\" y=\"-849.8\" font-family=\"Helvetica,sans-Serif\" font-size=\"14.00\" fill=\"#000000\">value = &#45;21.4</text>\n</g>\n<!-- 4&#45;&gt;8 -->\n<g id=\"edge24\" class=\"edge\">\n<title>4&#45;&gt;8</title>\n<path fill=\"none\" stroke=\"#000000\" d=\"M2140.7035,-1110.931C2176.9389,-1061.9494 2243.717,-971.6816 2283.1094,-918.4325\"/>\n<polygon fill=\"#000000\" stroke=\"#000000\" points=\"2286.0541,-920.3371 2289.1876,-910.2162 2280.4266,-916.174 2286.0541,-920.3371\"/>\n</g>\n<!-- 9 -->\n<g id=\"node26\" class=\"node\">\n<title>9</title>\n<path fill=\"#fcf0e8\" stroke=\"#000000\" d=\"M2378,-95.5C2378,-95.5 2233,-95.5 2233,-95.5 2227,-95.5 2221,-89.5 2221,-83.5 2221,-83.5 2221,-54.5 2221,-54.5 2221,-48.5 2227,-42.5 2233,-42.5 2233,-42.5 2378,-42.5 2378,-42.5 2384,-42.5 2390,-48.5 2390,-54.5 2390,-54.5 2390,-83.5 2390,-83.5 2390,-89.5 2384,-95.5 2378,-95.5\"/>\n<text text-anchor=\"start\" x=\"2229\" y=\"-80.3\" font-family=\"Helvetica,sans-Serif\" font-size=\"14.00\" fill=\"#000000\">squared_error = 245.56</text>\n<text text-anchor=\"start\" x=\"2257.5\" y=\"-65.3\" font-family=\"Helvetica,sans-Serif\" font-size=\"14.00\" fill=\"#000000\">samples = 489</text>\n<text text-anchor=\"start\" x=\"2259\" y=\"-50.3\" font-family=\"Helvetica,sans-Serif\" font-size=\"14.00\" fill=\"#000000\">value = &#45;31.03</text>\n</g>\n<!-- 8&#45;&gt;9 -->\n<g id=\"edge25\" class=\"edge\">\n<title>8&#45;&gt;9</title>\n<path fill=\"none\" stroke=\"#000000\" d=\"M2314.119,-841.8397C2312.658,-710.8371 2307.4196,-241.1271 2305.9099,-105.7546\"/>\n<polygon fill=\"#000000\" stroke=\"#000000\" points=\"2309.407,-105.4658 2305.7956,-95.5054 2302.4074,-105.5439 2309.407,-105.4658\"/>\n</g>\n<!-- 10 -->\n<g id=\"node27\" class=\"node\">\n<title>10</title>\n<path fill=\"#f9e1d0\" stroke=\"#000000\" d=\"M2565,-641C2565,-641 2420,-641 2420,-641 2414,-641 2408,-635 2408,-629 2408,-629 2408,-585 2408,-585 2408,-579 2414,-573 2420,-573 2420,-573 2565,-573 2565,-573 2571,-573 2577,-579 2577,-585 2577,-585 2577,-629 2577,-629 2577,-635 2571,-641 2565,-641\"/>\n<text text-anchor=\"start\" x=\"2417\" y=\"-625.8\" font-family=\"Helvetica,sans-Serif\" font-size=\"14.00\" fill=\"#000000\">loadedCarCount ≤ 99.5</text>\n<text text-anchor=\"start\" x=\"2416\" y=\"-610.8\" font-family=\"Helvetica,sans-Serif\" font-size=\"14.00\" fill=\"#000000\">squared_error = 181.43</text>\n<text text-anchor=\"start\" x=\"2440.5\" y=\"-595.8\" font-family=\"Helvetica,sans-Serif\" font-size=\"14.00\" fill=\"#000000\">samples = 2099</text>\n<text text-anchor=\"start\" x=\"2446\" y=\"-580.8\" font-family=\"Helvetica,sans-Serif\" font-size=\"14.00\" fill=\"#000000\">value = &#45;19.15</text>\n</g>\n<!-- 8&#45;&gt;10 -->\n<g id=\"edge26\" class=\"edge\">\n<title>8&#45;&gt;10</title>\n<path fill=\"none\" stroke=\"#000000\" d=\"M2337.0438,-841.931C2369.3887,-793.0502 2428.9408,-703.0529 2464.2042,-649.7617\"/>\n<polygon fill=\"#000000\" stroke=\"#000000\" points=\"2467.2592,-651.4872 2469.8588,-641.2162 2461.4215,-647.6243 2467.2592,-651.4872\"/>\n</g>\n<!-- 17 -->\n<g id=\"node28\" class=\"node\">\n<title>17</title>\n<path fill=\"#f8decb\" stroke=\"#000000\" d=\"M2565,-95.5C2565,-95.5 2420,-95.5 2420,-95.5 2414,-95.5 2408,-89.5 2408,-83.5 2408,-83.5 2408,-54.5 2408,-54.5 2408,-48.5 2414,-42.5 2420,-42.5 2420,-42.5 2565,-42.5 2565,-42.5 2571,-42.5 2577,-48.5 2577,-54.5 2577,-54.5 2577,-83.5 2577,-83.5 2577,-89.5 2571,-95.5 2565,-95.5\"/>\n<text text-anchor=\"start\" x=\"2416\" y=\"-80.3\" font-family=\"Helvetica,sans-Serif\" font-size=\"14.00\" fill=\"#000000\">squared_error = 138.72</text>\n<text text-anchor=\"start\" x=\"2440.5\" y=\"-65.3\" font-family=\"Helvetica,sans-Serif\" font-size=\"14.00\" fill=\"#000000\">samples = 1600</text>\n<text text-anchor=\"start\" x=\"2446\" y=\"-50.3\" font-family=\"Helvetica,sans-Serif\" font-size=\"14.00\" fill=\"#000000\">value = &#45;16.78</text>\n</g>\n<!-- 10&#45;&gt;17 -->\n<g id=\"edge27\" class=\"edge\">\n<title>10&#45;&gt;17</title>\n<path fill=\"none\" stroke=\"#000000\" d=\"M2492.5,-572.9375C2492.5,-476.9952 2492.5,-205.0582 2492.5,-105.8253\"/>\n<polygon fill=\"#000000\" stroke=\"#000000\" points=\"2496.0001,-105.6827 2492.5,-95.6827 2489.0001,-105.6828 2496.0001,-105.6827\"/>\n</g>\n<!-- 18 -->\n<g id=\"node29\" class=\"node\">\n<title>18</title>\n<path fill=\"#fbebdf\" stroke=\"#000000\" d=\"M2752,-372C2752,-372 2607,-372 2607,-372 2601,-372 2595,-366 2595,-360 2595,-360 2595,-316 2595,-316 2595,-310 2601,-304 2607,-304 2607,-304 2752,-304 2752,-304 2758,-304 2764,-310 2764,-316 2764,-316 2764,-360 2764,-360 2764,-366 2758,-372 2752,-372\"/>\n<text text-anchor=\"start\" x=\"2613\" y=\"-356.8\" font-family=\"Helvetica,sans-Serif\" font-size=\"14.00\" fill=\"#000000\">trainLength ≤ 9174.0</text>\n<text text-anchor=\"start\" x=\"2603\" y=\"-341.8\" font-family=\"Helvetica,sans-Serif\" font-size=\"14.00\" fill=\"#000000\">squared_error = 242.82</text>\n<text text-anchor=\"start\" x=\"2631.5\" y=\"-326.8\" font-family=\"Helvetica,sans-Serif\" font-size=\"14.00\" fill=\"#000000\">samples = 499</text>\n<text text-anchor=\"start\" x=\"2633\" y=\"-311.8\" font-family=\"Helvetica,sans-Serif\" font-size=\"14.00\" fill=\"#000000\">value = &#45;26.74</text>\n</g>\n<!-- 10&#45;&gt;18 -->\n<g id=\"edge28\" class=\"edge\">\n<title>10&#45;&gt;18</title>\n<path fill=\"none\" stroke=\"#000000\" d=\"M2516.1837,-572.931C2550.2341,-523.9494 2612.9853,-433.6816 2650.0023,-380.4325\"/>\n<polygon fill=\"#000000\" stroke=\"#000000\" points=\"2652.8798,-382.425 2655.714,-372.2162 2647.1322,-378.4294 2652.8798,-382.425\"/>\n</g>\n<!-- 19 -->\n<g id=\"node30\" class=\"node\">\n<title>19</title>\n<path fill=\"#ffffff\" stroke=\"#000000\" d=\"M2752,-95.5C2752,-95.5 2607,-95.5 2607,-95.5 2601,-95.5 2595,-89.5 2595,-83.5 2595,-83.5 2595,-54.5 2595,-54.5 2595,-48.5 2601,-42.5 2607,-42.5 2607,-42.5 2752,-42.5 2752,-42.5 2758,-42.5 2764,-48.5 2764,-54.5 2764,-54.5 2764,-83.5 2764,-83.5 2764,-89.5 2758,-95.5 2752,-95.5\"/>\n<text text-anchor=\"start\" x=\"2603\" y=\"-80.3\" font-family=\"Helvetica,sans-Serif\" font-size=\"14.00\" fill=\"#000000\">squared_error = 101.36</text>\n<text text-anchor=\"start\" x=\"2631.5\" y=\"-65.3\" font-family=\"Helvetica,sans-Serif\" font-size=\"14.00\" fill=\"#000000\">samples = 144</text>\n<text text-anchor=\"start\" x=\"2633\" y=\"-50.3\" font-family=\"Helvetica,sans-Serif\" font-size=\"14.00\" fill=\"#000000\">value = &#45;42.62</text>\n</g>\n<!-- 18&#45;&gt;19 -->\n<g id=\"edge29\" class=\"edge\">\n<title>18&#45;&gt;19</title>\n<path fill=\"none\" stroke=\"#000000\" d=\"M2679.5,-303.931C2679.5,-253.1419 2679.5,-157.9633 2679.5,-105.6927\"/>\n<polygon fill=\"#000000\" stroke=\"#000000\" points=\"2683.0001,-105.5289 2679.5,-95.5289 2676.0001,-105.529 2683.0001,-105.5289\"/>\n</g>\n<!-- 20 -->\n<g id=\"node31\" class=\"node\">\n<title>20</title>\n<path fill=\"#f9e2d2\" stroke=\"#000000\" d=\"M2939,-95.5C2939,-95.5 2794,-95.5 2794,-95.5 2788,-95.5 2782,-89.5 2782,-83.5 2782,-83.5 2782,-54.5 2782,-54.5 2782,-48.5 2788,-42.5 2794,-42.5 2794,-42.5 2939,-42.5 2939,-42.5 2945,-42.5 2951,-48.5 2951,-54.5 2951,-54.5 2951,-83.5 2951,-83.5 2951,-89.5 2945,-95.5 2939,-95.5\"/>\n<text text-anchor=\"start\" x=\"2790\" y=\"-80.3\" font-family=\"Helvetica,sans-Serif\" font-size=\"14.00\" fill=\"#000000\">squared_error = 156.32</text>\n<text text-anchor=\"start\" x=\"2818.5\" y=\"-65.3\" font-family=\"Helvetica,sans-Serif\" font-size=\"14.00\" fill=\"#000000\">samples = 355</text>\n<text text-anchor=\"start\" x=\"2824\" y=\"-50.3\" font-family=\"Helvetica,sans-Serif\" font-size=\"14.00\" fill=\"#000000\">value = &#45;20.3</text>\n</g>\n<!-- 18&#45;&gt;20 -->\n<g id=\"edge30\" class=\"edge\">\n<title>18&#45;&gt;20</title>\n<path fill=\"none\" stroke=\"#000000\" d=\"M2703.1837,-303.931C2738.9328,-252.5057 2806.318,-155.5719 2842.3437,-103.7489\"/>\n<polygon fill=\"#000000\" stroke=\"#000000\" points=\"2845.2238,-105.7377 2848.0579,-95.5289 2839.4761,-101.7421 2845.2238,-105.7377\"/>\n</g>\n</g>\n</svg>\n"
          },
          "metadata": {},
          "execution_count": 39
        }
      ]
    },
    {
      "cell_type": "code",
      "source": [
        "m = DecisionTreeRegressor(min_samples_leaf=10)\n",
        "m.fit(xs, y);"
      ],
      "metadata": {
        "id": "_wto32TJkud4"
      },
      "execution_count": null,
      "outputs": []
    },
    {
      "cell_type": "code",
      "source": [
        "def r_mse(pred,y): return round(math.sqrt(((pred-y)**2).mean()), 6)\n",
        "def m_rmse(m, xs, y): return r_mse(m.predict(xs), y)"
      ],
      "metadata": {
        "id": "D53phc2JE5RC"
      },
      "execution_count": null,
      "outputs": []
    },
    {
      "cell_type": "code",
      "source": [
        "m_rmse(m, xs, y)"
      ],
      "metadata": {
        "colab": {
          "base_uri": "https://localhost:8080/"
        },
        "id": "8CYcTQHLHT4m",
        "outputId": "728766cf-283a-4931-edcd-8e2b339870d8"
      },
      "execution_count": null,
      "outputs": [
        {
          "output_type": "execute_result",
          "data": {
            "text/plain": [
              "4.413529"
            ]
          },
          "metadata": {},
          "execution_count": 42
        }
      ]
    },
    {
      "cell_type": "code",
      "source": [
        "m_rmse(m, valid_xs, valid_y)"
      ],
      "metadata": {
        "colab": {
          "base_uri": "https://localhost:8080/"
        },
        "id": "_oElvFDHHZHm",
        "outputId": "b5176f0d-7c8a-48c3-e5ea-30d0913af5fe"
      },
      "execution_count": null,
      "outputs": [
        {
          "output_type": "execute_result",
          "data": {
            "text/plain": [
              "17.093281"
            ]
          },
          "metadata": {},
          "execution_count": 43
        }
      ]
    },
    {
      "cell_type": "code",
      "source": [
        "def rf_feat_importance(m, df):\n",
        "    return pd.DataFrame({'cols':df.columns, 'imp':m.feature_importances_}\n",
        "                       ).sort_values('imp', ascending=False)"
      ],
      "metadata": {
        "id": "oCKCSQSlab4o"
      },
      "execution_count": null,
      "outputs": []
    },
    {
      "cell_type": "code",
      "source": [
        "fi = rf_feat_importance(m, xs)\n",
        "fi[:10]"
      ],
      "metadata": {
        "colab": {
          "base_uri": "https://localhost:8080/",
          "height": 363
        },
        "id": "jxENiQDXlYKl",
        "outputId": "c2316875-e850-4619-ea1b-e23709915af2"
      },
      "execution_count": null,
      "outputs": [
        {
          "output_type": "execute_result",
          "data": {
            "text/plain": [
              "                                                                    cols  \\\n",
              "33                                         lastReportedPosition.speedMPH   \n",
              "34         lastReportedPosition.milepostLocation.milepost.milepostNumber   \n",
              "59                              lastReportedPosition.positionTimeElapsed   \n",
              "0                                                    ptcLeadLocomotiveId   \n",
              "10                                                         workLocations   \n",
              "50  lastReportedPosition.nextSignalState.milepostLocation.milepostNumber   \n",
              "43                                     aotuTrainData.heavy143TonCarCount   \n",
              "41                                   aotuTrainData.totalLocomotiveLength   \n",
              "40                                   aotuTrainData.totalLocomotiveWeight   \n",
              "30                                                         emptyCarCount   \n",
              "\n",
              "         imp  \n",
              "33  0.797482  \n",
              "34  0.032692  \n",
              "59  0.016538  \n",
              "0   0.015547  \n",
              "10  0.015000  \n",
              "50  0.013693  \n",
              "43  0.013672  \n",
              "41  0.012529  \n",
              "40  0.012223  \n",
              "30  0.011297  "
            ],
            "text/html": [
              "\n",
              "  <div id=\"df-3ee808cc-1106-483e-81c5-c0b8648e7d0c\">\n",
              "    <div class=\"colab-df-container\">\n",
              "      <div>\n",
              "<style scoped>\n",
              "    .dataframe tbody tr th:only-of-type {\n",
              "        vertical-align: middle;\n",
              "    }\n",
              "\n",
              "    .dataframe tbody tr th {\n",
              "        vertical-align: top;\n",
              "    }\n",
              "\n",
              "    .dataframe thead th {\n",
              "        text-align: right;\n",
              "    }\n",
              "</style>\n",
              "<table border=\"1\" class=\"dataframe\">\n",
              "  <thead>\n",
              "    <tr style=\"text-align: right;\">\n",
              "      <th></th>\n",
              "      <th>cols</th>\n",
              "      <th>imp</th>\n",
              "    </tr>\n",
              "  </thead>\n",
              "  <tbody>\n",
              "    <tr>\n",
              "      <th>33</th>\n",
              "      <td>lastReportedPosition.speedMPH</td>\n",
              "      <td>0.797482</td>\n",
              "    </tr>\n",
              "    <tr>\n",
              "      <th>34</th>\n",
              "      <td>lastReportedPosition.milepostLocation.milepost.milepostNumber</td>\n",
              "      <td>0.032692</td>\n",
              "    </tr>\n",
              "    <tr>\n",
              "      <th>59</th>\n",
              "      <td>lastReportedPosition.positionTimeElapsed</td>\n",
              "      <td>0.016538</td>\n",
              "    </tr>\n",
              "    <tr>\n",
              "      <th>0</th>\n",
              "      <td>ptcLeadLocomotiveId</td>\n",
              "      <td>0.015547</td>\n",
              "    </tr>\n",
              "    <tr>\n",
              "      <th>10</th>\n",
              "      <td>workLocations</td>\n",
              "      <td>0.015000</td>\n",
              "    </tr>\n",
              "    <tr>\n",
              "      <th>50</th>\n",
              "      <td>lastReportedPosition.nextSignalState.milepostLocation.milepostNumber</td>\n",
              "      <td>0.013693</td>\n",
              "    </tr>\n",
              "    <tr>\n",
              "      <th>43</th>\n",
              "      <td>aotuTrainData.heavy143TonCarCount</td>\n",
              "      <td>0.013672</td>\n",
              "    </tr>\n",
              "    <tr>\n",
              "      <th>41</th>\n",
              "      <td>aotuTrainData.totalLocomotiveLength</td>\n",
              "      <td>0.012529</td>\n",
              "    </tr>\n",
              "    <tr>\n",
              "      <th>40</th>\n",
              "      <td>aotuTrainData.totalLocomotiveWeight</td>\n",
              "      <td>0.012223</td>\n",
              "    </tr>\n",
              "    <tr>\n",
              "      <th>30</th>\n",
              "      <td>emptyCarCount</td>\n",
              "      <td>0.011297</td>\n",
              "    </tr>\n",
              "  </tbody>\n",
              "</table>\n",
              "</div>\n",
              "      <button class=\"colab-df-convert\" onclick=\"convertToInteractive('df-3ee808cc-1106-483e-81c5-c0b8648e7d0c')\"\n",
              "              title=\"Convert this dataframe to an interactive table.\"\n",
              "              style=\"display:none;\">\n",
              "        \n",
              "  <svg xmlns=\"http://www.w3.org/2000/svg\" height=\"24px\"viewBox=\"0 0 24 24\"\n",
              "       width=\"24px\">\n",
              "    <path d=\"M0 0h24v24H0V0z\" fill=\"none\"/>\n",
              "    <path d=\"M18.56 5.44l.94 2.06.94-2.06 2.06-.94-2.06-.94-.94-2.06-.94 2.06-2.06.94zm-11 1L8.5 8.5l.94-2.06 2.06-.94-2.06-.94L8.5 2.5l-.94 2.06-2.06.94zm10 10l.94 2.06.94-2.06 2.06-.94-2.06-.94-.94-2.06-.94 2.06-2.06.94z\"/><path d=\"M17.41 7.96l-1.37-1.37c-.4-.4-.92-.59-1.43-.59-.52 0-1.04.2-1.43.59L10.3 9.45l-7.72 7.72c-.78.78-.78 2.05 0 2.83L4 21.41c.39.39.9.59 1.41.59.51 0 1.02-.2 1.41-.59l7.78-7.78 2.81-2.81c.8-.78.8-2.07 0-2.86zM5.41 20L4 18.59l7.72-7.72 1.47 1.35L5.41 20z\"/>\n",
              "  </svg>\n",
              "      </button>\n",
              "      \n",
              "  <style>\n",
              "    .colab-df-container {\n",
              "      display:flex;\n",
              "      flex-wrap:wrap;\n",
              "      gap: 12px;\n",
              "    }\n",
              "\n",
              "    .colab-df-convert {\n",
              "      background-color: #E8F0FE;\n",
              "      border: none;\n",
              "      border-radius: 50%;\n",
              "      cursor: pointer;\n",
              "      display: none;\n",
              "      fill: #1967D2;\n",
              "      height: 32px;\n",
              "      padding: 0 0 0 0;\n",
              "      width: 32px;\n",
              "    }\n",
              "\n",
              "    .colab-df-convert:hover {\n",
              "      background-color: #E2EBFA;\n",
              "      box-shadow: 0px 1px 2px rgba(60, 64, 67, 0.3), 0px 1px 3px 1px rgba(60, 64, 67, 0.15);\n",
              "      fill: #174EA6;\n",
              "    }\n",
              "\n",
              "    [theme=dark] .colab-df-convert {\n",
              "      background-color: #3B4455;\n",
              "      fill: #D2E3FC;\n",
              "    }\n",
              "\n",
              "    [theme=dark] .colab-df-convert:hover {\n",
              "      background-color: #434B5C;\n",
              "      box-shadow: 0px 1px 3px 1px rgba(0, 0, 0, 0.15);\n",
              "      filter: drop-shadow(0px 1px 2px rgba(0, 0, 0, 0.3));\n",
              "      fill: #FFFFFF;\n",
              "    }\n",
              "  </style>\n",
              "\n",
              "      <script>\n",
              "        const buttonEl =\n",
              "          document.querySelector('#df-3ee808cc-1106-483e-81c5-c0b8648e7d0c button.colab-df-convert');\n",
              "        buttonEl.style.display =\n",
              "          google.colab.kernel.accessAllowed ? 'block' : 'none';\n",
              "\n",
              "        async function convertToInteractive(key) {\n",
              "          const element = document.querySelector('#df-3ee808cc-1106-483e-81c5-c0b8648e7d0c');\n",
              "          const dataTable =\n",
              "            await google.colab.kernel.invokeFunction('convertToInteractive',\n",
              "                                                     [key], {});\n",
              "          if (!dataTable) return;\n",
              "\n",
              "          const docLinkHtml = 'Like what you see? Visit the ' +\n",
              "            '<a target=\"_blank\" href=https://colab.research.google.com/notebooks/data_table.ipynb>data table notebook</a>'\n",
              "            + ' to learn more about interactive tables.';\n",
              "          element.innerHTML = '';\n",
              "          dataTable['output_type'] = 'display_data';\n",
              "          await google.colab.output.renderOutput(dataTable, element);\n",
              "          const docLink = document.createElement('div');\n",
              "          docLink.innerHTML = docLinkHtml;\n",
              "          element.appendChild(docLink);\n",
              "        }\n",
              "      </script>\n",
              "    </div>\n",
              "  </div>\n",
              "  "
            ]
          },
          "metadata": {},
          "execution_count": 45
        }
      ]
    },
    {
      "cell_type": "markdown",
      "source": [
        "Our first result! It appears the previous speed is so heavily influencing the next speed, it swamps everything else."
      ],
      "metadata": {
        "id": "GAU4iShuUTlj"
      }
    },
    {
      "cell_type": "code",
      "source": [
        "ax = xs['lastReportedPosition.speedMPH'].hist()\n"
      ],
      "metadata": {
        "colab": {
          "base_uri": "https://localhost:8080/",
          "height": 265
        },
        "id": "W_xHGvS4mTAv",
        "outputId": "e95c20f8-3573-4e77-ac83-f94ec0d72e7f"
      },
      "execution_count": null,
      "outputs": [
        {
          "output_type": "display_data",
          "data": {
            "text/plain": [
              "<Figure size 432x288 with 1 Axes>"
            ],
            "image/png": "[encoded data removed]"
          },
          "metadata": {
            "needs_background": "light"
          }
        }
      ]
    },
    {
      "cell_type": "code",
      "source": [
        "from sklearn.inspection import plot_partial_dependence\n",
        "\n",
        "fig,ax = plt.subplots(figsize=(12, 4))\n",
        "plot_partial_dependence(m, xs, ['lastReportedPosition.speedMPH'],\n",
        "                        grid_resolution=20, ax=ax);"
      ],
      "metadata": {
        "colab": {
          "base_uri": "https://localhost:8080/",
          "height": 334
        },
        "id": "dVfYTqKvniXo",
        "outputId": "d2ff620c-dead-45d2-fa95-7b761fd3f906"
      },
      "execution_count": null,
      "outputs": [
        {
          "output_type": "stream",
          "name": "stderr",
          "text": [
            "/usr/local/lib/python3.7/dist-packages/sklearn/utils/deprecation.py:87: FutureWarning: Function plot_partial_dependence is deprecated; Function `plot_partial_dependence` is deprecated in 1.0 and will be removed in 1.2. Use PartialDependenceDisplay.from_estimator instead\n",
            "  warnings.warn(msg, category=FutureWarning)\n"
          ]
        },
        {
          "output_type": "display_data",
          "data": {
            "text/plain": [
              "<Figure size 864x288 with 2 Axes>"
            ],
            "image/png": "[encoded data removed]"
          },
          "metadata": {
            "needs_background": "light"
          }
        }
      ]
    },
    {
      "cell_type": "markdown",
      "source": [
        "This is sort of a dur moment, saying \"Speeds don't change a lot one milepost to the next\".  "
      ],
      "metadata": {
        "id": "CmpVELOUoF-l"
      }
    },
    {
      "cell_type": "markdown",
      "source": [
        "#Random Forest"
      ],
      "metadata": {
        "id": "-iGNWlJDmQrV"
      }
    },
    {
      "cell_type": "code",
      "source": [
        "def randomForest(xs, y, n_estimators=50, max_samples=2500,\n",
        "       max_features=0.5, min_samples_leaf=5, **kwargs):\n",
        "    return RandomForestRegressor(n_jobs=-1, n_estimators=n_estimators,\n",
        "        max_samples=max_samples, max_features=max_features,\n",
        "        min_samples_leaf=min_samples_leaf, oob_score=True).fit(xs, y)"
      ],
      "metadata": {
        "id": "FllkOgNkUTGW"
      },
      "execution_count": null,
      "outputs": []
    },
    {
      "cell_type": "code",
      "source": [
        "m = randomForest(xs, y);"
      ],
      "metadata": {
        "id": "OqX5AcTWVRXE"
      },
      "execution_count": null,
      "outputs": []
    },
    {
      "cell_type": "code",
      "source": [
        "m_rmse(m, xs, y), m_rmse(m, valid_xs, valid_y)"
      ],
      "metadata": {
        "colab": {
          "base_uri": "https://localhost:8080/"
        },
        "id": "33ncywqjVcwn",
        "outputId": "4355bba7-f73f-4f42-9e08-83c55d6aa7ce"
      },
      "execution_count": null,
      "outputs": [
        {
          "output_type": "execute_result",
          "data": {
            "text/plain": [
              "(5.160191, 11.317438)"
            ]
          },
          "metadata": {},
          "execution_count": 91
        }
      ]
    },
    {
      "cell_type": "code",
      "source": [
        "preds = np.stack([t.predict(valid_xs) for t in m.estimators_])"
      ],
      "metadata": {
        "id": "Dg6iyZCIW0Nt"
      },
      "execution_count": null,
      "outputs": []
    },
    {
      "cell_type": "code",
      "source": [
        "r_mse(preds.mean(0), valid_y)"
      ],
      "metadata": {
        "id": "5UldrkUhXFbi",
        "outputId": "60f56c37-56e8-44e8-8e71-b9388c190e8c",
        "colab": {
          "base_uri": "https://localhost:8080/"
        }
      },
      "execution_count": null,
      "outputs": [
        {
          "output_type": "execute_result",
          "data": {
            "text/plain": [
              "11.317438"
            ]
          },
          "metadata": {},
          "execution_count": 93
        }
      ]
    },
    {
      "cell_type": "code",
      "source": [
        "plt.plot([r_mse(preds[:i+1].mean(0), valid_y) for i in range(50)]);"
      ],
      "metadata": {
        "colab": {
          "base_uri": "https://localhost:8080/",
          "height": 265
        },
        "id": "eT0fXh6uXIp1",
        "outputId": "c3fb1fc2-ab15-471f-d2e7-951ff7b50a71"
      },
      "execution_count": null,
      "outputs": [
        {
          "output_type": "display_data",
          "data": {
            "text/plain": [
              "<Figure size 432x288 with 1 Axes>"
            ],
            "image/png": "[encoded data removed]"
          },
          "metadata": {
            "needs_background": "light"
          }
        }
      ]
    },
    {
      "cell_type": "markdown",
      "source": [
        "### Out-of-Bag Error"
      ],
      "metadata": {
        "id": "GN-VS3_2YsOd"
      }
    },
    {
      "cell_type": "code",
      "source": [
        "r_mse(m.oob_prediction_, y)"
      ],
      "metadata": {
        "colab": {
          "base_uri": "https://localhost:8080/"
        },
        "id": "tvwS19-6Yc20",
        "outputId": "3d6e8a2c-708c-4caf-897a-a5fd221bee80"
      },
      "execution_count": null,
      "outputs": [
        {
          "output_type": "execute_result",
          "data": {
            "text/plain": [
              "5.751199"
            ]
          },
          "metadata": {},
          "execution_count": 95
        }
      ]
    },
    {
      "cell_type": "code",
      "source": [
        ""
      ],
      "metadata": {
        "id": "URHsHfuMZDAS"
      },
      "execution_count": null,
      "outputs": []
    },
    {
      "cell_type": "markdown",
      "source": [
        "- How confident are we in our predictions using a particular row of data?\n",
        "- For predicting with a particular row of data, what were the most important factors, and how did they influence that prediction?\n",
        "- Which columns are the strongest predictors, which can we ignore?\n",
        "- Which columns are effectively redundant with each other, for purposes of prediction?\n",
        "- How do predictions vary, as we vary these columns?\n"
      ],
      "metadata": {
        "id": "-jSxQWTZZDfx"
      }
    },
    {
      "cell_type": "code",
      "source": [
        "preds = np.stack([t.predict(valid_xs) for t in m.estimators_])"
      ],
      "metadata": {
        "id": "eS53q1RUZRva"
      },
      "execution_count": null,
      "outputs": []
    },
    {
      "cell_type": "code",
      "source": [
        "preds.shape"
      ],
      "metadata": {
        "colab": {
          "base_uri": "https://localhost:8080/"
        },
        "id": "quArhZFkZtq_",
        "outputId": "598c2956-208a-48e1-a243-60e09070cb45"
      },
      "execution_count": null,
      "outputs": [
        {
          "output_type": "execute_result",
          "data": {
            "text/plain": [
              "(50, 893)"
            ]
          },
          "metadata": {},
          "execution_count": 97
        }
      ]
    },
    {
      "cell_type": "code",
      "source": [
        "preds_std = preds.std(0)"
      ],
      "metadata": {
        "id": "xZCBhV9MZxSH"
      },
      "execution_count": null,
      "outputs": []
    },
    {
      "cell_type": "code",
      "source": [
        "preds_std[:5]"
      ],
      "metadata": {
        "colab": {
          "base_uri": "https://localhost:8080/"
        },
        "id": "ZvKvldDdZ44S",
        "outputId": "c1c83e3d-05e9-4c71-d64c-c47ea7aa250a"
      },
      "execution_count": null,
      "outputs": [
        {
          "output_type": "execute_result",
          "data": {
            "text/plain": [
              "array([3.60806304, 3.72033919, 3.62327066, 2.0375765 , 2.1497783 ])"
            ]
          },
          "metadata": {},
          "execution_count": 325
        }
      ]
    },
    {
      "cell_type": "markdown",
      "source": [
        "# FEATURE Importance"
      ],
      "metadata": {
        "id": "tkENwKVIaPXc"
      }
    },
    {
      "cell_type": "code",
      "source": [
        "fi = rf_feat_importance(m, xs)\n",
        "fi[:20]"
      ],
      "metadata": {
        "colab": {
          "base_uri": "https://localhost:8080/",
          "height": 676
        },
        "id": "_xddcBHXaj9O",
        "outputId": "e5420ae8-ea9e-439f-aba8-59ad8e10ac94"
      },
      "execution_count": null,
      "outputs": [
        {
          "output_type": "execute_result",
          "data": {
            "text/plain": [
              "                                                                         cols  \\\n",
              "33                                              lastReportedPosition.speedMPH   \n",
              "51                           lastReportedPosition.nextSignalState.signalState   \n",
              "49                      lastReportedPosition.precedingSignalState.signalState   \n",
              "48              lastReportedPosition.precedingSignalState.previousSignalState   \n",
              "59                                   lastReportedPosition.positionTimeElapsed   \n",
              "34              lastReportedPosition.milepostLocation.milepost.milepostNumber   \n",
              "29                                                             loadedCarCount   \n",
              "52                                                                   milepost   \n",
              "0                                                         ptcLeadLocomotiveId   \n",
              "47  lastReportedPosition.precedingSignalState.milepostLocation.milepostNumber   \n",
              "40                                        aotuTrainData.totalLocomotiveWeight   \n",
              "32                                                            trailingTonnage   \n",
              "50       lastReportedPosition.nextSignalState.milepostLocation.milepostNumber   \n",
              "31                                                                trainLength   \n",
              "6                             lastReportedPosition.milepostLocation.trackName   \n",
              "3                                                         trainId.trainSymbol   \n",
              "10                                                              workLocations   \n",
              "30                                                              emptyCarCount   \n",
              "41                                        aotuTrainData.totalLocomotiveLength   \n",
              "38                                               aotuTrainData.totalCarWeight   \n",
              "\n",
              "         imp  \n",
              "33  0.540494  \n",
              "51  0.118546  \n",
              "49  0.091535  \n",
              "48  0.028604  \n",
              "59  0.023231  \n",
              "34  0.021292  \n",
              "29  0.015003  \n",
              "52  0.014782  \n",
              "0   0.012566  \n",
              "47  0.010666  \n",
              "40  0.010287  \n",
              "32  0.009564  \n",
              "50  0.009500  \n",
              "31  0.008210  \n",
              "6   0.008039  \n",
              "3   0.007889  \n",
              "10  0.007628  \n",
              "30  0.006520  \n",
              "41  0.006198  \n",
              "38  0.006120  "
            ],
            "text/html": [
              "\n",
              "  <div id=\"df-ac5a54e8-53be-4cd0-8ca2-9aed70d8c233\">\n",
              "    <div class=\"colab-df-container\">\n",
              "      <div>\n",
              "<style scoped>\n",
              "    .dataframe tbody tr th:only-of-type {\n",
              "        vertical-align: middle;\n",
              "    }\n",
              "\n",
              "    .dataframe tbody tr th {\n",
              "        vertical-align: top;\n",
              "    }\n",
              "\n",
              "    .dataframe thead th {\n",
              "        text-align: right;\n",
              "    }\n",
              "</style>\n",
              "<table border=\"1\" class=\"dataframe\">\n",
              "  <thead>\n",
              "    <tr style=\"text-align: right;\">\n",
              "      <th></th>\n",
              "      <th>cols</th>\n",
              "      <th>imp</th>\n",
              "    </tr>\n",
              "  </thead>\n",
              "  <tbody>\n",
              "    <tr>\n",
              "      <th>33</th>\n",
              "      <td>lastReportedPosition.speedMPH</td>\n",
              "      <td>0.540494</td>\n",
              "    </tr>\n",
              "    <tr>\n",
              "      <th>51</th>\n",
              "      <td>lastReportedPosition.nextSignalState.signalState</td>\n",
              "      <td>0.118546</td>\n",
              "    </tr>\n",
              "    <tr>\n",
              "      <th>49</th>\n",
              "      <td>lastReportedPosition.precedingSignalState.signalState</td>\n",
              "      <td>0.091535</td>\n",
              "    </tr>\n",
              "    <tr>\n",
              "      <th>48</th>\n",
              "      <td>lastReportedPosition.precedingSignalState.previousSignalState</td>\n",
              "      <td>0.028604</td>\n",
              "    </tr>\n",
              "    <tr>\n",
              "      <th>59</th>\n",
              "      <td>lastReportedPosition.positionTimeElapsed</td>\n",
              "      <td>0.023231</td>\n",
              "    </tr>\n",
              "    <tr>\n",
              "      <th>34</th>\n",
              "      <td>lastReportedPosition.milepostLocation.milepost.milepostNumber</td>\n",
              "      <td>0.021292</td>\n",
              "    </tr>\n",
              "    <tr>\n",
              "      <th>29</th>\n",
              "      <td>loadedCarCount</td>\n",
              "      <td>0.015003</td>\n",
              "    </tr>\n",
              "    <tr>\n",
              "      <th>52</th>\n",
              "      <td>milepost</td>\n",
              "      <td>0.014782</td>\n",
              "    </tr>\n",
              "    <tr>\n",
              "      <th>0</th>\n",
              "      <td>ptcLeadLocomotiveId</td>\n",
              "      <td>0.012566</td>\n",
              "    </tr>\n",
              "    <tr>\n",
              "      <th>47</th>\n",
              "      <td>lastReportedPosition.precedingSignalState.milepostLocation.milepostNumber</td>\n",
              "      <td>0.010666</td>\n",
              "    </tr>\n",
              "    <tr>\n",
              "      <th>40</th>\n",
              "      <td>aotuTrainData.totalLocomotiveWeight</td>\n",
              "      <td>0.010287</td>\n",
              "    </tr>\n",
              "    <tr>\n",
              "      <th>32</th>\n",
              "      <td>trailingTonnage</td>\n",
              "      <td>0.009564</td>\n",
              "    </tr>\n",
              "    <tr>\n",
              "      <th>50</th>\n",
              "      <td>lastReportedPosition.nextSignalState.milepostLocation.milepostNumber</td>\n",
              "      <td>0.009500</td>\n",
              "    </tr>\n",
              "    <tr>\n",
              "      <th>31</th>\n",
              "      <td>trainLength</td>\n",
              "      <td>0.008210</td>\n",
              "    </tr>\n",
              "    <tr>\n",
              "      <th>6</th>\n",
              "      <td>lastReportedPosition.milepostLocation.trackName</td>\n",
              "      <td>0.008039</td>\n",
              "    </tr>\n",
              "    <tr>\n",
              "      <th>3</th>\n",
              "      <td>trainId.trainSymbol</td>\n",
              "      <td>0.007889</td>\n",
              "    </tr>\n",
              "    <tr>\n",
              "      <th>10</th>\n",
              "      <td>workLocations</td>\n",
              "      <td>0.007628</td>\n",
              "    </tr>\n",
              "    <tr>\n",
              "      <th>30</th>\n",
              "      <td>emptyCarCount</td>\n",
              "      <td>0.006520</td>\n",
              "    </tr>\n",
              "    <tr>\n",
              "      <th>41</th>\n",
              "      <td>aotuTrainData.totalLocomotiveLength</td>\n",
              "      <td>0.006198</td>\n",
              "    </tr>\n",
              "    <tr>\n",
              "      <th>38</th>\n",
              "      <td>aotuTrainData.totalCarWeight</td>\n",
              "      <td>0.006120</td>\n",
              "    </tr>\n",
              "  </tbody>\n",
              "</table>\n",
              "</div>\n",
              "      <button class=\"colab-df-convert\" onclick=\"convertToInteractive('df-ac5a54e8-53be-4cd0-8ca2-9aed70d8c233')\"\n",
              "              title=\"Convert this dataframe to an interactive table.\"\n",
              "              style=\"display:none;\">\n",
              "        \n",
              "  <svg xmlns=\"http://www.w3.org/2000/svg\" height=\"24px\"viewBox=\"0 0 24 24\"\n",
              "       width=\"24px\">\n",
              "    <path d=\"M0 0h24v24H0V0z\" fill=\"none\"/>\n",
              "    <path d=\"M18.56 5.44l.94 2.06.94-2.06 2.06-.94-2.06-.94-.94-2.06-.94 2.06-2.06.94zm-11 1L8.5 8.5l.94-2.06 2.06-.94-2.06-.94L8.5 2.5l-.94 2.06-2.06.94zm10 10l.94 2.06.94-2.06 2.06-.94-2.06-.94-.94-2.06-.94 2.06-2.06.94z\"/><path d=\"M17.41 7.96l-1.37-1.37c-.4-.4-.92-.59-1.43-.59-.52 0-1.04.2-1.43.59L10.3 9.45l-7.72 7.72c-.78.78-.78 2.05 0 2.83L4 21.41c.39.39.9.59 1.41.59.51 0 1.02-.2 1.41-.59l7.78-7.78 2.81-2.81c.8-.78.8-2.07 0-2.86zM5.41 20L4 18.59l7.72-7.72 1.47 1.35L5.41 20z\"/>\n",
              "  </svg>\n",
              "      </button>\n",
              "      \n",
              "  <style>\n",
              "    .colab-df-container {\n",
              "      display:flex;\n",
              "      flex-wrap:wrap;\n",
              "      gap: 12px;\n",
              "    }\n",
              "\n",
              "    .colab-df-convert {\n",
              "      background-color: #E8F0FE;\n",
              "      border: none;\n",
              "      border-radius: 50%;\n",
              "      cursor: pointer;\n",
              "      display: none;\n",
              "      fill: #1967D2;\n",
              "      height: 32px;\n",
              "      padding: 0 0 0 0;\n",
              "      width: 32px;\n",
              "    }\n",
              "\n",
              "    .colab-df-convert:hover {\n",
              "      background-color: #E2EBFA;\n",
              "      box-shadow: 0px 1px 2px rgba(60, 64, 67, 0.3), 0px 1px 3px 1px rgba(60, 64, 67, 0.15);\n",
              "      fill: #174EA6;\n",
              "    }\n",
              "\n",
              "    [theme=dark] .colab-df-convert {\n",
              "      background-color: #3B4455;\n",
              "      fill: #D2E3FC;\n",
              "    }\n",
              "\n",
              "    [theme=dark] .colab-df-convert:hover {\n",
              "      background-color: #434B5C;\n",
              "      box-shadow: 0px 1px 3px 1px rgba(0, 0, 0, 0.15);\n",
              "      filter: drop-shadow(0px 1px 2px rgba(0, 0, 0, 0.3));\n",
              "      fill: #FFFFFF;\n",
              "    }\n",
              "  </style>\n",
              "\n",
              "      <script>\n",
              "        const buttonEl =\n",
              "          document.querySelector('#df-ac5a54e8-53be-4cd0-8ca2-9aed70d8c233 button.colab-df-convert');\n",
              "        buttonEl.style.display =\n",
              "          google.colab.kernel.accessAllowed ? 'block' : 'none';\n",
              "\n",
              "        async function convertToInteractive(key) {\n",
              "          const element = document.querySelector('#df-ac5a54e8-53be-4cd0-8ca2-9aed70d8c233');\n",
              "          const dataTable =\n",
              "            await google.colab.kernel.invokeFunction('convertToInteractive',\n",
              "                                                     [key], {});\n",
              "          if (!dataTable) return;\n",
              "\n",
              "          const docLinkHtml = 'Like what you see? Visit the ' +\n",
              "            '<a target=\"_blank\" href=https://colab.research.google.com/notebooks/data_table.ipynb>data table notebook</a>'\n",
              "            + ' to learn more about interactive tables.';\n",
              "          element.innerHTML = '';\n",
              "          dataTable['output_type'] = 'display_data';\n",
              "          await google.colab.output.renderOutput(dataTable, element);\n",
              "          const docLink = document.createElement('div');\n",
              "          docLink.innerHTML = docLinkHtml;\n",
              "          element.appendChild(docLink);\n",
              "        }\n",
              "      </script>\n",
              "    </div>\n",
              "  </div>\n",
              "  "
            ]
          },
          "metadata": {},
          "execution_count": 99
        }
      ]
    },
    {
      "cell_type": "code",
      "source": [
        "def plot_fi(fi):\n",
        "    return fi.plot('cols', 'imp', 'barh', figsize=(12,7), legend=False)\n",
        "\n",
        "plot_fi(fi[:30]);"
      ],
      "metadata": {
        "colab": {
          "base_uri": "https://localhost:8080/",
          "height": 428
        },
        "id": "PrrzmK6AflwF",
        "outputId": "345797c8-72da-45ea-bc7e-38285e716e95"
      },
      "execution_count": null,
      "outputs": [
        {
          "output_type": "display_data",
          "data": {
            "text/plain": [
              "<Figure size 864x504 with 1 Axes>"
            ],
            "image/png": "[encoded data removed]"
          },
          "metadata": {
            "needs_background": "light"
          }
        }
      ]
    },
    {
      "cell_type": "markdown",
      "source": [
        "Remove low importance columns"
      ],
      "metadata": {
        "id": "ic6LbeWIf2EQ"
      }
    },
    {
      "cell_type": "code",
      "source": [
        "to_keep = fi[fi.imp>0.002].cols\n",
        "len(to_keep)"
      ],
      "metadata": {
        "colab": {
          "base_uri": "https://localhost:8080/"
        },
        "id": "jaWtqZdQfwmy",
        "outputId": "51122bc1-6d5d-404c-98a9-11ab9be0714e"
      },
      "execution_count": null,
      "outputs": [
        {
          "output_type": "execute_result",
          "data": {
            "text/plain": [
              "30"
            ]
          },
          "metadata": {},
          "execution_count": 102
        }
      ]
    },
    {
      "cell_type": "code",
      "source": [
        "xs_imp = xs[to_keep]\n",
        "valid_xs_imp = valid_xs[to_keep]"
      ],
      "metadata": {
        "id": "KK47uCFsgAYv"
      },
      "execution_count": null,
      "outputs": []
    },
    {
      "cell_type": "code",
      "source": [
        "m = randomForest(xs_imp, y)"
      ],
      "metadata": {
        "id": "GgFy875_gGp4"
      },
      "execution_count": null,
      "outputs": []
    },
    {
      "cell_type": "code",
      "source": [
        "m_rmse(m, xs_imp, y), m_rmse(m, valid_xs_imp, valid_y)"
      ],
      "metadata": {
        "colab": {
          "base_uri": "https://localhost:8080/"
        },
        "id": "5e5LZrqmgJf2",
        "outputId": "671de1e4-c63c-4093-d70c-7515a8633c03"
      },
      "execution_count": null,
      "outputs": [
        {
          "output_type": "execute_result",
          "data": {
            "text/plain": [
              "(5.127977, 11.471882)"
            ]
          },
          "metadata": {},
          "execution_count": 105
        }
      ]
    },
    {
      "cell_type": "code",
      "source": [
        "plot_fi(rf_feat_importance(m, xs_imp));"
      ],
      "metadata": {
        "colab": {
          "base_uri": "https://localhost:8080/",
          "height": 428
        },
        "id": "5Szx4cKsgKPL",
        "outputId": "3e52f1c0-59b2-44bd-ca94-369859eaffe8"
      },
      "execution_count": null,
      "outputs": [
        {
          "output_type": "display_data",
          "data": {
            "text/plain": [
              "<Figure size 864x504 with 1 Axes>"
            ],
            "image/png": "[encoded data removed]"
          },
          "metadata": {
            "needs_background": "light"
          }
        }
      ]
    },
    {
      "cell_type": "code",
      "source": [
        "fastai.cluster_columns(xs_imp)"
      ],
      "metadata": {
        "colab": {
          "base_uri": "https://localhost:8080/",
          "height": 374
        },
        "id": "ZRqtok8LhwlR",
        "outputId": "d69190e0-a365-4fd0-b382-56fa4cf294fe"
      },
      "execution_count": null,
      "outputs": [
        {
          "output_type": "display_data",
          "data": {
            "text/plain": [
              "<Figure size 720x432 with 1 Axes>"
            ],
            "image/png": "[encoded data removed]"
          },
          "metadata": {
            "needs_background": "light"
          }
        }
      ]
    }
  ],
  "metadata": {
    "colab": {
      "name": "MLModel1.ipynb",
      "provenance": [],
      "collapsed_sections": [],
      "include_colab_link": true
    },
    "interpreter": {
      "hash": "99fae7d265480b5fbb0cf965db398c4d2d7b17b55f6259418c7dbfe0de01ea90"
    },
    "kernelspec": {
      "display_name": "Python 3 (ipykernel)",
      "language": "python",
      "name": "python3"
    },
    "language_info": {
      "codemirror_mode": {
        "name": "ipython",
        "version": 3
      },
      "file_extension": ".py",
      "mimetype": "text/x-python",
      "name": "python",
      "nbconvert_exporter": "python",
      "pygments_lexer": "ipython3",
      "version": "3.9.12"
    }
  },
  "nbformat": 4,
  "nbformat_minor": 0
}