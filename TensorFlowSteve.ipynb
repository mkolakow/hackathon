{
  "cells": [
    {
      "cell_type": "markdown",
      "metadata": {
        "id": "view-in-github",
        "colab_type": "text"
      },
      "source": [
        "<a href=\"https://colab.research.google.com/github/swicklund/hackathon/blob/main/TensorFlowSteve.ipynb\" target=\"_parent\"><img src=\"https://colab.research.google.com/assets/colab-badge.svg\" alt=\"Open In Colab\"/></a>"
      ]
    },
    {
      "cell_type": "code",
      "execution_count": 3,
      "metadata": {
        "id": "f18J8QM17E0a"
      },
      "outputs": [],
      "source": [
        "import os\n",
        "\n",
        "import IPython\n",
        "import IPython.display\n",
        "import matplotlib as mpl\n",
        "import matplotlib.pyplot as plt\n",
        "import numpy as np\n",
        "import pandas as pd\n",
        "from pandas.io.json import json_normalize\n",
        "import seaborn as sns\n",
        "import tensorflow as tf\n",
        "import json\n",
        "import zipfile\n",
        "from io import BytesIO\n",
        "import torch\n",
        "import math\n",
        "from google.colab import files\n",
        "from google.colab import auth\n",
        "from datetime import datetime, timedelta\n"
      ]
    },
    {
      "cell_type": "code",
      "source": [
        "auth.authenticate_user()"
      ],
      "metadata": {
        "id": "_wNuGIFQT0nZ"
      },
      "execution_count": 4,
      "outputs": []
    },
    {
      "cell_type": "code",
      "execution_count": 5,
      "metadata": {
        "colab": {
          "base_uri": "https://localhost:8080/"
        },
        "id": "TpnuFITI6Tzu",
        "outputId": "91027395-adc8-4494-ef77-5d43bc447be5"
      },
      "outputs": [
        {
          "output_type": "stream",
          "name": "stdout",
          "text": [
            "Updated property [core/project].\n"
          ]
        }
      ],
      "source": [
        "!gcloud config set project {'hackathon-352519'}"
      ]
    },
    {
      "cell_type": "code",
      "source": [
        "!gsutil cp gs://trains_data/* /tmp/."
      ],
      "metadata": {
        "colab": {
          "base_uri": "https://localhost:8080/"
        },
        "id": "srQJL7OKVRww",
        "outputId": "625008d1-cdf1-408c-83f5-a5e9962a6696"
      },
      "execution_count": 6,
      "outputs": [
        {
          "output_type": "stream",
          "name": "stdout",
          "text": [
            "Copying gs://trains_data/train-data_all-train-events.zip...\n",
            "- [1 files][ 57.1 MiB/ 57.1 MiB]                                                \n",
            "Operation completed over 1 objects/57.1 MiB.                                     \n"
          ]
        }
      ]
    },
    {
      "cell_type": "code",
      "source": [
        ""
      ],
      "metadata": {
        "id": "eKb8izmgTzmA"
      },
      "execution_count": null,
      "outputs": []
    },
    {
      "cell_type": "code",
      "execution_count": 189,
      "metadata": {
        "id": "ckXLQ7eQ7E0c"
      },
      "outputs": [],
      "source": [
        "# z = zipfile.ZipFile('train-data_all-train-events.zip', 'r')\n",
        "\n",
        "x = {}\n",
        "trains = {}\n",
        "i = 1\n",
        "prevLoco = ''\n",
        "with zipfile.ZipFile(\"/tmp/train-data_all-train-events.zip\", \"r\") as f:\n",
        "    for name in f.namelist():\n",
        "        if name.endswith('.json'):\n",
        "            with f.open(name) as zd:\n",
        "                data = json.load(zd)\n",
        "                lastTrainReporting = data['lastTrainReporting']\n",
        "                currentLoco = lastTrainReporting['ptcLeadLocomotiveId']\n",
        "                if (prevLoco != currentLoco and \"trainActualPositionList\" in lastTrainReporting and \"trainEstimatedPositionList\" in lastTrainReporting and len(lastTrainReporting['trainEstimatedPositionList']) > 0):\n",
        "                    trainActualPositionList = lastTrainReporting['trainActualPositionList']\n",
        "                    for position in trainActualPositionList:\n",
        "                        positions = pd.json_normalize(position)\n",
        "                        trains[i] = pd.json_normalize(lastTrainReporting)\n",
        "#                             x[i] = pd.concat([train.ptcLeadLocomotiveId,trains[i][\"trainId.trainSymbol\"], trains[i][\"trainId.trainDate\"], positions], axis=1)\n",
        "                        x[i] = positions\n",
        "#                             trains[i] = train \n",
        "                        i = i + 1\n",
        "                        prevLoco = currentLoco\n",
        "                            "
      ]
    },
    {
      "cell_type": "code",
      "execution_count": 190,
      "metadata": {
        "id": "lgWV768N7E0d"
      },
      "outputs": [],
      "source": [
        "df = pd.concat(x.values())\n",
        "dfTrains = pd.concat(trains.values())"
      ]
    },
    {
      "cell_type": "code",
      "source": [
        "df.info()"
      ],
      "metadata": {
        "id": "U7eMpqp_RehS",
        "outputId": "789ba6de-343c-4896-ee3c-c5c1f5087721",
        "colab": {
          "base_uri": "https://localhost:8080/"
        }
      },
      "execution_count": 191,
      "outputs": [
        {
          "output_type": "stream",
          "name": "stdout",
          "text": [
            "<class 'pandas.core.frame.DataFrame'>\n",
            "Int64Index: 1696 entries, 0 to 0\n",
            "Data columns (total 13 columns):\n",
            " #   Column                                                Non-Null Count  Dtype  \n",
            "---  ------                                                --------------  -----  \n",
            " 0   positionTime                                          1696 non-null   object \n",
            " 1   speedMPH                                              1696 non-null   int64  \n",
            " 2   milepostLocation.subdivisionId                        1696 non-null   int64  \n",
            " 3   milepostLocation.trackName                            1696 non-null   object \n",
            " 4   milepostLocation.milepost.milepostNumber              1696 non-null   float64\n",
            " 5   nextSignalState.milepostLocation.milepostNumber       1106 non-null   float64\n",
            " 6   nextSignalState.signalState                           1106 non-null   float64\n",
            " 7   precedingSignalState.milepostLocation.milepostNumber  1166 non-null   float64\n",
            " 8   precedingSignalState.previousSignalState              996 non-null    float64\n",
            " 9   precedingSignalState.currentStateTime                 996 non-null    object \n",
            " 10  precedingSignalState.signalState                      1166 non-null   float64\n",
            " 11  nextSignalState.previousSignalState                   419 non-null    float64\n",
            " 12  nextSignalState.currentStateTime                      419 non-null    object \n",
            "dtypes: float64(7), int64(2), object(4)\n",
            "memory usage: 185.5+ KB\n"
          ]
        }
      ]
    },
    {
      "cell_type": "code",
      "execution_count": 192,
      "metadata": {
        "colab": {
          "base_uri": "https://localhost:8080/"
        },
        "id": "Idznxze77E0e",
        "outputId": "125e9207-3350-4a11-9146-f5df12068112"
      },
      "outputs": [
        {
          "output_type": "stream",
          "name": "stdout",
          "text": [
            "<class 'pandas.core.frame.DataFrame'>\n",
            "Int64Index: 1696 entries, 0 to 0\n",
            "Data columns (total 44 columns):\n",
            " #   Column                                                                     Non-Null Count  Dtype  \n",
            "---  ------                                                                     --------------  -----  \n",
            " 0   ptcLeadLocomotiveId                                                        1696 non-null   object \n",
            " 1   maximumTrainSpeed                                                          1696 non-null   int64  \n",
            " 2   loadedCarCount                                                             1696 non-null   int64  \n",
            " 3   emptyCarCount                                                              1696 non-null   int64  \n",
            " 4   trainLength                                                                1696 non-null   int64  \n",
            " 5   trailingTonnage                                                            1696 non-null   int64  \n",
            " 6   positionHistoryList                                                        1696 non-null   object \n",
            " 7   locomotiveList                                                             1696 non-null   object \n",
            " 8   subdivisionList                                                            1696 non-null   object \n",
            " 9   trainEstimatedPositionList                                                 1696 non-null   object \n",
            " 10  trainActualPositionList                                                    1696 non-null   object \n",
            " 11  trainId.trainSCAC                                                          1696 non-null   object \n",
            " 12  trainId.trainSection                                                       1696 non-null   object \n",
            " 13  trainId.trainSymbol                                                        1696 non-null   object \n",
            " 14  trainId.trainDate                                                          1696 non-null   object \n",
            " 15  lastReportedPosition.positionTime                                          1696 non-null   object \n",
            " 16  lastReportedPosition.speedMPH                                              1696 non-null   int64  \n",
            " 17  lastReportedPosition.milepostLocation.subdivisionId                        1696 non-null   int64  \n",
            " 18  lastReportedPosition.milepostLocation.trackName                            1696 non-null   object \n",
            " 19  lastReportedPosition.milepostLocation.milepost.milepostNumber              1696 non-null   float64\n",
            " 20  aotuTrainData.priorityCode                                                 1696 non-null   int64  \n",
            " 21  aotuTrainData.categoryCode                                                 1696 non-null   int64  \n",
            " 22  aotuTrainData.authorityRangeCode                                           1696 non-null   int64  \n",
            " 23  aotuTrainData.ownershipCode                                                1696 non-null   int64  \n",
            " 24  aotuTrainData.tenantCarrier                                                1696 non-null   object \n",
            " 25  aotuTrainData.totalCarWeight                                               1696 non-null   float64\n",
            " 26  aotuTrainData.totalCarLength                                               1696 non-null   float64\n",
            " 27  aotuTrainData.totalLocomotiveWeight                                        1696 non-null   float64\n",
            " 28  aotuTrainData.totalLocomotiveLength                                        1696 non-null   float64\n",
            " 29  aotuTrainData.actualTonsPerAxle                                            1696 non-null   float64\n",
            " 30  aotuTrainData.heavy143TonCarCount                                          1696 non-null   int64  \n",
            " 31  aotuTrainData.heavy158TonCarCount                                          1696 non-null   int64  \n",
            " 32  aotuTrainData.over158TonCarCount                                           1696 non-null   int64  \n",
            " 33  aotuTrainData.highWideCarCount                                             1696 non-null   int64  \n",
            " 34  aotuTrainData.eventCode                                                    1696 non-null   int64  \n",
            " 35  aotuTrainData.routeLocationList                                            1696 non-null   object \n",
            " 36  lastReportedPosition.nextSignalState.milepostLocation.milepostNumber       525 non-null    float64\n",
            " 37  lastReportedPosition.nextSignalState.signalState                           525 non-null    float64\n",
            " 38  lastReportedPosition.nextSignalState.previousSignalState                   291 non-null    float64\n",
            " 39  lastReportedPosition.nextSignalState.currentStateTime                      291 non-null    object \n",
            " 40  lastReportedPosition.precedingSignalState.milepostLocation.milepostNumber  117 non-null    float64\n",
            " 41  lastReportedPosition.precedingSignalState.previousSignalState              117 non-null    float64\n",
            " 42  lastReportedPosition.precedingSignalState.currentStateTime                 117 non-null    object \n",
            " 43  lastReportedPosition.precedingSignalState.signalState                      117 non-null    float64\n",
            "dtypes: float64(12), int64(16), object(16)\n",
            "memory usage: 596.2+ KB\n"
          ]
        }
      ],
      "source": [
        "dfTrains.info()"
      ]
    },
    {
      "cell_type": "markdown",
      "source": [
        "# Step 1: Compute the accuracy of the Existing Physics BEoP model"
      ],
      "metadata": {
        "id": "mg1p1vouBeIB"
      }
    },
    {
      "cell_type": "code",
      "source": [
        "dfTrains = dfTrains.drop_duplicates(subset=['ptcLeadLocomotiveId', 'trainId.trainSymbol', 'trainId.trainDate'], keep='first')\n",
        "print(dfTrains.shape)\n"
      ],
      "metadata": {
        "colab": {
          "base_uri": "https://localhost:8080/"
        },
        "id": "EtDaoWZLPxIE",
        "outputId": "8be0c1e8-28bc-48d6-82ff-f12334e5a77e"
      },
      "execution_count": 243,
      "outputs": [
        {
          "output_type": "stream",
          "name": "stdout",
          "text": [
            "(38, 44)\n"
          ]
        }
      ]
    },
    {
      "cell_type": "code",
      "source": [
        "def formatTrain(dfTrain):\n",
        "  actuals = pd.json_normalize(dfTrain['trainActualPositionList'])\n",
        "  cols = list(actuals.columns)\n",
        "  dfx = (actuals[cols[0:2] + cols[3:5]])\n",
        "  dfx = dfx.rename(columns={\"speedMPH\" : \"speedMPH\", \"milepostLocation.trackName\":\"trackName\", \"milepostLocation.milepost.milepostNumber\": \"milepostNumber\" })\n",
        "  est = pd.json_normalize(dfTrain['trainEstimatedPositionList'])  \n",
        "  beop = est.rename(columns={\"speedMPH\" : \"forecastSpeedMPH\", \"milepostLocation.trackName\":\"forecastTrackName\", \"milepostLocation.milepost.milepostNumber\": \"forecastMilepostNumber\" })\n",
        "  joined = beop.join(dfx, lsuffix='_beop', rsuffix='_actual')\n",
        "  dn = joined.dropna()\n",
        "  dn = dn.loc[(dn['speedMPH'] != 0)]\n",
        "  delta = abs(dn[\"speedMPH\"] - dn[\"forecastSpeedMPH\"]);\n",
        "  dn = dn.apply(lambda x: abs(x) if x.name=='speedMPH' or  x.name=='forecastSpeedMPH' else x)\n",
        "  dn[\"delta\"] = delta\n",
        "  dn['milepost'] = dn.apply(lambda row: math.trunc(row['milepostNumber']), axis=1)\n",
        "  dn['millis'] = dn.apply(lambda row: ((datetime.strptime(row['positionTime_actual'], \"%Y-%m-%dT%H:%M:%SZ\"))  - datetime(1970, 1, 1)) // timedelta(milliseconds=1), axis=1)\n",
        "  # dn = dn.reset_index()\n",
        "  dn = dn.drop(columns=['milepostLocation.subdivisionId'])\n",
        "  return dn"
      ],
      "metadata": {
        "id": "pqfGofcd7BCn"
      },
      "execution_count": 307,
      "outputs": []
    },
    {
      "cell_type": "code",
      "source": [
        "trains = []\n",
        "for index, train in dfTrains.iterrows():\n",
        "  trainId = train['trainId.trainSymbol']+\" of \"+train['trainId.trainDate']\n",
        "  trains.append([trainId, formatTrain(train)])\n",
        "trains[11]"
      ],
      "metadata": {
        "colab": {
          "base_uri": "https://localhost:8080/"
        },
        "id": "JOkpJ6qJbG8Y",
        "outputId": "7001747e-2451-4dd5-f99b-3fb08eb5cd56"
      },
      "execution_count": 308,
      "outputs": [
        {
          "output_type": "execute_result",
          "data": {
            "text/plain": [
              "['MCHCB of 2022-04-22',\n",
              "        positionTime_beop  forecastSpeedMPH forecastTrackName  \\\n",
              " 0   2022-04-23T11:21:01Z                 8              MT 2   \n",
              " 11  2022-04-23T11:43:01Z                49              MT 2   \n",
              " 12  2022-04-23T11:45:01Z                50              MT 2   \n",
              " 13  2022-04-23T11:47:01Z                50              MT 2   \n",
              " 14  2022-04-23T11:49:01Z                50              MT 2   \n",
              " 15  2022-04-23T11:51:01Z                50              MT 2   \n",
              " 23  2022-04-23T12:07:01Z                40              MT 2   \n",
              " 24  2022-04-23T12:09:01Z                40              MT 2   \n",
              " 25  2022-04-23T12:11:01Z                42              MT 2   \n",
              " 26  2022-04-23T12:13:01Z                44              MT 2   \n",
              " 27  2022-04-23T12:15:01Z                46              MT 2   \n",
              " \n",
              "     forecastMilepostNumber   positionTime_actual  speedMPH trackName  \\\n",
              " 0                202.20140  2022-04-23T11:23:01Z       2.0      MT 2   \n",
              " 11               218.12735  2022-04-23T11:45:01Z       2.0      MT 2   \n",
              " 12               219.79585  2022-04-23T11:47:01Z      10.0      MT 2   \n",
              " 13               221.46455  2022-04-23T11:49:01Z      12.0      MT 2   \n",
              " 14               223.13326  2022-04-23T11:51:01Z      12.0      MT 2   \n",
              " 15               224.80196  2022-04-23T11:53:01Z      12.0      MT 2   \n",
              " 23               237.50490  2022-04-23T12:09:01Z       2.0      MT 2   \n",
              " 24               238.92548  2022-04-23T12:11:01Z       7.0      MT 2   \n",
              " 25               240.39111  2022-04-23T12:13:01Z       9.0      MT 2   \n",
              " 26               241.94040  2022-04-23T12:15:01Z       9.0      MT 2   \n",
              " 27               243.46751  2022-04-23T12:17:01Z       9.0      MT 2   \n",
              " \n",
              "     milepostNumber  delta  milepost         millis  \n",
              " 0        202.43042    6.0       202  1650712981000  \n",
              " 11       202.51793   47.0       202  1650714301000  \n",
              " 12       202.77136   40.0       202  1650714421000  \n",
              " 13       203.18776   38.0       203  1650714541000  \n",
              " 14       203.63321   38.0       203  1650714661000  \n",
              " 15       204.07135   38.0       204  1650714781000  \n",
              " 23       204.63676   42.0       204  1650715741000  \n",
              " 24       204.39476   47.0       204  1650715861000  \n",
              " 25       204.12085   51.0       204  1650715981000  \n",
              " 26       203.86678   53.0       203  1650716101000  \n",
              " 27       203.61270   55.0       203  1650716221000  ]"
            ]
          },
          "metadata": {},
          "execution_count": 308
        }
      ]
    },
    {
      "cell_type": "markdown",
      "source": [
        "convert all data to positvive values"
      ],
      "metadata": {
        "id": "EbpyTFbhBtm-"
      }
    },
    {
      "cell_type": "code",
      "source": [
        "def plotTrain(trainData):\n",
        "  ax = plt.gca()\n",
        "  trainDF = trainData[1]\n",
        "  trainDF = trainDF.reset_index();\n",
        "  trainDF.plot(x = 'index', y=\"speedMPH\", use_index=True, kind=\"scatter\", ax=ax, figsize=[24,10])\n",
        "  trainDF.plot(x = 'index', y=\"forecastSpeedMPH\", use_index=True, kind=\"scatter\", color=\"red\", ax=ax, figsize=[24,10])\n",
        "  trainDF.plot(x = 'index', y=\"delta\", use_index=True, kind=\"line\", color=\"green\", ax=ax, figsize=[24,10])\n",
        "  # plt.gcf().autofmt_xdate()\n",
        "  plt.title(trainData[0])\n",
        "  plt.show()"
      ],
      "metadata": {
        "id": "_xIRdGqGwTXZ"
      },
      "execution_count": 252,
      "outputs": []
    },
    {
      "cell_type": "code",
      "source": [
        "plotTrain(trains[37])"
      ],
      "metadata": {
        "colab": {
          "base_uri": "https://localhost:8080/",
          "height": 621
        },
        "id": "qKdCmnM5B5s8",
        "outputId": "3b81b7f1-0422-4b3f-9715-ad508e25bc0b"
      },
      "execution_count": 309,
      "outputs": [
        {
          "output_type": "display_data",
          "data": {
            "text/plain": [
              "<Figure size 1728x720 with 1 Axes>"
            ],
            "image/png": "[encoded data removed]"
          },
          "metadata": {
            "needs_background": "light"
          }
        }
      ]
    },
    {
      "cell_type": "code",
      "execution_count": 306,
      "metadata": {
        "colab": {
          "base_uri": "https://localhost:8080/"
        },
        "id": "wubYMM237E0f",
        "outputId": "752a53a7-e455-4628-ffd6-f531fd3b52c7"
      },
      "outputs": [
        {
          "output_type": "execute_result",
          "data": {
            "text/plain": [
              "tensor([ 0.,  1.,  2.,  3.,  4.,  5.,  6.,  7.,  8.,  9., 10., 11., 12., 13.,\n",
              "        14., 15., 16., 17., 18., 19., 20., 21., 22., 23., 24., 25., 26., 27.,\n",
              "        28., 29., 30., 31., 32., 33., 34., 35., 36., 37., 38., 39., 40., 41.,\n",
              "        42., 43., 44., 45., 46., 47., 48., 49., 50., 51., 52., 53., 54., 55.,\n",
              "        56., 57., 58., 59.])"
            ]
          },
          "metadata": {},
          "execution_count": 306
        }
      ],
      "source": [
        "time = torch.arange(0,60).float(); time\n"
      ]
    },
    {
      "cell_type": "markdown",
      "metadata": {
        "id": "7FNCvdZO7E0j"
      },
      "source": [
        "# dfAll has actual readings by loco/train, 60 per, on"
      ]
    },
    {
      "cell_type": "code",
      "execution_count": null,
      "metadata": {
        "id": "mmZvKR6uJQiN"
      },
      "outputs": [],
      "source": [
        "# Define Utility Functions to build additional data rows\n",
        "\n",
        "# Create a dataframe row holding a record of position on the train.\n",
        "def createPositionHistoryFrame(positionHistory) -> dict:\n",
        "    # The time that the train was at the specific milepost\n",
        "    # Record the position time as seconds from epoch to use in regression model\n",
        "    positionTime = positionHistory.get('positionTime')\n",
        "    # How fast the train is traveling\n",
        "    speedMPH = positionHistory.get('speedMPH')\n",
        "    # Milepost location information\n",
        "    milepostLocation = positionHistory.get('milepostLocation')\n",
        "    # The unique identifier of the subdivision\n",
        "    subdivisionId = milepostLocation.get('subdivisionId')\n",
        "    # The unique identifier fo the milepost\n",
        "    milepostNumber = milepostLocation.get('milepost').get('milepostNumber')\n",
        "\n",
        "    # Construct new dataframe record\n",
        "    return {'PositionTime': positionTime, 'SpeedMPH': speedMPH, \n",
        "    'SubdivisionId': subdivisionId, 'MilepostNumber':milepostNumber}\n",
        "\n",
        "# Create a dataframe row for the identifier information of the trani\n",
        "def createTrainIdFrame(trainId) -> dict:\n",
        "    trainSymbol = trainId.get('trainSymbol')\n",
        "    return {'TrainSymbol': trainSymbol}\n",
        "\n",
        "# Create data frame for train detail\n",
        "def createTrainDetailFrame(trainDetail) -> dict:\n",
        "    maximumTrainSpeed = trainDetail.get('maximumTrainSpeed')\n",
        "    loadedCarCount = trainDetail.get('loadedCarCount')\n",
        "    emptyCarCount = trainDetail.get('emptyCarCount')\n",
        "    trainLength = trainDetail.get('trainLength')\n",
        "    trailingTonnage = trainDetail.get('trailingTonnage')\n",
        "\n",
        "    # Construct new dataframe record\n",
        "    return {'MaximumTrainSpeed': maximumTrainSpeed, 'LoadedCarCount': loadedCarCount, \n",
        "    'EmptyCarCount': emptyCarCount, 'TrainLength':trainLength, 'TrailingTonnage':trailingTonnage}"
      ]
    },
    {
      "cell_type": "code",
      "source": [
        ""
      ],
      "metadata": {
        "id": "7yYNbdiWngmQ"
      },
      "execution_count": null,
      "outputs": []
    },
    {
      "cell_type": "code",
      "source": [
        ""
      ],
      "metadata": {
        "id": "Ro_7lwyp1Cqi"
      },
      "execution_count": null,
      "outputs": []
    },
    {
      "cell_type": "markdown",
      "source": [
        "# Baseline #1 - measure the accuracy of the Physics model\n",
        "\n",
        "### Part 1: L1 Norm and L2 Norm of Projected Speed versus Actual"
      ],
      "metadata": {
        "id": "5qce04Yz05Yw"
      }
    },
    {
      "cell_type": "code",
      "source": [
        "time = torch.arange(0,60).float(); time"
      ],
      "metadata": {
        "colab": {
          "base_uri": "https://localhost:8080/"
        },
        "id": "QAWjDV2v3mb8",
        "outputId": "4284db5b-5a73-4d52-c65a-aeb12ba0f362"
      },
      "execution_count": 6,
      "outputs": [
        {
          "output_type": "execute_result",
          "data": {
            "text/plain": [
              "tensor([ 0.,  1.,  2.,  3.,  4.,  5.,  6.,  7.,  8.,  9., 10., 11., 12., 13.,\n",
              "        14., 15., 16., 17., 18., 19., 20., 21., 22., 23., 24., 25., 26., 27.,\n",
              "        28., 29., 30., 31., 32., 33., 34., 35., 36., 37., 38., 39., 40., 41.,\n",
              "        42., 43., 44., 45., 46., 47., 48., 49., 50., 51., 52., 53., 54., 55.,\n",
              "        56., 57., 58., 59.])"
            ]
          },
          "metadata": {},
          "execution_count": 6
        }
      ]
    },
    {
      "cell_type": "code",
      "source": [
        "actuals = "
      ],
      "metadata": {
        "id": "O25QBn1l4BH7"
      },
      "execution_count": null,
      "outputs": []
    },
    {
      "cell_type": "code",
      "source": [
        "def show_preds(predictionsTensor, ax=None):\n",
        "    if ax is None: ax=plt.subplots()[1]\n",
        "    ax.scatter(time, speed)\n",
        "    ax.scatter(time, to_np(predictionsTensor), color='red')\n",
        "    ax.set_ylim(-300,100)"
      ],
      "metadata": {
        "id": "fvbYoLjJ11s5"
      },
      "execution_count": null,
      "outputs": []
    }
  ],
  "metadata": {
    "colab": {
      "name": "TensorFlowSteve.ipynb",
      "provenance": [],
      "include_colab_link": true
    },
    "interpreter": {
      "hash": "99fae7d265480b5fbb0cf965db398c4d2d7b17b55f6259418c7dbfe0de01ea90"
    },
    "kernelspec": {
      "display_name": "Python 3 (ipykernel)",
      "language": "python",
      "name": "python3"
    },
    "language_info": {
      "codemirror_mode": {
        "name": "ipython",
        "version": 3
      },
      "file_extension": ".py",
      "mimetype": "text/x-python",
      "name": "python",
      "nbconvert_exporter": "python",
      "pygments_lexer": "ipython3",
      "version": "3.9.12"
    }
  },
  "nbformat": 4,
  "nbformat_minor": 0
}