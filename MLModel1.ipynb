{
  "cells": [
    {
      "cell_type": "markdown",
      "metadata": {
        "id": "view-in-github",
        "colab_type": "text"
      },
      "source": [
        "<a href=\"https://colab.research.google.com/github/swicklund/hackathon/blob/main/MLModel1.ipynb\" target=\"_parent\"><img src=\"https://colab.research.google.com/assets/colab-badge.svg\" alt=\"Open In Colab\"/></a>"
      ]
    },
    {
      "cell_type": "code",
      "execution_count": 1,
      "metadata": {
        "id": "f18J8QM17E0a"
      },
      "outputs": [],
      "source": [
        "!pip install -Uqq fastbook\n",
        "import os\n",
        "\n",
        "import IPython\n",
        "import IPython.display\n",
        "import matplotlib as mpl\n",
        "import matplotlib.pyplot as plt\n",
        "import numpy as np\n",
        "import fastbook as fastai\n",
        "import pandas as pd\n",
        "from pandas.io.json import json_normalize\n",
        "import seaborn as sns\n",
        "import tensorflow as tf\n",
        "import json\n",
        "import zipfile\n",
        "from io import BytesIO\n",
        "import torch\n",
        "import math\n",
        "from google.colab import files\n",
        "from google.colab import auth\n",
        "from datetime import datetime, timedelta\n",
        "\n",
        "fastai.setup_book()\n",
        "from fastai import tabular\n"
      ]
    },
    {
      "cell_type": "code",
      "source": [
        "!pip install dtreeviz"
      ],
      "metadata": {
        "colab": {
          "base_uri": "https://localhost:8080/"
        },
        "id": "qfYJfFKSB6nm",
        "outputId": "a62caad7-5d34-4ebe-f5da-29fdbbb82474"
      },
      "execution_count": 59,
      "outputs": [
        {
          "output_type": "stream",
          "name": "stdout",
          "text": [
            "Looking in indexes: https://pypi.org/simple, https://us-python.pkg.dev/colab-wheels/public/simple/\n",
            "Collecting dtreeviz\n",
            "  Downloading dtreeviz-1.3.6.tar.gz (61 kB)\n",
            "\u001b[K     |████████████████████████████████| 61 kB 107 kB/s \n",
            "\u001b[?25hRequirement already satisfied: graphviz>=0.9 in /usr/local/lib/python3.7/dist-packages (from dtreeviz) (0.10.1)\n",
            "Requirement already satisfied: pandas in /usr/local/lib/python3.7/dist-packages (from dtreeviz) (1.3.5)\n",
            "Requirement already satisfied: numpy in /usr/local/lib/python3.7/dist-packages (from dtreeviz) (1.21.6)\n",
            "Requirement already satisfied: scikit-learn in /usr/local/lib/python3.7/dist-packages (from dtreeviz) (1.0.2)\n",
            "Requirement already satisfied: matplotlib in /usr/local/lib/python3.7/dist-packages (from dtreeviz) (3.2.2)\n",
            "Collecting colour\n",
            "  Downloading colour-0.1.5-py2.py3-none-any.whl (23 kB)\n",
            "Requirement already satisfied: pytest in /usr/local/lib/python3.7/dist-packages (from dtreeviz) (3.6.4)\n",
            "Requirement already satisfied: kiwisolver>=1.0.1 in /usr/local/lib/python3.7/dist-packages (from matplotlib->dtreeviz) (1.4.3)\n",
            "Requirement already satisfied: python-dateutil>=2.1 in /usr/local/lib/python3.7/dist-packages (from matplotlib->dtreeviz) (2.8.2)\n",
            "Requirement already satisfied: pyparsing!=2.0.4,!=2.1.2,!=2.1.6,>=2.0.1 in /usr/local/lib/python3.7/dist-packages (from matplotlib->dtreeviz) (3.0.9)\n",
            "Requirement already satisfied: cycler>=0.10 in /usr/local/lib/python3.7/dist-packages (from matplotlib->dtreeviz) (0.11.0)\n",
            "Requirement already satisfied: typing-extensions in /usr/local/lib/python3.7/dist-packages (from kiwisolver>=1.0.1->matplotlib->dtreeviz) (4.1.1)\n",
            "Requirement already satisfied: six>=1.5 in /usr/local/lib/python3.7/dist-packages (from python-dateutil>=2.1->matplotlib->dtreeviz) (1.15.0)\n",
            "Requirement already satisfied: pytz>=2017.3 in /usr/local/lib/python3.7/dist-packages (from pandas->dtreeviz) (2022.1)\n",
            "Requirement already satisfied: attrs>=17.4.0 in /usr/local/lib/python3.7/dist-packages (from pytest->dtreeviz) (21.4.0)\n",
            "Requirement already satisfied: setuptools in /usr/local/lib/python3.7/dist-packages (from pytest->dtreeviz) (57.4.0)\n",
            "Requirement already satisfied: pluggy<0.8,>=0.5 in /usr/local/lib/python3.7/dist-packages (from pytest->dtreeviz) (0.7.1)\n",
            "Requirement already satisfied: more-itertools>=4.0.0 in /usr/local/lib/python3.7/dist-packages (from pytest->dtreeviz) (8.13.0)\n",
            "Requirement already satisfied: py>=1.5.0 in /usr/local/lib/python3.7/dist-packages (from pytest->dtreeviz) (1.11.0)\n",
            "Requirement already satisfied: atomicwrites>=1.0 in /usr/local/lib/python3.7/dist-packages (from pytest->dtreeviz) (1.4.0)\n",
            "Requirement already satisfied: scipy>=1.1.0 in /usr/local/lib/python3.7/dist-packages (from scikit-learn->dtreeviz) (1.4.1)\n",
            "Requirement already satisfied: threadpoolctl>=2.0.0 in /usr/local/lib/python3.7/dist-packages (from scikit-learn->dtreeviz) (3.1.0)\n",
            "Requirement already satisfied: joblib>=0.11 in /usr/local/lib/python3.7/dist-packages (from scikit-learn->dtreeviz) (1.1.0)\n",
            "Building wheels for collected packages: dtreeviz\n",
            "  Building wheel for dtreeviz (setup.py) ... \u001b[?25l\u001b[?25hdone\n",
            "  Created wheel for dtreeviz: filename=dtreeviz-1.3.6-py3-none-any.whl size=67326 sha256=bc81296bb2e29541e2cc1fdde2c2c9835ab987c88689949736b65190c4f098b4\n",
            "  Stored in directory: /root/.cache/pip/wheels/33/76/fe/99227ff871766e7284bb88d3d28e2f4886b8ec04d669033478\n",
            "Successfully built dtreeviz\n",
            "Installing collected packages: colour, dtreeviz\n",
            "Successfully installed colour-0.1.5 dtreeviz-1.3.6\n"
          ]
        }
      ]
    },
    {
      "cell_type": "code",
      "source": [
        "from pandas.api.types import is_string_dtype, is_numeric_dtype, is_categorical_dtype\n",
        "from fastai.tabular.all import *\n",
        "from sklearn.ensemble import RandomForestRegressor\n",
        "from sklearn.tree import DecisionTreeRegressor\n",
        "from dtreeviz.trees import *\n",
        "from IPython.display import Image, display_svg, SVG\n",
        "\n",
        "pd.options.display.max_rows = 20\n",
        "pd.options.display.max_columns = 8"
      ],
      "metadata": {
        "id": "wAzfcrrIByux"
      },
      "execution_count": 60,
      "outputs": []
    },
    {
      "cell_type": "code",
      "source": [
        "auth.authenticate_user()"
      ],
      "metadata": {
        "id": "_wNuGIFQT0nZ"
      },
      "execution_count": 2,
      "outputs": []
    },
    {
      "cell_type": "code",
      "execution_count": 3,
      "metadata": {
        "colab": {
          "base_uri": "https://localhost:8080/"
        },
        "id": "TpnuFITI6Tzu",
        "outputId": "baac3892-4af0-4076-be42-116ba207a3c4"
      },
      "outputs": [
        {
          "output_type": "stream",
          "name": "stdout",
          "text": [
            "Updated property [core/project].\n"
          ]
        }
      ],
      "source": [
        "!gcloud config set project {'hackathon-352519'}"
      ]
    },
    {
      "cell_type": "code",
      "source": [
        "!gsutil cp gs://trains_data/* /tmp/."
      ],
      "metadata": {
        "colab": {
          "base_uri": "https://localhost:8080/"
        },
        "id": "srQJL7OKVRww",
        "outputId": "0ab42c40-c686-4569-fb18-76fa9fa0082a"
      },
      "execution_count": 4,
      "outputs": [
        {
          "output_type": "stream",
          "name": "stdout",
          "text": [
            "Copying gs://trains_data/train-data_all-train-events.zip...\n",
            "\\ [1 files][ 57.1 MiB/ 57.1 MiB]                                                \n",
            "Operation completed over 1 objects/57.1 MiB.                                     \n"
          ]
        }
      ]
    },
    {
      "cell_type": "code",
      "execution_count": 5,
      "metadata": {
        "id": "ckXLQ7eQ7E0c",
        "colab": {
          "base_uri": "https://localhost:8080/"
        },
        "outputId": "cf7ec9ab-e23a-4e12-f715-67ae4122518e"
      },
      "outputs": [
        {
          "output_type": "stream",
          "name": "stdout",
          "text": [
            "1000   16:32:55\n",
            "2000   16:33:07\n",
            "3000   16:33:12\n",
            "4000   16:33:18\n",
            "5000   16:33:23\n",
            "6000   16:33:28\n",
            "7000   16:33:34\n",
            "8000   16:33:40\n",
            "9000   16:33:45\n",
            "10000   16:33:51\n"
          ]
        }
      ],
      "source": [
        "trains = {}\n",
        "i = 1\n",
        "prevLoco = ''\n",
        "with zipfile.ZipFile(\"/tmp/train-data_all-train-events.zip\", \"r\") as f:\n",
        "    for name in f.namelist():\n",
        "        if name.endswith('.json'):\n",
        "            with f.open(name) as zd:\n",
        "                data = json.load(zd)\n",
        "                lastTrainReporting = data['lastTrainReporting']\n",
        "                currentLoco = lastTrainReporting['ptcLeadLocomotiveId']\n",
        "                # prevLoco != currentLoco and \n",
        "                if (\"trainActualPositionList\" in lastTrainReporting and len(lastTrainReporting['trainActualPositionList']) > 0): \n",
        "                    trainActualPositionList = lastTrainReporting['trainActualPositionList']\n",
        "                    trains[i] = pd.json_normalize(lastTrainReporting)\n",
        "                    i = i + 1\n",
        "                    if (i % 1000 == 0):\n",
        "                      current_time = datetime.now().strftime(\"%H:%M:%S\")\n",
        "                      print(i, \" \", current_time)\n",
        "                    prevLoco = currentLoco\n",
        "                            "
      ]
    },
    {
      "cell_type": "code",
      "execution_count": 6,
      "metadata": {
        "id": "lgWV768N7E0d"
      },
      "outputs": [],
      "source": [
        "dfTrainsAll = pd.concat(trains.values())\n",
        "dfTrainsAll[\"milepost\"] = dfTrainsAll.apply(lambda row: math.trunc(row['lastReportedPosition.milepostLocation.milepost.milepostNumber']), axis=1)"
      ]
    },
    {
      "cell_type": "code",
      "source": [
        "del trains"
      ],
      "metadata": {
        "id": "Q581UU9nCWZ1"
      },
      "execution_count": 7,
      "outputs": []
    },
    {
      "cell_type": "code",
      "execution_count": 8,
      "metadata": {
        "colab": {
          "base_uri": "https://localhost:8080/"
        },
        "id": "Idznxze77E0e",
        "outputId": "81bb5b5a-22bd-42ac-9161-31692f1b6cc8"
      },
      "outputs": [
        {
          "output_type": "stream",
          "name": "stdout",
          "text": [
            "<class 'pandas.core.frame.DataFrame'>\n",
            "Int64Index: 10054 entries, 0 to 0\n",
            "Data columns (total 45 columns):\n",
            " #   Column                                                                     Non-Null Count  Dtype  \n",
            "---  ------                                                                     --------------  -----  \n",
            " 0   ptcLeadLocomotiveId                                                        10054 non-null  object \n",
            " 1   maximumTrainSpeed                                                          10053 non-null  float64\n",
            " 2   loadedCarCount                                                             10053 non-null  float64\n",
            " 3   emptyCarCount                                                              10053 non-null  float64\n",
            " 4   trainLength                                                                10053 non-null  float64\n",
            " 5   trailingTonnage                                                            10053 non-null  float64\n",
            " 6   positionHistoryList                                                        10054 non-null  object \n",
            " 7   locomotiveList                                                             10054 non-null  object \n",
            " 8   subdivisionList                                                            10054 non-null  object \n",
            " 9   trainEstimatedPositionList                                                 9623 non-null   object \n",
            " 10  trainActualPositionList                                                    10054 non-null  object \n",
            " 11  trainId.trainSCAC                                                          10054 non-null  object \n",
            " 12  trainId.trainSection                                                       10054 non-null  object \n",
            " 13  trainId.trainSymbol                                                        10054 non-null  object \n",
            " 14  trainId.trainDate                                                          10054 non-null  object \n",
            " 15  lastReportedPosition.positionTime                                          10054 non-null  object \n",
            " 16  lastReportedPosition.speedMPH                                              10054 non-null  int64  \n",
            " 17  lastReportedPosition.milepostLocation.subdivisionId                        10054 non-null  int64  \n",
            " 18  lastReportedPosition.milepostLocation.trackName                            10054 non-null  object \n",
            " 19  lastReportedPosition.milepostLocation.milepost.milepostNumber              10054 non-null  float64\n",
            " 20  aotuTrainData.priorityCode                                                 10054 non-null  int64  \n",
            " 21  aotuTrainData.categoryCode                                                 10054 non-null  int64  \n",
            " 22  aotuTrainData.authorityRangeCode                                           10054 non-null  int64  \n",
            " 23  aotuTrainData.ownershipCode                                                10054 non-null  int64  \n",
            " 24  aotuTrainData.tenantCarrier                                                10054 non-null  object \n",
            " 25  aotuTrainData.totalCarWeight                                               10054 non-null  float64\n",
            " 26  aotuTrainData.totalCarLength                                               10054 non-null  float64\n",
            " 27  aotuTrainData.totalLocomotiveWeight                                        10054 non-null  float64\n",
            " 28  aotuTrainData.totalLocomotiveLength                                        10054 non-null  float64\n",
            " 29  aotuTrainData.actualTonsPerAxle                                            10054 non-null  float64\n",
            " 30  aotuTrainData.heavy143TonCarCount                                          10054 non-null  int64  \n",
            " 31  aotuTrainData.heavy158TonCarCount                                          10054 non-null  int64  \n",
            " 32  aotuTrainData.over158TonCarCount                                           10054 non-null  int64  \n",
            " 33  aotuTrainData.highWideCarCount                                             10054 non-null  int64  \n",
            " 34  aotuTrainData.eventCode                                                    10054 non-null  int64  \n",
            " 35  aotuTrainData.routeLocationList                                            10054 non-null  object \n",
            " 36  lastReportedPosition.precedingSignalState.milepostLocation.milepostNumber  8017 non-null   float64\n",
            " 37  lastReportedPosition.precedingSignalState.previousSignalState              6280 non-null   float64\n",
            " 38  lastReportedPosition.precedingSignalState.currentStateTime                 6280 non-null   object \n",
            " 39  lastReportedPosition.precedingSignalState.signalState                      8017 non-null   float64\n",
            " 40  lastReportedPosition.nextSignalState.milepostLocation.milepostNumber       7996 non-null   float64\n",
            " 41  lastReportedPosition.nextSignalState.signalState                           7996 non-null   float64\n",
            " 42  lastReportedPosition.nextSignalState.previousSignalState                   3345 non-null   float64\n",
            " 43  lastReportedPosition.nextSignalState.currentStateTime                      3345 non-null   object \n",
            " 44  milepost                                                                   10054 non-null  int64  \n",
            "dtypes: float64(17), int64(12), object(16)\n",
            "memory usage: 3.5+ MB\n",
            "None\n",
            "(10054, 45)\n"
          ]
        }
      ],
      "source": [
        "print(dfTrainsAll.info())\n",
        "print(dfTrainsAll.shape)"
      ]
    },
    {
      "cell_type": "code",
      "source": [
        "dfTrainsLearn = dfTrainsAll\n",
        "dfTrainsLearn['lastReportedPosition.milepostLocation.trackName'] = dfTrainsLearn['lastReportedPosition.milepostLocation.trackName'].astype('category')\n",
        "dfTrainsLearn['lastReportedPosition.milepostLocation.trackName'] = dfTrainsLearn['lastReportedPosition.milepostLocation.trackName'].cat.set_categories(['WEST MAIN', 'MAIN', 'MT 2', 'MT 1', 'WESTXO', 'XO', 'EASTXO','YD LD', 'EAST MAIN', 'TO_N_EAST MAIN', 'TO_S_UP_MAINLINE', 'TO_S_CS JUNCTION', 'S_STARKS', 'TO_S_KCS UP PRT CONN', 'TO_N_LUCAS', 'S_LUCAS'])\n",
        "dfTrainsLearn['lastReportedSpeedMPH'] = dfTrainsLearn.apply(lambda row: row['positionHistoryList'][0]['speedMPH'], axis=1)\n",
        "dfTrainsLearn['symbolType'] = dfTrainsLearn.apply(lambda row: row['trainId.trainSymbol'][:1], axis=1)\n",
        "dfTrainsLearn['symbolType'] = dfTrainsLearn['symbolType'].astype('category')\n",
        "dfTrainsLearn['symbolType'] = dfTrainsLearn['symbolType'].cat.set_categories(['M', 'I', 'Z', 'C', 'W', 'E', 'U'])\n"
      ],
      "metadata": {
        "id": "DParW0UUrZKv"
      },
      "execution_count": 9,
      "outputs": []
    },
    {
      "cell_type": "code",
      "source": [
        "def getWorkLocations(dfTrainsLocation):\n",
        "  if len(dfTrainsLocation['aotuTrainData.routeLocationList']) == 0:\n",
        "    return None\n",
        "  aotuRoute=pd.json_normalize(dfTrainsLocation['aotuTrainData.routeLocationList']) \n",
        "  eventLocations = aotuRoute[aotuRoute['activityList'].map(len) > 1]\n",
        "  temp = eventLocations['milepost.milepostNumber'].unique()\n",
        "  if len(temp) == 0:\n",
        "    return None\n",
        "  return ','.join(['%.2f' % num for num in temp])"
      ],
      "metadata": {
        "id": "TsYgT41SKyAn"
      },
      "execution_count": 28,
      "outputs": []
    },
    {
      "cell_type": "code",
      "source": [
        "#getWorkLocations(dfTrainsLearn.iloc[301])"
      ],
      "metadata": {
        "id": "PM-Q6r-A2JNS"
      },
      "execution_count": null,
      "outputs": []
    },
    {
      "cell_type": "code",
      "source": [
        "#dfTrainsLearn.loc[dfTrainsLearn['aotuTrainData.routeLocationList'].map(len)==0]"
      ],
      "metadata": {
        "id": "fK5apSV-R6NF"
      },
      "execution_count": 13,
      "outputs": []
    },
    {
      "cell_type": "code",
      "source": [
        "dfTrainsLearn['workLocations'] = dfTrainsLearn.apply(lambda row: getWorkLocations(row), axis=1)"
      ],
      "metadata": {
        "id": "5sNuNU-iSgFy"
      },
      "execution_count": 29,
      "outputs": []
    },
    {
      "cell_type": "code",
      "source": [
        "dfTrainsLearn['workLocations'].unique()"
      ],
      "metadata": {
        "colab": {
          "base_uri": "https://localhost:8080/"
        },
        "id": "jA6cNsHR8VSr",
        "outputId": "64fe374c-c2eb-41eb-b13a-73caebeb316c"
      },
      "execution_count": 50,
      "outputs": [
        {
          "output_type": "execute_result",
          "data": {
            "text/plain": [
              "array([None, '202.20', '258.40,202.20', '202.20,258.40', '202.20,258.40,321.50', '202.92,202.20', '225.10,202.20', '240.90,202.20'], dtype=object)"
            ]
          },
          "metadata": {},
          "execution_count": 50
        }
      ]
    },
    {
      "cell_type": "markdown",
      "source": [
        "We can make this more clever later, but for now this seems the most sensible shortcut"
      ],
      "metadata": {
        "id": "-AZiJPI24QO9"
      }
    },
    {
      "cell_type": "code",
      "source": [
        "dfTrainsLearn['locomotiveCount'] = dfTrainsLearn.apply(lambda row: len(row['locomotiveList']),axis = 1)"
      ],
      "metadata": {
        "id": "LuG8-GNBzwrF"
      },
      "execution_count": 31,
      "outputs": []
    },
    {
      "cell_type": "code",
      "source": [
        "dfTrainsLearnActuals = dfTrainsLearn.apply(lambda row: pd.json_normalize(row['trainActualPositionList']), axis=1)"
      ],
      "metadata": {
        "id": "Ag-KbEfz4Is8"
      },
      "execution_count": 32,
      "outputs": []
    },
    {
      "cell_type": "code",
      "source": [
        "dfTrainsLearnActuals.iloc[1]"
      ],
      "metadata": {
        "colab": {
          "base_uri": "https://localhost:8080/",
          "height": 206
        },
        "id": "r_gdrmU4IgpY",
        "outputId": "5be8c1fe-a5c8-4c75-bdd3-f5acb2a6f9a2"
      },
      "execution_count": 33,
      "outputs": [
        {
          "output_type": "execute_result",
          "data": {
            "text/plain": [
              "           positionTime  speedMPH  milepostLocation.subdivisionId  \\\n",
              "0  2022-04-21T23:34:11Z       -10                             106   \n",
              "1  2022-04-21T23:36:11Z       -10                             106   \n",
              "2  2022-04-21T23:38:11Z        -9                             106   \n",
              "3  2022-04-21T23:40:11Z        -8                             106   \n",
              "4  2022-04-21T23:42:11Z        -9                             106   \n",
              "\n",
              "  milepostLocation.trackName  milepostLocation.milepost.milepostNumber  \n",
              "0                  WEST MAIN                                 766.36030  \n",
              "1                       MAIN                                 766.01776  \n",
              "2                       MAIN                                 765.68665  \n",
              "3                       MAIN                                 765.38310  \n",
              "4                       MAIN                                 765.07520  "
            ],
            "text/html": [
              "\n",
              "  <div id=\"df-cc99a73e-7f7d-41ca-b15a-50d73b2942f9\">\n",
              "    <div class=\"colab-df-container\">\n",
              "      <div>\n",
              "<style scoped>\n",
              "    .dataframe tbody tr th:only-of-type {\n",
              "        vertical-align: middle;\n",
              "    }\n",
              "\n",
              "    .dataframe tbody tr th {\n",
              "        vertical-align: top;\n",
              "    }\n",
              "\n",
              "    .dataframe thead th {\n",
              "        text-align: right;\n",
              "    }\n",
              "</style>\n",
              "<table border=\"1\" class=\"dataframe\">\n",
              "  <thead>\n",
              "    <tr style=\"text-align: right;\">\n",
              "      <th></th>\n",
              "      <th>positionTime</th>\n",
              "      <th>speedMPH</th>\n",
              "      <th>milepostLocation.subdivisionId</th>\n",
              "      <th>milepostLocation.trackName</th>\n",
              "      <th>milepostLocation.milepost.milepostNumber</th>\n",
              "    </tr>\n",
              "  </thead>\n",
              "  <tbody>\n",
              "    <tr>\n",
              "      <th>0</th>\n",
              "      <td>2022-04-21T23:34:11Z</td>\n",
              "      <td>-10</td>\n",
              "      <td>106</td>\n",
              "      <td>WEST MAIN</td>\n",
              "      <td>766.36030</td>\n",
              "    </tr>\n",
              "    <tr>\n",
              "      <th>1</th>\n",
              "      <td>2022-04-21T23:36:11Z</td>\n",
              "      <td>-10</td>\n",
              "      <td>106</td>\n",
              "      <td>MAIN</td>\n",
              "      <td>766.01776</td>\n",
              "    </tr>\n",
              "    <tr>\n",
              "      <th>2</th>\n",
              "      <td>2022-04-21T23:38:11Z</td>\n",
              "      <td>-9</td>\n",
              "      <td>106</td>\n",
              "      <td>MAIN</td>\n",
              "      <td>765.68665</td>\n",
              "    </tr>\n",
              "    <tr>\n",
              "      <th>3</th>\n",
              "      <td>2022-04-21T23:40:11Z</td>\n",
              "      <td>-8</td>\n",
              "      <td>106</td>\n",
              "      <td>MAIN</td>\n",
              "      <td>765.38310</td>\n",
              "    </tr>\n",
              "    <tr>\n",
              "      <th>4</th>\n",
              "      <td>2022-04-21T23:42:11Z</td>\n",
              "      <td>-9</td>\n",
              "      <td>106</td>\n",
              "      <td>MAIN</td>\n",
              "      <td>765.07520</td>\n",
              "    </tr>\n",
              "  </tbody>\n",
              "</table>\n",
              "</div>\n",
              "      <button class=\"colab-df-convert\" onclick=\"convertToInteractive('df-cc99a73e-7f7d-41ca-b15a-50d73b2942f9')\"\n",
              "              title=\"Convert this dataframe to an interactive table.\"\n",
              "              style=\"display:none;\">\n",
              "        \n",
              "  <svg xmlns=\"http://www.w3.org/2000/svg\" height=\"24px\"viewBox=\"0 0 24 24\"\n",
              "       width=\"24px\">\n",
              "    <path d=\"M0 0h24v24H0V0z\" fill=\"none\"/>\n",
              "    <path d=\"M18.56 5.44l.94 2.06.94-2.06 2.06-.94-2.06-.94-.94-2.06-.94 2.06-2.06.94zm-11 1L8.5 8.5l.94-2.06 2.06-.94-2.06-.94L8.5 2.5l-.94 2.06-2.06.94zm10 10l.94 2.06.94-2.06 2.06-.94-2.06-.94-.94-2.06-.94 2.06-2.06.94z\"/><path d=\"M17.41 7.96l-1.37-1.37c-.4-.4-.92-.59-1.43-.59-.52 0-1.04.2-1.43.59L10.3 9.45l-7.72 7.72c-.78.78-.78 2.05 0 2.83L4 21.41c.39.39.9.59 1.41.59.51 0 1.02-.2 1.41-.59l7.78-7.78 2.81-2.81c.8-.78.8-2.07 0-2.86zM5.41 20L4 18.59l7.72-7.72 1.47 1.35L5.41 20z\"/>\n",
              "  </svg>\n",
              "      </button>\n",
              "      \n",
              "  <style>\n",
              "    .colab-df-container {\n",
              "      display:flex;\n",
              "      flex-wrap:wrap;\n",
              "      gap: 12px;\n",
              "    }\n",
              "\n",
              "    .colab-df-convert {\n",
              "      background-color: #E8F0FE;\n",
              "      border: none;\n",
              "      border-radius: 50%;\n",
              "      cursor: pointer;\n",
              "      display: none;\n",
              "      fill: #1967D2;\n",
              "      height: 32px;\n",
              "      padding: 0 0 0 0;\n",
              "      width: 32px;\n",
              "    }\n",
              "\n",
              "    .colab-df-convert:hover {\n",
              "      background-color: #E2EBFA;\n",
              "      box-shadow: 0px 1px 2px rgba(60, 64, 67, 0.3), 0px 1px 3px 1px rgba(60, 64, 67, 0.15);\n",
              "      fill: #174EA6;\n",
              "    }\n",
              "\n",
              "    [theme=dark] .colab-df-convert {\n",
              "      background-color: #3B4455;\n",
              "      fill: #D2E3FC;\n",
              "    }\n",
              "\n",
              "    [theme=dark] .colab-df-convert:hover {\n",
              "      background-color: #434B5C;\n",
              "      box-shadow: 0px 1px 3px 1px rgba(0, 0, 0, 0.15);\n",
              "      filter: drop-shadow(0px 1px 2px rgba(0, 0, 0, 0.3));\n",
              "      fill: #FFFFFF;\n",
              "    }\n",
              "  </style>\n",
              "\n",
              "      <script>\n",
              "        const buttonEl =\n",
              "          document.querySelector('#df-cc99a73e-7f7d-41ca-b15a-50d73b2942f9 button.colab-df-convert');\n",
              "        buttonEl.style.display =\n",
              "          google.colab.kernel.accessAllowed ? 'block' : 'none';\n",
              "\n",
              "        async function convertToInteractive(key) {\n",
              "          const element = document.querySelector('#df-cc99a73e-7f7d-41ca-b15a-50d73b2942f9');\n",
              "          const dataTable =\n",
              "            await google.colab.kernel.invokeFunction('convertToInteractive',\n",
              "                                                     [key], {});\n",
              "          if (!dataTable) return;\n",
              "\n",
              "          const docLinkHtml = 'Like what you see? Visit the ' +\n",
              "            '<a target=\"_blank\" href=https://colab.research.google.com/notebooks/data_table.ipynb>data table notebook</a>'\n",
              "            + ' to learn more about interactive tables.';\n",
              "          element.innerHTML = '';\n",
              "          dataTable['output_type'] = 'display_data';\n",
              "          await google.colab.output.renderOutput(dataTable, element);\n",
              "          const docLink = document.createElement('div');\n",
              "          docLink.innerHTML = docLinkHtml;\n",
              "          element.appendChild(docLink);\n",
              "        }\n",
              "      </script>\n",
              "    </div>\n",
              "  </div>\n",
              "  "
            ]
          },
          "metadata": {},
          "execution_count": 33
        }
      ]
    },
    {
      "cell_type": "code",
      "source": [
        "def findNextSpeed(trainsEntry, actualsEntry):\n",
        "  milepost = trainsEntry['lastReportedPosition.milepostLocation.milepost.milepostNumber']\n",
        "  #print(milepost)\n",
        "  value  = actualsEntry.loc[actualsEntry['milepostLocation.milepost.milepostNumber'] > milepost+1]\n",
        "  if (len(value) > 0):\n",
        "    return (value.min()['speedMPH'] - trainsEntry['lastReportedPosition.speedMPH'])\n",
        "  value  = actualsEntry.loc[actualsEntry['milepostLocation.milepost.milepostNumber'] < milepost-1]\n",
        "  if (len(value) > 0):\n",
        "    return (value.max()['speedMPH'] - trainsEntry['lastReportedPosition.speedMPH'])\n",
        "  return None"
      ],
      "metadata": {
        "id": "i_JszmqL0MR6"
      },
      "execution_count": 65,
      "outputs": []
    },
    {
      "cell_type": "code",
      "source": [
        "dfTrainsLearn['nextSpeed'] = dfTrainsLearn['lastReportedPosition.speedMPH']\n",
        "i = 0;\n",
        "for index, trainsEntry in dfTrainsLearn.iterrows():\n",
        "  actualsEntry = dfTrainsLearnActuals.iloc[i]\n",
        "  nextSpeed = findNextSpeed(trainsEntry, actualsEntry)\n",
        "  if (nextSpeed != None):\n",
        "    trainsEntry['nextSpeed'] = nextSpeed\n",
        "  if (i % 1000 == 0):\n",
        "    print(i)\n",
        "  i = i + 1"
      ],
      "metadata": {
        "colab": {
          "base_uri": "https://localhost:8080/"
        },
        "id": "fG2U-anX-jbt",
        "outputId": "7df5604e-2375-407c-f975-88377da60850"
      },
      "execution_count": 66,
      "outputs": [
        {
          "output_type": "stream",
          "name": "stdout",
          "text": [
            "0\n"
          ]
        },
        {
          "output_type": "stream",
          "name": "stderr",
          "text": [
            "/usr/local/lib/python3.7/dist-packages/ipykernel_launcher.py:6: FutureWarning: Dropping of nuisance columns in DataFrame reductions (with 'numeric_only=None') is deprecated; in a future version this will raise TypeError.  Select only valid columns before calling the reduction.\n",
            "  \n",
            "/usr/local/lib/python3.7/dist-packages/ipykernel_launcher.py:9: FutureWarning: Dropping of nuisance columns in DataFrame reductions (with 'numeric_only=None') is deprecated; in a future version this will raise TypeError.  Select only valid columns before calling the reduction.\n",
            "  if __name__ == '__main__':\n"
          ]
        },
        {
          "output_type": "stream",
          "name": "stdout",
          "text": [
            "1000\n",
            "2000\n",
            "3000\n",
            "4000\n",
            "5000\n",
            "6000\n",
            "7000\n",
            "8000\n",
            "9000\n",
            "10000\n"
          ]
        }
      ]
    },
    {
      "cell_type": "code",
      "source": [
        "# dfTrainsLearn = dfTrainsLearn.drop(['hour'], axis=1)\n",
        "dfTrainsLearn['nextSpeed'].unique()"
      ],
      "metadata": {
        "colab": {
          "base_uri": "https://localhost:8080/"
        },
        "id": "BpeBp1Jfu-Hj",
        "outputId": "35a33f64-5b75-4376-fbb0-65ee8f2eeca6"
      },
      "execution_count": 68,
      "outputs": [
        {
          "output_type": "execute_result",
          "data": {
            "text/plain": [
              "array([-12, -11, -10,  -8, -56, -58, -55, -43, -29, -34,   0, -22, -28, -27, -65, -68, -70, -67, -64, -71, -69, -62, -59, -61, -66, -48, -50, -53, -60, -52, -47, -46, -38, -37, -51, -17, -36, -41,\n",
              "       -63,  38,  50,  61,  62,  58,  59,  63,  67,  68,  69,  53,  39,  37,  41,  66,  64,  60,  65,  36,  46,  47,  49,  51,  48,  45,  54,  56,  55,  52,  70,  57,  43,  42, -45, -40, -49, -57,\n",
              "       -54, -44, -39,  21,   9,   8,  27,  34,  31,  28,  35,  44,  24,  25,  26,  29,  30,  40,  23,  20,  11,  16,  32, -35, -32, -33, -31, -30, -25, -23, -26, -42, -20, -21, -19, -24, -16, -15,\n",
              "        -5,  -9, -14, -13,  -2,  -7, -18,  -1,  -6,  22,  13,   6,   5,  33,  19,  17,  10,   7,   3,  14,  12,  15,  18,   2,   1,  -3,  -4,   4])"
            ]
          },
          "metadata": {},
          "execution_count": 68
        }
      ]
    },
    {
      "cell_type": "markdown",
      "source": [
        "Drop some values we are not using at the moment not needed"
      ],
      "metadata": {
        "id": "moXjNcMQu-3C"
      }
    },
    {
      "cell_type": "code",
      "source": [
        "dfTrainsLearn = dfTrainsLearn.drop(columns=['aotuTrainData.tenantCarrier',\n",
        "                                            'lastReportedPosition.precedingSignalState.currentStateTime', \n",
        "                                            'lastReportedPosition.nextSignalState.previousSignalState', \n",
        "                                            'lastReportedPosition.nextSignalState.currentStateTime', \n",
        "                                            'positionHistoryList',\n",
        "                                            'locomotiveList',\n",
        "                                            'subdivisionList',\n",
        "                                            'trainActualPositionList',\n",
        "                                            'trainEstimatedPositionList',\n",
        "                                            'aotuTrainData.routeLocationList'])"
      ],
      "metadata": {
        "id": "hBmsqv6IuVVO"
      },
      "execution_count": 37,
      "outputs": []
    },
    {
      "cell_type": "code",
      "source": [
        "tabular.core.make_date(dfTrainsLearn, 'trainId.trainDate')\n",
        "tabular.core.make_date(dfTrainsLearn, 'lastReportedPosition.positionTime')\n",
        "tabular.core.add_datepart(dfTrainsLearn, 'lastReportedPosition.positionTime')\n",
        "# tabular.core.add_elapsed_times(dfTrainsLearn, 'lastReportedPosition.positionTime')\n"
      ],
      "metadata": {
        "id": "DjTAxScsbHCN"
      },
      "execution_count": null,
      "outputs": []
    },
    {
      "cell_type": "code",
      "source": [
        "print(dfTrainsLearn.shape)\n",
        "print(dfTrainsLearnActuals.shape)\n",
        "\n",
        "print(dfTrainsLearn.info())\n",
        "print(dfTrainsLearn.iloc[100])"
      ],
      "metadata": {
        "colab": {
          "base_uri": "https://localhost:8080/"
        },
        "id": "jTVXPBSQ2gp3",
        "outputId": "7ee0ea2a-66a8-41cb-f175-42292558efd0"
      },
      "execution_count": 67,
      "outputs": [
        {
          "output_type": "stream",
          "name": "stdout",
          "text": [
            "(10054, 52)\n",
            "(10054,)\n",
            "<class 'pandas.core.frame.DataFrame'>\n",
            "Int64Index: 10054 entries, 0 to 0\n",
            "Data columns (total 52 columns):\n",
            " #   Column                                                                     Non-Null Count  Dtype         \n",
            "---  ------                                                                     --------------  -----         \n",
            " 0   ptcLeadLocomotiveId                                                        10054 non-null  object        \n",
            " 1   maximumTrainSpeed                                                          10053 non-null  float64       \n",
            " 2   loadedCarCount                                                             10053 non-null  float64       \n",
            " 3   emptyCarCount                                                              10053 non-null  float64       \n",
            " 4   trainLength                                                                10053 non-null  float64       \n",
            " 5   trailingTonnage                                                            10053 non-null  float64       \n",
            " 6   trainId.trainSCAC                                                          10054 non-null  object        \n",
            " 7   trainId.trainSection                                                       10054 non-null  object        \n",
            " 8   trainId.trainSymbol                                                        10054 non-null  object        \n",
            " 9   trainId.trainDate                                                          10054 non-null  datetime64[ns]\n",
            " 10  lastReportedPosition.speedMPH                                              10054 non-null  int64         \n",
            " 11  lastReportedPosition.milepostLocation.subdivisionId                        10054 non-null  int64         \n",
            " 12  lastReportedPosition.milepostLocation.trackName                            10004 non-null  category      \n",
            " 13  lastReportedPosition.milepostLocation.milepost.milepostNumber              10054 non-null  float64       \n",
            " 14  aotuTrainData.priorityCode                                                 10054 non-null  int64         \n",
            " 15  aotuTrainData.categoryCode                                                 10054 non-null  int64         \n",
            " 16  aotuTrainData.authorityRangeCode                                           10054 non-null  int64         \n",
            " 17  aotuTrainData.ownershipCode                                                10054 non-null  int64         \n",
            " 18  aotuTrainData.totalCarWeight                                               10054 non-null  float64       \n",
            " 19  aotuTrainData.totalCarLength                                               10054 non-null  float64       \n",
            " 20  aotuTrainData.totalLocomotiveWeight                                        10054 non-null  float64       \n",
            " 21  aotuTrainData.totalLocomotiveLength                                        10054 non-null  float64       \n",
            " 22  aotuTrainData.actualTonsPerAxle                                            10054 non-null  float64       \n",
            " 23  aotuTrainData.heavy143TonCarCount                                          10054 non-null  int64         \n",
            " 24  aotuTrainData.heavy158TonCarCount                                          10054 non-null  int64         \n",
            " 25  aotuTrainData.over158TonCarCount                                           10054 non-null  int64         \n",
            " 26  aotuTrainData.highWideCarCount                                             10054 non-null  int64         \n",
            " 27  aotuTrainData.eventCode                                                    10054 non-null  int64         \n",
            " 28  lastReportedPosition.precedingSignalState.milepostLocation.milepostNumber  8017 non-null   float64       \n",
            " 29  lastReportedPosition.precedingSignalState.previousSignalState              6280 non-null   float64       \n",
            " 30  lastReportedPosition.precedingSignalState.signalState                      8017 non-null   float64       \n",
            " 31  lastReportedPosition.nextSignalState.milepostLocation.milepostNumber       7996 non-null   float64       \n",
            " 32  lastReportedPosition.nextSignalState.signalState                           7996 non-null   float64       \n",
            " 33  milepost                                                                   10054 non-null  int64         \n",
            " 34  lastReportedSpeedMPH                                                       10054 non-null  int64         \n",
            " 35  symbolType                                                                 9684 non-null   category      \n",
            " 36  workLocations                                                              8555 non-null   object        \n",
            " 37  locomotiveCount                                                            10054 non-null  int64         \n",
            " 38  nextSpeed                                                                  10054 non-null  int64         \n",
            " 39  lastReportedPosition.positionTimeYear                                      10054 non-null  int64         \n",
            " 40  lastReportedPosition.positionTimeMonth                                     10054 non-null  int64         \n",
            " 41  lastReportedPosition.positionTimeWeek                                      10054 non-null  int64         \n",
            " 42  lastReportedPosition.positionTimeDay                                       10054 non-null  int64         \n",
            " 43  lastReportedPosition.positionTimeDayofweek                                 10054 non-null  int64         \n",
            " 44  lastReportedPosition.positionTimeDayofyear                                 10054 non-null  int64         \n",
            " 45  lastReportedPosition.positionTimeIs_month_end                              10054 non-null  bool          \n",
            " 46  lastReportedPosition.positionTimeIs_month_start                            10054 non-null  bool          \n",
            " 47  lastReportedPosition.positionTimeIs_quarter_end                            10054 non-null  bool          \n",
            " 48  lastReportedPosition.positionTimeIs_quarter_start                          10054 non-null  bool          \n",
            " 49  lastReportedPosition.positionTimeIs_year_end                               10054 non-null  bool          \n",
            " 50  lastReportedPosition.positionTimeIs_year_start                             10054 non-null  bool          \n",
            " 51  lastReportedPosition.positionTimeElapsed                                   10054 non-null  float64       \n",
            "dtypes: bool(6), category(2), datetime64[ns](1), float64(17), int64(21), object(5)\n",
            "memory usage: 3.5+ MB\n",
            "None\n",
            "ptcLeadLocomotiveId                                        UP2524\n",
            "maximumTrainSpeed                                            70.0\n",
            "loadedCarCount                                               37.0\n",
            "emptyCarCount                                                 5.0\n",
            "trainLength                                                6034.0\n",
            "                                                         ...     \n",
            "lastReportedPosition.positionTimeIs_quarter_end             False\n",
            "lastReportedPosition.positionTimeIs_quarter_start           False\n",
            "lastReportedPosition.positionTimeIs_year_end                False\n",
            "lastReportedPosition.positionTimeIs_year_start              False\n",
            "lastReportedPosition.positionTimeElapsed             1649441741.0\n",
            "Name: 0, Length: 52, dtype: object\n"
          ]
        }
      ]
    },
    {
      "cell_type": "markdown",
      "source": [
        "# Use Decision Tree to predict speed in 1 mile"
      ],
      "metadata": {
        "id": "mg1p1vouBeIB"
      }
    },
    {
      "cell_type": "code",
      "source": [
        "procs = [tabular.core.Categorify, tabular.core.FillMissing]"
      ],
      "metadata": {
        "id": "F9TApkZWbAbz"
      },
      "execution_count": 69,
      "outputs": []
    },
    {
      "cell_type": "code",
      "source": [
        "print (dfTrainsLearn.groupby(['lastReportedPosition.positionTimeDayofyear'])['lastReportedPosition.positionTimeDayofyear'].count())\n"
      ],
      "metadata": {
        "colab": {
          "base_uri": "https://localhost:8080/"
        },
        "id": "gDgYzofcvcpM",
        "outputId": "5b495dbf-ca33-48f6-a44d-741f993b9169"
      },
      "execution_count": 70,
      "outputs": [
        {
          "output_type": "stream",
          "name": "stdout",
          "text": [
            "lastReportedPosition.positionTimeDayofyear\n",
            "90     124\n",
            "91     271\n",
            "92      79\n",
            "93     106\n",
            "95     109\n",
            "      ... \n",
            "121     45\n",
            "122    247\n",
            "123    214\n",
            "124    237\n",
            "125    150\n",
            "Name: lastReportedPosition.positionTimeDayofyear, Length: 33, dtype: int64\n"
          ]
        }
      ]
    },
    {
      "cell_type": "code",
      "source": [
        "cond = ( dfTrainsLearn['lastReportedPosition.positionTimeDayofyear'] < 121 )\n",
        "trainIdx = np.where(cond)[0]\n",
        "validIdx = np.where(~cond)[0]\n",
        "splits = (list(trainIdx), list(validIdx))"
      ],
      "metadata": {
        "id": "nIURJVe5vc_n"
      },
      "execution_count": 71,
      "outputs": []
    },
    {
      "cell_type": "code",
      "source": [
        "dep_var = 'nextSpeed'"
      ],
      "metadata": {
        "id": "rPW42wgnOLO_"
      },
      "execution_count": 72,
      "outputs": []
    },
    {
      "cell_type": "code",
      "source": [
        "cont,cat = tabular.core.cont_cat_split(dfTrainsLearn, 1, dep_var=dep_var)"
      ],
      "metadata": {
        "id": "gHDAeThzyzc6"
      },
      "execution_count": 73,
      "outputs": []
    },
    {
      "cell_type": "code",
      "source": [
        "to = tabular.core.TabularPandas(dfTrainsLearn, procs, cat, cont, y_names=dep_var, splits=splits)"
      ],
      "metadata": {
        "id": "xz1ZonvnO-I7"
      },
      "execution_count": 74,
      "outputs": []
    },
    {
      "cell_type": "code",
      "source": [
        "len(to.train),len(to.valid)"
      ],
      "metadata": {
        "colab": {
          "base_uri": "https://localhost:8080/"
        },
        "id": "0DJly6_Z94uI",
        "outputId": "94971d74-5c2d-4581-ed5b-2b810c0ce278"
      },
      "execution_count": 75,
      "outputs": [
        {
          "output_type": "execute_result",
          "data": {
            "text/plain": [
              "(9161, 893)"
            ]
          },
          "metadata": {},
          "execution_count": 75
        }
      ]
    },
    {
      "cell_type": "code",
      "source": [
        "to.show()"
      ],
      "metadata": {
        "colab": {
          "base_uri": "https://localhost:8080/",
          "height": 383
        },
        "id": "xoEQAME4-n0M",
        "outputId": "90953842-e818-4c0d-8df8-cb399585f1e9"
      },
      "execution_count": 76,
      "outputs": [
        {
          "output_type": "display_data",
          "data": {
            "text/plain": [
              "<IPython.core.display.HTML object>"
            ],
            "text/html": [
              "<table border=\"1\" class=\"dataframe\">\n",
              "  <thead>\n",
              "    <tr style=\"text-align: right;\">\n",
              "      <th></th>\n",
              "      <th>ptcLeadLocomotiveId</th>\n",
              "      <th>trainId.trainSCAC</th>\n",
              "      <th>trainId.trainSection</th>\n",
              "      <th>trainId.trainSymbol</th>\n",
              "      <th>trainId.trainDate</th>\n",
              "      <th>lastReportedPosition.milepostLocation.subdivisionId</th>\n",
              "      <th>lastReportedPosition.milepostLocation.trackName</th>\n",
              "      <th>aotuTrainData.ownershipCode</th>\n",
              "      <th>aotuTrainData.eventCode</th>\n",
              "      <th>symbolType</th>\n",
              "      <th>workLocations</th>\n",
              "      <th>lastReportedPosition.positionTimeYear</th>\n",
              "      <th>lastReportedPosition.positionTimeIs_month_end</th>\n",
              "      <th>lastReportedPosition.positionTimeIs_month_start</th>\n",
              "      <th>lastReportedPosition.positionTimeIs_quarter_end</th>\n",
              "      <th>lastReportedPosition.positionTimeIs_quarter_start</th>\n",
              "      <th>lastReportedPosition.positionTimeIs_year_end</th>\n",
              "      <th>lastReportedPosition.positionTimeIs_year_start</th>\n",
              "      <th>maximumTrainSpeed_na</th>\n",
              "      <th>loadedCarCount_na</th>\n",
              "      <th>emptyCarCount_na</th>\n",
              "      <th>trainLength_na</th>\n",
              "      <th>trailingTonnage_na</th>\n",
              "      <th>lastReportedPosition.precedingSignalState.milepostLocation.milepostNumber_na</th>\n",
              "      <th>lastReportedPosition.precedingSignalState.previousSignalState_na</th>\n",
              "      <th>lastReportedPosition.precedingSignalState.signalState_na</th>\n",
              "      <th>lastReportedPosition.nextSignalState.milepostLocation.milepostNumber_na</th>\n",
              "      <th>lastReportedPosition.nextSignalState.signalState_na</th>\n",
              "      <th>maximumTrainSpeed</th>\n",
              "      <th>loadedCarCount</th>\n",
              "      <th>emptyCarCount</th>\n",
              "      <th>trainLength</th>\n",
              "      <th>trailingTonnage</th>\n",
              "      <th>lastReportedPosition.speedMPH</th>\n",
              "      <th>lastReportedPosition.milepostLocation.milepost.milepostNumber</th>\n",
              "      <th>aotuTrainData.priorityCode</th>\n",
              "      <th>aotuTrainData.categoryCode</th>\n",
              "      <th>aotuTrainData.authorityRangeCode</th>\n",
              "      <th>aotuTrainData.totalCarWeight</th>\n",
              "      <th>aotuTrainData.totalCarLength</th>\n",
              "      <th>aotuTrainData.totalLocomotiveWeight</th>\n",
              "      <th>aotuTrainData.totalLocomotiveLength</th>\n",
              "      <th>aotuTrainData.actualTonsPerAxle</th>\n",
              "      <th>aotuTrainData.heavy143TonCarCount</th>\n",
              "      <th>aotuTrainData.heavy158TonCarCount</th>\n",
              "      <th>aotuTrainData.over158TonCarCount</th>\n",
              "      <th>aotuTrainData.highWideCarCount</th>\n",
              "      <th>lastReportedPosition.precedingSignalState.milepostLocation.milepostNumber</th>\n",
              "      <th>lastReportedPosition.precedingSignalState.previousSignalState</th>\n",
              "      <th>lastReportedPosition.precedingSignalState.signalState</th>\n",
              "      <th>lastReportedPosition.nextSignalState.milepostLocation.milepostNumber</th>\n",
              "      <th>lastReportedPosition.nextSignalState.signalState</th>\n",
              "      <th>milepost</th>\n",
              "      <th>lastReportedSpeedMPH</th>\n",
              "      <th>locomotiveCount</th>\n",
              "      <th>lastReportedPosition.positionTimeMonth</th>\n",
              "      <th>lastReportedPosition.positionTimeWeek</th>\n",
              "      <th>lastReportedPosition.positionTimeDay</th>\n",
              "      <th>lastReportedPosition.positionTimeDayofweek</th>\n",
              "      <th>lastReportedPosition.positionTimeDayofyear</th>\n",
              "      <th>lastReportedPosition.positionTimeElapsed</th>\n",
              "      <th>nextSpeed</th>\n",
              "    </tr>\n",
              "  </thead>\n",
              "  <tbody>\n",
              "    <tr>\n",
              "      <th>0</th>\n",
              "      <td>UP2010</td>\n",
              "      <td>UP</td>\n",
              "      <td></td>\n",
              "      <td>MEWLI</td>\n",
              "      <td>2022-04-21</td>\n",
              "      <td>106</td>\n",
              "      <td>WEST MAIN</td>\n",
              "      <td>2</td>\n",
              "      <td>0</td>\n",
              "      <td>M</td>\n",
              "      <td>#na#</td>\n",
              "      <td>2022</td>\n",
              "      <td>False</td>\n",
              "      <td>False</td>\n",
              "      <td>False</td>\n",
              "      <td>False</td>\n",
              "      <td>False</td>\n",
              "      <td>False</td>\n",
              "      <td>False</td>\n",
              "      <td>False</td>\n",
              "      <td>False</td>\n",
              "      <td>False</td>\n",
              "      <td>False</td>\n",
              "      <td>True</td>\n",
              "      <td>True</td>\n",
              "      <td>True</td>\n",
              "      <td>True</td>\n",
              "      <td>True</td>\n",
              "      <td>50.0</td>\n",
              "      <td>61.0</td>\n",
              "      <td>92.0</td>\n",
              "      <td>9282.0</td>\n",
              "      <td>10992.0</td>\n",
              "      <td>-12</td>\n",
              "      <td>766.930420</td>\n",
              "      <td>4</td>\n",
              "      <td>12</td>\n",
              "      <td>2</td>\n",
              "      <td>219727008.0</td>\n",
              "      <td>1078840.0</td>\n",
              "      <td>12202400.0</td>\n",
              "      <td>25820.0</td>\n",
              "      <td>65535.0</td>\n",
              "      <td>10</td>\n",
              "      <td>0</td>\n",
              "      <td>0</td>\n",
              "      <td>0</td>\n",
              "      <td>258.420013</td>\n",
              "      <td>-4.0</td>\n",
              "      <td>1.0</td>\n",
              "      <td>260.200012</td>\n",
              "      <td>1.0</td>\n",
              "      <td>766</td>\n",
              "      <td>-12</td>\n",
              "      <td>2</td>\n",
              "      <td>4</td>\n",
              "      <td>16</td>\n",
              "      <td>21</td>\n",
              "      <td>3</td>\n",
              "      <td>111</td>\n",
              "      <td>1.650584e+09</td>\n",
              "      <td>-12</td>\n",
              "    </tr>\n",
              "    <tr>\n",
              "      <th>0</th>\n",
              "      <td>UP2010</td>\n",
              "      <td>UP</td>\n",
              "      <td></td>\n",
              "      <td>MEWLI</td>\n",
              "      <td>2022-04-21</td>\n",
              "      <td>106</td>\n",
              "      <td>WEST MAIN</td>\n",
              "      <td>2</td>\n",
              "      <td>0</td>\n",
              "      <td>M</td>\n",
              "      <td>#na#</td>\n",
              "      <td>2022</td>\n",
              "      <td>False</td>\n",
              "      <td>False</td>\n",
              "      <td>False</td>\n",
              "      <td>False</td>\n",
              "      <td>False</td>\n",
              "      <td>False</td>\n",
              "      <td>False</td>\n",
              "      <td>False</td>\n",
              "      <td>False</td>\n",
              "      <td>False</td>\n",
              "      <td>False</td>\n",
              "      <td>True</td>\n",
              "      <td>True</td>\n",
              "      <td>True</td>\n",
              "      <td>True</td>\n",
              "      <td>True</td>\n",
              "      <td>50.0</td>\n",
              "      <td>61.0</td>\n",
              "      <td>92.0</td>\n",
              "      <td>9282.0</td>\n",
              "      <td>10992.0</td>\n",
              "      <td>-11</td>\n",
              "      <td>766.718811</td>\n",
              "      <td>4</td>\n",
              "      <td>12</td>\n",
              "      <td>2</td>\n",
              "      <td>219727008.0</td>\n",
              "      <td>1078840.0</td>\n",
              "      <td>12202400.0</td>\n",
              "      <td>25820.0</td>\n",
              "      <td>65535.0</td>\n",
              "      <td>10</td>\n",
              "      <td>0</td>\n",
              "      <td>0</td>\n",
              "      <td>0</td>\n",
              "      <td>258.420013</td>\n",
              "      <td>-4.0</td>\n",
              "      <td>1.0</td>\n",
              "      <td>260.200012</td>\n",
              "      <td>1.0</td>\n",
              "      <td>766</td>\n",
              "      <td>-11</td>\n",
              "      <td>2</td>\n",
              "      <td>4</td>\n",
              "      <td>16</td>\n",
              "      <td>21</td>\n",
              "      <td>3</td>\n",
              "      <td>111</td>\n",
              "      <td>1.650584e+09</td>\n",
              "      <td>-11</td>\n",
              "    </tr>\n",
              "    <tr>\n",
              "      <th>0</th>\n",
              "      <td>UP2010</td>\n",
              "      <td>UP</td>\n",
              "      <td></td>\n",
              "      <td>MEWLI</td>\n",
              "      <td>2022-04-21</td>\n",
              "      <td>106</td>\n",
              "      <td>WEST MAIN</td>\n",
              "      <td>2</td>\n",
              "      <td>0</td>\n",
              "      <td>M</td>\n",
              "      <td>#na#</td>\n",
              "      <td>2022</td>\n",
              "      <td>False</td>\n",
              "      <td>False</td>\n",
              "      <td>False</td>\n",
              "      <td>False</td>\n",
              "      <td>False</td>\n",
              "      <td>False</td>\n",
              "      <td>False</td>\n",
              "      <td>False</td>\n",
              "      <td>False</td>\n",
              "      <td>False</td>\n",
              "      <td>False</td>\n",
              "      <td>True</td>\n",
              "      <td>True</td>\n",
              "      <td>True</td>\n",
              "      <td>True</td>\n",
              "      <td>True</td>\n",
              "      <td>50.0</td>\n",
              "      <td>61.0</td>\n",
              "      <td>92.0</td>\n",
              "      <td>9282.0</td>\n",
              "      <td>10992.0</td>\n",
              "      <td>-10</td>\n",
              "      <td>766.565308</td>\n",
              "      <td>4</td>\n",
              "      <td>12</td>\n",
              "      <td>2</td>\n",
              "      <td>219727008.0</td>\n",
              "      <td>1078840.0</td>\n",
              "      <td>12202400.0</td>\n",
              "      <td>25820.0</td>\n",
              "      <td>65535.0</td>\n",
              "      <td>10</td>\n",
              "      <td>0</td>\n",
              "      <td>0</td>\n",
              "      <td>0</td>\n",
              "      <td>258.420013</td>\n",
              "      <td>-4.0</td>\n",
              "      <td>1.0</td>\n",
              "      <td>260.200012</td>\n",
              "      <td>1.0</td>\n",
              "      <td>766</td>\n",
              "      <td>-10</td>\n",
              "      <td>2</td>\n",
              "      <td>4</td>\n",
              "      <td>16</td>\n",
              "      <td>21</td>\n",
              "      <td>3</td>\n",
              "      <td>111</td>\n",
              "      <td>1.650584e+09</td>\n",
              "      <td>-10</td>\n",
              "    </tr>\n",
              "    <tr>\n",
              "      <th>0</th>\n",
              "      <td>UP2010</td>\n",
              "      <td>UP</td>\n",
              "      <td></td>\n",
              "      <td>MEWLI</td>\n",
              "      <td>2022-04-21</td>\n",
              "      <td>106</td>\n",
              "      <td>WEST MAIN</td>\n",
              "      <td>2</td>\n",
              "      <td>0</td>\n",
              "      <td>M</td>\n",
              "      <td>#na#</td>\n",
              "      <td>2022</td>\n",
              "      <td>False</td>\n",
              "      <td>False</td>\n",
              "      <td>False</td>\n",
              "      <td>False</td>\n",
              "      <td>False</td>\n",
              "      <td>False</td>\n",
              "      <td>False</td>\n",
              "      <td>False</td>\n",
              "      <td>False</td>\n",
              "      <td>False</td>\n",
              "      <td>False</td>\n",
              "      <td>True</td>\n",
              "      <td>True</td>\n",
              "      <td>True</td>\n",
              "      <td>True</td>\n",
              "      <td>True</td>\n",
              "      <td>50.0</td>\n",
              "      <td>61.0</td>\n",
              "      <td>92.0</td>\n",
              "      <td>9282.0</td>\n",
              "      <td>10992.0</td>\n",
              "      <td>-10</td>\n",
              "      <td>766.435181</td>\n",
              "      <td>4</td>\n",
              "      <td>12</td>\n",
              "      <td>2</td>\n",
              "      <td>219727008.0</td>\n",
              "      <td>1078840.0</td>\n",
              "      <td>12202400.0</td>\n",
              "      <td>25820.0</td>\n",
              "      <td>65535.0</td>\n",
              "      <td>10</td>\n",
              "      <td>0</td>\n",
              "      <td>0</td>\n",
              "      <td>0</td>\n",
              "      <td>258.420013</td>\n",
              "      <td>-4.0</td>\n",
              "      <td>1.0</td>\n",
              "      <td>260.200012</td>\n",
              "      <td>1.0</td>\n",
              "      <td>766</td>\n",
              "      <td>-10</td>\n",
              "      <td>2</td>\n",
              "      <td>4</td>\n",
              "      <td>16</td>\n",
              "      <td>21</td>\n",
              "      <td>3</td>\n",
              "      <td>111</td>\n",
              "      <td>1.650584e+09</td>\n",
              "      <td>-10</td>\n",
              "    </tr>\n",
              "    <tr>\n",
              "      <th>0</th>\n",
              "      <td>UP2010</td>\n",
              "      <td>UP</td>\n",
              "      <td></td>\n",
              "      <td>MEWLI</td>\n",
              "      <td>2022-04-21</td>\n",
              "      <td>106</td>\n",
              "      <td>WEST MAIN</td>\n",
              "      <td>2</td>\n",
              "      <td>0</td>\n",
              "      <td>M</td>\n",
              "      <td>#na#</td>\n",
              "      <td>2022</td>\n",
              "      <td>False</td>\n",
              "      <td>False</td>\n",
              "      <td>False</td>\n",
              "      <td>False</td>\n",
              "      <td>False</td>\n",
              "      <td>False</td>\n",
              "      <td>False</td>\n",
              "      <td>False</td>\n",
              "      <td>False</td>\n",
              "      <td>False</td>\n",
              "      <td>False</td>\n",
              "      <td>True</td>\n",
              "      <td>True</td>\n",
              "      <td>True</td>\n",
              "      <td>True</td>\n",
              "      <td>True</td>\n",
              "      <td>50.0</td>\n",
              "      <td>61.0</td>\n",
              "      <td>92.0</td>\n",
              "      <td>9282.0</td>\n",
              "      <td>10992.0</td>\n",
              "      <td>-10</td>\n",
              "      <td>766.322815</td>\n",
              "      <td>4</td>\n",
              "      <td>12</td>\n",
              "      <td>2</td>\n",
              "      <td>219727008.0</td>\n",
              "      <td>1078840.0</td>\n",
              "      <td>12202400.0</td>\n",
              "      <td>25820.0</td>\n",
              "      <td>65535.0</td>\n",
              "      <td>10</td>\n",
              "      <td>0</td>\n",
              "      <td>0</td>\n",
              "      <td>0</td>\n",
              "      <td>258.420013</td>\n",
              "      <td>-4.0</td>\n",
              "      <td>1.0</td>\n",
              "      <td>260.200012</td>\n",
              "      <td>1.0</td>\n",
              "      <td>766</td>\n",
              "      <td>-10</td>\n",
              "      <td>2</td>\n",
              "      <td>4</td>\n",
              "      <td>16</td>\n",
              "      <td>21</td>\n",
              "      <td>3</td>\n",
              "      <td>111</td>\n",
              "      <td>1.650584e+09</td>\n",
              "      <td>-10</td>\n",
              "    </tr>\n",
              "    <tr>\n",
              "      <th>0</th>\n",
              "      <td>UP2010</td>\n",
              "      <td>UP</td>\n",
              "      <td></td>\n",
              "      <td>MEWLI</td>\n",
              "      <td>2022-04-21</td>\n",
              "      <td>106</td>\n",
              "      <td>WEST MAIN</td>\n",
              "      <td>2</td>\n",
              "      <td>0</td>\n",
              "      <td>M</td>\n",
              "      <td>#na#</td>\n",
              "      <td>2022</td>\n",
              "      <td>False</td>\n",
              "      <td>False</td>\n",
              "      <td>False</td>\n",
              "      <td>False</td>\n",
              "      <td>False</td>\n",
              "      <td>False</td>\n",
              "      <td>False</td>\n",
              "      <td>False</td>\n",
              "      <td>False</td>\n",
              "      <td>False</td>\n",
              "      <td>False</td>\n",
              "      <td>True</td>\n",
              "      <td>True</td>\n",
              "      <td>True</td>\n",
              "      <td>True</td>\n",
              "      <td>True</td>\n",
              "      <td>50.0</td>\n",
              "      <td>61.0</td>\n",
              "      <td>92.0</td>\n",
              "      <td>9282.0</td>\n",
              "      <td>10992.0</td>\n",
              "      <td>-10</td>\n",
              "      <td>766.289795</td>\n",
              "      <td>4</td>\n",
              "      <td>12</td>\n",
              "      <td>2</td>\n",
              "      <td>219727008.0</td>\n",
              "      <td>1078840.0</td>\n",
              "      <td>12202400.0</td>\n",
              "      <td>25820.0</td>\n",
              "      <td>65535.0</td>\n",
              "      <td>10</td>\n",
              "      <td>0</td>\n",
              "      <td>0</td>\n",
              "      <td>0</td>\n",
              "      <td>258.420013</td>\n",
              "      <td>-4.0</td>\n",
              "      <td>1.0</td>\n",
              "      <td>260.200012</td>\n",
              "      <td>1.0</td>\n",
              "      <td>766</td>\n",
              "      <td>-10</td>\n",
              "      <td>2</td>\n",
              "      <td>4</td>\n",
              "      <td>16</td>\n",
              "      <td>21</td>\n",
              "      <td>3</td>\n",
              "      <td>111</td>\n",
              "      <td>1.650584e+09</td>\n",
              "      <td>-10</td>\n",
              "    </tr>\n",
              "    <tr>\n",
              "      <th>0</th>\n",
              "      <td>UP2010</td>\n",
              "      <td>UP</td>\n",
              "      <td></td>\n",
              "      <td>MEWLI</td>\n",
              "      <td>2022-04-21</td>\n",
              "      <td>106</td>\n",
              "      <td>MAIN</td>\n",
              "      <td>2</td>\n",
              "      <td>0</td>\n",
              "      <td>M</td>\n",
              "      <td>#na#</td>\n",
              "      <td>2022</td>\n",
              "      <td>False</td>\n",
              "      <td>False</td>\n",
              "      <td>False</td>\n",
              "      <td>False</td>\n",
              "      <td>False</td>\n",
              "      <td>False</td>\n",
              "      <td>False</td>\n",
              "      <td>False</td>\n",
              "      <td>False</td>\n",
              "      <td>False</td>\n",
              "      <td>False</td>\n",
              "      <td>True</td>\n",
              "      <td>True</td>\n",
              "      <td>True</td>\n",
              "      <td>True</td>\n",
              "      <td>True</td>\n",
              "      <td>50.0</td>\n",
              "      <td>61.0</td>\n",
              "      <td>92.0</td>\n",
              "      <td>9282.0</td>\n",
              "      <td>10992.0</td>\n",
              "      <td>-10</td>\n",
              "      <td>766.046082</td>\n",
              "      <td>4</td>\n",
              "      <td>12</td>\n",
              "      <td>2</td>\n",
              "      <td>219727008.0</td>\n",
              "      <td>1078840.0</td>\n",
              "      <td>12202400.0</td>\n",
              "      <td>25820.0</td>\n",
              "      <td>65535.0</td>\n",
              "      <td>10</td>\n",
              "      <td>0</td>\n",
              "      <td>0</td>\n",
              "      <td>0</td>\n",
              "      <td>258.420013</td>\n",
              "      <td>-4.0</td>\n",
              "      <td>1.0</td>\n",
              "      <td>260.200012</td>\n",
              "      <td>1.0</td>\n",
              "      <td>766</td>\n",
              "      <td>-10</td>\n",
              "      <td>2</td>\n",
              "      <td>4</td>\n",
              "      <td>16</td>\n",
              "      <td>21</td>\n",
              "      <td>3</td>\n",
              "      <td>111</td>\n",
              "      <td>1.650584e+09</td>\n",
              "      <td>-10</td>\n",
              "    </tr>\n",
              "    <tr>\n",
              "      <th>0</th>\n",
              "      <td>UP2010</td>\n",
              "      <td>UP</td>\n",
              "      <td></td>\n",
              "      <td>MEWLI</td>\n",
              "      <td>2022-04-21</td>\n",
              "      <td>106</td>\n",
              "      <td>MAIN</td>\n",
              "      <td>2</td>\n",
              "      <td>0</td>\n",
              "      <td>M</td>\n",
              "      <td>#na#</td>\n",
              "      <td>2022</td>\n",
              "      <td>False</td>\n",
              "      <td>False</td>\n",
              "      <td>False</td>\n",
              "      <td>False</td>\n",
              "      <td>False</td>\n",
              "      <td>False</td>\n",
              "      <td>False</td>\n",
              "      <td>False</td>\n",
              "      <td>False</td>\n",
              "      <td>False</td>\n",
              "      <td>False</td>\n",
              "      <td>True</td>\n",
              "      <td>True</td>\n",
              "      <td>True</td>\n",
              "      <td>True</td>\n",
              "      <td>True</td>\n",
              "      <td>50.0</td>\n",
              "      <td>61.0</td>\n",
              "      <td>92.0</td>\n",
              "      <td>9282.0</td>\n",
              "      <td>10992.0</td>\n",
              "      <td>-10</td>\n",
              "      <td>765.774414</td>\n",
              "      <td>4</td>\n",
              "      <td>12</td>\n",
              "      <td>2</td>\n",
              "      <td>219727008.0</td>\n",
              "      <td>1078840.0</td>\n",
              "      <td>12202400.0</td>\n",
              "      <td>25820.0</td>\n",
              "      <td>65535.0</td>\n",
              "      <td>10</td>\n",
              "      <td>0</td>\n",
              "      <td>0</td>\n",
              "      <td>0</td>\n",
              "      <td>258.420013</td>\n",
              "      <td>-4.0</td>\n",
              "      <td>1.0</td>\n",
              "      <td>260.200012</td>\n",
              "      <td>1.0</td>\n",
              "      <td>765</td>\n",
              "      <td>-10</td>\n",
              "      <td>2</td>\n",
              "      <td>4</td>\n",
              "      <td>16</td>\n",
              "      <td>21</td>\n",
              "      <td>3</td>\n",
              "      <td>111</td>\n",
              "      <td>1.650584e+09</td>\n",
              "      <td>-10</td>\n",
              "    </tr>\n",
              "    <tr>\n",
              "      <th>0</th>\n",
              "      <td>UP2010</td>\n",
              "      <td>UP</td>\n",
              "      <td></td>\n",
              "      <td>MEWLI</td>\n",
              "      <td>2022-04-21</td>\n",
              "      <td>106</td>\n",
              "      <td>MAIN</td>\n",
              "      <td>2</td>\n",
              "      <td>0</td>\n",
              "      <td>M</td>\n",
              "      <td>#na#</td>\n",
              "      <td>2022</td>\n",
              "      <td>False</td>\n",
              "      <td>False</td>\n",
              "      <td>False</td>\n",
              "      <td>False</td>\n",
              "      <td>False</td>\n",
              "      <td>False</td>\n",
              "      <td>False</td>\n",
              "      <td>False</td>\n",
              "      <td>False</td>\n",
              "      <td>False</td>\n",
              "      <td>False</td>\n",
              "      <td>True</td>\n",
              "      <td>True</td>\n",
              "      <td>True</td>\n",
              "      <td>True</td>\n",
              "      <td>True</td>\n",
              "      <td>50.0</td>\n",
              "      <td>61.0</td>\n",
              "      <td>92.0</td>\n",
              "      <td>9282.0</td>\n",
              "      <td>10992.0</td>\n",
              "      <td>-8</td>\n",
              "      <td>765.598877</td>\n",
              "      <td>4</td>\n",
              "      <td>12</td>\n",
              "      <td>2</td>\n",
              "      <td>219727008.0</td>\n",
              "      <td>1078840.0</td>\n",
              "      <td>12202400.0</td>\n",
              "      <td>25820.0</td>\n",
              "      <td>65535.0</td>\n",
              "      <td>10</td>\n",
              "      <td>0</td>\n",
              "      <td>0</td>\n",
              "      <td>0</td>\n",
              "      <td>258.420013</td>\n",
              "      <td>-4.0</td>\n",
              "      <td>1.0</td>\n",
              "      <td>260.200012</td>\n",
              "      <td>1.0</td>\n",
              "      <td>765</td>\n",
              "      <td>-8</td>\n",
              "      <td>2</td>\n",
              "      <td>4</td>\n",
              "      <td>16</td>\n",
              "      <td>21</td>\n",
              "      <td>3</td>\n",
              "      <td>111</td>\n",
              "      <td>1.650584e+09</td>\n",
              "      <td>-8</td>\n",
              "    </tr>\n",
              "    <tr>\n",
              "      <th>0</th>\n",
              "      <td>UP2524</td>\n",
              "      <td>UP</td>\n",
              "      <td></td>\n",
              "      <td>ZBRG2</td>\n",
              "      <td>2022-04-06</td>\n",
              "      <td>106</td>\n",
              "      <td>MT 2</td>\n",
              "      <td>2</td>\n",
              "      <td>0</td>\n",
              "      <td>Z</td>\n",
              "      <td>202.20</td>\n",
              "      <td>2022</td>\n",
              "      <td>False</td>\n",
              "      <td>False</td>\n",
              "      <td>False</td>\n",
              "      <td>False</td>\n",
              "      <td>False</td>\n",
              "      <td>False</td>\n",
              "      <td>False</td>\n",
              "      <td>False</td>\n",
              "      <td>False</td>\n",
              "      <td>False</td>\n",
              "      <td>False</td>\n",
              "      <td>True</td>\n",
              "      <td>True</td>\n",
              "      <td>True</td>\n",
              "      <td>True</td>\n",
              "      <td>True</td>\n",
              "      <td>70.0</td>\n",
              "      <td>37.0</td>\n",
              "      <td>5.0</td>\n",
              "      <td>6034.0</td>\n",
              "      <td>4180.0</td>\n",
              "      <td>-56</td>\n",
              "      <td>326.180389</td>\n",
              "      <td>1</td>\n",
              "      <td>10</td>\n",
              "      <td>2</td>\n",
              "      <td>83582000.0</td>\n",
              "      <td>678370.0</td>\n",
              "      <td>21020000.0</td>\n",
              "      <td>43900.0</td>\n",
              "      <td>65535.0</td>\n",
              "      <td>0</td>\n",
              "      <td>0</td>\n",
              "      <td>0</td>\n",
              "      <td>0</td>\n",
              "      <td>258.420013</td>\n",
              "      <td>-4.0</td>\n",
              "      <td>1.0</td>\n",
              "      <td>260.200012</td>\n",
              "      <td>1.0</td>\n",
              "      <td>326</td>\n",
              "      <td>-56</td>\n",
              "      <td>5</td>\n",
              "      <td>4</td>\n",
              "      <td>14</td>\n",
              "      <td>8</td>\n",
              "      <td>4</td>\n",
              "      <td>98</td>\n",
              "      <td>1.649435e+09</td>\n",
              "      <td>-56</td>\n",
              "    </tr>\n",
              "  </tbody>\n",
              "</table>"
            ]
          },
          "metadata": {}
        }
      ]
    },
    {
      "cell_type": "code",
      "source": [
        "fastai.save_pickle('/tmp/to.pkl',to)"
      ],
      "metadata": {
        "id": "r-D5hdO3-ypC"
      },
      "execution_count": 77,
      "outputs": []
    },
    {
      "cell_type": "markdown",
      "source": [
        "# Creating the Decision Tree"
      ],
      "metadata": {
        "id": "knWgCrX_A0Ep"
      }
    },
    {
      "cell_type": "code",
      "source": [
        "to = fastai.load_pickle('/tmp/to.pkl')"
      ],
      "metadata": {
        "id": "rtc_YDw0ArMR"
      },
      "execution_count": 78,
      "outputs": []
    },
    {
      "cell_type": "code",
      "source": [
        "xs,y = to.train.xs,to.train.y\n",
        "valid_xs,valid_y = to.valid.xs,to.valid.y"
      ],
      "metadata": {
        "id": "CcGx27DMBMbc"
      },
      "execution_count": 79,
      "outputs": []
    },
    {
      "cell_type": "code",
      "source": [
        "m = DecisionTreeRegressor(min_samples_leaf=10)\n",
        "m.fit(xs, y);"
      ],
      "metadata": {
        "id": "clTcBmpGBXv6"
      },
      "execution_count": 85,
      "outputs": []
    },
    {
      "cell_type": "code",
      "source": [
        "fastai.draw_tree(m, xs, size=20, leaves_parallel=True, precision=2)"
      ],
      "metadata": {
        "colab": {
          "base_uri": "https://localhost:8080/",
          "height": 1000
        },
        "id": "nhXNnHk7CSmF",
        "outputId": "993d861e-8a7b-4927-d4ed-df9898c08998"
      },
      "execution_count": 86,
      "outputs": [
        {
          "output_type": "execute_result",
          "data": {
            "text/plain": [
              "<graphviz.files.Source at 0x7fe70d7d2c90>"
            ],
            "image/svg+xml": "<?xml version=\"1.0\" encoding=\"UTF-8\" standalone=\"no\"?>\n<!DOCTYPE svg PUBLIC \"-//W3C//DTD SVG 1.1//EN\"\n \"http://www.w3.org/Graphics/SVG/1.1/DTD/svg11.dtd\">\n<!-- Generated by graphviz version 2.40.1 (20161225.0304)\n -->\n<!-- Title: Tree Pages: 1 -->\n<svg width=\"1440pt\" height=\"865pt\"\n viewBox=\"0.00 0.00 1440.00 864.53\" xmlns=\"http://www.w3.org/2000/svg\" xmlns:xlink=\"http://www.w3.org/1999/xlink\">\n<g id=\"graph0\" class=\"graph\" transform=\"scale(.0618 .0618) rotate(0) translate(4 13995.3463)\">\n<title>Tree</title>\n<polygon fill=\"#ffffff\" stroke=\"transparent\" points=\"-4,4 -4,-13995.3463 23314,-13995.3463 23314,4 -4,4\"/>\n<!-- 0 -->\n<g id=\"node1\" class=\"node\">\n<title>0</title>\n<path fill=\"#f2c19d\" stroke=\"#000000\" d=\"M10905.5,-13662C10905.5,-13662 10662.5,-13662 10662.5,-13662 10656.5,-13662 10650.5,-13656 10650.5,-13650 10650.5,-13650 10650.5,-13606 10650.5,-13606 10650.5,-13600 10656.5,-13594 10662.5,-13594 10662.5,-13594 10905.5,-13594 10905.5,-13594 10911.5,-13594 10917.5,-13600 10917.5,-13606 10917.5,-13606 10917.5,-13650 10917.5,-13650 10917.5,-13656 10911.5,-13662 10905.5,-13662\"/>\n<text text-anchor=\"start\" x=\"10658.5\" y=\"-13646.8\" font-family=\"Helvetica,sans-Serif\" font-size=\"14.00\" fill=\"#000000\">lastReportedPosition.speedMPH ≤ &#45;7.5</text>\n<text text-anchor=\"start\" x=\"10707.5\" y=\"-13631.8\" font-family=\"Helvetica,sans-Serif\" font-size=\"14.00\" fill=\"#000000\">squared_error = 1330.8</text>\n<text text-anchor=\"start\" x=\"10732\" y=\"-13616.8\" font-family=\"Helvetica,sans-Serif\" font-size=\"14.00\" fill=\"#000000\">samples = 9161</text>\n<text text-anchor=\"start\" x=\"10741.5\" y=\"-13601.8\" font-family=\"Helvetica,sans-Serif\" font-size=\"14.00\" fill=\"#000000\">value = &#45;1.74</text>\n</g>\n<!-- 1 -->\n<g id=\"node2\" class=\"node\">\n<title>1</title>\n<path fill=\"#f9e2d2\" stroke=\"#000000\" d=\"M7855.5,-12550C7855.5,-12550 7604.5,-12550 7604.5,-12550 7598.5,-12550 7592.5,-12544 7592.5,-12538 7592.5,-12538 7592.5,-12494 7592.5,-12494 7592.5,-12488 7598.5,-12482 7604.5,-12482 7604.5,-12482 7855.5,-12482 7855.5,-12482 7861.5,-12482 7867.5,-12488 7867.5,-12494 7867.5,-12494 7867.5,-12538 7867.5,-12538 7867.5,-12544 7861.5,-12550 7855.5,-12550\"/>\n<text text-anchor=\"start\" x=\"7600.5\" y=\"-12534.8\" font-family=\"Helvetica,sans-Serif\" font-size=\"14.00\" fill=\"#000000\">lastReportedPosition.speedMPH ≤ &#45;35.5</text>\n<text text-anchor=\"start\" x=\"7653.5\" y=\"-12519.8\" font-family=\"Helvetica,sans-Serif\" font-size=\"14.00\" fill=\"#000000\">squared_error = 139.81</text>\n<text text-anchor=\"start\" x=\"7678\" y=\"-12504.8\" font-family=\"Helvetica,sans-Serif\" font-size=\"14.00\" fill=\"#000000\">samples = 3815</text>\n<text text-anchor=\"start\" x=\"7683.5\" y=\"-12489.8\" font-family=\"Helvetica,sans-Serif\" font-size=\"14.00\" fill=\"#000000\">value = &#45;39.16</text>\n</g>\n<!-- 0&#45;&gt;1 -->\n<g id=\"edge1\" class=\"edge\">\n<title>0&#45;&gt;1</title>\n<path fill=\"none\" stroke=\"#000000\" d=\"M10690.5133,-13593.9603C10240.8288,-13430.2245 8302.7879,-12724.5593 7832.9089,-12553.4704\"/>\n<polygon fill=\"#000000\" stroke=\"#000000\" points=\"7834.01,-12550.1466 7823.416,-12550.0139 7831.615,-12556.7242 7834.01,-12550.1466\"/>\n<text text-anchor=\"middle\" x=\"7833.9786\" y=\"-12568.973\" font-family=\"Helvetica,sans-Serif\" font-size=\"14.00\" fill=\"#000000\">True</text>\n</g>\n<!-- 126 -->\n<g id=\"node127\" class=\"node\">\n<title>126</title>\n<path fill=\"#eda978\" stroke=\"#000000\" d=\"M14017,-12550C14017,-12550 13823,-12550 13823,-12550 13817,-12550 13811,-12544 13811,-12538 13811,-12538 13811,-12494 13811,-12494 13811,-12488 13817,-12482 13823,-12482 13823,-12482 14017,-12482 14017,-12482 14023,-12482 14029,-12488 14029,-12494 14029,-12494 14029,-12538 14029,-12538 14029,-12544 14023,-12550 14017,-12550\"/>\n<text text-anchor=\"start\" x=\"13819\" y=\"-12534.8\" font-family=\"Helvetica,sans-Serif\" font-size=\"14.00\" fill=\"#000000\">lastReportedSpeedMPH ≤ 23.5</text>\n<text text-anchor=\"start\" x=\"13843.5\" y=\"-12519.8\" font-family=\"Helvetica,sans-Serif\" font-size=\"14.00\" fill=\"#000000\">squared_error = 468.96</text>\n<text text-anchor=\"start\" x=\"13868\" y=\"-12504.8\" font-family=\"Helvetica,sans-Serif\" font-size=\"14.00\" fill=\"#000000\">samples = 5346</text>\n<text text-anchor=\"start\" x=\"13876\" y=\"-12489.8\" font-family=\"Helvetica,sans-Serif\" font-size=\"14.00\" fill=\"#000000\">value = 24.96</text>\n</g>\n<!-- 0&#45;&gt;126 -->\n<g id=\"edge126\" class=\"edge\">\n<title>0&#45;&gt;126</title>\n<path fill=\"none\" stroke=\"#000000\" d=\"M10879.9969,-13593.9603C11341.7553,-13430.2245 13331.8327,-12724.5593 13814.328,-12553.4704\"/>\n<polygon fill=\"#000000\" stroke=\"#000000\" points=\"13815.8205,-12556.6548 13824.0758,-12550.0139 13813.481,-12550.0573 13815.8205,-12556.6548\"/>\n<text text-anchor=\"middle\" x=\"13813.3225\" y=\"-12568.8831\" font-family=\"Helvetica,sans-Serif\" font-size=\"14.00\" fill=\"#000000\">False</text>\n</g>\n<!-- 2 -->\n<g id=\"node3\" class=\"node\">\n<title>2</title>\n<path fill=\"#fae8da\" stroke=\"#000000\" d=\"M4693,-11438C4693,-11438 4495,-11438 4495,-11438 4489,-11438 4483,-11432 4483,-11426 4483,-11426 4483,-11382 4483,-11382 4483,-11376 4489,-11370 4495,-11370 4495,-11370 4693,-11370 4693,-11370 4699,-11370 4705,-11376 4705,-11382 4705,-11382 4705,-11426 4705,-11426 4705,-11432 4699,-11438 4693,-11438\"/>\n<text text-anchor=\"start\" x=\"4491\" y=\"-11422.8\" font-family=\"Helvetica,sans-Serif\" font-size=\"14.00\" fill=\"#000000\">lastReportedSpeedMPH ≤ &#45;49.5</text>\n<text text-anchor=\"start\" x=\"4521.5\" y=\"-11407.8\" font-family=\"Helvetica,sans-Serif\" font-size=\"14.00\" fill=\"#000000\">squared_error = 61.78</text>\n<text text-anchor=\"start\" x=\"4542\" y=\"-11392.8\" font-family=\"Helvetica,sans-Serif\" font-size=\"14.00\" fill=\"#000000\">samples = 2639</text>\n<text text-anchor=\"start\" x=\"4547.5\" y=\"-11377.8\" font-family=\"Helvetica,sans-Serif\" font-size=\"14.00\" fill=\"#000000\">value = &#45;45.05</text>\n</g>\n<!-- 1&#45;&gt;2 -->\n<g id=\"edge2\" class=\"edge\">\n<title>1&#45;&gt;2</title>\n<path fill=\"none\" stroke=\"#000000\" d=\"M7634.0031,-12481.9603C7172.2447,-12318.2245 5182.1673,-11612.5593 4699.672,-11441.4704\"/>\n<polygon fill=\"#000000\" stroke=\"#000000\" points=\"4700.519,-11438.0573 4689.9242,-11438.0139 4698.1795,-11444.6548 4700.519,-11438.0573\"/>\n</g>\n<!-- 71 -->\n<g id=\"node72\" class=\"node\">\n<title>71</title>\n<path fill=\"#f7d7c0\" stroke=\"#000000\" d=\"M7855.5,-11438C7855.5,-11438 7604.5,-11438 7604.5,-11438 7598.5,-11438 7592.5,-11432 7592.5,-11426 7592.5,-11426 7592.5,-11382 7592.5,-11382 7592.5,-11376 7598.5,-11370 7604.5,-11370 7604.5,-11370 7855.5,-11370 7855.5,-11370 7861.5,-11370 7867.5,-11376 7867.5,-11382 7867.5,-11382 7867.5,-11426 7867.5,-11426 7867.5,-11432 7861.5,-11438 7855.5,-11438\"/>\n<text text-anchor=\"start\" x=\"7600.5\" y=\"-11422.8\" font-family=\"Helvetica,sans-Serif\" font-size=\"14.00\" fill=\"#000000\">lastReportedPosition.speedMPH ≤ &#45;22.5</text>\n<text text-anchor=\"start\" x=\"7657.5\" y=\"-11407.8\" font-family=\"Helvetica,sans-Serif\" font-size=\"14.00\" fill=\"#000000\">squared_error = 61.99</text>\n<text text-anchor=\"start\" x=\"7678\" y=\"-11392.8\" font-family=\"Helvetica,sans-Serif\" font-size=\"14.00\" fill=\"#000000\">samples = 1176</text>\n<text text-anchor=\"start\" x=\"7683.5\" y=\"-11377.8\" font-family=\"Helvetica,sans-Serif\" font-size=\"14.00\" fill=\"#000000\">value = &#45;25.93</text>\n</g>\n<!-- 1&#45;&gt;71 -->\n<g id=\"edge71\" class=\"edge\">\n<title>1&#45;&gt;71</title>\n<path fill=\"none\" stroke=\"#000000\" d=\"M7730,-12481.8074C7730,-12319.8403 7730,-11630.0904 7730,-11448.1472\"/>\n<polygon fill=\"#000000\" stroke=\"#000000\" points=\"7733.5001,-11448.1328 7730,-11438.1328 7726.5001,-11448.1329 7733.5001,-11448.1328\"/>\n</g>\n<!-- 3 -->\n<g id=\"node4\" class=\"node\">\n<title>3</title>\n<path fill=\"#fcf3ec\" stroke=\"#000000\" d=\"M3100.5,-10326C3100.5,-10326 2849.5,-10326 2849.5,-10326 2843.5,-10326 2837.5,-10320 2837.5,-10314 2837.5,-10314 2837.5,-10270 2837.5,-10270 2837.5,-10264 2843.5,-10258 2849.5,-10258 2849.5,-10258 3100.5,-10258 3100.5,-10258 3106.5,-10258 3112.5,-10264 3112.5,-10270 3112.5,-10270 3112.5,-10314 3112.5,-10314 3112.5,-10320 3106.5,-10326 3100.5,-10326\"/>\n<text text-anchor=\"start\" x=\"2845.5\" y=\"-10310.8\" font-family=\"Helvetica,sans-Serif\" font-size=\"14.00\" fill=\"#000000\">lastReportedPosition.speedMPH ≤ &#45;57.5</text>\n<text text-anchor=\"start\" x=\"2902.5\" y=\"-10295.8\" font-family=\"Helvetica,sans-Serif\" font-size=\"14.00\" fill=\"#000000\">squared_error = 34.55</text>\n<text text-anchor=\"start\" x=\"2927\" y=\"-10280.8\" font-family=\"Helvetica,sans-Serif\" font-size=\"14.00\" fill=\"#000000\">samples = 571</text>\n<text text-anchor=\"start\" x=\"2928.5\" y=\"-10265.8\" font-family=\"Helvetica,sans-Serif\" font-size=\"14.00\" fill=\"#000000\">value = &#45;57.47</text>\n</g>\n<!-- 2&#45;&gt;3 -->\n<g id=\"edge3\" class=\"edge\">\n<title>2&#45;&gt;3</title>\n<path fill=\"none\" stroke=\"#000000\" d=\"M4544.2178,-11369.8074C4306.5261,-11206.5504 3288.1285,-10507.0703 3033.0878,-10331.8972\"/>\n<polygon fill=\"#000000\" stroke=\"#000000\" points=\"3034.9197,-10328.9095 3024.6952,-10326.1328 3030.9566,-10334.6795 3034.9197,-10328.9095\"/>\n</g>\n<!-- 44 -->\n<g id=\"node45\" class=\"node\">\n<title>44</title>\n<path fill=\"#fae5d6\" stroke=\"#000000\" d=\"M4693,-10326C4693,-10326 4495,-10326 4495,-10326 4489,-10326 4483,-10320 4483,-10314 4483,-10314 4483,-10270 4483,-10270 4483,-10264 4489,-10258 4495,-10258 4495,-10258 4693,-10258 4693,-10258 4699,-10258 4705,-10264 4705,-10270 4705,-10270 4705,-10314 4705,-10314 4705,-10320 4699,-10326 4693,-10326\"/>\n<text text-anchor=\"start\" x=\"4491\" y=\"-10310.8\" font-family=\"Helvetica,sans-Serif\" font-size=\"14.00\" fill=\"#000000\">lastReportedSpeedMPH ≤ &#45;42.5</text>\n<text text-anchor=\"start\" x=\"4526\" y=\"-10295.8\" font-family=\"Helvetica,sans-Serif\" font-size=\"14.00\" fill=\"#000000\">squared_error = 14.9</text>\n<text text-anchor=\"start\" x=\"4542\" y=\"-10280.8\" font-family=\"Helvetica,sans-Serif\" font-size=\"14.00\" fill=\"#000000\">samples = 2068</text>\n<text text-anchor=\"start\" x=\"4547.5\" y=\"-10265.8\" font-family=\"Helvetica,sans-Serif\" font-size=\"14.00\" fill=\"#000000\">value = &#45;41.62</text>\n</g>\n<!-- 2&#45;&gt;44 -->\n<g id=\"edge44\" class=\"edge\">\n<title>2&#45;&gt;44</title>\n<path fill=\"none\" stroke=\"#000000\" d=\"M4594,-11369.8074C4594,-11207.8403 4594,-10518.0904 4594,-10336.1472\"/>\n<polygon fill=\"#000000\" stroke=\"#000000\" points=\"4597.5001,-10336.1328 4594,-10326.1328 4590.5001,-10336.1329 4597.5001,-10336.1328\"/>\n</g>\n<!-- 4 -->\n<g id=\"node5\" class=\"node\">\n<title>4</title>\n<path fill=\"#fdf7f3\" stroke=\"#000000\" d=\"M1853.5,-9214C1853.5,-9214 1602.5,-9214 1602.5,-9214 1596.5,-9214 1590.5,-9208 1590.5,-9202 1590.5,-9202 1590.5,-9158 1590.5,-9158 1590.5,-9152 1596.5,-9146 1602.5,-9146 1602.5,-9146 1853.5,-9146 1853.5,-9146 1859.5,-9146 1865.5,-9152 1865.5,-9158 1865.5,-9158 1865.5,-9202 1865.5,-9202 1865.5,-9208 1859.5,-9214 1853.5,-9214\"/>\n<text text-anchor=\"start\" x=\"1598.5\" y=\"-9198.8\" font-family=\"Helvetica,sans-Serif\" font-size=\"14.00\" fill=\"#000000\">lastReportedPosition.speedMPH ≤ &#45;64.5</text>\n<text text-anchor=\"start\" x=\"1655.5\" y=\"-9183.8\" font-family=\"Helvetica,sans-Serif\" font-size=\"14.00\" fill=\"#000000\">squared_error = 18.07</text>\n<text text-anchor=\"start\" x=\"1680\" y=\"-9168.8\" font-family=\"Helvetica,sans-Serif\" font-size=\"14.00\" fill=\"#000000\">samples = 280</text>\n<text text-anchor=\"start\" x=\"1681.5\" y=\"-9153.8\" font-family=\"Helvetica,sans-Serif\" font-size=\"14.00\" fill=\"#000000\">value = &#45;62.33</text>\n</g>\n<!-- 3&#45;&gt;4 -->\n<g id=\"edge4\" class=\"edge\">\n<title>3&#45;&gt;4</title>\n<path fill=\"none\" stroke=\"#000000\" d=\"M2936.6563,-10257.8074C2753.9411,-10094.8729 1972.277,-9397.8316 1773.9118,-9220.9414\"/>\n<polygon fill=\"#000000\" stroke=\"#000000\" points=\"1776.0696,-9218.1761 1766.2767,-9214.1328 1771.4108,-9223.4006 1776.0696,-9218.1761\"/>\n</g>\n<!-- 29 -->\n<g id=\"node30\" class=\"node\">\n<title>29</title>\n<path fill=\"#fcefe5\" stroke=\"#000000\" d=\"M3074,-9214C3074,-9214 2876,-9214 2876,-9214 2870,-9214 2864,-9208 2864,-9202 2864,-9202 2864,-9158 2864,-9158 2864,-9152 2870,-9146 2876,-9146 2876,-9146 3074,-9146 3074,-9146 3080,-9146 3086,-9152 3086,-9158 3086,-9158 3086,-9202 3086,-9202 3086,-9208 3080,-9214 3074,-9214\"/>\n<text text-anchor=\"start\" x=\"2872\" y=\"-9198.8\" font-family=\"Helvetica,sans-Serif\" font-size=\"14.00\" fill=\"#000000\">lastReportedSpeedMPH ≤ &#45;52.5</text>\n<text text-anchor=\"start\" x=\"2907\" y=\"-9183.8\" font-family=\"Helvetica,sans-Serif\" font-size=\"14.00\" fill=\"#000000\">squared_error = 5.93</text>\n<text text-anchor=\"start\" x=\"2927\" y=\"-9168.8\" font-family=\"Helvetica,sans-Serif\" font-size=\"14.00\" fill=\"#000000\">samples = 291</text>\n<text text-anchor=\"start\" x=\"2932.5\" y=\"-9153.8\" font-family=\"Helvetica,sans-Serif\" font-size=\"14.00\" fill=\"#000000\">value = &#45;52.8</text>\n</g>\n<!-- 3&#45;&gt;29 -->\n<g id=\"edge29\" class=\"edge\">\n<title>3&#45;&gt;29</title>\n<path fill=\"none\" stroke=\"#000000\" d=\"M2975,-10257.8074C2975,-10095.8403 2975,-9406.0904 2975,-9224.1472\"/>\n<polygon fill=\"#000000\" stroke=\"#000000\" points=\"2978.5001,-9224.1328 2975,-9214.1328 2971.5001,-9224.1329 2978.5001,-9224.1328\"/>\n</g>\n<!-- 5 -->\n<g id=\"node6\" class=\"node\">\n<title>5</title>\n<path fill=\"#fffdfb\" stroke=\"#000000\" d=\"M932.5,-8102C932.5,-8102 681.5,-8102 681.5,-8102 675.5,-8102 669.5,-8096 669.5,-8090 669.5,-8090 669.5,-8046 669.5,-8046 669.5,-8040 675.5,-8034 681.5,-8034 681.5,-8034 932.5,-8034 932.5,-8034 938.5,-8034 944.5,-8040 944.5,-8046 944.5,-8046 944.5,-8090 944.5,-8090 944.5,-8096 938.5,-8102 932.5,-8102\"/>\n<text text-anchor=\"start\" x=\"677.5\" y=\"-8086.8\" font-family=\"Helvetica,sans-Serif\" font-size=\"14.00\" fill=\"#000000\">lastReportedPosition.speedMPH ≤ &#45;68.5</text>\n<text text-anchor=\"start\" x=\"739\" y=\"-8071.8\" font-family=\"Helvetica,sans-Serif\" font-size=\"14.00\" fill=\"#000000\">squared_error = 3.52</text>\n<text text-anchor=\"start\" x=\"763\" y=\"-8056.8\" font-family=\"Helvetica,sans-Serif\" font-size=\"14.00\" fill=\"#000000\">samples = 79</text>\n<text text-anchor=\"start\" x=\"760.5\" y=\"-8041.8\" font-family=\"Helvetica,sans-Serif\" font-size=\"14.00\" fill=\"#000000\">value = &#45;68.49</text>\n</g>\n<!-- 4&#45;&gt;5 -->\n<g id=\"edge5\" class=\"edge\">\n<title>4&#45;&gt;5</title>\n<path fill=\"none\" stroke=\"#000000\" d=\"M1699.6804,-9145.8074C1564.999,-8983.1953 989.6998,-8288.5887 841.7842,-8109.9978\"/>\n<polygon fill=\"#000000\" stroke=\"#000000\" points=\"844.3443,-8107.6018 835.2701,-8102.1328 838.9533,-8112.0669 844.3443,-8107.6018\"/>\n</g>\n<!-- 16 -->\n<g id=\"node17\" class=\"node\">\n<title>16</title>\n<path fill=\"#fdf5ef\" stroke=\"#000000\" d=\"M1853.5,-8102C1853.5,-8102 1602.5,-8102 1602.5,-8102 1596.5,-8102 1590.5,-8096 1590.5,-8090 1590.5,-8090 1590.5,-8046 1590.5,-8046 1590.5,-8040 1596.5,-8034 1602.5,-8034 1602.5,-8034 1853.5,-8034 1853.5,-8034 1859.5,-8034 1865.5,-8040 1865.5,-8046 1865.5,-8046 1865.5,-8090 1865.5,-8090 1865.5,-8096 1859.5,-8102 1853.5,-8102\"/>\n<text text-anchor=\"start\" x=\"1598.5\" y=\"-8086.8\" font-family=\"Helvetica,sans-Serif\" font-size=\"14.00\" fill=\"#000000\">lastReportedPosition.speedMPH ≤ &#45;60.5</text>\n<text text-anchor=\"start\" x=\"1660\" y=\"-8071.8\" font-family=\"Helvetica,sans-Serif\" font-size=\"14.00\" fill=\"#000000\">squared_error = 2.98</text>\n<text text-anchor=\"start\" x=\"1680\" y=\"-8056.8\" font-family=\"Helvetica,sans-Serif\" font-size=\"14.00\" fill=\"#000000\">samples = 201</text>\n<text text-anchor=\"start\" x=\"1681.5\" y=\"-8041.8\" font-family=\"Helvetica,sans-Serif\" font-size=\"14.00\" fill=\"#000000\">value = &#45;59.91</text>\n</g>\n<!-- 4&#45;&gt;16 -->\n<g id=\"edge16\" class=\"edge\">\n<title>4&#45;&gt;16</title>\n<path fill=\"none\" stroke=\"#000000\" d=\"M1728,-9145.8074C1728,-8983.8403 1728,-8294.0904 1728,-8112.1472\"/>\n<polygon fill=\"#000000\" stroke=\"#000000\" points=\"1731.5001,-8112.1328 1728,-8102.1328 1724.5001,-8112.1329 1731.5001,-8112.1328\"/>\n</g>\n<!-- 6 -->\n<g id=\"node7\" class=\"node\">\n<title>6</title>\n<path fill=\"#fffefd\" stroke=\"#000000\" d=\"M495,-6990C495,-6990 297,-6990 297,-6990 291,-6990 285,-6984 285,-6978 285,-6978 285,-6934 285,-6934 285,-6928 291,-6922 297,-6922 297,-6922 495,-6922 495,-6922 501,-6922 507,-6928 507,-6934 507,-6934 507,-6978 507,-6978 507,-6984 501,-6990 495,-6990\"/>\n<text text-anchor=\"start\" x=\"293\" y=\"-6974.8\" font-family=\"Helvetica,sans-Serif\" font-size=\"14.00\" fill=\"#000000\">lastReportedSpeedMPH ≤ &#45;69.5</text>\n<text text-anchor=\"start\" x=\"328\" y=\"-6959.8\" font-family=\"Helvetica,sans-Serif\" font-size=\"14.00\" fill=\"#000000\">squared_error = 0.57</text>\n<text text-anchor=\"start\" x=\"352\" y=\"-6944.8\" font-family=\"Helvetica,sans-Serif\" font-size=\"14.00\" fill=\"#000000\">samples = 45</text>\n<text text-anchor=\"start\" x=\"349.5\" y=\"-6929.8\" font-family=\"Helvetica,sans-Serif\" font-size=\"14.00\" fill=\"#000000\">value = &#45;69.91</text>\n</g>\n<!-- 5&#45;&gt;6 -->\n<g id=\"edge6\" class=\"edge\">\n<title>5&#45;&gt;6</title>\n<path fill=\"none\" stroke=\"#000000\" d=\"M794.3623,-8033.8074C734.4389,-7871.6791 479.0562,-7180.7165 412.1167,-6999.6053\"/>\n<polygon fill=\"#000000\" stroke=\"#000000\" points=\"415.3655,-6998.2993 408.6156,-6990.1328 408.7996,-7000.7261 415.3655,-6998.2993\"/>\n</g>\n<!-- 11 -->\n<g id=\"node12\" class=\"node\">\n<title>11</title>\n<path fill=\"#fefbf9\" stroke=\"#000000\" d=\"M906,-6990C906,-6990 708,-6990 708,-6990 702,-6990 696,-6984 696,-6978 696,-6978 696,-6934 696,-6934 696,-6928 702,-6922 708,-6922 708,-6922 906,-6922 906,-6922 912,-6922 918,-6928 918,-6934 918,-6934 918,-6978 918,-6978 918,-6984 912,-6990 906,-6990\"/>\n<text text-anchor=\"start\" x=\"704\" y=\"-6974.8\" font-family=\"Helvetica,sans-Serif\" font-size=\"14.00\" fill=\"#000000\">lastReportedSpeedMPH ≤ &#45;66.5</text>\n<text text-anchor=\"start\" x=\"739\" y=\"-6959.8\" font-family=\"Helvetica,sans-Serif\" font-size=\"14.00\" fill=\"#000000\">squared_error = 1.24</text>\n<text text-anchor=\"start\" x=\"763\" y=\"-6944.8\" font-family=\"Helvetica,sans-Serif\" font-size=\"14.00\" fill=\"#000000\">samples = 34</text>\n<text text-anchor=\"start\" x=\"760.5\" y=\"-6929.8\" font-family=\"Helvetica,sans-Serif\" font-size=\"14.00\" fill=\"#000000\">value = &#45;66.62</text>\n</g>\n<!-- 5&#45;&gt;11 -->\n<g id=\"edge11\" class=\"edge\">\n<title>5&#45;&gt;11</title>\n<path fill=\"none\" stroke=\"#000000\" d=\"M807,-8033.8074C807,-7871.8403 807,-7182.0904 807,-7000.1472\"/>\n<polygon fill=\"#000000\" stroke=\"#000000\" points=\"810.5001,-7000.1328 807,-6990.1328 803.5001,-7000.1329 810.5001,-7000.1328\"/>\n</g>\n<!-- 7 -->\n<g id=\"node8\" class=\"node\">\n<title>7</title>\n<path fill=\"#fffefe\" stroke=\"#000000\" d=\"M333,-5878C333,-5878 135,-5878 135,-5878 129,-5878 123,-5872 123,-5866 123,-5866 123,-5822 123,-5822 123,-5816 129,-5810 135,-5810 135,-5810 333,-5810 333,-5810 339,-5810 345,-5816 345,-5822 345,-5822 345,-5866 345,-5866 345,-5872 339,-5878 333,-5878\"/>\n<text text-anchor=\"start\" x=\"131\" y=\"-5862.8\" font-family=\"Helvetica,sans-Serif\" font-size=\"14.00\" fill=\"#000000\">lastReportedSpeedMPH ≤ &#45;70.5</text>\n<text text-anchor=\"start\" x=\"166\" y=\"-5847.8\" font-family=\"Helvetica,sans-Serif\" font-size=\"14.00\" fill=\"#000000\">squared_error = 0.23</text>\n<text text-anchor=\"start\" x=\"190\" y=\"-5832.8\" font-family=\"Helvetica,sans-Serif\" font-size=\"14.00\" fill=\"#000000\">samples = 30</text>\n<text text-anchor=\"start\" x=\"187.5\" y=\"-5817.8\" font-family=\"Helvetica,sans-Serif\" font-size=\"14.00\" fill=\"#000000\">value = &#45;70.37</text>\n</g>\n<!-- 6&#45;&gt;7 -->\n<g id=\"edge7\" class=\"edge\">\n<title>6&#45;&gt;7</title>\n<path fill=\"none\" stroke=\"#000000\" d=\"M391.0187,-6921.8074C367.4228,-6759.8403 266.9376,-6070.0904 240.4315,-5888.1472\"/>\n<polygon fill=\"#000000\" stroke=\"#000000\" points=\"243.8777,-5887.5238 238.9726,-5878.1328 236.9509,-5888.533 243.8777,-5887.5238\"/>\n</g>\n<!-- 10 -->\n<g id=\"node11\" class=\"node\">\n<title>10</title>\n<path fill=\"#fffdfc\" stroke=\"#000000\" d=\"M456,-309.5C456,-309.5 336,-309.5 336,-309.5 330,-309.5 324,-303.5 324,-297.5 324,-297.5 324,-268.5 324,-268.5 324,-262.5 330,-256.5 336,-256.5 336,-256.5 456,-256.5 456,-256.5 462,-256.5 468,-262.5 468,-268.5 468,-268.5 468,-297.5 468,-297.5 468,-303.5 462,-309.5 456,-309.5\"/>\n<text text-anchor=\"start\" x=\"332\" y=\"-294.3\" font-family=\"Helvetica,sans-Serif\" font-size=\"14.00\" fill=\"#000000\">squared_error = 0.0</text>\n<text text-anchor=\"start\" x=\"352\" y=\"-279.3\" font-family=\"Helvetica,sans-Serif\" font-size=\"14.00\" fill=\"#000000\">samples = 15</text>\n<text text-anchor=\"start\" x=\"353.5\" y=\"-264.3\" font-family=\"Helvetica,sans-Serif\" font-size=\"14.00\" fill=\"#000000\">value = &#45;69.0</text>\n</g>\n<!-- 6&#45;&gt;10 -->\n<g id=\"edge10\" class=\"edge\">\n<title>6&#45;&gt;10</title>\n<path fill=\"none\" stroke=\"#000000\" d=\"M396,-6921.9562C396,-6642.1492 396,-4732 396,-4732 396,-4732 396,-4732 396,-2507 396,-2507 396,-609.559 396,-319.8949\"/>\n<polygon fill=\"#000000\" stroke=\"#000000\" points=\"399.5001,-319.5259 396,-309.5259 392.5001,-319.5259 399.5001,-319.5259\"/>\n</g>\n<!-- 8 -->\n<g id=\"node9\" class=\"node\">\n<title>8</title>\n<path fill=\"#ffffff\" stroke=\"#000000\" d=\"M132,-309.5C132,-309.5 12,-309.5 12,-309.5 6,-309.5 0,-303.5 0,-297.5 0,-297.5 0,-268.5 0,-268.5 0,-262.5 6,-256.5 12,-256.5 12,-256.5 132,-256.5 132,-256.5 138,-256.5 144,-262.5 144,-268.5 144,-268.5 144,-297.5 144,-297.5 144,-303.5 138,-309.5 132,-309.5\"/>\n<text text-anchor=\"start\" x=\"8\" y=\"-294.3\" font-family=\"Helvetica,sans-Serif\" font-size=\"14.00\" fill=\"#000000\">squared_error = 0.0</text>\n<text text-anchor=\"start\" x=\"28\" y=\"-279.3\" font-family=\"Helvetica,sans-Serif\" font-size=\"14.00\" fill=\"#000000\">samples = 11</text>\n<text text-anchor=\"start\" x=\"29.5\" y=\"-264.3\" font-family=\"Helvetica,sans-Serif\" font-size=\"14.00\" fill=\"#000000\">value = &#45;71.0</text>\n</g>\n<!-- 7&#45;&gt;8 -->\n<g id=\"edge8\" class=\"edge\">\n<title>7&#45;&gt;8</title>\n<path fill=\"none\" stroke=\"#000000\" d=\"M231.5202,-5809.9409C211.1386,-5530.0081 72,-3619 72,-3619 72,-3619 72,-3619 72,-2507 72,-2507 72,-609.559 72,-319.8949\"/>\n<polygon fill=\"#000000\" stroke=\"#000000\" points=\"75.5001,-319.5259 72,-309.5259 68.5001,-319.5259 75.5001,-319.5259\"/>\n</g>\n<!-- 9 -->\n<g id=\"node10\" class=\"node\">\n<title>9</title>\n<path fill=\"#fffefe\" stroke=\"#000000\" d=\"M294,-309.5C294,-309.5 174,-309.5 174,-309.5 168,-309.5 162,-303.5 162,-297.5 162,-297.5 162,-268.5 162,-268.5 162,-262.5 168,-256.5 174,-256.5 174,-256.5 294,-256.5 294,-256.5 300,-256.5 306,-262.5 306,-268.5 306,-268.5 306,-297.5 306,-297.5 306,-303.5 300,-309.5 294,-309.5\"/>\n<text text-anchor=\"start\" x=\"170\" y=\"-294.3\" font-family=\"Helvetica,sans-Serif\" font-size=\"14.00\" fill=\"#000000\">squared_error = 0.0</text>\n<text text-anchor=\"start\" x=\"190\" y=\"-279.3\" font-family=\"Helvetica,sans-Serif\" font-size=\"14.00\" fill=\"#000000\">samples = 19</text>\n<text text-anchor=\"start\" x=\"191.5\" y=\"-264.3\" font-family=\"Helvetica,sans-Serif\" font-size=\"14.00\" fill=\"#000000\">value = &#45;70.0</text>\n</g>\n<!-- 7&#45;&gt;9 -->\n<g id=\"edge9\" class=\"edge\">\n<title>7&#45;&gt;9</title>\n<path fill=\"none\" stroke=\"#000000\" d=\"M234,-5809.9409C234,-5530.0081 234,-3619 234,-3619 234,-3619 234,-3619 234,-2507 234,-2507 234,-609.559 234,-319.8949\"/>\n<polygon fill=\"#000000\" stroke=\"#000000\" points=\"237.5001,-319.5259 234,-309.5259 230.5001,-319.5259 237.5001,-319.5259\"/>\n</g>\n<!-- 12 -->\n<g id=\"node13\" class=\"node\">\n<title>12</title>\n<path fill=\"#fefcfa\" stroke=\"#000000\" d=\"M903.5,-5878C903.5,-5878 436.5,-5878 436.5,-5878 430.5,-5878 424.5,-5872 424.5,-5866 424.5,-5866 424.5,-5822 424.5,-5822 424.5,-5816 430.5,-5810 436.5,-5810 436.5,-5810 903.5,-5810 903.5,-5810 909.5,-5810 915.5,-5816 915.5,-5822 915.5,-5822 915.5,-5866 915.5,-5866 915.5,-5872 909.5,-5878 903.5,-5878\"/>\n<text text-anchor=\"start\" x=\"432.5\" y=\"-5862.8\" font-family=\"Helvetica,sans-Serif\" font-size=\"14.00\" fill=\"#000000\">lastReportedPosition.milepostLocation.milepost.milepostNumber ≤ 246.93</text>\n<text text-anchor=\"start\" x=\"602\" y=\"-5847.8\" font-family=\"Helvetica,sans-Serif\" font-size=\"14.00\" fill=\"#000000\">squared_error = 0.25</text>\n<text text-anchor=\"start\" x=\"626\" y=\"-5832.8\" font-family=\"Helvetica,sans-Serif\" font-size=\"14.00\" fill=\"#000000\">samples = 20</text>\n<text text-anchor=\"start\" x=\"623.5\" y=\"-5817.8\" font-family=\"Helvetica,sans-Serif\" font-size=\"14.00\" fill=\"#000000\">value = &#45;67.45</text>\n</g>\n<!-- 11&#45;&gt;12 -->\n<g id=\"edge12\" class=\"edge\">\n<title>11&#45;&gt;12</title>\n<path fill=\"none\" stroke=\"#000000\" d=\"M802.7874,-6921.8074C782.8328,-6759.8403 697.8547,-6070.0904 675.439,-5888.1472\"/>\n<polygon fill=\"#000000\" stroke=\"#000000\" points=\"678.9018,-5887.6298 674.2052,-5878.1328 671.9543,-5888.4858 678.9018,-5887.6298\"/>\n</g>\n<!-- 15 -->\n<g id=\"node16\" class=\"node\">\n<title>15</title>\n<path fill=\"#fefaf7\" stroke=\"#000000\" d=\"M1008,-309.5C1008,-309.5 880,-309.5 880,-309.5 874,-309.5 868,-303.5 868,-297.5 868,-297.5 868,-268.5 868,-268.5 868,-262.5 874,-256.5 880,-256.5 880,-256.5 1008,-256.5 1008,-256.5 1014,-256.5 1020,-262.5 1020,-268.5 1020,-268.5 1020,-297.5 1020,-297.5 1020,-303.5 1014,-309.5 1008,-309.5\"/>\n<text text-anchor=\"start\" x=\"876\" y=\"-294.3\" font-family=\"Helvetica,sans-Serif\" font-size=\"14.00\" fill=\"#000000\">squared_error = 0.24</text>\n<text text-anchor=\"start\" x=\"900\" y=\"-279.3\" font-family=\"Helvetica,sans-Serif\" font-size=\"14.00\" fill=\"#000000\">samples = 14</text>\n<text text-anchor=\"start\" x=\"897.5\" y=\"-264.3\" font-family=\"Helvetica,sans-Serif\" font-size=\"14.00\" fill=\"#000000\">value = &#45;65.43</text>\n</g>\n<!-- 11&#45;&gt;15 -->\n<g id=\"edge15\" class=\"edge\">\n<title>11&#45;&gt;15</title>\n<path fill=\"none\" stroke=\"#000000\" d=\"M810.6948,-6921.9572C830.5825,-6738.7183 924,-5878 924,-5878 924,-5878 944,-4732 944,-4732 944,-4732 944,-4732 944,-2507 944,-2507 944,-609.559 944,-319.8949\"/>\n<polygon fill=\"#000000\" stroke=\"#000000\" points=\"947.5001,-319.5259 944,-309.5259 940.5001,-319.5259 947.5001,-319.5259\"/>\n</g>\n<!-- 13 -->\n<g id=\"node14\" class=\"node\">\n<title>13</title>\n<path fill=\"#fefcfa\" stroke=\"#000000\" d=\"M647,-309.5C647,-309.5 519,-309.5 519,-309.5 513,-309.5 507,-303.5 507,-297.5 507,-297.5 507,-268.5 507,-268.5 507,-262.5 513,-256.5 519,-256.5 519,-256.5 647,-256.5 647,-256.5 653,-256.5 659,-262.5 659,-268.5 659,-268.5 659,-297.5 659,-297.5 659,-303.5 653,-309.5 647,-309.5\"/>\n<text text-anchor=\"start\" x=\"515\" y=\"-294.3\" font-family=\"Helvetica,sans-Serif\" font-size=\"14.00\" fill=\"#000000\">squared_error = 0.24</text>\n<text text-anchor=\"start\" x=\"539\" y=\"-279.3\" font-family=\"Helvetica,sans-Serif\" font-size=\"14.00\" fill=\"#000000\">samples = 10</text>\n<text text-anchor=\"start\" x=\"540.5\" y=\"-264.3\" font-family=\"Helvetica,sans-Serif\" font-size=\"14.00\" fill=\"#000000\">value = &#45;67.4</text>\n</g>\n<!-- 12&#45;&gt;13 -->\n<g id=\"edge13\" class=\"edge\">\n<title>12&#45;&gt;13</title>\n<path fill=\"none\" stroke=\"#000000\" d=\"M668.6683,-5809.9409C657.7226,-5530.0081 583,-3619 583,-3619 583,-3619 583,-3619 583,-2507 583,-2507 583,-609.559 583,-319.8949\"/>\n<polygon fill=\"#000000\" stroke=\"#000000\" points=\"586.5001,-319.5259 583,-309.5259 579.5001,-319.5259 586.5001,-319.5259\"/>\n</g>\n<!-- 14 -->\n<g id=\"node15\" class=\"node\">\n<title>14</title>\n<path fill=\"#fefcfa\" stroke=\"#000000\" d=\"M817,-309.5C817,-309.5 689,-309.5 689,-309.5 683,-309.5 677,-303.5 677,-297.5 677,-297.5 677,-268.5 677,-268.5 677,-262.5 683,-256.5 689,-256.5 689,-256.5 817,-256.5 817,-256.5 823,-256.5 829,-262.5 829,-268.5 829,-268.5 829,-297.5 829,-297.5 829,-303.5 823,-309.5 817,-309.5\"/>\n<text text-anchor=\"start\" x=\"685\" y=\"-294.3\" font-family=\"Helvetica,sans-Serif\" font-size=\"14.00\" fill=\"#000000\">squared_error = 0.25</text>\n<text text-anchor=\"start\" x=\"709\" y=\"-279.3\" font-family=\"Helvetica,sans-Serif\" font-size=\"14.00\" fill=\"#000000\">samples = 10</text>\n<text text-anchor=\"start\" x=\"710.5\" y=\"-264.3\" font-family=\"Helvetica,sans-Serif\" font-size=\"14.00\" fill=\"#000000\">value = &#45;67.5</text>\n</g>\n<!-- 12&#45;&gt;14 -->\n<g id=\"edge14\" class=\"edge\">\n<title>12&#45;&gt;14</title>\n<path fill=\"none\" stroke=\"#000000\" d=\"M671.2705,-5809.9409C681.713,-5530.0081 753,-3619 753,-3619 753,-3619 753,-3619 753,-2507 753,-2507 753,-609.559 753,-319.8949\"/>\n<polygon fill=\"#000000\" stroke=\"#000000\" points=\"756.5001,-319.5259 753,-309.5259 749.5001,-319.5259 756.5001,-319.5259\"/>\n</g>\n<!-- 17 -->\n<g id=\"node18\" class=\"node\">\n<title>17</title>\n<path fill=\"#fdf7f3\" stroke=\"#000000\" d=\"M1666,-6990C1666,-6990 1468,-6990 1468,-6990 1462,-6990 1456,-6984 1456,-6978 1456,-6978 1456,-6934 1456,-6934 1456,-6928 1462,-6922 1468,-6922 1468,-6922 1666,-6922 1666,-6922 1672,-6922 1678,-6928 1678,-6934 1678,-6934 1678,-6978 1678,-6978 1678,-6984 1672,-6990 1666,-6990\"/>\n<text text-anchor=\"start\" x=\"1464\" y=\"-6974.8\" font-family=\"Helvetica,sans-Serif\" font-size=\"14.00\" fill=\"#000000\">lastReportedSpeedMPH ≤ &#45;62.5</text>\n<text text-anchor=\"start\" x=\"1499\" y=\"-6959.8\" font-family=\"Helvetica,sans-Serif\" font-size=\"14.00\" fill=\"#000000\">squared_error = 1.18</text>\n<text text-anchor=\"start\" x=\"1523\" y=\"-6944.8\" font-family=\"Helvetica,sans-Serif\" font-size=\"14.00\" fill=\"#000000\">samples = 60</text>\n<text text-anchor=\"start\" x=\"1520.5\" y=\"-6929.8\" font-family=\"Helvetica,sans-Serif\" font-size=\"14.00\" fill=\"#000000\">value = &#45;62.18</text>\n</g>\n<!-- 16&#45;&gt;17 -->\n<g id=\"edge17\" class=\"edge\">\n<title>16&#45;&gt;17</title>\n<path fill=\"none\" stroke=\"#000000\" d=\"M1723.0495,-8033.8074C1699.5992,-7871.8403 1599.7343,-7182.0904 1573.3918,-7000.1472\"/>\n<polygon fill=\"#000000\" stroke=\"#000000\" points=\"1576.8388,-6999.5281 1571.9419,-6990.1328 1569.911,-7000.5312 1576.8388,-6999.5281\"/>\n</g>\n<!-- 24 -->\n<g id=\"node25\" class=\"node\">\n<title>24</title>\n<path fill=\"#fdf4ee\" stroke=\"#000000\" d=\"M2013.5,-6990C2013.5,-6990 1762.5,-6990 1762.5,-6990 1756.5,-6990 1750.5,-6984 1750.5,-6978 1750.5,-6978 1750.5,-6934 1750.5,-6934 1750.5,-6928 1756.5,-6922 1762.5,-6922 1762.5,-6922 2013.5,-6922 2013.5,-6922 2019.5,-6922 2025.5,-6928 2025.5,-6934 2025.5,-6934 2025.5,-6978 2025.5,-6978 2025.5,-6984 2019.5,-6990 2013.5,-6990\"/>\n<text text-anchor=\"start\" x=\"1758.5\" y=\"-6974.8\" font-family=\"Helvetica,sans-Serif\" font-size=\"14.00\" fill=\"#000000\">lastReportedPosition.speedMPH ≤ &#45;58.5</text>\n<text text-anchor=\"start\" x=\"1824\" y=\"-6959.8\" font-family=\"Helvetica,sans-Serif\" font-size=\"14.00\" fill=\"#000000\">squared_error = 0.6</text>\n<text text-anchor=\"start\" x=\"1840\" y=\"-6944.8\" font-family=\"Helvetica,sans-Serif\" font-size=\"14.00\" fill=\"#000000\">samples = 141</text>\n<text text-anchor=\"start\" x=\"1841.5\" y=\"-6929.8\" font-family=\"Helvetica,sans-Serif\" font-size=\"14.00\" fill=\"#000000\">value = &#45;58.94</text>\n</g>\n<!-- 16&#45;&gt;24 -->\n<g id=\"edge24\" class=\"edge\">\n<title>16&#45;&gt;24</title>\n<path fill=\"none\" stroke=\"#000000\" d=\"M1732.9198,-8033.8074C1756.2244,-7871.8403 1855.469,-7182.0904 1881.6479,-7000.1472\"/>\n<polygon fill=\"#000000\" stroke=\"#000000\" points=\"1885.1289,-7000.5294 1883.0888,-6990.1328 1878.2002,-6999.5324 1885.1289,-7000.5294\"/>\n</g>\n<!-- 18 -->\n<g id=\"node19\" class=\"node\">\n<title>18</title>\n<path fill=\"#fef8f4\" stroke=\"#000000\" d=\"M1371,-5878C1371,-5878 1173,-5878 1173,-5878 1167,-5878 1161,-5872 1161,-5866 1161,-5866 1161,-5822 1161,-5822 1161,-5816 1167,-5810 1173,-5810 1173,-5810 1371,-5810 1371,-5810 1377,-5810 1383,-5816 1383,-5822 1383,-5822 1383,-5866 1383,-5866 1383,-5872 1377,-5878 1371,-5878\"/>\n<text text-anchor=\"start\" x=\"1169\" y=\"-5862.8\" font-family=\"Helvetica,sans-Serif\" font-size=\"14.00\" fill=\"#000000\">lastReportedSpeedMPH ≤ &#45;63.5</text>\n<text text-anchor=\"start\" x=\"1204\" y=\"-5847.8\" font-family=\"Helvetica,sans-Serif\" font-size=\"14.00\" fill=\"#000000\">squared_error = 0.25</text>\n<text text-anchor=\"start\" x=\"1228\" y=\"-5832.8\" font-family=\"Helvetica,sans-Serif\" font-size=\"14.00\" fill=\"#000000\">samples = 22</text>\n<text text-anchor=\"start\" x=\"1225.5\" y=\"-5817.8\" font-family=\"Helvetica,sans-Serif\" font-size=\"14.00\" fill=\"#000000\">value = &#45;63.45</text>\n</g>\n<!-- 17&#45;&gt;18 -->\n<g id=\"edge18\" class=\"edge\">\n<title>17&#45;&gt;18</title>\n<path fill=\"none\" stroke=\"#000000\" d=\"M1557.9291,-6921.8074C1514.9398,-6759.7597 1331.7968,-6069.4036 1283.6397,-5887.8758\"/>\n<polygon fill=\"#000000\" stroke=\"#000000\" points=\"1287.0023,-5886.901 1281.055,-5878.1328 1280.2363,-5888.696 1287.0023,-5886.901\"/>\n</g>\n<!-- 21 -->\n<g id=\"node22\" class=\"node\">\n<title>21</title>\n<path fill=\"#fdf6f2\" stroke=\"#000000\" d=\"M1692.5,-5878C1692.5,-5878 1441.5,-5878 1441.5,-5878 1435.5,-5878 1429.5,-5872 1429.5,-5866 1429.5,-5866 1429.5,-5822 1429.5,-5822 1429.5,-5816 1435.5,-5810 1441.5,-5810 1441.5,-5810 1692.5,-5810 1692.5,-5810 1698.5,-5810 1704.5,-5816 1704.5,-5822 1704.5,-5822 1704.5,-5866 1704.5,-5866 1704.5,-5872 1698.5,-5878 1692.5,-5878\"/>\n<text text-anchor=\"start\" x=\"1437.5\" y=\"-5862.8\" font-family=\"Helvetica,sans-Serif\" font-size=\"14.00\" fill=\"#000000\">lastReportedPosition.speedMPH ≤ &#45;61.5</text>\n<text text-anchor=\"start\" x=\"1499\" y=\"-5847.8\" font-family=\"Helvetica,sans-Serif\" font-size=\"14.00\" fill=\"#000000\">squared_error = 0.25</text>\n<text text-anchor=\"start\" x=\"1523\" y=\"-5832.8\" font-family=\"Helvetica,sans-Serif\" font-size=\"14.00\" fill=\"#000000\">samples = 38</text>\n<text text-anchor=\"start\" x=\"1520.5\" y=\"-5817.8\" font-family=\"Helvetica,sans-Serif\" font-size=\"14.00\" fill=\"#000000\">value = &#45;61.45</text>\n</g>\n<!-- 17&#45;&gt;21 -->\n<g id=\"edge21\" class=\"edge\">\n<title>17&#45;&gt;21</title>\n<path fill=\"none\" stroke=\"#000000\" d=\"M1567,-6921.8074C1567,-6759.8403 1567,-6070.0904 1567,-5888.1472\"/>\n<polygon fill=\"#000000\" stroke=\"#000000\" points=\"1570.5001,-5888.1328 1567,-5878.1328 1563.5001,-5888.1329 1570.5001,-5888.1328\"/>\n</g>\n<!-- 19 -->\n<g id=\"node20\" class=\"node\">\n<title>19</title>\n<path fill=\"#fef9f5\" stroke=\"#000000\" d=\"M1170,-309.5C1170,-309.5 1050,-309.5 1050,-309.5 1044,-309.5 1038,-303.5 1038,-297.5 1038,-297.5 1038,-268.5 1038,-268.5 1038,-262.5 1044,-256.5 1050,-256.5 1050,-256.5 1170,-256.5 1170,-256.5 1176,-256.5 1182,-262.5 1182,-268.5 1182,-268.5 1182,-297.5 1182,-297.5 1182,-303.5 1176,-309.5 1170,-309.5\"/>\n<text text-anchor=\"start\" x=\"1046\" y=\"-294.3\" font-family=\"Helvetica,sans-Serif\" font-size=\"14.00\" fill=\"#000000\">squared_error = 0.0</text>\n<text text-anchor=\"start\" x=\"1066\" y=\"-279.3\" font-family=\"Helvetica,sans-Serif\" font-size=\"14.00\" fill=\"#000000\">samples = 10</text>\n<text text-anchor=\"start\" x=\"1067.5\" y=\"-264.3\" font-family=\"Helvetica,sans-Serif\" font-size=\"14.00\" fill=\"#000000\">value = &#45;64.0</text>\n</g>\n<!-- 18&#45;&gt;19 -->\n<g id=\"edge19\" class=\"edge\">\n<title>18&#45;&gt;19</title>\n<path fill=\"none\" stroke=\"#000000\" d=\"M1269.5202,-5809.9409C1249.1386,-5530.0081 1110,-3619 1110,-3619 1110,-3619 1110,-3619 1110,-2507 1110,-2507 1110,-609.559 1110,-319.8949\"/>\n<polygon fill=\"#000000\" stroke=\"#000000\" points=\"1113.5001,-319.5259 1110,-309.5259 1106.5001,-319.5259 1113.5001,-319.5259\"/>\n</g>\n<!-- 20 -->\n<g id=\"node21\" class=\"node\">\n<title>20</title>\n<path fill=\"#fef8f4\" stroke=\"#000000\" d=\"M1332,-309.5C1332,-309.5 1212,-309.5 1212,-309.5 1206,-309.5 1200,-303.5 1200,-297.5 1200,-297.5 1200,-268.5 1200,-268.5 1200,-262.5 1206,-256.5 1212,-256.5 1212,-256.5 1332,-256.5 1332,-256.5 1338,-256.5 1344,-262.5 1344,-268.5 1344,-268.5 1344,-297.5 1344,-297.5 1344,-303.5 1338,-309.5 1332,-309.5\"/>\n<text text-anchor=\"start\" x=\"1208\" y=\"-294.3\" font-family=\"Helvetica,sans-Serif\" font-size=\"14.00\" fill=\"#000000\">squared_error = 0.0</text>\n<text text-anchor=\"start\" x=\"1228\" y=\"-279.3\" font-family=\"Helvetica,sans-Serif\" font-size=\"14.00\" fill=\"#000000\">samples = 12</text>\n<text text-anchor=\"start\" x=\"1229.5\" y=\"-264.3\" font-family=\"Helvetica,sans-Serif\" font-size=\"14.00\" fill=\"#000000\">value = &#45;63.0</text>\n</g>\n<!-- 18&#45;&gt;20 -->\n<g id=\"edge20\" class=\"edge\">\n<title>18&#45;&gt;20</title>\n<path fill=\"none\" stroke=\"#000000\" d=\"M1272,-5809.9409C1272,-5530.0081 1272,-3619 1272,-3619 1272,-3619 1272,-3619 1272,-2507 1272,-2507 1272,-609.559 1272,-319.8949\"/>\n<polygon fill=\"#000000\" stroke=\"#000000\" points=\"1275.5001,-319.5259 1272,-309.5259 1268.5001,-319.5259 1275.5001,-319.5259\"/>\n</g>\n<!-- 22 -->\n<g id=\"node23\" class=\"node\">\n<title>22</title>\n<path fill=\"#fdf7f2\" stroke=\"#000000\" d=\"M1494,-309.5C1494,-309.5 1374,-309.5 1374,-309.5 1368,-309.5 1362,-303.5 1362,-297.5 1362,-297.5 1362,-268.5 1362,-268.5 1362,-262.5 1368,-256.5 1374,-256.5 1374,-256.5 1494,-256.5 1494,-256.5 1500,-256.5 1506,-262.5 1506,-268.5 1506,-268.5 1506,-297.5 1506,-297.5 1506,-303.5 1500,-309.5 1494,-309.5\"/>\n<text text-anchor=\"start\" x=\"1370\" y=\"-294.3\" font-family=\"Helvetica,sans-Serif\" font-size=\"14.00\" fill=\"#000000\">squared_error = 0.0</text>\n<text text-anchor=\"start\" x=\"1390\" y=\"-279.3\" font-family=\"Helvetica,sans-Serif\" font-size=\"14.00\" fill=\"#000000\">samples = 17</text>\n<text text-anchor=\"start\" x=\"1391.5\" y=\"-264.3\" font-family=\"Helvetica,sans-Serif\" font-size=\"14.00\" fill=\"#000000\">value = &#45;62.0</text>\n</g>\n<!-- 21&#45;&gt;22 -->\n<g id=\"edge22\" class=\"edge\">\n<title>21&#45;&gt;22</title>\n<path fill=\"none\" stroke=\"#000000\" d=\"M1564.9641,-5809.9409C1548.231,-5530.0081 1434,-3619 1434,-3619 1434,-3619 1434,-3619 1434,-2507 1434,-2507 1434,-609.559 1434,-319.8949\"/>\n<polygon fill=\"#000000\" stroke=\"#000000\" points=\"1437.5001,-319.5259 1434,-309.5259 1430.5001,-319.5259 1437.5001,-319.5259\"/>\n</g>\n<!-- 23 -->\n<g id=\"node24\" class=\"node\">\n<title>23</title>\n<path fill=\"#fdf6f1\" stroke=\"#000000\" d=\"M1656,-309.5C1656,-309.5 1536,-309.5 1536,-309.5 1530,-309.5 1524,-303.5 1524,-297.5 1524,-297.5 1524,-268.5 1524,-268.5 1524,-262.5 1530,-256.5 1536,-256.5 1536,-256.5 1656,-256.5 1656,-256.5 1662,-256.5 1668,-262.5 1668,-268.5 1668,-268.5 1668,-297.5 1668,-297.5 1668,-303.5 1662,-309.5 1656,-309.5\"/>\n<text text-anchor=\"start\" x=\"1532\" y=\"-294.3\" font-family=\"Helvetica,sans-Serif\" font-size=\"14.00\" fill=\"#000000\">squared_error = 0.0</text>\n<text text-anchor=\"start\" x=\"1552\" y=\"-279.3\" font-family=\"Helvetica,sans-Serif\" font-size=\"14.00\" fill=\"#000000\">samples = 21</text>\n<text text-anchor=\"start\" x=\"1553.5\" y=\"-264.3\" font-family=\"Helvetica,sans-Serif\" font-size=\"14.00\" fill=\"#000000\">value = &#45;61.0</text>\n</g>\n<!-- 21&#45;&gt;23 -->\n<g id=\"edge23\" class=\"edge\">\n<title>21&#45;&gt;23</title>\n<path fill=\"none\" stroke=\"#000000\" d=\"M1567.4439,-5809.9409C1571.0925,-5530.0081 1596,-3619 1596,-3619 1596,-3619 1596,-3619 1596,-2507 1596,-2507 1596,-609.559 1596,-319.8949\"/>\n<polygon fill=\"#000000\" stroke=\"#000000\" points=\"1599.5001,-319.5259 1596,-309.5259 1592.5001,-319.5259 1599.5001,-319.5259\"/>\n</g>\n<!-- 25 -->\n<g id=\"node26\" class=\"node\">\n<title>25</title>\n<path fill=\"#fdf5ef\" stroke=\"#000000\" d=\"M2013.5,-5878C2013.5,-5878 1762.5,-5878 1762.5,-5878 1756.5,-5878 1750.5,-5872 1750.5,-5866 1750.5,-5866 1750.5,-5822 1750.5,-5822 1750.5,-5816 1756.5,-5810 1762.5,-5810 1762.5,-5810 2013.5,-5810 2013.5,-5810 2019.5,-5810 2025.5,-5816 2025.5,-5822 2025.5,-5822 2025.5,-5866 2025.5,-5866 2025.5,-5872 2019.5,-5878 2013.5,-5878\"/>\n<text text-anchor=\"start\" x=\"1758.5\" y=\"-5862.8\" font-family=\"Helvetica,sans-Serif\" font-size=\"14.00\" fill=\"#000000\">lastReportedPosition.speedMPH ≤ &#45;59.5</text>\n<text text-anchor=\"start\" x=\"1820\" y=\"-5847.8\" font-family=\"Helvetica,sans-Serif\" font-size=\"14.00\" fill=\"#000000\">squared_error = 0.24</text>\n<text text-anchor=\"start\" x=\"1844\" y=\"-5832.8\" font-family=\"Helvetica,sans-Serif\" font-size=\"14.00\" fill=\"#000000\">samples = 94</text>\n<text text-anchor=\"start\" x=\"1845.5\" y=\"-5817.8\" font-family=\"Helvetica,sans-Serif\" font-size=\"14.00\" fill=\"#000000\">value = &#45;59.4</text>\n</g>\n<!-- 24&#45;&gt;25 -->\n<g id=\"edge25\" class=\"edge\">\n<title>24&#45;&gt;25</title>\n<path fill=\"none\" stroke=\"#000000\" d=\"M1888,-6921.8074C1888,-6759.8403 1888,-6070.0904 1888,-5888.1472\"/>\n<polygon fill=\"#000000\" stroke=\"#000000\" points=\"1891.5001,-5888.1328 1888,-5878.1328 1884.5001,-5888.1329 1891.5001,-5888.1328\"/>\n</g>\n<!-- 28 -->\n<g id=\"node29\" class=\"node\">\n<title>28</title>\n<path fill=\"#fdf3ed\" stroke=\"#000000\" d=\"M2142,-309.5C2142,-309.5 2022,-309.5 2022,-309.5 2016,-309.5 2010,-303.5 2010,-297.5 2010,-297.5 2010,-268.5 2010,-268.5 2010,-262.5 2016,-256.5 2022,-256.5 2022,-256.5 2142,-256.5 2142,-256.5 2148,-256.5 2154,-262.5 2154,-268.5 2154,-268.5 2154,-297.5 2154,-297.5 2154,-303.5 2148,-309.5 2142,-309.5\"/>\n<text text-anchor=\"start\" x=\"2018\" y=\"-294.3\" font-family=\"Helvetica,sans-Serif\" font-size=\"14.00\" fill=\"#000000\">squared_error = 0.0</text>\n<text text-anchor=\"start\" x=\"2038\" y=\"-279.3\" font-family=\"Helvetica,sans-Serif\" font-size=\"14.00\" fill=\"#000000\">samples = 47</text>\n<text text-anchor=\"start\" x=\"2039.5\" y=\"-264.3\" font-family=\"Helvetica,sans-Serif\" font-size=\"14.00\" fill=\"#000000\">value = &#45;58.0</text>\n</g>\n<!-- 24&#45;&gt;28 -->\n<g id=\"edge28\" class=\"edge\">\n<title>24&#45;&gt;28</title>\n<path fill=\"none\" stroke=\"#000000\" d=\"M1892.6106,-6921.9572C1917.4278,-6738.7183 2034,-5878 2034,-5878 2034,-5878 2082,-4732 2082,-4732 2082,-4732 2082,-4732 2082,-2507 2082,-2507 2082,-609.559 2082,-319.8949\"/>\n<polygon fill=\"#000000\" stroke=\"#000000\" points=\"2085.5001,-319.5259 2082,-309.5259 2078.5001,-319.5259 2085.5001,-319.5259\"/>\n</g>\n<!-- 26 -->\n<g id=\"node27\" class=\"node\">\n<title>26</title>\n<path fill=\"#fdf5f0\" stroke=\"#000000\" d=\"M1818,-309.5C1818,-309.5 1698,-309.5 1698,-309.5 1692,-309.5 1686,-303.5 1686,-297.5 1686,-297.5 1686,-268.5 1686,-268.5 1686,-262.5 1692,-256.5 1698,-256.5 1698,-256.5 1818,-256.5 1818,-256.5 1824,-256.5 1830,-262.5 1830,-268.5 1830,-268.5 1830,-297.5 1830,-297.5 1830,-303.5 1824,-309.5 1818,-309.5\"/>\n<text text-anchor=\"start\" x=\"1694\" y=\"-294.3\" font-family=\"Helvetica,sans-Serif\" font-size=\"14.00\" fill=\"#000000\">squared_error = 0.0</text>\n<text text-anchor=\"start\" x=\"1714\" y=\"-279.3\" font-family=\"Helvetica,sans-Serif\" font-size=\"14.00\" fill=\"#000000\">samples = 38</text>\n<text text-anchor=\"start\" x=\"1715.5\" y=\"-264.3\" font-family=\"Helvetica,sans-Serif\" font-size=\"14.00\" fill=\"#000000\">value = &#45;60.0</text>\n</g>\n<!-- 25&#45;&gt;26 -->\n<g id=\"edge26\" class=\"edge\">\n<title>25&#45;&gt;26</title>\n<path fill=\"none\" stroke=\"#000000\" d=\"M1886.01,-5809.9409C1869.6544,-5530.0081 1758,-3619 1758,-3619 1758,-3619 1758,-3619 1758,-2507 1758,-2507 1758,-609.559 1758,-319.8949\"/>\n<polygon fill=\"#000000\" stroke=\"#000000\" points=\"1761.5001,-319.5259 1758,-309.5259 1754.5001,-319.5259 1761.5001,-319.5259\"/>\n</g>\n<!-- 27 -->\n<g id=\"node28\" class=\"node\">\n<title>27</title>\n<path fill=\"#fdf4ee\" stroke=\"#000000\" d=\"M1980,-309.5C1980,-309.5 1860,-309.5 1860,-309.5 1854,-309.5 1848,-303.5 1848,-297.5 1848,-297.5 1848,-268.5 1848,-268.5 1848,-262.5 1854,-256.5 1860,-256.5 1860,-256.5 1980,-256.5 1980,-256.5 1986,-256.5 1992,-262.5 1992,-268.5 1992,-268.5 1992,-297.5 1992,-297.5 1992,-303.5 1986,-309.5 1980,-309.5\"/>\n<text text-anchor=\"start\" x=\"1856\" y=\"-294.3\" font-family=\"Helvetica,sans-Serif\" font-size=\"14.00\" fill=\"#000000\">squared_error = 0.0</text>\n<text text-anchor=\"start\" x=\"1876\" y=\"-279.3\" font-family=\"Helvetica,sans-Serif\" font-size=\"14.00\" fill=\"#000000\">samples = 56</text>\n<text text-anchor=\"start\" x=\"1877.5\" y=\"-264.3\" font-family=\"Helvetica,sans-Serif\" font-size=\"14.00\" fill=\"#000000\">value = &#45;59.0</text>\n</g>\n<!-- 25&#45;&gt;27 -->\n<g id=\"edge27\" class=\"edge\">\n<title>25&#45;&gt;27</title>\n<path fill=\"none\" stroke=\"#000000\" d=\"M1888.4898,-5809.9409C1892.5158,-5530.0081 1920,-3619 1920,-3619 1920,-3619 1920,-3619 1920,-2507 1920,-2507 1920,-609.559 1920,-319.8949\"/>\n<polygon fill=\"#000000\" stroke=\"#000000\" points=\"1923.5001,-319.5259 1920,-309.5259 1916.5001,-319.5259 1923.5001,-319.5259\"/>\n</g>\n<!-- 30 -->\n<g id=\"node31\" class=\"node\">\n<title>30</title>\n<path fill=\"#fcf1e8\" stroke=\"#000000\" d=\"M2815.5,-8102C2815.5,-8102 2564.5,-8102 2564.5,-8102 2558.5,-8102 2552.5,-8096 2552.5,-8090 2552.5,-8090 2552.5,-8046 2552.5,-8046 2552.5,-8040 2558.5,-8034 2564.5,-8034 2564.5,-8034 2815.5,-8034 2815.5,-8034 2821.5,-8034 2827.5,-8040 2827.5,-8046 2827.5,-8046 2827.5,-8090 2827.5,-8090 2827.5,-8096 2821.5,-8102 2815.5,-8102\"/>\n<text text-anchor=\"start\" x=\"2560.5\" y=\"-8086.8\" font-family=\"Helvetica,sans-Serif\" font-size=\"14.00\" fill=\"#000000\">lastReportedPosition.speedMPH ≤ &#45;55.5</text>\n<text text-anchor=\"start\" x=\"2622\" y=\"-8071.8\" font-family=\"Helvetica,sans-Serif\" font-size=\"14.00\" fill=\"#000000\">squared_error = 1.72</text>\n<text text-anchor=\"start\" x=\"2642\" y=\"-8056.8\" font-family=\"Helvetica,sans-Serif\" font-size=\"14.00\" fill=\"#000000\">samples = 143</text>\n<text text-anchor=\"start\" x=\"2643.5\" y=\"-8041.8\" font-family=\"Helvetica,sans-Serif\" font-size=\"14.00\" fill=\"#000000\">value = &#45;55.03</text>\n</g>\n<!-- 29&#45;&gt;30 -->\n<g id=\"edge30\" class=\"edge\">\n<title>29&#45;&gt;30</title>\n<path fill=\"none\" stroke=\"#000000\" d=\"M2966.2366,-9145.8074C2924.7046,-8983.7597 2747.7698,-8293.4036 2701.2452,-8111.8758\"/>\n<polygon fill=\"#000000\" stroke=\"#000000\" points=\"2704.6213,-8110.9508 2698.7481,-8102.1328 2697.8404,-8112.6887 2704.6213,-8110.9508\"/>\n</g>\n<!-- 39 -->\n<g id=\"node40\" class=\"node\">\n<title>39</title>\n<path fill=\"#fbede2\" stroke=\"#000000\" d=\"M3260.5,-8102C3260.5,-8102 3009.5,-8102 3009.5,-8102 3003.5,-8102 2997.5,-8096 2997.5,-8090 2997.5,-8090 2997.5,-8046 2997.5,-8046 2997.5,-8040 3003.5,-8034 3009.5,-8034 3009.5,-8034 3260.5,-8034 3260.5,-8034 3266.5,-8034 3272.5,-8040 3272.5,-8046 3272.5,-8046 3272.5,-8090 3272.5,-8090 3272.5,-8096 3266.5,-8102 3260.5,-8102\"/>\n<text text-anchor=\"start\" x=\"3005.5\" y=\"-8086.8\" font-family=\"Helvetica,sans-Serif\" font-size=\"14.00\" fill=\"#000000\">lastReportedPosition.speedMPH ≤ &#45;50.5</text>\n<text text-anchor=\"start\" x=\"3071\" y=\"-8071.8\" font-family=\"Helvetica,sans-Serif\" font-size=\"14.00\" fill=\"#000000\">squared_error = 0.6</text>\n<text text-anchor=\"start\" x=\"3087\" y=\"-8056.8\" font-family=\"Helvetica,sans-Serif\" font-size=\"14.00\" fill=\"#000000\">samples = 148</text>\n<text text-anchor=\"start\" x=\"3088.5\" y=\"-8041.8\" font-family=\"Helvetica,sans-Serif\" font-size=\"14.00\" fill=\"#000000\">value = &#45;50.66</text>\n</g>\n<!-- 29&#45;&gt;39 -->\n<g id=\"edge39\" class=\"edge\">\n<title>29&#45;&gt;39</title>\n<path fill=\"none\" stroke=\"#000000\" d=\"M2979.9198,-9145.8074C3003.2244,-8983.8403 3102.469,-8294.0904 3128.6479,-8112.1472\"/>\n<polygon fill=\"#000000\" stroke=\"#000000\" points=\"3132.1289,-8112.5294 3130.0888,-8102.1328 3125.2002,-8111.5324 3132.1289,-8112.5294\"/>\n</g>\n<!-- 31 -->\n<g id=\"node32\" class=\"node\">\n<title>31</title>\n<path fill=\"#fcf2eb\" stroke=\"#000000\" d=\"M2505,-6990C2505,-6990 2307,-6990 2307,-6990 2301,-6990 2295,-6984 2295,-6978 2295,-6978 2295,-6934 2295,-6934 2295,-6928 2301,-6922 2307,-6922 2307,-6922 2505,-6922 2505,-6922 2511,-6922 2517,-6928 2517,-6934 2517,-6934 2517,-6978 2517,-6978 2517,-6984 2511,-6990 2505,-6990\"/>\n<text text-anchor=\"start\" x=\"2303\" y=\"-6974.8\" font-family=\"Helvetica,sans-Serif\" font-size=\"14.00\" fill=\"#000000\">lastReportedSpeedMPH ≤ &#45;56.5</text>\n<text text-anchor=\"start\" x=\"2338\" y=\"-6959.8\" font-family=\"Helvetica,sans-Serif\" font-size=\"14.00\" fill=\"#000000\">squared_error = 0.25</text>\n<text text-anchor=\"start\" x=\"2362\" y=\"-6944.8\" font-family=\"Helvetica,sans-Serif\" font-size=\"14.00\" fill=\"#000000\">samples = 55</text>\n<text text-anchor=\"start\" x=\"2359.5\" y=\"-6929.8\" font-family=\"Helvetica,sans-Serif\" font-size=\"14.00\" fill=\"#000000\">value = &#45;56.45</text>\n</g>\n<!-- 30&#45;&gt;31 -->\n<g id=\"edge31\" class=\"edge\">\n<title>30&#45;&gt;31</title>\n<path fill=\"none\" stroke=\"#000000\" d=\"M2681.2674,-8033.8074C2639.8811,-7871.7597 2463.5671,-7181.4036 2417.2057,-6999.8758\"/>\n<polygon fill=\"#000000\" stroke=\"#000000\" points=\"2420.5831,-6998.9557 2414.7174,-6990.1328 2413.8008,-7000.6879 2420.5831,-6998.9557\"/>\n</g>\n<!-- 34 -->\n<g id=\"node35\" class=\"node\">\n<title>34</title>\n<path fill=\"#fcf0e7\" stroke=\"#000000\" d=\"M2789,-6990C2789,-6990 2591,-6990 2591,-6990 2585,-6990 2579,-6984 2579,-6978 2579,-6978 2579,-6934 2579,-6934 2579,-6928 2585,-6922 2591,-6922 2591,-6922 2789,-6922 2789,-6922 2795,-6922 2801,-6928 2801,-6934 2801,-6934 2801,-6978 2801,-6978 2801,-6984 2795,-6990 2789,-6990\"/>\n<text text-anchor=\"start\" x=\"2587\" y=\"-6974.8\" font-family=\"Helvetica,sans-Serif\" font-size=\"14.00\" fill=\"#000000\">lastReportedSpeedMPH ≤ &#45;54.5</text>\n<text text-anchor=\"start\" x=\"2622\" y=\"-6959.8\" font-family=\"Helvetica,sans-Serif\" font-size=\"14.00\" fill=\"#000000\">squared_error = 0.57</text>\n<text text-anchor=\"start\" x=\"2646\" y=\"-6944.8\" font-family=\"Helvetica,sans-Serif\" font-size=\"14.00\" fill=\"#000000\">samples = 88</text>\n<text text-anchor=\"start\" x=\"2643.5\" y=\"-6929.8\" font-family=\"Helvetica,sans-Serif\" font-size=\"14.00\" fill=\"#000000\">value = &#45;54.14</text>\n</g>\n<!-- 30&#45;&gt;34 -->\n<g id=\"edge34\" class=\"edge\">\n<title>30&#45;&gt;34</title>\n<path fill=\"none\" stroke=\"#000000\" d=\"M2690,-8033.8074C2690,-7871.8403 2690,-7182.0904 2690,-7000.1472\"/>\n<polygon fill=\"#000000\" stroke=\"#000000\" points=\"2693.5001,-7000.1328 2690,-6990.1328 2686.5001,-7000.1329 2693.5001,-7000.1328\"/>\n</g>\n<!-- 32 -->\n<g id=\"node33\" class=\"node\">\n<title>32</title>\n<path fill=\"#fcf2eb\" stroke=\"#000000\" d=\"M2304,-309.5C2304,-309.5 2184,-309.5 2184,-309.5 2178,-309.5 2172,-303.5 2172,-297.5 2172,-297.5 2172,-268.5 2172,-268.5 2172,-262.5 2178,-256.5 2184,-256.5 2184,-256.5 2304,-256.5 2304,-256.5 2310,-256.5 2316,-262.5 2316,-268.5 2316,-268.5 2316,-297.5 2316,-297.5 2316,-303.5 2310,-309.5 2304,-309.5\"/>\n<text text-anchor=\"start\" x=\"2180\" y=\"-294.3\" font-family=\"Helvetica,sans-Serif\" font-size=\"14.00\" fill=\"#000000\">squared_error = 0.0</text>\n<text text-anchor=\"start\" x=\"2200\" y=\"-279.3\" font-family=\"Helvetica,sans-Serif\" font-size=\"14.00\" fill=\"#000000\">samples = 25</text>\n<text text-anchor=\"start\" x=\"2201.5\" y=\"-264.3\" font-family=\"Helvetica,sans-Serif\" font-size=\"14.00\" fill=\"#000000\">value = &#45;57.0</text>\n</g>\n<!-- 31&#45;&gt;32 -->\n<g id=\"edge32\" class=\"edge\">\n<title>31&#45;&gt;32</title>\n<path fill=\"none\" stroke=\"#000000\" d=\"M2403.5202,-6921.9562C2383.1386,-6642.1492 2244,-4732 2244,-4732 2244,-4732 2244,-4732 2244,-2507 2244,-2507 2244,-609.559 2244,-319.8949\"/>\n<polygon fill=\"#000000\" stroke=\"#000000\" points=\"2247.5001,-319.5259 2244,-309.5259 2240.5001,-319.5259 2247.5001,-319.5259\"/>\n</g>\n<!-- 33 -->\n<g id=\"node34\" class=\"node\">\n<title>33</title>\n<path fill=\"#fcf2ea\" stroke=\"#000000\" d=\"M2466,-309.5C2466,-309.5 2346,-309.5 2346,-309.5 2340,-309.5 2334,-303.5 2334,-297.5 2334,-297.5 2334,-268.5 2334,-268.5 2334,-262.5 2340,-256.5 2346,-256.5 2346,-256.5 2466,-256.5 2466,-256.5 2472,-256.5 2478,-262.5 2478,-268.5 2478,-268.5 2478,-297.5 2478,-297.5 2478,-303.5 2472,-309.5 2466,-309.5\"/>\n<text text-anchor=\"start\" x=\"2342\" y=\"-294.3\" font-family=\"Helvetica,sans-Serif\" font-size=\"14.00\" fill=\"#000000\">squared_error = 0.0</text>\n<text text-anchor=\"start\" x=\"2362\" y=\"-279.3\" font-family=\"Helvetica,sans-Serif\" font-size=\"14.00\" fill=\"#000000\">samples = 30</text>\n<text text-anchor=\"start\" x=\"2363.5\" y=\"-264.3\" font-family=\"Helvetica,sans-Serif\" font-size=\"14.00\" fill=\"#000000\">value = &#45;56.0</text>\n</g>\n<!-- 31&#45;&gt;33 -->\n<g id=\"edge33\" class=\"edge\">\n<title>31&#45;&gt;33</title>\n<path fill=\"none\" stroke=\"#000000\" d=\"M2406,-6921.9562C2406,-6642.1492 2406,-4732 2406,-4732 2406,-4732 2406,-4732 2406,-2507 2406,-2507 2406,-609.559 2406,-319.8949\"/>\n<polygon fill=\"#000000\" stroke=\"#000000\" points=\"2409.5001,-319.5259 2406,-309.5259 2402.5001,-319.5259 2409.5001,-319.5259\"/>\n</g>\n<!-- 35 -->\n<g id=\"node36\" class=\"node\">\n<title>35</title>\n<path fill=\"#fcf1e8\" stroke=\"#000000\" d=\"M2628,-309.5C2628,-309.5 2508,-309.5 2508,-309.5 2502,-309.5 2496,-303.5 2496,-297.5 2496,-297.5 2496,-268.5 2496,-268.5 2496,-262.5 2502,-256.5 2508,-256.5 2508,-256.5 2628,-256.5 2628,-256.5 2634,-256.5 2640,-262.5 2640,-268.5 2640,-268.5 2640,-297.5 2640,-297.5 2640,-303.5 2634,-309.5 2628,-309.5\"/>\n<text text-anchor=\"start\" x=\"2504\" y=\"-294.3\" font-family=\"Helvetica,sans-Serif\" font-size=\"14.00\" fill=\"#000000\">squared_error = 0.0</text>\n<text text-anchor=\"start\" x=\"2524\" y=\"-279.3\" font-family=\"Helvetica,sans-Serif\" font-size=\"14.00\" fill=\"#000000\">samples = 32</text>\n<text text-anchor=\"start\" x=\"2525.5\" y=\"-264.3\" font-family=\"Helvetica,sans-Serif\" font-size=\"14.00\" fill=\"#000000\">value = &#45;55.0</text>\n</g>\n<!-- 34&#45;&gt;35 -->\n<g id=\"edge35\" class=\"edge\">\n<title>34&#45;&gt;35</title>\n<path fill=\"none\" stroke=\"#000000\" d=\"M2686.7473,-6921.9572C2669.2393,-6738.7183 2587,-5878 2587,-5878 2587,-5878 2568,-4732 2568,-4732 2568,-4732 2568,-4732 2568,-2507 2568,-2507 2568,-609.559 2568,-319.8949\"/>\n<polygon fill=\"#000000\" stroke=\"#000000\" points=\"2571.5001,-319.5259 2568,-309.5259 2564.5001,-319.5259 2571.5001,-319.5259\"/>\n</g>\n<!-- 36 -->\n<g id=\"node37\" class=\"node\">\n<title>36</title>\n<path fill=\"#fcefe7\" stroke=\"#000000\" d=\"M2859.5,-5878C2859.5,-5878 2608.5,-5878 2608.5,-5878 2602.5,-5878 2596.5,-5872 2596.5,-5866 2596.5,-5866 2596.5,-5822 2596.5,-5822 2596.5,-5816 2602.5,-5810 2608.5,-5810 2608.5,-5810 2859.5,-5810 2859.5,-5810 2865.5,-5810 2871.5,-5816 2871.5,-5822 2871.5,-5822 2871.5,-5866 2871.5,-5866 2871.5,-5872 2865.5,-5878 2859.5,-5878\"/>\n<text text-anchor=\"start\" x=\"2604.5\" y=\"-5862.8\" font-family=\"Helvetica,sans-Serif\" font-size=\"14.00\" fill=\"#000000\">lastReportedPosition.speedMPH ≤ &#45;53.5</text>\n<text text-anchor=\"start\" x=\"2666\" y=\"-5847.8\" font-family=\"Helvetica,sans-Serif\" font-size=\"14.00\" fill=\"#000000\">squared_error = 0.23</text>\n<text text-anchor=\"start\" x=\"2690\" y=\"-5832.8\" font-family=\"Helvetica,sans-Serif\" font-size=\"14.00\" fill=\"#000000\">samples = 56</text>\n<text text-anchor=\"start\" x=\"2687.5\" y=\"-5817.8\" font-family=\"Helvetica,sans-Serif\" font-size=\"14.00\" fill=\"#000000\">value = &#45;53.64</text>\n</g>\n<!-- 34&#45;&gt;36 -->\n<g id=\"edge36\" class=\"edge\">\n<title>34&#45;&gt;36</title>\n<path fill=\"none\" stroke=\"#000000\" d=\"M2691.3529,-6921.8074C2697.7617,-6759.8403 2725.054,-6070.0904 2732.2532,-5888.1472\"/>\n<polygon fill=\"#000000\" stroke=\"#000000\" points=\"2735.7512,-5888.2634 2732.6494,-5878.1328 2728.7567,-5887.9866 2735.7512,-5888.2634\"/>\n</g>\n<!-- 37 -->\n<g id=\"node38\" class=\"node\">\n<title>37</title>\n<path fill=\"#fcf0e7\" stroke=\"#000000\" d=\"M2790,-309.5C2790,-309.5 2670,-309.5 2670,-309.5 2664,-309.5 2658,-303.5 2658,-297.5 2658,-297.5 2658,-268.5 2658,-268.5 2658,-262.5 2664,-256.5 2670,-256.5 2670,-256.5 2790,-256.5 2790,-256.5 2796,-256.5 2802,-262.5 2802,-268.5 2802,-268.5 2802,-297.5 2802,-297.5 2802,-303.5 2796,-309.5 2790,-309.5\"/>\n<text text-anchor=\"start\" x=\"2666\" y=\"-294.3\" font-family=\"Helvetica,sans-Serif\" font-size=\"14.00\" fill=\"#000000\">squared_error = 0.0</text>\n<text text-anchor=\"start\" x=\"2686\" y=\"-279.3\" font-family=\"Helvetica,sans-Serif\" font-size=\"14.00\" fill=\"#000000\">samples = 36</text>\n<text text-anchor=\"start\" x=\"2687.5\" y=\"-264.3\" font-family=\"Helvetica,sans-Serif\" font-size=\"14.00\" fill=\"#000000\">value = &#45;54.0</text>\n</g>\n<!-- 36&#45;&gt;37 -->\n<g id=\"edge37\" class=\"edge\">\n<title>36&#45;&gt;37</title>\n<path fill=\"none\" stroke=\"#000000\" d=\"M2733.9388,-5809.9409C2733.4355,-5530.0081 2730,-3619 2730,-3619 2730,-3619 2730,-3619 2730,-2507 2730,-2507 2730,-609.559 2730,-319.8949\"/>\n<polygon fill=\"#000000\" stroke=\"#000000\" points=\"2733.5001,-319.5259 2730,-309.5259 2726.5001,-319.5259 2733.5001,-319.5259\"/>\n</g>\n<!-- 38 -->\n<g id=\"node39\" class=\"node\">\n<title>38</title>\n<path fill=\"#fcefe6\" stroke=\"#000000\" d=\"M2952,-309.5C2952,-309.5 2832,-309.5 2832,-309.5 2826,-309.5 2820,-303.5 2820,-297.5 2820,-297.5 2820,-268.5 2820,-268.5 2820,-262.5 2826,-256.5 2832,-256.5 2832,-256.5 2952,-256.5 2952,-256.5 2958,-256.5 2964,-262.5 2964,-268.5 2964,-268.5 2964,-297.5 2964,-297.5 2964,-303.5 2958,-309.5 2952,-309.5\"/>\n<text text-anchor=\"start\" x=\"2828\" y=\"-294.3\" font-family=\"Helvetica,sans-Serif\" font-size=\"14.00\" fill=\"#000000\">squared_error = 0.0</text>\n<text text-anchor=\"start\" x=\"2848\" y=\"-279.3\" font-family=\"Helvetica,sans-Serif\" font-size=\"14.00\" fill=\"#000000\">samples = 20</text>\n<text text-anchor=\"start\" x=\"2849.5\" y=\"-264.3\" font-family=\"Helvetica,sans-Serif\" font-size=\"14.00\" fill=\"#000000\">value = &#45;53.0</text>\n</g>\n<!-- 36&#45;&gt;38 -->\n<g id=\"edge38\" class=\"edge\">\n<title>36&#45;&gt;38</title>\n<path fill=\"none\" stroke=\"#000000\" d=\"M2736.4186,-5809.9409C2756.297,-5530.0081 2892,-3619 2892,-3619 2892,-3619 2892,-3619 2892,-2507 2892,-2507 2892,-609.559 2892,-319.8949\"/>\n<polygon fill=\"#000000\" stroke=\"#000000\" points=\"2895.5001,-319.5259 2892,-309.5259 2888.5001,-319.5259 2895.5001,-319.5259\"/>\n</g>\n<!-- 40 -->\n<g id=\"node41\" class=\"node\">\n<title>40</title>\n<path fill=\"#fbede3\" stroke=\"#000000\" d=\"M3234,-6990C3234,-6990 3036,-6990 3036,-6990 3030,-6990 3024,-6984 3024,-6978 3024,-6978 3024,-6934 3024,-6934 3024,-6928 3030,-6922 3036,-6922 3036,-6922 3234,-6922 3234,-6922 3240,-6922 3246,-6928 3246,-6934 3246,-6934 3246,-6978 3246,-6978 3246,-6984 3240,-6990 3234,-6990\"/>\n<text text-anchor=\"start\" x=\"3032\" y=\"-6974.8\" font-family=\"Helvetica,sans-Serif\" font-size=\"14.00\" fill=\"#000000\">lastReportedSpeedMPH ≤ &#45;51.5</text>\n<text text-anchor=\"start\" x=\"3067\" y=\"-6959.8\" font-family=\"Helvetica,sans-Serif\" font-size=\"14.00\" fill=\"#000000\">squared_error = 0.24</text>\n<text text-anchor=\"start\" x=\"3091\" y=\"-6944.8\" font-family=\"Helvetica,sans-Serif\" font-size=\"14.00\" fill=\"#000000\">samples = 69</text>\n<text text-anchor=\"start\" x=\"3088.5\" y=\"-6929.8\" font-family=\"Helvetica,sans-Serif\" font-size=\"14.00\" fill=\"#000000\">value = &#45;51.41</text>\n</g>\n<!-- 39&#45;&gt;40 -->\n<g id=\"edge40\" class=\"edge\">\n<title>39&#45;&gt;40</title>\n<path fill=\"none\" stroke=\"#000000\" d=\"M3135,-8033.8074C3135,-7871.8403 3135,-7182.0904 3135,-7000.1472\"/>\n<polygon fill=\"#000000\" stroke=\"#000000\" points=\"3138.5001,-7000.1328 3135,-6990.1328 3131.5001,-7000.1329 3138.5001,-7000.1328\"/>\n</g>\n<!-- 43 -->\n<g id=\"node44\" class=\"node\">\n<title>43</title>\n<path fill=\"#fbece1\" stroke=\"#000000\" d=\"M3438,-309.5C3438,-309.5 3318,-309.5 3318,-309.5 3312,-309.5 3306,-303.5 3306,-297.5 3306,-297.5 3306,-268.5 3306,-268.5 3306,-262.5 3312,-256.5 3318,-256.5 3318,-256.5 3438,-256.5 3438,-256.5 3444,-256.5 3450,-262.5 3450,-268.5 3450,-268.5 3450,-297.5 3450,-297.5 3450,-303.5 3444,-309.5 3438,-309.5\"/>\n<text text-anchor=\"start\" x=\"3314\" y=\"-294.3\" font-family=\"Helvetica,sans-Serif\" font-size=\"14.00\" fill=\"#000000\">squared_error = 0.0</text>\n<text text-anchor=\"start\" x=\"3334\" y=\"-279.3\" font-family=\"Helvetica,sans-Serif\" font-size=\"14.00\" fill=\"#000000\">samples = 79</text>\n<text text-anchor=\"start\" x=\"3335.5\" y=\"-264.3\" font-family=\"Helvetica,sans-Serif\" font-size=\"14.00\" fill=\"#000000\">value = &#45;50.0</text>\n</g>\n<!-- 39&#45;&gt;43 -->\n<g id=\"edge43\" class=\"edge\">\n<title>39&#45;&gt;43</title>\n<path fill=\"none\" stroke=\"#000000\" d=\"M3138.7896,-8033.9572C3159.1872,-7850.7183 3255,-6990 3255,-6990 3255,-6990 3378,-5844 3378,-5844 3378,-5844 3378,-5844 3378,-2507 3378,-2507 3378,-609.559 3378,-319.8949\"/>\n<polygon fill=\"#000000\" stroke=\"#000000\" points=\"3381.5001,-319.5259 3378,-309.5259 3374.5001,-319.5259 3381.5001,-319.5259\"/>\n</g>\n<!-- 41 -->\n<g id=\"node42\" class=\"node\">\n<title>41</title>\n<path fill=\"#fbeee4\" stroke=\"#000000\" d=\"M3114,-309.5C3114,-309.5 2994,-309.5 2994,-309.5 2988,-309.5 2982,-303.5 2982,-297.5 2982,-297.5 2982,-268.5 2982,-268.5 2982,-262.5 2988,-256.5 2994,-256.5 2994,-256.5 3114,-256.5 3114,-256.5 3120,-256.5 3126,-262.5 3126,-268.5 3126,-268.5 3126,-297.5 3126,-297.5 3126,-303.5 3120,-309.5 3114,-309.5\"/>\n<text text-anchor=\"start\" x=\"2990\" y=\"-294.3\" font-family=\"Helvetica,sans-Serif\" font-size=\"14.00\" fill=\"#000000\">squared_error = 0.0</text>\n<text text-anchor=\"start\" x=\"3010\" y=\"-279.3\" font-family=\"Helvetica,sans-Serif\" font-size=\"14.00\" fill=\"#000000\">samples = 28</text>\n<text text-anchor=\"start\" x=\"3011.5\" y=\"-264.3\" font-family=\"Helvetica,sans-Serif\" font-size=\"14.00\" fill=\"#000000\">value = &#45;52.0</text>\n</g>\n<!-- 40&#45;&gt;41 -->\n<g id=\"edge41\" class=\"edge\">\n<title>40&#45;&gt;41</title>\n<path fill=\"none\" stroke=\"#000000\" d=\"M3133.7601,-6921.9562C3123.5693,-6642.1492 3054,-4732 3054,-4732 3054,-4732 3054,-4732 3054,-2507 3054,-2507 3054,-609.559 3054,-319.8949\"/>\n<polygon fill=\"#000000\" stroke=\"#000000\" points=\"3057.5001,-319.5259 3054,-309.5259 3050.5001,-319.5259 3057.5001,-319.5259\"/>\n</g>\n<!-- 42 -->\n<g id=\"node43\" class=\"node\">\n<title>42</title>\n<path fill=\"#fbede3\" stroke=\"#000000\" d=\"M3276,-309.5C3276,-309.5 3156,-309.5 3156,-309.5 3150,-309.5 3144,-303.5 3144,-297.5 3144,-297.5 3144,-268.5 3144,-268.5 3144,-262.5 3150,-256.5 3156,-256.5 3156,-256.5 3276,-256.5 3276,-256.5 3282,-256.5 3288,-262.5 3288,-268.5 3288,-268.5 3288,-297.5 3288,-297.5 3288,-303.5 3282,-309.5 3276,-309.5\"/>\n<text text-anchor=\"start\" x=\"3152\" y=\"-294.3\" font-family=\"Helvetica,sans-Serif\" font-size=\"14.00\" fill=\"#000000\">squared_error = 0.0</text>\n<text text-anchor=\"start\" x=\"3172\" y=\"-279.3\" font-family=\"Helvetica,sans-Serif\" font-size=\"14.00\" fill=\"#000000\">samples = 41</text>\n<text text-anchor=\"start\" x=\"3173.5\" y=\"-264.3\" font-family=\"Helvetica,sans-Serif\" font-size=\"14.00\" fill=\"#000000\">value = &#45;51.0</text>\n</g>\n<!-- 40&#45;&gt;42 -->\n<g id=\"edge42\" class=\"edge\">\n<title>40&#45;&gt;42</title>\n<path fill=\"none\" stroke=\"#000000\" d=\"M3136.2399,-6921.9562C3146.4307,-6642.1492 3216,-4732 3216,-4732 3216,-4732 3216,-4732 3216,-2507 3216,-2507 3216,-609.559 3216,-319.8949\"/>\n<polygon fill=\"#000000\" stroke=\"#000000\" points=\"3219.5001,-319.5259 3216,-309.5259 3212.5001,-319.5259 3219.5001,-319.5259\"/>\n</g>\n<!-- 45 -->\n<g id=\"node46\" class=\"node\">\n<title>45</title>\n<path fill=\"#fae8dc\" stroke=\"#000000\" d=\"M4530,-9214C4530,-9214 4332,-9214 4332,-9214 4326,-9214 4320,-9208 4320,-9202 4320,-9202 4320,-9158 4320,-9158 4320,-9152 4326,-9146 4332,-9146 4332,-9146 4530,-9146 4530,-9146 4536,-9146 4542,-9152 4542,-9158 4542,-9158 4542,-9202 4542,-9202 4542,-9208 4536,-9214 4530,-9214\"/>\n<text text-anchor=\"start\" x=\"4328\" y=\"-9198.8\" font-family=\"Helvetica,sans-Serif\" font-size=\"14.00\" fill=\"#000000\">lastReportedSpeedMPH ≤ &#45;45.5</text>\n<text text-anchor=\"start\" x=\"4363\" y=\"-9183.8\" font-family=\"Helvetica,sans-Serif\" font-size=\"14.00\" fill=\"#000000\">squared_error = 4.24</text>\n<text text-anchor=\"start\" x=\"4383\" y=\"-9168.8\" font-family=\"Helvetica,sans-Serif\" font-size=\"14.00\" fill=\"#000000\">samples = 801</text>\n<text text-anchor=\"start\" x=\"4384.5\" y=\"-9153.8\" font-family=\"Helvetica,sans-Serif\" font-size=\"14.00\" fill=\"#000000\">value = &#45;45.81</text>\n</g>\n<!-- 44&#45;&gt;45 -->\n<g id=\"edge45\" class=\"edge\">\n<title>44&#45;&gt;45</title>\n<path fill=\"none\" stroke=\"#000000\" d=\"M4588.988,-10257.8074C4565.2464,-10095.8403 4464.1409,-9406.0904 4437.4712,-9224.1472\"/>\n<polygon fill=\"#000000\" stroke=\"#000000\" points=\"4440.9167,-9223.5195 4436.0033,-9214.1328 4433.9907,-9224.5347 4440.9167,-9223.5195\"/>\n</g>\n<!-- 58 -->\n<g id=\"node59\" class=\"node\">\n<title>58</title>\n<path fill=\"#f9e2d2\" stroke=\"#000000\" d=\"M4973,-9214C4973,-9214 4775,-9214 4775,-9214 4769,-9214 4763,-9208 4763,-9202 4763,-9202 4763,-9158 4763,-9158 4763,-9152 4769,-9146 4775,-9146 4775,-9146 4973,-9146 4973,-9146 4979,-9146 4985,-9152 4985,-9158 4985,-9158 4985,-9202 4985,-9202 4985,-9208 4979,-9214 4973,-9214\"/>\n<text text-anchor=\"start\" x=\"4771\" y=\"-9198.8\" font-family=\"Helvetica,sans-Serif\" font-size=\"14.00\" fill=\"#000000\">lastReportedSpeedMPH ≤ &#45;39.5</text>\n<text text-anchor=\"start\" x=\"4806\" y=\"-9183.8\" font-family=\"Helvetica,sans-Serif\" font-size=\"14.00\" fill=\"#000000\">squared_error = 3.47</text>\n<text text-anchor=\"start\" x=\"4822\" y=\"-9168.8\" font-family=\"Helvetica,sans-Serif\" font-size=\"14.00\" fill=\"#000000\">samples = 1267</text>\n<text text-anchor=\"start\" x=\"4827.5\" y=\"-9153.8\" font-family=\"Helvetica,sans-Serif\" font-size=\"14.00\" fill=\"#000000\">value = &#45;38.97</text>\n</g>\n<!-- 44&#45;&gt;58 -->\n<g id=\"edge58\" class=\"edge\">\n<title>44&#45;&gt;58</title>\n<path fill=\"none\" stroke=\"#000000\" d=\"M4602.6096,-10257.8074C4643.413,-10095.7597 4817.2437,-9405.4036 4862.9521,-9223.8758\"/>\n<polygon fill=\"#000000\" stroke=\"#000000\" points=\"4866.3576,-9224.6848 4865.4054,-9214.1328 4859.5695,-9222.9755 4866.3576,-9224.6848\"/>\n</g>\n<!-- 46 -->\n<g id=\"node47\" class=\"node\">\n<title>46</title>\n<path fill=\"#fbeade\" stroke=\"#000000\" d=\"M4109.5,-8102C4109.5,-8102 3858.5,-8102 3858.5,-8102 3852.5,-8102 3846.5,-8096 3846.5,-8090 3846.5,-8090 3846.5,-8046 3846.5,-8046 3846.5,-8040 3852.5,-8034 3858.5,-8034 3858.5,-8034 4109.5,-8034 4109.5,-8034 4115.5,-8034 4121.5,-8040 4121.5,-8046 4121.5,-8046 4121.5,-8090 4121.5,-8090 4121.5,-8096 4115.5,-8102 4109.5,-8102\"/>\n<text text-anchor=\"start\" x=\"3854.5\" y=\"-8086.8\" font-family=\"Helvetica,sans-Serif\" font-size=\"14.00\" fill=\"#000000\">lastReportedPosition.speedMPH ≤ &#45;47.5</text>\n<text text-anchor=\"start\" x=\"3916\" y=\"-8071.8\" font-family=\"Helvetica,sans-Serif\" font-size=\"14.00\" fill=\"#000000\">squared_error = 1.25</text>\n<text text-anchor=\"start\" x=\"3936\" y=\"-8056.8\" font-family=\"Helvetica,sans-Serif\" font-size=\"14.00\" fill=\"#000000\">samples = 410</text>\n<text text-anchor=\"start\" x=\"3937.5\" y=\"-8041.8\" font-family=\"Helvetica,sans-Serif\" font-size=\"14.00\" fill=\"#000000\">value = &#45;47.58</text>\n</g>\n<!-- 45&#45;&gt;46 -->\n<g id=\"edge46\" class=\"edge\">\n<title>45&#45;&gt;46</title>\n<path fill=\"none\" stroke=\"#000000\" d=\"M4417.2553,-9145.8074C4352.0832,-8983.6791 4074.3312,-8292.7165 4001.5284,-8111.6053\"/>\n<polygon fill=\"#000000\" stroke=\"#000000\" points=\"4004.6979,-8110.1058 3997.7207,-8102.1328 3998.203,-8112.7167 4004.6979,-8110.1058\"/>\n</g>\n<!-- 53 -->\n<g id=\"node54\" class=\"node\">\n<title>53</title>\n<path fill=\"#fae7d9\" stroke=\"#000000\" d=\"M4556.5,-8102C4556.5,-8102 4305.5,-8102 4305.5,-8102 4299.5,-8102 4293.5,-8096 4293.5,-8090 4293.5,-8090 4293.5,-8046 4293.5,-8046 4293.5,-8040 4299.5,-8034 4305.5,-8034 4305.5,-8034 4556.5,-8034 4556.5,-8034 4562.5,-8034 4568.5,-8040 4568.5,-8046 4568.5,-8046 4568.5,-8090 4568.5,-8090 4568.5,-8096 4562.5,-8102 4556.5,-8102\"/>\n<text text-anchor=\"start\" x=\"4301.5\" y=\"-8086.8\" font-family=\"Helvetica,sans-Serif\" font-size=\"14.00\" fill=\"#000000\">lastReportedPosition.speedMPH ≤ &#45;43.5</text>\n<text text-anchor=\"start\" x=\"4363\" y=\"-8071.8\" font-family=\"Helvetica,sans-Serif\" font-size=\"14.00\" fill=\"#000000\">squared_error = 0.68</text>\n<text text-anchor=\"start\" x=\"4383\" y=\"-8056.8\" font-family=\"Helvetica,sans-Serif\" font-size=\"14.00\" fill=\"#000000\">samples = 391</text>\n<text text-anchor=\"start\" x=\"4384.5\" y=\"-8041.8\" font-family=\"Helvetica,sans-Serif\" font-size=\"14.00\" fill=\"#000000\">value = &#45;43.96</text>\n</g>\n<!-- 45&#45;&gt;53 -->\n<g id=\"edge53\" class=\"edge\">\n<title>45&#45;&gt;53</title>\n<path fill=\"none\" stroke=\"#000000\" d=\"M4431,-9145.8074C4431,-8983.8403 4431,-8294.0904 4431,-8112.1472\"/>\n<polygon fill=\"#000000\" stroke=\"#000000\" points=\"4434.5001,-8112.1328 4431,-8102.1328 4427.5001,-8112.1329 4434.5001,-8112.1328\"/>\n</g>\n<!-- 47 -->\n<g id=\"node48\" class=\"node\">\n<title>47</title>\n<path fill=\"#fbebdf\" stroke=\"#000000\" d=\"M3801,-6990C3801,-6990 3603,-6990 3603,-6990 3597,-6990 3591,-6984 3591,-6978 3591,-6978 3591,-6934 3591,-6934 3591,-6928 3597,-6922 3603,-6922 3603,-6922 3801,-6922 3801,-6922 3807,-6922 3813,-6928 3813,-6934 3813,-6934 3813,-6978 3813,-6978 3813,-6984 3807,-6990 3801,-6990\"/>\n<text text-anchor=\"start\" x=\"3599\" y=\"-6974.8\" font-family=\"Helvetica,sans-Serif\" font-size=\"14.00\" fill=\"#000000\">lastReportedSpeedMPH ≤ &#45;48.5</text>\n<text text-anchor=\"start\" x=\"3634\" y=\"-6959.8\" font-family=\"Helvetica,sans-Serif\" font-size=\"14.00\" fill=\"#000000\">squared_error = 0.25</text>\n<text text-anchor=\"start\" x=\"3654\" y=\"-6944.8\" font-family=\"Helvetica,sans-Serif\" font-size=\"14.00\" fill=\"#000000\">samples = 216</text>\n<text text-anchor=\"start\" x=\"3655.5\" y=\"-6929.8\" font-family=\"Helvetica,sans-Serif\" font-size=\"14.00\" fill=\"#000000\">value = &#45;48.53</text>\n</g>\n<!-- 46&#45;&gt;47 -->\n<g id=\"edge47\" class=\"edge\">\n<title>46&#45;&gt;47</title>\n<path fill=\"none\" stroke=\"#000000\" d=\"M3975.3289,-8033.8074C3934.234,-7871.7597 3759.1617,-7181.4036 3713.1268,-6999.8758\"/>\n<polygon fill=\"#000000\" stroke=\"#000000\" points=\"3716.5068,-6998.9656 3710.656,-6990.1328 3709.7216,-7000.6864 3716.5068,-6998.9656\"/>\n</g>\n<!-- 50 -->\n<g id=\"node51\" class=\"node\">\n<title>50</title>\n<path fill=\"#fae9dd\" stroke=\"#000000\" d=\"M4083,-6990C4083,-6990 3885,-6990 3885,-6990 3879,-6990 3873,-6984 3873,-6978 3873,-6978 3873,-6934 3873,-6934 3873,-6928 3879,-6922 3885,-6922 3885,-6922 4083,-6922 4083,-6922 4089,-6922 4095,-6928 4095,-6934 4095,-6934 4095,-6978 4095,-6978 4095,-6984 4089,-6990 4083,-6990\"/>\n<text text-anchor=\"start\" x=\"3881\" y=\"-6974.8\" font-family=\"Helvetica,sans-Serif\" font-size=\"14.00\" fill=\"#000000\">lastReportedSpeedMPH ≤ &#45;46.5</text>\n<text text-anchor=\"start\" x=\"3916\" y=\"-6959.8\" font-family=\"Helvetica,sans-Serif\" font-size=\"14.00\" fill=\"#000000\">squared_error = 0.25</text>\n<text text-anchor=\"start\" x=\"3936\" y=\"-6944.8\" font-family=\"Helvetica,sans-Serif\" font-size=\"14.00\" fill=\"#000000\">samples = 194</text>\n<text text-anchor=\"start\" x=\"3937.5\" y=\"-6929.8\" font-family=\"Helvetica,sans-Serif\" font-size=\"14.00\" fill=\"#000000\">value = &#45;46.53</text>\n</g>\n<!-- 46&#45;&gt;50 -->\n<g id=\"edge50\" class=\"edge\">\n<title>46&#45;&gt;50</title>\n<path fill=\"none\" stroke=\"#000000\" d=\"M3984,-8033.8074C3984,-7871.8403 3984,-7182.0904 3984,-7000.1472\"/>\n<polygon fill=\"#000000\" stroke=\"#000000\" points=\"3987.5001,-7000.1328 3984,-6990.1328 3980.5001,-7000.1329 3987.5001,-7000.1328\"/>\n</g>\n<!-- 48 -->\n<g id=\"node49\" class=\"node\">\n<title>48</title>\n<path fill=\"#fbebe0\" stroke=\"#000000\" d=\"M3600,-309.5C3600,-309.5 3480,-309.5 3480,-309.5 3474,-309.5 3468,-303.5 3468,-297.5 3468,-297.5 3468,-268.5 3468,-268.5 3468,-262.5 3474,-256.5 3480,-256.5 3480,-256.5 3600,-256.5 3600,-256.5 3606,-256.5 3612,-262.5 3612,-268.5 3612,-268.5 3612,-297.5 3612,-297.5 3612,-303.5 3606,-309.5 3600,-309.5\"/>\n<text text-anchor=\"start\" x=\"3476\" y=\"-294.3\" font-family=\"Helvetica,sans-Serif\" font-size=\"14.00\" fill=\"#000000\">squared_error = 0.0</text>\n<text text-anchor=\"start\" x=\"3492\" y=\"-279.3\" font-family=\"Helvetica,sans-Serif\" font-size=\"14.00\" fill=\"#000000\">samples = 114</text>\n<text text-anchor=\"start\" x=\"3497.5\" y=\"-264.3\" font-family=\"Helvetica,sans-Serif\" font-size=\"14.00\" fill=\"#000000\">value = &#45;49.0</text>\n</g>\n<!-- 47&#45;&gt;48 -->\n<g id=\"edge48\" class=\"edge\">\n<title>47&#45;&gt;48</title>\n<path fill=\"none\" stroke=\"#000000\" d=\"M3699.5202,-6921.9562C3679.1386,-6642.1492 3540,-4732 3540,-4732 3540,-4732 3540,-4732 3540,-2507 3540,-2507 3540,-609.559 3540,-319.8949\"/>\n<polygon fill=\"#000000\" stroke=\"#000000\" points=\"3543.5001,-319.5259 3540,-309.5259 3536.5001,-319.5259 3543.5001,-319.5259\"/>\n</g>\n<!-- 49 -->\n<g id=\"node50\" class=\"node\">\n<title>49</title>\n<path fill=\"#fbeadf\" stroke=\"#000000\" d=\"M3762,-309.5C3762,-309.5 3642,-309.5 3642,-309.5 3636,-309.5 3630,-303.5 3630,-297.5 3630,-297.5 3630,-268.5 3630,-268.5 3630,-262.5 3636,-256.5 3642,-256.5 3642,-256.5 3762,-256.5 3762,-256.5 3768,-256.5 3774,-262.5 3774,-268.5 3774,-268.5 3774,-297.5 3774,-297.5 3774,-303.5 3768,-309.5 3762,-309.5\"/>\n<text text-anchor=\"start\" x=\"3638\" y=\"-294.3\" font-family=\"Helvetica,sans-Serif\" font-size=\"14.00\" fill=\"#000000\">squared_error = 0.0</text>\n<text text-anchor=\"start\" x=\"3654\" y=\"-279.3\" font-family=\"Helvetica,sans-Serif\" font-size=\"14.00\" fill=\"#000000\">samples = 102</text>\n<text text-anchor=\"start\" x=\"3659.5\" y=\"-264.3\" font-family=\"Helvetica,sans-Serif\" font-size=\"14.00\" fill=\"#000000\">value = &#45;48.0</text>\n</g>\n<!-- 47&#45;&gt;49 -->\n<g id=\"edge49\" class=\"edge\">\n<title>47&#45;&gt;49</title>\n<path fill=\"none\" stroke=\"#000000\" d=\"M3702,-6921.9562C3702,-6642.1492 3702,-4732 3702,-4732 3702,-4732 3702,-4732 3702,-2507 3702,-2507 3702,-609.559 3702,-319.8949\"/>\n<polygon fill=\"#000000\" stroke=\"#000000\" points=\"3705.5001,-319.5259 3702,-309.5259 3698.5001,-319.5259 3705.5001,-319.5259\"/>\n</g>\n<!-- 51 -->\n<g id=\"node52\" class=\"node\">\n<title>51</title>\n<path fill=\"#fbe9dd\" stroke=\"#000000\" d=\"M3924,-309.5C3924,-309.5 3804,-309.5 3804,-309.5 3798,-309.5 3792,-303.5 3792,-297.5 3792,-297.5 3792,-268.5 3792,-268.5 3792,-262.5 3798,-256.5 3804,-256.5 3804,-256.5 3924,-256.5 3924,-256.5 3930,-256.5 3936,-262.5 3936,-268.5 3936,-268.5 3936,-297.5 3936,-297.5 3936,-303.5 3930,-309.5 3924,-309.5\"/>\n<text text-anchor=\"start\" x=\"3800\" y=\"-294.3\" font-family=\"Helvetica,sans-Serif\" font-size=\"14.00\" fill=\"#000000\">squared_error = 0.0</text>\n<text text-anchor=\"start\" x=\"3816\" y=\"-279.3\" font-family=\"Helvetica,sans-Serif\" font-size=\"14.00\" fill=\"#000000\">samples = 102</text>\n<text text-anchor=\"start\" x=\"3821.5\" y=\"-264.3\" font-family=\"Helvetica,sans-Serif\" font-size=\"14.00\" fill=\"#000000\">value = &#45;47.0</text>\n</g>\n<!-- 50&#45;&gt;51 -->\n<g id=\"edge51\" class=\"edge\">\n<title>50&#45;&gt;51</title>\n<path fill=\"none\" stroke=\"#000000\" d=\"M3982.1631,-6921.9562C3967.0656,-6642.1492 3864,-4732 3864,-4732 3864,-4732 3864,-4732 3864,-2507 3864,-2507 3864,-609.559 3864,-319.8949\"/>\n<polygon fill=\"#000000\" stroke=\"#000000\" points=\"3867.5001,-319.5259 3864,-309.5259 3860.5001,-319.5259 3867.5001,-319.5259\"/>\n</g>\n<!-- 52 -->\n<g id=\"node53\" class=\"node\">\n<title>52</title>\n<path fill=\"#fae9dc\" stroke=\"#000000\" d=\"M4086,-309.5C4086,-309.5 3966,-309.5 3966,-309.5 3960,-309.5 3954,-303.5 3954,-297.5 3954,-297.5 3954,-268.5 3954,-268.5 3954,-262.5 3960,-256.5 3966,-256.5 3966,-256.5 4086,-256.5 4086,-256.5 4092,-256.5 4098,-262.5 4098,-268.5 4098,-268.5 4098,-297.5 4098,-297.5 4098,-303.5 4092,-309.5 4086,-309.5\"/>\n<text text-anchor=\"start\" x=\"3962\" y=\"-294.3\" font-family=\"Helvetica,sans-Serif\" font-size=\"14.00\" fill=\"#000000\">squared_error = 0.0</text>\n<text text-anchor=\"start\" x=\"3982\" y=\"-279.3\" font-family=\"Helvetica,sans-Serif\" font-size=\"14.00\" fill=\"#000000\">samples = 92</text>\n<text text-anchor=\"start\" x=\"3983.5\" y=\"-264.3\" font-family=\"Helvetica,sans-Serif\" font-size=\"14.00\" fill=\"#000000\">value = &#45;46.0</text>\n</g>\n<!-- 50&#45;&gt;52 -->\n<g id=\"edge52\" class=\"edge\">\n<title>50&#45;&gt;52</title>\n<path fill=\"none\" stroke=\"#000000\" d=\"M3984.6429,-6921.9562C3989.927,-6642.1492 4026,-4732 4026,-4732 4026,-4732 4026,-4732 4026,-2507 4026,-2507 4026,-609.559 4026,-319.8949\"/>\n<polygon fill=\"#000000\" stroke=\"#000000\" points=\"4029.5001,-319.5259 4026,-309.5259 4022.5001,-319.5259 4029.5001,-319.5259\"/>\n</g>\n<!-- 54 -->\n<g id=\"node55\" class=\"node\">\n<title>54</title>\n<path fill=\"#fae7da\" stroke=\"#000000\" d=\"M4449,-6990C4449,-6990 4251,-6990 4251,-6990 4245,-6990 4239,-6984 4239,-6978 4239,-6978 4239,-6934 4239,-6934 4239,-6928 4245,-6922 4251,-6922 4251,-6922 4449,-6922 4449,-6922 4455,-6922 4461,-6928 4461,-6934 4461,-6934 4461,-6978 4461,-6978 4461,-6984 4455,-6990 4449,-6990\"/>\n<text text-anchor=\"start\" x=\"4247\" y=\"-6974.8\" font-family=\"Helvetica,sans-Serif\" font-size=\"14.00\" fill=\"#000000\">lastReportedSpeedMPH ≤ &#45;44.5</text>\n<text text-anchor=\"start\" x=\"4282\" y=\"-6959.8\" font-family=\"Helvetica,sans-Serif\" font-size=\"14.00\" fill=\"#000000\">squared_error = 0.25</text>\n<text text-anchor=\"start\" x=\"4302\" y=\"-6944.8\" font-family=\"Helvetica,sans-Serif\" font-size=\"14.00\" fill=\"#000000\">samples = 250</text>\n<text text-anchor=\"start\" x=\"4307.5\" y=\"-6929.8\" font-family=\"Helvetica,sans-Serif\" font-size=\"14.00\" fill=\"#000000\">value = &#45;44.5</text>\n</g>\n<!-- 53&#45;&gt;54 -->\n<g id=\"edge54\" class=\"edge\">\n<title>53&#45;&gt;54</title>\n<path fill=\"none\" stroke=\"#000000\" d=\"M4428.5094,-8033.8074C4416.7114,-7871.8403 4366.4688,-7182.0904 4353.2158,-7000.1472\"/>\n<polygon fill=\"#000000\" stroke=\"#000000\" points=\"4356.7036,-6999.8521 4352.4863,-6990.1328 4349.7221,-7000.3607 4356.7036,-6999.8521\"/>\n</g>\n<!-- 57 -->\n<g id=\"node58\" class=\"node\">\n<title>57</title>\n<path fill=\"#fae6d8\" stroke=\"#000000\" d=\"M4572,-309.5C4572,-309.5 4452,-309.5 4452,-309.5 4446,-309.5 4440,-303.5 4440,-297.5 4440,-297.5 4440,-268.5 4440,-268.5 4440,-262.5 4446,-256.5 4452,-256.5 4452,-256.5 4572,-256.5 4572,-256.5 4578,-256.5 4584,-262.5 4584,-268.5 4584,-268.5 4584,-297.5 4584,-297.5 4584,-303.5 4578,-309.5 4572,-309.5\"/>\n<text text-anchor=\"start\" x=\"4448\" y=\"-294.3\" font-family=\"Helvetica,sans-Serif\" font-size=\"14.00\" fill=\"#000000\">squared_error = 0.0</text>\n<text text-anchor=\"start\" x=\"4464\" y=\"-279.3\" font-family=\"Helvetica,sans-Serif\" font-size=\"14.00\" fill=\"#000000\">samples = 141</text>\n<text text-anchor=\"start\" x=\"4469.5\" y=\"-264.3\" font-family=\"Helvetica,sans-Serif\" font-size=\"14.00\" fill=\"#000000\">value = &#45;43.0</text>\n</g>\n<!-- 53&#45;&gt;57 -->\n<g id=\"edge57\" class=\"edge\">\n<title>53&#45;&gt;57</title>\n<path fill=\"none\" stroke=\"#000000\" d=\"M4432.2399,-8033.9562C4442.4307,-7754.1492 4512,-5844 4512,-5844 4512,-5844 4512,-5844 4512,-2507 4512,-2507 4512,-609.559 4512,-319.8949\"/>\n<polygon fill=\"#000000\" stroke=\"#000000\" points=\"4515.5001,-319.5259 4512,-309.5259 4508.5001,-319.5259 4515.5001,-319.5259\"/>\n</g>\n<!-- 55 -->\n<g id=\"node56\" class=\"node\">\n<title>55</title>\n<path fill=\"#fae8da\" stroke=\"#000000\" d=\"M4248,-309.5C4248,-309.5 4128,-309.5 4128,-309.5 4122,-309.5 4116,-303.5 4116,-297.5 4116,-297.5 4116,-268.5 4116,-268.5 4116,-262.5 4122,-256.5 4128,-256.5 4128,-256.5 4248,-256.5 4248,-256.5 4254,-256.5 4260,-262.5 4260,-268.5 4260,-268.5 4260,-297.5 4260,-297.5 4260,-303.5 4254,-309.5 4248,-309.5\"/>\n<text text-anchor=\"start\" x=\"4124\" y=\"-294.3\" font-family=\"Helvetica,sans-Serif\" font-size=\"14.00\" fill=\"#000000\">squared_error = 0.0</text>\n<text text-anchor=\"start\" x=\"4140\" y=\"-279.3\" font-family=\"Helvetica,sans-Serif\" font-size=\"14.00\" fill=\"#000000\">samples = 126</text>\n<text text-anchor=\"start\" x=\"4145.5\" y=\"-264.3\" font-family=\"Helvetica,sans-Serif\" font-size=\"14.00\" fill=\"#000000\">value = &#45;45.0</text>\n</g>\n<!-- 54&#45;&gt;55 -->\n<g id=\"edge55\" class=\"edge\">\n<title>54&#45;&gt;55</title>\n<path fill=\"none\" stroke=\"#000000\" d=\"M4347.5202,-6921.9562C4327.1386,-6642.1492 4188,-4732 4188,-4732 4188,-4732 4188,-4732 4188,-2507 4188,-2507 4188,-609.559 4188,-319.8949\"/>\n<polygon fill=\"#000000\" stroke=\"#000000\" points=\"4191.5001,-319.5259 4188,-309.5259 4184.5001,-319.5259 4191.5001,-319.5259\"/>\n</g>\n<!-- 56 -->\n<g id=\"node57\" class=\"node\">\n<title>56</title>\n<path fill=\"#fae7d9\" stroke=\"#000000\" d=\"M4410,-309.5C4410,-309.5 4290,-309.5 4290,-309.5 4284,-309.5 4278,-303.5 4278,-297.5 4278,-297.5 4278,-268.5 4278,-268.5 4278,-262.5 4284,-256.5 4290,-256.5 4290,-256.5 4410,-256.5 4410,-256.5 4416,-256.5 4422,-262.5 4422,-268.5 4422,-268.5 4422,-297.5 4422,-297.5 4422,-303.5 4416,-309.5 4410,-309.5\"/>\n<text text-anchor=\"start\" x=\"4286\" y=\"-294.3\" font-family=\"Helvetica,sans-Serif\" font-size=\"14.00\" fill=\"#000000\">squared_error = 0.0</text>\n<text text-anchor=\"start\" x=\"4302\" y=\"-279.3\" font-family=\"Helvetica,sans-Serif\" font-size=\"14.00\" fill=\"#000000\">samples = 124</text>\n<text text-anchor=\"start\" x=\"4307.5\" y=\"-264.3\" font-family=\"Helvetica,sans-Serif\" font-size=\"14.00\" fill=\"#000000\">value = &#45;44.0</text>\n</g>\n<!-- 54&#45;&gt;56 -->\n<g id=\"edge56\" class=\"edge\">\n<title>54&#45;&gt;56</title>\n<path fill=\"none\" stroke=\"#000000\" d=\"M4350,-6921.9562C4350,-6642.1492 4350,-4732 4350,-4732 4350,-4732 4350,-4732 4350,-2507 4350,-2507 4350,-609.559 4350,-319.8949\"/>\n<polygon fill=\"#000000\" stroke=\"#000000\" points=\"4353.5001,-319.5259 4350,-309.5259 4346.5001,-319.5259 4353.5001,-319.5259\"/>\n</g>\n<!-- 59 -->\n<g id=\"node60\" class=\"node\">\n<title>59</title>\n<path fill=\"#f9e4d5\" stroke=\"#000000\" d=\"M4973,-8102C4973,-8102 4775,-8102 4775,-8102 4769,-8102 4763,-8096 4763,-8090 4763,-8090 4763,-8046 4763,-8046 4763,-8040 4769,-8034 4775,-8034 4775,-8034 4973,-8034 4973,-8034 4979,-8034 4985,-8040 4985,-8046 4985,-8046 4985,-8090 4985,-8090 4985,-8096 4979,-8102 4973,-8102\"/>\n<text text-anchor=\"start\" x=\"4771\" y=\"-8086.8\" font-family=\"Helvetica,sans-Serif\" font-size=\"14.00\" fill=\"#000000\">lastReportedSpeedMPH ≤ &#45;40.5</text>\n<text text-anchor=\"start\" x=\"4806\" y=\"-8071.8\" font-family=\"Helvetica,sans-Serif\" font-size=\"14.00\" fill=\"#000000\">squared_error = 0.63</text>\n<text text-anchor=\"start\" x=\"4826\" y=\"-8056.8\" font-family=\"Helvetica,sans-Serif\" font-size=\"14.00\" fill=\"#000000\">samples = 502</text>\n<text text-anchor=\"start\" x=\"4827.5\" y=\"-8041.8\" font-family=\"Helvetica,sans-Serif\" font-size=\"14.00\" fill=\"#000000\">value = &#45;40.93</text>\n</g>\n<!-- 58&#45;&gt;59 -->\n<g id=\"edge59\" class=\"edge\">\n<title>58&#45;&gt;59</title>\n<path fill=\"none\" stroke=\"#000000\" d=\"M4874,-9145.8074C4874,-8983.8403 4874,-8294.0904 4874,-8112.1472\"/>\n<polygon fill=\"#000000\" stroke=\"#000000\" points=\"4877.5001,-8112.1328 4874,-8102.1328 4870.5001,-8112.1329 4877.5001,-8112.1328\"/>\n</g>\n<!-- 64 -->\n<g id=\"node65\" class=\"node\">\n<title>64</title>\n<path fill=\"#f9e1d0\" stroke=\"#000000\" d=\"M5303.5,-8102C5303.5,-8102 5052.5,-8102 5052.5,-8102 5046.5,-8102 5040.5,-8096 5040.5,-8090 5040.5,-8090 5040.5,-8046 5040.5,-8046 5040.5,-8040 5046.5,-8034 5052.5,-8034 5052.5,-8034 5303.5,-8034 5303.5,-8034 5309.5,-8034 5315.5,-8040 5315.5,-8046 5315.5,-8046 5315.5,-8090 5315.5,-8090 5315.5,-8096 5309.5,-8102 5303.5,-8102\"/>\n<text text-anchor=\"start\" x=\"5048.5\" y=\"-8086.8\" font-family=\"Helvetica,sans-Serif\" font-size=\"14.00\" fill=\"#000000\">lastReportedPosition.speedMPH ≤ &#45;37.5</text>\n<text text-anchor=\"start\" x=\"5110\" y=\"-8071.8\" font-family=\"Helvetica,sans-Serif\" font-size=\"14.00\" fill=\"#000000\">squared_error = 1.15</text>\n<text text-anchor=\"start\" x=\"5130\" y=\"-8056.8\" font-family=\"Helvetica,sans-Serif\" font-size=\"14.00\" fill=\"#000000\">samples = 765</text>\n<text text-anchor=\"start\" x=\"5131.5\" y=\"-8041.8\" font-family=\"Helvetica,sans-Serif\" font-size=\"14.00\" fill=\"#000000\">value = &#45;37.68</text>\n</g>\n<!-- 58&#45;&gt;64 -->\n<g id=\"edge64\" class=\"edge\">\n<title>58&#45;&gt;64</title>\n<path fill=\"none\" stroke=\"#000000\" d=\"M4883.3476,-9145.8074C4927.6484,-8983.7597 5116.3789,-8293.4036 5166.0052,-8111.8758\"/>\n<polygon fill=\"#000000\" stroke=\"#000000\" points=\"5169.4077,-8112.7019 5168.6687,-8102.1328 5162.6555,-8110.8559 5169.4077,-8112.7019\"/>\n</g>\n<!-- 60 -->\n<g id=\"node61\" class=\"node\">\n<title>60</title>\n<path fill=\"#fae5d5\" stroke=\"#000000\" d=\"M4935,-6990C4935,-6990 4737,-6990 4737,-6990 4731,-6990 4725,-6984 4725,-6978 4725,-6978 4725,-6934 4725,-6934 4725,-6928 4731,-6922 4737,-6922 4737,-6922 4935,-6922 4935,-6922 4941,-6922 4947,-6928 4947,-6934 4947,-6934 4947,-6978 4947,-6978 4947,-6984 4941,-6990 4935,-6990\"/>\n<text text-anchor=\"start\" x=\"4733\" y=\"-6974.8\" font-family=\"Helvetica,sans-Serif\" font-size=\"14.00\" fill=\"#000000\">lastReportedSpeedMPH ≤ &#45;41.5</text>\n<text text-anchor=\"start\" x=\"4768\" y=\"-6959.8\" font-family=\"Helvetica,sans-Serif\" font-size=\"14.00\" fill=\"#000000\">squared_error = 0.25</text>\n<text text-anchor=\"start\" x=\"4788\" y=\"-6944.8\" font-family=\"Helvetica,sans-Serif\" font-size=\"14.00\" fill=\"#000000\">samples = 324</text>\n<text text-anchor=\"start\" x=\"4789.5\" y=\"-6929.8\" font-family=\"Helvetica,sans-Serif\" font-size=\"14.00\" fill=\"#000000\">value = &#45;41.44</text>\n</g>\n<!-- 59&#45;&gt;60 -->\n<g id=\"edge60\" class=\"edge\">\n<title>59&#45;&gt;60</title>\n<path fill=\"none\" stroke=\"#000000\" d=\"M4872.8315,-8033.8074C4867.2967,-7871.8403 4843.7261,-7182.0904 4837.5086,-7000.1472\"/>\n<polygon fill=\"#000000\" stroke=\"#000000\" points=\"4841.006,-7000.0074 4837.1664,-6990.1328 4834.0101,-7000.2466 4841.006,-7000.0074\"/>\n</g>\n<!-- 63 -->\n<g id=\"node64\" class=\"node\">\n<title>63</title>\n<path fill=\"#f9e3d3\" stroke=\"#000000\" d=\"M5058,-309.5C5058,-309.5 4938,-309.5 4938,-309.5 4932,-309.5 4926,-303.5 4926,-297.5 4926,-297.5 4926,-268.5 4926,-268.5 4926,-262.5 4932,-256.5 4938,-256.5 4938,-256.5 5058,-256.5 5058,-256.5 5064,-256.5 5070,-262.5 5070,-268.5 5070,-268.5 5070,-297.5 5070,-297.5 5070,-303.5 5064,-309.5 5058,-309.5\"/>\n<text text-anchor=\"start\" x=\"4934\" y=\"-294.3\" font-family=\"Helvetica,sans-Serif\" font-size=\"14.00\" fill=\"#000000\">squared_error = 0.0</text>\n<text text-anchor=\"start\" x=\"4950\" y=\"-279.3\" font-family=\"Helvetica,sans-Serif\" font-size=\"14.00\" fill=\"#000000\">samples = 178</text>\n<text text-anchor=\"start\" x=\"4955.5\" y=\"-264.3\" font-family=\"Helvetica,sans-Serif\" font-size=\"14.00\" fill=\"#000000\">value = &#45;40.0</text>\n</g>\n<!-- 59&#45;&gt;63 -->\n<g id=\"edge63\" class=\"edge\">\n<title>59&#45;&gt;63</title>\n<path fill=\"none\" stroke=\"#000000\" d=\"M4876.5895,-8033.9572C4890.5279,-7850.7183 4956,-6990 4956,-6990 4956,-6990 4998,-5844 4998,-5844 4998,-5844 4998,-5844 4998,-2507 4998,-2507 4998,-609.559 4998,-319.8949\"/>\n<polygon fill=\"#000000\" stroke=\"#000000\" points=\"5001.5001,-319.5259 4998,-309.5259 4994.5001,-319.5259 5001.5001,-319.5259\"/>\n</g>\n<!-- 61 -->\n<g id=\"node62\" class=\"node\">\n<title>61</title>\n<path fill=\"#fae5d6\" stroke=\"#000000\" d=\"M4734,-309.5C4734,-309.5 4614,-309.5 4614,-309.5 4608,-309.5 4602,-303.5 4602,-297.5 4602,-297.5 4602,-268.5 4602,-268.5 4602,-262.5 4608,-256.5 4614,-256.5 4614,-256.5 4734,-256.5 4734,-256.5 4740,-256.5 4746,-262.5 4746,-268.5 4746,-268.5 4746,-297.5 4746,-297.5 4746,-303.5 4740,-309.5 4734,-309.5\"/>\n<text text-anchor=\"start\" x=\"4610\" y=\"-294.3\" font-family=\"Helvetica,sans-Serif\" font-size=\"14.00\" fill=\"#000000\">squared_error = 0.0</text>\n<text text-anchor=\"start\" x=\"4626\" y=\"-279.3\" font-family=\"Helvetica,sans-Serif\" font-size=\"14.00\" fill=\"#000000\">samples = 143</text>\n<text text-anchor=\"start\" x=\"4631.5\" y=\"-264.3\" font-family=\"Helvetica,sans-Serif\" font-size=\"14.00\" fill=\"#000000\">value = &#45;42.0</text>\n</g>\n<!-- 60&#45;&gt;61 -->\n<g id=\"edge61\" class=\"edge\">\n<title>60&#45;&gt;61</title>\n<path fill=\"none\" stroke=\"#000000\" d=\"M4833.5202,-6921.9562C4813.1386,-6642.1492 4674,-4732 4674,-4732 4674,-4732 4674,-4732 4674,-2507 4674,-2507 4674,-609.559 4674,-319.8949\"/>\n<polygon fill=\"#000000\" stroke=\"#000000\" points=\"4677.5001,-319.5259 4674,-309.5259 4670.5001,-319.5259 4677.5001,-319.5259\"/>\n</g>\n<!-- 62 -->\n<g id=\"node63\" class=\"node\">\n<title>62</title>\n<path fill=\"#f9e4d5\" stroke=\"#000000\" d=\"M4896,-309.5C4896,-309.5 4776,-309.5 4776,-309.5 4770,-309.5 4764,-303.5 4764,-297.5 4764,-297.5 4764,-268.5 4764,-268.5 4764,-262.5 4770,-256.5 4776,-256.5 4776,-256.5 4896,-256.5 4896,-256.5 4902,-256.5 4908,-262.5 4908,-268.5 4908,-268.5 4908,-297.5 4908,-297.5 4908,-303.5 4902,-309.5 4896,-309.5\"/>\n<text text-anchor=\"start\" x=\"4772\" y=\"-294.3\" font-family=\"Helvetica,sans-Serif\" font-size=\"14.00\" fill=\"#000000\">squared_error = 0.0</text>\n<text text-anchor=\"start\" x=\"4788\" y=\"-279.3\" font-family=\"Helvetica,sans-Serif\" font-size=\"14.00\" fill=\"#000000\">samples = 181</text>\n<text text-anchor=\"start\" x=\"4793.5\" y=\"-264.3\" font-family=\"Helvetica,sans-Serif\" font-size=\"14.00\" fill=\"#000000\">value = &#45;41.0</text>\n</g>\n<!-- 60&#45;&gt;62 -->\n<g id=\"edge62\" class=\"edge\">\n<title>60&#45;&gt;62</title>\n<path fill=\"none\" stroke=\"#000000\" d=\"M4836,-6921.9562C4836,-6642.1492 4836,-4732 4836,-4732 4836,-4732 4836,-4732 4836,-2507 4836,-2507 4836,-609.559 4836,-319.8949\"/>\n<polygon fill=\"#000000\" stroke=\"#000000\" points=\"4839.5001,-319.5259 4836,-309.5259 4832.5001,-319.5259 4839.5001,-319.5259\"/>\n</g>\n<!-- 65 -->\n<g id=\"node66\" class=\"node\">\n<title>65</title>\n<path fill=\"#f9e2d1\" stroke=\"#000000\" d=\"M5303.5,-6990C5303.5,-6990 5052.5,-6990 5052.5,-6990 5046.5,-6990 5040.5,-6984 5040.5,-6978 5040.5,-6978 5040.5,-6934 5040.5,-6934 5040.5,-6928 5046.5,-6922 5052.5,-6922 5052.5,-6922 5303.5,-6922 5303.5,-6922 5309.5,-6922 5315.5,-6928 5315.5,-6934 5315.5,-6934 5315.5,-6978 5315.5,-6978 5315.5,-6984 5309.5,-6990 5303.5,-6990\"/>\n<text text-anchor=\"start\" x=\"5048.5\" y=\"-6974.8\" font-family=\"Helvetica,sans-Serif\" font-size=\"14.00\" fill=\"#000000\">lastReportedPosition.speedMPH ≤ &#45;38.5</text>\n<text text-anchor=\"start\" x=\"5110\" y=\"-6959.8\" font-family=\"Helvetica,sans-Serif\" font-size=\"14.00\" fill=\"#000000\">squared_error = 0.25</text>\n<text text-anchor=\"start\" x=\"5130\" y=\"-6944.8\" font-family=\"Helvetica,sans-Serif\" font-size=\"14.00\" fill=\"#000000\">samples = 436</text>\n<text text-anchor=\"start\" x=\"5135.5\" y=\"-6929.8\" font-family=\"Helvetica,sans-Serif\" font-size=\"14.00\" fill=\"#000000\">value = &#45;38.5</text>\n</g>\n<!-- 64&#45;&gt;65 -->\n<g id=\"edge65\" class=\"edge\">\n<title>64&#45;&gt;65</title>\n<path fill=\"none\" stroke=\"#000000\" d=\"M5178,-8033.8074C5178,-7871.8403 5178,-7182.0904 5178,-7000.1472\"/>\n<polygon fill=\"#000000\" stroke=\"#000000\" points=\"5181.5001,-7000.1328 5178,-6990.1328 5174.5001,-7000.1329 5181.5001,-7000.1328\"/>\n</g>\n<!-- 68 -->\n<g id=\"node69\" class=\"node\">\n<title>68</title>\n<path fill=\"#f9e0cf\" stroke=\"#000000\" d=\"M5609.5,-6990C5609.5,-6990 5358.5,-6990 5358.5,-6990 5352.5,-6990 5346.5,-6984 5346.5,-6978 5346.5,-6978 5346.5,-6934 5346.5,-6934 5346.5,-6928 5352.5,-6922 5358.5,-6922 5358.5,-6922 5609.5,-6922 5609.5,-6922 5615.5,-6922 5621.5,-6928 5621.5,-6934 5621.5,-6934 5621.5,-6978 5621.5,-6978 5621.5,-6984 5615.5,-6990 5609.5,-6990\"/>\n<text text-anchor=\"start\" x=\"5354.5\" y=\"-6974.8\" font-family=\"Helvetica,sans-Serif\" font-size=\"14.00\" fill=\"#000000\">lastReportedPosition.speedMPH ≤ &#45;36.5</text>\n<text text-anchor=\"start\" x=\"5416\" y=\"-6959.8\" font-family=\"Helvetica,sans-Serif\" font-size=\"14.00\" fill=\"#000000\">squared_error = 0.24</text>\n<text text-anchor=\"start\" x=\"5436\" y=\"-6944.8\" font-family=\"Helvetica,sans-Serif\" font-size=\"14.00\" fill=\"#000000\">samples = 329</text>\n<text text-anchor=\"start\" x=\"5437.5\" y=\"-6929.8\" font-family=\"Helvetica,sans-Serif\" font-size=\"14.00\" fill=\"#000000\">value = &#45;36.59</text>\n</g>\n<!-- 64&#45;&gt;68 -->\n<g id=\"edge68\" class=\"edge\">\n<title>64&#45;&gt;68</title>\n<path fill=\"none\" stroke=\"#000000\" d=\"M5187.4091,-8033.8074C5232.0014,-7871.7597 5421.9735,-7181.4036 5471.9263,-6999.8758\"/>\n<polygon fill=\"#000000\" stroke=\"#000000\" points=\"5475.3286,-7000.7031 5474.6073,-6990.1328 5468.5795,-6998.8458 5475.3286,-7000.7031\"/>\n</g>\n<!-- 66 -->\n<g id=\"node67\" class=\"node\">\n<title>66</title>\n<path fill=\"#f9e2d2\" stroke=\"#000000\" d=\"M5220,-309.5C5220,-309.5 5100,-309.5 5100,-309.5 5094,-309.5 5088,-303.5 5088,-297.5 5088,-297.5 5088,-268.5 5088,-268.5 5088,-262.5 5094,-256.5 5100,-256.5 5100,-256.5 5220,-256.5 5220,-256.5 5226,-256.5 5232,-262.5 5232,-268.5 5232,-268.5 5232,-297.5 5232,-297.5 5232,-303.5 5226,-309.5 5220,-309.5\"/>\n<text text-anchor=\"start\" x=\"5096\" y=\"-294.3\" font-family=\"Helvetica,sans-Serif\" font-size=\"14.00\" fill=\"#000000\">squared_error = 0.0</text>\n<text text-anchor=\"start\" x=\"5112\" y=\"-279.3\" font-family=\"Helvetica,sans-Serif\" font-size=\"14.00\" fill=\"#000000\">samples = 219</text>\n<text text-anchor=\"start\" x=\"5117.5\" y=\"-264.3\" font-family=\"Helvetica,sans-Serif\" font-size=\"14.00\" fill=\"#000000\">value = &#45;39.0</text>\n</g>\n<!-- 65&#45;&gt;66 -->\n<g id=\"edge66\" class=\"edge\">\n<title>65&#45;&gt;66</title>\n<path fill=\"none\" stroke=\"#000000\" d=\"M5177.7245,-6921.9562C5175.4598,-6642.1492 5160,-4732 5160,-4732 5160,-4732 5160,-4732 5160,-2507 5160,-2507 5160,-609.559 5160,-319.8949\"/>\n<polygon fill=\"#000000\" stroke=\"#000000\" points=\"5163.5001,-319.5259 5160,-309.5259 5156.5001,-319.5259 5163.5001,-319.5259\"/>\n</g>\n<!-- 67 -->\n<g id=\"node68\" class=\"node\">\n<title>67</title>\n<path fill=\"#f9e1d1\" stroke=\"#000000\" d=\"M5382,-309.5C5382,-309.5 5262,-309.5 5262,-309.5 5256,-309.5 5250,-303.5 5250,-297.5 5250,-297.5 5250,-268.5 5250,-268.5 5250,-262.5 5256,-256.5 5262,-256.5 5262,-256.5 5382,-256.5 5382,-256.5 5388,-256.5 5394,-262.5 5394,-268.5 5394,-268.5 5394,-297.5 5394,-297.5 5394,-303.5 5388,-309.5 5382,-309.5\"/>\n<text text-anchor=\"start\" x=\"5258\" y=\"-294.3\" font-family=\"Helvetica,sans-Serif\" font-size=\"14.00\" fill=\"#000000\">squared_error = 0.0</text>\n<text text-anchor=\"start\" x=\"5274\" y=\"-279.3\" font-family=\"Helvetica,sans-Serif\" font-size=\"14.00\" fill=\"#000000\">samples = 217</text>\n<text text-anchor=\"start\" x=\"5279.5\" y=\"-264.3\" font-family=\"Helvetica,sans-Serif\" font-size=\"14.00\" fill=\"#000000\">value = &#45;38.0</text>\n</g>\n<!-- 65&#45;&gt;67 -->\n<g id=\"edge67\" class=\"edge\">\n<title>65&#45;&gt;67</title>\n<path fill=\"none\" stroke=\"#000000\" d=\"M5180.2043,-6921.9562C5198.3213,-6642.1492 5322,-4732 5322,-4732 5322,-4732 5322,-4732 5322,-2507 5322,-2507 5322,-609.559 5322,-319.8949\"/>\n<polygon fill=\"#000000\" stroke=\"#000000\" points=\"5325.5001,-319.5259 5322,-309.5259 5318.5001,-319.5259 5325.5001,-319.5259\"/>\n</g>\n<!-- 69 -->\n<g id=\"node70\" class=\"node\">\n<title>69</title>\n<path fill=\"#f9e1cf\" stroke=\"#000000\" d=\"M5544,-309.5C5544,-309.5 5424,-309.5 5424,-309.5 5418,-309.5 5412,-303.5 5412,-297.5 5412,-297.5 5412,-268.5 5412,-268.5 5412,-262.5 5418,-256.5 5424,-256.5 5424,-256.5 5544,-256.5 5544,-256.5 5550,-256.5 5556,-262.5 5556,-268.5 5556,-268.5 5556,-297.5 5556,-297.5 5556,-303.5 5550,-309.5 5544,-309.5\"/>\n<text text-anchor=\"start\" x=\"5420\" y=\"-294.3\" font-family=\"Helvetica,sans-Serif\" font-size=\"14.00\" fill=\"#000000\">squared_error = 0.0</text>\n<text text-anchor=\"start\" x=\"5436\" y=\"-279.3\" font-family=\"Helvetica,sans-Serif\" font-size=\"14.00\" fill=\"#000000\">samples = 193</text>\n<text text-anchor=\"start\" x=\"5441.5\" y=\"-264.3\" font-family=\"Helvetica,sans-Serif\" font-size=\"14.00\" fill=\"#000000\">value = &#45;37.0</text>\n</g>\n<!-- 68&#45;&gt;69 -->\n<g id=\"edge69\" class=\"edge\">\n<title>68&#45;&gt;69</title>\n<path fill=\"none\" stroke=\"#000000\" d=\"M5484,-6921.9562C5484,-6642.1492 5484,-4732 5484,-4732 5484,-4732 5484,-4732 5484,-2507 5484,-2507 5484,-609.559 5484,-319.8949\"/>\n<polygon fill=\"#000000\" stroke=\"#000000\" points=\"5487.5001,-319.5259 5484,-309.5259 5480.5001,-319.5259 5487.5001,-319.5259\"/>\n</g>\n<!-- 70 -->\n<g id=\"node71\" class=\"node\">\n<title>70</title>\n<path fill=\"#f9e0ce\" stroke=\"#000000\" d=\"M5706,-309.5C5706,-309.5 5586,-309.5 5586,-309.5 5580,-309.5 5574,-303.5 5574,-297.5 5574,-297.5 5574,-268.5 5574,-268.5 5574,-262.5 5580,-256.5 5586,-256.5 5586,-256.5 5706,-256.5 5706,-256.5 5712,-256.5 5718,-262.5 5718,-268.5 5718,-268.5 5718,-297.5 5718,-297.5 5718,-303.5 5712,-309.5 5706,-309.5\"/>\n<text text-anchor=\"start\" x=\"5582\" y=\"-294.3\" font-family=\"Helvetica,sans-Serif\" font-size=\"14.00\" fill=\"#000000\">squared_error = 0.0</text>\n<text text-anchor=\"start\" x=\"5598\" y=\"-279.3\" font-family=\"Helvetica,sans-Serif\" font-size=\"14.00\" fill=\"#000000\">samples = 136</text>\n<text text-anchor=\"start\" x=\"5603.5\" y=\"-264.3\" font-family=\"Helvetica,sans-Serif\" font-size=\"14.00\" fill=\"#000000\">value = &#45;36.0</text>\n</g>\n<!-- 68&#45;&gt;70 -->\n<g id=\"edge70\" class=\"edge\">\n<title>68&#45;&gt;70</title>\n<path fill=\"none\" stroke=\"#000000\" d=\"M5486.4798,-6921.9562C5506.8614,-6642.1492 5646,-4732 5646,-4732 5646,-4732 5646,-4732 5646,-2507 5646,-2507 5646,-609.559 5646,-319.8949\"/>\n<polygon fill=\"#000000\" stroke=\"#000000\" points=\"5649.5001,-319.5259 5646,-309.5259 5642.5001,-319.5259 5649.5001,-319.5259\"/>\n</g>\n<!-- 72 -->\n<g id=\"node73\" class=\"node\">\n<title>72</title>\n<path fill=\"#f7dac6\" stroke=\"#000000\" d=\"M7286.5,-10326C7286.5,-10326 7035.5,-10326 7035.5,-10326 7029.5,-10326 7023.5,-10320 7023.5,-10314 7023.5,-10314 7023.5,-10270 7023.5,-10270 7023.5,-10264 7029.5,-10258 7035.5,-10258 7035.5,-10258 7286.5,-10258 7286.5,-10258 7292.5,-10258 7298.5,-10264 7298.5,-10270 7298.5,-10270 7298.5,-10314 7298.5,-10314 7298.5,-10320 7292.5,-10326 7286.5,-10326\"/>\n<text text-anchor=\"start\" x=\"7031.5\" y=\"-10310.8\" font-family=\"Helvetica,sans-Serif\" font-size=\"14.00\" fill=\"#000000\">lastReportedPosition.speedMPH ≤ &#45;29.5</text>\n<text text-anchor=\"start\" x=\"7093\" y=\"-10295.8\" font-family=\"Helvetica,sans-Serif\" font-size=\"14.00\" fill=\"#000000\">squared_error = 13.9</text>\n<text text-anchor=\"start\" x=\"7113\" y=\"-10280.8\" font-family=\"Helvetica,sans-Serif\" font-size=\"14.00\" fill=\"#000000\">samples = 839</text>\n<text text-anchor=\"start\" x=\"7114.5\" y=\"-10265.8\" font-family=\"Helvetica,sans-Serif\" font-size=\"14.00\" fill=\"#000000\">value = &#45;30.23</text>\n</g>\n<!-- 71&#45;&gt;72 -->\n<g id=\"edge72\" class=\"edge\">\n<title>71&#45;&gt;72</title>\n<path fill=\"none\" stroke=\"#000000\" d=\"M7712.504,-11369.8074C7629.4619,-11207.5178 7275.2818,-10515.3416 7183.0367,-10335.0664\"/>\n<polygon fill=\"#000000\" stroke=\"#000000\" points=\"7186.1365,-10333.4408 7178.4655,-10326.1328 7179.9049,-10336.6294 7186.1365,-10333.4408\"/>\n</g>\n<!-- 97 -->\n<g id=\"node98\" class=\"node\">\n<title>97</title>\n<path fill=\"#f5cdb0\" stroke=\"#000000\" d=\"M8365,-10326C8365,-10326 8167,-10326 8167,-10326 8161,-10326 8155,-10320 8155,-10314 8155,-10314 8155,-10270 8155,-10270 8155,-10264 8161,-10258 8167,-10258 8167,-10258 8365,-10258 8365,-10258 8371,-10258 8377,-10264 8377,-10270 8377,-10270 8377,-10314 8377,-10314 8377,-10320 8371,-10326 8365,-10326\"/>\n<text text-anchor=\"start\" x=\"8163\" y=\"-10310.8\" font-family=\"Helvetica,sans-Serif\" font-size=\"14.00\" fill=\"#000000\">lastReportedSpeedMPH ≤ &#45;15.5</text>\n<text text-anchor=\"start\" x=\"8193.5\" y=\"-10295.8\" font-family=\"Helvetica,sans-Serif\" font-size=\"14.00\" fill=\"#000000\">squared_error = 20.92</text>\n<text text-anchor=\"start\" x=\"8218\" y=\"-10280.8\" font-family=\"Helvetica,sans-Serif\" font-size=\"14.00\" fill=\"#000000\">samples = 337</text>\n<text text-anchor=\"start\" x=\"8219.5\" y=\"-10265.8\" font-family=\"Helvetica,sans-Serif\" font-size=\"14.00\" fill=\"#000000\">value = &#45;15.22</text>\n</g>\n<!-- 71&#45;&gt;97 -->\n<g id=\"edge97\" class=\"edge\">\n<title>71&#45;&gt;97</title>\n<path fill=\"none\" stroke=\"#000000\" d=\"M7746.4813,-11369.8074C7824.6684,-11207.5985 8158.0147,-10516.0292 8245.1117,-10335.3355\"/>\n<polygon fill=\"#000000\" stroke=\"#000000\" points=\"8248.3582,-10336.6607 8249.5475,-10326.1328 8242.0525,-10333.6212 8248.3582,-10336.6607\"/>\n</g>\n<!-- 73 -->\n<g id=\"node74\" class=\"node\">\n<title>73</title>\n<path fill=\"#f8ddc9\" stroke=\"#000000\" d=\"M6500.5,-9214C6500.5,-9214 6249.5,-9214 6249.5,-9214 6243.5,-9214 6237.5,-9208 6237.5,-9202 6237.5,-9202 6237.5,-9158 6237.5,-9158 6237.5,-9152 6243.5,-9146 6249.5,-9146 6249.5,-9146 6500.5,-9146 6500.5,-9146 6506.5,-9146 6512.5,-9152 6512.5,-9158 6512.5,-9158 6512.5,-9202 6512.5,-9202 6512.5,-9208 6506.5,-9214 6500.5,-9214\"/>\n<text text-anchor=\"start\" x=\"6245.5\" y=\"-9198.8\" font-family=\"Helvetica,sans-Serif\" font-size=\"14.00\" fill=\"#000000\">lastReportedPosition.speedMPH ≤ &#45;32.5</text>\n<text text-anchor=\"start\" x=\"6307\" y=\"-9183.8\" font-family=\"Helvetica,sans-Serif\" font-size=\"14.00\" fill=\"#000000\">squared_error = 2.98</text>\n<text text-anchor=\"start\" x=\"6327\" y=\"-9168.8\" font-family=\"Helvetica,sans-Serif\" font-size=\"14.00\" fill=\"#000000\">samples = 498</text>\n<text text-anchor=\"start\" x=\"6328.5\" y=\"-9153.8\" font-family=\"Helvetica,sans-Serif\" font-size=\"14.00\" fill=\"#000000\">value = &#45;32.91</text>\n</g>\n<!-- 72&#45;&gt;73 -->\n<g id=\"edge73\" class=\"edge\">\n<title>72&#45;&gt;73</title>\n<path fill=\"none\" stroke=\"#000000\" d=\"M7136.8315,-10257.8074C7022.0056,-10095.3566 6531.893,-9401.9657 6405.0621,-9222.5306\"/>\n<polygon fill=\"#000000\" stroke=\"#000000\" points=\"6407.7564,-9220.2786 6399.1263,-9214.1328 6402.0402,-9224.3191 6407.7564,-9220.2786\"/>\n</g>\n<!-- 84 -->\n<g id=\"node85\" class=\"node\">\n<title>84</title>\n<path fill=\"#f7d7c0\" stroke=\"#000000\" d=\"M7260,-9214C7260,-9214 7062,-9214 7062,-9214 7056,-9214 7050,-9208 7050,-9202 7050,-9202 7050,-9158 7050,-9158 7050,-9152 7056,-9146 7062,-9146 7062,-9146 7260,-9146 7260,-9146 7266,-9146 7272,-9152 7272,-9158 7272,-9158 7272,-9202 7272,-9202 7272,-9208 7266,-9214 7260,-9214\"/>\n<text text-anchor=\"start\" x=\"7058\" y=\"-9198.8\" font-family=\"Helvetica,sans-Serif\" font-size=\"14.00\" fill=\"#000000\">lastReportedSpeedMPH ≤ &#45;26.5</text>\n<text text-anchor=\"start\" x=\"7093\" y=\"-9183.8\" font-family=\"Helvetica,sans-Serif\" font-size=\"14.00\" fill=\"#000000\">squared_error = 3.97</text>\n<text text-anchor=\"start\" x=\"7113\" y=\"-9168.8\" font-family=\"Helvetica,sans-Serif\" font-size=\"14.00\" fill=\"#000000\">samples = 341</text>\n<text text-anchor=\"start\" x=\"7114.5\" y=\"-9153.8\" font-family=\"Helvetica,sans-Serif\" font-size=\"14.00\" fill=\"#000000\">value = &#45;26.31</text>\n</g>\n<!-- 72&#45;&gt;84 -->\n<g id=\"edge84\" class=\"edge\">\n<title>72&#45;&gt;84</title>\n<path fill=\"none\" stroke=\"#000000\" d=\"M7161,-10257.8074C7161,-10095.8403 7161,-9406.0904 7161,-9224.1472\"/>\n<polygon fill=\"#000000\" stroke=\"#000000\" points=\"7164.5001,-9224.1328 7161,-9214.1328 7157.5001,-9224.1329 7164.5001,-9224.1328\"/>\n</g>\n<!-- 74 -->\n<g id=\"node75\" class=\"node\">\n<title>74</title>\n<path fill=\"#f8decb\" stroke=\"#000000\" d=\"M6110.5,-8102C6110.5,-8102 5859.5,-8102 5859.5,-8102 5853.5,-8102 5847.5,-8096 5847.5,-8090 5847.5,-8090 5847.5,-8046 5847.5,-8046 5847.5,-8040 5853.5,-8034 5859.5,-8034 5859.5,-8034 6110.5,-8034 6110.5,-8034 6116.5,-8034 6122.5,-8040 6122.5,-8046 6122.5,-8046 6122.5,-8090 6122.5,-8090 6122.5,-8096 6116.5,-8102 6110.5,-8102\"/>\n<text text-anchor=\"start\" x=\"5855.5\" y=\"-8086.8\" font-family=\"Helvetica,sans-Serif\" font-size=\"14.00\" fill=\"#000000\">lastReportedPosition.speedMPH ≤ &#45;34.5</text>\n<text text-anchor=\"start\" x=\"5917\" y=\"-8071.8\" font-family=\"Helvetica,sans-Serif\" font-size=\"14.00\" fill=\"#000000\">squared_error = 0.65</text>\n<text text-anchor=\"start\" x=\"5937\" y=\"-8056.8\" font-family=\"Helvetica,sans-Serif\" font-size=\"14.00\" fill=\"#000000\">samples = 299</text>\n<text text-anchor=\"start\" x=\"5938.5\" y=\"-8041.8\" font-family=\"Helvetica,sans-Serif\" font-size=\"14.00\" fill=\"#000000\">value = &#45;34.16</text>\n</g>\n<!-- 73&#45;&gt;74 -->\n<g id=\"edge74\" class=\"edge\">\n<title>73&#45;&gt;74</title>\n<path fill=\"none\" stroke=\"#000000\" d=\"M6363.008,-9145.8074C6306.1464,-8983.6791 6063.8124,-8292.7165 6000.2932,-8111.6053\"/>\n<polygon fill=\"#000000\" stroke=\"#000000\" points=\"6003.5834,-8110.4109 5996.971,-8102.1328 5996.9779,-8112.7277 6003.5834,-8110.4109\"/>\n</g>\n<!-- 79 -->\n<g id=\"node80\" class=\"node\">\n<title>79</title>\n<path fill=\"#f8dbc7\" stroke=\"#000000\" d=\"M6500.5,-8102C6500.5,-8102 6249.5,-8102 6249.5,-8102 6243.5,-8102 6237.5,-8096 6237.5,-8090 6237.5,-8090 6237.5,-8046 6237.5,-8046 6237.5,-8040 6243.5,-8034 6249.5,-8034 6249.5,-8034 6500.5,-8034 6500.5,-8034 6506.5,-8034 6512.5,-8040 6512.5,-8046 6512.5,-8046 6512.5,-8090 6512.5,-8090 6512.5,-8096 6506.5,-8102 6500.5,-8102\"/>\n<text text-anchor=\"start\" x=\"6245.5\" y=\"-8086.8\" font-family=\"Helvetica,sans-Serif\" font-size=\"14.00\" fill=\"#000000\">lastReportedPosition.speedMPH ≤ &#45;31.5</text>\n<text text-anchor=\"start\" x=\"6307\" y=\"-8071.8\" font-family=\"Helvetica,sans-Serif\" font-size=\"14.00\" fill=\"#000000\">squared_error = 0.66</text>\n<text text-anchor=\"start\" x=\"6327\" y=\"-8056.8\" font-family=\"Helvetica,sans-Serif\" font-size=\"14.00\" fill=\"#000000\">samples = 199</text>\n<text text-anchor=\"start\" x=\"6328.5\" y=\"-8041.8\" font-family=\"Helvetica,sans-Serif\" font-size=\"14.00\" fill=\"#000000\">value = &#45;31.05</text>\n</g>\n<!-- 73&#45;&gt;79 -->\n<g id=\"edge79\" class=\"edge\">\n<title>73&#45;&gt;79</title>\n<path fill=\"none\" stroke=\"#000000\" d=\"M6375,-9145.8074C6375,-8983.8403 6375,-8294.0904 6375,-8112.1472\"/>\n<polygon fill=\"#000000\" stroke=\"#000000\" points=\"6378.5001,-8112.1328 6375,-8102.1328 6371.5001,-8112.1329 6378.5001,-8112.1328\"/>\n</g>\n<!-- 75 -->\n<g id=\"node76\" class=\"node\">\n<title>75</title>\n<path fill=\"#f8dfcc\" stroke=\"#000000\" d=\"M5868,-309.5C5868,-309.5 5748,-309.5 5748,-309.5 5742,-309.5 5736,-303.5 5736,-297.5 5736,-297.5 5736,-268.5 5736,-268.5 5736,-262.5 5742,-256.5 5748,-256.5 5748,-256.5 5868,-256.5 5868,-256.5 5874,-256.5 5880,-262.5 5880,-268.5 5880,-268.5 5880,-297.5 5880,-297.5 5880,-303.5 5874,-309.5 5868,-309.5\"/>\n<text text-anchor=\"start\" x=\"5744\" y=\"-294.3\" font-family=\"Helvetica,sans-Serif\" font-size=\"14.00\" fill=\"#000000\">squared_error = 0.0</text>\n<text text-anchor=\"start\" x=\"5760\" y=\"-279.3\" font-family=\"Helvetica,sans-Serif\" font-size=\"14.00\" fill=\"#000000\">samples = 125</text>\n<text text-anchor=\"start\" x=\"5765.5\" y=\"-264.3\" font-family=\"Helvetica,sans-Serif\" font-size=\"14.00\" fill=\"#000000\">value = &#45;35.0</text>\n</g>\n<!-- 74&#45;&gt;75 -->\n<g id=\"edge75\" class=\"edge\">\n<title>74&#45;&gt;75</title>\n<path fill=\"none\" stroke=\"#000000\" d=\"M5981.2104,-8033.9572C5960.8128,-7850.7183 5865,-6990 5865,-6990 5865,-6990 5808,-5844 5808,-5844 5808,-5844 5808,-5844 5808,-2507 5808,-2507 5808,-609.559 5808,-319.8949\"/>\n<polygon fill=\"#000000\" stroke=\"#000000\" points=\"5811.5001,-319.5259 5808,-309.5259 5804.5001,-319.5259 5811.5001,-319.5259\"/>\n</g>\n<!-- 76 -->\n<g id=\"node77\" class=\"node\">\n<title>76</title>\n<path fill=\"#f8ddca\" stroke=\"#000000\" d=\"M6084,-6990C6084,-6990 5886,-6990 5886,-6990 5880,-6990 5874,-6984 5874,-6978 5874,-6978 5874,-6934 5874,-6934 5874,-6928 5880,-6922 5886,-6922 5886,-6922 6084,-6922 6084,-6922 6090,-6922 6096,-6928 6096,-6934 6096,-6934 6096,-6978 6096,-6978 6096,-6984 6090,-6990 6084,-6990\"/>\n<text text-anchor=\"start\" x=\"5882\" y=\"-6974.8\" font-family=\"Helvetica,sans-Serif\" font-size=\"14.00\" fill=\"#000000\">lastReportedSpeedMPH ≤ &#45;33.5</text>\n<text text-anchor=\"start\" x=\"5917\" y=\"-6959.8\" font-family=\"Helvetica,sans-Serif\" font-size=\"14.00\" fill=\"#000000\">squared_error = 0.25</text>\n<text text-anchor=\"start\" x=\"5937\" y=\"-6944.8\" font-family=\"Helvetica,sans-Serif\" font-size=\"14.00\" fill=\"#000000\">samples = 174</text>\n<text text-anchor=\"start\" x=\"5938.5\" y=\"-6929.8\" font-family=\"Helvetica,sans-Serif\" font-size=\"14.00\" fill=\"#000000\">value = &#45;33.55</text>\n</g>\n<!-- 74&#45;&gt;76 -->\n<g id=\"edge76\" class=\"edge\">\n<title>74&#45;&gt;76</title>\n<path fill=\"none\" stroke=\"#000000\" d=\"M5985,-8033.8074C5985,-7871.8403 5985,-7182.0904 5985,-7000.1472\"/>\n<polygon fill=\"#000000\" stroke=\"#000000\" points=\"5988.5001,-7000.1328 5985,-6990.1328 5981.5001,-7000.1329 5988.5001,-7000.1328\"/>\n</g>\n<!-- 77 -->\n<g id=\"node78\" class=\"node\">\n<title>77</title>\n<path fill=\"#f8decb\" stroke=\"#000000\" d=\"M6030,-309.5C6030,-309.5 5910,-309.5 5910,-309.5 5904,-309.5 5898,-303.5 5898,-297.5 5898,-297.5 5898,-268.5 5898,-268.5 5898,-262.5 5904,-256.5 5910,-256.5 5910,-256.5 6030,-256.5 6030,-256.5 6036,-256.5 6042,-262.5 6042,-268.5 6042,-268.5 6042,-297.5 6042,-297.5 6042,-303.5 6036,-309.5 6030,-309.5\"/>\n<text text-anchor=\"start\" x=\"5906\" y=\"-294.3\" font-family=\"Helvetica,sans-Serif\" font-size=\"14.00\" fill=\"#000000\">squared_error = 0.0</text>\n<text text-anchor=\"start\" x=\"5926\" y=\"-279.3\" font-family=\"Helvetica,sans-Serif\" font-size=\"14.00\" fill=\"#000000\">samples = 96</text>\n<text text-anchor=\"start\" x=\"5927.5\" y=\"-264.3\" font-family=\"Helvetica,sans-Serif\" font-size=\"14.00\" fill=\"#000000\">value = &#45;34.0</text>\n</g>\n<!-- 76&#45;&gt;77 -->\n<g id=\"edge77\" class=\"edge\">\n<title>76&#45;&gt;77</title>\n<path fill=\"none\" stroke=\"#000000\" d=\"M5984.7704,-6921.9562C5982.8832,-6642.1492 5970,-4732 5970,-4732 5970,-4732 5970,-4732 5970,-2507 5970,-2507 5970,-609.559 5970,-319.8949\"/>\n<polygon fill=\"#000000\" stroke=\"#000000\" points=\"5973.5001,-319.5259 5970,-309.5259 5966.5001,-319.5259 5973.5001,-319.5259\"/>\n</g>\n<!-- 78 -->\n<g id=\"node79\" class=\"node\">\n<title>78</title>\n<path fill=\"#f8ddc9\" stroke=\"#000000\" d=\"M6192,-309.5C6192,-309.5 6072,-309.5 6072,-309.5 6066,-309.5 6060,-303.5 6060,-297.5 6060,-297.5 6060,-268.5 6060,-268.5 6060,-262.5 6066,-256.5 6072,-256.5 6072,-256.5 6192,-256.5 6192,-256.5 6198,-256.5 6204,-262.5 6204,-268.5 6204,-268.5 6204,-297.5 6204,-297.5 6204,-303.5 6198,-309.5 6192,-309.5\"/>\n<text text-anchor=\"start\" x=\"6068\" y=\"-294.3\" font-family=\"Helvetica,sans-Serif\" font-size=\"14.00\" fill=\"#000000\">squared_error = 0.0</text>\n<text text-anchor=\"start\" x=\"6088\" y=\"-279.3\" font-family=\"Helvetica,sans-Serif\" font-size=\"14.00\" fill=\"#000000\">samples = 78</text>\n<text text-anchor=\"start\" x=\"6089.5\" y=\"-264.3\" font-family=\"Helvetica,sans-Serif\" font-size=\"14.00\" fill=\"#000000\">value = &#45;33.0</text>\n</g>\n<!-- 76&#45;&gt;78 -->\n<g id=\"edge78\" class=\"edge\">\n<title>76&#45;&gt;78</title>\n<path fill=\"none\" stroke=\"#000000\" d=\"M5987.2502,-6921.9562C6005.7446,-6642.1492 6132,-4732 6132,-4732 6132,-4732 6132,-4732 6132,-2507 6132,-2507 6132,-609.559 6132,-319.8949\"/>\n<polygon fill=\"#000000\" stroke=\"#000000\" points=\"6135.5001,-319.5259 6132,-309.5259 6128.5001,-319.5259 6135.5001,-319.5259\"/>\n</g>\n<!-- 80 -->\n<g id=\"node81\" class=\"node\">\n<title>80</title>\n<path fill=\"#f8dcc8\" stroke=\"#000000\" d=\"M6354,-309.5C6354,-309.5 6234,-309.5 6234,-309.5 6228,-309.5 6222,-303.5 6222,-297.5 6222,-297.5 6222,-268.5 6222,-268.5 6222,-262.5 6228,-256.5 6234,-256.5 6234,-256.5 6354,-256.5 6354,-256.5 6360,-256.5 6366,-262.5 6366,-268.5 6366,-268.5 6366,-297.5 6366,-297.5 6366,-303.5 6360,-309.5 6354,-309.5\"/>\n<text text-anchor=\"start\" x=\"6230\" y=\"-294.3\" font-family=\"Helvetica,sans-Serif\" font-size=\"14.00\" fill=\"#000000\">squared_error = 0.0</text>\n<text text-anchor=\"start\" x=\"6250\" y=\"-279.3\" font-family=\"Helvetica,sans-Serif\" font-size=\"14.00\" fill=\"#000000\">samples = 70</text>\n<text text-anchor=\"start\" x=\"6251.5\" y=\"-264.3\" font-family=\"Helvetica,sans-Serif\" font-size=\"14.00\" fill=\"#000000\">value = &#45;32.0</text>\n</g>\n<!-- 79&#45;&gt;80 -->\n<g id=\"edge80\" class=\"edge\">\n<title>79&#45;&gt;80</title>\n<path fill=\"none\" stroke=\"#000000\" d=\"M6373.7601,-8033.9562C6363.5693,-7754.1492 6294,-5844 6294,-5844 6294,-5844 6294,-5844 6294,-2507 6294,-2507 6294,-609.559 6294,-319.8949\"/>\n<polygon fill=\"#000000\" stroke=\"#000000\" points=\"6297.5001,-319.5259 6294,-309.5259 6290.5001,-319.5259 6297.5001,-319.5259\"/>\n</g>\n<!-- 81 -->\n<g id=\"node82\" class=\"node\">\n<title>81</title>\n<path fill=\"#f8dbc6\" stroke=\"#000000\" d=\"M6555,-6990C6555,-6990 6357,-6990 6357,-6990 6351,-6990 6345,-6984 6345,-6978 6345,-6978 6345,-6934 6345,-6934 6345,-6928 6351,-6922 6357,-6922 6357,-6922 6555,-6922 6555,-6922 6561,-6922 6567,-6928 6567,-6934 6567,-6934 6567,-6978 6567,-6978 6567,-6984 6561,-6990 6555,-6990\"/>\n<text text-anchor=\"start\" x=\"6353\" y=\"-6974.8\" font-family=\"Helvetica,sans-Serif\" font-size=\"14.00\" fill=\"#000000\">lastReportedSpeedMPH ≤ &#45;30.5</text>\n<text text-anchor=\"start\" x=\"6388\" y=\"-6959.8\" font-family=\"Helvetica,sans-Serif\" font-size=\"14.00\" fill=\"#000000\">squared_error = 0.25</text>\n<text text-anchor=\"start\" x=\"6408\" y=\"-6944.8\" font-family=\"Helvetica,sans-Serif\" font-size=\"14.00\" fill=\"#000000\">samples = 129</text>\n<text text-anchor=\"start\" x=\"6409.5\" y=\"-6929.8\" font-family=\"Helvetica,sans-Serif\" font-size=\"14.00\" fill=\"#000000\">value = &#45;30.53</text>\n</g>\n<!-- 79&#45;&gt;81 -->\n<g id=\"edge81\" class=\"edge\">\n<title>79&#45;&gt;81</title>\n<path fill=\"none\" stroke=\"#000000\" d=\"M6377.4906,-8033.8074C6389.2886,-7871.8403 6439.5312,-7182.0904 6452.7842,-7000.1472\"/>\n<polygon fill=\"#000000\" stroke=\"#000000\" points=\"6456.2779,-7000.3607 6453.5137,-6990.1328 6449.2964,-6999.8521 6456.2779,-7000.3607\"/>\n</g>\n<!-- 82 -->\n<g id=\"node83\" class=\"node\">\n<title>82</title>\n<path fill=\"#f8dbc7\" stroke=\"#000000\" d=\"M6516,-309.5C6516,-309.5 6396,-309.5 6396,-309.5 6390,-309.5 6384,-303.5 6384,-297.5 6384,-297.5 6384,-268.5 6384,-268.5 6384,-262.5 6390,-256.5 6396,-256.5 6396,-256.5 6516,-256.5 6516,-256.5 6522,-256.5 6528,-262.5 6528,-268.5 6528,-268.5 6528,-297.5 6528,-297.5 6528,-303.5 6522,-309.5 6516,-309.5\"/>\n<text text-anchor=\"start\" x=\"6392\" y=\"-294.3\" font-family=\"Helvetica,sans-Serif\" font-size=\"14.00\" fill=\"#000000\">squared_error = 0.0</text>\n<text text-anchor=\"start\" x=\"6412\" y=\"-279.3\" font-family=\"Helvetica,sans-Serif\" font-size=\"14.00\" fill=\"#000000\">samples = 68</text>\n<text text-anchor=\"start\" x=\"6413.5\" y=\"-264.3\" font-family=\"Helvetica,sans-Serif\" font-size=\"14.00\" fill=\"#000000\">value = &#45;31.0</text>\n</g>\n<!-- 81&#45;&gt;82 -->\n<g id=\"edge82\" class=\"edge\">\n<title>81&#45;&gt;82</title>\n<path fill=\"none\" stroke=\"#000000\" d=\"M6456,-6921.9562C6456,-6642.1492 6456,-4732 6456,-4732 6456,-4732 6456,-4732 6456,-2507 6456,-2507 6456,-609.559 6456,-319.8949\"/>\n<polygon fill=\"#000000\" stroke=\"#000000\" points=\"6459.5001,-319.5259 6456,-309.5259 6452.5001,-319.5259 6459.5001,-319.5259\"/>\n</g>\n<!-- 83 -->\n<g id=\"node84\" class=\"node\">\n<title>83</title>\n<path fill=\"#f7dac5\" stroke=\"#000000\" d=\"M6678,-309.5C6678,-309.5 6558,-309.5 6558,-309.5 6552,-309.5 6546,-303.5 6546,-297.5 6546,-297.5 6546,-268.5 6546,-268.5 6546,-262.5 6552,-256.5 6558,-256.5 6558,-256.5 6678,-256.5 6678,-256.5 6684,-256.5 6690,-262.5 6690,-268.5 6690,-268.5 6690,-297.5 6690,-297.5 6690,-303.5 6684,-309.5 6678,-309.5\"/>\n<text text-anchor=\"start\" x=\"6554\" y=\"-294.3\" font-family=\"Helvetica,sans-Serif\" font-size=\"14.00\" fill=\"#000000\">squared_error = 0.0</text>\n<text text-anchor=\"start\" x=\"6574\" y=\"-279.3\" font-family=\"Helvetica,sans-Serif\" font-size=\"14.00\" fill=\"#000000\">samples = 61</text>\n<text text-anchor=\"start\" x=\"6575.5\" y=\"-264.3\" font-family=\"Helvetica,sans-Serif\" font-size=\"14.00\" fill=\"#000000\">value = &#45;30.0</text>\n</g>\n<!-- 81&#45;&gt;83 -->\n<g id=\"edge83\" class=\"edge\">\n<title>81&#45;&gt;83</title>\n<path fill=\"none\" stroke=\"#000000\" d=\"M6458.4798,-6921.9562C6478.8614,-6642.1492 6618,-4732 6618,-4732 6618,-4732 6618,-4732 6618,-2507 6618,-2507 6618,-609.559 6618,-319.8949\"/>\n<polygon fill=\"#000000\" stroke=\"#000000\" points=\"6621.5001,-319.5259 6618,-309.5259 6614.5001,-319.5259 6621.5001,-319.5259\"/>\n</g>\n<!-- 85 -->\n<g id=\"node86\" class=\"node\">\n<title>85</title>\n<path fill=\"#f7d8c2\" stroke=\"#000000\" d=\"M7110.5,-8102C7110.5,-8102 6859.5,-8102 6859.5,-8102 6853.5,-8102 6847.5,-8096 6847.5,-8090 6847.5,-8090 6847.5,-8046 6847.5,-8046 6847.5,-8040 6853.5,-8034 6859.5,-8034 6859.5,-8034 7110.5,-8034 7110.5,-8034 7116.5,-8034 7122.5,-8040 7122.5,-8046 7122.5,-8046 7122.5,-8090 7122.5,-8090 7122.5,-8096 7116.5,-8102 7110.5,-8102\"/>\n<text text-anchor=\"start\" x=\"6855.5\" y=\"-8086.8\" font-family=\"Helvetica,sans-Serif\" font-size=\"14.00\" fill=\"#000000\">lastReportedPosition.speedMPH ≤ &#45;28.5</text>\n<text text-anchor=\"start\" x=\"6917\" y=\"-8071.8\" font-family=\"Helvetica,sans-Serif\" font-size=\"14.00\" fill=\"#000000\">squared_error = 0.72</text>\n<text text-anchor=\"start\" x=\"6937\" y=\"-8056.8\" font-family=\"Helvetica,sans-Serif\" font-size=\"14.00\" fill=\"#000000\">samples = 173</text>\n<text text-anchor=\"start\" x=\"6938.5\" y=\"-8041.8\" font-family=\"Helvetica,sans-Serif\" font-size=\"14.00\" fill=\"#000000\">value = &#45;28.03</text>\n</g>\n<!-- 84&#45;&gt;85 -->\n<g id=\"edge85\" class=\"edge\">\n<title>84&#45;&gt;85</title>\n<path fill=\"none\" stroke=\"#000000\" d=\"M7155.5882,-9145.8074C7129.9531,-8983.8403 7020.7841,-8294.0904 6991.9873,-8112.1472\"/>\n<polygon fill=\"#000000\" stroke=\"#000000\" points=\"6995.4226,-8111.4627 6990.4023,-8102.1328 6988.5087,-8112.5571 6995.4226,-8111.4627\"/>\n</g>\n<!-- 90 -->\n<g id=\"node91\" class=\"node\">\n<title>90</title>\n<path fill=\"#f6d5be\" stroke=\"#000000\" d=\"M7394,-8102C7394,-8102 7196,-8102 7196,-8102 7190,-8102 7184,-8096 7184,-8090 7184,-8090 7184,-8046 7184,-8046 7184,-8040 7190,-8034 7196,-8034 7196,-8034 7394,-8034 7394,-8034 7400,-8034 7406,-8040 7406,-8046 7406,-8046 7406,-8090 7406,-8090 7406,-8096 7400,-8102 7394,-8102\"/>\n<text text-anchor=\"start\" x=\"7192\" y=\"-8086.8\" font-family=\"Helvetica,sans-Serif\" font-size=\"14.00\" fill=\"#000000\">lastReportedSpeedMPH ≤ &#45;24.5</text>\n<text text-anchor=\"start\" x=\"7227\" y=\"-8071.8\" font-family=\"Helvetica,sans-Serif\" font-size=\"14.00\" fill=\"#000000\">squared_error = 1.11</text>\n<text text-anchor=\"start\" x=\"7247\" y=\"-8056.8\" font-family=\"Helvetica,sans-Serif\" font-size=\"14.00\" fill=\"#000000\">samples = 168</text>\n<text text-anchor=\"start\" x=\"7248.5\" y=\"-8041.8\" font-family=\"Helvetica,sans-Serif\" font-size=\"14.00\" fill=\"#000000\">value = &#45;24.54</text>\n</g>\n<!-- 84&#45;&gt;90 -->\n<g id=\"edge90\" class=\"edge\">\n<title>84&#45;&gt;90</title>\n<path fill=\"none\" stroke=\"#000000\" d=\"M7165.1203,-9145.8074C7184.6379,-8983.8403 7267.7553,-8294.0904 7289.6801,-8112.1472\"/>\n<polygon fill=\"#000000\" stroke=\"#000000\" points=\"7293.1653,-8112.4798 7290.8869,-8102.1328 7286.2155,-8111.6422 7293.1653,-8112.4798\"/>\n</g>\n<!-- 86 -->\n<g id=\"node87\" class=\"node\">\n<title>86</title>\n<path fill=\"#f7d9c4\" stroke=\"#000000\" d=\"M6840,-309.5C6840,-309.5 6720,-309.5 6720,-309.5 6714,-309.5 6708,-303.5 6708,-297.5 6708,-297.5 6708,-268.5 6708,-268.5 6708,-262.5 6714,-256.5 6720,-256.5 6720,-256.5 6840,-256.5 6840,-256.5 6846,-256.5 6852,-262.5 6852,-268.5 6852,-268.5 6852,-297.5 6852,-297.5 6852,-303.5 6846,-309.5 6840,-309.5\"/>\n<text text-anchor=\"start\" x=\"6716\" y=\"-294.3\" font-family=\"Helvetica,sans-Serif\" font-size=\"14.00\" fill=\"#000000\">squared_error = 0.0</text>\n<text text-anchor=\"start\" x=\"6736\" y=\"-279.3\" font-family=\"Helvetica,sans-Serif\" font-size=\"14.00\" fill=\"#000000\">samples = 65</text>\n<text text-anchor=\"start\" x=\"6737.5\" y=\"-264.3\" font-family=\"Helvetica,sans-Serif\" font-size=\"14.00\" fill=\"#000000\">value = &#45;29.0</text>\n</g>\n<!-- 85&#45;&gt;86 -->\n<g id=\"edge86\" class=\"edge\">\n<title>85&#45;&gt;86</title>\n<path fill=\"none\" stroke=\"#000000\" d=\"M6981.2104,-8033.9572C6960.8128,-7850.7183 6865,-6990 6865,-6990 6865,-6990 6780,-5844 6780,-5844 6780,-5844 6780,-5844 6780,-2507 6780,-2507 6780,-609.559 6780,-319.8949\"/>\n<polygon fill=\"#000000\" stroke=\"#000000\" points=\"6783.5001,-319.5259 6780,-309.5259 6776.5001,-319.5259 6783.5001,-319.5259\"/>\n</g>\n<!-- 87 -->\n<g id=\"node88\" class=\"node\">\n<title>87</title>\n<path fill=\"#f7d8c2\" stroke=\"#000000\" d=\"M7084,-6990C7084,-6990 6886,-6990 6886,-6990 6880,-6990 6874,-6984 6874,-6978 6874,-6978 6874,-6934 6874,-6934 6874,-6928 6880,-6922 6886,-6922 6886,-6922 7084,-6922 7084,-6922 7090,-6922 7096,-6928 7096,-6934 7096,-6934 7096,-6978 7096,-6978 7096,-6984 7090,-6990 7084,-6990\"/>\n<text text-anchor=\"start\" x=\"6882\" y=\"-6974.8\" font-family=\"Helvetica,sans-Serif\" font-size=\"14.00\" fill=\"#000000\">lastReportedSpeedMPH ≤ &#45;27.5</text>\n<text text-anchor=\"start\" x=\"6917\" y=\"-6959.8\" font-family=\"Helvetica,sans-Serif\" font-size=\"14.00\" fill=\"#000000\">squared_error = 0.25</text>\n<text text-anchor=\"start\" x=\"6937\" y=\"-6944.8\" font-family=\"Helvetica,sans-Serif\" font-size=\"14.00\" fill=\"#000000\">samples = 108</text>\n<text text-anchor=\"start\" x=\"6938.5\" y=\"-6929.8\" font-family=\"Helvetica,sans-Serif\" font-size=\"14.00\" fill=\"#000000\">value = &#45;27.45</text>\n</g>\n<!-- 85&#45;&gt;87 -->\n<g id=\"edge87\" class=\"edge\">\n<title>85&#45;&gt;87</title>\n<path fill=\"none\" stroke=\"#000000\" d=\"M6985,-8033.8074C6985,-7871.8403 6985,-7182.0904 6985,-7000.1472\"/>\n<polygon fill=\"#000000\" stroke=\"#000000\" points=\"6988.5001,-7000.1328 6985,-6990.1328 6981.5001,-7000.1329 6988.5001,-7000.1328\"/>\n</g>\n<!-- 88 -->\n<g id=\"node89\" class=\"node\">\n<title>88</title>\n<path fill=\"#f7d8c2\" stroke=\"#000000\" d=\"M7002,-309.5C7002,-309.5 6882,-309.5 6882,-309.5 6876,-309.5 6870,-303.5 6870,-297.5 6870,-297.5 6870,-268.5 6870,-268.5 6870,-262.5 6876,-256.5 6882,-256.5 6882,-256.5 7002,-256.5 7002,-256.5 7008,-256.5 7014,-262.5 7014,-268.5 7014,-268.5 7014,-297.5 7014,-297.5 7014,-303.5 7008,-309.5 7002,-309.5\"/>\n<text text-anchor=\"start\" x=\"6878\" y=\"-294.3\" font-family=\"Helvetica,sans-Serif\" font-size=\"14.00\" fill=\"#000000\">squared_error = 0.0</text>\n<text text-anchor=\"start\" x=\"6898\" y=\"-279.3\" font-family=\"Helvetica,sans-Serif\" font-size=\"14.00\" fill=\"#000000\">samples = 49</text>\n<text text-anchor=\"start\" x=\"6899.5\" y=\"-264.3\" font-family=\"Helvetica,sans-Serif\" font-size=\"14.00\" fill=\"#000000\">value = &#45;28.0</text>\n</g>\n<!-- 87&#45;&gt;88 -->\n<g id=\"edge88\" class=\"edge\">\n<title>87&#45;&gt;88</title>\n<path fill=\"none\" stroke=\"#000000\" d=\"M6984.3418,-6921.9562C6978.9318,-6642.1492 6942,-4732 6942,-4732 6942,-4732 6942,-4732 6942,-2507 6942,-2507 6942,-609.559 6942,-319.8949\"/>\n<polygon fill=\"#000000\" stroke=\"#000000\" points=\"6945.5001,-319.5259 6942,-309.5259 6938.5001,-319.5259 6945.5001,-319.5259\"/>\n</g>\n<!-- 89 -->\n<g id=\"node90\" class=\"node\">\n<title>89</title>\n<path fill=\"#f7d8c1\" stroke=\"#000000\" d=\"M7164,-309.5C7164,-309.5 7044,-309.5 7044,-309.5 7038,-309.5 7032,-303.5 7032,-297.5 7032,-297.5 7032,-268.5 7032,-268.5 7032,-262.5 7038,-256.5 7044,-256.5 7044,-256.5 7164,-256.5 7164,-256.5 7170,-256.5 7176,-262.5 7176,-268.5 7176,-268.5 7176,-297.5 7176,-297.5 7176,-303.5 7170,-309.5 7164,-309.5\"/>\n<text text-anchor=\"start\" x=\"7040\" y=\"-294.3\" font-family=\"Helvetica,sans-Serif\" font-size=\"14.00\" fill=\"#000000\">squared_error = 0.0</text>\n<text text-anchor=\"start\" x=\"7060\" y=\"-279.3\" font-family=\"Helvetica,sans-Serif\" font-size=\"14.00\" fill=\"#000000\">samples = 59</text>\n<text text-anchor=\"start\" x=\"7061.5\" y=\"-264.3\" font-family=\"Helvetica,sans-Serif\" font-size=\"14.00\" fill=\"#000000\">value = &#45;27.0</text>\n</g>\n<!-- 87&#45;&gt;89 -->\n<g id=\"edge89\" class=\"edge\">\n<title>87&#45;&gt;89</title>\n<path fill=\"none\" stroke=\"#000000\" d=\"M6986.8216,-6921.9562C7001.7933,-6642.1492 7104,-4732 7104,-4732 7104,-4732 7104,-4732 7104,-2507 7104,-2507 7104,-609.559 7104,-319.8949\"/>\n<polygon fill=\"#000000\" stroke=\"#000000\" points=\"7107.5001,-319.5259 7104,-309.5259 7100.5001,-319.5259 7107.5001,-319.5259\"/>\n</g>\n<!-- 91 -->\n<g id=\"node92\" class=\"node\">\n<title>91</title>\n<path fill=\"#f7d6bf\" stroke=\"#000000\" d=\"M7394,-6990C7394,-6990 7196,-6990 7196,-6990 7190,-6990 7184,-6984 7184,-6978 7184,-6978 7184,-6934 7184,-6934 7184,-6928 7190,-6922 7196,-6922 7196,-6922 7394,-6922 7394,-6922 7400,-6922 7406,-6928 7406,-6934 7406,-6934 7406,-6978 7406,-6978 7406,-6984 7400,-6990 7394,-6990\"/>\n<text text-anchor=\"start\" x=\"7192\" y=\"-6974.8\" font-family=\"Helvetica,sans-Serif\" font-size=\"14.00\" fill=\"#000000\">lastReportedSpeedMPH ≤ &#45;25.5</text>\n<text text-anchor=\"start\" x=\"7227\" y=\"-6959.8\" font-family=\"Helvetica,sans-Serif\" font-size=\"14.00\" fill=\"#000000\">squared_error = 0.24</text>\n<text text-anchor=\"start\" x=\"7251\" y=\"-6944.8\" font-family=\"Helvetica,sans-Serif\" font-size=\"14.00\" fill=\"#000000\">samples = 90</text>\n<text text-anchor=\"start\" x=\"7252.5\" y=\"-6929.8\" font-family=\"Helvetica,sans-Serif\" font-size=\"14.00\" fill=\"#000000\">value = &#45;25.4</text>\n</g>\n<!-- 90&#45;&gt;91 -->\n<g id=\"edge91\" class=\"edge\">\n<title>90&#45;&gt;91</title>\n<path fill=\"none\" stroke=\"#000000\" d=\"M7295,-8033.8074C7295,-7871.8403 7295,-7182.0904 7295,-7000.1472\"/>\n<polygon fill=\"#000000\" stroke=\"#000000\" points=\"7298.5001,-7000.1328 7295,-6990.1328 7291.5001,-7000.1329 7298.5001,-7000.1328\"/>\n</g>\n<!-- 94 -->\n<g id=\"node95\" class=\"node\">\n<title>94</title>\n<path fill=\"#f6d4bc\" stroke=\"#000000\" d=\"M7715.5,-6990C7715.5,-6990 7464.5,-6990 7464.5,-6990 7458.5,-6990 7452.5,-6984 7452.5,-6978 7452.5,-6978 7452.5,-6934 7452.5,-6934 7452.5,-6928 7458.5,-6922 7464.5,-6922 7464.5,-6922 7715.5,-6922 7715.5,-6922 7721.5,-6922 7727.5,-6928 7727.5,-6934 7727.5,-6934 7727.5,-6978 7727.5,-6978 7727.5,-6984 7721.5,-6990 7715.5,-6990\"/>\n<text text-anchor=\"start\" x=\"7460.5\" y=\"-6974.8\" font-family=\"Helvetica,sans-Serif\" font-size=\"14.00\" fill=\"#000000\">lastReportedPosition.speedMPH ≤ &#45;23.5</text>\n<text text-anchor=\"start\" x=\"7522\" y=\"-6959.8\" font-family=\"Helvetica,sans-Serif\" font-size=\"14.00\" fill=\"#000000\">squared_error = 0.25</text>\n<text text-anchor=\"start\" x=\"7546\" y=\"-6944.8\" font-family=\"Helvetica,sans-Serif\" font-size=\"14.00\" fill=\"#000000\">samples = 78</text>\n<text text-anchor=\"start\" x=\"7543.5\" y=\"-6929.8\" font-family=\"Helvetica,sans-Serif\" font-size=\"14.00\" fill=\"#000000\">value = &#45;23.54</text>\n</g>\n<!-- 90&#45;&gt;94 -->\n<g id=\"edge94\" class=\"edge\">\n<title>90&#45;&gt;94</title>\n<path fill=\"none\" stroke=\"#000000\" d=\"M7304.0709,-8033.8074C7347.0602,-7871.7597 7530.2032,-7181.4036 7578.3603,-6999.8758\"/>\n<polygon fill=\"#000000\" stroke=\"#000000\" points=\"7581.7637,-7000.696 7580.945,-6990.1328 7574.9977,-6998.901 7581.7637,-7000.696\"/>\n</g>\n<!-- 92 -->\n<g id=\"node93\" class=\"node\">\n<title>92</title>\n<path fill=\"#f7d7c0\" stroke=\"#000000\" d=\"M7326,-309.5C7326,-309.5 7206,-309.5 7206,-309.5 7200,-309.5 7194,-303.5 7194,-297.5 7194,-297.5 7194,-268.5 7194,-268.5 7194,-262.5 7200,-256.5 7206,-256.5 7206,-256.5 7326,-256.5 7326,-256.5 7332,-256.5 7338,-262.5 7338,-268.5 7338,-268.5 7338,-297.5 7338,-297.5 7338,-303.5 7332,-309.5 7326,-309.5\"/>\n<text text-anchor=\"start\" x=\"7202\" y=\"-294.3\" font-family=\"Helvetica,sans-Serif\" font-size=\"14.00\" fill=\"#000000\">squared_error = 0.0</text>\n<text text-anchor=\"start\" x=\"7222\" y=\"-279.3\" font-family=\"Helvetica,sans-Serif\" font-size=\"14.00\" fill=\"#000000\">samples = 36</text>\n<text text-anchor=\"start\" x=\"7223.5\" y=\"-264.3\" font-family=\"Helvetica,sans-Serif\" font-size=\"14.00\" fill=\"#000000\">value = &#45;26.0</text>\n</g>\n<!-- 91&#45;&gt;92 -->\n<g id=\"edge92\" class=\"edge\">\n<title>91&#45;&gt;92</title>\n<path fill=\"none\" stroke=\"#000000\" d=\"M7294.5561,-6921.9562C7290.9075,-6642.1492 7266,-4732 7266,-4732 7266,-4732 7266,-4732 7266,-2507 7266,-2507 7266,-609.559 7266,-319.8949\"/>\n<polygon fill=\"#000000\" stroke=\"#000000\" points=\"7269.5001,-319.5259 7266,-309.5259 7262.5001,-319.5259 7269.5001,-319.5259\"/>\n</g>\n<!-- 93 -->\n<g id=\"node94\" class=\"node\">\n<title>93</title>\n<path fill=\"#f6d6be\" stroke=\"#000000\" d=\"M7488,-309.5C7488,-309.5 7368,-309.5 7368,-309.5 7362,-309.5 7356,-303.5 7356,-297.5 7356,-297.5 7356,-268.5 7356,-268.5 7356,-262.5 7362,-256.5 7368,-256.5 7368,-256.5 7488,-256.5 7488,-256.5 7494,-256.5 7500,-262.5 7500,-268.5 7500,-268.5 7500,-297.5 7500,-297.5 7500,-303.5 7494,-309.5 7488,-309.5\"/>\n<text text-anchor=\"start\" x=\"7364\" y=\"-294.3\" font-family=\"Helvetica,sans-Serif\" font-size=\"14.00\" fill=\"#000000\">squared_error = 0.0</text>\n<text text-anchor=\"start\" x=\"7384\" y=\"-279.3\" font-family=\"Helvetica,sans-Serif\" font-size=\"14.00\" fill=\"#000000\">samples = 54</text>\n<text text-anchor=\"start\" x=\"7385.5\" y=\"-264.3\" font-family=\"Helvetica,sans-Serif\" font-size=\"14.00\" fill=\"#000000\">value = &#45;25.0</text>\n</g>\n<!-- 91&#45;&gt;93 -->\n<g id=\"edge93\" class=\"edge\">\n<title>91&#45;&gt;93</title>\n<path fill=\"none\" stroke=\"#000000\" d=\"M7297.0359,-6921.9562C7313.769,-6642.1492 7428,-4732 7428,-4732 7428,-4732 7428,-4732 7428,-2507 7428,-2507 7428,-609.559 7428,-319.8949\"/>\n<polygon fill=\"#000000\" stroke=\"#000000\" points=\"7431.5001,-319.5259 7428,-309.5259 7424.5001,-319.5259 7431.5001,-319.5259\"/>\n</g>\n<!-- 95 -->\n<g id=\"node96\" class=\"node\">\n<title>95</title>\n<path fill=\"#f6d5bd\" stroke=\"#000000\" d=\"M7650,-309.5C7650,-309.5 7530,-309.5 7530,-309.5 7524,-309.5 7518,-303.5 7518,-297.5 7518,-297.5 7518,-268.5 7518,-268.5 7518,-262.5 7524,-256.5 7530,-256.5 7530,-256.5 7650,-256.5 7650,-256.5 7656,-256.5 7662,-262.5 7662,-268.5 7662,-268.5 7662,-297.5 7662,-297.5 7662,-303.5 7656,-309.5 7650,-309.5\"/>\n<text text-anchor=\"start\" x=\"7526\" y=\"-294.3\" font-family=\"Helvetica,sans-Serif\" font-size=\"14.00\" fill=\"#000000\">squared_error = 0.0</text>\n<text text-anchor=\"start\" x=\"7546\" y=\"-279.3\" font-family=\"Helvetica,sans-Serif\" font-size=\"14.00\" fill=\"#000000\">samples = 42</text>\n<text text-anchor=\"start\" x=\"7547.5\" y=\"-264.3\" font-family=\"Helvetica,sans-Serif\" font-size=\"14.00\" fill=\"#000000\">value = &#45;24.0</text>\n</g>\n<!-- 94&#45;&gt;95 -->\n<g id=\"edge95\" class=\"edge\">\n<title>94&#45;&gt;95</title>\n<path fill=\"none\" stroke=\"#000000\" d=\"M7590,-6921.9562C7590,-6642.1492 7590,-4732 7590,-4732 7590,-4732 7590,-4732 7590,-2507 7590,-2507 7590,-609.559 7590,-319.8949\"/>\n<polygon fill=\"#000000\" stroke=\"#000000\" points=\"7593.5001,-319.5259 7590,-309.5259 7586.5001,-319.5259 7593.5001,-319.5259\"/>\n</g>\n<!-- 96 -->\n<g id=\"node97\" class=\"node\">\n<title>96</title>\n<path fill=\"#f6d4bb\" stroke=\"#000000\" d=\"M7812,-309.5C7812,-309.5 7692,-309.5 7692,-309.5 7686,-309.5 7680,-303.5 7680,-297.5 7680,-297.5 7680,-268.5 7680,-268.5 7680,-262.5 7686,-256.5 7692,-256.5 7692,-256.5 7812,-256.5 7812,-256.5 7818,-256.5 7824,-262.5 7824,-268.5 7824,-268.5 7824,-297.5 7824,-297.5 7824,-303.5 7818,-309.5 7812,-309.5\"/>\n<text text-anchor=\"start\" x=\"7688\" y=\"-294.3\" font-family=\"Helvetica,sans-Serif\" font-size=\"14.00\" fill=\"#000000\">squared_error = 0.0</text>\n<text text-anchor=\"start\" x=\"7708\" y=\"-279.3\" font-family=\"Helvetica,sans-Serif\" font-size=\"14.00\" fill=\"#000000\">samples = 36</text>\n<text text-anchor=\"start\" x=\"7709.5\" y=\"-264.3\" font-family=\"Helvetica,sans-Serif\" font-size=\"14.00\" fill=\"#000000\">value = &#45;23.0</text>\n</g>\n<!-- 94&#45;&gt;96 -->\n<g id=\"edge96\" class=\"edge\">\n<title>94&#45;&gt;96</title>\n<path fill=\"none\" stroke=\"#000000\" d=\"M7592.4798,-6921.9562C7612.8614,-6642.1492 7752,-4732 7752,-4732 7752,-4732 7752,-4732 7752,-2507 7752,-2507 7752,-609.559 7752,-319.8949\"/>\n<polygon fill=\"#000000\" stroke=\"#000000\" points=\"7755.5001,-319.5259 7752,-309.5259 7748.5001,-319.5259 7755.5001,-319.5259\"/>\n</g>\n<!-- 98 -->\n<g id=\"node99\" class=\"node\">\n<title>98</title>\n<path fill=\"#f5d1b6\" stroke=\"#000000\" d=\"M8365,-9214C8365,-9214 8167,-9214 8167,-9214 8161,-9214 8155,-9208 8155,-9202 8155,-9202 8155,-9158 8155,-9158 8155,-9152 8161,-9146 8167,-9146 8167,-9146 8365,-9146 8365,-9146 8371,-9146 8377,-9152 8377,-9158 8377,-9158 8377,-9202 8377,-9202 8377,-9208 8371,-9214 8365,-9214\"/>\n<text text-anchor=\"start\" x=\"8163\" y=\"-9198.8\" font-family=\"Helvetica,sans-Serif\" font-size=\"14.00\" fill=\"#000000\">lastReportedSpeedMPH ≤ &#45;19.5</text>\n<text text-anchor=\"start\" x=\"8198\" y=\"-9183.8\" font-family=\"Helvetica,sans-Serif\" font-size=\"14.00\" fill=\"#000000\">squared_error = 4.23</text>\n<text text-anchor=\"start\" x=\"8218\" y=\"-9168.8\" font-family=\"Helvetica,sans-Serif\" font-size=\"14.00\" fill=\"#000000\">samples = 162</text>\n<text text-anchor=\"start\" x=\"8219.5\" y=\"-9153.8\" font-family=\"Helvetica,sans-Serif\" font-size=\"14.00\" fill=\"#000000\">value = &#45;19.41</text>\n</g>\n<!-- 97&#45;&gt;98 -->\n<g id=\"edge98\" class=\"edge\">\n<title>97&#45;&gt;98</title>\n<path fill=\"none\" stroke=\"#000000\" d=\"M8266,-10257.8074C8266,-10095.8403 8266,-9406.0904 8266,-9224.1472\"/>\n<polygon fill=\"#000000\" stroke=\"#000000\" points=\"8269.5001,-9224.1328 8266,-9214.1328 8262.5001,-9224.1329 8269.5001,-9224.1328\"/>\n</g>\n<!-- 111 -->\n<g id=\"node112\" class=\"node\">\n<title>111</title>\n<path fill=\"#f4caab\" stroke=\"#000000\" d=\"M9365,-9214C9365,-9214 9167,-9214 9167,-9214 9161,-9214 9155,-9208 9155,-9202 9155,-9202 9155,-9158 9155,-9158 9155,-9152 9161,-9146 9167,-9146 9167,-9146 9365,-9146 9365,-9146 9371,-9146 9377,-9152 9377,-9158 9377,-9158 9377,-9202 9377,-9202 9377,-9208 9371,-9214 9365,-9214\"/>\n<text text-anchor=\"start\" x=\"9163\" y=\"-9198.8\" font-family=\"Helvetica,sans-Serif\" font-size=\"14.00\" fill=\"#000000\">lastReportedSpeedMPH ≤ &#45;11.5</text>\n<text text-anchor=\"start\" x=\"9198\" y=\"-9183.8\" font-family=\"Helvetica,sans-Serif\" font-size=\"14.00\" fill=\"#000000\">squared_error = 4.96</text>\n<text text-anchor=\"start\" x=\"9218\" y=\"-9168.8\" font-family=\"Helvetica,sans-Serif\" font-size=\"14.00\" fill=\"#000000\">samples = 175</text>\n<text text-anchor=\"start\" x=\"9219.5\" y=\"-9153.8\" font-family=\"Helvetica,sans-Serif\" font-size=\"14.00\" fill=\"#000000\">value = &#45;11.33</text>\n</g>\n<!-- 97&#45;&gt;111 -->\n<g id=\"edge111\" class=\"edge\">\n<title>97&#45;&gt;111</title>\n<path fill=\"none\" stroke=\"#000000\" d=\"M8296.7487,-10257.8074C8443.0551,-10095.1147 9068.2484,-9399.8998 9228.4707,-9221.7326\"/>\n<polygon fill=\"#000000\" stroke=\"#000000\" points=\"9231.2207,-9223.9088 9235.305,-9214.1328 9226.0158,-9219.2281 9231.2207,-9223.9088\"/>\n</g>\n<!-- 99 -->\n<g id=\"node100\" class=\"node\">\n<title>99</title>\n<path fill=\"#f6d2b9\" stroke=\"#000000\" d=\"M8205,-8102C8205,-8102 8007,-8102 8007,-8102 8001,-8102 7995,-8096 7995,-8090 7995,-8090 7995,-8046 7995,-8046 7995,-8040 8001,-8034 8007,-8034 8007,-8034 8205,-8034 8205,-8034 8211,-8034 8217,-8040 8217,-8046 8217,-8046 8217,-8090 8217,-8090 8217,-8096 8211,-8102 8205,-8102\"/>\n<text text-anchor=\"start\" x=\"8003\" y=\"-8086.8\" font-family=\"Helvetica,sans-Serif\" font-size=\"14.00\" fill=\"#000000\">lastReportedSpeedMPH ≤ &#45;21.5</text>\n<text text-anchor=\"start\" x=\"8038\" y=\"-8071.8\" font-family=\"Helvetica,sans-Serif\" font-size=\"14.00\" fill=\"#000000\">squared_error = 0.64</text>\n<text text-anchor=\"start\" x=\"8062\" y=\"-8056.8\" font-family=\"Helvetica,sans-Serif\" font-size=\"14.00\" fill=\"#000000\">samples = 82</text>\n<text text-anchor=\"start\" x=\"8063.5\" y=\"-8041.8\" font-family=\"Helvetica,sans-Serif\" font-size=\"14.00\" fill=\"#000000\">value = &#45;21.2</text>\n</g>\n<!-- 98&#45;&gt;99 -->\n<g id=\"edge99\" class=\"edge\">\n<title>98&#45;&gt;99</title>\n<path fill=\"none\" stroke=\"#000000\" d=\"M8261.0802,-9145.8074C8237.7756,-8983.8403 8138.531,-8294.0904 8112.3521,-8112.1472\"/>\n<polygon fill=\"#000000\" stroke=\"#000000\" points=\"8115.7998,-8111.5324 8110.9112,-8102.1328 8108.8711,-8112.5294 8115.7998,-8111.5324\"/>\n</g>\n<!-- 104 -->\n<g id=\"node105\" class=\"node\">\n<title>104</title>\n<path fill=\"#f5cfb4\" stroke=\"#000000\" d=\"M8567.5,-8102C8567.5,-8102 8316.5,-8102 8316.5,-8102 8310.5,-8102 8304.5,-8096 8304.5,-8090 8304.5,-8090 8304.5,-8046 8304.5,-8046 8304.5,-8040 8310.5,-8034 8316.5,-8034 8316.5,-8034 8567.5,-8034 8567.5,-8034 8573.5,-8034 8579.5,-8040 8579.5,-8046 8579.5,-8046 8579.5,-8090 8579.5,-8090 8579.5,-8096 8573.5,-8102 8567.5,-8102\"/>\n<text text-anchor=\"start\" x=\"8312.5\" y=\"-8086.8\" font-family=\"Helvetica,sans-Serif\" font-size=\"14.00\" fill=\"#000000\">lastReportedPosition.speedMPH ≤ &#45;17.5</text>\n<text text-anchor=\"start\" x=\"8374\" y=\"-8071.8\" font-family=\"Helvetica,sans-Serif\" font-size=\"14.00\" fill=\"#000000\">squared_error = 1.32</text>\n<text text-anchor=\"start\" x=\"8398\" y=\"-8056.8\" font-family=\"Helvetica,sans-Serif\" font-size=\"14.00\" fill=\"#000000\">samples = 80</text>\n<text text-anchor=\"start\" x=\"8395.5\" y=\"-8041.8\" font-family=\"Helvetica,sans-Serif\" font-size=\"14.00\" fill=\"#000000\">value = &#45;17.59</text>\n</g>\n<!-- 98&#45;&gt;104 -->\n<g id=\"edge104\" class=\"edge\">\n<title>98&#45;&gt;104</title>\n<path fill=\"none\" stroke=\"#000000\" d=\"M8271.4118,-9145.8074C8297.0469,-8983.8403 8406.2159,-8294.0904 8435.0127,-8112.1472\"/>\n<polygon fill=\"#000000\" stroke=\"#000000\" points=\"8438.4913,-8112.5571 8436.5977,-8102.1328 8431.5774,-8111.4627 8438.4913,-8112.5571\"/>\n</g>\n<!-- 100 -->\n<g id=\"node101\" class=\"node\">\n<title>100</title>\n<path fill=\"#f6d3ba\" stroke=\"#000000\" d=\"M7974,-309.5C7974,-309.5 7854,-309.5 7854,-309.5 7848,-309.5 7842,-303.5 7842,-297.5 7842,-297.5 7842,-268.5 7842,-268.5 7842,-262.5 7848,-256.5 7854,-256.5 7854,-256.5 7974,-256.5 7974,-256.5 7980,-256.5 7986,-262.5 7986,-268.5 7986,-268.5 7986,-297.5 7986,-297.5 7986,-303.5 7980,-309.5 7974,-309.5\"/>\n<text text-anchor=\"start\" x=\"7850\" y=\"-294.3\" font-family=\"Helvetica,sans-Serif\" font-size=\"14.00\" fill=\"#000000\">squared_error = 0.0</text>\n<text text-anchor=\"start\" x=\"7870\" y=\"-279.3\" font-family=\"Helvetica,sans-Serif\" font-size=\"14.00\" fill=\"#000000\">samples = 36</text>\n<text text-anchor=\"start\" x=\"7871.5\" y=\"-264.3\" font-family=\"Helvetica,sans-Serif\" font-size=\"14.00\" fill=\"#000000\">value = &#45;22.0</text>\n</g>\n<!-- 99&#45;&gt;100 -->\n<g id=\"edge100\" class=\"edge\">\n<title>99&#45;&gt;100</title>\n<path fill=\"none\" stroke=\"#000000\" d=\"M8101.3578,-8033.9572C8076.3707,-7850.7183 7959,-6990 7959,-6990 7959,-6990 7914,-5844 7914,-5844 7914,-5844 7914,-5844 7914,-2507 7914,-2507 7914,-609.559 7914,-319.8949\"/>\n<polygon fill=\"#000000\" stroke=\"#000000\" points=\"7917.5001,-319.5259 7914,-309.5259 7910.5001,-319.5259 7917.5001,-319.5259\"/>\n</g>\n<!-- 101 -->\n<g id=\"node102\" class=\"node\">\n<title>101</title>\n<path fill=\"#f6d2b8\" stroke=\"#000000\" d=\"M8231.5,-6990C8231.5,-6990 7980.5,-6990 7980.5,-6990 7974.5,-6990 7968.5,-6984 7968.5,-6978 7968.5,-6978 7968.5,-6934 7968.5,-6934 7968.5,-6928 7974.5,-6922 7980.5,-6922 7980.5,-6922 8231.5,-6922 8231.5,-6922 8237.5,-6922 8243.5,-6928 8243.5,-6934 8243.5,-6934 8243.5,-6978 8243.5,-6978 8243.5,-6984 8237.5,-6990 8231.5,-6990\"/>\n<text text-anchor=\"start\" x=\"7976.5\" y=\"-6974.8\" font-family=\"Helvetica,sans-Serif\" font-size=\"14.00\" fill=\"#000000\">lastReportedPosition.speedMPH ≤ &#45;20.5</text>\n<text text-anchor=\"start\" x=\"8038\" y=\"-6959.8\" font-family=\"Helvetica,sans-Serif\" font-size=\"14.00\" fill=\"#000000\">squared_error = 0.25</text>\n<text text-anchor=\"start\" x=\"8062\" y=\"-6944.8\" font-family=\"Helvetica,sans-Serif\" font-size=\"14.00\" fill=\"#000000\">samples = 46</text>\n<text text-anchor=\"start\" x=\"8059.5\" y=\"-6929.8\" font-family=\"Helvetica,sans-Serif\" font-size=\"14.00\" fill=\"#000000\">value = &#45;20.57</text>\n</g>\n<!-- 99&#45;&gt;101 -->\n<g id=\"edge101\" class=\"edge\">\n<title>99&#45;&gt;101</title>\n<path fill=\"none\" stroke=\"#000000\" d=\"M8106,-8033.8074C8106,-7871.8403 8106,-7182.0904 8106,-7000.1472\"/>\n<polygon fill=\"#000000\" stroke=\"#000000\" points=\"8109.5001,-7000.1328 8106,-6990.1328 8102.5001,-7000.1329 8109.5001,-7000.1328\"/>\n</g>\n<!-- 102 -->\n<g id=\"node103\" class=\"node\">\n<title>102</title>\n<path fill=\"#f6d2b9\" stroke=\"#000000\" d=\"M8136,-309.5C8136,-309.5 8016,-309.5 8016,-309.5 8010,-309.5 8004,-303.5 8004,-297.5 8004,-297.5 8004,-268.5 8004,-268.5 8004,-262.5 8010,-256.5 8016,-256.5 8016,-256.5 8136,-256.5 8136,-256.5 8142,-256.5 8148,-262.5 8148,-268.5 8148,-268.5 8148,-297.5 8148,-297.5 8148,-303.5 8142,-309.5 8136,-309.5\"/>\n<text text-anchor=\"start\" x=\"8012\" y=\"-294.3\" font-family=\"Helvetica,sans-Serif\" font-size=\"14.00\" fill=\"#000000\">squared_error = 0.0</text>\n<text text-anchor=\"start\" x=\"8032\" y=\"-279.3\" font-family=\"Helvetica,sans-Serif\" font-size=\"14.00\" fill=\"#000000\">samples = 26</text>\n<text text-anchor=\"start\" x=\"8033.5\" y=\"-264.3\" font-family=\"Helvetica,sans-Serif\" font-size=\"14.00\" fill=\"#000000\">value = &#45;21.0</text>\n</g>\n<!-- 101&#45;&gt;102 -->\n<g id=\"edge102\" class=\"edge\">\n<title>101&#45;&gt;102</title>\n<path fill=\"none\" stroke=\"#000000\" d=\"M8105.5408,-6921.9562C8101.7664,-6642.1492 8076,-4732 8076,-4732 8076,-4732 8076,-4732 8076,-2507 8076,-2507 8076,-609.559 8076,-319.8949\"/>\n<polygon fill=\"#000000\" stroke=\"#000000\" points=\"8079.5001,-319.5259 8076,-309.5259 8072.5001,-319.5259 8079.5001,-319.5259\"/>\n</g>\n<!-- 103 -->\n<g id=\"node104\" class=\"node\">\n<title>103</title>\n<path fill=\"#f6d1b7\" stroke=\"#000000\" d=\"M8298,-309.5C8298,-309.5 8178,-309.5 8178,-309.5 8172,-309.5 8166,-303.5 8166,-297.5 8166,-297.5 8166,-268.5 8166,-268.5 8166,-262.5 8172,-256.5 8178,-256.5 8178,-256.5 8298,-256.5 8298,-256.5 8304,-256.5 8310,-262.5 8310,-268.5 8310,-268.5 8310,-297.5 8310,-297.5 8310,-303.5 8304,-309.5 8298,-309.5\"/>\n<text text-anchor=\"start\" x=\"8174\" y=\"-294.3\" font-family=\"Helvetica,sans-Serif\" font-size=\"14.00\" fill=\"#000000\">squared_error = 0.0</text>\n<text text-anchor=\"start\" x=\"8194\" y=\"-279.3\" font-family=\"Helvetica,sans-Serif\" font-size=\"14.00\" fill=\"#000000\">samples = 20</text>\n<text text-anchor=\"start\" x=\"8195.5\" y=\"-264.3\" font-family=\"Helvetica,sans-Serif\" font-size=\"14.00\" fill=\"#000000\">value = &#45;20.0</text>\n</g>\n<!-- 101&#45;&gt;103 -->\n<g id=\"edge103\" class=\"edge\">\n<title>101&#45;&gt;103</title>\n<path fill=\"none\" stroke=\"#000000\" d=\"M8108.0206,-6921.9562C8124.6278,-6642.1492 8238,-4732 8238,-4732 8238,-4732 8238,-4732 8238,-2507 8238,-2507 8238,-609.559 8238,-319.8949\"/>\n<polygon fill=\"#000000\" stroke=\"#000000\" points=\"8241.5001,-319.5259 8238,-309.5259 8234.5001,-319.5259 8241.5001,-319.5259\"/>\n</g>\n<!-- 105 -->\n<g id=\"node106\" class=\"node\">\n<title>105</title>\n<path fill=\"#f5d0b5\" stroke=\"#000000\" d=\"M8541,-6990C8541,-6990 8343,-6990 8343,-6990 8337,-6990 8331,-6984 8331,-6978 8331,-6978 8331,-6934 8331,-6934 8331,-6928 8337,-6922 8343,-6922 8343,-6922 8541,-6922 8541,-6922 8547,-6922 8553,-6928 8553,-6934 8553,-6934 8553,-6978 8553,-6978 8553,-6984 8547,-6990 8541,-6990\"/>\n<text text-anchor=\"start\" x=\"8339\" y=\"-6974.8\" font-family=\"Helvetica,sans-Serif\" font-size=\"14.00\" fill=\"#000000\">lastReportedSpeedMPH ≤ &#45;18.5</text>\n<text text-anchor=\"start\" x=\"8374\" y=\"-6959.8\" font-family=\"Helvetica,sans-Serif\" font-size=\"14.00\" fill=\"#000000\">squared_error = 0.24</text>\n<text text-anchor=\"start\" x=\"8398\" y=\"-6944.8\" font-family=\"Helvetica,sans-Serif\" font-size=\"14.00\" fill=\"#000000\">samples = 42</text>\n<text text-anchor=\"start\" x=\"8395.5\" y=\"-6929.8\" font-family=\"Helvetica,sans-Serif\" font-size=\"14.00\" fill=\"#000000\">value = &#45;18.57</text>\n</g>\n<!-- 104&#45;&gt;105 -->\n<g id=\"edge105\" class=\"edge\">\n<title>104&#45;&gt;105</title>\n<path fill=\"none\" stroke=\"#000000\" d=\"M8442,-8033.8074C8442,-7871.8403 8442,-7182.0904 8442,-7000.1472\"/>\n<polygon fill=\"#000000\" stroke=\"#000000\" points=\"8445.5001,-7000.1328 8442,-6990.1328 8438.5001,-7000.1329 8445.5001,-7000.1328\"/>\n</g>\n<!-- 108 -->\n<g id=\"node109\" class=\"node\">\n<title>108</title>\n<path fill=\"#f5ceb2\" stroke=\"#000000\" d=\"M8823,-6990C8823,-6990 8625,-6990 8625,-6990 8619,-6990 8613,-6984 8613,-6978 8613,-6978 8613,-6934 8613,-6934 8613,-6928 8619,-6922 8625,-6922 8625,-6922 8823,-6922 8823,-6922 8829,-6922 8835,-6928 8835,-6934 8835,-6934 8835,-6978 8835,-6978 8835,-6984 8829,-6990 8823,-6990\"/>\n<text text-anchor=\"start\" x=\"8621\" y=\"-6974.8\" font-family=\"Helvetica,sans-Serif\" font-size=\"14.00\" fill=\"#000000\">lastReportedSpeedMPH ≤ &#45;16.5</text>\n<text text-anchor=\"start\" x=\"8656\" y=\"-6959.8\" font-family=\"Helvetica,sans-Serif\" font-size=\"14.00\" fill=\"#000000\">squared_error = 0.25</text>\n<text text-anchor=\"start\" x=\"8680\" y=\"-6944.8\" font-family=\"Helvetica,sans-Serif\" font-size=\"14.00\" fill=\"#000000\">samples = 38</text>\n<text text-anchor=\"start\" x=\"8681.5\" y=\"-6929.8\" font-family=\"Helvetica,sans-Serif\" font-size=\"14.00\" fill=\"#000000\">value = &#45;16.5</text>\n</g>\n<!-- 104&#45;&gt;108 -->\n<g id=\"edge108\" class=\"edge\">\n<title>104&#45;&gt;108</title>\n<path fill=\"none\" stroke=\"#000000\" d=\"M8450.6711,-8033.8074C8491.766,-7871.7597 8666.8383,-7181.4036 8712.8732,-6999.8758\"/>\n<polygon fill=\"#000000\" stroke=\"#000000\" points=\"8716.2784,-7000.6864 8715.344,-6990.1328 8709.4932,-6998.9656 8716.2784,-7000.6864\"/>\n</g>\n<!-- 106 -->\n<g id=\"node107\" class=\"node\">\n<title>106</title>\n<path fill=\"#f5d0b6\" stroke=\"#000000\" d=\"M8460,-309.5C8460,-309.5 8340,-309.5 8340,-309.5 8334,-309.5 8328,-303.5 8328,-297.5 8328,-297.5 8328,-268.5 8328,-268.5 8328,-262.5 8334,-256.5 8340,-256.5 8340,-256.5 8460,-256.5 8460,-256.5 8466,-256.5 8472,-262.5 8472,-268.5 8472,-268.5 8472,-297.5 8472,-297.5 8472,-303.5 8466,-309.5 8460,-309.5\"/>\n<text text-anchor=\"start\" x=\"8336\" y=\"-294.3\" font-family=\"Helvetica,sans-Serif\" font-size=\"14.00\" fill=\"#000000\">squared_error = 0.0</text>\n<text text-anchor=\"start\" x=\"8356\" y=\"-279.3\" font-family=\"Helvetica,sans-Serif\" font-size=\"14.00\" fill=\"#000000\">samples = 24</text>\n<text text-anchor=\"start\" x=\"8357.5\" y=\"-264.3\" font-family=\"Helvetica,sans-Serif\" font-size=\"14.00\" fill=\"#000000\">value = &#45;19.0</text>\n</g>\n<!-- 105&#45;&gt;106 -->\n<g id=\"edge106\" class=\"edge\">\n<title>105&#45;&gt;106</title>\n<path fill=\"none\" stroke=\"#000000\" d=\"M8441.3571,-6921.9562C8436.073,-6642.1492 8400,-4732 8400,-4732 8400,-4732 8400,-4732 8400,-2507 8400,-2507 8400,-609.559 8400,-319.8949\"/>\n<polygon fill=\"#000000\" stroke=\"#000000\" points=\"8403.5001,-319.5259 8400,-309.5259 8396.5001,-319.5259 8403.5001,-319.5259\"/>\n</g>\n<!-- 107 -->\n<g id=\"node108\" class=\"node\">\n<title>107</title>\n<path fill=\"#f5cfb4\" stroke=\"#000000\" d=\"M8622,-309.5C8622,-309.5 8502,-309.5 8502,-309.5 8496,-309.5 8490,-303.5 8490,-297.5 8490,-297.5 8490,-268.5 8490,-268.5 8490,-262.5 8496,-256.5 8502,-256.5 8502,-256.5 8622,-256.5 8622,-256.5 8628,-256.5 8634,-262.5 8634,-268.5 8634,-268.5 8634,-297.5 8634,-297.5 8634,-303.5 8628,-309.5 8622,-309.5\"/>\n<text text-anchor=\"start\" x=\"8498\" y=\"-294.3\" font-family=\"Helvetica,sans-Serif\" font-size=\"14.00\" fill=\"#000000\">squared_error = 0.0</text>\n<text text-anchor=\"start\" x=\"8518\" y=\"-279.3\" font-family=\"Helvetica,sans-Serif\" font-size=\"14.00\" fill=\"#000000\">samples = 18</text>\n<text text-anchor=\"start\" x=\"8519.5\" y=\"-264.3\" font-family=\"Helvetica,sans-Serif\" font-size=\"14.00\" fill=\"#000000\">value = &#45;18.0</text>\n</g>\n<!-- 105&#45;&gt;107 -->\n<g id=\"edge107\" class=\"edge\">\n<title>105&#45;&gt;107</title>\n<path fill=\"none\" stroke=\"#000000\" d=\"M8443.8369,-6921.9562C8458.9344,-6642.1492 8562,-4732 8562,-4732 8562,-4732 8562,-4732 8562,-2507 8562,-2507 8562,-609.559 8562,-319.8949\"/>\n<polygon fill=\"#000000\" stroke=\"#000000\" points=\"8565.5001,-319.5259 8562,-309.5259 8558.5001,-319.5259 8565.5001,-319.5259\"/>\n</g>\n<!-- 109 -->\n<g id=\"node110\" class=\"node\">\n<title>109</title>\n<path fill=\"#f5cfb3\" stroke=\"#000000\" d=\"M8784,-309.5C8784,-309.5 8664,-309.5 8664,-309.5 8658,-309.5 8652,-303.5 8652,-297.5 8652,-297.5 8652,-268.5 8652,-268.5 8652,-262.5 8658,-256.5 8664,-256.5 8664,-256.5 8784,-256.5 8784,-256.5 8790,-256.5 8796,-262.5 8796,-268.5 8796,-268.5 8796,-297.5 8796,-297.5 8796,-303.5 8790,-309.5 8784,-309.5\"/>\n<text text-anchor=\"start\" x=\"8660\" y=\"-294.3\" font-family=\"Helvetica,sans-Serif\" font-size=\"14.00\" fill=\"#000000\">squared_error = 0.0</text>\n<text text-anchor=\"start\" x=\"8680\" y=\"-279.3\" font-family=\"Helvetica,sans-Serif\" font-size=\"14.00\" fill=\"#000000\">samples = 19</text>\n<text text-anchor=\"start\" x=\"8681.5\" y=\"-264.3\" font-family=\"Helvetica,sans-Serif\" font-size=\"14.00\" fill=\"#000000\">value = &#45;17.0</text>\n</g>\n<!-- 108&#45;&gt;109 -->\n<g id=\"edge109\" class=\"edge\">\n<title>108&#45;&gt;109</title>\n<path fill=\"none\" stroke=\"#000000\" d=\"M8724,-6921.9562C8724,-6642.1492 8724,-4732 8724,-4732 8724,-4732 8724,-4732 8724,-2507 8724,-2507 8724,-609.559 8724,-319.8949\"/>\n<polygon fill=\"#000000\" stroke=\"#000000\" points=\"8727.5001,-319.5259 8724,-309.5259 8720.5001,-319.5259 8727.5001,-319.5259\"/>\n</g>\n<!-- 110 -->\n<g id=\"node111\" class=\"node\">\n<title>110</title>\n<path fill=\"#f5ceb2\" stroke=\"#000000\" d=\"M8946,-309.5C8946,-309.5 8826,-309.5 8826,-309.5 8820,-309.5 8814,-303.5 8814,-297.5 8814,-297.5 8814,-268.5 8814,-268.5 8814,-262.5 8820,-256.5 8826,-256.5 8826,-256.5 8946,-256.5 8946,-256.5 8952,-256.5 8958,-262.5 8958,-268.5 8958,-268.5 8958,-297.5 8958,-297.5 8958,-303.5 8952,-309.5 8946,-309.5\"/>\n<text text-anchor=\"start\" x=\"8822\" y=\"-294.3\" font-family=\"Helvetica,sans-Serif\" font-size=\"14.00\" fill=\"#000000\">squared_error = 0.0</text>\n<text text-anchor=\"start\" x=\"8842\" y=\"-279.3\" font-family=\"Helvetica,sans-Serif\" font-size=\"14.00\" fill=\"#000000\">samples = 19</text>\n<text text-anchor=\"start\" x=\"8843.5\" y=\"-264.3\" font-family=\"Helvetica,sans-Serif\" font-size=\"14.00\" fill=\"#000000\">value = &#45;16.0</text>\n</g>\n<!-- 108&#45;&gt;110 -->\n<g id=\"edge110\" class=\"edge\">\n<title>108&#45;&gt;110</title>\n<path fill=\"none\" stroke=\"#000000\" d=\"M8726.4798,-6921.9562C8746.8614,-6642.1492 8886,-4732 8886,-4732 8886,-4732 8886,-4732 8886,-2507 8886,-2507 8886,-609.559 8886,-319.8949\"/>\n<polygon fill=\"#000000\" stroke=\"#000000\" points=\"8889.5001,-319.5259 8886,-309.5259 8882.5001,-319.5259 8889.5001,-319.5259\"/>\n</g>\n<!-- 112 -->\n<g id=\"node113\" class=\"node\">\n<title>112</title>\n<path fill=\"#f4cbae\" stroke=\"#000000\" d=\"M9391.5,-8102C9391.5,-8102 9140.5,-8102 9140.5,-8102 9134.5,-8102 9128.5,-8096 9128.5,-8090 9128.5,-8090 9128.5,-8046 9128.5,-8046 9128.5,-8040 9134.5,-8034 9140.5,-8034 9140.5,-8034 9391.5,-8034 9391.5,-8034 9397.5,-8034 9403.5,-8040 9403.5,-8046 9403.5,-8046 9403.5,-8090 9403.5,-8090 9403.5,-8096 9397.5,-8102 9391.5,-8102\"/>\n<text text-anchor=\"start\" x=\"9136.5\" y=\"-8086.8\" font-family=\"Helvetica,sans-Serif\" font-size=\"14.00\" fill=\"#000000\">lastReportedPosition.speedMPH ≤ &#45;13.5</text>\n<text text-anchor=\"start\" x=\"9198\" y=\"-8071.8\" font-family=\"Helvetica,sans-Serif\" font-size=\"14.00\" fill=\"#000000\">squared_error = 1.27</text>\n<text text-anchor=\"start\" x=\"9222\" y=\"-8056.8\" font-family=\"Helvetica,sans-Serif\" font-size=\"14.00\" fill=\"#000000\">samples = 80</text>\n<text text-anchor=\"start\" x=\"9219.5\" y=\"-8041.8\" font-family=\"Helvetica,sans-Serif\" font-size=\"14.00\" fill=\"#000000\">value = &#45;13.46</text>\n</g>\n<!-- 111&#45;&gt;112 -->\n<g id=\"edge112\" class=\"edge\">\n<title>111&#45;&gt;112</title>\n<path fill=\"none\" stroke=\"#000000\" d=\"M9266,-9145.8074C9266,-8983.8403 9266,-8294.0904 9266,-8112.1472\"/>\n<polygon fill=\"#000000\" stroke=\"#000000\" points=\"9269.5001,-8112.1328 9266,-8102.1328 9262.5001,-8112.1329 9269.5001,-8112.1328\"/>\n</g>\n<!-- 119 -->\n<g id=\"node120\" class=\"node\">\n<title>119</title>\n<path fill=\"#f4c8a8\" stroke=\"#000000\" d=\"M9821,-8102C9821,-8102 9631,-8102 9631,-8102 9625,-8102 9619,-8096 9619,-8090 9619,-8090 9619,-8046 9619,-8046 9619,-8040 9625,-8034 9631,-8034 9631,-8034 9821,-8034 9821,-8034 9827,-8034 9833,-8040 9833,-8046 9833,-8046 9833,-8090 9833,-8090 9833,-8096 9827,-8102 9821,-8102\"/>\n<text text-anchor=\"start\" x=\"9627\" y=\"-8086.8\" font-family=\"Helvetica,sans-Serif\" font-size=\"14.00\" fill=\"#000000\">lastReportedSpeedMPH ≤ &#45;9.5</text>\n<text text-anchor=\"start\" x=\"9658\" y=\"-8071.8\" font-family=\"Helvetica,sans-Serif\" font-size=\"14.00\" fill=\"#000000\">squared_error = 1.03</text>\n<text text-anchor=\"start\" x=\"9682\" y=\"-8056.8\" font-family=\"Helvetica,sans-Serif\" font-size=\"14.00\" fill=\"#000000\">samples = 95</text>\n<text text-anchor=\"start\" x=\"9683.5\" y=\"-8041.8\" font-family=\"Helvetica,sans-Serif\" font-size=\"14.00\" fill=\"#000000\">value = &#45;9.54</text>\n</g>\n<!-- 111&#45;&gt;119 -->\n<g id=\"edge119\" class=\"edge\">\n<title>111&#45;&gt;119</title>\n<path fill=\"none\" stroke=\"#000000\" d=\"M9280.1444,-9145.8074C9347.2119,-8983.6791 9633.0417,-8292.7165 9707.9618,-8111.6053\"/>\n<polygon fill=\"#000000\" stroke=\"#000000\" points=\"9711.2919,-8112.7113 9711.8803,-8102.1328 9704.8235,-8110.0355 9711.2919,-8112.7113\"/>\n</g>\n<!-- 113 -->\n<g id=\"node114\" class=\"node\">\n<title>113</title>\n<path fill=\"#f5ccaf\" stroke=\"#000000\" d=\"M9258.5,-6990C9258.5,-6990 9007.5,-6990 9007.5,-6990 9001.5,-6990 8995.5,-6984 8995.5,-6978 8995.5,-6978 8995.5,-6934 8995.5,-6934 8995.5,-6928 9001.5,-6922 9007.5,-6922 9007.5,-6922 9258.5,-6922 9258.5,-6922 9264.5,-6922 9270.5,-6928 9270.5,-6934 9270.5,-6934 9270.5,-6978 9270.5,-6978 9270.5,-6984 9264.5,-6990 9258.5,-6990\"/>\n<text text-anchor=\"start\" x=\"9003.5\" y=\"-6974.8\" font-family=\"Helvetica,sans-Serif\" font-size=\"14.00\" fill=\"#000000\">lastReportedPosition.speedMPH ≤ &#45;14.5</text>\n<text text-anchor=\"start\" x=\"9065\" y=\"-6959.8\" font-family=\"Helvetica,sans-Serif\" font-size=\"14.00\" fill=\"#000000\">squared_error = 0.25</text>\n<text text-anchor=\"start\" x=\"9089\" y=\"-6944.8\" font-family=\"Helvetica,sans-Serif\" font-size=\"14.00\" fill=\"#000000\">samples = 40</text>\n<text text-anchor=\"start\" x=\"9086.5\" y=\"-6929.8\" font-family=\"Helvetica,sans-Serif\" font-size=\"14.00\" fill=\"#000000\">value = &#45;14.48</text>\n</g>\n<!-- 112&#45;&gt;113 -->\n<g id=\"edge113\" class=\"edge\">\n<title>112&#45;&gt;113</title>\n<path fill=\"none\" stroke=\"#000000\" d=\"M9261.9104,-8033.8074C9242.5385,-7871.8403 9160.0414,-7182.0904 9138.2802,-7000.1472\"/>\n<polygon fill=\"#000000\" stroke=\"#000000\" points=\"9141.7453,-6999.6464 9137.0824,-6990.1328 9134.7949,-7000.4778 9141.7453,-6999.6464\"/>\n</g>\n<!-- 116 -->\n<g id=\"node117\" class=\"node\">\n<title>116</title>\n<path fill=\"#f4cbad\" stroke=\"#000000\" d=\"M9499,-6990C9499,-6990 9301,-6990 9301,-6990 9295,-6990 9289,-6984 9289,-6978 9289,-6978 9289,-6934 9289,-6934 9289,-6928 9295,-6922 9301,-6922 9301,-6922 9499,-6922 9499,-6922 9505,-6922 9511,-6928 9511,-6934 9511,-6934 9511,-6978 9511,-6978 9511,-6984 9505,-6990 9499,-6990\"/>\n<text text-anchor=\"start\" x=\"9297\" y=\"-6974.8\" font-family=\"Helvetica,sans-Serif\" font-size=\"14.00\" fill=\"#000000\">lastReportedSpeedMPH ≤ &#45;12.5</text>\n<text text-anchor=\"start\" x=\"9332\" y=\"-6959.8\" font-family=\"Helvetica,sans-Serif\" font-size=\"14.00\" fill=\"#000000\">squared_error = 0.25</text>\n<text text-anchor=\"start\" x=\"9356\" y=\"-6944.8\" font-family=\"Helvetica,sans-Serif\" font-size=\"14.00\" fill=\"#000000\">samples = 40</text>\n<text text-anchor=\"start\" x=\"9353.5\" y=\"-6929.8\" font-family=\"Helvetica,sans-Serif\" font-size=\"14.00\" fill=\"#000000\">value = &#45;12.45</text>\n</g>\n<!-- 112&#45;&gt;116 -->\n<g id=\"edge116\" class=\"edge\">\n<title>112&#45;&gt;116</title>\n<path fill=\"none\" stroke=\"#000000\" d=\"M9270.1203,-8033.8074C9289.6379,-7871.8403 9372.7553,-7182.0904 9394.6801,-7000.1472\"/>\n<polygon fill=\"#000000\" stroke=\"#000000\" points=\"9398.1653,-7000.4798 9395.8869,-6990.1328 9391.2155,-6999.6422 9398.1653,-7000.4798\"/>\n</g>\n<!-- 114 -->\n<g id=\"node115\" class=\"node\">\n<title>114</title>\n<path fill=\"#f5cdb0\" stroke=\"#000000\" d=\"M9108,-309.5C9108,-309.5 8988,-309.5 8988,-309.5 8982,-309.5 8976,-303.5 8976,-297.5 8976,-297.5 8976,-268.5 8976,-268.5 8976,-262.5 8982,-256.5 8988,-256.5 8988,-256.5 9108,-256.5 9108,-256.5 9114,-256.5 9120,-262.5 9120,-268.5 9120,-268.5 9120,-297.5 9120,-297.5 9120,-303.5 9114,-309.5 9108,-309.5\"/>\n<text text-anchor=\"start\" x=\"8984\" y=\"-294.3\" font-family=\"Helvetica,sans-Serif\" font-size=\"14.00\" fill=\"#000000\">squared_error = 0.0</text>\n<text text-anchor=\"start\" x=\"9004\" y=\"-279.3\" font-family=\"Helvetica,sans-Serif\" font-size=\"14.00\" fill=\"#000000\">samples = 19</text>\n<text text-anchor=\"start\" x=\"9005.5\" y=\"-264.3\" font-family=\"Helvetica,sans-Serif\" font-size=\"14.00\" fill=\"#000000\">value = &#45;15.0</text>\n</g>\n<!-- 113&#45;&gt;114 -->\n<g id=\"edge114\" class=\"edge\">\n<title>113&#45;&gt;114</title>\n<path fill=\"none\" stroke=\"#000000\" d=\"M9131.6989,-6921.9562C9121.0048,-6642.1492 9048,-4732 9048,-4732 9048,-4732 9048,-4732 9048,-2507 9048,-2507 9048,-609.559 9048,-319.8949\"/>\n<polygon fill=\"#000000\" stroke=\"#000000\" points=\"9051.5001,-319.5259 9048,-309.5259 9044.5001,-319.5259 9051.5001,-319.5259\"/>\n</g>\n<!-- 115 -->\n<g id=\"node116\" class=\"node\">\n<title>115</title>\n<path fill=\"#f4ccaf\" stroke=\"#000000\" d=\"M9270,-309.5C9270,-309.5 9150,-309.5 9150,-309.5 9144,-309.5 9138,-303.5 9138,-297.5 9138,-297.5 9138,-268.5 9138,-268.5 9138,-262.5 9144,-256.5 9150,-256.5 9150,-256.5 9270,-256.5 9270,-256.5 9276,-256.5 9282,-262.5 9282,-268.5 9282,-268.5 9282,-297.5 9282,-297.5 9282,-303.5 9276,-309.5 9270,-309.5\"/>\n<text text-anchor=\"start\" x=\"9146\" y=\"-294.3\" font-family=\"Helvetica,sans-Serif\" font-size=\"14.00\" fill=\"#000000\">squared_error = 0.0</text>\n<text text-anchor=\"start\" x=\"9166\" y=\"-279.3\" font-family=\"Helvetica,sans-Serif\" font-size=\"14.00\" fill=\"#000000\">samples = 21</text>\n<text text-anchor=\"start\" x=\"9167.5\" y=\"-264.3\" font-family=\"Helvetica,sans-Serif\" font-size=\"14.00\" fill=\"#000000\">value = &#45;14.0</text>\n</g>\n<!-- 113&#45;&gt;115 -->\n<g id=\"edge115\" class=\"edge\">\n<title>113&#45;&gt;115</title>\n<path fill=\"none\" stroke=\"#000000\" d=\"M9134.1787,-6921.9562C9143.8662,-6642.1492 9210,-4732 9210,-4732 9210,-4732 9210,-4732 9210,-2507 9210,-2507 9210,-609.559 9210,-319.8949\"/>\n<polygon fill=\"#000000\" stroke=\"#000000\" points=\"9213.5001,-319.5259 9210,-309.5259 9206.5001,-319.5259 9213.5001,-319.5259\"/>\n</g>\n<!-- 117 -->\n<g id=\"node118\" class=\"node\">\n<title>117</title>\n<path fill=\"#f4cbad\" stroke=\"#000000\" d=\"M9432,-309.5C9432,-309.5 9312,-309.5 9312,-309.5 9306,-309.5 9300,-303.5 9300,-297.5 9300,-297.5 9300,-268.5 9300,-268.5 9300,-262.5 9306,-256.5 9312,-256.5 9312,-256.5 9432,-256.5 9432,-256.5 9438,-256.5 9444,-262.5 9444,-268.5 9444,-268.5 9444,-297.5 9444,-297.5 9444,-303.5 9438,-309.5 9432,-309.5\"/>\n<text text-anchor=\"start\" x=\"9308\" y=\"-294.3\" font-family=\"Helvetica,sans-Serif\" font-size=\"14.00\" fill=\"#000000\">squared_error = 0.0</text>\n<text text-anchor=\"start\" x=\"9328\" y=\"-279.3\" font-family=\"Helvetica,sans-Serif\" font-size=\"14.00\" fill=\"#000000\">samples = 18</text>\n<text text-anchor=\"start\" x=\"9329.5\" y=\"-264.3\" font-family=\"Helvetica,sans-Serif\" font-size=\"14.00\" fill=\"#000000\">value = &#45;13.0</text>\n</g>\n<!-- 116&#45;&gt;117 -->\n<g id=\"edge117\" class=\"edge\">\n<title>116&#45;&gt;117</title>\n<path fill=\"none\" stroke=\"#000000\" d=\"M9399.5714,-6921.9562C9396.0486,-6642.1492 9372,-4732 9372,-4732 9372,-4732 9372,-4732 9372,-2507 9372,-2507 9372,-609.559 9372,-319.8949\"/>\n<polygon fill=\"#000000\" stroke=\"#000000\" points=\"9375.5001,-319.5259 9372,-309.5259 9368.5001,-319.5259 9375.5001,-319.5259\"/>\n</g>\n<!-- 118 -->\n<g id=\"node119\" class=\"node\">\n<title>118</title>\n<path fill=\"#f4caac\" stroke=\"#000000\" d=\"M9594,-309.5C9594,-309.5 9474,-309.5 9474,-309.5 9468,-309.5 9462,-303.5 9462,-297.5 9462,-297.5 9462,-268.5 9462,-268.5 9462,-262.5 9468,-256.5 9474,-256.5 9474,-256.5 9594,-256.5 9594,-256.5 9600,-256.5 9606,-262.5 9606,-268.5 9606,-268.5 9606,-297.5 9606,-297.5 9606,-303.5 9600,-309.5 9594,-309.5\"/>\n<text text-anchor=\"start\" x=\"9470\" y=\"-294.3\" font-family=\"Helvetica,sans-Serif\" font-size=\"14.00\" fill=\"#000000\">squared_error = 0.0</text>\n<text text-anchor=\"start\" x=\"9490\" y=\"-279.3\" font-family=\"Helvetica,sans-Serif\" font-size=\"14.00\" fill=\"#000000\">samples = 22</text>\n<text text-anchor=\"start\" x=\"9491.5\" y=\"-264.3\" font-family=\"Helvetica,sans-Serif\" font-size=\"14.00\" fill=\"#000000\">value = &#45;12.0</text>\n</g>\n<!-- 116&#45;&gt;118 -->\n<g id=\"edge118\" class=\"edge\">\n<title>116&#45;&gt;118</title>\n<path fill=\"none\" stroke=\"#000000\" d=\"M9402.0512,-6921.9562C9418.9101,-6642.1492 9534,-4732 9534,-4732 9534,-4732 9534,-4732 9534,-2507 9534,-2507 9534,-609.559 9534,-319.8949\"/>\n<polygon fill=\"#000000\" stroke=\"#000000\" points=\"9537.5001,-319.5259 9534,-309.5259 9530.5001,-319.5259 9537.5001,-319.5259\"/>\n</g>\n<!-- 120 -->\n<g id=\"node121\" class=\"node\">\n<title>120</title>\n<path fill=\"#f4c9a9\" stroke=\"#000000\" d=\"M9851.5,-6990C9851.5,-6990 9600.5,-6990 9600.5,-6990 9594.5,-6990 9588.5,-6984 9588.5,-6978 9588.5,-6978 9588.5,-6934 9588.5,-6934 9588.5,-6928 9594.5,-6922 9600.5,-6922 9600.5,-6922 9851.5,-6922 9851.5,-6922 9857.5,-6922 9863.5,-6928 9863.5,-6934 9863.5,-6934 9863.5,-6978 9863.5,-6978 9863.5,-6984 9857.5,-6990 9851.5,-6990\"/>\n<text text-anchor=\"start\" x=\"9596.5\" y=\"-6974.8\" font-family=\"Helvetica,sans-Serif\" font-size=\"14.00\" fill=\"#000000\">lastReportedPosition.speedMPH ≤ &#45;10.5</text>\n<text text-anchor=\"start\" x=\"9662\" y=\"-6959.8\" font-family=\"Helvetica,sans-Serif\" font-size=\"14.00\" fill=\"#000000\">squared_error = 0.2</text>\n<text text-anchor=\"start\" x=\"9682\" y=\"-6944.8\" font-family=\"Helvetica,sans-Serif\" font-size=\"14.00\" fill=\"#000000\">samples = 56</text>\n<text text-anchor=\"start\" x=\"9679.5\" y=\"-6929.8\" font-family=\"Helvetica,sans-Serif\" font-size=\"14.00\" fill=\"#000000\">value = &#45;10.29</text>\n</g>\n<!-- 119&#45;&gt;120 -->\n<g id=\"edge120\" class=\"edge\">\n<title>119&#45;&gt;120</title>\n<path fill=\"none\" stroke=\"#000000\" d=\"M9726,-8033.8074C9726,-7871.8403 9726,-7182.0904 9726,-7000.1472\"/>\n<polygon fill=\"#000000\" stroke=\"#000000\" points=\"9729.5001,-7000.1328 9726,-6990.1328 9722.5001,-7000.1329 9729.5001,-7000.1328\"/>\n</g>\n<!-- 123 -->\n<g id=\"node124\" class=\"node\">\n<title>123</title>\n<path fill=\"#f3c7a7\" stroke=\"#000000\" d=\"M10115,-6990C10115,-6990 9925,-6990 9925,-6990 9919,-6990 9913,-6984 9913,-6978 9913,-6978 9913,-6934 9913,-6934 9913,-6928 9919,-6922 9925,-6922 9925,-6922 10115,-6922 10115,-6922 10121,-6922 10127,-6928 10127,-6934 10127,-6934 10127,-6978 10127,-6978 10127,-6984 10121,-6990 10115,-6990\"/>\n<text text-anchor=\"start\" x=\"9921\" y=\"-6974.8\" font-family=\"Helvetica,sans-Serif\" font-size=\"14.00\" fill=\"#000000\">lastReportedSpeedMPH ≤ &#45;8.5</text>\n<text text-anchor=\"start\" x=\"9952\" y=\"-6959.8\" font-family=\"Helvetica,sans-Serif\" font-size=\"14.00\" fill=\"#000000\">squared_error = 0.25</text>\n<text text-anchor=\"start\" x=\"9976\" y=\"-6944.8\" font-family=\"Helvetica,sans-Serif\" font-size=\"14.00\" fill=\"#000000\">samples = 39</text>\n<text text-anchor=\"start\" x=\"9977.5\" y=\"-6929.8\" font-family=\"Helvetica,sans-Serif\" font-size=\"14.00\" fill=\"#000000\">value = &#45;8.46</text>\n</g>\n<!-- 119&#45;&gt;123 -->\n<g id=\"edge123\" class=\"edge\">\n<title>119&#45;&gt;123</title>\n<path fill=\"none\" stroke=\"#000000\" d=\"M9735.0401,-8033.8074C9777.8837,-7871.7597 9960.4059,-7181.4036 10008.3997,-6999.8758\"/>\n<polygon fill=\"#000000\" stroke=\"#000000\" points=\"10011.8033,-7000.6953 10010.9757,-6990.1328 10005.0358,-6998.906 10011.8033,-7000.6953\"/>\n</g>\n<!-- 121 -->\n<g id=\"node122\" class=\"node\">\n<title>121</title>\n<path fill=\"#f4c9aa\" stroke=\"#000000\" d=\"M9756,-309.5C9756,-309.5 9636,-309.5 9636,-309.5 9630,-309.5 9624,-303.5 9624,-297.5 9624,-297.5 9624,-268.5 9624,-268.5 9624,-262.5 9630,-256.5 9636,-256.5 9636,-256.5 9756,-256.5 9756,-256.5 9762,-256.5 9768,-262.5 9768,-268.5 9768,-268.5 9768,-297.5 9768,-297.5 9768,-303.5 9762,-309.5 9756,-309.5\"/>\n<text text-anchor=\"start\" x=\"9632\" y=\"-294.3\" font-family=\"Helvetica,sans-Serif\" font-size=\"14.00\" fill=\"#000000\">squared_error = 0.0</text>\n<text text-anchor=\"start\" x=\"9652\" y=\"-279.3\" font-family=\"Helvetica,sans-Serif\" font-size=\"14.00\" fill=\"#000000\">samples = 16</text>\n<text text-anchor=\"start\" x=\"9653.5\" y=\"-264.3\" font-family=\"Helvetica,sans-Serif\" font-size=\"14.00\" fill=\"#000000\">value = &#45;11.0</text>\n</g>\n<!-- 120&#45;&gt;121 -->\n<g id=\"edge121\" class=\"edge\">\n<title>120&#45;&gt;121</title>\n<path fill=\"none\" stroke=\"#000000\" d=\"M9725.5408,-6921.9562C9721.7664,-6642.1492 9696,-4732 9696,-4732 9696,-4732 9696,-4732 9696,-2507 9696,-2507 9696,-609.559 9696,-319.8949\"/>\n<polygon fill=\"#000000\" stroke=\"#000000\" points=\"9699.5001,-319.5259 9696,-309.5259 9692.5001,-319.5259 9699.5001,-319.5259\"/>\n</g>\n<!-- 122 -->\n<g id=\"node123\" class=\"node\">\n<title>122</title>\n<path fill=\"#f4c8a9\" stroke=\"#000000\" d=\"M9918,-309.5C9918,-309.5 9798,-309.5 9798,-309.5 9792,-309.5 9786,-303.5 9786,-297.5 9786,-297.5 9786,-268.5 9786,-268.5 9786,-262.5 9792,-256.5 9798,-256.5 9798,-256.5 9918,-256.5 9918,-256.5 9924,-256.5 9930,-262.5 9930,-268.5 9930,-268.5 9930,-297.5 9930,-297.5 9930,-303.5 9924,-309.5 9918,-309.5\"/>\n<text text-anchor=\"start\" x=\"9794\" y=\"-294.3\" font-family=\"Helvetica,sans-Serif\" font-size=\"14.00\" fill=\"#000000\">squared_error = 0.0</text>\n<text text-anchor=\"start\" x=\"9814\" y=\"-279.3\" font-family=\"Helvetica,sans-Serif\" font-size=\"14.00\" fill=\"#000000\">samples = 40</text>\n<text text-anchor=\"start\" x=\"9815.5\" y=\"-264.3\" font-family=\"Helvetica,sans-Serif\" font-size=\"14.00\" fill=\"#000000\">value = &#45;10.0</text>\n</g>\n<!-- 120&#45;&gt;122 -->\n<g id=\"edge122\" class=\"edge\">\n<title>120&#45;&gt;122</title>\n<path fill=\"none\" stroke=\"#000000\" d=\"M9728.0206,-6921.9562C9744.6278,-6642.1492 9858,-4732 9858,-4732 9858,-4732 9858,-4732 9858,-2507 9858,-2507 9858,-609.559 9858,-319.8949\"/>\n<polygon fill=\"#000000\" stroke=\"#000000\" points=\"9861.5001,-319.5259 9858,-309.5259 9854.5001,-319.5259 9861.5001,-319.5259\"/>\n</g>\n<!-- 124 -->\n<g id=\"node125\" class=\"node\">\n<title>124</title>\n<path fill=\"#f4c7a8\" stroke=\"#000000\" d=\"M10080,-309.5C10080,-309.5 9960,-309.5 9960,-309.5 9954,-309.5 9948,-303.5 9948,-297.5 9948,-297.5 9948,-268.5 9948,-268.5 9948,-262.5 9954,-256.5 9960,-256.5 9960,-256.5 10080,-256.5 10080,-256.5 10086,-256.5 10092,-262.5 10092,-268.5 10092,-268.5 10092,-297.5 10092,-297.5 10092,-303.5 10086,-309.5 10080,-309.5\"/>\n<text text-anchor=\"start\" x=\"9956\" y=\"-294.3\" font-family=\"Helvetica,sans-Serif\" font-size=\"14.00\" fill=\"#000000\">squared_error = 0.0</text>\n<text text-anchor=\"start\" x=\"9976\" y=\"-279.3\" font-family=\"Helvetica,sans-Serif\" font-size=\"14.00\" fill=\"#000000\">samples = 18</text>\n<text text-anchor=\"start\" x=\"9982\" y=\"-264.3\" font-family=\"Helvetica,sans-Serif\" font-size=\"14.00\" fill=\"#000000\">value = &#45;9.0</text>\n</g>\n<!-- 123&#45;&gt;124 -->\n<g id=\"edge124\" class=\"edge\">\n<title>123&#45;&gt;124</title>\n<path fill=\"none\" stroke=\"#000000\" d=\"M10020,-6921.9562C10020,-6642.1492 10020,-4732 10020,-4732 10020,-4732 10020,-4732 10020,-2507 10020,-2507 10020,-609.559 10020,-319.8949\"/>\n<polygon fill=\"#000000\" stroke=\"#000000\" points=\"10023.5001,-319.5259 10020,-309.5259 10016.5001,-319.5259 10023.5001,-319.5259\"/>\n</g>\n<!-- 125 -->\n<g id=\"node126\" class=\"node\">\n<title>125</title>\n<path fill=\"#f3c7a6\" stroke=\"#000000\" d=\"M10242,-309.5C10242,-309.5 10122,-309.5 10122,-309.5 10116,-309.5 10110,-303.5 10110,-297.5 10110,-297.5 10110,-268.5 10110,-268.5 10110,-262.5 10116,-256.5 10122,-256.5 10122,-256.5 10242,-256.5 10242,-256.5 10248,-256.5 10254,-262.5 10254,-268.5 10254,-268.5 10254,-297.5 10254,-297.5 10254,-303.5 10248,-309.5 10242,-309.5\"/>\n<text text-anchor=\"start\" x=\"10118\" y=\"-294.3\" font-family=\"Helvetica,sans-Serif\" font-size=\"14.00\" fill=\"#000000\">squared_error = 0.0</text>\n<text text-anchor=\"start\" x=\"10138\" y=\"-279.3\" font-family=\"Helvetica,sans-Serif\" font-size=\"14.00\" fill=\"#000000\">samples = 21</text>\n<text text-anchor=\"start\" x=\"10144\" y=\"-264.3\" font-family=\"Helvetica,sans-Serif\" font-size=\"14.00\" fill=\"#000000\">value = &#45;8.0</text>\n</g>\n<!-- 123&#45;&gt;125 -->\n<g id=\"edge125\" class=\"edge\">\n<title>123&#45;&gt;125</title>\n<path fill=\"none\" stroke=\"#000000\" d=\"M10022.4798,-6921.9562C10042.8614,-6642.1492 10182,-4732 10182,-4732 10182,-4732 10182,-4732 10182,-2507 10182,-2507 10182,-609.559 10182,-319.8949\"/>\n<polygon fill=\"#000000\" stroke=\"#000000\" points=\"10185.5001,-319.5259 10182,-309.5259 10178.5001,-319.5259 10185.5001,-319.5259\"/>\n</g>\n<!-- 127 -->\n<g id=\"node128\" class=\"node\">\n<title>127</title>\n<path fill=\"#f1bc96\" stroke=\"#000000\" d=\"M14039.5,-11438C14039.5,-11438 13800.5,-11438 13800.5,-11438 13794.5,-11438 13788.5,-11432 13788.5,-11426 13788.5,-11426 13788.5,-11382 13788.5,-11382 13788.5,-11376 13794.5,-11370 13800.5,-11370 13800.5,-11370 14039.5,-11370 14039.5,-11370 14045.5,-11370 14051.5,-11376 14051.5,-11382 14051.5,-11382 14051.5,-11426 14051.5,-11426 14051.5,-11432 14045.5,-11438 14039.5,-11438\"/>\n<text text-anchor=\"start\" x=\"13796.5\" y=\"-11422.8\" font-family=\"Helvetica,sans-Serif\" font-size=\"14.00\" fill=\"#000000\">lastReportedPosition.speedMPH ≤ 7.5</text>\n<text text-anchor=\"start\" x=\"13847.5\" y=\"-11407.8\" font-family=\"Helvetica,sans-Serif\" font-size=\"14.00\" fill=\"#000000\">squared_error = 43.07</text>\n<text text-anchor=\"start\" x=\"13868\" y=\"-11392.8\" font-family=\"Helvetica,sans-Serif\" font-size=\"14.00\" fill=\"#000000\">samples = 2432</text>\n<text text-anchor=\"start\" x=\"13880\" y=\"-11377.8\" font-family=\"Helvetica,sans-Serif\" font-size=\"14.00\" fill=\"#000000\">value = 3.19</text>\n</g>\n<!-- 126&#45;&gt;127 -->\n<g id=\"edge127\" class=\"edge\">\n<title>126&#45;&gt;127</title>\n<path fill=\"none\" stroke=\"#000000\" d=\"M13920,-12481.8074C13920,-12319.8403 13920,-11630.0904 13920,-11448.1472\"/>\n<polygon fill=\"#000000\" stroke=\"#000000\" points=\"13923.5001,-11448.1328 13920,-11438.1328 13916.5001,-11448.1329 13923.5001,-11448.1328\"/>\n</g>\n<!-- 198 -->\n<g id=\"node199\" class=\"node\">\n<title>198</title>\n<path fill=\"#ea995e\" stroke=\"#000000\" d=\"M18171.5,-11438C18171.5,-11438 17924.5,-11438 17924.5,-11438 17918.5,-11438 17912.5,-11432 17912.5,-11426 17912.5,-11426 17912.5,-11382 17912.5,-11382 17912.5,-11376 17918.5,-11370 17924.5,-11370 17924.5,-11370 18171.5,-11370 18171.5,-11370 18177.5,-11370 18183.5,-11376 18183.5,-11382 18183.5,-11382 18183.5,-11426 18183.5,-11426 18183.5,-11432 18177.5,-11438 18171.5,-11438\"/>\n<text text-anchor=\"start\" x=\"17920.5\" y=\"-11422.8\" font-family=\"Helvetica,sans-Serif\" font-size=\"14.00\" fill=\"#000000\">lastReportedPosition.speedMPH ≤ 43.5</text>\n<text text-anchor=\"start\" x=\"17975.5\" y=\"-11407.8\" font-family=\"Helvetica,sans-Serif\" font-size=\"14.00\" fill=\"#000000\">squared_error = 98.62</text>\n<text text-anchor=\"start\" x=\"17996\" y=\"-11392.8\" font-family=\"Helvetica,sans-Serif\" font-size=\"14.00\" fill=\"#000000\">samples = 2914</text>\n<text text-anchor=\"start\" x=\"18004\" y=\"-11377.8\" font-family=\"Helvetica,sans-Serif\" font-size=\"14.00\" fill=\"#000000\">value = 43.13</text>\n</g>\n<!-- 126&#45;&gt;198 -->\n<g id=\"edge198\" class=\"edge\">\n<title>126&#45;&gt;198</title>\n<path fill=\"none\" stroke=\"#000000\" d=\"M14029.0856,-12486.6145C14603.6179,-12331.8471 17276.2643,-11611.89 17912.0256,-11440.6288\"/>\n<polygon fill=\"#000000\" stroke=\"#000000\" points=\"17912.9463,-11444.0056 17921.6917,-11438.0249 17911.1255,-11437.2465 17912.9463,-11444.0056\"/>\n</g>\n<!-- 128 -->\n<g id=\"node129\" class=\"node\">\n<title>128</title>\n<path fill=\"#f2bf9b\" stroke=\"#000000\" d=\"M13342.5,-10326C13342.5,-10326 13157.5,-10326 13157.5,-10326 13151.5,-10326 13145.5,-10320 13145.5,-10314 13145.5,-10314 13145.5,-10270 13145.5,-10270 13145.5,-10264 13151.5,-10258 13157.5,-10258 13157.5,-10258 13342.5,-10258 13342.5,-10258 13348.5,-10258 13354.5,-10264 13354.5,-10270 13354.5,-10270 13354.5,-10314 13354.5,-10314 13354.5,-10320 13348.5,-10326 13342.5,-10326\"/>\n<text text-anchor=\"start\" x=\"13153.5\" y=\"-10310.8\" font-family=\"Helvetica,sans-Serif\" font-size=\"14.00\" fill=\"#000000\">lastReportedSpeedMPH ≤ 2.5</text>\n<text text-anchor=\"start\" x=\"13182\" y=\"-10295.8\" font-family=\"Helvetica,sans-Serif\" font-size=\"14.00\" fill=\"#000000\">squared_error = 2.05</text>\n<text text-anchor=\"start\" x=\"13198\" y=\"-10280.8\" font-family=\"Helvetica,sans-Serif\" font-size=\"14.00\" fill=\"#000000\">samples = 1920</text>\n<text text-anchor=\"start\" x=\"13210\" y=\"-10265.8\" font-family=\"Helvetica,sans-Serif\" font-size=\"14.00\" fill=\"#000000\">value = 0.07</text>\n</g>\n<!-- 127&#45;&gt;128 -->\n<g id=\"edge128\" class=\"edge\">\n<title>127&#45;&gt;128</title>\n<path fill=\"none\" stroke=\"#000000\" d=\"M13899.3983,-11369.8074C13801.5674,-11207.4372 13384.1529,-10514.6538 13275.7867,-10334.7981\"/>\n<polygon fill=\"#000000\" stroke=\"#000000\" points=\"13278.7244,-10332.8919 13270.5656,-10326.1328 13272.7286,-10336.5045 13278.7244,-10332.8919\"/>\n</g>\n<!-- 167 -->\n<g id=\"node168\" class=\"node\">\n<title>167</title>\n<path fill=\"#efb286\" stroke=\"#000000\" d=\"M14371.5,-10326C14371.5,-10326 14124.5,-10326 14124.5,-10326 14118.5,-10326 14112.5,-10320 14112.5,-10314 14112.5,-10314 14112.5,-10270 14112.5,-10270 14112.5,-10264 14118.5,-10258 14124.5,-10258 14124.5,-10258 14371.5,-10258 14371.5,-10258 14377.5,-10258 14383.5,-10264 14383.5,-10270 14383.5,-10270 14383.5,-10314 14383.5,-10314 14383.5,-10320 14377.5,-10326 14371.5,-10326\"/>\n<text text-anchor=\"start\" x=\"14120.5\" y=\"-10310.8\" font-family=\"Helvetica,sans-Serif\" font-size=\"14.00\" fill=\"#000000\">lastReportedPosition.speedMPH ≤ 15.5</text>\n<text text-anchor=\"start\" x=\"14175.5\" y=\"-10295.8\" font-family=\"Helvetica,sans-Serif\" font-size=\"14.00\" fill=\"#000000\">squared_error = 23.67</text>\n<text text-anchor=\"start\" x=\"14200\" y=\"-10280.8\" font-family=\"Helvetica,sans-Serif\" font-size=\"14.00\" fill=\"#000000\">samples = 512</text>\n<text text-anchor=\"start\" x=\"14204\" y=\"-10265.8\" font-family=\"Helvetica,sans-Serif\" font-size=\"14.00\" fill=\"#000000\">value = 14.88</text>\n</g>\n<!-- 127&#45;&gt;167 -->\n<g id=\"edge167\" class=\"edge\">\n<title>127&#45;&gt;167</title>\n<path fill=\"none\" stroke=\"#000000\" d=\"M13930.0856,-11369.8074C13977.8838,-11207.7597 14181.5141,-10517.4036 14235.0582,-10335.8758\"/>\n<polygon fill=\"#000000\" stroke=\"#000000\" points=\"14238.4598,-10336.7145 14237.932,-10326.1328 14231.7458,-10334.7341 14238.4598,-10336.7145\"/>\n</g>\n<!-- 129 -->\n<g id=\"node130\" class=\"node\">\n<title>129</title>\n<path fill=\"#f2bf9b\" stroke=\"#000000\" d=\"M12309,-9214C12309,-9214 12119,-9214 12119,-9214 12113,-9214 12107,-9208 12107,-9202 12107,-9202 12107,-9158 12107,-9158 12107,-9152 12113,-9146 12119,-9146 12119,-9146 12309,-9146 12309,-9146 12315,-9146 12321,-9152 12321,-9158 12321,-9158 12321,-9202 12321,-9202 12321,-9208 12315,-9214 12309,-9214\"/>\n<text text-anchor=\"start\" x=\"12115\" y=\"-9198.8\" font-family=\"Helvetica,sans-Serif\" font-size=\"14.00\" fill=\"#000000\">lastReportedSpeedMPH ≤ &#45;2.5</text>\n<text text-anchor=\"start\" x=\"12146\" y=\"-9183.8\" font-family=\"Helvetica,sans-Serif\" font-size=\"14.00\" fill=\"#000000\">squared_error = 0.85</text>\n<text text-anchor=\"start\" x=\"12162\" y=\"-9168.8\" font-family=\"Helvetica,sans-Serif\" font-size=\"14.00\" fill=\"#000000\">samples = 1851</text>\n<text text-anchor=\"start\" x=\"12171.5\" y=\"-9153.8\" font-family=\"Helvetica,sans-Serif\" font-size=\"14.00\" fill=\"#000000\">value = &#45;0.14</text>\n</g>\n<!-- 128&#45;&gt;129 -->\n<g id=\"edge129\" class=\"edge\">\n<title>128&#45;&gt;129</title>\n<path fill=\"none\" stroke=\"#000000\" d=\"M13218.1443,-10257.8074C13066.4958,-10095.0341 12418.2287,-9399.2107 12252.634,-9221.4681\"/>\n<polygon fill=\"#000000\" stroke=\"#000000\" points=\"12255.1775,-9219.0637 12245.8,-9214.1328 12250.0558,-9223.8354 12255.1775,-9219.0637\"/>\n</g>\n<!-- 160 -->\n<g id=\"node161\" class=\"node\">\n<title>160</title>\n<path fill=\"#f1ba93\" stroke=\"#000000\" d=\"M13342.5,-9214C13342.5,-9214 13157.5,-9214 13157.5,-9214 13151.5,-9214 13145.5,-9208 13145.5,-9202 13145.5,-9202 13145.5,-9158 13145.5,-9158 13145.5,-9152 13151.5,-9146 13157.5,-9146 13157.5,-9146 13342.5,-9146 13342.5,-9146 13348.5,-9146 13354.5,-9152 13354.5,-9158 13354.5,-9158 13354.5,-9202 13354.5,-9202 13354.5,-9208 13348.5,-9214 13342.5,-9214\"/>\n<text text-anchor=\"start\" x=\"13153.5\" y=\"-9198.8\" font-family=\"Helvetica,sans-Serif\" font-size=\"14.00\" fill=\"#000000\">lastReportedSpeedMPH ≤ 5.5</text>\n<text text-anchor=\"start\" x=\"13182\" y=\"-9183.8\" font-family=\"Helvetica,sans-Serif\" font-size=\"14.00\" fill=\"#000000\">squared_error = 1.67</text>\n<text text-anchor=\"start\" x=\"13206\" y=\"-9168.8\" font-family=\"Helvetica,sans-Serif\" font-size=\"14.00\" fill=\"#000000\">samples = 69</text>\n<text text-anchor=\"start\" x=\"13210\" y=\"-9153.8\" font-family=\"Helvetica,sans-Serif\" font-size=\"14.00\" fill=\"#000000\">value = 5.67</text>\n</g>\n<!-- 128&#45;&gt;160 -->\n<g id=\"edge160\" class=\"edge\">\n<title>128&#45;&gt;160</title>\n<path fill=\"none\" stroke=\"#000000\" d=\"M13250,-10257.8074C13250,-10095.8403 13250,-9406.0904 13250,-9224.1472\"/>\n<polygon fill=\"#000000\" stroke=\"#000000\" points=\"13253.5001,-9224.1328 13250,-9214.1328 13246.5001,-9224.1329 13253.5001,-9224.1328\"/>\n</g>\n<!-- 130 -->\n<g id=\"node131\" class=\"node\">\n<title>130</title>\n<path fill=\"#f3c4a3\" stroke=\"#000000\" d=\"M10875,-8102C10875,-8102 10685,-8102 10685,-8102 10679,-8102 10673,-8096 10673,-8090 10673,-8090 10673,-8046 10673,-8046 10673,-8040 10679,-8034 10685,-8034 10685,-8034 10875,-8034 10875,-8034 10881,-8034 10887,-8040 10887,-8046 10887,-8046 10887,-8090 10887,-8090 10887,-8096 10881,-8102 10875,-8102\"/>\n<text text-anchor=\"start\" x=\"10681\" y=\"-8086.8\" font-family=\"Helvetica,sans-Serif\" font-size=\"14.00\" fill=\"#000000\">lastReportedSpeedMPH ≤ &#45;5.5</text>\n<text text-anchor=\"start\" x=\"10712\" y=\"-8071.8\" font-family=\"Helvetica,sans-Serif\" font-size=\"14.00\" fill=\"#000000\">squared_error = 1.53</text>\n<text text-anchor=\"start\" x=\"10736\" y=\"-8056.8\" font-family=\"Helvetica,sans-Serif\" font-size=\"14.00\" fill=\"#000000\">samples = 50</text>\n<text text-anchor=\"start\" x=\"10737.5\" y=\"-8041.8\" font-family=\"Helvetica,sans-Serif\" font-size=\"14.00\" fill=\"#000000\">value = &#45;5.46</text>\n</g>\n<!-- 129&#45;&gt;130 -->\n<g id=\"edge130\" class=\"edge\">\n<title>129&#45;&gt;130</title>\n<path fill=\"none\" stroke=\"#000000\" d=\"M12169.9063,-9145.8074C11959.5832,-8982.7116 11059.129,-8284.4515 10832.1215,-8108.4178\"/>\n<polygon fill=\"#000000\" stroke=\"#000000\" points=\"10834.0639,-8105.495 10824.0166,-8102.1328 10829.7743,-8111.0267 10834.0639,-8105.495\"/>\n</g>\n<!-- 137 -->\n<g id=\"node138\" class=\"node\">\n<title>137</title>\n<path fill=\"#f2bf9b\" stroke=\"#000000\" d=\"M12333.5,-8102C12333.5,-8102 12094.5,-8102 12094.5,-8102 12088.5,-8102 12082.5,-8096 12082.5,-8090 12082.5,-8090 12082.5,-8046 12082.5,-8046 12082.5,-8040 12088.5,-8034 12094.5,-8034 12094.5,-8034 12333.5,-8034 12333.5,-8034 12339.5,-8034 12345.5,-8040 12345.5,-8046 12345.5,-8046 12345.5,-8090 12345.5,-8090 12345.5,-8096 12339.5,-8102 12333.5,-8102\"/>\n<text text-anchor=\"start\" x=\"12090.5\" y=\"-8086.8\" font-family=\"Helvetica,sans-Serif\" font-size=\"14.00\" fill=\"#000000\">lastReportedPosition.speedMPH ≤ 0.5</text>\n<text text-anchor=\"start\" x=\"12146\" y=\"-8071.8\" font-family=\"Helvetica,sans-Serif\" font-size=\"14.00\" fill=\"#000000\">squared_error = 0.03</text>\n<text text-anchor=\"start\" x=\"12162\" y=\"-8056.8\" font-family=\"Helvetica,sans-Serif\" font-size=\"14.00\" fill=\"#000000\">samples = 1801</text>\n<text text-anchor=\"start\" x=\"12174\" y=\"-8041.8\" font-family=\"Helvetica,sans-Serif\" font-size=\"14.00\" fill=\"#000000\">value = 0.01</text>\n</g>\n<!-- 129&#45;&gt;137 -->\n<g id=\"edge137\" class=\"edge\">\n<title>129&#45;&gt;137</title>\n<path fill=\"none\" stroke=\"#000000\" d=\"M12214,-9145.8074C12214,-8983.8403 12214,-8294.0904 12214,-8112.1472\"/>\n<polygon fill=\"#000000\" stroke=\"#000000\" points=\"12217.5001,-8112.1328 12214,-8102.1328 12210.5001,-8112.1329 12217.5001,-8112.1328\"/>\n</g>\n<!-- 131 -->\n<g id=\"node132\" class=\"node\">\n<title>131</title>\n<path fill=\"#f3c5a4\" stroke=\"#000000\" d=\"M10601,-6990C10601,-6990 10411,-6990 10411,-6990 10405,-6990 10399,-6984 10399,-6978 10399,-6978 10399,-6934 10399,-6934 10399,-6928 10405,-6922 10411,-6922 10411,-6922 10601,-6922 10601,-6922 10607,-6922 10613,-6928 10613,-6934 10613,-6934 10613,-6978 10613,-6978 10613,-6984 10607,-6990 10601,-6990\"/>\n<text text-anchor=\"start\" x=\"10407\" y=\"-6974.8\" font-family=\"Helvetica,sans-Serif\" font-size=\"14.00\" fill=\"#000000\">lastReportedSpeedMPH ≤ &#45;6.5</text>\n<text text-anchor=\"start\" x=\"10438\" y=\"-6959.8\" font-family=\"Helvetica,sans-Serif\" font-size=\"14.00\" fill=\"#000000\">squared_error = 0.25</text>\n<text text-anchor=\"start\" x=\"10462\" y=\"-6944.8\" font-family=\"Helvetica,sans-Serif\" font-size=\"14.00\" fill=\"#000000\">samples = 24</text>\n<text text-anchor=\"start\" x=\"10463.5\" y=\"-6929.8\" font-family=\"Helvetica,sans-Serif\" font-size=\"14.00\" fill=\"#000000\">value = &#45;6.54</text>\n</g>\n<!-- 130&#45;&gt;131 -->\n<g id=\"edge131\" class=\"edge\">\n<title>130&#45;&gt;131</title>\n<path fill=\"none\" stroke=\"#000000\" d=\"M10771.5748,-8033.8074C10731.6458,-7871.7597 10561.5401,-7181.4036 10516.8111,-6999.8758\"/>\n<polygon fill=\"#000000\" stroke=\"#000000\" points=\"10520.2013,-6999.005 10514.4104,-6990.1328 10513.4046,-7000.6798 10520.2013,-6999.005\"/>\n</g>\n<!-- 134 -->\n<g id=\"node135\" class=\"node\">\n<title>134</title>\n<path fill=\"#f3c3a1\" stroke=\"#000000\" d=\"M10856,-6990C10856,-6990 10704,-6990 10704,-6990 10698,-6990 10692,-6984 10692,-6978 10692,-6978 10692,-6934 10692,-6934 10692,-6928 10698,-6922 10704,-6922 10704,-6922 10856,-6922 10856,-6922 10862,-6922 10868,-6928 10868,-6934 10868,-6934 10868,-6978 10868,-6978 10868,-6984 10862,-6990 10856,-6990\"/>\n<text text-anchor=\"start\" x=\"10700\" y=\"-6974.8\" font-family=\"Helvetica,sans-Serif\" font-size=\"14.00\" fill=\"#000000\">trailingTonnage ≤ 8343.0</text>\n<text text-anchor=\"start\" x=\"10712\" y=\"-6959.8\" font-family=\"Helvetica,sans-Serif\" font-size=\"14.00\" fill=\"#000000\">squared_error = 0.63</text>\n<text text-anchor=\"start\" x=\"10736\" y=\"-6944.8\" font-family=\"Helvetica,sans-Serif\" font-size=\"14.00\" fill=\"#000000\">samples = 26</text>\n<text text-anchor=\"start\" x=\"10737.5\" y=\"-6929.8\" font-family=\"Helvetica,sans-Serif\" font-size=\"14.00\" fill=\"#000000\">value = &#45;4.46</text>\n</g>\n<!-- 130&#45;&gt;134 -->\n<g id=\"edge134\" class=\"edge\">\n<title>130&#45;&gt;134</title>\n<path fill=\"none\" stroke=\"#000000\" d=\"M10780,-8033.8074C10780,-7871.8403 10780,-7182.0904 10780,-7000.1472\"/>\n<polygon fill=\"#000000\" stroke=\"#000000\" points=\"10783.5001,-7000.1328 10780,-6990.1328 10776.5001,-7000.1329 10783.5001,-7000.1328\"/>\n</g>\n<!-- 132 -->\n<g id=\"node133\" class=\"node\">\n<title>132</title>\n<path fill=\"#f3c6a5\" stroke=\"#000000\" d=\"M10404,-309.5C10404,-309.5 10284,-309.5 10284,-309.5 10278,-309.5 10272,-303.5 10272,-297.5 10272,-297.5 10272,-268.5 10272,-268.5 10272,-262.5 10278,-256.5 10284,-256.5 10284,-256.5 10404,-256.5 10404,-256.5 10410,-256.5 10416,-262.5 10416,-268.5 10416,-268.5 10416,-297.5 10416,-297.5 10416,-303.5 10410,-309.5 10404,-309.5\"/>\n<text text-anchor=\"start\" x=\"10280\" y=\"-294.3\" font-family=\"Helvetica,sans-Serif\" font-size=\"14.00\" fill=\"#000000\">squared_error = 0.0</text>\n<text text-anchor=\"start\" x=\"10300\" y=\"-279.3\" font-family=\"Helvetica,sans-Serif\" font-size=\"14.00\" fill=\"#000000\">samples = 13</text>\n<text text-anchor=\"start\" x=\"10306\" y=\"-264.3\" font-family=\"Helvetica,sans-Serif\" font-size=\"14.00\" fill=\"#000000\">value = &#45;7.0</text>\n</g>\n<!-- 131&#45;&gt;132 -->\n<g id=\"edge132\" class=\"edge\">\n<title>131&#45;&gt;132</title>\n<path fill=\"none\" stroke=\"#000000\" d=\"M10503.5202,-6921.9562C10483.1386,-6642.1492 10344,-4732 10344,-4732 10344,-4732 10344,-4732 10344,-2507 10344,-2507 10344,-609.559 10344,-319.8949\"/>\n<polygon fill=\"#000000\" stroke=\"#000000\" points=\"10347.5001,-319.5259 10344,-309.5259 10340.5001,-319.5259 10347.5001,-319.5259\"/>\n</g>\n<!-- 133 -->\n<g id=\"node134\" class=\"node\">\n<title>133</title>\n<path fill=\"#f3c5a3\" stroke=\"#000000\" d=\"M10566,-309.5C10566,-309.5 10446,-309.5 10446,-309.5 10440,-309.5 10434,-303.5 10434,-297.5 10434,-297.5 10434,-268.5 10434,-268.5 10434,-262.5 10440,-256.5 10446,-256.5 10446,-256.5 10566,-256.5 10566,-256.5 10572,-256.5 10578,-262.5 10578,-268.5 10578,-268.5 10578,-297.5 10578,-297.5 10578,-303.5 10572,-309.5 10566,-309.5\"/>\n<text text-anchor=\"start\" x=\"10442\" y=\"-294.3\" font-family=\"Helvetica,sans-Serif\" font-size=\"14.00\" fill=\"#000000\">squared_error = 0.0</text>\n<text text-anchor=\"start\" x=\"10462\" y=\"-279.3\" font-family=\"Helvetica,sans-Serif\" font-size=\"14.00\" fill=\"#000000\">samples = 11</text>\n<text text-anchor=\"start\" x=\"10468\" y=\"-264.3\" font-family=\"Helvetica,sans-Serif\" font-size=\"14.00\" fill=\"#000000\">value = &#45;6.0</text>\n</g>\n<!-- 131&#45;&gt;133 -->\n<g id=\"edge133\" class=\"edge\">\n<title>131&#45;&gt;133</title>\n<path fill=\"none\" stroke=\"#000000\" d=\"M10506,-6921.9562C10506,-6642.1492 10506,-4732 10506,-4732 10506,-4732 10506,-4732 10506,-2507 10506,-2507 10506,-609.559 10506,-319.8949\"/>\n<polygon fill=\"#000000\" stroke=\"#000000\" points=\"10509.5001,-319.5259 10506,-309.5259 10502.5001,-319.5259 10509.5001,-319.5259\"/>\n</g>\n<!-- 135 -->\n<g id=\"node136\" class=\"node\">\n<title>135</title>\n<path fill=\"#f3c3a1\" stroke=\"#000000\" d=\"M10736,-309.5C10736,-309.5 10608,-309.5 10608,-309.5 10602,-309.5 10596,-303.5 10596,-297.5 10596,-297.5 10596,-268.5 10596,-268.5 10596,-262.5 10602,-256.5 10608,-256.5 10608,-256.5 10736,-256.5 10736,-256.5 10742,-256.5 10748,-262.5 10748,-268.5 10748,-268.5 10748,-297.5 10748,-297.5 10748,-303.5 10742,-309.5 10736,-309.5\"/>\n<text text-anchor=\"start\" x=\"10604\" y=\"-294.3\" font-family=\"Helvetica,sans-Serif\" font-size=\"14.00\" fill=\"#000000\">squared_error = 0.91</text>\n<text text-anchor=\"start\" x=\"10628\" y=\"-279.3\" font-family=\"Helvetica,sans-Serif\" font-size=\"14.00\" fill=\"#000000\">samples = 12</text>\n<text text-anchor=\"start\" x=\"10629.5\" y=\"-264.3\" font-family=\"Helvetica,sans-Serif\" font-size=\"14.00\" fill=\"#000000\">value = &#45;4.08</text>\n</g>\n<!-- 134&#45;&gt;135 -->\n<g id=\"edge135\" class=\"edge\">\n<title>134&#45;&gt;135</title>\n<path fill=\"none\" stroke=\"#000000\" d=\"M10778.3468,-6921.9562C10764.759,-6642.1492 10672,-4732 10672,-4732 10672,-4732 10672,-4732 10672,-2507 10672,-2507 10672,-609.559 10672,-319.8949\"/>\n<polygon fill=\"#000000\" stroke=\"#000000\" points=\"10675.5001,-319.5259 10672,-309.5259 10668.5001,-319.5259 10675.5001,-319.5259\"/>\n</g>\n<!-- 136 -->\n<g id=\"node137\" class=\"node\">\n<title>136</title>\n<path fill=\"#f3c4a2\" stroke=\"#000000\" d=\"M10906,-309.5C10906,-309.5 10778,-309.5 10778,-309.5 10772,-309.5 10766,-303.5 10766,-297.5 10766,-297.5 10766,-268.5 10766,-268.5 10766,-262.5 10772,-256.5 10778,-256.5 10778,-256.5 10906,-256.5 10906,-256.5 10912,-256.5 10918,-262.5 10918,-268.5 10918,-268.5 10918,-297.5 10918,-297.5 10918,-303.5 10912,-309.5 10906,-309.5\"/>\n<text text-anchor=\"start\" x=\"10774\" y=\"-294.3\" font-family=\"Helvetica,sans-Serif\" font-size=\"14.00\" fill=\"#000000\">squared_error = 0.17</text>\n<text text-anchor=\"start\" x=\"10798\" y=\"-279.3\" font-family=\"Helvetica,sans-Serif\" font-size=\"14.00\" fill=\"#000000\">samples = 14</text>\n<text text-anchor=\"start\" x=\"10799.5\" y=\"-264.3\" font-family=\"Helvetica,sans-Serif\" font-size=\"14.00\" fill=\"#000000\">value = &#45;4.79</text>\n</g>\n<!-- 134&#45;&gt;136 -->\n<g id=\"edge136\" class=\"edge\">\n<title>134&#45;&gt;136</title>\n<path fill=\"none\" stroke=\"#000000\" d=\"M10780.9491,-6921.9562C10788.7494,-6642.1492 10842,-4732 10842,-4732 10842,-4732 10842,-4732 10842,-2507 10842,-2507 10842,-609.559 10842,-319.8949\"/>\n<polygon fill=\"#000000\" stroke=\"#000000\" points=\"10845.5001,-319.5259 10842,-309.5259 10838.5001,-319.5259 10845.5001,-319.5259\"/>\n</g>\n<!-- 138 -->\n<g id=\"node139\" class=\"node\">\n<title>138</title>\n<path fill=\"#f2bf9b\" stroke=\"#000000\" d=\"M11983,-6990C11983,-6990 11633,-6990 11633,-6990 11627,-6990 11621,-6984 11621,-6978 11621,-6978 11621,-6934 11621,-6934 11621,-6928 11627,-6922 11633,-6922 11633,-6922 11983,-6922 11983,-6922 11989,-6922 11995,-6928 11995,-6934 11995,-6934 11995,-6978 11995,-6978 11995,-6984 11989,-6990 11983,-6990\"/>\n<text text-anchor=\"start\" x=\"11629\" y=\"-6974.8\" font-family=\"Helvetica,sans-Serif\" font-size=\"14.00\" fill=\"#000000\">lastReportedPosition.milepostLocation.trackName ≤ 1.5</text>\n<text text-anchor=\"start\" x=\"11740\" y=\"-6959.8\" font-family=\"Helvetica,sans-Serif\" font-size=\"14.00\" fill=\"#000000\">squared_error = 0.01</text>\n<text text-anchor=\"start\" x=\"11756\" y=\"-6944.8\" font-family=\"Helvetica,sans-Serif\" font-size=\"14.00\" fill=\"#000000\">samples = 1786</text>\n<text text-anchor=\"start\" x=\"11765.5\" y=\"-6929.8\" font-family=\"Helvetica,sans-Serif\" font-size=\"14.00\" fill=\"#000000\">value = &#45;0.01</text>\n</g>\n<!-- 137&#45;&gt;138 -->\n<g id=\"edge138\" class=\"edge\">\n<title>137&#45;&gt;138</title>\n<path fill=\"none\" stroke=\"#000000\" d=\"M12201.516,-8033.8074C12142.3217,-7871.6791 11890.0458,-7180.7165 11823.9206,-6999.6053\"/>\n<polygon fill=\"#000000\" stroke=\"#000000\" points=\"11827.1796,-6998.3259 11820.4622,-6990.1328 11820.6041,-7000.7267 11827.1796,-6998.3259\"/>\n</g>\n<!-- 159 -->\n<g id=\"node160\" class=\"node\">\n<title>159</title>\n<path fill=\"#f2be99\" stroke=\"#000000\" d=\"M12898,-309.5C12898,-309.5 12770,-309.5 12770,-309.5 12764,-309.5 12758,-303.5 12758,-297.5 12758,-297.5 12758,-268.5 12758,-268.5 12758,-262.5 12764,-256.5 12770,-256.5 12770,-256.5 12898,-256.5 12898,-256.5 12904,-256.5 12910,-262.5 12910,-268.5 12910,-268.5 12910,-297.5 12910,-297.5 12910,-303.5 12904,-309.5 12898,-309.5\"/>\n<text text-anchor=\"start\" x=\"12766\" y=\"-294.3\" font-family=\"Helvetica,sans-Serif\" font-size=\"14.00\" fill=\"#000000\">squared_error = 0.25</text>\n<text text-anchor=\"start\" x=\"12790\" y=\"-279.3\" font-family=\"Helvetica,sans-Serif\" font-size=\"14.00\" fill=\"#000000\">samples = 15</text>\n<text text-anchor=\"start\" x=\"12794\" y=\"-264.3\" font-family=\"Helvetica,sans-Serif\" font-size=\"14.00\" fill=\"#000000\">value = 1.47</text>\n</g>\n<!-- 137&#45;&gt;159 -->\n<g id=\"edge159\" class=\"edge\">\n<title>137&#45;&gt;159</title>\n<path fill=\"none\" stroke=\"#000000\" d=\"M12223.4906,-8033.9562C12301.4944,-7754.1492 12834,-5844 12834,-5844 12834,-5844 12834,-5844 12834,-2507 12834,-2507 12834,-609.559 12834,-319.8949\"/>\n<polygon fill=\"#000000\" stroke=\"#000000\" points=\"12837.5001,-319.5259 12834,-309.5259 12830.5001,-319.5259 12837.5001,-319.5259\"/>\n</g>\n<!-- 139 -->\n<g id=\"node140\" class=\"node\">\n<title>139</title>\n<path fill=\"#f2bf9b\" stroke=\"#000000\" d=\"M11238,-5878C11238,-5878 11110,-5878 11110,-5878 11104,-5878 11098,-5872 11098,-5866 11098,-5866 11098,-5822 11098,-5822 11098,-5816 11104,-5810 11110,-5810 11110,-5810 11238,-5810 11238,-5810 11244,-5810 11250,-5816 11250,-5822 11250,-5822 11250,-5866 11250,-5866 11250,-5872 11244,-5878 11238,-5878\"/>\n<text text-anchor=\"start\" x=\"11107.5\" y=\"-5862.8\" font-family=\"Helvetica,sans-Serif\" font-size=\"14.00\" fill=\"#000000\">trainLength ≤ 7442.5</text>\n<text text-anchor=\"start\" x=\"11106\" y=\"-5847.8\" font-family=\"Helvetica,sans-Serif\" font-size=\"14.00\" fill=\"#000000\">squared_error = 0.07</text>\n<text text-anchor=\"start\" x=\"11130\" y=\"-5832.8\" font-family=\"Helvetica,sans-Serif\" font-size=\"14.00\" fill=\"#000000\">samples = 71</text>\n<text text-anchor=\"start\" x=\"11131.5\" y=\"-5817.8\" font-family=\"Helvetica,sans-Serif\" font-size=\"14.00\" fill=\"#000000\">value = &#45;0.04</text>\n</g>\n<!-- 138&#45;&gt;139 -->\n<g id=\"edge139\" class=\"edge\">\n<title>138&#45;&gt;139</title>\n<path fill=\"none\" stroke=\"#000000\" d=\"M11788.5053,-6921.8074C11695.9769,-6759.5178 11301.3369,-6067.3416 11198.5541,-5887.0664\"/>\n<polygon fill=\"#000000\" stroke=\"#000000\" points=\"11201.4542,-5885.0865 11193.4606,-5878.1328 11195.3731,-5888.5536 11201.4542,-5885.0865\"/>\n</g>\n<!-- 142 -->\n<g id=\"node143\" class=\"node\">\n<title>142</title>\n<path fill=\"#f2bf9b\" stroke=\"#000000\" d=\"M12065.5,-5878C12065.5,-5878 11550.5,-5878 11550.5,-5878 11544.5,-5878 11538.5,-5872 11538.5,-5866 11538.5,-5866 11538.5,-5822 11538.5,-5822 11538.5,-5816 11544.5,-5810 11550.5,-5810 11550.5,-5810 12065.5,-5810 12065.5,-5810 12071.5,-5810 12077.5,-5816 12077.5,-5822 12077.5,-5822 12077.5,-5866 12077.5,-5866 12077.5,-5872 12071.5,-5878 12065.5,-5878\"/>\n<text text-anchor=\"start\" x=\"11546.5\" y=\"-5862.8\" font-family=\"Helvetica,sans-Serif\" font-size=\"14.00\" fill=\"#000000\">lastReportedPosition.nextSignalState.milepostLocation.milepostNumber ≤ 206.63</text>\n<text text-anchor=\"start\" x=\"11740\" y=\"-5847.8\" font-family=\"Helvetica,sans-Serif\" font-size=\"14.00\" fill=\"#000000\">squared_error = 0.01</text>\n<text text-anchor=\"start\" x=\"11756\" y=\"-5832.8\" font-family=\"Helvetica,sans-Serif\" font-size=\"14.00\" fill=\"#000000\">samples = 1715</text>\n<text text-anchor=\"start\" x=\"11770\" y=\"-5817.8\" font-family=\"Helvetica,sans-Serif\" font-size=\"14.00\" fill=\"#000000\">value = &#45;0.0</text>\n</g>\n<!-- 138&#45;&gt;142 -->\n<g id=\"edge142\" class=\"edge\">\n<title>138&#45;&gt;142</title>\n<path fill=\"none\" stroke=\"#000000\" d=\"M11808,-6921.8074C11808,-6759.8403 11808,-6070.0904 11808,-5888.1472\"/>\n<polygon fill=\"#000000\" stroke=\"#000000\" points=\"11811.5001,-5888.1328 11808,-5878.1328 11804.5001,-5888.1329 11811.5001,-5888.1328\"/>\n</g>\n<!-- 140 -->\n<g id=\"node141\" class=\"node\">\n<title>140</title>\n<path fill=\"#f2bf9b\" stroke=\"#000000\" d=\"M11068,-309.5C11068,-309.5 10948,-309.5 10948,-309.5 10942,-309.5 10936,-303.5 10936,-297.5 10936,-297.5 10936,-268.5 10936,-268.5 10936,-262.5 10942,-256.5 10948,-256.5 10948,-256.5 11068,-256.5 11068,-256.5 11074,-256.5 11080,-262.5 11080,-268.5 11080,-268.5 11080,-297.5 11080,-297.5 11080,-303.5 11074,-309.5 11068,-309.5\"/>\n<text text-anchor=\"start\" x=\"10944\" y=\"-294.3\" font-family=\"Helvetica,sans-Serif\" font-size=\"14.00\" fill=\"#000000\">squared_error = 0.0</text>\n<text text-anchor=\"start\" x=\"10964\" y=\"-279.3\" font-family=\"Helvetica,sans-Serif\" font-size=\"14.00\" fill=\"#000000\">samples = 53</text>\n<text text-anchor=\"start\" x=\"10972\" y=\"-264.3\" font-family=\"Helvetica,sans-Serif\" font-size=\"14.00\" fill=\"#000000\">value = 0.0</text>\n</g>\n<!-- 139&#45;&gt;140 -->\n<g id=\"edge140\" class=\"edge\">\n<title>139&#45;&gt;140</title>\n<path fill=\"none\" stroke=\"#000000\" d=\"M11171.459,-5809.9409C11150.5741,-5530.0081 11008,-3619 11008,-3619 11008,-3619 11008,-3619 11008,-2507 11008,-2507 11008,-609.559 11008,-319.8949\"/>\n<polygon fill=\"#000000\" stroke=\"#000000\" points=\"11011.5001,-319.5259 11008,-309.5259 11004.5001,-319.5259 11011.5001,-319.5259\"/>\n</g>\n<!-- 141 -->\n<g id=\"node142\" class=\"node\">\n<title>141</title>\n<path fill=\"#f2bf9b\" stroke=\"#000000\" d=\"M11238,-309.5C11238,-309.5 11110,-309.5 11110,-309.5 11104,-309.5 11098,-303.5 11098,-297.5 11098,-297.5 11098,-268.5 11098,-268.5 11098,-262.5 11104,-256.5 11110,-256.5 11110,-256.5 11238,-256.5 11238,-256.5 11244,-256.5 11250,-262.5 11250,-268.5 11250,-268.5 11250,-297.5 11250,-297.5 11250,-303.5 11244,-309.5 11238,-309.5\"/>\n<text text-anchor=\"start\" x=\"11106\" y=\"-294.3\" font-family=\"Helvetica,sans-Serif\" font-size=\"14.00\" fill=\"#000000\">squared_error = 0.25</text>\n<text text-anchor=\"start\" x=\"11130\" y=\"-279.3\" font-family=\"Helvetica,sans-Serif\" font-size=\"14.00\" fill=\"#000000\">samples = 18</text>\n<text text-anchor=\"start\" x=\"11131.5\" y=\"-264.3\" font-family=\"Helvetica,sans-Serif\" font-size=\"14.00\" fill=\"#000000\">value = &#45;0.17</text>\n</g>\n<!-- 139&#45;&gt;141 -->\n<g id=\"edge141\" class=\"edge\">\n<title>139&#45;&gt;141</title>\n<path fill=\"none\" stroke=\"#000000\" d=\"M11174,-5809.9409C11174,-5530.0081 11174,-3619 11174,-3619 11174,-3619 11174,-3619 11174,-2507 11174,-2507 11174,-609.559 11174,-319.8949\"/>\n<polygon fill=\"#000000\" stroke=\"#000000\" points=\"11177.5001,-319.5259 11174,-309.5259 11170.5001,-319.5259 11177.5001,-319.5259\"/>\n</g>\n<!-- 143 -->\n<g id=\"node144\" class=\"node\">\n<title>143</title>\n<path fill=\"#f2bf9b\" stroke=\"#000000\" d=\"M11810,-4766C11810,-4766 11542,-4766 11542,-4766 11536,-4766 11530,-4760 11530,-4754 11530,-4754 11530,-4710 11530,-4710 11530,-4704 11536,-4698 11542,-4698 11542,-4698 11810,-4698 11810,-4698 11816,-4698 11822,-4704 11822,-4710 11822,-4710 11822,-4754 11822,-4754 11822,-4760 11816,-4766 11810,-4766\"/>\n<text text-anchor=\"start\" x=\"11538\" y=\"-4750.8\" font-family=\"Helvetica,sans-Serif\" font-size=\"14.00\" fill=\"#000000\">aotuTrainData.totalCarLength ≤ 1148425.0</text>\n<text text-anchor=\"start\" x=\"11608\" y=\"-4735.8\" font-family=\"Helvetica,sans-Serif\" font-size=\"14.00\" fill=\"#000000\">squared_error = 0.03</text>\n<text text-anchor=\"start\" x=\"11628\" y=\"-4720.8\" font-family=\"Helvetica,sans-Serif\" font-size=\"14.00\" fill=\"#000000\">samples = 106</text>\n<text text-anchor=\"start\" x=\"11633.5\" y=\"-4705.8\" font-family=\"Helvetica,sans-Serif\" font-size=\"14.00\" fill=\"#000000\">value = &#45;0.03</text>\n</g>\n<!-- 142&#45;&gt;143 -->\n<g id=\"edge143\" class=\"edge\">\n<title>142&#45;&gt;143</title>\n<path fill=\"none\" stroke=\"#000000\" d=\"M11803.9412,-5809.8074C11784.7149,-5647.8403 11702.8381,-4958.0904 11681.2405,-4776.1472\"/>\n<polygon fill=\"#000000\" stroke=\"#000000\" points=\"11684.7062,-4775.6505 11680.0517,-4766.1328 11677.755,-4776.4757 11684.7062,-4775.6505\"/>\n</g>\n<!-- 148 -->\n<g id=\"node149\" class=\"node\">\n<title>148</title>\n<path fill=\"#f2bf9b\" stroke=\"#000000\" d=\"M12037,-4766C12037,-4766 11861,-4766 11861,-4766 11855,-4766 11849,-4760 11849,-4754 11849,-4754 11849,-4710 11849,-4710 11849,-4704 11855,-4698 11861,-4698 11861,-4698 12037,-4698 12037,-4698 12043,-4698 12049,-4704 12049,-4710 12049,-4710 12049,-4754 12049,-4754 12049,-4760 12043,-4766 12037,-4766\"/>\n<text text-anchor=\"start\" x=\"11857\" y=\"-4750.8\" font-family=\"Helvetica,sans-Serif\" font-size=\"14.00\" fill=\"#000000\">ptcLeadLocomotiveId ≤ 11.5</text>\n<text text-anchor=\"start\" x=\"11885\" y=\"-4735.8\" font-family=\"Helvetica,sans-Serif\" font-size=\"14.00\" fill=\"#000000\">squared_error = 0.0</text>\n<text text-anchor=\"start\" x=\"11897\" y=\"-4720.8\" font-family=\"Helvetica,sans-Serif\" font-size=\"14.00\" fill=\"#000000\">samples = 1609</text>\n<text text-anchor=\"start\" x=\"11911\" y=\"-4705.8\" font-family=\"Helvetica,sans-Serif\" font-size=\"14.00\" fill=\"#000000\">value = &#45;0.0</text>\n</g>\n<!-- 142&#45;&gt;148 -->\n<g id=\"edge148\" class=\"edge\">\n<title>142&#45;&gt;148</title>\n<path fill=\"none\" stroke=\"#000000\" d=\"M11812.3356,-5809.8074C11832.8728,-5647.8403 11920.3321,-4958.0904 11943.4022,-4776.1472\"/>\n<polygon fill=\"#000000\" stroke=\"#000000\" points=\"11946.8862,-4776.4937 11944.672,-4766.1328 11939.9418,-4775.6131 11946.8862,-4776.4937\"/>\n</g>\n<!-- 144 -->\n<g id=\"node145\" class=\"node\">\n<title>144</title>\n<path fill=\"#f2bf9b\" stroke=\"#000000\" d=\"M11636,-3653C11636,-3653 11256,-3653 11256,-3653 11250,-3653 11244,-3647 11244,-3641 11244,-3641 11244,-3597 11244,-3597 11244,-3591 11250,-3585 11256,-3585 11256,-3585 11636,-3585 11636,-3585 11642,-3585 11648,-3591 11648,-3597 11648,-3597 11648,-3641 11648,-3641 11648,-3647 11642,-3653 11636,-3653\"/>\n<text text-anchor=\"start\" x=\"11252\" y=\"-3637.8\" font-family=\"Helvetica,sans-Serif\" font-size=\"14.00\" fill=\"#000000\">lastReportedPosition.precedingSignalState.signalState ≤ 1.5</text>\n<text text-anchor=\"start\" x=\"11378\" y=\"-3622.8\" font-family=\"Helvetica,sans-Serif\" font-size=\"14.00\" fill=\"#000000\">squared_error = 0.01</text>\n<text text-anchor=\"start\" x=\"11402\" y=\"-3607.8\" font-family=\"Helvetica,sans-Serif\" font-size=\"14.00\" fill=\"#000000\">samples = 96</text>\n<text text-anchor=\"start\" x=\"11403.5\" y=\"-3592.8\" font-family=\"Helvetica,sans-Serif\" font-size=\"14.00\" fill=\"#000000\">value = &#45;0.01</text>\n</g>\n<!-- 143&#45;&gt;144 -->\n<g id=\"edge144\" class=\"edge\">\n<title>143&#45;&gt;144</title>\n<path fill=\"none\" stroke=\"#000000\" d=\"M11668.9278,-4697.7767C11635.4274,-4535.6639 11492.7633,-3845.2937 11455.1312,-3663.1869\"/>\n<polygon fill=\"#000000\" stroke=\"#000000\" points=\"11458.5112,-3662.2483 11453.0598,-3653.1635 11451.6561,-3663.6649 11458.5112,-3662.2483\"/>\n</g>\n<!-- 147 -->\n<g id=\"node148\" class=\"node\">\n<title>147</title>\n<path fill=\"#f2c09b\" stroke=\"#000000\" d=\"M11740,-309.5C11740,-309.5 11612,-309.5 11612,-309.5 11606,-309.5 11600,-303.5 11600,-297.5 11600,-297.5 11600,-268.5 11600,-268.5 11600,-262.5 11606,-256.5 11612,-256.5 11612,-256.5 11740,-256.5 11740,-256.5 11746,-256.5 11752,-262.5 11752,-268.5 11752,-268.5 11752,-297.5 11752,-297.5 11752,-303.5 11746,-309.5 11740,-309.5\"/>\n<text text-anchor=\"start\" x=\"11608\" y=\"-294.3\" font-family=\"Helvetica,sans-Serif\" font-size=\"14.00\" fill=\"#000000\">squared_error = 0.16</text>\n<text text-anchor=\"start\" x=\"11632\" y=\"-279.3\" font-family=\"Helvetica,sans-Serif\" font-size=\"14.00\" fill=\"#000000\">samples = 10</text>\n<text text-anchor=\"start\" x=\"11638\" y=\"-264.3\" font-family=\"Helvetica,sans-Serif\" font-size=\"14.00\" fill=\"#000000\">value = &#45;0.2</text>\n</g>\n<!-- 143&#45;&gt;147 -->\n<g id=\"edge147\" class=\"edge\">\n<title>143&#45;&gt;147</title>\n<path fill=\"none\" stroke=\"#000000\" d=\"M11676,-4697.798C11676,-4308.7163 11676,-723.4541 11676,-319.9\"/>\n<polygon fill=\"#000000\" stroke=\"#000000\" points=\"11679.5001,-319.6621 11676,-309.6621 11672.5001,-319.6621 11679.5001,-319.6621\"/>\n</g>\n<!-- 145 -->\n<g id=\"node146\" class=\"node\">\n<title>145</title>\n<path fill=\"#f2bf9b\" stroke=\"#000000\" d=\"M11408,-309.5C11408,-309.5 11280,-309.5 11280,-309.5 11274,-309.5 11268,-303.5 11268,-297.5 11268,-297.5 11268,-268.5 11268,-268.5 11268,-262.5 11274,-256.5 11280,-256.5 11280,-256.5 11408,-256.5 11408,-256.5 11414,-256.5 11420,-262.5 11420,-268.5 11420,-268.5 11420,-297.5 11420,-297.5 11420,-303.5 11414,-309.5 11408,-309.5\"/>\n<text text-anchor=\"start\" x=\"11276\" y=\"-294.3\" font-family=\"Helvetica,sans-Serif\" font-size=\"14.00\" fill=\"#000000\">squared_error = 0.06</text>\n<text text-anchor=\"start\" x=\"11300\" y=\"-279.3\" font-family=\"Helvetica,sans-Serif\" font-size=\"14.00\" fill=\"#000000\">samples = 16</text>\n<text text-anchor=\"start\" x=\"11301.5\" y=\"-264.3\" font-family=\"Helvetica,sans-Serif\" font-size=\"14.00\" fill=\"#000000\">value = &#45;0.06</text>\n</g>\n<!-- 144&#45;&gt;145 -->\n<g id=\"edge145\" class=\"edge\">\n<title>144&#45;&gt;145</title>\n<path fill=\"none\" stroke=\"#000000\" d=\"M11444.9572,-3584.8958C11434.9196,-3256.6062 11355.5719,-661.4686 11345.1321,-320.027\"/>\n<polygon fill=\"#000000\" stroke=\"#000000\" points=\"11348.6273,-319.8143 11344.8233,-309.9259 11341.6306,-320.0283 11348.6273,-319.8143\"/>\n</g>\n<!-- 146 -->\n<g id=\"node147\" class=\"node\">\n<title>146</title>\n<path fill=\"#f2bf9b\" stroke=\"#000000\" d=\"M11570,-309.5C11570,-309.5 11450,-309.5 11450,-309.5 11444,-309.5 11438,-303.5 11438,-297.5 11438,-297.5 11438,-268.5 11438,-268.5 11438,-262.5 11444,-256.5 11450,-256.5 11450,-256.5 11570,-256.5 11570,-256.5 11576,-256.5 11582,-262.5 11582,-268.5 11582,-268.5 11582,-297.5 11582,-297.5 11582,-303.5 11576,-309.5 11570,-309.5\"/>\n<text text-anchor=\"start\" x=\"11446\" y=\"-294.3\" font-family=\"Helvetica,sans-Serif\" font-size=\"14.00\" fill=\"#000000\">squared_error = 0.0</text>\n<text text-anchor=\"start\" x=\"11466\" y=\"-279.3\" font-family=\"Helvetica,sans-Serif\" font-size=\"14.00\" fill=\"#000000\">samples = 80</text>\n<text text-anchor=\"start\" x=\"11474\" y=\"-264.3\" font-family=\"Helvetica,sans-Serif\" font-size=\"14.00\" fill=\"#000000\">value = 0.0</text>\n</g>\n<!-- 144&#45;&gt;146 -->\n<g id=\"edge146\" class=\"edge\">\n<title>144&#45;&gt;146</title>\n<path fill=\"none\" stroke=\"#000000\" d=\"M11446.6543,-3584.8958C11452.9524,-3256.6062 11502.7392,-661.4686 11509.2896,-320.027\"/>\n<polygon fill=\"#000000\" stroke=\"#000000\" points=\"11512.7909,-319.9913 11509.4834,-309.9259 11505.7922,-319.8569 11512.7909,-319.9913\"/>\n</g>\n<!-- 149 -->\n<g id=\"node150\" class=\"node\">\n<title>149</title>\n<path fill=\"#f2bf9b\" stroke=\"#000000\" d=\"M12121,-3653C12121,-3653 11777,-3653 11777,-3653 11771,-3653 11765,-3647 11765,-3641 11765,-3641 11765,-3597 11765,-3597 11765,-3591 11771,-3585 11777,-3585 11777,-3585 12121,-3585 12121,-3585 12127,-3585 12133,-3591 12133,-3597 12133,-3597 12133,-3641 12133,-3641 12133,-3647 12127,-3653 12121,-3653\"/>\n<text text-anchor=\"start\" x=\"11773\" y=\"-3637.8\" font-family=\"Helvetica,sans-Serif\" font-size=\"14.00\" fill=\"#000000\">lastReportedPosition.nextSignalState.signalState ≤ 1.5</text>\n<text text-anchor=\"start\" x=\"11881\" y=\"-3622.8\" font-family=\"Helvetica,sans-Serif\" font-size=\"14.00\" fill=\"#000000\">squared_error = 0.03</text>\n<text text-anchor=\"start\" x=\"11901\" y=\"-3607.8\" font-family=\"Helvetica,sans-Serif\" font-size=\"14.00\" fill=\"#000000\">samples = 192</text>\n<text text-anchor=\"start\" x=\"11906.5\" y=\"-3592.8\" font-family=\"Helvetica,sans-Serif\" font-size=\"14.00\" fill=\"#000000\">value = &#45;0.02</text>\n</g>\n<!-- 148&#45;&gt;149 -->\n<g id=\"edge149\" class=\"edge\">\n<title>148&#45;&gt;149</title>\n<path fill=\"none\" stroke=\"#000000\" d=\"M11949,-4697.7767C11949,-4535.6639 11949,-3845.2937 11949,-3663.1869\"/>\n<polygon fill=\"#000000\" stroke=\"#000000\" points=\"11952.5001,-3663.1635 11949,-3653.1635 11945.5001,-3663.1636 11952.5001,-3663.1635\"/>\n</g>\n<!-- 152 -->\n<g id=\"node153\" class=\"node\">\n<title>152</title>\n<path fill=\"#f2bf9b\" stroke=\"#000000\" d=\"M12652.5,-3653C12652.5,-3653 12189.5,-3653 12189.5,-3653 12183.5,-3653 12177.5,-3647 12177.5,-3641 12177.5,-3641 12177.5,-3597 12177.5,-3597 12177.5,-3591 12183.5,-3585 12189.5,-3585 12189.5,-3585 12652.5,-3585 12652.5,-3585 12658.5,-3585 12664.5,-3591 12664.5,-3597 12664.5,-3597 12664.5,-3641 12664.5,-3641 12664.5,-3647 12658.5,-3653 12652.5,-3653\"/>\n<text text-anchor=\"start\" x=\"12185.5\" y=\"-3637.8\" font-family=\"Helvetica,sans-Serif\" font-size=\"14.00\" fill=\"#000000\">lastReportedPosition.precedingSignalState.previousSignalState_na ≤ 1.5</text>\n<text text-anchor=\"start\" x=\"12357\" y=\"-3622.8\" font-family=\"Helvetica,sans-Serif\" font-size=\"14.00\" fill=\"#000000\">squared_error = 0.0</text>\n<text text-anchor=\"start\" x=\"12369\" y=\"-3607.8\" font-family=\"Helvetica,sans-Serif\" font-size=\"14.00\" fill=\"#000000\">samples = 1417</text>\n<text text-anchor=\"start\" x=\"12383\" y=\"-3592.8\" font-family=\"Helvetica,sans-Serif\" font-size=\"14.00\" fill=\"#000000\">value = &#45;0.0</text>\n</g>\n<!-- 148&#45;&gt;152 -->\n<g id=\"edge152\" class=\"edge\">\n<title>148&#45;&gt;152</title>\n<path fill=\"none\" stroke=\"#000000\" d=\"M11963.5134,-4697.7767C12032.3647,-4535.4218 12325.9085,-3843.2307 12402.6058,-3662.3744\"/>\n<polygon fill=\"#000000\" stroke=\"#000000\" points=\"12405.8299,-3663.7364 12406.512,-3653.1635 12399.3854,-3661.0034 12405.8299,-3663.7364\"/>\n</g>\n<!-- 150 -->\n<g id=\"node151\" class=\"node\">\n<title>150</title>\n<path fill=\"#f2bf9b\" stroke=\"#000000\" d=\"M11910,-309.5C11910,-309.5 11782,-309.5 11782,-309.5 11776,-309.5 11770,-303.5 11770,-297.5 11770,-297.5 11770,-268.5 11770,-268.5 11770,-262.5 11776,-256.5 11782,-256.5 11782,-256.5 11910,-256.5 11910,-256.5 11916,-256.5 11922,-262.5 11922,-268.5 11922,-268.5 11922,-297.5 11922,-297.5 11922,-303.5 11916,-309.5 11910,-309.5\"/>\n<text text-anchor=\"start\" x=\"11778\" y=\"-294.3\" font-family=\"Helvetica,sans-Serif\" font-size=\"14.00\" fill=\"#000000\">squared_error = 0.24</text>\n<text text-anchor=\"start\" x=\"11802\" y=\"-279.3\" font-family=\"Helvetica,sans-Serif\" font-size=\"14.00\" fill=\"#000000\">samples = 19</text>\n<text text-anchor=\"start\" x=\"11803.5\" y=\"-264.3\" font-family=\"Helvetica,sans-Serif\" font-size=\"14.00\" fill=\"#000000\">value = &#45;0.16</text>\n</g>\n<!-- 149&#45;&gt;150 -->\n<g id=\"edge150\" class=\"edge\">\n<title>149&#45;&gt;150</title>\n<path fill=\"none\" stroke=\"#000000\" d=\"M11947.947,-3584.8958C11937.811,-3256.6062 11857.6853,-661.4686 11847.1432,-320.027\"/>\n<polygon fill=\"#000000\" stroke=\"#000000\" points=\"11850.6384,-319.8131 11846.8313,-309.9259 11843.6417,-320.0292 11850.6384,-319.8131\"/>\n</g>\n<!-- 151 -->\n<g id=\"node152\" class=\"node\">\n<title>151</title>\n<path fill=\"#f2bf9b\" stroke=\"#000000\" d=\"M12072,-309.5C12072,-309.5 11952,-309.5 11952,-309.5 11946,-309.5 11940,-303.5 11940,-297.5 11940,-297.5 11940,-268.5 11940,-268.5 11940,-262.5 11946,-256.5 11952,-256.5 11952,-256.5 12072,-256.5 12072,-256.5 12078,-256.5 12084,-262.5 12084,-268.5 12084,-268.5 12084,-297.5 12084,-297.5 12084,-303.5 12078,-309.5 12072,-309.5\"/>\n<text text-anchor=\"start\" x=\"11948\" y=\"-294.3\" font-family=\"Helvetica,sans-Serif\" font-size=\"14.00\" fill=\"#000000\">squared_error = 0.0</text>\n<text text-anchor=\"start\" x=\"11964\" y=\"-279.3\" font-family=\"Helvetica,sans-Serif\" font-size=\"14.00\" fill=\"#000000\">samples = 173</text>\n<text text-anchor=\"start\" x=\"11976\" y=\"-264.3\" font-family=\"Helvetica,sans-Serif\" font-size=\"14.00\" fill=\"#000000\">value = 0.0</text>\n</g>\n<!-- 149&#45;&gt;151 -->\n<g id=\"edge151\" class=\"edge\">\n<title>149&#45;&gt;151</title>\n<path fill=\"none\" stroke=\"#000000\" d=\"M11949.4231,-3584.8834C11952.926,-3302.3952 11977,-1361 11977,-1361 11977,-1361 12004.6608,-509.0487 12010.8019,-319.9024\"/>\n<polygon fill=\"#000000\" stroke=\"#000000\" points=\"12014.3084,-319.7557 12011.1348,-309.6473 12007.3121,-319.5285 12014.3084,-319.7557\"/>\n</g>\n<!-- 153 -->\n<g id=\"node154\" class=\"node\">\n<title>153</title>\n<path fill=\"#f2bf9b\" stroke=\"#000000\" d=\"M12611,-2541C12611,-2541 12231,-2541 12231,-2541 12225,-2541 12219,-2535 12219,-2529 12219,-2529 12219,-2485 12219,-2485 12219,-2479 12225,-2473 12231,-2473 12231,-2473 12611,-2473 12611,-2473 12617,-2473 12623,-2479 12623,-2485 12623,-2485 12623,-2529 12623,-2529 12623,-2535 12617,-2541 12611,-2541\"/>\n<text text-anchor=\"start\" x=\"12227\" y=\"-2525.8\" font-family=\"Helvetica,sans-Serif\" font-size=\"14.00\" fill=\"#000000\">lastReportedPosition.precedingSignalState.signalState ≤ 1.5</text>\n<text text-anchor=\"start\" x=\"12353\" y=\"-2510.8\" font-family=\"Helvetica,sans-Serif\" font-size=\"14.00\" fill=\"#000000\">squared_error = 0.01</text>\n<text text-anchor=\"start\" x=\"12373\" y=\"-2495.8\" font-family=\"Helvetica,sans-Serif\" font-size=\"14.00\" fill=\"#000000\">samples = 167</text>\n<text text-anchor=\"start\" x=\"12378.5\" y=\"-2480.8\" font-family=\"Helvetica,sans-Serif\" font-size=\"14.00\" fill=\"#000000\">value = &#45;0.01</text>\n</g>\n<!-- 152&#45;&gt;153 -->\n<g id=\"edge153\" class=\"edge\">\n<title>152&#45;&gt;153</title>\n<path fill=\"none\" stroke=\"#000000\" d=\"M12421,-3584.8074C12421,-3422.8403 12421,-2733.0904 12421,-2551.1472\"/>\n<polygon fill=\"#000000\" stroke=\"#000000\" points=\"12424.5001,-2551.1328 12421,-2541.1328 12417.5001,-2551.1329 12424.5001,-2551.1328\"/>\n</g>\n<!-- 158 -->\n<g id=\"node159\" class=\"node\">\n<title>158</title>\n<path fill=\"#f2bf9b\" stroke=\"#000000\" d=\"M12728,-309.5C12728,-309.5 12608,-309.5 12608,-309.5 12602,-309.5 12596,-303.5 12596,-297.5 12596,-297.5 12596,-268.5 12596,-268.5 12596,-262.5 12602,-256.5 12608,-256.5 12608,-256.5 12728,-256.5 12728,-256.5 12734,-256.5 12740,-262.5 12740,-268.5 12740,-268.5 12740,-297.5 12740,-297.5 12740,-303.5 12734,-309.5 12728,-309.5\"/>\n<text text-anchor=\"start\" x=\"12604\" y=\"-294.3\" font-family=\"Helvetica,sans-Serif\" font-size=\"14.00\" fill=\"#000000\">squared_error = 0.0</text>\n<text text-anchor=\"start\" x=\"12616\" y=\"-279.3\" font-family=\"Helvetica,sans-Serif\" font-size=\"14.00\" fill=\"#000000\">samples = 1250</text>\n<text text-anchor=\"start\" x=\"12632\" y=\"-264.3\" font-family=\"Helvetica,sans-Serif\" font-size=\"14.00\" fill=\"#000000\">value = 0.0</text>\n</g>\n<!-- 152&#45;&gt;158 -->\n<g id=\"edge158\" class=\"edge\">\n<title>152&#45;&gt;158</title>\n<path fill=\"none\" stroke=\"#000000\" d=\"M12427.6633,-3584.9572C12463.5292,-3401.7183 12632,-2541 12632,-2541 12632,-2541 12662.7765,-610.632 12667.417,-319.567\"/>\n<polygon fill=\"#000000\" stroke=\"#000000\" points=\"12670.917,-319.5885 12667.577,-309.5339 12663.9179,-319.4768 12670.917,-319.5885\"/>\n</g>\n<!-- 154 -->\n<g id=\"node155\" class=\"node\">\n<title>154</title>\n<path fill=\"#f2bf9b\" stroke=\"#000000\" d=\"M12465.5,-1429C12465.5,-1429 11998.5,-1429 11998.5,-1429 11992.5,-1429 11986.5,-1423 11986.5,-1417 11986.5,-1417 11986.5,-1373 11986.5,-1373 11986.5,-1367 11992.5,-1361 11998.5,-1361 11998.5,-1361 12465.5,-1361 12465.5,-1361 12471.5,-1361 12477.5,-1367 12477.5,-1373 12477.5,-1373 12477.5,-1417 12477.5,-1417 12477.5,-1423 12471.5,-1429 12465.5,-1429\"/>\n<text text-anchor=\"start\" x=\"11994.5\" y=\"-1413.8\" font-family=\"Helvetica,sans-Serif\" font-size=\"14.00\" fill=\"#000000\">lastReportedPosition.milepostLocation.milepost.milepostNumber ≤ 221.55</text>\n<text text-anchor=\"start\" x=\"12164\" y=\"-1398.8\" font-family=\"Helvetica,sans-Serif\" font-size=\"14.00\" fill=\"#000000\">squared_error = 0.06</text>\n<text text-anchor=\"start\" x=\"12188\" y=\"-1383.8\" font-family=\"Helvetica,sans-Serif\" font-size=\"14.00\" fill=\"#000000\">samples = 30</text>\n<text text-anchor=\"start\" x=\"12189.5\" y=\"-1368.8\" font-family=\"Helvetica,sans-Serif\" font-size=\"14.00\" fill=\"#000000\">value = &#45;0.07</text>\n</g>\n<!-- 153&#45;&gt;154 -->\n<g id=\"edge154\" class=\"edge\">\n<title>153&#45;&gt;154</title>\n<path fill=\"none\" stroke=\"#000000\" d=\"M12415.1885,-2472.8074C12387.6599,-2310.8403 12270.4272,-1621.0904 12239.5034,-1439.1472\"/>\n<polygon fill=\"#000000\" stroke=\"#000000\" points=\"12242.9276,-1438.405 12237.8014,-1429.1328 12236.0265,-1439.5779 12242.9276,-1438.405\"/>\n</g>\n<!-- 157 -->\n<g id=\"node158\" class=\"node\">\n<title>157</title>\n<path fill=\"#f2bf9b\" stroke=\"#000000\" d=\"M12566,-309.5C12566,-309.5 12446,-309.5 12446,-309.5 12440,-309.5 12434,-303.5 12434,-297.5 12434,-297.5 12434,-268.5 12434,-268.5 12434,-262.5 12440,-256.5 12446,-256.5 12446,-256.5 12566,-256.5 12566,-256.5 12572,-256.5 12578,-262.5 12578,-268.5 12578,-268.5 12578,-297.5 12578,-297.5 12578,-303.5 12572,-309.5 12566,-309.5\"/>\n<text text-anchor=\"start\" x=\"12442\" y=\"-294.3\" font-family=\"Helvetica,sans-Serif\" font-size=\"14.00\" fill=\"#000000\">squared_error = 0.0</text>\n<text text-anchor=\"start\" x=\"12458\" y=\"-279.3\" font-family=\"Helvetica,sans-Serif\" font-size=\"14.00\" fill=\"#000000\">samples = 137</text>\n<text text-anchor=\"start\" x=\"12470\" y=\"-264.3\" font-family=\"Helvetica,sans-Serif\" font-size=\"14.00\" fill=\"#000000\">value = 0.0</text>\n</g>\n<!-- 153&#45;&gt;157 -->\n<g id=\"edge157\" class=\"edge\">\n<title>153&#45;&gt;157</title>\n<path fill=\"none\" stroke=\"#000000\" d=\"M12423.0527,-2472.9572C12434.1014,-2289.7183 12486,-1429 12486,-1429 12486,-1429 12501.9402,-515.6267 12505.3592,-319.7156\"/>\n<polygon fill=\"#000000\" stroke=\"#000000\" points=\"12508.8599,-319.7004 12505.5351,-309.6408 12501.861,-319.5782 12508.8599,-319.7004\"/>\n</g>\n<!-- 155 -->\n<g id=\"node156\" class=\"node\">\n<title>155</title>\n<path fill=\"#f2bf9b\" stroke=\"#000000\" d=\"M12234,-309.5C12234,-309.5 12114,-309.5 12114,-309.5 12108,-309.5 12102,-303.5 12102,-297.5 12102,-297.5 12102,-268.5 12102,-268.5 12102,-262.5 12108,-256.5 12114,-256.5 12114,-256.5 12234,-256.5 12234,-256.5 12240,-256.5 12246,-262.5 12246,-268.5 12246,-268.5 12246,-297.5 12246,-297.5 12246,-303.5 12240,-309.5 12234,-309.5\"/>\n<text text-anchor=\"start\" x=\"12110\" y=\"-294.3\" font-family=\"Helvetica,sans-Serif\" font-size=\"14.00\" fill=\"#000000\">squared_error = 0.0</text>\n<text text-anchor=\"start\" x=\"12130\" y=\"-279.3\" font-family=\"Helvetica,sans-Serif\" font-size=\"14.00\" fill=\"#000000\">samples = 19</text>\n<text text-anchor=\"start\" x=\"12138\" y=\"-264.3\" font-family=\"Helvetica,sans-Serif\" font-size=\"14.00\" fill=\"#000000\">value = 0.0</text>\n</g>\n<!-- 154&#45;&gt;155 -->\n<g id=\"edge155\" class=\"edge\">\n<title>154&#45;&gt;155</title>\n<path fill=\"none\" stroke=\"#000000\" d=\"M12230.2166,-1360.8074C12221.6549,-1196.6595 12184.8187,-490.4199 12175.9338,-320.0764\"/>\n<polygon fill=\"#000000\" stroke=\"#000000\" points=\"12179.4175,-319.6708 12175.4013,-309.8667 12172.427,-320.0355 12179.4175,-319.6708\"/>\n</g>\n<!-- 156 -->\n<g id=\"node157\" class=\"node\">\n<title>156</title>\n<path fill=\"#f2c09b\" stroke=\"#000000\" d=\"M12404,-309.5C12404,-309.5 12276,-309.5 12276,-309.5 12270,-309.5 12264,-303.5 12264,-297.5 12264,-297.5 12264,-268.5 12264,-268.5 12264,-262.5 12270,-256.5 12276,-256.5 12276,-256.5 12404,-256.5 12404,-256.5 12410,-256.5 12416,-262.5 12416,-268.5 12416,-268.5 12416,-297.5 12416,-297.5 12416,-303.5 12410,-309.5 12404,-309.5\"/>\n<text text-anchor=\"start\" x=\"12272\" y=\"-294.3\" font-family=\"Helvetica,sans-Serif\" font-size=\"14.00\" fill=\"#000000\">squared_error = 0.15</text>\n<text text-anchor=\"start\" x=\"12296\" y=\"-279.3\" font-family=\"Helvetica,sans-Serif\" font-size=\"14.00\" fill=\"#000000\">samples = 11</text>\n<text text-anchor=\"start\" x=\"12297.5\" y=\"-264.3\" font-family=\"Helvetica,sans-Serif\" font-size=\"14.00\" fill=\"#000000\">value = &#45;0.18</text>\n</g>\n<!-- 154&#45;&gt;156 -->\n<g id=\"edge156\" class=\"edge\">\n<title>154&#45;&gt;156</title>\n<path fill=\"none\" stroke=\"#000000\" d=\"M12235.3209,-1360.8074C12251.2712,-1196.5776 12319.9233,-489.7153 12336.4238,-319.8219\"/>\n<polygon fill=\"#000000\" stroke=\"#000000\" points=\"12339.9075,-320.1582 12337.3906,-309.8667 12332.9403,-319.4815 12339.9075,-320.1582\"/>\n</g>\n<!-- 161 -->\n<g id=\"node162\" class=\"node\">\n<title>161</title>\n<path fill=\"#f1bc95\" stroke=\"#000000\" d=\"M13229.5,-8102C13229.5,-8102 12990.5,-8102 12990.5,-8102 12984.5,-8102 12978.5,-8096 12978.5,-8090 12978.5,-8090 12978.5,-8046 12978.5,-8046 12978.5,-8040 12984.5,-8034 12990.5,-8034 12990.5,-8034 13229.5,-8034 13229.5,-8034 13235.5,-8034 13241.5,-8040 13241.5,-8046 13241.5,-8046 13241.5,-8090 13241.5,-8090 13241.5,-8096 13235.5,-8102 13229.5,-8102\"/>\n<text text-anchor=\"start\" x=\"12986.5\" y=\"-8086.8\" font-family=\"Helvetica,sans-Serif\" font-size=\"14.00\" fill=\"#000000\">lastReportedPosition.speedMPH ≤ 4.5</text>\n<text text-anchor=\"start\" x=\"13042\" y=\"-8071.8\" font-family=\"Helvetica,sans-Serif\" font-size=\"14.00\" fill=\"#000000\">squared_error = 0.61</text>\n<text text-anchor=\"start\" x=\"13066\" y=\"-8056.8\" font-family=\"Helvetica,sans-Serif\" font-size=\"14.00\" fill=\"#000000\">samples = 25</text>\n<text text-anchor=\"start\" x=\"13070\" y=\"-8041.8\" font-family=\"Helvetica,sans-Serif\" font-size=\"14.00\" fill=\"#000000\">value = 4.16</text>\n</g>\n<!-- 160&#45;&gt;161 -->\n<g id=\"edge161\" class=\"edge\">\n<title>160&#45;&gt;161</title>\n<path fill=\"none\" stroke=\"#000000\" d=\"M13245.6952,-9145.8074C13225.3036,-8983.8403 13138.4646,-8294.0904 13115.5581,-8112.1472\"/>\n<polygon fill=\"#000000\" stroke=\"#000000\" points=\"13119.0191,-8111.6173 13114.2973,-8102.1328 13112.0739,-8112.4917 13119.0191,-8111.6173\"/>\n</g>\n<!-- 164 -->\n<g id=\"node165\" class=\"node\">\n<title>164</title>\n<path fill=\"#f1ba92\" stroke=\"#000000\" d=\"M13510.5,-8102C13510.5,-8102 13271.5,-8102 13271.5,-8102 13265.5,-8102 13259.5,-8096 13259.5,-8090 13259.5,-8090 13259.5,-8046 13259.5,-8046 13259.5,-8040 13265.5,-8034 13271.5,-8034 13271.5,-8034 13510.5,-8034 13510.5,-8034 13516.5,-8034 13522.5,-8040 13522.5,-8046 13522.5,-8046 13522.5,-8090 13522.5,-8090 13522.5,-8096 13516.5,-8102 13510.5,-8102\"/>\n<text text-anchor=\"start\" x=\"13267.5\" y=\"-8086.8\" font-family=\"Helvetica,sans-Serif\" font-size=\"14.00\" fill=\"#000000\">lastReportedPosition.speedMPH ≤ 6.5</text>\n<text text-anchor=\"start\" x=\"13323\" y=\"-8071.8\" font-family=\"Helvetica,sans-Serif\" font-size=\"14.00\" fill=\"#000000\">squared_error = 0.25</text>\n<text text-anchor=\"start\" x=\"13347\" y=\"-8056.8\" font-family=\"Helvetica,sans-Serif\" font-size=\"14.00\" fill=\"#000000\">samples = 44</text>\n<text text-anchor=\"start\" x=\"13351\" y=\"-8041.8\" font-family=\"Helvetica,sans-Serif\" font-size=\"14.00\" fill=\"#000000\">value = 6.52</text>\n</g>\n<!-- 160&#45;&gt;164 -->\n<g id=\"edge164\" class=\"edge\">\n<title>160&#45;&gt;164</title>\n<path fill=\"none\" stroke=\"#000000\" d=\"M13254.3356,-9145.8074C13274.8728,-8983.8403 13362.3321,-8294.0904 13385.4022,-8112.1472\"/>\n<polygon fill=\"#000000\" stroke=\"#000000\" points=\"13388.8862,-8112.4937 13386.672,-8102.1328 13381.9418,-8111.6131 13388.8862,-8112.4937\"/>\n</g>\n<!-- 162 -->\n<g id=\"node163\" class=\"node\">\n<title>162</title>\n<path fill=\"#f1bc96\" stroke=\"#000000\" d=\"M13068,-309.5C13068,-309.5 12940,-309.5 12940,-309.5 12934,-309.5 12928,-303.5 12928,-297.5 12928,-297.5 12928,-268.5 12928,-268.5 12928,-262.5 12934,-256.5 12940,-256.5 12940,-256.5 13068,-256.5 13068,-256.5 13074,-256.5 13080,-262.5 13080,-268.5 13080,-268.5 13080,-297.5 13080,-297.5 13080,-303.5 13074,-309.5 13068,-309.5\"/>\n<text text-anchor=\"start\" x=\"12936\" y=\"-294.3\" font-family=\"Helvetica,sans-Serif\" font-size=\"14.00\" fill=\"#000000\">squared_error = 0.24</text>\n<text text-anchor=\"start\" x=\"12960\" y=\"-279.3\" font-family=\"Helvetica,sans-Serif\" font-size=\"14.00\" fill=\"#000000\">samples = 15</text>\n<text text-anchor=\"start\" x=\"12968\" y=\"-264.3\" font-family=\"Helvetica,sans-Serif\" font-size=\"14.00\" fill=\"#000000\">value = 3.6</text>\n</g>\n<!-- 161&#45;&gt;162 -->\n<g id=\"edge162\" class=\"edge\">\n<title>161&#45;&gt;162</title>\n<path fill=\"none\" stroke=\"#000000\" d=\"M13108.3774,-8033.9562C13095.0413,-7754.1492 13004,-5844 13004,-5844 13004,-5844 13004,-5844 13004,-2507 13004,-2507 13004,-609.559 13004,-319.8949\"/>\n<polygon fill=\"#000000\" stroke=\"#000000\" points=\"13007.5001,-319.5259 13004,-309.5259 13000.5001,-319.5259 13007.5001,-319.5259\"/>\n</g>\n<!-- 163 -->\n<g id=\"node164\" class=\"node\">\n<title>163</title>\n<path fill=\"#f1bb94\" stroke=\"#000000\" d=\"M13230,-309.5C13230,-309.5 13110,-309.5 13110,-309.5 13104,-309.5 13098,-303.5 13098,-297.5 13098,-297.5 13098,-268.5 13098,-268.5 13098,-262.5 13104,-256.5 13110,-256.5 13110,-256.5 13230,-256.5 13230,-256.5 13236,-256.5 13242,-262.5 13242,-268.5 13242,-268.5 13242,-297.5 13242,-297.5 13242,-303.5 13236,-309.5 13230,-309.5\"/>\n<text text-anchor=\"start\" x=\"13106\" y=\"-294.3\" font-family=\"Helvetica,sans-Serif\" font-size=\"14.00\" fill=\"#000000\">squared_error = 0.0</text>\n<text text-anchor=\"start\" x=\"13126\" y=\"-279.3\" font-family=\"Helvetica,sans-Serif\" font-size=\"14.00\" fill=\"#000000\">samples = 10</text>\n<text text-anchor=\"start\" x=\"13134\" y=\"-264.3\" font-family=\"Helvetica,sans-Serif\" font-size=\"14.00\" fill=\"#000000\">value = 5.0</text>\n</g>\n<!-- 161&#45;&gt;163 -->\n<g id=\"edge163\" class=\"edge\">\n<title>161&#45;&gt;163</title>\n<path fill=\"none\" stroke=\"#000000\" d=\"M13110.9184,-8033.9562C13118.4672,-7754.1492 13170,-5844 13170,-5844 13170,-5844 13170,-5844 13170,-2507 13170,-2507 13170,-609.559 13170,-319.8949\"/>\n<polygon fill=\"#000000\" stroke=\"#000000\" points=\"13173.5001,-319.5259 13170,-309.5259 13166.5001,-319.5259 13173.5001,-319.5259\"/>\n</g>\n<!-- 165 -->\n<g id=\"node166\" class=\"node\">\n<title>165</title>\n<path fill=\"#f1ba93\" stroke=\"#000000\" d=\"M13392,-309.5C13392,-309.5 13272,-309.5 13272,-309.5 13266,-309.5 13260,-303.5 13260,-297.5 13260,-297.5 13260,-268.5 13260,-268.5 13260,-262.5 13266,-256.5 13272,-256.5 13272,-256.5 13392,-256.5 13392,-256.5 13398,-256.5 13404,-262.5 13404,-268.5 13404,-268.5 13404,-297.5 13404,-297.5 13404,-303.5 13398,-309.5 13392,-309.5\"/>\n<text text-anchor=\"start\" x=\"13268\" y=\"-294.3\" font-family=\"Helvetica,sans-Serif\" font-size=\"14.00\" fill=\"#000000\">squared_error = 0.0</text>\n<text text-anchor=\"start\" x=\"13288\" y=\"-279.3\" font-family=\"Helvetica,sans-Serif\" font-size=\"14.00\" fill=\"#000000\">samples = 21</text>\n<text text-anchor=\"start\" x=\"13296\" y=\"-264.3\" font-family=\"Helvetica,sans-Serif\" font-size=\"14.00\" fill=\"#000000\">value = 6.0</text>\n</g>\n<!-- 164&#45;&gt;165 -->\n<g id=\"edge165\" class=\"edge\">\n<title>164&#45;&gt;165</title>\n<path fill=\"none\" stroke=\"#000000\" d=\"M13390.0969,-8033.9562C13382.6739,-7754.1492 13332,-5844 13332,-5844 13332,-5844 13332,-5844 13332,-2507 13332,-2507 13332,-609.559 13332,-319.8949\"/>\n<polygon fill=\"#000000\" stroke=\"#000000\" points=\"13335.5001,-319.5259 13332,-309.5259 13328.5001,-319.5259 13335.5001,-319.5259\"/>\n</g>\n<!-- 166 -->\n<g id=\"node167\" class=\"node\">\n<title>166</title>\n<path fill=\"#f1b991\" stroke=\"#000000\" d=\"M13554,-309.5C13554,-309.5 13434,-309.5 13434,-309.5 13428,-309.5 13422,-303.5 13422,-297.5 13422,-297.5 13422,-268.5 13422,-268.5 13422,-262.5 13428,-256.5 13434,-256.5 13434,-256.5 13554,-256.5 13554,-256.5 13560,-256.5 13566,-262.5 13566,-268.5 13566,-268.5 13566,-297.5 13566,-297.5 13566,-303.5 13560,-309.5 13554,-309.5\"/>\n<text text-anchor=\"start\" x=\"13430\" y=\"-294.3\" font-family=\"Helvetica,sans-Serif\" font-size=\"14.00\" fill=\"#000000\">squared_error = 0.0</text>\n<text text-anchor=\"start\" x=\"13450\" y=\"-279.3\" font-family=\"Helvetica,sans-Serif\" font-size=\"14.00\" fill=\"#000000\">samples = 23</text>\n<text text-anchor=\"start\" x=\"13458\" y=\"-264.3\" font-family=\"Helvetica,sans-Serif\" font-size=\"14.00\" fill=\"#000000\">value = 7.0</text>\n</g>\n<!-- 164&#45;&gt;166 -->\n<g id=\"edge166\" class=\"edge\">\n<title>164&#45;&gt;166</title>\n<path fill=\"none\" stroke=\"#000000\" d=\"M13392.5767,-8033.9562C13405.5354,-7754.1492 13494,-5844 13494,-5844 13494,-5844 13494,-5844 13494,-2507 13494,-2507 13494,-609.559 13494,-319.8949\"/>\n<polygon fill=\"#000000\" stroke=\"#000000\" points=\"13497.5001,-319.5259 13494,-309.5259 13490.5001,-319.5259 13497.5001,-319.5259\"/>\n</g>\n<!-- 168 -->\n<g id=\"node169\" class=\"node\">\n<title>168</title>\n<path fill=\"#f0b58b\" stroke=\"#000000\" d=\"M14371.5,-9214C14371.5,-9214 14124.5,-9214 14124.5,-9214 14118.5,-9214 14112.5,-9208 14112.5,-9202 14112.5,-9202 14112.5,-9158 14112.5,-9158 14112.5,-9152 14118.5,-9146 14124.5,-9146 14124.5,-9146 14371.5,-9146 14371.5,-9146 14377.5,-9146 14383.5,-9152 14383.5,-9158 14383.5,-9158 14383.5,-9202 14383.5,-9202 14383.5,-9208 14377.5,-9214 14371.5,-9214\"/>\n<text text-anchor=\"start\" x=\"14120.5\" y=\"-9198.8\" font-family=\"Helvetica,sans-Serif\" font-size=\"14.00\" fill=\"#000000\">lastReportedPosition.speedMPH ≤ 11.5</text>\n<text text-anchor=\"start\" x=\"14180\" y=\"-9183.8\" font-family=\"Helvetica,sans-Serif\" font-size=\"14.00\" fill=\"#000000\">squared_error = 5.18</text>\n<text text-anchor=\"start\" x=\"14200\" y=\"-9168.8\" font-family=\"Helvetica,sans-Serif\" font-size=\"14.00\" fill=\"#000000\">samples = 283</text>\n<text text-anchor=\"start\" x=\"14204\" y=\"-9153.8\" font-family=\"Helvetica,sans-Serif\" font-size=\"14.00\" fill=\"#000000\">value = 11.02</text>\n</g>\n<!-- 167&#45;&gt;168 -->\n<g id=\"edge168\" class=\"edge\">\n<title>167&#45;&gt;168</title>\n<path fill=\"none\" stroke=\"#000000\" d=\"M14248,-10257.8074C14248,-10095.8403 14248,-9406.0904 14248,-9224.1472\"/>\n<polygon fill=\"#000000\" stroke=\"#000000\" points=\"14251.5001,-9224.1328 14248,-9214.1328 14244.5001,-9224.1329 14251.5001,-9224.1328\"/>\n</g>\n<!-- 183 -->\n<g id=\"node184\" class=\"node\">\n<title>183</title>\n<path fill=\"#eeae7f\" stroke=\"#000000\" d=\"M15316.5,-9214C15316.5,-9214 15069.5,-9214 15069.5,-9214 15063.5,-9214 15057.5,-9208 15057.5,-9202 15057.5,-9202 15057.5,-9158 15057.5,-9158 15057.5,-9152 15063.5,-9146 15069.5,-9146 15069.5,-9146 15316.5,-9146 15316.5,-9146 15322.5,-9146 15328.5,-9152 15328.5,-9158 15328.5,-9158 15328.5,-9202 15328.5,-9202 15328.5,-9208 15322.5,-9214 15316.5,-9214\"/>\n<text text-anchor=\"start\" x=\"15065.5\" y=\"-9198.8\" font-family=\"Helvetica,sans-Serif\" font-size=\"14.00\" fill=\"#000000\">lastReportedPosition.speedMPH ≤ 19.5</text>\n<text text-anchor=\"start\" x=\"15125\" y=\"-9183.8\" font-family=\"Helvetica,sans-Serif\" font-size=\"14.00\" fill=\"#000000\">squared_error = 5.34</text>\n<text text-anchor=\"start\" x=\"15145\" y=\"-9168.8\" font-family=\"Helvetica,sans-Serif\" font-size=\"14.00\" fill=\"#000000\">samples = 229</text>\n<text text-anchor=\"start\" x=\"15149\" y=\"-9153.8\" font-family=\"Helvetica,sans-Serif\" font-size=\"14.00\" fill=\"#000000\">value = 19.65</text>\n</g>\n<!-- 167&#45;&gt;183 -->\n<g id=\"edge183\" class=\"edge\">\n<title>167&#45;&gt;183</title>\n<path fill=\"none\" stroke=\"#000000\" d=\"M14277.0576,-10257.8074C14415.2486,-10095.1953 15005.5393,-9400.5887 15157.3094,-9221.9978\"/>\n<polygon fill=\"#000000\" stroke=\"#000000\" points=\"15160.1845,-9224.0194 15163.9932,-9214.1328 15154.8505,-9219.4864 15160.1845,-9224.0194\"/>\n</g>\n<!-- 169 -->\n<g id=\"node170\" class=\"node\">\n<title>169</title>\n<path fill=\"#f0b78e\" stroke=\"#000000\" d=\"M14208.5,-8102C14208.5,-8102 14023.5,-8102 14023.5,-8102 14017.5,-8102 14011.5,-8096 14011.5,-8090 14011.5,-8090 14011.5,-8046 14011.5,-8046 14011.5,-8040 14017.5,-8034 14023.5,-8034 14023.5,-8034 14208.5,-8034 14208.5,-8034 14214.5,-8034 14220.5,-8040 14220.5,-8046 14220.5,-8046 14220.5,-8090 14220.5,-8090 14220.5,-8096 14214.5,-8102 14208.5,-8102\"/>\n<text text-anchor=\"start\" x=\"14019.5\" y=\"-8086.8\" font-family=\"Helvetica,sans-Serif\" font-size=\"14.00\" fill=\"#000000\">lastReportedSpeedMPH ≤ 9.5</text>\n<text text-anchor=\"start\" x=\"14048\" y=\"-8071.8\" font-family=\"Helvetica,sans-Serif\" font-size=\"14.00\" fill=\"#000000\">squared_error = 1.21</text>\n<text text-anchor=\"start\" x=\"14068\" y=\"-8056.8\" font-family=\"Helvetica,sans-Serif\" font-size=\"14.00\" fill=\"#000000\">samples = 171</text>\n<text text-anchor=\"start\" x=\"14076\" y=\"-8041.8\" font-family=\"Helvetica,sans-Serif\" font-size=\"14.00\" fill=\"#000000\">value = 9.42</text>\n</g>\n<!-- 168&#45;&gt;169 -->\n<g id=\"edge169\" class=\"edge\">\n<title>168&#45;&gt;169</title>\n<path fill=\"none\" stroke=\"#000000\" d=\"M14243.9412,-9145.8074C14224.7149,-8983.8403 14142.8381,-8294.0904 14121.2405,-8112.1472\"/>\n<polygon fill=\"#000000\" stroke=\"#000000\" points=\"14124.7062,-8111.6505 14120.0517,-8102.1328 14117.755,-8112.4757 14124.7062,-8111.6505\"/>\n</g>\n<!-- 176 -->\n<g id=\"node177\" class=\"node\">\n<title>176</title>\n<path fill=\"#efb388\" stroke=\"#000000\" d=\"M14483,-8102C14483,-8102 14289,-8102 14289,-8102 14283,-8102 14277,-8096 14277,-8090 14277,-8090 14277,-8046 14277,-8046 14277,-8040 14283,-8034 14289,-8034 14289,-8034 14483,-8034 14483,-8034 14489,-8034 14495,-8040 14495,-8046 14495,-8046 14495,-8090 14495,-8090 14495,-8096 14489,-8102 14483,-8102\"/>\n<text text-anchor=\"start\" x=\"14285\" y=\"-8086.8\" font-family=\"Helvetica,sans-Serif\" font-size=\"14.00\" fill=\"#000000\">lastReportedSpeedMPH ≤ 13.5</text>\n<text text-anchor=\"start\" x=\"14318\" y=\"-8071.8\" font-family=\"Helvetica,sans-Serif\" font-size=\"14.00\" fill=\"#000000\">squared_error = 1.39</text>\n<text text-anchor=\"start\" x=\"14338\" y=\"-8056.8\" font-family=\"Helvetica,sans-Serif\" font-size=\"14.00\" fill=\"#000000\">samples = 112</text>\n<text text-anchor=\"start\" x=\"14342\" y=\"-8041.8\" font-family=\"Helvetica,sans-Serif\" font-size=\"14.00\" fill=\"#000000\">value = 13.46</text>\n</g>\n<!-- 168&#45;&gt;176 -->\n<g id=\"edge176\" class=\"edge\">\n<title>168&#45;&gt;176</title>\n<path fill=\"none\" stroke=\"#000000\" d=\"M14252.2433,-9145.8074C14272.3436,-8983.8403 14357.942,-8294.0904 14380.5213,-8112.1472\"/>\n<polygon fill=\"#000000\" stroke=\"#000000\" points=\"14384.0058,-8112.4878 14381.7641,-8102.1328 14377.0591,-8111.6256 14384.0058,-8112.4878\"/>\n</g>\n<!-- 170 -->\n<g id=\"node171\" class=\"node\">\n<title>170</title>\n<path fill=\"#f0b88f\" stroke=\"#000000\" d=\"M13937.5,-6990C13937.5,-6990 13698.5,-6990 13698.5,-6990 13692.5,-6990 13686.5,-6984 13686.5,-6978 13686.5,-6978 13686.5,-6934 13686.5,-6934 13686.5,-6928 13692.5,-6922 13698.5,-6922 13698.5,-6922 13937.5,-6922 13937.5,-6922 13943.5,-6922 13949.5,-6928 13949.5,-6934 13949.5,-6934 13949.5,-6978 13949.5,-6978 13949.5,-6984 13943.5,-6990 13937.5,-6990\"/>\n<text text-anchor=\"start\" x=\"13694.5\" y=\"-6974.8\" font-family=\"Helvetica,sans-Serif\" font-size=\"14.00\" fill=\"#000000\">lastReportedPosition.speedMPH ≤ 8.5</text>\n<text text-anchor=\"start\" x=\"13750\" y=\"-6959.8\" font-family=\"Helvetica,sans-Serif\" font-size=\"14.00\" fill=\"#000000\">squared_error = 0.25</text>\n<text text-anchor=\"start\" x=\"13774\" y=\"-6944.8\" font-family=\"Helvetica,sans-Serif\" font-size=\"14.00\" fill=\"#000000\">samples = 94</text>\n<text text-anchor=\"start\" x=\"13778\" y=\"-6929.8\" font-family=\"Helvetica,sans-Serif\" font-size=\"14.00\" fill=\"#000000\">value = 8.53</text>\n</g>\n<!-- 169&#45;&gt;170 -->\n<g id=\"edge170\" class=\"edge\">\n<title>169&#45;&gt;170</title>\n<path fill=\"none\" stroke=\"#000000\" d=\"M14106.8369,-8033.8074C14063.4104,-7871.7597 13878.4049,-7181.4036 13829.7581,-6999.8758\"/>\n<polygon fill=\"#000000\" stroke=\"#000000\" points=\"13833.1164,-6998.886 13827.1471,-6990.1328 13826.355,-7000.698 13833.1164,-6998.886\"/>\n</g>\n<!-- 173 -->\n<g id=\"node174\" class=\"node\">\n<title>173</title>\n<path fill=\"#f0b68c\" stroke=\"#000000\" d=\"M14239.5,-6990C14239.5,-6990 13992.5,-6990 13992.5,-6990 13986.5,-6990 13980.5,-6984 13980.5,-6978 13980.5,-6978 13980.5,-6934 13980.5,-6934 13980.5,-6928 13986.5,-6922 13992.5,-6922 13992.5,-6922 14239.5,-6922 14239.5,-6922 14245.5,-6922 14251.5,-6928 14251.5,-6934 14251.5,-6934 14251.5,-6978 14251.5,-6978 14251.5,-6984 14245.5,-6990 14239.5,-6990\"/>\n<text text-anchor=\"start\" x=\"13988.5\" y=\"-6974.8\" font-family=\"Helvetica,sans-Serif\" font-size=\"14.00\" fill=\"#000000\">lastReportedPosition.speedMPH ≤ 10.5</text>\n<text text-anchor=\"start\" x=\"14048\" y=\"-6959.8\" font-family=\"Helvetica,sans-Serif\" font-size=\"14.00\" fill=\"#000000\">squared_error = 0.25</text>\n<text text-anchor=\"start\" x=\"14072\" y=\"-6944.8\" font-family=\"Helvetica,sans-Serif\" font-size=\"14.00\" fill=\"#000000\">samples = 77</text>\n<text text-anchor=\"start\" x=\"14072\" y=\"-6929.8\" font-family=\"Helvetica,sans-Serif\" font-size=\"14.00\" fill=\"#000000\">value = 10.51</text>\n</g>\n<!-- 169&#45;&gt;173 -->\n<g id=\"edge173\" class=\"edge\">\n<title>169&#45;&gt;173</title>\n<path fill=\"none\" stroke=\"#000000\" d=\"M14116,-8033.8074C14116,-7871.8403 14116,-7182.0904 14116,-7000.1472\"/>\n<polygon fill=\"#000000\" stroke=\"#000000\" points=\"14119.5001,-7000.1328 14116,-6990.1328 14112.5001,-7000.1329 14119.5001,-7000.1328\"/>\n</g>\n<!-- 171 -->\n<g id=\"node172\" class=\"node\">\n<title>171</title>\n<path fill=\"#f0b890\" stroke=\"#000000\" d=\"M13716,-309.5C13716,-309.5 13596,-309.5 13596,-309.5 13590,-309.5 13584,-303.5 13584,-297.5 13584,-297.5 13584,-268.5 13584,-268.5 13584,-262.5 13590,-256.5 13596,-256.5 13596,-256.5 13716,-256.5 13716,-256.5 13722,-256.5 13728,-262.5 13728,-268.5 13728,-268.5 13728,-297.5 13728,-297.5 13728,-303.5 13722,-309.5 13716,-309.5\"/>\n<text text-anchor=\"start\" x=\"13592\" y=\"-294.3\" font-family=\"Helvetica,sans-Serif\" font-size=\"14.00\" fill=\"#000000\">squared_error = 0.0</text>\n<text text-anchor=\"start\" x=\"13612\" y=\"-279.3\" font-family=\"Helvetica,sans-Serif\" font-size=\"14.00\" fill=\"#000000\">samples = 44</text>\n<text text-anchor=\"start\" x=\"13620\" y=\"-264.3\" font-family=\"Helvetica,sans-Serif\" font-size=\"14.00\" fill=\"#000000\">value = 8.0</text>\n</g>\n<!-- 170&#45;&gt;171 -->\n<g id=\"edge171\" class=\"edge\">\n<title>170&#45;&gt;171</title>\n<path fill=\"none\" stroke=\"#000000\" d=\"M13815.5202,-6921.9562C13795.1386,-6642.1492 13656,-4732 13656,-4732 13656,-4732 13656,-4732 13656,-2507 13656,-2507 13656,-609.559 13656,-319.8949\"/>\n<polygon fill=\"#000000\" stroke=\"#000000\" points=\"13659.5001,-319.5259 13656,-309.5259 13652.5001,-319.5259 13659.5001,-319.5259\"/>\n</g>\n<!-- 172 -->\n<g id=\"node173\" class=\"node\">\n<title>172</title>\n<path fill=\"#f0b78e\" stroke=\"#000000\" d=\"M13878,-309.5C13878,-309.5 13758,-309.5 13758,-309.5 13752,-309.5 13746,-303.5 13746,-297.5 13746,-297.5 13746,-268.5 13746,-268.5 13746,-262.5 13752,-256.5 13758,-256.5 13758,-256.5 13878,-256.5 13878,-256.5 13884,-256.5 13890,-262.5 13890,-268.5 13890,-268.5 13890,-297.5 13890,-297.5 13890,-303.5 13884,-309.5 13878,-309.5\"/>\n<text text-anchor=\"start\" x=\"13754\" y=\"-294.3\" font-family=\"Helvetica,sans-Serif\" font-size=\"14.00\" fill=\"#000000\">squared_error = 0.0</text>\n<text text-anchor=\"start\" x=\"13774\" y=\"-279.3\" font-family=\"Helvetica,sans-Serif\" font-size=\"14.00\" fill=\"#000000\">samples = 50</text>\n<text text-anchor=\"start\" x=\"13782\" y=\"-264.3\" font-family=\"Helvetica,sans-Serif\" font-size=\"14.00\" fill=\"#000000\">value = 9.0</text>\n</g>\n<!-- 170&#45;&gt;172 -->\n<g id=\"edge172\" class=\"edge\">\n<title>170&#45;&gt;172</title>\n<path fill=\"none\" stroke=\"#000000\" d=\"M13818,-6921.9562C13818,-6642.1492 13818,-4732 13818,-4732 13818,-4732 13818,-4732 13818,-2507 13818,-2507 13818,-609.559 13818,-319.8949\"/>\n<polygon fill=\"#000000\" stroke=\"#000000\" points=\"13821.5001,-319.5259 13818,-309.5259 13814.5001,-319.5259 13821.5001,-319.5259\"/>\n</g>\n<!-- 174 -->\n<g id=\"node175\" class=\"node\">\n<title>174</title>\n<path fill=\"#f0b68d\" stroke=\"#000000\" d=\"M14040,-309.5C14040,-309.5 13920,-309.5 13920,-309.5 13914,-309.5 13908,-303.5 13908,-297.5 13908,-297.5 13908,-268.5 13908,-268.5 13908,-262.5 13914,-256.5 13920,-256.5 13920,-256.5 14040,-256.5 14040,-256.5 14046,-256.5 14052,-262.5 14052,-268.5 14052,-268.5 14052,-297.5 14052,-297.5 14052,-303.5 14046,-309.5 14040,-309.5\"/>\n<text text-anchor=\"start\" x=\"13916\" y=\"-294.3\" font-family=\"Helvetica,sans-Serif\" font-size=\"14.00\" fill=\"#000000\">squared_error = 0.0</text>\n<text text-anchor=\"start\" x=\"13936\" y=\"-279.3\" font-family=\"Helvetica,sans-Serif\" font-size=\"14.00\" fill=\"#000000\">samples = 38</text>\n<text text-anchor=\"start\" x=\"13940\" y=\"-264.3\" font-family=\"Helvetica,sans-Serif\" font-size=\"14.00\" fill=\"#000000\">value = 10.0</text>\n</g>\n<!-- 173&#45;&gt;174 -->\n<g id=\"edge174\" class=\"edge\">\n<title>173&#45;&gt;174</title>\n<path fill=\"none\" stroke=\"#000000\" d=\"M14113.9182,-6921.9562C14096.8077,-6642.1492 13980,-4732 13980,-4732 13980,-4732 13980,-4732 13980,-2507 13980,-2507 13980,-609.559 13980,-319.8949\"/>\n<polygon fill=\"#000000\" stroke=\"#000000\" points=\"13983.5001,-319.5259 13980,-309.5259 13976.5001,-319.5259 13983.5001,-319.5259\"/>\n</g>\n<!-- 175 -->\n<g id=\"node176\" class=\"node\">\n<title>175</title>\n<path fill=\"#f0b58b\" stroke=\"#000000\" d=\"M14202,-309.5C14202,-309.5 14082,-309.5 14082,-309.5 14076,-309.5 14070,-303.5 14070,-297.5 14070,-297.5 14070,-268.5 14070,-268.5 14070,-262.5 14076,-256.5 14082,-256.5 14082,-256.5 14202,-256.5 14202,-256.5 14208,-256.5 14214,-262.5 14214,-268.5 14214,-268.5 14214,-297.5 14214,-297.5 14214,-303.5 14208,-309.5 14202,-309.5\"/>\n<text text-anchor=\"start\" x=\"14078\" y=\"-294.3\" font-family=\"Helvetica,sans-Serif\" font-size=\"14.00\" fill=\"#000000\">squared_error = 0.0</text>\n<text text-anchor=\"start\" x=\"14098\" y=\"-279.3\" font-family=\"Helvetica,sans-Serif\" font-size=\"14.00\" fill=\"#000000\">samples = 39</text>\n<text text-anchor=\"start\" x=\"14102\" y=\"-264.3\" font-family=\"Helvetica,sans-Serif\" font-size=\"14.00\" fill=\"#000000\">value = 11.0</text>\n</g>\n<!-- 173&#45;&gt;175 -->\n<g id=\"edge175\" class=\"edge\">\n<title>173&#45;&gt;175</title>\n<path fill=\"none\" stroke=\"#000000\" d=\"M14116.398,-6921.9562C14119.6691,-6642.1492 14142,-4732 14142,-4732 14142,-4732 14142,-4732 14142,-2507 14142,-2507 14142,-609.559 14142,-319.8949\"/>\n<polygon fill=\"#000000\" stroke=\"#000000\" points=\"14145.5001,-319.5259 14142,-309.5259 14138.5001,-319.5259 14145.5001,-319.5259\"/>\n</g>\n<!-- 177 -->\n<g id=\"node178\" class=\"node\">\n<title>177</title>\n<path fill=\"#f0b489\" stroke=\"#000000\" d=\"M14483,-6990C14483,-6990 14289,-6990 14289,-6990 14283,-6990 14277,-6984 14277,-6978 14277,-6978 14277,-6934 14277,-6934 14277,-6928 14283,-6922 14289,-6922 14289,-6922 14483,-6922 14483,-6922 14489,-6922 14495,-6928 14495,-6934 14495,-6934 14495,-6978 14495,-6978 14495,-6984 14489,-6990 14483,-6990\"/>\n<text text-anchor=\"start\" x=\"14285\" y=\"-6974.8\" font-family=\"Helvetica,sans-Serif\" font-size=\"14.00\" fill=\"#000000\">lastReportedSpeedMPH ≤ 12.5</text>\n<text text-anchor=\"start\" x=\"14318\" y=\"-6959.8\" font-family=\"Helvetica,sans-Serif\" font-size=\"14.00\" fill=\"#000000\">squared_error = 0.25</text>\n<text text-anchor=\"start\" x=\"14342\" y=\"-6944.8\" font-family=\"Helvetica,sans-Serif\" font-size=\"14.00\" fill=\"#000000\">samples = 61</text>\n<text text-anchor=\"start\" x=\"14342\" y=\"-6929.8\" font-family=\"Helvetica,sans-Serif\" font-size=\"14.00\" fill=\"#000000\">value = 12.48</text>\n</g>\n<!-- 176&#45;&gt;177 -->\n<g id=\"edge177\" class=\"edge\">\n<title>176&#45;&gt;177</title>\n<path fill=\"none\" stroke=\"#000000\" d=\"M14386,-8033.8074C14386,-7871.8403 14386,-7182.0904 14386,-7000.1472\"/>\n<polygon fill=\"#000000\" stroke=\"#000000\" points=\"14389.5001,-7000.1328 14386,-6990.1328 14382.5001,-7000.1329 14389.5001,-7000.1328\"/>\n</g>\n<!-- 180 -->\n<g id=\"node181\" class=\"node\">\n<title>180</title>\n<path fill=\"#efb286\" stroke=\"#000000\" d=\"M14725,-6990C14725,-6990 14531,-6990 14531,-6990 14525,-6990 14519,-6984 14519,-6978 14519,-6978 14519,-6934 14519,-6934 14519,-6928 14525,-6922 14531,-6922 14531,-6922 14725,-6922 14725,-6922 14731,-6922 14737,-6928 14737,-6934 14737,-6934 14737,-6978 14737,-6978 14737,-6984 14731,-6990 14725,-6990\"/>\n<text text-anchor=\"start\" x=\"14527\" y=\"-6974.8\" font-family=\"Helvetica,sans-Serif\" font-size=\"14.00\" fill=\"#000000\">lastReportedSpeedMPH ≤ 14.5</text>\n<text text-anchor=\"start\" x=\"14560\" y=\"-6959.8\" font-family=\"Helvetica,sans-Serif\" font-size=\"14.00\" fill=\"#000000\">squared_error = 0.23</text>\n<text text-anchor=\"start\" x=\"14584\" y=\"-6944.8\" font-family=\"Helvetica,sans-Serif\" font-size=\"14.00\" fill=\"#000000\">samples = 51</text>\n<text text-anchor=\"start\" x=\"14584\" y=\"-6929.8\" font-family=\"Helvetica,sans-Serif\" font-size=\"14.00\" fill=\"#000000\">value = 14.63</text>\n</g>\n<!-- 176&#45;&gt;180 -->\n<g id=\"edge180\" class=\"edge\">\n<title>176&#45;&gt;180</title>\n<path fill=\"none\" stroke=\"#000000\" d=\"M14393.4412,-8033.8074C14428.6894,-7871.8403 14578.7969,-7182.0904 14618.3924,-7000.1472\"/>\n<polygon fill=\"#000000\" stroke=\"#000000\" points=\"14621.8652,-7000.6484 14620.5718,-6990.1328 14615.0253,-6999.1598 14621.8652,-7000.6484\"/>\n</g>\n<!-- 178 -->\n<g id=\"node179\" class=\"node\">\n<title>178</title>\n<path fill=\"#f0b58a\" stroke=\"#000000\" d=\"M14364,-309.5C14364,-309.5 14244,-309.5 14244,-309.5 14238,-309.5 14232,-303.5 14232,-297.5 14232,-297.5 14232,-268.5 14232,-268.5 14232,-262.5 14238,-256.5 14244,-256.5 14244,-256.5 14364,-256.5 14364,-256.5 14370,-256.5 14376,-262.5 14376,-268.5 14376,-268.5 14376,-297.5 14376,-297.5 14376,-303.5 14370,-309.5 14364,-309.5\"/>\n<text text-anchor=\"start\" x=\"14240\" y=\"-294.3\" font-family=\"Helvetica,sans-Serif\" font-size=\"14.00\" fill=\"#000000\">squared_error = 0.0</text>\n<text text-anchor=\"start\" x=\"14260\" y=\"-279.3\" font-family=\"Helvetica,sans-Serif\" font-size=\"14.00\" fill=\"#000000\">samples = 32</text>\n<text text-anchor=\"start\" x=\"14264\" y=\"-264.3\" font-family=\"Helvetica,sans-Serif\" font-size=\"14.00\" fill=\"#000000\">value = 12.0</text>\n</g>\n<!-- 177&#45;&gt;178 -->\n<g id=\"edge178\" class=\"edge\">\n<title>177&#45;&gt;178</title>\n<path fill=\"none\" stroke=\"#000000\" d=\"M14384.7448,-6921.9562C14374.4282,-6642.1492 14304,-4732 14304,-4732 14304,-4732 14304,-4732 14304,-2507 14304,-2507 14304,-609.559 14304,-319.8949\"/>\n<polygon fill=\"#000000\" stroke=\"#000000\" points=\"14307.5001,-319.5259 14304,-309.5259 14300.5001,-319.5259 14307.5001,-319.5259\"/>\n</g>\n<!-- 179 -->\n<g id=\"node180\" class=\"node\">\n<title>179</title>\n<path fill=\"#efb489\" stroke=\"#000000\" d=\"M14526,-309.5C14526,-309.5 14406,-309.5 14406,-309.5 14400,-309.5 14394,-303.5 14394,-297.5 14394,-297.5 14394,-268.5 14394,-268.5 14394,-262.5 14400,-256.5 14406,-256.5 14406,-256.5 14526,-256.5 14526,-256.5 14532,-256.5 14538,-262.5 14538,-268.5 14538,-268.5 14538,-297.5 14538,-297.5 14538,-303.5 14532,-309.5 14526,-309.5\"/>\n<text text-anchor=\"start\" x=\"14402\" y=\"-294.3\" font-family=\"Helvetica,sans-Serif\" font-size=\"14.00\" fill=\"#000000\">squared_error = 0.0</text>\n<text text-anchor=\"start\" x=\"14422\" y=\"-279.3\" font-family=\"Helvetica,sans-Serif\" font-size=\"14.00\" fill=\"#000000\">samples = 29</text>\n<text text-anchor=\"start\" x=\"14426\" y=\"-264.3\" font-family=\"Helvetica,sans-Serif\" font-size=\"14.00\" fill=\"#000000\">value = 13.0</text>\n</g>\n<!-- 177&#45;&gt;179 -->\n<g id=\"edge179\" class=\"edge\">\n<title>177&#45;&gt;179</title>\n<path fill=\"none\" stroke=\"#000000\" d=\"M14387.2246,-6921.9562C14397.2896,-6642.1492 14466,-4732 14466,-4732 14466,-4732 14466,-4732 14466,-2507 14466,-2507 14466,-609.559 14466,-319.8949\"/>\n<polygon fill=\"#000000\" stroke=\"#000000\" points=\"14469.5001,-319.5259 14466,-309.5259 14462.5001,-319.5259 14469.5001,-319.5259\"/>\n</g>\n<!-- 181 -->\n<g id=\"node182\" class=\"node\">\n<title>181</title>\n<path fill=\"#efb387\" stroke=\"#000000\" d=\"M14688,-309.5C14688,-309.5 14568,-309.5 14568,-309.5 14562,-309.5 14556,-303.5 14556,-297.5 14556,-297.5 14556,-268.5 14556,-268.5 14556,-262.5 14562,-256.5 14568,-256.5 14568,-256.5 14688,-256.5 14688,-256.5 14694,-256.5 14700,-262.5 14700,-268.5 14700,-268.5 14700,-297.5 14700,-297.5 14700,-303.5 14694,-309.5 14688,-309.5\"/>\n<text text-anchor=\"start\" x=\"14564\" y=\"-294.3\" font-family=\"Helvetica,sans-Serif\" font-size=\"14.00\" fill=\"#000000\">squared_error = 0.0</text>\n<text text-anchor=\"start\" x=\"14584\" y=\"-279.3\" font-family=\"Helvetica,sans-Serif\" font-size=\"14.00\" fill=\"#000000\">samples = 19</text>\n<text text-anchor=\"start\" x=\"14588\" y=\"-264.3\" font-family=\"Helvetica,sans-Serif\" font-size=\"14.00\" fill=\"#000000\">value = 14.0</text>\n</g>\n<!-- 180&#45;&gt;181 -->\n<g id=\"edge181\" class=\"edge\">\n<title>180&#45;&gt;181</title>\n<path fill=\"none\" stroke=\"#000000\" d=\"M14628,-6921.9562C14628,-6642.1492 14628,-4732 14628,-4732 14628,-4732 14628,-4732 14628,-2507 14628,-2507 14628,-609.559 14628,-319.8949\"/>\n<polygon fill=\"#000000\" stroke=\"#000000\" points=\"14631.5001,-319.5259 14628,-309.5259 14624.5001,-319.5259 14631.5001,-319.5259\"/>\n</g>\n<!-- 182 -->\n<g id=\"node183\" class=\"node\">\n<title>182</title>\n<path fill=\"#efb286\" stroke=\"#000000\" d=\"M14850,-309.5C14850,-309.5 14730,-309.5 14730,-309.5 14724,-309.5 14718,-303.5 14718,-297.5 14718,-297.5 14718,-268.5 14718,-268.5 14718,-262.5 14724,-256.5 14730,-256.5 14730,-256.5 14850,-256.5 14850,-256.5 14856,-256.5 14862,-262.5 14862,-268.5 14862,-268.5 14862,-297.5 14862,-297.5 14862,-303.5 14856,-309.5 14850,-309.5\"/>\n<text text-anchor=\"start\" x=\"14726\" y=\"-294.3\" font-family=\"Helvetica,sans-Serif\" font-size=\"14.00\" fill=\"#000000\">squared_error = 0.0</text>\n<text text-anchor=\"start\" x=\"14746\" y=\"-279.3\" font-family=\"Helvetica,sans-Serif\" font-size=\"14.00\" fill=\"#000000\">samples = 32</text>\n<text text-anchor=\"start\" x=\"14750\" y=\"-264.3\" font-family=\"Helvetica,sans-Serif\" font-size=\"14.00\" fill=\"#000000\">value = 15.0</text>\n</g>\n<!-- 180&#45;&gt;182 -->\n<g id=\"edge182\" class=\"edge\">\n<title>180&#45;&gt;182</title>\n<path fill=\"none\" stroke=\"#000000\" d=\"M14630.4798,-6921.9562C14650.8614,-6642.1492 14790,-4732 14790,-4732 14790,-4732 14790,-4732 14790,-2507 14790,-2507 14790,-609.559 14790,-319.8949\"/>\n<polygon fill=\"#000000\" stroke=\"#000000\" points=\"14793.5001,-319.5259 14790,-309.5259 14786.5001,-319.5259 14793.5001,-319.5259\"/>\n</g>\n<!-- 184 -->\n<g id=\"node185\" class=\"node\">\n<title>184</title>\n<path fill=\"#efb082\" stroke=\"#000000\" d=\"M15316.5,-8102C15316.5,-8102 15069.5,-8102 15069.5,-8102 15063.5,-8102 15057.5,-8096 15057.5,-8090 15057.5,-8090 15057.5,-8046 15057.5,-8046 15057.5,-8040 15063.5,-8034 15069.5,-8034 15069.5,-8034 15316.5,-8034 15316.5,-8034 15322.5,-8034 15328.5,-8040 15328.5,-8046 15328.5,-8046 15328.5,-8090 15328.5,-8090 15328.5,-8096 15322.5,-8102 15316.5,-8102\"/>\n<text text-anchor=\"start\" x=\"15065.5\" y=\"-8086.8\" font-family=\"Helvetica,sans-Serif\" font-size=\"14.00\" fill=\"#000000\">lastReportedPosition.speedMPH ≤ 17.5</text>\n<text text-anchor=\"start\" x=\"15125\" y=\"-8071.8\" font-family=\"Helvetica,sans-Serif\" font-size=\"14.00\" fill=\"#000000\">squared_error = 1.48</text>\n<text text-anchor=\"start\" x=\"15145\" y=\"-8056.8\" font-family=\"Helvetica,sans-Serif\" font-size=\"14.00\" fill=\"#000000\">samples = 102</text>\n<text text-anchor=\"start\" x=\"15149\" y=\"-8041.8\" font-family=\"Helvetica,sans-Serif\" font-size=\"14.00\" fill=\"#000000\">value = 17.42</text>\n</g>\n<!-- 183&#45;&gt;184 -->\n<g id=\"edge184\" class=\"edge\">\n<title>183&#45;&gt;184</title>\n<path fill=\"none\" stroke=\"#000000\" d=\"M15193,-9145.8074C15193,-8983.8403 15193,-8294.0904 15193,-8112.1472\"/>\n<polygon fill=\"#000000\" stroke=\"#000000\" points=\"15196.5001,-8112.1328 15193,-8102.1328 15189.5001,-8112.1329 15196.5001,-8112.1328\"/>\n</g>\n<!-- 191 -->\n<g id=\"node192\" class=\"node\">\n<title>191</title>\n<path fill=\"#eeac7d\" stroke=\"#000000\" d=\"M15715,-8102C15715,-8102 15521,-8102 15521,-8102 15515,-8102 15509,-8096 15509,-8090 15509,-8090 15509,-8046 15509,-8046 15509,-8040 15515,-8034 15521,-8034 15521,-8034 15715,-8034 15715,-8034 15721,-8034 15727,-8040 15727,-8046 15727,-8046 15727,-8090 15727,-8090 15727,-8096 15721,-8102 15715,-8102\"/>\n<text text-anchor=\"start\" x=\"15517\" y=\"-8086.8\" font-family=\"Helvetica,sans-Serif\" font-size=\"14.00\" fill=\"#000000\">lastReportedSpeedMPH ≤ 21.5</text>\n<text text-anchor=\"start\" x=\"15550\" y=\"-8071.8\" font-family=\"Helvetica,sans-Serif\" font-size=\"14.00\" fill=\"#000000\">squared_error = 1.24</text>\n<text text-anchor=\"start\" x=\"15570\" y=\"-8056.8\" font-family=\"Helvetica,sans-Serif\" font-size=\"14.00\" fill=\"#000000\">samples = 127</text>\n<text text-anchor=\"start\" x=\"15574\" y=\"-8041.8\" font-family=\"Helvetica,sans-Serif\" font-size=\"14.00\" fill=\"#000000\">value = 21.44</text>\n</g>\n<!-- 183&#45;&gt;191 -->\n<g id=\"edge191\" class=\"edge\">\n<title>183&#45;&gt;191</title>\n<path fill=\"none\" stroke=\"#000000\" d=\"M15206.0682,-9145.8074C15268.0327,-8983.6791 15532.1146,-8292.7165 15601.3343,-8111.6053\"/>\n<polygon fill=\"#000000\" stroke=\"#000000\" points=\"15604.6538,-8112.7234 15604.9546,-8102.1328 15598.1151,-8110.2243 15604.6538,-8112.7234\"/>\n</g>\n<!-- 185 -->\n<g id=\"node186\" class=\"node\">\n<title>185</title>\n<path fill=\"#efb184\" stroke=\"#000000\" d=\"M15184.5,-6990C15184.5,-6990 14937.5,-6990 14937.5,-6990 14931.5,-6990 14925.5,-6984 14925.5,-6978 14925.5,-6978 14925.5,-6934 14925.5,-6934 14925.5,-6928 14931.5,-6922 14937.5,-6922 14937.5,-6922 15184.5,-6922 15184.5,-6922 15190.5,-6922 15196.5,-6928 15196.5,-6934 15196.5,-6934 15196.5,-6978 15196.5,-6978 15196.5,-6984 15190.5,-6990 15184.5,-6990\"/>\n<text text-anchor=\"start\" x=\"14933.5\" y=\"-6974.8\" font-family=\"Helvetica,sans-Serif\" font-size=\"14.00\" fill=\"#000000\">lastReportedPosition.speedMPH ≤ 16.5</text>\n<text text-anchor=\"start\" x=\"14993\" y=\"-6959.8\" font-family=\"Helvetica,sans-Serif\" font-size=\"14.00\" fill=\"#000000\">squared_error = 0.23</text>\n<text text-anchor=\"start\" x=\"15017\" y=\"-6944.8\" font-family=\"Helvetica,sans-Serif\" font-size=\"14.00\" fill=\"#000000\">samples = 54</text>\n<text text-anchor=\"start\" x=\"15017\" y=\"-6929.8\" font-family=\"Helvetica,sans-Serif\" font-size=\"14.00\" fill=\"#000000\">value = 16.37</text>\n</g>\n<!-- 184&#45;&gt;185 -->\n<g id=\"edge185\" class=\"edge\">\n<title>184&#45;&gt;185</title>\n<path fill=\"none\" stroke=\"#000000\" d=\"M15188.9412,-8033.8074C15169.7149,-7871.8403 15087.8381,-7182.0904 15066.2405,-7000.1472\"/>\n<polygon fill=\"#000000\" stroke=\"#000000\" points=\"15069.7062,-6999.6505 15065.0517,-6990.1328 15062.755,-7000.4757 15069.7062,-6999.6505\"/>\n</g>\n<!-- 188 -->\n<g id=\"node189\" class=\"node\">\n<title>188</title>\n<path fill=\"#eeaf81\" stroke=\"#000000\" d=\"M15421,-6990C15421,-6990 15227,-6990 15227,-6990 15221,-6990 15215,-6984 15215,-6978 15215,-6978 15215,-6934 15215,-6934 15215,-6928 15221,-6922 15227,-6922 15227,-6922 15421,-6922 15421,-6922 15427,-6922 15433,-6928 15433,-6934 15433,-6934 15433,-6978 15433,-6978 15433,-6984 15427,-6990 15421,-6990\"/>\n<text text-anchor=\"start\" x=\"15223\" y=\"-6974.8\" font-family=\"Helvetica,sans-Serif\" font-size=\"14.00\" fill=\"#000000\">lastReportedSpeedMPH ≤ 18.5</text>\n<text text-anchor=\"start\" x=\"15256\" y=\"-6959.8\" font-family=\"Helvetica,sans-Serif\" font-size=\"14.00\" fill=\"#000000\">squared_error = 0.24</text>\n<text text-anchor=\"start\" x=\"15280\" y=\"-6944.8\" font-family=\"Helvetica,sans-Serif\" font-size=\"14.00\" fill=\"#000000\">samples = 48</text>\n<text text-anchor=\"start\" x=\"15284\" y=\"-6929.8\" font-family=\"Helvetica,sans-Serif\" font-size=\"14.00\" fill=\"#000000\">value = 18.6</text>\n</g>\n<!-- 184&#45;&gt;188 -->\n<g id=\"edge188\" class=\"edge\">\n<title>184&#45;&gt;188</title>\n<path fill=\"none\" stroke=\"#000000\" d=\"M15197.0281,-8033.8074C15216.1087,-7871.8403 15297.3653,-7182.0904 15318.7992,-7000.1472\"/>\n<polygon fill=\"#000000\" stroke=\"#000000\" points=\"15322.2849,-7000.4737 15319.979,-6990.1328 15315.3329,-6999.6546 15322.2849,-7000.4737\"/>\n</g>\n<!-- 186 -->\n<g id=\"node187\" class=\"node\">\n<title>186</title>\n<path fill=\"#efb184\" stroke=\"#000000\" d=\"M15012,-309.5C15012,-309.5 14892,-309.5 14892,-309.5 14886,-309.5 14880,-303.5 14880,-297.5 14880,-297.5 14880,-268.5 14880,-268.5 14880,-262.5 14886,-256.5 14892,-256.5 14892,-256.5 15012,-256.5 15012,-256.5 15018,-256.5 15024,-262.5 15024,-268.5 15024,-268.5 15024,-297.5 15024,-297.5 15024,-303.5 15018,-309.5 15012,-309.5\"/>\n<text text-anchor=\"start\" x=\"14888\" y=\"-294.3\" font-family=\"Helvetica,sans-Serif\" font-size=\"14.00\" fill=\"#000000\">squared_error = 0.0</text>\n<text text-anchor=\"start\" x=\"14908\" y=\"-279.3\" font-family=\"Helvetica,sans-Serif\" font-size=\"14.00\" fill=\"#000000\">samples = 34</text>\n<text text-anchor=\"start\" x=\"14912\" y=\"-264.3\" font-family=\"Helvetica,sans-Serif\" font-size=\"14.00\" fill=\"#000000\">value = 16.0</text>\n</g>\n<!-- 185&#45;&gt;186 -->\n<g id=\"edge186\" class=\"edge\">\n<title>185&#45;&gt;186</title>\n<path fill=\"none\" stroke=\"#000000\" d=\"M15059.3315,-6921.9562C15045.6179,-6642.1492 14952,-4732 14952,-4732 14952,-4732 14952,-4732 14952,-2507 14952,-2507 14952,-609.559 14952,-319.8949\"/>\n<polygon fill=\"#000000\" stroke=\"#000000\" points=\"14955.5001,-319.5259 14952,-309.5259 14948.5001,-319.5259 14955.5001,-319.5259\"/>\n</g>\n<!-- 187 -->\n<g id=\"node188\" class=\"node\">\n<title>187</title>\n<path fill=\"#efb083\" stroke=\"#000000\" d=\"M15174,-309.5C15174,-309.5 15054,-309.5 15054,-309.5 15048,-309.5 15042,-303.5 15042,-297.5 15042,-297.5 15042,-268.5 15042,-268.5 15042,-262.5 15048,-256.5 15054,-256.5 15054,-256.5 15174,-256.5 15174,-256.5 15180,-256.5 15186,-262.5 15186,-268.5 15186,-268.5 15186,-297.5 15186,-297.5 15186,-303.5 15180,-309.5 15174,-309.5\"/>\n<text text-anchor=\"start\" x=\"15050\" y=\"-294.3\" font-family=\"Helvetica,sans-Serif\" font-size=\"14.00\" fill=\"#000000\">squared_error = 0.0</text>\n<text text-anchor=\"start\" x=\"15070\" y=\"-279.3\" font-family=\"Helvetica,sans-Serif\" font-size=\"14.00\" fill=\"#000000\">samples = 20</text>\n<text text-anchor=\"start\" x=\"15074\" y=\"-264.3\" font-family=\"Helvetica,sans-Serif\" font-size=\"14.00\" fill=\"#000000\">value = 17.0</text>\n</g>\n<!-- 185&#45;&gt;187 -->\n<g id=\"edge187\" class=\"edge\">\n<title>185&#45;&gt;187</title>\n<path fill=\"none\" stroke=\"#000000\" d=\"M15061.8113,-6921.9562C15068.4794,-6642.1492 15114,-4732 15114,-4732 15114,-4732 15114,-4732 15114,-2507 15114,-2507 15114,-609.559 15114,-319.8949\"/>\n<polygon fill=\"#000000\" stroke=\"#000000\" points=\"15117.5001,-319.5259 15114,-309.5259 15110.5001,-319.5259 15117.5001,-319.5259\"/>\n</g>\n<!-- 189 -->\n<g id=\"node190\" class=\"node\">\n<title>189</title>\n<path fill=\"#efaf82\" stroke=\"#000000\" d=\"M15336,-309.5C15336,-309.5 15216,-309.5 15216,-309.5 15210,-309.5 15204,-303.5 15204,-297.5 15204,-297.5 15204,-268.5 15204,-268.5 15204,-262.5 15210,-256.5 15216,-256.5 15216,-256.5 15336,-256.5 15336,-256.5 15342,-256.5 15348,-262.5 15348,-268.5 15348,-268.5 15348,-297.5 15348,-297.5 15348,-303.5 15342,-309.5 15336,-309.5\"/>\n<text text-anchor=\"start\" x=\"15212\" y=\"-294.3\" font-family=\"Helvetica,sans-Serif\" font-size=\"14.00\" fill=\"#000000\">squared_error = 0.0</text>\n<text text-anchor=\"start\" x=\"15232\" y=\"-279.3\" font-family=\"Helvetica,sans-Serif\" font-size=\"14.00\" fill=\"#000000\">samples = 19</text>\n<text text-anchor=\"start\" x=\"15236\" y=\"-264.3\" font-family=\"Helvetica,sans-Serif\" font-size=\"14.00\" fill=\"#000000\">value = 18.0</text>\n</g>\n<!-- 188&#45;&gt;189 -->\n<g id=\"edge189\" class=\"edge\">\n<title>188&#45;&gt;189</title>\n<path fill=\"none\" stroke=\"#000000\" d=\"M15323.2652,-6921.9562C15317.2262,-6642.1492 15276,-4732 15276,-4732 15276,-4732 15276,-4732 15276,-2507 15276,-2507 15276,-609.559 15276,-319.8949\"/>\n<polygon fill=\"#000000\" stroke=\"#000000\" points=\"15279.5001,-319.5259 15276,-309.5259 15272.5001,-319.5259 15279.5001,-319.5259\"/>\n</g>\n<!-- 190 -->\n<g id=\"node191\" class=\"node\">\n<title>190</title>\n<path fill=\"#eeae80\" stroke=\"#000000\" d=\"M15498,-309.5C15498,-309.5 15378,-309.5 15378,-309.5 15372,-309.5 15366,-303.5 15366,-297.5 15366,-297.5 15366,-268.5 15366,-268.5 15366,-262.5 15372,-256.5 15378,-256.5 15378,-256.5 15498,-256.5 15498,-256.5 15504,-256.5 15510,-262.5 15510,-268.5 15510,-268.5 15510,-297.5 15510,-297.5 15510,-303.5 15504,-309.5 15498,-309.5\"/>\n<text text-anchor=\"start\" x=\"15374\" y=\"-294.3\" font-family=\"Helvetica,sans-Serif\" font-size=\"14.00\" fill=\"#000000\">squared_error = 0.0</text>\n<text text-anchor=\"start\" x=\"15394\" y=\"-279.3\" font-family=\"Helvetica,sans-Serif\" font-size=\"14.00\" fill=\"#000000\">samples = 29</text>\n<text text-anchor=\"start\" x=\"15398\" y=\"-264.3\" font-family=\"Helvetica,sans-Serif\" font-size=\"14.00\" fill=\"#000000\">value = 19.0</text>\n</g>\n<!-- 188&#45;&gt;190 -->\n<g id=\"edge190\" class=\"edge\">\n<title>188&#45;&gt;190</title>\n<path fill=\"none\" stroke=\"#000000\" d=\"M15325.745,-6921.9562C15340.0877,-6642.1492 15438,-4732 15438,-4732 15438,-4732 15438,-4732 15438,-2507 15438,-2507 15438,-609.559 15438,-319.8949\"/>\n<polygon fill=\"#000000\" stroke=\"#000000\" points=\"15441.5001,-319.5259 15438,-309.5259 15434.5001,-319.5259 15441.5001,-319.5259\"/>\n</g>\n<!-- 192 -->\n<g id=\"node193\" class=\"node\">\n<title>192</title>\n<path fill=\"#eead7e\" stroke=\"#000000\" d=\"M15741.5,-6990C15741.5,-6990 15494.5,-6990 15494.5,-6990 15488.5,-6990 15482.5,-6984 15482.5,-6978 15482.5,-6978 15482.5,-6934 15482.5,-6934 15482.5,-6928 15488.5,-6922 15494.5,-6922 15494.5,-6922 15741.5,-6922 15741.5,-6922 15747.5,-6922 15753.5,-6928 15753.5,-6934 15753.5,-6934 15753.5,-6978 15753.5,-6978 15753.5,-6984 15747.5,-6990 15741.5,-6990\"/>\n<text text-anchor=\"start\" x=\"15490.5\" y=\"-6974.8\" font-family=\"Helvetica,sans-Serif\" font-size=\"14.00\" fill=\"#000000\">lastReportedPosition.speedMPH ≤ 20.5</text>\n<text text-anchor=\"start\" x=\"15550\" y=\"-6959.8\" font-family=\"Helvetica,sans-Serif\" font-size=\"14.00\" fill=\"#000000\">squared_error = 0.25</text>\n<text text-anchor=\"start\" x=\"15574\" y=\"-6944.8\" font-family=\"Helvetica,sans-Serif\" font-size=\"14.00\" fill=\"#000000\">samples = 66</text>\n<text text-anchor=\"start\" x=\"15574\" y=\"-6929.8\" font-family=\"Helvetica,sans-Serif\" font-size=\"14.00\" fill=\"#000000\">value = 20.48</text>\n</g>\n<!-- 191&#45;&gt;192 -->\n<g id=\"edge192\" class=\"edge\">\n<title>191&#45;&gt;192</title>\n<path fill=\"none\" stroke=\"#000000\" d=\"M15618,-8033.8074C15618,-7871.8403 15618,-7182.0904 15618,-7000.1472\"/>\n<polygon fill=\"#000000\" stroke=\"#000000\" points=\"15621.5001,-7000.1328 15618,-6990.1328 15614.5001,-7000.1329 15621.5001,-7000.1328\"/>\n</g>\n<!-- 195 -->\n<g id=\"node196\" class=\"node\">\n<title>195</title>\n<path fill=\"#eeab7b\" stroke=\"#000000\" d=\"M16047.5,-6990C16047.5,-6990 15800.5,-6990 15800.5,-6990 15794.5,-6990 15788.5,-6984 15788.5,-6978 15788.5,-6978 15788.5,-6934 15788.5,-6934 15788.5,-6928 15794.5,-6922 15800.5,-6922 15800.5,-6922 16047.5,-6922 16047.5,-6922 16053.5,-6922 16059.5,-6928 16059.5,-6934 16059.5,-6934 16059.5,-6978 16059.5,-6978 16059.5,-6984 16053.5,-6990 16047.5,-6990\"/>\n<text text-anchor=\"start\" x=\"15796.5\" y=\"-6974.8\" font-family=\"Helvetica,sans-Serif\" font-size=\"14.00\" fill=\"#000000\">lastReportedPosition.speedMPH ≤ 22.5</text>\n<text text-anchor=\"start\" x=\"15856\" y=\"-6959.8\" font-family=\"Helvetica,sans-Serif\" font-size=\"14.00\" fill=\"#000000\">squared_error = 0.25</text>\n<text text-anchor=\"start\" x=\"15880\" y=\"-6944.8\" font-family=\"Helvetica,sans-Serif\" font-size=\"14.00\" fill=\"#000000\">samples = 61</text>\n<text text-anchor=\"start\" x=\"15880\" y=\"-6929.8\" font-family=\"Helvetica,sans-Serif\" font-size=\"14.00\" fill=\"#000000\">value = 22.48</text>\n</g>\n<!-- 191&#45;&gt;195 -->\n<g id=\"edge195\" class=\"edge\">\n<title>191&#45;&gt;195</title>\n<path fill=\"none\" stroke=\"#000000\" d=\"M15627.4091,-8033.8074C15672.0014,-7871.7597 15861.9735,-7181.4036 15911.9263,-6999.8758\"/>\n<polygon fill=\"#000000\" stroke=\"#000000\" points=\"15915.3286,-7000.7031 15914.6073,-6990.1328 15908.5795,-6998.8458 15915.3286,-7000.7031\"/>\n</g>\n<!-- 193 -->\n<g id=\"node194\" class=\"node\">\n<title>193</title>\n<path fill=\"#eead7f\" stroke=\"#000000\" d=\"M15660,-309.5C15660,-309.5 15540,-309.5 15540,-309.5 15534,-309.5 15528,-303.5 15528,-297.5 15528,-297.5 15528,-268.5 15528,-268.5 15528,-262.5 15534,-256.5 15540,-256.5 15540,-256.5 15660,-256.5 15660,-256.5 15666,-256.5 15672,-262.5 15672,-268.5 15672,-268.5 15672,-297.5 15672,-297.5 15672,-303.5 15666,-309.5 15660,-309.5\"/>\n<text text-anchor=\"start\" x=\"15536\" y=\"-294.3\" font-family=\"Helvetica,sans-Serif\" font-size=\"14.00\" fill=\"#000000\">squared_error = 0.0</text>\n<text text-anchor=\"start\" x=\"15556\" y=\"-279.3\" font-family=\"Helvetica,sans-Serif\" font-size=\"14.00\" fill=\"#000000\">samples = 34</text>\n<text text-anchor=\"start\" x=\"15560\" y=\"-264.3\" font-family=\"Helvetica,sans-Serif\" font-size=\"14.00\" fill=\"#000000\">value = 20.0</text>\n</g>\n<!-- 192&#45;&gt;193 -->\n<g id=\"edge193\" class=\"edge\">\n<title>192&#45;&gt;193</title>\n<path fill=\"none\" stroke=\"#000000\" d=\"M15617.7245,-6921.9562C15615.4598,-6642.1492 15600,-4732 15600,-4732 15600,-4732 15600,-4732 15600,-2507 15600,-2507 15600,-609.559 15600,-319.8949\"/>\n<polygon fill=\"#000000\" stroke=\"#000000\" points=\"15603.5001,-319.5259 15600,-309.5259 15596.5001,-319.5259 15603.5001,-319.5259\"/>\n</g>\n<!-- 194 -->\n<g id=\"node195\" class=\"node\">\n<title>194</title>\n<path fill=\"#eead7d\" stroke=\"#000000\" d=\"M15822,-309.5C15822,-309.5 15702,-309.5 15702,-309.5 15696,-309.5 15690,-303.5 15690,-297.5 15690,-297.5 15690,-268.5 15690,-268.5 15690,-262.5 15696,-256.5 15702,-256.5 15702,-256.5 15822,-256.5 15822,-256.5 15828,-256.5 15834,-262.5 15834,-268.5 15834,-268.5 15834,-297.5 15834,-297.5 15834,-303.5 15828,-309.5 15822,-309.5\"/>\n<text text-anchor=\"start\" x=\"15698\" y=\"-294.3\" font-family=\"Helvetica,sans-Serif\" font-size=\"14.00\" fill=\"#000000\">squared_error = 0.0</text>\n<text text-anchor=\"start\" x=\"15718\" y=\"-279.3\" font-family=\"Helvetica,sans-Serif\" font-size=\"14.00\" fill=\"#000000\">samples = 32</text>\n<text text-anchor=\"start\" x=\"15722\" y=\"-264.3\" font-family=\"Helvetica,sans-Serif\" font-size=\"14.00\" fill=\"#000000\">value = 21.0</text>\n</g>\n<!-- 192&#45;&gt;194 -->\n<g id=\"edge194\" class=\"edge\">\n<title>192&#45;&gt;194</title>\n<path fill=\"none\" stroke=\"#000000\" d=\"M15620.2043,-6921.9562C15638.3213,-6642.1492 15762,-4732 15762,-4732 15762,-4732 15762,-4732 15762,-2507 15762,-2507 15762,-609.559 15762,-319.8949\"/>\n<polygon fill=\"#000000\" stroke=\"#000000\" points=\"15765.5001,-319.5259 15762,-309.5259 15758.5001,-319.5259 15765.5001,-319.5259\"/>\n</g>\n<!-- 196 -->\n<g id=\"node197\" class=\"node\">\n<title>196</title>\n<path fill=\"#eeac7c\" stroke=\"#000000\" d=\"M15984,-309.5C15984,-309.5 15864,-309.5 15864,-309.5 15858,-309.5 15852,-303.5 15852,-297.5 15852,-297.5 15852,-268.5 15852,-268.5 15852,-262.5 15858,-256.5 15864,-256.5 15864,-256.5 15984,-256.5 15984,-256.5 15990,-256.5 15996,-262.5 15996,-268.5 15996,-268.5 15996,-297.5 15996,-297.5 15996,-303.5 15990,-309.5 15984,-309.5\"/>\n<text text-anchor=\"start\" x=\"15860\" y=\"-294.3\" font-family=\"Helvetica,sans-Serif\" font-size=\"14.00\" fill=\"#000000\">squared_error = 0.0</text>\n<text text-anchor=\"start\" x=\"15880\" y=\"-279.3\" font-family=\"Helvetica,sans-Serif\" font-size=\"14.00\" fill=\"#000000\">samples = 32</text>\n<text text-anchor=\"start\" x=\"15884\" y=\"-264.3\" font-family=\"Helvetica,sans-Serif\" font-size=\"14.00\" fill=\"#000000\">value = 22.0</text>\n</g>\n<!-- 195&#45;&gt;196 -->\n<g id=\"edge196\" class=\"edge\">\n<title>195&#45;&gt;196</title>\n<path fill=\"none\" stroke=\"#000000\" d=\"M15924,-6921.9562C15924,-6642.1492 15924,-4732 15924,-4732 15924,-4732 15924,-4732 15924,-2507 15924,-2507 15924,-609.559 15924,-319.8949\"/>\n<polygon fill=\"#000000\" stroke=\"#000000\" points=\"15927.5001,-319.5259 15924,-309.5259 15920.5001,-319.5259 15927.5001,-319.5259\"/>\n</g>\n<!-- 197 -->\n<g id=\"node198\" class=\"node\">\n<title>197</title>\n<path fill=\"#eeab7b\" stroke=\"#000000\" d=\"M16146,-309.5C16146,-309.5 16026,-309.5 16026,-309.5 16020,-309.5 16014,-303.5 16014,-297.5 16014,-297.5 16014,-268.5 16014,-268.5 16014,-262.5 16020,-256.5 16026,-256.5 16026,-256.5 16146,-256.5 16146,-256.5 16152,-256.5 16158,-262.5 16158,-268.5 16158,-268.5 16158,-297.5 16158,-297.5 16158,-303.5 16152,-309.5 16146,-309.5\"/>\n<text text-anchor=\"start\" x=\"16022\" y=\"-294.3\" font-family=\"Helvetica,sans-Serif\" font-size=\"14.00\" fill=\"#000000\">squared_error = 0.0</text>\n<text text-anchor=\"start\" x=\"16042\" y=\"-279.3\" font-family=\"Helvetica,sans-Serif\" font-size=\"14.00\" fill=\"#000000\">samples = 29</text>\n<text text-anchor=\"start\" x=\"16046\" y=\"-264.3\" font-family=\"Helvetica,sans-Serif\" font-size=\"14.00\" fill=\"#000000\">value = 23.0</text>\n</g>\n<!-- 195&#45;&gt;197 -->\n<g id=\"edge197\" class=\"edge\">\n<title>195&#45;&gt;197</title>\n<path fill=\"none\" stroke=\"#000000\" d=\"M15926.4798,-6921.9562C15946.8614,-6642.1492 16086,-4732 16086,-4732 16086,-4732 16086,-4732 16086,-2507 16086,-2507 16086,-609.559 16086,-319.8949\"/>\n<polygon fill=\"#000000\" stroke=\"#000000\" points=\"16089.5001,-319.5259 16086,-309.5259 16082.5001,-319.5259 16089.5001,-319.5259\"/>\n</g>\n<!-- 199 -->\n<g id=\"node200\" class=\"node\">\n<title>199</title>\n<path fill=\"#eba069\" stroke=\"#000000\" d=\"M18171.5,-10326C18171.5,-10326 17924.5,-10326 17924.5,-10326 17918.5,-10326 17912.5,-10320 17912.5,-10314 17912.5,-10314 17912.5,-10270 17912.5,-10270 17912.5,-10264 17918.5,-10258 17924.5,-10258 17924.5,-10258 18171.5,-10258 18171.5,-10258 18177.5,-10258 18183.5,-10264 18183.5,-10270 18183.5,-10270 18183.5,-10314 18183.5,-10314 18183.5,-10320 18177.5,-10326 18171.5,-10326\"/>\n<text text-anchor=\"start\" x=\"17920.5\" y=\"-10310.8\" font-family=\"Helvetica,sans-Serif\" font-size=\"14.00\" fill=\"#000000\">lastReportedPosition.speedMPH ≤ 34.5</text>\n<text text-anchor=\"start\" x=\"17980\" y=\"-10295.8\" font-family=\"Helvetica,sans-Serif\" font-size=\"14.00\" fill=\"#000000\">squared_error = 27.2</text>\n<text text-anchor=\"start\" x=\"17996\" y=\"-10280.8\" font-family=\"Helvetica,sans-Serif\" font-size=\"14.00\" fill=\"#000000\">samples = 1538</text>\n<text text-anchor=\"start\" x=\"18004\" y=\"-10265.8\" font-family=\"Helvetica,sans-Serif\" font-size=\"14.00\" fill=\"#000000\">value = 35.44</text>\n</g>\n<!-- 198&#45;&gt;199 -->\n<g id=\"edge199\" class=\"edge\">\n<title>198&#45;&gt;199</title>\n<path fill=\"none\" stroke=\"#000000\" d=\"M18048,-11369.8074C18048,-11207.8403 18048,-10518.0904 18048,-10336.1472\"/>\n<polygon fill=\"#000000\" stroke=\"#000000\" points=\"18051.5001,-10336.1328 18048,-10326.1328 18044.5001,-10336.1329 18051.5001,-10336.1328\"/>\n</g>\n<!-- 238 -->\n<g id=\"node239\" class=\"node\">\n<title>238</title>\n<path fill=\"#e89152\" stroke=\"#000000\" d=\"M20314,-10326C20314,-10326 20120,-10326 20120,-10326 20114,-10326 20108,-10320 20108,-10314 20108,-10314 20108,-10270 20108,-10270 20108,-10264 20114,-10258 20120,-10258 20120,-10258 20314,-10258 20314,-10258 20320,-10258 20326,-10264 20326,-10270 20326,-10270 20326,-10314 20326,-10314 20326,-10320 20320,-10326 20314,-10326\"/>\n<text text-anchor=\"start\" x=\"20116\" y=\"-10310.8\" font-family=\"Helvetica,sans-Serif\" font-size=\"14.00\" fill=\"#000000\">lastReportedSpeedMPH ≤ 54.5</text>\n<text text-anchor=\"start\" x=\"20144.5\" y=\"-10295.8\" font-family=\"Helvetica,sans-Serif\" font-size=\"14.00\" fill=\"#000000\">squared_error = 38.68</text>\n<text text-anchor=\"start\" x=\"20165\" y=\"-10280.8\" font-family=\"Helvetica,sans-Serif\" font-size=\"14.00\" fill=\"#000000\">samples = 1376</text>\n<text text-anchor=\"start\" x=\"20173\" y=\"-10265.8\" font-family=\"Helvetica,sans-Serif\" font-size=\"14.00\" fill=\"#000000\">value = 51.72</text>\n</g>\n<!-- 198&#45;&gt;238 -->\n<g id=\"edge238\" class=\"edge\">\n<title>198&#45;&gt;238</title>\n<path fill=\"none\" stroke=\"#000000\" d=\"M18114.3958,-11369.9603C18432.9838,-11206.627 19803.4361,-10504.0254 20141.4326,-10330.7418\"/>\n<polygon fill=\"#000000\" stroke=\"#000000\" points=\"20143.3525,-10333.6907 20150.6545,-10326.0139 20140.159,-10327.4616 20143.3525,-10333.6907\"/>\n</g>\n<!-- 200 -->\n<g id=\"node201\" class=\"node\">\n<title>200</title>\n<path fill=\"#eca571\" stroke=\"#000000\" d=\"M17711.5,-9214C17711.5,-9214 17464.5,-9214 17464.5,-9214 17458.5,-9214 17452.5,-9208 17452.5,-9202 17452.5,-9202 17452.5,-9158 17452.5,-9158 17452.5,-9152 17458.5,-9146 17464.5,-9146 17464.5,-9146 17711.5,-9146 17711.5,-9146 17717.5,-9146 17723.5,-9152 17723.5,-9158 17723.5,-9158 17723.5,-9202 17723.5,-9202 17723.5,-9208 17717.5,-9214 17711.5,-9214\"/>\n<text text-anchor=\"start\" x=\"17460.5\" y=\"-9198.8\" font-family=\"Helvetica,sans-Serif\" font-size=\"14.00\" fill=\"#000000\">lastReportedPosition.speedMPH ≤ 29.5</text>\n<text text-anchor=\"start\" x=\"17520\" y=\"-9183.8\" font-family=\"Helvetica,sans-Serif\" font-size=\"14.00\" fill=\"#000000\">squared_error = 9.89</text>\n<text text-anchor=\"start\" x=\"17540\" y=\"-9168.8\" font-family=\"Helvetica,sans-Serif\" font-size=\"14.00\" fill=\"#000000\">samples = 586</text>\n<text text-anchor=\"start\" x=\"17544\" y=\"-9153.8\" font-family=\"Helvetica,sans-Serif\" font-size=\"14.00\" fill=\"#000000\">value = 29.79</text>\n</g>\n<!-- 199&#45;&gt;200 -->\n<g id=\"edge200\" class=\"edge\">\n<title>199&#45;&gt;200</title>\n<path fill=\"none\" stroke=\"#000000\" d=\"M18033.8556,-10257.8074C17966.7881,-10095.6791 17680.9583,-9404.7165 17606.0382,-9223.6053\"/>\n<polygon fill=\"#000000\" stroke=\"#000000\" points=\"17609.1765,-9222.0355 17602.1197,-9214.1328 17602.7081,-9224.7113 17609.1765,-9222.0355\"/>\n</g>\n<!-- 221 -->\n<g id=\"node222\" class=\"node\">\n<title>221</title>\n<path fill=\"#eb9c64\" stroke=\"#000000\" d=\"M18531,-9214C18531,-9214 18337,-9214 18337,-9214 18331,-9214 18325,-9208 18325,-9202 18325,-9202 18325,-9158 18325,-9158 18325,-9152 18331,-9146 18337,-9146 18337,-9146 18531,-9146 18531,-9146 18537,-9146 18543,-9152 18543,-9158 18543,-9158 18543,-9202 18543,-9202 18543,-9208 18537,-9214 18531,-9214\"/>\n<text text-anchor=\"start\" x=\"18333\" y=\"-9198.8\" font-family=\"Helvetica,sans-Serif\" font-size=\"14.00\" fill=\"#000000\">lastReportedSpeedMPH ≤ 39.5</text>\n<text text-anchor=\"start\" x=\"18366\" y=\"-9183.8\" font-family=\"Helvetica,sans-Serif\" font-size=\"14.00\" fill=\"#000000\">squared_error = 6.09</text>\n<text text-anchor=\"start\" x=\"18386\" y=\"-9168.8\" font-family=\"Helvetica,sans-Serif\" font-size=\"14.00\" fill=\"#000000\">samples = 952</text>\n<text text-anchor=\"start\" x=\"18390\" y=\"-9153.8\" font-family=\"Helvetica,sans-Serif\" font-size=\"14.00\" fill=\"#000000\">value = 38.92</text>\n</g>\n<!-- 199&#45;&gt;221 -->\n<g id=\"edge221\" class=\"edge\">\n<title>199&#45;&gt;221</title>\n<path fill=\"none\" stroke=\"#000000\" d=\"M18059.869,-10257.8074C18116.1474,-10095.6791 18355.9959,-9404.7165 18418.8636,-9223.6053\"/>\n<polygon fill=\"#000000\" stroke=\"#000000\" points=\"18422.1789,-9224.7276 18422.1517,-9214.1328 18415.5659,-9222.4321 18422.1789,-9224.7276\"/>\n</g>\n<!-- 201 -->\n<g id=\"node202\" class=\"node\">\n<title>201</title>\n<path fill=\"#eda775\" stroke=\"#000000\" d=\"M17099.5,-8102C17099.5,-8102 16852.5,-8102 16852.5,-8102 16846.5,-8102 16840.5,-8096 16840.5,-8090 16840.5,-8090 16840.5,-8046 16840.5,-8046 16840.5,-8040 16846.5,-8034 16852.5,-8034 16852.5,-8034 17099.5,-8034 17099.5,-8034 17105.5,-8034 17111.5,-8040 17111.5,-8046 17111.5,-8046 17111.5,-8090 17111.5,-8090 17111.5,-8096 17105.5,-8102 17099.5,-8102\"/>\n<text text-anchor=\"start\" x=\"16848.5\" y=\"-8086.8\" font-family=\"Helvetica,sans-Serif\" font-size=\"14.00\" fill=\"#000000\">lastReportedPosition.speedMPH ≤ 26.5</text>\n<text text-anchor=\"start\" x=\"16908\" y=\"-8071.8\" font-family=\"Helvetica,sans-Serif\" font-size=\"14.00\" fill=\"#000000\">squared_error = 3.25</text>\n<text text-anchor=\"start\" x=\"16928\" y=\"-8056.8\" font-family=\"Helvetica,sans-Serif\" font-size=\"14.00\" fill=\"#000000\">samples = 253</text>\n<text text-anchor=\"start\" x=\"16932\" y=\"-8041.8\" font-family=\"Helvetica,sans-Serif\" font-size=\"14.00\" fill=\"#000000\">value = 26.69</text>\n</g>\n<!-- 200&#45;&gt;201 -->\n<g id=\"edge201\" class=\"edge\">\n<title>200&#45;&gt;201</title>\n<path fill=\"none\" stroke=\"#000000\" d=\"M17569.1818,-9145.8074C17479.8641,-8983.5178 17098.9182,-8291.3416 16999.702,-8111.0664\"/>\n<polygon fill=\"#000000\" stroke=\"#000000\" points=\"17002.6733,-8109.2061 16994.7853,-8102.1328 16996.5407,-8112.5813 17002.6733,-8109.2061\"/>\n</g>\n<!-- 212 -->\n<g id=\"node213\" class=\"node\">\n<title>212</title>\n<path fill=\"#eca36e\" stroke=\"#000000\" d=\"M17711.5,-8102C17711.5,-8102 17464.5,-8102 17464.5,-8102 17458.5,-8102 17452.5,-8096 17452.5,-8090 17452.5,-8090 17452.5,-8046 17452.5,-8046 17452.5,-8040 17458.5,-8034 17464.5,-8034 17464.5,-8034 17711.5,-8034 17711.5,-8034 17717.5,-8034 17723.5,-8040 17723.5,-8046 17723.5,-8046 17723.5,-8090 17723.5,-8090 17723.5,-8096 17717.5,-8102 17711.5,-8102\"/>\n<text text-anchor=\"start\" x=\"17460.5\" y=\"-8086.8\" font-family=\"Helvetica,sans-Serif\" font-size=\"14.00\" fill=\"#000000\">lastReportedPosition.speedMPH ≤ 32.5</text>\n<text text-anchor=\"start\" x=\"17520\" y=\"-8071.8\" font-family=\"Helvetica,sans-Serif\" font-size=\"14.00\" fill=\"#000000\">squared_error = 2.09</text>\n<text text-anchor=\"start\" x=\"17540\" y=\"-8056.8\" font-family=\"Helvetica,sans-Serif\" font-size=\"14.00\" fill=\"#000000\">samples = 333</text>\n<text text-anchor=\"start\" x=\"17544\" y=\"-8041.8\" font-family=\"Helvetica,sans-Serif\" font-size=\"14.00\" fill=\"#000000\">value = 32.15</text>\n</g>\n<!-- 200&#45;&gt;212 -->\n<g id=\"edge212\" class=\"edge\">\n<title>200&#45;&gt;212</title>\n<path fill=\"none\" stroke=\"#000000\" d=\"M17588,-9145.8074C17588,-8983.8403 17588,-8294.0904 17588,-8112.1472\"/>\n<polygon fill=\"#000000\" stroke=\"#000000\" points=\"17591.5001,-8112.1328 17588,-8102.1328 17584.5001,-8112.1329 17591.5001,-8112.1328\"/>\n</g>\n<!-- 202 -->\n<g id=\"node203\" class=\"node\">\n<title>202</title>\n<path fill=\"#eda978\" stroke=\"#000000\" d=\"M16588,-6990C16588,-6990 16394,-6990 16394,-6990 16388,-6990 16382,-6984 16382,-6978 16382,-6978 16382,-6934 16382,-6934 16382,-6928 16388,-6922 16394,-6922 16394,-6922 16588,-6922 16588,-6922 16594,-6922 16600,-6928 16600,-6934 16600,-6934 16600,-6978 16600,-6978 16600,-6984 16594,-6990 16588,-6990\"/>\n<text text-anchor=\"start\" x=\"16390\" y=\"-6974.8\" font-family=\"Helvetica,sans-Serif\" font-size=\"14.00\" fill=\"#000000\">lastReportedSpeedMPH ≤ 24.5</text>\n<text text-anchor=\"start\" x=\"16423\" y=\"-6959.8\" font-family=\"Helvetica,sans-Serif\" font-size=\"14.00\" fill=\"#000000\">squared_error = 0.65</text>\n<text text-anchor=\"start\" x=\"16443\" y=\"-6944.8\" font-family=\"Helvetica,sans-Serif\" font-size=\"14.00\" fill=\"#000000\">samples = 115</text>\n<text text-anchor=\"start\" x=\"16447\" y=\"-6929.8\" font-family=\"Helvetica,sans-Serif\" font-size=\"14.00\" fill=\"#000000\">value = 24.94</text>\n</g>\n<!-- 201&#45;&gt;202 -->\n<g id=\"edge202\" class=\"edge\">\n<title>201&#45;&gt;202</title>\n<path fill=\"none\" stroke=\"#000000\" d=\"M16961.0869,-8033.8074C16890.3393,-7871.5985 16588.7106,-7180.0292 16509.9008,-6999.3355\"/>\n<polygon fill=\"#000000\" stroke=\"#000000\" points=\"16513.0931,-6997.8997 16505.8871,-6990.1328 16506.6768,-7000.6982 16513.0931,-6997.8997\"/>\n</g>\n<!-- 207 -->\n<g id=\"node208\" class=\"node\">\n<title>207</title>\n<path fill=\"#eda673\" stroke=\"#000000\" d=\"M17073,-6990C17073,-6990 16879,-6990 16879,-6990 16873,-6990 16867,-6984 16867,-6978 16867,-6978 16867,-6934 16867,-6934 16867,-6928 16873,-6922 16879,-6922 16879,-6922 17073,-6922 17073,-6922 17079,-6922 17085,-6928 17085,-6934 17085,-6934 17085,-6978 17085,-6978 17085,-6984 17079,-6990 17073,-6990\"/>\n<text text-anchor=\"start\" x=\"16875\" y=\"-6974.8\" font-family=\"Helvetica,sans-Serif\" font-size=\"14.00\" fill=\"#000000\">lastReportedSpeedMPH ≤ 28.5</text>\n<text text-anchor=\"start\" x=\"16908\" y=\"-6959.8\" font-family=\"Helvetica,sans-Serif\" font-size=\"14.00\" fill=\"#000000\">squared_error = 0.72</text>\n<text text-anchor=\"start\" x=\"16928\" y=\"-6944.8\" font-family=\"Helvetica,sans-Serif\" font-size=\"14.00\" fill=\"#000000\">samples = 138</text>\n<text text-anchor=\"start\" x=\"16932\" y=\"-6929.8\" font-family=\"Helvetica,sans-Serif\" font-size=\"14.00\" fill=\"#000000\">value = 28.15</text>\n</g>\n<!-- 201&#45;&gt;207 -->\n<g id=\"edge207\" class=\"edge\">\n<title>201&#45;&gt;207</title>\n<path fill=\"none\" stroke=\"#000000\" d=\"M16976,-8033.8074C16976,-7871.8403 16976,-7182.0904 16976,-7000.1472\"/>\n<polygon fill=\"#000000\" stroke=\"#000000\" points=\"16979.5001,-7000.1328 16976,-6990.1328 16972.5001,-7000.1329 16979.5001,-7000.1328\"/>\n</g>\n<!-- 203 -->\n<g id=\"node204\" class=\"node\">\n<title>203</title>\n<path fill=\"#edaa79\" stroke=\"#000000\" d=\"M16308,-309.5C16308,-309.5 16188,-309.5 16188,-309.5 16182,-309.5 16176,-303.5 16176,-297.5 16176,-297.5 16176,-268.5 16176,-268.5 16176,-262.5 16182,-256.5 16188,-256.5 16188,-256.5 16308,-256.5 16308,-256.5 16314,-256.5 16320,-262.5 16320,-268.5 16320,-268.5 16320,-297.5 16320,-297.5 16320,-303.5 16314,-309.5 16308,-309.5\"/>\n<text text-anchor=\"start\" x=\"16184\" y=\"-294.3\" font-family=\"Helvetica,sans-Serif\" font-size=\"14.00\" fill=\"#000000\">squared_error = 0.0</text>\n<text text-anchor=\"start\" x=\"16204\" y=\"-279.3\" font-family=\"Helvetica,sans-Serif\" font-size=\"14.00\" fill=\"#000000\">samples = 41</text>\n<text text-anchor=\"start\" x=\"16208\" y=\"-264.3\" font-family=\"Helvetica,sans-Serif\" font-size=\"14.00\" fill=\"#000000\">value = 24.0</text>\n</g>\n<!-- 202&#45;&gt;203 -->\n<g id=\"edge203\" class=\"edge\">\n<title>202&#45;&gt;203</title>\n<path fill=\"none\" stroke=\"#000000\" d=\"M16487.2736,-6921.9572C16467.2159,-6738.7183 16373,-5878 16373,-5878 16373,-5878 16248,-4732 16248,-4732 16248,-4732 16248,-4732 16248,-2507 16248,-2507 16248,-609.559 16248,-319.8949\"/>\n<polygon fill=\"#000000\" stroke=\"#000000\" points=\"16251.5001,-319.5259 16248,-309.5259 16244.5001,-319.5259 16251.5001,-319.5259\"/>\n</g>\n<!-- 204 -->\n<g id=\"node205\" class=\"node\">\n<title>204</title>\n<path fill=\"#eda977\" stroke=\"#000000\" d=\"M16588,-5878C16588,-5878 16394,-5878 16394,-5878 16388,-5878 16382,-5872 16382,-5866 16382,-5866 16382,-5822 16382,-5822 16382,-5816 16388,-5810 16394,-5810 16394,-5810 16588,-5810 16588,-5810 16594,-5810 16600,-5816 16600,-5822 16600,-5822 16600,-5866 16600,-5866 16600,-5872 16594,-5878 16588,-5878\"/>\n<text text-anchor=\"start\" x=\"16390\" y=\"-5862.8\" font-family=\"Helvetica,sans-Serif\" font-size=\"14.00\" fill=\"#000000\">lastReportedSpeedMPH ≤ 25.5</text>\n<text text-anchor=\"start\" x=\"16423\" y=\"-5847.8\" font-family=\"Helvetica,sans-Serif\" font-size=\"14.00\" fill=\"#000000\">squared_error = 0.25</text>\n<text text-anchor=\"start\" x=\"16447\" y=\"-5832.8\" font-family=\"Helvetica,sans-Serif\" font-size=\"14.00\" fill=\"#000000\">samples = 74</text>\n<text text-anchor=\"start\" x=\"16447\" y=\"-5817.8\" font-family=\"Helvetica,sans-Serif\" font-size=\"14.00\" fill=\"#000000\">value = 25.46</text>\n</g>\n<!-- 202&#45;&gt;204 -->\n<g id=\"edge204\" class=\"edge\">\n<title>202&#45;&gt;204</title>\n<path fill=\"none\" stroke=\"#000000\" d=\"M16491,-6921.8074C16491,-6759.8403 16491,-6070.0904 16491,-5888.1472\"/>\n<polygon fill=\"#000000\" stroke=\"#000000\" points=\"16494.5001,-5888.1328 16491,-5878.1328 16487.5001,-5888.1329 16494.5001,-5888.1328\"/>\n</g>\n<!-- 205 -->\n<g id=\"node206\" class=\"node\">\n<title>205</title>\n<path fill=\"#eda978\" stroke=\"#000000\" d=\"M16470,-309.5C16470,-309.5 16350,-309.5 16350,-309.5 16344,-309.5 16338,-303.5 16338,-297.5 16338,-297.5 16338,-268.5 16338,-268.5 16338,-262.5 16344,-256.5 16350,-256.5 16350,-256.5 16470,-256.5 16470,-256.5 16476,-256.5 16482,-262.5 16482,-268.5 16482,-268.5 16482,-297.5 16482,-297.5 16482,-303.5 16476,-309.5 16470,-309.5\"/>\n<text text-anchor=\"start\" x=\"16346\" y=\"-294.3\" font-family=\"Helvetica,sans-Serif\" font-size=\"14.00\" fill=\"#000000\">squared_error = 0.0</text>\n<text text-anchor=\"start\" x=\"16366\" y=\"-279.3\" font-family=\"Helvetica,sans-Serif\" font-size=\"14.00\" fill=\"#000000\">samples = 40</text>\n<text text-anchor=\"start\" x=\"16370\" y=\"-264.3\" font-family=\"Helvetica,sans-Serif\" font-size=\"14.00\" fill=\"#000000\">value = 25.0</text>\n</g>\n<!-- 204&#45;&gt;205 -->\n<g id=\"edge205\" class=\"edge\">\n<title>204&#45;&gt;205</title>\n<path fill=\"none\" stroke=\"#000000\" d=\"M16489.7601,-5809.9409C16479.5693,-5530.0081 16410,-3619 16410,-3619 16410,-3619 16410,-3619 16410,-2507 16410,-2507 16410,-609.559 16410,-319.8949\"/>\n<polygon fill=\"#000000\" stroke=\"#000000\" points=\"16413.5001,-319.5259 16410,-309.5259 16406.5001,-319.5259 16413.5001,-319.5259\"/>\n</g>\n<!-- 206 -->\n<g id=\"node207\" class=\"node\">\n<title>206</title>\n<path fill=\"#eda876\" stroke=\"#000000\" d=\"M16632,-309.5C16632,-309.5 16512,-309.5 16512,-309.5 16506,-309.5 16500,-303.5 16500,-297.5 16500,-297.5 16500,-268.5 16500,-268.5 16500,-262.5 16506,-256.5 16512,-256.5 16512,-256.5 16632,-256.5 16632,-256.5 16638,-256.5 16644,-262.5 16644,-268.5 16644,-268.5 16644,-297.5 16644,-297.5 16644,-303.5 16638,-309.5 16632,-309.5\"/>\n<text text-anchor=\"start\" x=\"16508\" y=\"-294.3\" font-family=\"Helvetica,sans-Serif\" font-size=\"14.00\" fill=\"#000000\">squared_error = 0.0</text>\n<text text-anchor=\"start\" x=\"16528\" y=\"-279.3\" font-family=\"Helvetica,sans-Serif\" font-size=\"14.00\" fill=\"#000000\">samples = 34</text>\n<text text-anchor=\"start\" x=\"16532\" y=\"-264.3\" font-family=\"Helvetica,sans-Serif\" font-size=\"14.00\" fill=\"#000000\">value = 26.0</text>\n</g>\n<!-- 204&#45;&gt;206 -->\n<g id=\"edge206\" class=\"edge\">\n<title>204&#45;&gt;206</title>\n<path fill=\"none\" stroke=\"#000000\" d=\"M16492.2399,-5809.9409C16502.4307,-5530.0081 16572,-3619 16572,-3619 16572,-3619 16572,-3619 16572,-2507 16572,-2507 16572,-609.559 16572,-319.8949\"/>\n<polygon fill=\"#000000\" stroke=\"#000000\" points=\"16575.5001,-319.5259 16572,-309.5259 16568.5001,-319.5259 16575.5001,-319.5259\"/>\n</g>\n<!-- 208 -->\n<g id=\"node209\" class=\"node\">\n<title>208</title>\n<path fill=\"#eda774\" stroke=\"#000000\" d=\"M17017.5,-5878C17017.5,-5878 16770.5,-5878 16770.5,-5878 16764.5,-5878 16758.5,-5872 16758.5,-5866 16758.5,-5866 16758.5,-5822 16758.5,-5822 16758.5,-5816 16764.5,-5810 16770.5,-5810 16770.5,-5810 17017.5,-5810 17017.5,-5810 17023.5,-5810 17029.5,-5816 17029.5,-5822 17029.5,-5822 17029.5,-5866 17029.5,-5866 17029.5,-5872 17023.5,-5878 17017.5,-5878\"/>\n<text text-anchor=\"start\" x=\"16766.5\" y=\"-5862.8\" font-family=\"Helvetica,sans-Serif\" font-size=\"14.00\" fill=\"#000000\">lastReportedPosition.speedMPH ≤ 27.5</text>\n<text text-anchor=\"start\" x=\"16826\" y=\"-5847.8\" font-family=\"Helvetica,sans-Serif\" font-size=\"14.00\" fill=\"#000000\">squared_error = 0.25</text>\n<text text-anchor=\"start\" x=\"16850\" y=\"-5832.8\" font-family=\"Helvetica,sans-Serif\" font-size=\"14.00\" fill=\"#000000\">samples = 76</text>\n<text text-anchor=\"start\" x=\"16850\" y=\"-5817.8\" font-family=\"Helvetica,sans-Serif\" font-size=\"14.00\" fill=\"#000000\">value = 27.46</text>\n</g>\n<!-- 207&#45;&gt;208 -->\n<g id=\"edge208\" class=\"edge\">\n<title>207&#45;&gt;208</title>\n<path fill=\"none\" stroke=\"#000000\" d=\"M16973.4786,-6921.8074C16961.535,-6759.8403 16910.6721,-6070.0904 16897.2555,-5888.1472\"/>\n<polygon fill=\"#000000\" stroke=\"#000000\" points=\"16900.743,-5887.8483 16896.517,-5878.1328 16893.762,-5888.3632 16900.743,-5887.8483\"/>\n</g>\n<!-- 211 -->\n<g id=\"node212\" class=\"node\">\n<title>211</title>\n<path fill=\"#eda572\" stroke=\"#000000\" d=\"M17118,-309.5C17118,-309.5 16998,-309.5 16998,-309.5 16992,-309.5 16986,-303.5 16986,-297.5 16986,-297.5 16986,-268.5 16986,-268.5 16986,-262.5 16992,-256.5 16998,-256.5 16998,-256.5 17118,-256.5 17118,-256.5 17124,-256.5 17130,-262.5 17130,-268.5 17130,-268.5 17130,-297.5 17130,-297.5 17130,-303.5 17124,-309.5 17118,-309.5\"/>\n<text text-anchor=\"start\" x=\"16994\" y=\"-294.3\" font-family=\"Helvetica,sans-Serif\" font-size=\"14.00\" fill=\"#000000\">squared_error = 0.0</text>\n<text text-anchor=\"start\" x=\"17014\" y=\"-279.3\" font-family=\"Helvetica,sans-Serif\" font-size=\"14.00\" fill=\"#000000\">samples = 62</text>\n<text text-anchor=\"start\" x=\"17018\" y=\"-264.3\" font-family=\"Helvetica,sans-Serif\" font-size=\"14.00\" fill=\"#000000\">value = 29.0</text>\n</g>\n<!-- 207&#45;&gt;211 -->\n<g id=\"edge211\" class=\"edge\">\n<title>207&#45;&gt;211</title>\n<path fill=\"none\" stroke=\"#000000\" d=\"M16977.9579,-6921.9572C16988.4967,-6738.7183 17038,-5878 17038,-5878 17038,-5878 17058,-4732 17058,-4732 17058,-4732 17058,-4732 17058,-2507 17058,-2507 17058,-609.559 17058,-319.8949\"/>\n<polygon fill=\"#000000\" stroke=\"#000000\" points=\"17061.5001,-319.5259 17058,-309.5259 17054.5001,-319.5259 17061.5001,-319.5259\"/>\n</g>\n<!-- 209 -->\n<g id=\"node210\" class=\"node\">\n<title>209</title>\n<path fill=\"#eda775\" stroke=\"#000000\" d=\"M16794,-309.5C16794,-309.5 16674,-309.5 16674,-309.5 16668,-309.5 16662,-303.5 16662,-297.5 16662,-297.5 16662,-268.5 16662,-268.5 16662,-262.5 16668,-256.5 16674,-256.5 16674,-256.5 16794,-256.5 16794,-256.5 16800,-256.5 16806,-262.5 16806,-268.5 16806,-268.5 16806,-297.5 16806,-297.5 16806,-303.5 16800,-309.5 16794,-309.5\"/>\n<text text-anchor=\"start\" x=\"16670\" y=\"-294.3\" font-family=\"Helvetica,sans-Serif\" font-size=\"14.00\" fill=\"#000000\">squared_error = 0.0</text>\n<text text-anchor=\"start\" x=\"16690\" y=\"-279.3\" font-family=\"Helvetica,sans-Serif\" font-size=\"14.00\" fill=\"#000000\">samples = 41</text>\n<text text-anchor=\"start\" x=\"16694\" y=\"-264.3\" font-family=\"Helvetica,sans-Serif\" font-size=\"14.00\" fill=\"#000000\">value = 27.0</text>\n</g>\n<!-- 208&#45;&gt;209 -->\n<g id=\"edge209\" class=\"edge\">\n<title>208&#45;&gt;209</title>\n<path fill=\"none\" stroke=\"#000000\" d=\"M16891.5508,-5809.9409C16871.4208,-5530.0081 16734,-3619 16734,-3619 16734,-3619 16734,-3619 16734,-2507 16734,-2507 16734,-609.559 16734,-319.8949\"/>\n<polygon fill=\"#000000\" stroke=\"#000000\" points=\"16737.5001,-319.5259 16734,-309.5259 16730.5001,-319.5259 16737.5001,-319.5259\"/>\n</g>\n<!-- 210 -->\n<g id=\"node211\" class=\"node\">\n<title>210</title>\n<path fill=\"#eda674\" stroke=\"#000000\" d=\"M16956,-309.5C16956,-309.5 16836,-309.5 16836,-309.5 16830,-309.5 16824,-303.5 16824,-297.5 16824,-297.5 16824,-268.5 16824,-268.5 16824,-262.5 16830,-256.5 16836,-256.5 16836,-256.5 16956,-256.5 16956,-256.5 16962,-256.5 16968,-262.5 16968,-268.5 16968,-268.5 16968,-297.5 16968,-297.5 16968,-303.5 16962,-309.5 16956,-309.5\"/>\n<text text-anchor=\"start\" x=\"16832\" y=\"-294.3\" font-family=\"Helvetica,sans-Serif\" font-size=\"14.00\" fill=\"#000000\">squared_error = 0.0</text>\n<text text-anchor=\"start\" x=\"16852\" y=\"-279.3\" font-family=\"Helvetica,sans-Serif\" font-size=\"14.00\" fill=\"#000000\">samples = 35</text>\n<text text-anchor=\"start\" x=\"16856\" y=\"-264.3\" font-family=\"Helvetica,sans-Serif\" font-size=\"14.00\" fill=\"#000000\">value = 28.0</text>\n</g>\n<!-- 208&#45;&gt;210 -->\n<g id=\"edge210\" class=\"edge\">\n<title>208&#45;&gt;210</title>\n<path fill=\"none\" stroke=\"#000000\" d=\"M16894.0306,-5809.9409C16894.2822,-5530.0081 16896,-3619 16896,-3619 16896,-3619 16896,-3619 16896,-2507 16896,-2507 16896,-609.559 16896,-319.8949\"/>\n<polygon fill=\"#000000\" stroke=\"#000000\" points=\"16899.5001,-319.5259 16896,-309.5259 16892.5001,-319.5259 16899.5001,-319.5259\"/>\n</g>\n<!-- 213 -->\n<g id=\"node214\" class=\"node\">\n<title>213</title>\n<path fill=\"#eca46f\" stroke=\"#000000\" d=\"M17523,-6990C17523,-6990 17329,-6990 17329,-6990 17323,-6990 17317,-6984 17317,-6978 17317,-6978 17317,-6934 17317,-6934 17317,-6928 17323,-6922 17329,-6922 17329,-6922 17523,-6922 17523,-6922 17529,-6922 17535,-6928 17535,-6934 17535,-6934 17535,-6978 17535,-6978 17535,-6984 17529,-6990 17523,-6990\"/>\n<text text-anchor=\"start\" x=\"17325\" y=\"-6974.8\" font-family=\"Helvetica,sans-Serif\" font-size=\"14.00\" fill=\"#000000\">lastReportedSpeedMPH ≤ 30.5</text>\n<text text-anchor=\"start\" x=\"17358\" y=\"-6959.8\" font-family=\"Helvetica,sans-Serif\" font-size=\"14.00\" fill=\"#000000\">squared_error = 0.64</text>\n<text text-anchor=\"start\" x=\"17378\" y=\"-6944.8\" font-family=\"Helvetica,sans-Serif\" font-size=\"14.00\" fill=\"#000000\">samples = 184</text>\n<text text-anchor=\"start\" x=\"17386\" y=\"-6929.8\" font-family=\"Helvetica,sans-Serif\" font-size=\"14.00\" fill=\"#000000\">value = 31.0</text>\n</g>\n<!-- 212&#45;&gt;213 -->\n<g id=\"edge213\" class=\"edge\">\n<title>212&#45;&gt;213</title>\n<path fill=\"none\" stroke=\"#000000\" d=\"M17583.0187,-8033.8074C17559.4228,-7871.8403 17458.9376,-7182.0904 17432.4315,-7000.1472\"/>\n<polygon fill=\"#000000\" stroke=\"#000000\" points=\"17435.8777,-6999.5238 17430.9726,-6990.1328 17428.9509,-7000.533 17435.8777,-6999.5238\"/>\n</g>\n<!-- 218 -->\n<g id=\"node219\" class=\"node\">\n<title>218</title>\n<path fill=\"#eca16c\" stroke=\"#000000\" d=\"M17803,-6990C17803,-6990 17609,-6990 17609,-6990 17603,-6990 17597,-6984 17597,-6978 17597,-6978 17597,-6934 17597,-6934 17597,-6928 17603,-6922 17609,-6922 17609,-6922 17803,-6922 17803,-6922 17809,-6922 17815,-6928 17815,-6934 17815,-6934 17815,-6978 17815,-6978 17815,-6984 17809,-6990 17803,-6990\"/>\n<text text-anchor=\"start\" x=\"17605\" y=\"-6974.8\" font-family=\"Helvetica,sans-Serif\" font-size=\"14.00\" fill=\"#000000\">lastReportedSpeedMPH ≤ 33.5</text>\n<text text-anchor=\"start\" x=\"17638\" y=\"-6959.8\" font-family=\"Helvetica,sans-Serif\" font-size=\"14.00\" fill=\"#000000\">squared_error = 0.25</text>\n<text text-anchor=\"start\" x=\"17658\" y=\"-6944.8\" font-family=\"Helvetica,sans-Serif\" font-size=\"14.00\" fill=\"#000000\">samples = 149</text>\n<text text-anchor=\"start\" x=\"17662\" y=\"-6929.8\" font-family=\"Helvetica,sans-Serif\" font-size=\"14.00\" fill=\"#000000\">value = 33.56</text>\n</g>\n<!-- 212&#45;&gt;218 -->\n<g id=\"edge218\" class=\"edge\">\n<title>212&#45;&gt;218</title>\n<path fill=\"none\" stroke=\"#000000\" d=\"M17591.6284,-8033.8074C17608.8155,-7871.8403 17682.0084,-7182.0904 17701.3153,-7000.1472\"/>\n<polygon fill=\"#000000\" stroke=\"#000000\" points=\"17704.8031,-7000.4464 17702.378,-6990.1328 17697.8422,-6999.7076 17704.8031,-7000.4464\"/>\n</g>\n<!-- 214 -->\n<g id=\"node215\" class=\"node\">\n<title>214</title>\n<path fill=\"#eca471\" stroke=\"#000000\" d=\"M17280,-309.5C17280,-309.5 17160,-309.5 17160,-309.5 17154,-309.5 17148,-303.5 17148,-297.5 17148,-297.5 17148,-268.5 17148,-268.5 17148,-262.5 17154,-256.5 17160,-256.5 17160,-256.5 17280,-256.5 17280,-256.5 17286,-256.5 17292,-262.5 17292,-268.5 17292,-268.5 17292,-297.5 17292,-297.5 17292,-303.5 17286,-309.5 17280,-309.5\"/>\n<text text-anchor=\"start\" x=\"17156\" y=\"-294.3\" font-family=\"Helvetica,sans-Serif\" font-size=\"14.00\" fill=\"#000000\">squared_error = 0.0</text>\n<text text-anchor=\"start\" x=\"17176\" y=\"-279.3\" font-family=\"Helvetica,sans-Serif\" font-size=\"14.00\" fill=\"#000000\">samples = 59</text>\n<text text-anchor=\"start\" x=\"17180\" y=\"-264.3\" font-family=\"Helvetica,sans-Serif\" font-size=\"14.00\" fill=\"#000000\">value = 30.0</text>\n</g>\n<!-- 213&#45;&gt;214 -->\n<g id=\"edge214\" class=\"edge\">\n<title>213&#45;&gt;214</title>\n<path fill=\"none\" stroke=\"#000000\" d=\"M17422.2736,-6921.9572C17402.2159,-6738.7183 17308,-5878 17308,-5878 17308,-5878 17220,-4732 17220,-4732 17220,-4732 17220,-4732 17220,-2507 17220,-2507 17220,-609.559 17220,-319.8949\"/>\n<polygon fill=\"#000000\" stroke=\"#000000\" points=\"17223.5001,-319.5259 17220,-309.5259 17216.5001,-319.5259 17223.5001,-319.5259\"/>\n</g>\n<!-- 215 -->\n<g id=\"node216\" class=\"node\">\n<title>215</title>\n<path fill=\"#eca36f\" stroke=\"#000000\" d=\"M17523,-5878C17523,-5878 17329,-5878 17329,-5878 17323,-5878 17317,-5872 17317,-5866 17317,-5866 17317,-5822 17317,-5822 17317,-5816 17323,-5810 17329,-5810 17329,-5810 17523,-5810 17523,-5810 17529,-5810 17535,-5816 17535,-5822 17535,-5822 17535,-5866 17535,-5866 17535,-5872 17529,-5878 17523,-5878\"/>\n<text text-anchor=\"start\" x=\"17325\" y=\"-5862.8\" font-family=\"Helvetica,sans-Serif\" font-size=\"14.00\" fill=\"#000000\">lastReportedSpeedMPH ≤ 31.5</text>\n<text text-anchor=\"start\" x=\"17358\" y=\"-5847.8\" font-family=\"Helvetica,sans-Serif\" font-size=\"14.00\" fill=\"#000000\">squared_error = 0.25</text>\n<text text-anchor=\"start\" x=\"17378\" y=\"-5832.8\" font-family=\"Helvetica,sans-Serif\" font-size=\"14.00\" fill=\"#000000\">samples = 125</text>\n<text text-anchor=\"start\" x=\"17382\" y=\"-5817.8\" font-family=\"Helvetica,sans-Serif\" font-size=\"14.00\" fill=\"#000000\">value = 31.47</text>\n</g>\n<!-- 213&#45;&gt;215 -->\n<g id=\"edge215\" class=\"edge\">\n<title>213&#45;&gt;215</title>\n<path fill=\"none\" stroke=\"#000000\" d=\"M17426,-6921.8074C17426,-6759.8403 17426,-6070.0904 17426,-5888.1472\"/>\n<polygon fill=\"#000000\" stroke=\"#000000\" points=\"17429.5001,-5888.1328 17426,-5878.1328 17422.5001,-5888.1329 17429.5001,-5888.1328\"/>\n</g>\n<!-- 216 -->\n<g id=\"node217\" class=\"node\">\n<title>216</title>\n<path fill=\"#eca46f\" stroke=\"#000000\" d=\"M17442,-309.5C17442,-309.5 17322,-309.5 17322,-309.5 17316,-309.5 17310,-303.5 17310,-297.5 17310,-297.5 17310,-268.5 17310,-268.5 17310,-262.5 17316,-256.5 17322,-256.5 17322,-256.5 17442,-256.5 17442,-256.5 17448,-256.5 17454,-262.5 17454,-268.5 17454,-268.5 17454,-297.5 17454,-297.5 17454,-303.5 17448,-309.5 17442,-309.5\"/>\n<text text-anchor=\"start\" x=\"17318\" y=\"-294.3\" font-family=\"Helvetica,sans-Serif\" font-size=\"14.00\" fill=\"#000000\">squared_error = 0.0</text>\n<text text-anchor=\"start\" x=\"17338\" y=\"-279.3\" font-family=\"Helvetica,sans-Serif\" font-size=\"14.00\" fill=\"#000000\">samples = 66</text>\n<text text-anchor=\"start\" x=\"17342\" y=\"-264.3\" font-family=\"Helvetica,sans-Serif\" font-size=\"14.00\" fill=\"#000000\">value = 31.0</text>\n</g>\n<!-- 215&#45;&gt;216 -->\n<g id=\"edge216\" class=\"edge\">\n<title>215&#45;&gt;216</title>\n<path fill=\"none\" stroke=\"#000000\" d=\"M17425.3265,-5809.9409C17419.7907,-5530.0081 17382,-3619 17382,-3619 17382,-3619 17382,-3619 17382,-2507 17382,-2507 17382,-609.559 17382,-319.8949\"/>\n<polygon fill=\"#000000\" stroke=\"#000000\" points=\"17385.5001,-319.5259 17382,-309.5259 17378.5001,-319.5259 17385.5001,-319.5259\"/>\n</g>\n<!-- 217 -->\n<g id=\"node218\" class=\"node\">\n<title>217</title>\n<path fill=\"#eca36e\" stroke=\"#000000\" d=\"M17604,-309.5C17604,-309.5 17484,-309.5 17484,-309.5 17478,-309.5 17472,-303.5 17472,-297.5 17472,-297.5 17472,-268.5 17472,-268.5 17472,-262.5 17478,-256.5 17484,-256.5 17484,-256.5 17604,-256.5 17604,-256.5 17610,-256.5 17616,-262.5 17616,-268.5 17616,-268.5 17616,-297.5 17616,-297.5 17616,-303.5 17610,-309.5 17604,-309.5\"/>\n<text text-anchor=\"start\" x=\"17480\" y=\"-294.3\" font-family=\"Helvetica,sans-Serif\" font-size=\"14.00\" fill=\"#000000\">squared_error = 0.0</text>\n<text text-anchor=\"start\" x=\"17500\" y=\"-279.3\" font-family=\"Helvetica,sans-Serif\" font-size=\"14.00\" fill=\"#000000\">samples = 59</text>\n<text text-anchor=\"start\" x=\"17504\" y=\"-264.3\" font-family=\"Helvetica,sans-Serif\" font-size=\"14.00\" fill=\"#000000\">value = 32.0</text>\n</g>\n<!-- 215&#45;&gt;217 -->\n<g id=\"edge217\" class=\"edge\">\n<title>215&#45;&gt;217</title>\n<path fill=\"none\" stroke=\"#000000\" d=\"M17427.8063,-5809.9409C17442.6522,-5530.0081 17544,-3619 17544,-3619 17544,-3619 17544,-3619 17544,-2507 17544,-2507 17544,-609.559 17544,-319.8949\"/>\n<polygon fill=\"#000000\" stroke=\"#000000\" points=\"17547.5001,-319.5259 17544,-309.5259 17540.5001,-319.5259 17547.5001,-319.5259\"/>\n</g>\n<!-- 219 -->\n<g id=\"node220\" class=\"node\">\n<title>219</title>\n<path fill=\"#eca26c\" stroke=\"#000000\" d=\"M17766,-309.5C17766,-309.5 17646,-309.5 17646,-309.5 17640,-309.5 17634,-303.5 17634,-297.5 17634,-297.5 17634,-268.5 17634,-268.5 17634,-262.5 17640,-256.5 17646,-256.5 17646,-256.5 17766,-256.5 17766,-256.5 17772,-256.5 17778,-262.5 17778,-268.5 17778,-268.5 17778,-297.5 17778,-297.5 17778,-303.5 17772,-309.5 17766,-309.5\"/>\n<text text-anchor=\"start\" x=\"17642\" y=\"-294.3\" font-family=\"Helvetica,sans-Serif\" font-size=\"14.00\" fill=\"#000000\">squared_error = 0.0</text>\n<text text-anchor=\"start\" x=\"17662\" y=\"-279.3\" font-family=\"Helvetica,sans-Serif\" font-size=\"14.00\" fill=\"#000000\">samples = 65</text>\n<text text-anchor=\"start\" x=\"17666\" y=\"-264.3\" font-family=\"Helvetica,sans-Serif\" font-size=\"14.00\" fill=\"#000000\">value = 33.0</text>\n</g>\n<!-- 218&#45;&gt;219 -->\n<g id=\"edge219\" class=\"edge\">\n<title>218&#45;&gt;219</title>\n<path fill=\"none\" stroke=\"#000000\" d=\"M17706,-6921.9562C17706,-6642.1492 17706,-4732 17706,-4732 17706,-4732 17706,-4732 17706,-2507 17706,-2507 17706,-609.559 17706,-319.8949\"/>\n<polygon fill=\"#000000\" stroke=\"#000000\" points=\"17709.5001,-319.5259 17706,-309.5259 17702.5001,-319.5259 17709.5001,-319.5259\"/>\n</g>\n<!-- 220 -->\n<g id=\"node221\" class=\"node\">\n<title>220</title>\n<path fill=\"#eca16b\" stroke=\"#000000\" d=\"M17928,-309.5C17928,-309.5 17808,-309.5 17808,-309.5 17802,-309.5 17796,-303.5 17796,-297.5 17796,-297.5 17796,-268.5 17796,-268.5 17796,-262.5 17802,-256.5 17808,-256.5 17808,-256.5 17928,-256.5 17928,-256.5 17934,-256.5 17940,-262.5 17940,-268.5 17940,-268.5 17940,-297.5 17940,-297.5 17940,-303.5 17934,-309.5 17928,-309.5\"/>\n<text text-anchor=\"start\" x=\"17804\" y=\"-294.3\" font-family=\"Helvetica,sans-Serif\" font-size=\"14.00\" fill=\"#000000\">squared_error = 0.0</text>\n<text text-anchor=\"start\" x=\"17824\" y=\"-279.3\" font-family=\"Helvetica,sans-Serif\" font-size=\"14.00\" fill=\"#000000\">samples = 84</text>\n<text text-anchor=\"start\" x=\"17828\" y=\"-264.3\" font-family=\"Helvetica,sans-Serif\" font-size=\"14.00\" fill=\"#000000\">value = 34.0</text>\n</g>\n<!-- 218&#45;&gt;220 -->\n<g id=\"edge220\" class=\"edge\">\n<title>218&#45;&gt;220</title>\n<path fill=\"none\" stroke=\"#000000\" d=\"M17708.4798,-6921.9562C17728.8614,-6642.1492 17868,-4732 17868,-4732 17868,-4732 17868,-4732 17868,-2507 17868,-2507 17868,-609.559 17868,-319.8949\"/>\n<polygon fill=\"#000000\" stroke=\"#000000\" points=\"17871.5001,-319.5259 17868,-309.5259 17864.5001,-319.5259 17871.5001,-319.5259\"/>\n</g>\n<!-- 222 -->\n<g id=\"node223\" class=\"node\">\n<title>222</title>\n<path fill=\"#eb9e67\" stroke=\"#000000\" d=\"M18557.5,-8102C18557.5,-8102 18310.5,-8102 18310.5,-8102 18304.5,-8102 18298.5,-8096 18298.5,-8090 18298.5,-8090 18298.5,-8046 18298.5,-8046 18298.5,-8040 18304.5,-8034 18310.5,-8034 18310.5,-8034 18557.5,-8034 18557.5,-8034 18563.5,-8034 18569.5,-8040 18569.5,-8046 18569.5,-8046 18569.5,-8090 18569.5,-8090 18569.5,-8096 18563.5,-8102 18557.5,-8102\"/>\n<text text-anchor=\"start\" x=\"18306.5\" y=\"-8086.8\" font-family=\"Helvetica,sans-Serif\" font-size=\"14.00\" fill=\"#000000\">lastReportedPosition.speedMPH ≤ 37.5</text>\n<text text-anchor=\"start\" x=\"18366\" y=\"-8071.8\" font-family=\"Helvetica,sans-Serif\" font-size=\"14.00\" fill=\"#000000\">squared_error = 1.89</text>\n<text text-anchor=\"start\" x=\"18386\" y=\"-8056.8\" font-family=\"Helvetica,sans-Serif\" font-size=\"14.00\" fill=\"#000000\">samples = 577</text>\n<text text-anchor=\"start\" x=\"18390\" y=\"-8041.8\" font-family=\"Helvetica,sans-Serif\" font-size=\"14.00\" fill=\"#000000\">value = 37.23</text>\n</g>\n<!-- 221&#45;&gt;222 -->\n<g id=\"edge222\" class=\"edge\">\n<title>221&#45;&gt;222</title>\n<path fill=\"none\" stroke=\"#000000\" d=\"M18434,-9145.8074C18434,-8983.8403 18434,-8294.0904 18434,-8112.1472\"/>\n<polygon fill=\"#000000\" stroke=\"#000000\" points=\"18437.5001,-8112.1328 18434,-8102.1328 18430.5001,-8112.1329 18437.5001,-8112.1328\"/>\n</g>\n<!-- 231 -->\n<g id=\"node232\" class=\"node\">\n<title>231</title>\n<path fill=\"#ea9a60\" stroke=\"#000000\" d=\"M18968,-8102C18968,-8102 18774,-8102 18774,-8102 18768,-8102 18762,-8096 18762,-8090 18762,-8090 18762,-8046 18762,-8046 18762,-8040 18768,-8034 18774,-8034 18774,-8034 18968,-8034 18968,-8034 18974,-8034 18980,-8040 18980,-8046 18980,-8046 18980,-8090 18980,-8090 18980,-8096 18974,-8102 18968,-8102\"/>\n<text text-anchor=\"start\" x=\"18770\" y=\"-8086.8\" font-family=\"Helvetica,sans-Serif\" font-size=\"14.00\" fill=\"#000000\">lastReportedSpeedMPH ≤ 41.5</text>\n<text text-anchor=\"start\" x=\"18803\" y=\"-8071.8\" font-family=\"Helvetica,sans-Serif\" font-size=\"14.00\" fill=\"#000000\">squared_error = 1.35</text>\n<text text-anchor=\"start\" x=\"18823\" y=\"-8056.8\" font-family=\"Helvetica,sans-Serif\" font-size=\"14.00\" fill=\"#000000\">samples = 375</text>\n<text text-anchor=\"start\" x=\"18827\" y=\"-8041.8\" font-family=\"Helvetica,sans-Serif\" font-size=\"14.00\" fill=\"#000000\">value = 41.53</text>\n</g>\n<!-- 221&#45;&gt;231 -->\n<g id=\"edge231\" class=\"edge\">\n<title>221&#45;&gt;231</title>\n<path fill=\"none\" stroke=\"#000000\" d=\"M18447.4372,-9145.8074C18511.1513,-8983.6791 18782.6896,-8292.7165 18853.8638,-8111.6053\"/>\n<polygon fill=\"#000000\" stroke=\"#000000\" points=\"18857.1862,-8112.7201 18857.5863,-8102.1328 18850.6712,-8110.1598 18857.1862,-8112.7201\"/>\n</g>\n<!-- 223 -->\n<g id=\"node224\" class=\"node\">\n<title>223</title>\n<path fill=\"#eb9f68\" stroke=\"#000000\" d=\"M18426.5,-6990C18426.5,-6990 18179.5,-6990 18179.5,-6990 18173.5,-6990 18167.5,-6984 18167.5,-6978 18167.5,-6978 18167.5,-6934 18167.5,-6934 18167.5,-6928 18173.5,-6922 18179.5,-6922 18179.5,-6922 18426.5,-6922 18426.5,-6922 18432.5,-6922 18438.5,-6928 18438.5,-6934 18438.5,-6934 18438.5,-6978 18438.5,-6978 18438.5,-6984 18432.5,-6990 18426.5,-6990\"/>\n<text text-anchor=\"start\" x=\"18175.5\" y=\"-6974.8\" font-family=\"Helvetica,sans-Serif\" font-size=\"14.00\" fill=\"#000000\">lastReportedPosition.speedMPH ≤ 36.5</text>\n<text text-anchor=\"start\" x=\"18235\" y=\"-6959.8\" font-family=\"Helvetica,sans-Serif\" font-size=\"14.00\" fill=\"#000000\">squared_error = 0.67</text>\n<text text-anchor=\"start\" x=\"18255\" y=\"-6944.8\" font-family=\"Helvetica,sans-Serif\" font-size=\"14.00\" fill=\"#000000\">samples = 315</text>\n<text text-anchor=\"start\" x=\"18259\" y=\"-6929.8\" font-family=\"Helvetica,sans-Serif\" font-size=\"14.00\" fill=\"#000000\">value = 36.15</text>\n</g>\n<!-- 222&#45;&gt;223 -->\n<g id=\"edge223\" class=\"edge\">\n<title>222&#45;&gt;223</title>\n<path fill=\"none\" stroke=\"#000000\" d=\"M18429.9719,-8033.8074C18410.8913,-7871.8403 18329.6347,-7182.0904 18308.2008,-7000.1472\"/>\n<polygon fill=\"#000000\" stroke=\"#000000\" points=\"18311.6671,-6999.6546 18307.021,-6990.1328 18304.7151,-7000.4737 18311.6671,-6999.6546\"/>\n</g>\n<!-- 228 -->\n<g id=\"node229\" class=\"node\">\n<title>228</title>\n<path fill=\"#eb9d65\" stroke=\"#000000\" d=\"M18663,-6990C18663,-6990 18469,-6990 18469,-6990 18463,-6990 18457,-6984 18457,-6978 18457,-6978 18457,-6934 18457,-6934 18457,-6928 18463,-6922 18469,-6922 18469,-6922 18663,-6922 18663,-6922 18669,-6922 18675,-6928 18675,-6934 18675,-6934 18675,-6978 18675,-6978 18675,-6984 18669,-6990 18663,-6990\"/>\n<text text-anchor=\"start\" x=\"18465\" y=\"-6974.8\" font-family=\"Helvetica,sans-Serif\" font-size=\"14.00\" fill=\"#000000\">lastReportedSpeedMPH ≤ 38.5</text>\n<text text-anchor=\"start\" x=\"18498\" y=\"-6959.8\" font-family=\"Helvetica,sans-Serif\" font-size=\"14.00\" fill=\"#000000\">squared_error = 0.25</text>\n<text text-anchor=\"start\" x=\"18518\" y=\"-6944.8\" font-family=\"Helvetica,sans-Serif\" font-size=\"14.00\" fill=\"#000000\">samples = 262</text>\n<text text-anchor=\"start\" x=\"18522\" y=\"-6929.8\" font-family=\"Helvetica,sans-Serif\" font-size=\"14.00\" fill=\"#000000\">value = 38.53</text>\n</g>\n<!-- 222&#45;&gt;228 -->\n<g id=\"edge228\" class=\"edge\">\n<title>222&#45;&gt;228</title>\n<path fill=\"none\" stroke=\"#000000\" d=\"M18438.0588,-8033.8074C18457.2851,-7871.8403 18539.1619,-7182.0904 18560.7595,-7000.1472\"/>\n<polygon fill=\"#000000\" stroke=\"#000000\" points=\"18564.245,-7000.4757 18561.9483,-6990.1328 18557.2938,-6999.6505 18564.245,-7000.4757\"/>\n</g>\n<!-- 224 -->\n<g id=\"node225\" class=\"node\">\n<title>224</title>\n<path fill=\"#eb9f69\" stroke=\"#000000\" d=\"M18289,-5878C18289,-5878 18095,-5878 18095,-5878 18089,-5878 18083,-5872 18083,-5866 18083,-5866 18083,-5822 18083,-5822 18083,-5816 18089,-5810 18095,-5810 18095,-5810 18289,-5810 18289,-5810 18295,-5810 18301,-5816 18301,-5822 18301,-5822 18301,-5866 18301,-5866 18301,-5872 18295,-5878 18289,-5878\"/>\n<text text-anchor=\"start\" x=\"18091\" y=\"-5862.8\" font-family=\"Helvetica,sans-Serif\" font-size=\"14.00\" fill=\"#000000\">lastReportedSpeedMPH ≤ 35.5</text>\n<text text-anchor=\"start\" x=\"18124\" y=\"-5847.8\" font-family=\"Helvetica,sans-Serif\" font-size=\"14.00\" fill=\"#000000\">squared_error = 0.25</text>\n<text text-anchor=\"start\" x=\"18144\" y=\"-5832.8\" font-family=\"Helvetica,sans-Serif\" font-size=\"14.00\" fill=\"#000000\">samples = 182</text>\n<text text-anchor=\"start\" x=\"18148\" y=\"-5817.8\" font-family=\"Helvetica,sans-Serif\" font-size=\"14.00\" fill=\"#000000\">value = 35.53</text>\n</g>\n<!-- 223&#45;&gt;224 -->\n<g id=\"edge224\" class=\"edge\">\n<title>223&#45;&gt;224</title>\n<path fill=\"none\" stroke=\"#000000\" d=\"M18299.5869,-6921.8074C18283.4193,-6759.8403 18214.5684,-6070.0904 18196.4068,-5888.1472\"/>\n<polygon fill=\"#000000\" stroke=\"#000000\" points=\"18199.8832,-5887.7357 18195.4071,-5878.1328 18192.9178,-5888.4311 18199.8832,-5887.7357\"/>\n</g>\n<!-- 227 -->\n<g id=\"node228\" class=\"node\">\n<title>227</title>\n<path fill=\"#eb9e67\" stroke=\"#000000\" d=\"M18414,-309.5C18414,-309.5 18294,-309.5 18294,-309.5 18288,-309.5 18282,-303.5 18282,-297.5 18282,-297.5 18282,-268.5 18282,-268.5 18282,-262.5 18288,-256.5 18294,-256.5 18294,-256.5 18414,-256.5 18414,-256.5 18420,-256.5 18426,-262.5 18426,-268.5 18426,-268.5 18426,-297.5 18426,-297.5 18426,-303.5 18420,-309.5 18414,-309.5\"/>\n<text text-anchor=\"start\" x=\"18290\" y=\"-294.3\" font-family=\"Helvetica,sans-Serif\" font-size=\"14.00\" fill=\"#000000\">squared_error = 0.0</text>\n<text text-anchor=\"start\" x=\"18306\" y=\"-279.3\" font-family=\"Helvetica,sans-Serif\" font-size=\"14.00\" fill=\"#000000\">samples = 133</text>\n<text text-anchor=\"start\" x=\"18314\" y=\"-264.3\" font-family=\"Helvetica,sans-Serif\" font-size=\"14.00\" fill=\"#000000\">value = 37.0</text>\n</g>\n<!-- 223&#45;&gt;227 -->\n<g id=\"edge227\" class=\"edge\">\n<title>223&#45;&gt;227</title>\n<path fill=\"none\" stroke=\"#000000\" d=\"M18303.7807,-6921.9562C18310.1971,-6642.1492 18354,-4732 18354,-4732 18354,-4732 18354,-4732 18354,-2507 18354,-2507 18354,-609.559 18354,-319.8949\"/>\n<polygon fill=\"#000000\" stroke=\"#000000\" points=\"18357.5001,-319.5259 18354,-309.5259 18350.5001,-319.5259 18357.5001,-319.5259\"/>\n</g>\n<!-- 225 -->\n<g id=\"node226\" class=\"node\">\n<title>225</title>\n<path fill=\"#eba06a\" stroke=\"#000000\" d=\"M18090,-309.5C18090,-309.5 17970,-309.5 17970,-309.5 17964,-309.5 17958,-303.5 17958,-297.5 17958,-297.5 17958,-268.5 17958,-268.5 17958,-262.5 17964,-256.5 17970,-256.5 17970,-256.5 18090,-256.5 18090,-256.5 18096,-256.5 18102,-262.5 18102,-268.5 18102,-268.5 18102,-297.5 18102,-297.5 18102,-303.5 18096,-309.5 18090,-309.5\"/>\n<text text-anchor=\"start\" x=\"17966\" y=\"-294.3\" font-family=\"Helvetica,sans-Serif\" font-size=\"14.00\" fill=\"#000000\">squared_error = 0.0</text>\n<text text-anchor=\"start\" x=\"17986\" y=\"-279.3\" font-family=\"Helvetica,sans-Serif\" font-size=\"14.00\" fill=\"#000000\">samples = 86</text>\n<text text-anchor=\"start\" x=\"17990\" y=\"-264.3\" font-family=\"Helvetica,sans-Serif\" font-size=\"14.00\" fill=\"#000000\">value = 35.0</text>\n</g>\n<!-- 224&#45;&gt;225 -->\n<g id=\"edge225\" class=\"edge\">\n<title>224&#45;&gt;225</title>\n<path fill=\"none\" stroke=\"#000000\" d=\"M18189.5202,-5809.9409C18169.1386,-5530.0081 18030,-3619 18030,-3619 18030,-3619 18030,-3619 18030,-2507 18030,-2507 18030,-609.559 18030,-319.8949\"/>\n<polygon fill=\"#000000\" stroke=\"#000000\" points=\"18033.5001,-319.5259 18030,-309.5259 18026.5001,-319.5259 18033.5001,-319.5259\"/>\n</g>\n<!-- 226 -->\n<g id=\"node227\" class=\"node\">\n<title>226</title>\n<path fill=\"#eb9f68\" stroke=\"#000000\" d=\"M18252,-309.5C18252,-309.5 18132,-309.5 18132,-309.5 18126,-309.5 18120,-303.5 18120,-297.5 18120,-297.5 18120,-268.5 18120,-268.5 18120,-262.5 18126,-256.5 18132,-256.5 18132,-256.5 18252,-256.5 18252,-256.5 18258,-256.5 18264,-262.5 18264,-268.5 18264,-268.5 18264,-297.5 18264,-297.5 18264,-303.5 18258,-309.5 18252,-309.5\"/>\n<text text-anchor=\"start\" x=\"18128\" y=\"-294.3\" font-family=\"Helvetica,sans-Serif\" font-size=\"14.00\" fill=\"#000000\">squared_error = 0.0</text>\n<text text-anchor=\"start\" x=\"18148\" y=\"-279.3\" font-family=\"Helvetica,sans-Serif\" font-size=\"14.00\" fill=\"#000000\">samples = 96</text>\n<text text-anchor=\"start\" x=\"18152\" y=\"-264.3\" font-family=\"Helvetica,sans-Serif\" font-size=\"14.00\" fill=\"#000000\">value = 36.0</text>\n</g>\n<!-- 224&#45;&gt;226 -->\n<g id=\"edge226\" class=\"edge\">\n<title>224&#45;&gt;226</title>\n<path fill=\"none\" stroke=\"#000000\" d=\"M18192,-5809.9409C18192,-5530.0081 18192,-3619 18192,-3619 18192,-3619 18192,-3619 18192,-2507 18192,-2507 18192,-609.559 18192,-319.8949\"/>\n<polygon fill=\"#000000\" stroke=\"#000000\" points=\"18195.5001,-319.5259 18192,-309.5259 18188.5001,-319.5259 18195.5001,-319.5259\"/>\n</g>\n<!-- 229 -->\n<g id=\"node230\" class=\"node\">\n<title>229</title>\n<path fill=\"#eb9d65\" stroke=\"#000000\" d=\"M18576,-309.5C18576,-309.5 18456,-309.5 18456,-309.5 18450,-309.5 18444,-303.5 18444,-297.5 18444,-297.5 18444,-268.5 18444,-268.5 18444,-262.5 18450,-256.5 18456,-256.5 18456,-256.5 18576,-256.5 18576,-256.5 18582,-256.5 18588,-262.5 18588,-268.5 18588,-268.5 18588,-297.5 18588,-297.5 18588,-303.5 18582,-309.5 18576,-309.5\"/>\n<text text-anchor=\"start\" x=\"18452\" y=\"-294.3\" font-family=\"Helvetica,sans-Serif\" font-size=\"14.00\" fill=\"#000000\">squared_error = 0.0</text>\n<text text-anchor=\"start\" x=\"18468\" y=\"-279.3\" font-family=\"Helvetica,sans-Serif\" font-size=\"14.00\" fill=\"#000000\">samples = 123</text>\n<text text-anchor=\"start\" x=\"18476\" y=\"-264.3\" font-family=\"Helvetica,sans-Serif\" font-size=\"14.00\" fill=\"#000000\">value = 38.0</text>\n</g>\n<!-- 228&#45;&gt;229 -->\n<g id=\"edge229\" class=\"edge\">\n<title>228&#45;&gt;229</title>\n<path fill=\"none\" stroke=\"#000000\" d=\"M18565.2346,-6921.9562C18558.944,-6642.1492 18516,-4732 18516,-4732 18516,-4732 18516,-4732 18516,-2507 18516,-2507 18516,-609.559 18516,-319.8949\"/>\n<polygon fill=\"#000000\" stroke=\"#000000\" points=\"18519.5001,-319.5259 18516,-309.5259 18512.5001,-319.5259 18519.5001,-319.5259\"/>\n</g>\n<!-- 230 -->\n<g id=\"node231\" class=\"node\">\n<title>230</title>\n<path fill=\"#eb9c64\" stroke=\"#000000\" d=\"M18738,-309.5C18738,-309.5 18618,-309.5 18618,-309.5 18612,-309.5 18606,-303.5 18606,-297.5 18606,-297.5 18606,-268.5 18606,-268.5 18606,-262.5 18612,-256.5 18618,-256.5 18618,-256.5 18738,-256.5 18738,-256.5 18744,-256.5 18750,-262.5 18750,-268.5 18750,-268.5 18750,-297.5 18750,-297.5 18750,-303.5 18744,-309.5 18738,-309.5\"/>\n<text text-anchor=\"start\" x=\"18614\" y=\"-294.3\" font-family=\"Helvetica,sans-Serif\" font-size=\"14.00\" fill=\"#000000\">squared_error = 0.0</text>\n<text text-anchor=\"start\" x=\"18630\" y=\"-279.3\" font-family=\"Helvetica,sans-Serif\" font-size=\"14.00\" fill=\"#000000\">samples = 139</text>\n<text text-anchor=\"start\" x=\"18638\" y=\"-264.3\" font-family=\"Helvetica,sans-Serif\" font-size=\"14.00\" fill=\"#000000\">value = 39.0</text>\n</g>\n<!-- 228&#45;&gt;230 -->\n<g id=\"edge230\" class=\"edge\">\n<title>228&#45;&gt;230</title>\n<path fill=\"none\" stroke=\"#000000\" d=\"M18567.7144,-6921.9562C18581.8054,-6642.1492 18678,-4732 18678,-4732 18678,-4732 18678,-4732 18678,-2507 18678,-2507 18678,-609.559 18678,-319.8949\"/>\n<polygon fill=\"#000000\" stroke=\"#000000\" points=\"18681.5001,-319.5259 18678,-309.5259 18674.5001,-319.5259 18681.5001,-319.5259\"/>\n</g>\n<!-- 232 -->\n<g id=\"node233\" class=\"node\">\n<title>232</title>\n<path fill=\"#ea9b62\" stroke=\"#000000\" d=\"M18968,-6990C18968,-6990 18774,-6990 18774,-6990 18768,-6990 18762,-6984 18762,-6978 18762,-6978 18762,-6934 18762,-6934 18762,-6928 18768,-6922 18774,-6922 18774,-6922 18968,-6922 18968,-6922 18974,-6922 18980,-6928 18980,-6934 18980,-6934 18980,-6978 18980,-6978 18980,-6984 18974,-6990 18968,-6990\"/>\n<text text-anchor=\"start\" x=\"18770\" y=\"-6974.8\" font-family=\"Helvetica,sans-Serif\" font-size=\"14.00\" fill=\"#000000\">lastReportedSpeedMPH ≤ 40.5</text>\n<text text-anchor=\"start\" x=\"18803\" y=\"-6959.8\" font-family=\"Helvetica,sans-Serif\" font-size=\"14.00\" fill=\"#000000\">squared_error = 0.25</text>\n<text text-anchor=\"start\" x=\"18823\" y=\"-6944.8\" font-family=\"Helvetica,sans-Serif\" font-size=\"14.00\" fill=\"#000000\">samples = 186</text>\n<text text-anchor=\"start\" x=\"18827\" y=\"-6929.8\" font-family=\"Helvetica,sans-Serif\" font-size=\"14.00\" fill=\"#000000\">value = 40.47</text>\n</g>\n<!-- 231&#45;&gt;232 -->\n<g id=\"edge232\" class=\"edge\">\n<title>231&#45;&gt;232</title>\n<path fill=\"none\" stroke=\"#000000\" d=\"M18871,-8033.8074C18871,-7871.8403 18871,-7182.0904 18871,-7000.1472\"/>\n<polygon fill=\"#000000\" stroke=\"#000000\" points=\"18874.5001,-7000.1328 18871,-6990.1328 18867.5001,-7000.1329 18874.5001,-7000.1328\"/>\n</g>\n<!-- 235 -->\n<g id=\"node236\" class=\"node\">\n<title>235</title>\n<path fill=\"#ea995f\" stroke=\"#000000\" d=\"M19287.5,-6990C19287.5,-6990 19040.5,-6990 19040.5,-6990 19034.5,-6990 19028.5,-6984 19028.5,-6978 19028.5,-6978 19028.5,-6934 19028.5,-6934 19028.5,-6928 19034.5,-6922 19040.5,-6922 19040.5,-6922 19287.5,-6922 19287.5,-6922 19293.5,-6922 19299.5,-6928 19299.5,-6934 19299.5,-6934 19299.5,-6978 19299.5,-6978 19299.5,-6984 19293.5,-6990 19287.5,-6990\"/>\n<text text-anchor=\"start\" x=\"19036.5\" y=\"-6974.8\" font-family=\"Helvetica,sans-Serif\" font-size=\"14.00\" fill=\"#000000\">lastReportedPosition.speedMPH ≤ 42.5</text>\n<text text-anchor=\"start\" x=\"19096\" y=\"-6959.8\" font-family=\"Helvetica,sans-Serif\" font-size=\"14.00\" fill=\"#000000\">squared_error = 0.24</text>\n<text text-anchor=\"start\" x=\"19116\" y=\"-6944.8\" font-family=\"Helvetica,sans-Serif\" font-size=\"14.00\" fill=\"#000000\">samples = 189</text>\n<text text-anchor=\"start\" x=\"19120\" y=\"-6929.8\" font-family=\"Helvetica,sans-Serif\" font-size=\"14.00\" fill=\"#000000\">value = 42.57</text>\n</g>\n<!-- 231&#45;&gt;235 -->\n<g id=\"edge235\" class=\"edge\">\n<title>231&#45;&gt;235</title>\n<path fill=\"none\" stroke=\"#000000\" d=\"M18880.0094,-8033.8074C18922.7072,-7871.7597 19104.6086,-7181.4036 19152.4392,-6999.8758\"/>\n<polygon fill=\"#000000\" stroke=\"#000000\" points=\"19155.8428,-7000.6946 19155.0064,-6990.1328 19149.0739,-6998.911 19155.8428,-7000.6946\"/>\n</g>\n<!-- 233 -->\n<g id=\"node234\" class=\"node\">\n<title>233</title>\n<path fill=\"#ea9b63\" stroke=\"#000000\" d=\"M18900,-309.5C18900,-309.5 18780,-309.5 18780,-309.5 18774,-309.5 18768,-303.5 18768,-297.5 18768,-297.5 18768,-268.5 18768,-268.5 18768,-262.5 18774,-256.5 18780,-256.5 18780,-256.5 18900,-256.5 18900,-256.5 18906,-256.5 18912,-262.5 18912,-268.5 18912,-268.5 18912,-297.5 18912,-297.5 18912,-303.5 18906,-309.5 18900,-309.5\"/>\n<text text-anchor=\"start\" x=\"18776\" y=\"-294.3\" font-family=\"Helvetica,sans-Serif\" font-size=\"14.00\" fill=\"#000000\">squared_error = 0.0</text>\n<text text-anchor=\"start\" x=\"18796\" y=\"-279.3\" font-family=\"Helvetica,sans-Serif\" font-size=\"14.00\" fill=\"#000000\">samples = 99</text>\n<text text-anchor=\"start\" x=\"18800\" y=\"-264.3\" font-family=\"Helvetica,sans-Serif\" font-size=\"14.00\" fill=\"#000000\">value = 40.0</text>\n</g>\n<!-- 232&#45;&gt;233 -->\n<g id=\"edge233\" class=\"edge\">\n<title>232&#45;&gt;233</title>\n<path fill=\"none\" stroke=\"#000000\" d=\"M18870.5255,-6921.9562C18866.6253,-6642.1492 18840,-4732 18840,-4732 18840,-4732 18840,-4732 18840,-2507 18840,-2507 18840,-609.559 18840,-319.8949\"/>\n<polygon fill=\"#000000\" stroke=\"#000000\" points=\"18843.5001,-319.5259 18840,-309.5259 18836.5001,-319.5259 18843.5001,-319.5259\"/>\n</g>\n<!-- 234 -->\n<g id=\"node235\" class=\"node\">\n<title>234</title>\n<path fill=\"#ea9b61\" stroke=\"#000000\" d=\"M19062,-309.5C19062,-309.5 18942,-309.5 18942,-309.5 18936,-309.5 18930,-303.5 18930,-297.5 18930,-297.5 18930,-268.5 18930,-268.5 18930,-262.5 18936,-256.5 18942,-256.5 18942,-256.5 19062,-256.5 19062,-256.5 19068,-256.5 19074,-262.5 19074,-268.5 19074,-268.5 19074,-297.5 19074,-297.5 19074,-303.5 19068,-309.5 19062,-309.5\"/>\n<text text-anchor=\"start\" x=\"18938\" y=\"-294.3\" font-family=\"Helvetica,sans-Serif\" font-size=\"14.00\" fill=\"#000000\">squared_error = 0.0</text>\n<text text-anchor=\"start\" x=\"18958\" y=\"-279.3\" font-family=\"Helvetica,sans-Serif\" font-size=\"14.00\" fill=\"#000000\">samples = 87</text>\n<text text-anchor=\"start\" x=\"18962\" y=\"-264.3\" font-family=\"Helvetica,sans-Serif\" font-size=\"14.00\" fill=\"#000000\">value = 41.0</text>\n</g>\n<!-- 232&#45;&gt;234 -->\n<g id=\"edge234\" class=\"edge\">\n<title>232&#45;&gt;234</title>\n<path fill=\"none\" stroke=\"#000000\" d=\"M18873.0053,-6921.9562C18889.4867,-6642.1492 19002,-4732 19002,-4732 19002,-4732 19002,-4732 19002,-2507 19002,-2507 19002,-609.559 19002,-319.8949\"/>\n<polygon fill=\"#000000\" stroke=\"#000000\" points=\"19005.5001,-319.5259 19002,-309.5259 18998.5001,-319.5259 19005.5001,-319.5259\"/>\n</g>\n<!-- 236 -->\n<g id=\"node237\" class=\"node\">\n<title>236</title>\n<path fill=\"#ea9a60\" stroke=\"#000000\" d=\"M19224,-309.5C19224,-309.5 19104,-309.5 19104,-309.5 19098,-309.5 19092,-303.5 19092,-297.5 19092,-297.5 19092,-268.5 19092,-268.5 19092,-262.5 19098,-256.5 19104,-256.5 19104,-256.5 19224,-256.5 19224,-256.5 19230,-256.5 19236,-262.5 19236,-268.5 19236,-268.5 19236,-297.5 19236,-297.5 19236,-303.5 19230,-309.5 19224,-309.5\"/>\n<text text-anchor=\"start\" x=\"19100\" y=\"-294.3\" font-family=\"Helvetica,sans-Serif\" font-size=\"14.00\" fill=\"#000000\">squared_error = 0.0</text>\n<text text-anchor=\"start\" x=\"19120\" y=\"-279.3\" font-family=\"Helvetica,sans-Serif\" font-size=\"14.00\" fill=\"#000000\">samples = 81</text>\n<text text-anchor=\"start\" x=\"19124\" y=\"-264.3\" font-family=\"Helvetica,sans-Serif\" font-size=\"14.00\" fill=\"#000000\">value = 42.0</text>\n</g>\n<!-- 235&#45;&gt;236 -->\n<g id=\"edge236\" class=\"edge\">\n<title>235&#45;&gt;236</title>\n<path fill=\"none\" stroke=\"#000000\" d=\"M19164,-6921.9562C19164,-6642.1492 19164,-4732 19164,-4732 19164,-4732 19164,-4732 19164,-2507 19164,-2507 19164,-609.559 19164,-319.8949\"/>\n<polygon fill=\"#000000\" stroke=\"#000000\" points=\"19167.5001,-319.5259 19164,-309.5259 19160.5001,-319.5259 19167.5001,-319.5259\"/>\n</g>\n<!-- 237 -->\n<g id=\"node238\" class=\"node\">\n<title>237</title>\n<path fill=\"#ea995e\" stroke=\"#000000\" d=\"M19386,-309.5C19386,-309.5 19266,-309.5 19266,-309.5 19260,-309.5 19254,-303.5 19254,-297.5 19254,-297.5 19254,-268.5 19254,-268.5 19254,-262.5 19260,-256.5 19266,-256.5 19266,-256.5 19386,-256.5 19386,-256.5 19392,-256.5 19398,-262.5 19398,-268.5 19398,-268.5 19398,-297.5 19398,-297.5 19398,-303.5 19392,-309.5 19386,-309.5\"/>\n<text text-anchor=\"start\" x=\"19262\" y=\"-294.3\" font-family=\"Helvetica,sans-Serif\" font-size=\"14.00\" fill=\"#000000\">squared_error = 0.0</text>\n<text text-anchor=\"start\" x=\"19278\" y=\"-279.3\" font-family=\"Helvetica,sans-Serif\" font-size=\"14.00\" fill=\"#000000\">samples = 108</text>\n<text text-anchor=\"start\" x=\"19286\" y=\"-264.3\" font-family=\"Helvetica,sans-Serif\" font-size=\"14.00\" fill=\"#000000\">value = 43.0</text>\n</g>\n<!-- 235&#45;&gt;237 -->\n<g id=\"edge237\" class=\"edge\">\n<title>235&#45;&gt;237</title>\n<path fill=\"none\" stroke=\"#000000\" d=\"M19166.4798,-6921.9562C19186.8614,-6642.1492 19326,-4732 19326,-4732 19326,-4732 19326,-4732 19326,-2507 19326,-2507 19326,-609.559 19326,-319.8949\"/>\n<polygon fill=\"#000000\" stroke=\"#000000\" points=\"19329.5001,-319.5259 19326,-309.5259 19322.5001,-319.5259 19329.5001,-319.5259\"/>\n</g>\n<!-- 239 -->\n<g id=\"node240\" class=\"node\">\n<title>239</title>\n<path fill=\"#e99457\" stroke=\"#000000\" d=\"M20314,-9214C20314,-9214 20120,-9214 20120,-9214 20114,-9214 20108,-9208 20108,-9202 20108,-9202 20108,-9158 20108,-9158 20108,-9152 20114,-9146 20120,-9146 20120,-9146 20314,-9146 20314,-9146 20320,-9146 20326,-9152 20326,-9158 20326,-9158 20326,-9202 20326,-9202 20326,-9208 20320,-9214 20314,-9214\"/>\n<text text-anchor=\"start\" x=\"20116\" y=\"-9198.8\" font-family=\"Helvetica,sans-Serif\" font-size=\"14.00\" fill=\"#000000\">lastReportedSpeedMPH ≤ 48.5</text>\n<text text-anchor=\"start\" x=\"20149\" y=\"-9183.8\" font-family=\"Helvetica,sans-Serif\" font-size=\"14.00\" fill=\"#000000\">squared_error = 8.48</text>\n<text text-anchor=\"start\" x=\"20169\" y=\"-9168.8\" font-family=\"Helvetica,sans-Serif\" font-size=\"14.00\" fill=\"#000000\">samples = 997</text>\n<text text-anchor=\"start\" x=\"20173\" y=\"-9153.8\" font-family=\"Helvetica,sans-Serif\" font-size=\"14.00\" fill=\"#000000\">value = 48.51</text>\n</g>\n<!-- 238&#45;&gt;239 -->\n<g id=\"edge239\" class=\"edge\">\n<title>238&#45;&gt;239</title>\n<path fill=\"none\" stroke=\"#000000\" d=\"M20217,-10257.8074C20217,-10095.8403 20217,-9406.0904 20217,-9224.1472\"/>\n<polygon fill=\"#000000\" stroke=\"#000000\" points=\"20220.5001,-9224.1328 20217,-9214.1328 20213.5001,-9224.1329 20220.5001,-9224.1328\"/>\n</g>\n<!-- 260 -->\n<g id=\"node261\" class=\"node\">\n<title>260</title>\n<path fill=\"#e78946\" stroke=\"#000000\" d=\"M21751,-9214C21751,-9214 21557,-9214 21557,-9214 21551,-9214 21545,-9208 21545,-9202 21545,-9202 21545,-9158 21545,-9158 21545,-9152 21551,-9146 21557,-9146 21557,-9146 21751,-9146 21751,-9146 21757,-9146 21763,-9152 21763,-9158 21763,-9158 21763,-9202 21763,-9202 21763,-9208 21757,-9214 21751,-9214\"/>\n<text text-anchor=\"start\" x=\"21553\" y=\"-9198.8\" font-family=\"Helvetica,sans-Serif\" font-size=\"14.00\" fill=\"#000000\">lastReportedSpeedMPH ≤ 62.5</text>\n<text text-anchor=\"start\" x=\"21581.5\" y=\"-9183.8\" font-family=\"Helvetica,sans-Serif\" font-size=\"14.00\" fill=\"#000000\">squared_error = 19.83</text>\n<text text-anchor=\"start\" x=\"21606\" y=\"-9168.8\" font-family=\"Helvetica,sans-Serif\" font-size=\"14.00\" fill=\"#000000\">samples = 379</text>\n<text text-anchor=\"start\" x=\"21610\" y=\"-9153.8\" font-family=\"Helvetica,sans-Serif\" font-size=\"14.00\" fill=\"#000000\">value = 60.16</text>\n</g>\n<!-- 238&#45;&gt;260 -->\n<g id=\"edge260\" class=\"edge\">\n<title>238&#45;&gt;260</title>\n<path fill=\"none\" stroke=\"#000000\" d=\"M20261.1859,-10257.8074C20471.9491,-10094.7116 21374.2871,-9396.4515 21601.7695,-9220.4178\"/>\n<polygon fill=\"#000000\" stroke=\"#000000\" points=\"21604.1247,-9223.0208 21609.8913,-9214.1328 21599.8407,-9217.4848 21604.1247,-9223.0208\"/>\n</g>\n<!-- 240 -->\n<g id=\"node241\" class=\"node\">\n<title>240</title>\n<path fill=\"#e9965a\" stroke=\"#000000\" d=\"M20152,-8102C20152,-8102 19958,-8102 19958,-8102 19952,-8102 19946,-8096 19946,-8090 19946,-8090 19946,-8046 19946,-8046 19946,-8040 19952,-8034 19958,-8034 19958,-8034 20152,-8034 20152,-8034 20158,-8034 20164,-8040 20164,-8046 20164,-8046 20164,-8090 20164,-8090 20164,-8096 20158,-8102 20152,-8102\"/>\n<text text-anchor=\"start\" x=\"19954\" y=\"-8086.8\" font-family=\"Helvetica,sans-Serif\" font-size=\"14.00\" fill=\"#000000\">lastReportedSpeedMPH ≤ 46.5</text>\n<text text-anchor=\"start\" x=\"19987\" y=\"-8071.8\" font-family=\"Helvetica,sans-Serif\" font-size=\"14.00\" fill=\"#000000\">squared_error = 2.03</text>\n<text text-anchor=\"start\" x=\"20007\" y=\"-8056.8\" font-family=\"Helvetica,sans-Serif\" font-size=\"14.00\" fill=\"#000000\">samples = 502</text>\n<text text-anchor=\"start\" x=\"20011\" y=\"-8041.8\" font-family=\"Helvetica,sans-Serif\" font-size=\"14.00\" fill=\"#000000\">value = 46.08</text>\n</g>\n<!-- 239&#45;&gt;240 -->\n<g id=\"edge240\" class=\"edge\">\n<title>239&#45;&gt;240</title>\n<path fill=\"none\" stroke=\"#000000\" d=\"M20212.0187,-9145.8074C20188.4228,-8983.8403 20087.9376,-8294.0904 20061.4315,-8112.1472\"/>\n<polygon fill=\"#000000\" stroke=\"#000000\" points=\"20064.8777,-8111.5238 20059.9726,-8102.1328 20057.9509,-8112.533 20064.8777,-8111.5238\"/>\n</g>\n<!-- 249 -->\n<g id=\"node250\" class=\"node\">\n<title>249</title>\n<path fill=\"#e89253\" stroke=\"#000000\" d=\"M20486,-8102C20486,-8102 20292,-8102 20292,-8102 20286,-8102 20280,-8096 20280,-8090 20280,-8090 20280,-8046 20280,-8046 20280,-8040 20286,-8034 20292,-8034 20292,-8034 20486,-8034 20486,-8034 20492,-8034 20498,-8040 20498,-8046 20498,-8046 20498,-8090 20498,-8090 20498,-8096 20492,-8102 20486,-8102\"/>\n<text text-anchor=\"start\" x=\"20288\" y=\"-8086.8\" font-family=\"Helvetica,sans-Serif\" font-size=\"14.00\" fill=\"#000000\">lastReportedSpeedMPH ≤ 51.5</text>\n<text text-anchor=\"start\" x=\"20321\" y=\"-8071.8\" font-family=\"Helvetica,sans-Serif\" font-size=\"14.00\" fill=\"#000000\">squared_error = 3.01</text>\n<text text-anchor=\"start\" x=\"20341\" y=\"-8056.8\" font-family=\"Helvetica,sans-Serif\" font-size=\"14.00\" fill=\"#000000\">samples = 495</text>\n<text text-anchor=\"start\" x=\"20345\" y=\"-8041.8\" font-family=\"Helvetica,sans-Serif\" font-size=\"14.00\" fill=\"#000000\">value = 50.97</text>\n</g>\n<!-- 239&#45;&gt;249 -->\n<g id=\"edge249\" class=\"edge\">\n<title>239&#45;&gt;249</title>\n<path fill=\"none\" stroke=\"#000000\" d=\"M20222.2888,-9145.8074C20247.3412,-8983.8403 20354.0292,-8294.0904 20382.1715,-8112.1472\"/>\n<polygon fill=\"#000000\" stroke=\"#000000\" points=\"20385.6507,-8112.5504 20383.7205,-8102.1328 20378.7329,-8111.4803 20385.6507,-8112.5504\"/>\n</g>\n<!-- 241 -->\n<g id=\"node242\" class=\"node\">\n<title>241</title>\n<path fill=\"#ea975c\" stroke=\"#000000\" d=\"M19828,-6990C19828,-6990 19634,-6990 19634,-6990 19628,-6990 19622,-6984 19622,-6978 19622,-6978 19622,-6934 19622,-6934 19622,-6928 19628,-6922 19634,-6922 19634,-6922 19828,-6922 19828,-6922 19834,-6922 19840,-6928 19840,-6934 19840,-6934 19840,-6978 19840,-6978 19840,-6984 19834,-6990 19828,-6990\"/>\n<text text-anchor=\"start\" x=\"19630\" y=\"-6974.8\" font-family=\"Helvetica,sans-Serif\" font-size=\"14.00\" fill=\"#000000\">lastReportedSpeedMPH ≤ 44.5</text>\n<text text-anchor=\"start\" x=\"19667\" y=\"-6959.8\" font-family=\"Helvetica,sans-Serif\" font-size=\"14.00\" fill=\"#000000\">squared_error = 0.7</text>\n<text text-anchor=\"start\" x=\"19683\" y=\"-6944.8\" font-family=\"Helvetica,sans-Serif\" font-size=\"14.00\" fill=\"#000000\">samples = 284</text>\n<text text-anchor=\"start\" x=\"19691\" y=\"-6929.8\" font-family=\"Helvetica,sans-Serif\" font-size=\"14.00\" fill=\"#000000\">value = 45.0</text>\n</g>\n<!-- 240&#45;&gt;241 -->\n<g id=\"edge241\" class=\"edge\">\n<title>240&#45;&gt;241</title>\n<path fill=\"none\" stroke=\"#000000\" d=\"M20045.0374,-8033.8074C19997.8221,-7871.7597 19796.6751,-7181.4036 19743.784,-6999.8758\"/>\n<polygon fill=\"#000000\" stroke=\"#000000\" points=\"19747.1029,-6998.7545 19740.9452,-6990.1328 19740.3823,-7000.7127 19747.1029,-6998.7545\"/>\n</g>\n<!-- 246 -->\n<g id=\"node247\" class=\"node\">\n<title>246</title>\n<path fill=\"#e99558\" stroke=\"#000000\" d=\"M20152,-6990C20152,-6990 19958,-6990 19958,-6990 19952,-6990 19946,-6984 19946,-6978 19946,-6978 19946,-6934 19946,-6934 19946,-6928 19952,-6922 19958,-6922 19958,-6922 20152,-6922 20152,-6922 20158,-6922 20164,-6928 20164,-6934 20164,-6934 20164,-6978 20164,-6978 20164,-6984 20158,-6990 20152,-6990\"/>\n<text text-anchor=\"start\" x=\"19954\" y=\"-6974.8\" font-family=\"Helvetica,sans-Serif\" font-size=\"14.00\" fill=\"#000000\">lastReportedSpeedMPH ≤ 47.5</text>\n<text text-anchor=\"start\" x=\"19987\" y=\"-6959.8\" font-family=\"Helvetica,sans-Serif\" font-size=\"14.00\" fill=\"#000000\">squared_error = 0.25</text>\n<text text-anchor=\"start\" x=\"20007\" y=\"-6944.8\" font-family=\"Helvetica,sans-Serif\" font-size=\"14.00\" fill=\"#000000\">samples = 218</text>\n<text text-anchor=\"start\" x=\"20015\" y=\"-6929.8\" font-family=\"Helvetica,sans-Serif\" font-size=\"14.00\" fill=\"#000000\">value = 47.5</text>\n</g>\n<!-- 240&#45;&gt;246 -->\n<g id=\"edge246\" class=\"edge\">\n<title>240&#45;&gt;246</title>\n<path fill=\"none\" stroke=\"#000000\" d=\"M20055,-8033.8074C20055,-7871.8403 20055,-7182.0904 20055,-7000.1472\"/>\n<polygon fill=\"#000000\" stroke=\"#000000\" points=\"20058.5001,-7000.1328 20055,-6990.1328 20051.5001,-7000.1329 20058.5001,-7000.1328\"/>\n</g>\n<!-- 242 -->\n<g id=\"node243\" class=\"node\">\n<title>242</title>\n<path fill=\"#ea985d\" stroke=\"#000000\" d=\"M19548,-309.5C19548,-309.5 19428,-309.5 19428,-309.5 19422,-309.5 19416,-303.5 19416,-297.5 19416,-297.5 19416,-268.5 19416,-268.5 19416,-262.5 19422,-256.5 19428,-256.5 19428,-256.5 19548,-256.5 19548,-256.5 19554,-256.5 19560,-262.5 19560,-268.5 19560,-268.5 19560,-297.5 19560,-297.5 19560,-303.5 19554,-309.5 19548,-309.5\"/>\n<text text-anchor=\"start\" x=\"19424\" y=\"-294.3\" font-family=\"Helvetica,sans-Serif\" font-size=\"14.00\" fill=\"#000000\">squared_error = 0.0</text>\n<text text-anchor=\"start\" x=\"19444\" y=\"-279.3\" font-family=\"Helvetica,sans-Serif\" font-size=\"14.00\" fill=\"#000000\">samples = 99</text>\n<text text-anchor=\"start\" x=\"19448\" y=\"-264.3\" font-family=\"Helvetica,sans-Serif\" font-size=\"14.00\" fill=\"#000000\">value = 44.0</text>\n</g>\n<!-- 241&#45;&gt;242 -->\n<g id=\"edge242\" class=\"edge\">\n<title>241&#45;&gt;242</title>\n<path fill=\"none\" stroke=\"#000000\" d=\"M19726.421,-6921.9572C19701.7738,-6738.7183 19586,-5878 19586,-5878 19586,-5878 19488,-4732 19488,-4732 19488,-4732 19488,-4732 19488,-2507 19488,-2507 19488,-609.559 19488,-319.8949\"/>\n<polygon fill=\"#000000\" stroke=\"#000000\" points=\"19491.5001,-319.5259 19488,-309.5259 19484.5001,-319.5259 19491.5001,-319.5259\"/>\n</g>\n<!-- 243 -->\n<g id=\"node244\" class=\"node\">\n<title>243</title>\n<path fill=\"#e9975b\" stroke=\"#000000\" d=\"M19854.5,-5878C19854.5,-5878 19607.5,-5878 19607.5,-5878 19601.5,-5878 19595.5,-5872 19595.5,-5866 19595.5,-5866 19595.5,-5822 19595.5,-5822 19595.5,-5816 19601.5,-5810 19607.5,-5810 19607.5,-5810 19854.5,-5810 19854.5,-5810 19860.5,-5810 19866.5,-5816 19866.5,-5822 19866.5,-5822 19866.5,-5866 19866.5,-5866 19866.5,-5872 19860.5,-5878 19854.5,-5878\"/>\n<text text-anchor=\"start\" x=\"19603.5\" y=\"-5862.8\" font-family=\"Helvetica,sans-Serif\" font-size=\"14.00\" fill=\"#000000\">lastReportedPosition.speedMPH ≤ 45.5</text>\n<text text-anchor=\"start\" x=\"19663\" y=\"-5847.8\" font-family=\"Helvetica,sans-Serif\" font-size=\"14.00\" fill=\"#000000\">squared_error = 0.25</text>\n<text text-anchor=\"start\" x=\"19683\" y=\"-5832.8\" font-family=\"Helvetica,sans-Serif\" font-size=\"14.00\" fill=\"#000000\">samples = 185</text>\n<text text-anchor=\"start\" x=\"19687\" y=\"-5817.8\" font-family=\"Helvetica,sans-Serif\" font-size=\"14.00\" fill=\"#000000\">value = 45.54</text>\n</g>\n<!-- 241&#45;&gt;243 -->\n<g id=\"edge243\" class=\"edge\">\n<title>241&#45;&gt;243</title>\n<path fill=\"none\" stroke=\"#000000\" d=\"M19731,-6921.8074C19731,-6759.8403 19731,-6070.0904 19731,-5888.1472\"/>\n<polygon fill=\"#000000\" stroke=\"#000000\" points=\"19734.5001,-5888.1328 19731,-5878.1328 19727.5001,-5888.1329 19734.5001,-5888.1328\"/>\n</g>\n<!-- 244 -->\n<g id=\"node245\" class=\"node\">\n<title>244</title>\n<path fill=\"#ea975c\" stroke=\"#000000\" d=\"M19710,-309.5C19710,-309.5 19590,-309.5 19590,-309.5 19584,-309.5 19578,-303.5 19578,-297.5 19578,-297.5 19578,-268.5 19578,-268.5 19578,-262.5 19584,-256.5 19590,-256.5 19590,-256.5 19710,-256.5 19710,-256.5 19716,-256.5 19722,-262.5 19722,-268.5 19722,-268.5 19722,-297.5 19722,-297.5 19722,-303.5 19716,-309.5 19710,-309.5\"/>\n<text text-anchor=\"start\" x=\"19586\" y=\"-294.3\" font-family=\"Helvetica,sans-Serif\" font-size=\"14.00\" fill=\"#000000\">squared_error = 0.0</text>\n<text text-anchor=\"start\" x=\"19606\" y=\"-279.3\" font-family=\"Helvetica,sans-Serif\" font-size=\"14.00\" fill=\"#000000\">samples = 86</text>\n<text text-anchor=\"start\" x=\"19610\" y=\"-264.3\" font-family=\"Helvetica,sans-Serif\" font-size=\"14.00\" fill=\"#000000\">value = 45.0</text>\n</g>\n<!-- 243&#45;&gt;244 -->\n<g id=\"edge244\" class=\"edge\">\n<title>243&#45;&gt;244</title>\n<path fill=\"none\" stroke=\"#000000\" d=\"M19729.7601,-5809.9409C19719.5693,-5530.0081 19650,-3619 19650,-3619 19650,-3619 19650,-3619 19650,-2507 19650,-2507 19650,-609.559 19650,-319.8949\"/>\n<polygon fill=\"#000000\" stroke=\"#000000\" points=\"19653.5001,-319.5259 19650,-309.5259 19646.5001,-319.5259 19653.5001,-319.5259\"/>\n</g>\n<!-- 245 -->\n<g id=\"node246\" class=\"node\">\n<title>245</title>\n<path fill=\"#e9965a\" stroke=\"#000000\" d=\"M19872,-309.5C19872,-309.5 19752,-309.5 19752,-309.5 19746,-309.5 19740,-303.5 19740,-297.5 19740,-297.5 19740,-268.5 19740,-268.5 19740,-262.5 19746,-256.5 19752,-256.5 19752,-256.5 19872,-256.5 19872,-256.5 19878,-256.5 19884,-262.5 19884,-268.5 19884,-268.5 19884,-297.5 19884,-297.5 19884,-303.5 19878,-309.5 19872,-309.5\"/>\n<text text-anchor=\"start\" x=\"19748\" y=\"-294.3\" font-family=\"Helvetica,sans-Serif\" font-size=\"14.00\" fill=\"#000000\">squared_error = 0.0</text>\n<text text-anchor=\"start\" x=\"19768\" y=\"-279.3\" font-family=\"Helvetica,sans-Serif\" font-size=\"14.00\" fill=\"#000000\">samples = 99</text>\n<text text-anchor=\"start\" x=\"19772\" y=\"-264.3\" font-family=\"Helvetica,sans-Serif\" font-size=\"14.00\" fill=\"#000000\">value = 46.0</text>\n</g>\n<!-- 243&#45;&gt;245 -->\n<g id=\"edge245\" class=\"edge\">\n<title>243&#45;&gt;245</title>\n<path fill=\"none\" stroke=\"#000000\" d=\"M19732.2399,-5809.9409C19742.4307,-5530.0081 19812,-3619 19812,-3619 19812,-3619 19812,-3619 19812,-2507 19812,-2507 19812,-609.559 19812,-319.8949\"/>\n<polygon fill=\"#000000\" stroke=\"#000000\" points=\"19815.5001,-319.5259 19812,-309.5259 19808.5001,-319.5259 19815.5001,-319.5259\"/>\n</g>\n<!-- 247 -->\n<g id=\"node248\" class=\"node\">\n<title>247</title>\n<path fill=\"#e99559\" stroke=\"#000000\" d=\"M20034,-309.5C20034,-309.5 19914,-309.5 19914,-309.5 19908,-309.5 19902,-303.5 19902,-297.5 19902,-297.5 19902,-268.5 19902,-268.5 19902,-262.5 19908,-256.5 19914,-256.5 19914,-256.5 20034,-256.5 20034,-256.5 20040,-256.5 20046,-262.5 20046,-268.5 20046,-268.5 20046,-297.5 20046,-297.5 20046,-303.5 20040,-309.5 20034,-309.5\"/>\n<text text-anchor=\"start\" x=\"19910\" y=\"-294.3\" font-family=\"Helvetica,sans-Serif\" font-size=\"14.00\" fill=\"#000000\">squared_error = 0.0</text>\n<text text-anchor=\"start\" x=\"19926\" y=\"-279.3\" font-family=\"Helvetica,sans-Serif\" font-size=\"14.00\" fill=\"#000000\">samples = 110</text>\n<text text-anchor=\"start\" x=\"19934\" y=\"-264.3\" font-family=\"Helvetica,sans-Serif\" font-size=\"14.00\" fill=\"#000000\">value = 47.0</text>\n</g>\n<!-- 246&#45;&gt;247 -->\n<g id=\"edge247\" class=\"edge\">\n<title>246&#45;&gt;247</title>\n<path fill=\"none\" stroke=\"#000000\" d=\"M20053.7601,-6921.9562C20043.5693,-6642.1492 19974,-4732 19974,-4732 19974,-4732 19974,-4732 19974,-2507 19974,-2507 19974,-609.559 19974,-319.8949\"/>\n<polygon fill=\"#000000\" stroke=\"#000000\" points=\"19977.5001,-319.5259 19974,-309.5259 19970.5001,-319.5259 19977.5001,-319.5259\"/>\n</g>\n<!-- 248 -->\n<g id=\"node249\" class=\"node\">\n<title>248</title>\n<path fill=\"#e99457\" stroke=\"#000000\" d=\"M20196,-309.5C20196,-309.5 20076,-309.5 20076,-309.5 20070,-309.5 20064,-303.5 20064,-297.5 20064,-297.5 20064,-268.5 20064,-268.5 20064,-262.5 20070,-256.5 20076,-256.5 20076,-256.5 20196,-256.5 20196,-256.5 20202,-256.5 20208,-262.5 20208,-268.5 20208,-268.5 20208,-297.5 20208,-297.5 20208,-303.5 20202,-309.5 20196,-309.5\"/>\n<text text-anchor=\"start\" x=\"20072\" y=\"-294.3\" font-family=\"Helvetica,sans-Serif\" font-size=\"14.00\" fill=\"#000000\">squared_error = 0.0</text>\n<text text-anchor=\"start\" x=\"20088\" y=\"-279.3\" font-family=\"Helvetica,sans-Serif\" font-size=\"14.00\" fill=\"#000000\">samples = 108</text>\n<text text-anchor=\"start\" x=\"20096\" y=\"-264.3\" font-family=\"Helvetica,sans-Serif\" font-size=\"14.00\" fill=\"#000000\">value = 48.0</text>\n</g>\n<!-- 246&#45;&gt;248 -->\n<g id=\"edge248\" class=\"edge\">\n<title>246&#45;&gt;248</title>\n<path fill=\"none\" stroke=\"#000000\" d=\"M20056.2399,-6921.9562C20066.4307,-6642.1492 20136,-4732 20136,-4732 20136,-4732 20136,-4732 20136,-2507 20136,-2507 20136,-609.559 20136,-319.8949\"/>\n<polygon fill=\"#000000\" stroke=\"#000000\" points=\"20139.5001,-319.5259 20136,-309.5259 20132.5001,-319.5259 20139.5001,-319.5259\"/>\n</g>\n<!-- 250 -->\n<g id=\"node251\" class=\"node\">\n<title>250</title>\n<path fill=\"#e99355\" stroke=\"#000000\" d=\"M20512.5,-6990C20512.5,-6990 20265.5,-6990 20265.5,-6990 20259.5,-6990 20253.5,-6984 20253.5,-6978 20253.5,-6978 20253.5,-6934 20253.5,-6934 20253.5,-6928 20259.5,-6922 20265.5,-6922 20265.5,-6922 20512.5,-6922 20512.5,-6922 20518.5,-6922 20524.5,-6928 20524.5,-6934 20524.5,-6934 20524.5,-6978 20524.5,-6978 20524.5,-6984 20518.5,-6990 20512.5,-6990\"/>\n<text text-anchor=\"start\" x=\"20261.5\" y=\"-6974.8\" font-family=\"Helvetica,sans-Serif\" font-size=\"14.00\" fill=\"#000000\">lastReportedPosition.speedMPH ≤ 49.5</text>\n<text text-anchor=\"start\" x=\"20321\" y=\"-6959.8\" font-family=\"Helvetica,sans-Serif\" font-size=\"14.00\" fill=\"#000000\">squared_error = 0.63</text>\n<text text-anchor=\"start\" x=\"20341\" y=\"-6944.8\" font-family=\"Helvetica,sans-Serif\" font-size=\"14.00\" fill=\"#000000\">samples = 319</text>\n<text text-anchor=\"start\" x=\"20345\" y=\"-6929.8\" font-family=\"Helvetica,sans-Serif\" font-size=\"14.00\" fill=\"#000000\">value = 49.83</text>\n</g>\n<!-- 249&#45;&gt;250 -->\n<g id=\"edge250\" class=\"edge\">\n<title>249&#45;&gt;250</title>\n<path fill=\"none\" stroke=\"#000000\" d=\"M20389,-8033.8074C20389,-7871.8403 20389,-7182.0904 20389,-7000.1472\"/>\n<polygon fill=\"#000000\" stroke=\"#000000\" points=\"20392.5001,-7000.1328 20389,-6990.1328 20385.5001,-7000.1329 20392.5001,-7000.1328\"/>\n</g>\n<!-- 255 -->\n<g id=\"node256\" class=\"node\">\n<title>255</title>\n<path fill=\"#e89050\" stroke=\"#000000\" d=\"M20987.5,-6990C20987.5,-6990 20740.5,-6990 20740.5,-6990 20734.5,-6990 20728.5,-6984 20728.5,-6978 20728.5,-6978 20728.5,-6934 20728.5,-6934 20728.5,-6928 20734.5,-6922 20740.5,-6922 20740.5,-6922 20987.5,-6922 20987.5,-6922 20993.5,-6922 20999.5,-6928 20999.5,-6934 20999.5,-6934 20999.5,-6978 20999.5,-6978 20999.5,-6984 20993.5,-6990 20987.5,-6990\"/>\n<text text-anchor=\"start\" x=\"20736.5\" y=\"-6974.8\" font-family=\"Helvetica,sans-Serif\" font-size=\"14.00\" fill=\"#000000\">lastReportedPosition.speedMPH ≤ 53.5</text>\n<text text-anchor=\"start\" x=\"20796\" y=\"-6959.8\" font-family=\"Helvetica,sans-Serif\" font-size=\"14.00\" fill=\"#000000\">squared_error = 0.67</text>\n<text text-anchor=\"start\" x=\"20816\" y=\"-6944.8\" font-family=\"Helvetica,sans-Serif\" font-size=\"14.00\" fill=\"#000000\">samples = 176</text>\n<text text-anchor=\"start\" x=\"20820\" y=\"-6929.8\" font-family=\"Helvetica,sans-Serif\" font-size=\"14.00\" fill=\"#000000\">value = 53.04</text>\n</g>\n<!-- 249&#45;&gt;255 -->\n<g id=\"edge255\" class=\"edge\">\n<title>249&#45;&gt;255</title>\n<path fill=\"none\" stroke=\"#000000\" d=\"M20403.6057,-8033.8074C20472.8945,-7871.5985 20768.3041,-7180.0292 20845.4889,-6999.3355\"/>\n<polygon fill=\"#000000\" stroke=\"#000000\" points=\"20848.7103,-7000.7039 20849.4199,-6990.1328 20842.273,-6997.9541 20848.7103,-7000.7039\"/>\n</g>\n<!-- 251 -->\n<g id=\"node252\" class=\"node\">\n<title>251</title>\n<path fill=\"#e99356\" stroke=\"#000000\" d=\"M20358,-309.5C20358,-309.5 20238,-309.5 20238,-309.5 20232,-309.5 20226,-303.5 20226,-297.5 20226,-297.5 20226,-268.5 20226,-268.5 20226,-262.5 20232,-256.5 20238,-256.5 20238,-256.5 20358,-256.5 20358,-256.5 20364,-256.5 20370,-262.5 20370,-268.5 20370,-268.5 20370,-297.5 20370,-297.5 20370,-303.5 20364,-309.5 20358,-309.5\"/>\n<text text-anchor=\"start\" x=\"20234\" y=\"-294.3\" font-family=\"Helvetica,sans-Serif\" font-size=\"14.00\" fill=\"#000000\">squared_error = 0.0</text>\n<text text-anchor=\"start\" x=\"20250\" y=\"-279.3\" font-family=\"Helvetica,sans-Serif\" font-size=\"14.00\" fill=\"#000000\">samples = 132</text>\n<text text-anchor=\"start\" x=\"20258\" y=\"-264.3\" font-family=\"Helvetica,sans-Serif\" font-size=\"14.00\" fill=\"#000000\">value = 49.0</text>\n</g>\n<!-- 250&#45;&gt;251 -->\n<g id=\"edge251\" class=\"edge\">\n<title>250&#45;&gt;251</title>\n<path fill=\"none\" stroke=\"#000000\" d=\"M20387.5158,-6921.9572C20379.5267,-6738.7183 20342,-5878 20342,-5878 20342,-5878 20298,-4732 20298,-4732 20298,-4732 20298,-4732 20298,-2507 20298,-2507 20298,-609.559 20298,-319.8949\"/>\n<polygon fill=\"#000000\" stroke=\"#000000\" points=\"20301.5001,-319.5259 20298,-309.5259 20294.5001,-319.5259 20301.5001,-319.5259\"/>\n</g>\n<!-- 252 -->\n<g id=\"node253\" class=\"node\">\n<title>252</title>\n<path fill=\"#e99254\" stroke=\"#000000\" d=\"M20557,-5878C20557,-5878 20363,-5878 20363,-5878 20357,-5878 20351,-5872 20351,-5866 20351,-5866 20351,-5822 20351,-5822 20351,-5816 20357,-5810 20363,-5810 20363,-5810 20557,-5810 20557,-5810 20563,-5810 20569,-5816 20569,-5822 20569,-5822 20569,-5866 20569,-5866 20569,-5872 20563,-5878 20557,-5878\"/>\n<text text-anchor=\"start\" x=\"20359\" y=\"-5862.8\" font-family=\"Helvetica,sans-Serif\" font-size=\"14.00\" fill=\"#000000\">lastReportedSpeedMPH ≤ 50.5</text>\n<text text-anchor=\"start\" x=\"20392\" y=\"-5847.8\" font-family=\"Helvetica,sans-Serif\" font-size=\"14.00\" fill=\"#000000\">squared_error = 0.24</text>\n<text text-anchor=\"start\" x=\"20412\" y=\"-5832.8\" font-family=\"Helvetica,sans-Serif\" font-size=\"14.00\" fill=\"#000000\">samples = 187</text>\n<text text-anchor=\"start\" x=\"20416\" y=\"-5817.8\" font-family=\"Helvetica,sans-Serif\" font-size=\"14.00\" fill=\"#000000\">value = 50.41</text>\n</g>\n<!-- 250&#45;&gt;252 -->\n<g id=\"edge252\" class=\"edge\">\n<title>250&#45;&gt;252</title>\n<path fill=\"none\" stroke=\"#000000\" d=\"M20391.1832,-6921.8074C20401.5246,-6759.8403 20445.5644,-6070.0904 20457.1813,-5888.1472\"/>\n<polygon fill=\"#000000\" stroke=\"#000000\" points=\"20460.6763,-5888.3356 20457.8207,-5878.1328 20453.6905,-5887.8895 20460.6763,-5888.3356\"/>\n</g>\n<!-- 253 -->\n<g id=\"node254\" class=\"node\">\n<title>253</title>\n<path fill=\"#e99355\" stroke=\"#000000\" d=\"M20520,-309.5C20520,-309.5 20400,-309.5 20400,-309.5 20394,-309.5 20388,-303.5 20388,-297.5 20388,-297.5 20388,-268.5 20388,-268.5 20388,-262.5 20394,-256.5 20400,-256.5 20400,-256.5 20520,-256.5 20520,-256.5 20526,-256.5 20532,-262.5 20532,-268.5 20532,-268.5 20532,-297.5 20532,-297.5 20532,-303.5 20526,-309.5 20520,-309.5\"/>\n<text text-anchor=\"start\" x=\"20396\" y=\"-294.3\" font-family=\"Helvetica,sans-Serif\" font-size=\"14.00\" fill=\"#000000\">squared_error = 0.0</text>\n<text text-anchor=\"start\" x=\"20412\" y=\"-279.3\" font-family=\"Helvetica,sans-Serif\" font-size=\"14.00\" fill=\"#000000\">samples = 110</text>\n<text text-anchor=\"start\" x=\"20420\" y=\"-264.3\" font-family=\"Helvetica,sans-Serif\" font-size=\"14.00\" fill=\"#000000\">value = 50.0</text>\n</g>\n<!-- 252&#45;&gt;253 -->\n<g id=\"edge253\" class=\"edge\">\n<title>252&#45;&gt;253</title>\n<path fill=\"none\" stroke=\"#000000\" d=\"M20460,-5809.9409C20460,-5530.0081 20460,-3619 20460,-3619 20460,-3619 20460,-3619 20460,-2507 20460,-2507 20460,-609.559 20460,-319.8949\"/>\n<polygon fill=\"#000000\" stroke=\"#000000\" points=\"20463.5001,-319.5259 20460,-309.5259 20456.5001,-319.5259 20463.5001,-319.5259\"/>\n</g>\n<!-- 254 -->\n<g id=\"node255\" class=\"node\">\n<title>254</title>\n<path fill=\"#e89253\" stroke=\"#000000\" d=\"M20682,-309.5C20682,-309.5 20562,-309.5 20562,-309.5 20556,-309.5 20550,-303.5 20550,-297.5 20550,-297.5 20550,-268.5 20550,-268.5 20550,-262.5 20556,-256.5 20562,-256.5 20562,-256.5 20682,-256.5 20682,-256.5 20688,-256.5 20694,-262.5 20694,-268.5 20694,-268.5 20694,-297.5 20694,-297.5 20694,-303.5 20688,-309.5 20682,-309.5\"/>\n<text text-anchor=\"start\" x=\"20558\" y=\"-294.3\" font-family=\"Helvetica,sans-Serif\" font-size=\"14.00\" fill=\"#000000\">squared_error = 0.0</text>\n<text text-anchor=\"start\" x=\"20578\" y=\"-279.3\" font-family=\"Helvetica,sans-Serif\" font-size=\"14.00\" fill=\"#000000\">samples = 77</text>\n<text text-anchor=\"start\" x=\"20582\" y=\"-264.3\" font-family=\"Helvetica,sans-Serif\" font-size=\"14.00\" fill=\"#000000\">value = 51.0</text>\n</g>\n<!-- 252&#45;&gt;254 -->\n<g id=\"edge254\" class=\"edge\">\n<title>252&#45;&gt;254</title>\n<path fill=\"none\" stroke=\"#000000\" d=\"M20462.4798,-5809.9409C20482.8614,-5530.0081 20622,-3619 20622,-3619 20622,-3619 20622,-3619 20622,-2507 20622,-2507 20622,-609.559 20622,-319.8949\"/>\n<polygon fill=\"#000000\" stroke=\"#000000\" points=\"20625.5001,-319.5259 20622,-309.5259 20618.5001,-319.5259 20625.5001,-319.5259\"/>\n</g>\n<!-- 256 -->\n<g id=\"node257\" class=\"node\">\n<title>256</title>\n<path fill=\"#e89051\" stroke=\"#000000\" d=\"M20987.5,-5878C20987.5,-5878 20740.5,-5878 20740.5,-5878 20734.5,-5878 20728.5,-5872 20728.5,-5866 20728.5,-5866 20728.5,-5822 20728.5,-5822 20728.5,-5816 20734.5,-5810 20740.5,-5810 20740.5,-5810 20987.5,-5810 20987.5,-5810 20993.5,-5810 20999.5,-5816 20999.5,-5822 20999.5,-5822 20999.5,-5866 20999.5,-5866 20999.5,-5872 20993.5,-5878 20987.5,-5878\"/>\n<text text-anchor=\"start\" x=\"20736.5\" y=\"-5862.8\" font-family=\"Helvetica,sans-Serif\" font-size=\"14.00\" fill=\"#000000\">lastReportedPosition.speedMPH ≤ 52.5</text>\n<text text-anchor=\"start\" x=\"20796\" y=\"-5847.8\" font-family=\"Helvetica,sans-Serif\" font-size=\"14.00\" fill=\"#000000\">squared_error = 0.25</text>\n<text text-anchor=\"start\" x=\"20816\" y=\"-5832.8\" font-family=\"Helvetica,sans-Serif\" font-size=\"14.00\" fill=\"#000000\">samples = 113</text>\n<text text-anchor=\"start\" x=\"20824\" y=\"-5817.8\" font-family=\"Helvetica,sans-Serif\" font-size=\"14.00\" fill=\"#000000\">value = 52.5</text>\n</g>\n<!-- 255&#45;&gt;256 -->\n<g id=\"edge256\" class=\"edge\">\n<title>255&#45;&gt;256</title>\n<path fill=\"none\" stroke=\"#000000\" d=\"M20864,-6921.8074C20864,-6759.8403 20864,-6070.0904 20864,-5888.1472\"/>\n<polygon fill=\"#000000\" stroke=\"#000000\" points=\"20867.5001,-5888.1328 20864,-5878.1328 20860.5001,-5888.1329 20867.5001,-5888.1328\"/>\n</g>\n<!-- 259 -->\n<g id=\"node260\" class=\"node\">\n<title>259</title>\n<path fill=\"#e88f4f\" stroke=\"#000000\" d=\"M21168,-309.5C21168,-309.5 21048,-309.5 21048,-309.5 21042,-309.5 21036,-303.5 21036,-297.5 21036,-297.5 21036,-268.5 21036,-268.5 21036,-262.5 21042,-256.5 21048,-256.5 21048,-256.5 21168,-256.5 21168,-256.5 21174,-256.5 21180,-262.5 21180,-268.5 21180,-268.5 21180,-297.5 21180,-297.5 21180,-303.5 21174,-309.5 21168,-309.5\"/>\n<text text-anchor=\"start\" x=\"21044\" y=\"-294.3\" font-family=\"Helvetica,sans-Serif\" font-size=\"14.00\" fill=\"#000000\">squared_error = 0.0</text>\n<text text-anchor=\"start\" x=\"21064\" y=\"-279.3\" font-family=\"Helvetica,sans-Serif\" font-size=\"14.00\" fill=\"#000000\">samples = 63</text>\n<text text-anchor=\"start\" x=\"21068\" y=\"-264.3\" font-family=\"Helvetica,sans-Serif\" font-size=\"14.00\" fill=\"#000000\">value = 54.0</text>\n</g>\n<!-- 255&#45;&gt;259 -->\n<g id=\"edge259\" class=\"edge\">\n<title>255&#45;&gt;259</title>\n<path fill=\"none\" stroke=\"#000000\" d=\"M20868.5475,-6921.9572C20893.0246,-6738.7183 21008,-5878 21008,-5878 21008,-5878 21108,-4732 21108,-4732 21108,-4732 21108,-4732 21108,-2507 21108,-2507 21108,-609.559 21108,-319.8949\"/>\n<polygon fill=\"#000000\" stroke=\"#000000\" points=\"21111.5001,-319.5259 21108,-309.5259 21104.5001,-319.5259 21111.5001,-319.5259\"/>\n</g>\n<!-- 257 -->\n<g id=\"node258\" class=\"node\">\n<title>257</title>\n<path fill=\"#e89152\" stroke=\"#000000\" d=\"M20844,-309.5C20844,-309.5 20724,-309.5 20724,-309.5 20718,-309.5 20712,-303.5 20712,-297.5 20712,-297.5 20712,-268.5 20712,-268.5 20712,-262.5 20718,-256.5 20724,-256.5 20724,-256.5 20844,-256.5 20844,-256.5 20850,-256.5 20856,-262.5 20856,-268.5 20856,-268.5 20856,-297.5 20856,-297.5 20856,-303.5 20850,-309.5 20844,-309.5\"/>\n<text text-anchor=\"start\" x=\"20720\" y=\"-294.3\" font-family=\"Helvetica,sans-Serif\" font-size=\"14.00\" fill=\"#000000\">squared_error = 0.0</text>\n<text text-anchor=\"start\" x=\"20740\" y=\"-279.3\" font-family=\"Helvetica,sans-Serif\" font-size=\"14.00\" fill=\"#000000\">samples = 56</text>\n<text text-anchor=\"start\" x=\"20744\" y=\"-264.3\" font-family=\"Helvetica,sans-Serif\" font-size=\"14.00\" fill=\"#000000\">value = 52.0</text>\n</g>\n<!-- 256&#45;&gt;257 -->\n<g id=\"edge257\" class=\"edge\">\n<title>256&#45;&gt;257</title>\n<path fill=\"none\" stroke=\"#000000\" d=\"M20862.7754,-5809.9409C20852.7104,-5530.0081 20784,-3619 20784,-3619 20784,-3619 20784,-3619 20784,-2507 20784,-2507 20784,-609.559 20784,-319.8949\"/>\n<polygon fill=\"#000000\" stroke=\"#000000\" points=\"20787.5001,-319.5259 20784,-309.5259 20780.5001,-319.5259 20787.5001,-319.5259\"/>\n</g>\n<!-- 258 -->\n<g id=\"node259\" class=\"node\">\n<title>258</title>\n<path fill=\"#e89050\" stroke=\"#000000\" d=\"M21006,-309.5C21006,-309.5 20886,-309.5 20886,-309.5 20880,-309.5 20874,-303.5 20874,-297.5 20874,-297.5 20874,-268.5 20874,-268.5 20874,-262.5 20880,-256.5 20886,-256.5 20886,-256.5 21006,-256.5 21006,-256.5 21012,-256.5 21018,-262.5 21018,-268.5 21018,-268.5 21018,-297.5 21018,-297.5 21018,-303.5 21012,-309.5 21006,-309.5\"/>\n<text text-anchor=\"start\" x=\"20882\" y=\"-294.3\" font-family=\"Helvetica,sans-Serif\" font-size=\"14.00\" fill=\"#000000\">squared_error = 0.0</text>\n<text text-anchor=\"start\" x=\"20902\" y=\"-279.3\" font-family=\"Helvetica,sans-Serif\" font-size=\"14.00\" fill=\"#000000\">samples = 57</text>\n<text text-anchor=\"start\" x=\"20906\" y=\"-264.3\" font-family=\"Helvetica,sans-Serif\" font-size=\"14.00\" fill=\"#000000\">value = 53.0</text>\n</g>\n<!-- 256&#45;&gt;258 -->\n<g id=\"edge258\" class=\"edge\">\n<title>256&#45;&gt;258</title>\n<path fill=\"none\" stroke=\"#000000\" d=\"M20865.2552,-5809.9409C20875.5718,-5530.0081 20946,-3619 20946,-3619 20946,-3619 20946,-3619 20946,-2507 20946,-2507 20946,-609.559 20946,-319.8949\"/>\n<polygon fill=\"#000000\" stroke=\"#000000\" points=\"20949.5001,-319.5259 20946,-309.5259 20942.5001,-319.5259 20949.5001,-319.5259\"/>\n</g>\n<!-- 261 -->\n<g id=\"node262\" class=\"node\">\n<title>261</title>\n<path fill=\"#e78b49\" stroke=\"#000000\" d=\"M21777.5,-8102C21777.5,-8102 21530.5,-8102 21530.5,-8102 21524.5,-8102 21518.5,-8096 21518.5,-8090 21518.5,-8090 21518.5,-8046 21518.5,-8046 21518.5,-8040 21524.5,-8034 21530.5,-8034 21530.5,-8034 21777.5,-8034 21777.5,-8034 21783.5,-8034 21789.5,-8040 21789.5,-8046 21789.5,-8046 21789.5,-8090 21789.5,-8090 21789.5,-8096 21783.5,-8102 21777.5,-8102\"/>\n<text text-anchor=\"start\" x=\"21526.5\" y=\"-8086.8\" font-family=\"Helvetica,sans-Serif\" font-size=\"14.00\" fill=\"#000000\">lastReportedPosition.speedMPH ≤ 57.5</text>\n<text text-anchor=\"start\" x=\"21590\" y=\"-8071.8\" font-family=\"Helvetica,sans-Serif\" font-size=\"14.00\" fill=\"#000000\">squared_error = 4.0</text>\n<text text-anchor=\"start\" x=\"21606\" y=\"-8056.8\" font-family=\"Helvetica,sans-Serif\" font-size=\"14.00\" fill=\"#000000\">samples = 293</text>\n<text text-anchor=\"start\" x=\"21610\" y=\"-8041.8\" font-family=\"Helvetica,sans-Serif\" font-size=\"14.00\" fill=\"#000000\">value = 57.99</text>\n</g>\n<!-- 260&#45;&gt;261 -->\n<g id=\"edge261\" class=\"edge\">\n<title>260&#45;&gt;261</title>\n<path fill=\"none\" stroke=\"#000000\" d=\"M21654,-9145.8074C21654,-8983.8403 21654,-8294.0904 21654,-8112.1472\"/>\n<polygon fill=\"#000000\" stroke=\"#000000\" points=\"21657.5001,-8112.1328 21654,-8102.1328 21650.5001,-8112.1329 21657.5001,-8112.1328\"/>\n</g>\n<!-- 276 -->\n<g id=\"node277\" class=\"node\">\n<title>276</title>\n<path fill=\"#e5833c\" stroke=\"#000000\" d=\"M22693.5,-8102C22693.5,-8102 22446.5,-8102 22446.5,-8102 22440.5,-8102 22434.5,-8096 22434.5,-8090 22434.5,-8090 22434.5,-8046 22434.5,-8046 22434.5,-8040 22440.5,-8034 22446.5,-8034 22446.5,-8034 22693.5,-8034 22693.5,-8034 22699.5,-8034 22705.5,-8040 22705.5,-8046 22705.5,-8046 22705.5,-8090 22705.5,-8090 22705.5,-8096 22699.5,-8102 22693.5,-8102\"/>\n<text text-anchor=\"start\" x=\"22442.5\" y=\"-8086.8\" font-family=\"Helvetica,sans-Serif\" font-size=\"14.00\" fill=\"#000000\">lastReportedPosition.speedMPH ≤ 66.5</text>\n<text text-anchor=\"start\" x=\"22502\" y=\"-8071.8\" font-family=\"Helvetica,sans-Serif\" font-size=\"14.00\" fill=\"#000000\">squared_error = 3.55</text>\n<text text-anchor=\"start\" x=\"22526\" y=\"-8056.8\" font-family=\"Helvetica,sans-Serif\" font-size=\"14.00\" fill=\"#000000\">samples = 86</text>\n<text text-anchor=\"start\" x=\"22526\" y=\"-8041.8\" font-family=\"Helvetica,sans-Serif\" font-size=\"14.00\" fill=\"#000000\">value = 67.52</text>\n</g>\n<!-- 260&#45;&gt;276 -->\n<g id=\"edge276\" class=\"edge\">\n<title>260&#45;&gt;276</title>\n<path fill=\"none\" stroke=\"#000000\" d=\"M21682.1658,-9145.8074C21816.1161,-8983.1953 22388.292,-8288.5887 22535.4047,-8109.9978\"/>\n<polygon fill=\"#000000\" stroke=\"#000000\" points=\"22538.2268,-8112.0767 22541.8834,-8102.1328 22532.8238,-8107.626 22538.2268,-8112.0767\"/>\n</g>\n<!-- 262 -->\n<g id=\"node263\" class=\"node\">\n<title>262</title>\n<path fill=\"#e88d4c\" stroke=\"#000000\" d=\"M21617.5,-6990C21617.5,-6990 21370.5,-6990 21370.5,-6990 21364.5,-6990 21358.5,-6984 21358.5,-6978 21358.5,-6978 21358.5,-6934 21358.5,-6934 21358.5,-6928 21364.5,-6922 21370.5,-6922 21370.5,-6922 21617.5,-6922 21617.5,-6922 21623.5,-6922 21629.5,-6928 21629.5,-6934 21629.5,-6934 21629.5,-6978 21629.5,-6978 21629.5,-6984 21623.5,-6990 21617.5,-6990\"/>\n<text text-anchor=\"start\" x=\"21366.5\" y=\"-6974.8\" font-family=\"Helvetica,sans-Serif\" font-size=\"14.00\" fill=\"#000000\">lastReportedPosition.speedMPH ≤ 55.5</text>\n<text text-anchor=\"start\" x=\"21426\" y=\"-6959.8\" font-family=\"Helvetica,sans-Serif\" font-size=\"14.00\" fill=\"#000000\">squared_error = 0.64</text>\n<text text-anchor=\"start\" x=\"21446\" y=\"-6944.8\" font-family=\"Helvetica,sans-Serif\" font-size=\"14.00\" fill=\"#000000\">samples = 122</text>\n<text text-anchor=\"start\" x=\"21450\" y=\"-6929.8\" font-family=\"Helvetica,sans-Serif\" font-size=\"14.00\" fill=\"#000000\">value = 55.97</text>\n</g>\n<!-- 261&#45;&gt;262 -->\n<g id=\"edge262\" class=\"edge\">\n<title>261&#45;&gt;262</title>\n<path fill=\"none\" stroke=\"#000000\" d=\"M21649.0802,-8033.8074C21625.7756,-7871.8403 21526.531,-7182.0904 21500.3521,-7000.1472\"/>\n<polygon fill=\"#000000\" stroke=\"#000000\" points=\"21503.7998,-6999.5324 21498.9112,-6990.1328 21496.8711,-7000.5294 21503.7998,-6999.5324\"/>\n</g>\n<!-- 267 -->\n<g id=\"node268\" class=\"node\">\n<title>267</title>\n<path fill=\"#e78a47\" stroke=\"#000000\" d=\"M21937.5,-6990C21937.5,-6990 21690.5,-6990 21690.5,-6990 21684.5,-6990 21678.5,-6984 21678.5,-6978 21678.5,-6978 21678.5,-6934 21678.5,-6934 21678.5,-6928 21684.5,-6922 21690.5,-6922 21690.5,-6922 21937.5,-6922 21937.5,-6922 21943.5,-6922 21949.5,-6928 21949.5,-6934 21949.5,-6934 21949.5,-6978 21949.5,-6978 21949.5,-6984 21943.5,-6990 21937.5,-6990\"/>\n<text text-anchor=\"start\" x=\"21686.5\" y=\"-6974.8\" font-family=\"Helvetica,sans-Serif\" font-size=\"14.00\" fill=\"#000000\">lastReportedPosition.speedMPH ≤ 59.5</text>\n<text text-anchor=\"start\" x=\"21746\" y=\"-6959.8\" font-family=\"Helvetica,sans-Serif\" font-size=\"14.00\" fill=\"#000000\">squared_error = 1.38</text>\n<text text-anchor=\"start\" x=\"21766\" y=\"-6944.8\" font-family=\"Helvetica,sans-Serif\" font-size=\"14.00\" fill=\"#000000\">samples = 171</text>\n<text text-anchor=\"start\" x=\"21770\" y=\"-6929.8\" font-family=\"Helvetica,sans-Serif\" font-size=\"14.00\" fill=\"#000000\">value = 59.44</text>\n</g>\n<!-- 261&#45;&gt;267 -->\n<g id=\"edge267\" class=\"edge\">\n<title>261&#45;&gt;267</title>\n<path fill=\"none\" stroke=\"#000000\" d=\"M21658.9198,-8033.8074C21682.2244,-7871.8403 21781.469,-7182.0904 21807.6479,-7000.1472\"/>\n<polygon fill=\"#000000\" stroke=\"#000000\" points=\"21811.1289,-7000.5294 21809.0888,-6990.1328 21804.2002,-6999.5324 21811.1289,-7000.5294\"/>\n</g>\n<!-- 263 -->\n<g id=\"node264\" class=\"node\">\n<title>263</title>\n<path fill=\"#e88e4d\" stroke=\"#000000\" d=\"M21330,-309.5C21330,-309.5 21210,-309.5 21210,-309.5 21204,-309.5 21198,-303.5 21198,-297.5 21198,-297.5 21198,-268.5 21198,-268.5 21198,-262.5 21204,-256.5 21210,-256.5 21210,-256.5 21330,-256.5 21330,-256.5 21336,-256.5 21342,-262.5 21342,-268.5 21342,-268.5 21342,-297.5 21342,-297.5 21342,-303.5 21336,-309.5 21330,-309.5\"/>\n<text text-anchor=\"start\" x=\"21206\" y=\"-294.3\" font-family=\"Helvetica,sans-Serif\" font-size=\"14.00\" fill=\"#000000\">squared_error = 0.0</text>\n<text text-anchor=\"start\" x=\"21226\" y=\"-279.3\" font-family=\"Helvetica,sans-Serif\" font-size=\"14.00\" fill=\"#000000\">samples = 41</text>\n<text text-anchor=\"start\" x=\"21230\" y=\"-264.3\" font-family=\"Helvetica,sans-Serif\" font-size=\"14.00\" fill=\"#000000\">value = 55.0</text>\n</g>\n<!-- 262&#45;&gt;263 -->\n<g id=\"edge263\" class=\"edge\">\n<title>262&#45;&gt;263</title>\n<path fill=\"none\" stroke=\"#000000\" d=\"M21489.421,-6921.9572C21464.7738,-6738.7183 21349,-5878 21349,-5878 21349,-5878 21270,-4732 21270,-4732 21270,-4732 21270,-4732 21270,-2507 21270,-2507 21270,-609.559 21270,-319.8949\"/>\n<polygon fill=\"#000000\" stroke=\"#000000\" points=\"21273.5001,-319.5259 21270,-309.5259 21266.5001,-319.5259 21273.5001,-319.5259\"/>\n</g>\n<!-- 264 -->\n<g id=\"node265\" class=\"node\">\n<title>264</title>\n<path fill=\"#e78d4b\" stroke=\"#000000\" d=\"M21617.5,-5878C21617.5,-5878 21370.5,-5878 21370.5,-5878 21364.5,-5878 21358.5,-5872 21358.5,-5866 21358.5,-5866 21358.5,-5822 21358.5,-5822 21358.5,-5816 21364.5,-5810 21370.5,-5810 21370.5,-5810 21617.5,-5810 21617.5,-5810 21623.5,-5810 21629.5,-5816 21629.5,-5822 21629.5,-5822 21629.5,-5866 21629.5,-5866 21629.5,-5872 21623.5,-5878 21617.5,-5878\"/>\n<text text-anchor=\"start\" x=\"21366.5\" y=\"-5862.8\" font-family=\"Helvetica,sans-Serif\" font-size=\"14.00\" fill=\"#000000\">lastReportedPosition.speedMPH ≤ 56.5</text>\n<text text-anchor=\"start\" x=\"21426\" y=\"-5847.8\" font-family=\"Helvetica,sans-Serif\" font-size=\"14.00\" fill=\"#000000\">squared_error = 0.25</text>\n<text text-anchor=\"start\" x=\"21450\" y=\"-5832.8\" font-family=\"Helvetica,sans-Serif\" font-size=\"14.00\" fill=\"#000000\">samples = 81</text>\n<text text-anchor=\"start\" x=\"21450\" y=\"-5817.8\" font-family=\"Helvetica,sans-Serif\" font-size=\"14.00\" fill=\"#000000\">value = 56.46</text>\n</g>\n<!-- 262&#45;&gt;264 -->\n<g id=\"edge264\" class=\"edge\">\n<title>262&#45;&gt;264</title>\n<path fill=\"none\" stroke=\"#000000\" d=\"M21494,-6921.8074C21494,-6759.8403 21494,-6070.0904 21494,-5888.1472\"/>\n<polygon fill=\"#000000\" stroke=\"#000000\" points=\"21497.5001,-5888.1328 21494,-5878.1328 21490.5001,-5888.1329 21497.5001,-5888.1328\"/>\n</g>\n<!-- 265 -->\n<g id=\"node266\" class=\"node\">\n<title>265</title>\n<path fill=\"#e88d4c\" stroke=\"#000000\" d=\"M21492,-309.5C21492,-309.5 21372,-309.5 21372,-309.5 21366,-309.5 21360,-303.5 21360,-297.5 21360,-297.5 21360,-268.5 21360,-268.5 21360,-262.5 21366,-256.5 21372,-256.5 21372,-256.5 21492,-256.5 21492,-256.5 21498,-256.5 21504,-262.5 21504,-268.5 21504,-268.5 21504,-297.5 21504,-297.5 21504,-303.5 21498,-309.5 21492,-309.5\"/>\n<text text-anchor=\"start\" x=\"21368\" y=\"-294.3\" font-family=\"Helvetica,sans-Serif\" font-size=\"14.00\" fill=\"#000000\">squared_error = 0.0</text>\n<text text-anchor=\"start\" x=\"21388\" y=\"-279.3\" font-family=\"Helvetica,sans-Serif\" font-size=\"14.00\" fill=\"#000000\">samples = 44</text>\n<text text-anchor=\"start\" x=\"21392\" y=\"-264.3\" font-family=\"Helvetica,sans-Serif\" font-size=\"14.00\" fill=\"#000000\">value = 56.0</text>\n</g>\n<!-- 264&#45;&gt;265 -->\n<g id=\"edge265\" class=\"edge\">\n<title>264&#45;&gt;265</title>\n<path fill=\"none\" stroke=\"#000000\" d=\"M21493.0509,-5809.9409C21485.2506,-5530.0081 21432,-3619 21432,-3619 21432,-3619 21432,-3619 21432,-2507 21432,-2507 21432,-609.559 21432,-319.8949\"/>\n<polygon fill=\"#000000\" stroke=\"#000000\" points=\"21435.5001,-319.5259 21432,-309.5259 21428.5001,-319.5259 21435.5001,-319.5259\"/>\n</g>\n<!-- 266 -->\n<g id=\"node267\" class=\"node\">\n<title>266</title>\n<path fill=\"#e78c4b\" stroke=\"#000000\" d=\"M21654,-309.5C21654,-309.5 21534,-309.5 21534,-309.5 21528,-309.5 21522,-303.5 21522,-297.5 21522,-297.5 21522,-268.5 21522,-268.5 21522,-262.5 21528,-256.5 21534,-256.5 21534,-256.5 21654,-256.5 21654,-256.5 21660,-256.5 21666,-262.5 21666,-268.5 21666,-268.5 21666,-297.5 21666,-297.5 21666,-303.5 21660,-309.5 21654,-309.5\"/>\n<text text-anchor=\"start\" x=\"21530\" y=\"-294.3\" font-family=\"Helvetica,sans-Serif\" font-size=\"14.00\" fill=\"#000000\">squared_error = 0.0</text>\n<text text-anchor=\"start\" x=\"21550\" y=\"-279.3\" font-family=\"Helvetica,sans-Serif\" font-size=\"14.00\" fill=\"#000000\">samples = 37</text>\n<text text-anchor=\"start\" x=\"21554\" y=\"-264.3\" font-family=\"Helvetica,sans-Serif\" font-size=\"14.00\" fill=\"#000000\">value = 57.0</text>\n</g>\n<!-- 264&#45;&gt;266 -->\n<g id=\"edge266\" class=\"edge\">\n<title>264&#45;&gt;266</title>\n<path fill=\"none\" stroke=\"#000000\" d=\"M21495.5307,-5809.9409C21508.112,-5530.0081 21594,-3619 21594,-3619 21594,-3619 21594,-3619 21594,-2507 21594,-2507 21594,-609.559 21594,-319.8949\"/>\n<polygon fill=\"#000000\" stroke=\"#000000\" points=\"21597.5001,-319.5259 21594,-309.5259 21590.5001,-319.5259 21597.5001,-319.5259\"/>\n</g>\n<!-- 268 -->\n<g id=\"node269\" class=\"node\">\n<title>268</title>\n<path fill=\"#e78b48\" stroke=\"#000000\" d=\"M21911,-5878C21911,-5878 21717,-5878 21717,-5878 21711,-5878 21705,-5872 21705,-5866 21705,-5866 21705,-5822 21705,-5822 21705,-5816 21711,-5810 21717,-5810 21717,-5810 21911,-5810 21911,-5810 21917,-5810 21923,-5816 21923,-5822 21923,-5822 21923,-5866 21923,-5866 21923,-5872 21917,-5878 21911,-5878\"/>\n<text text-anchor=\"start\" x=\"21713\" y=\"-5862.8\" font-family=\"Helvetica,sans-Serif\" font-size=\"14.00\" fill=\"#000000\">lastReportedSpeedMPH ≤ 58.5</text>\n<text text-anchor=\"start\" x=\"21746\" y=\"-5847.8\" font-family=\"Helvetica,sans-Serif\" font-size=\"14.00\" fill=\"#000000\">squared_error = 0.24</text>\n<text text-anchor=\"start\" x=\"21766\" y=\"-5832.8\" font-family=\"Helvetica,sans-Serif\" font-size=\"14.00\" fill=\"#000000\">samples = 102</text>\n<text text-anchor=\"start\" x=\"21770\" y=\"-5817.8\" font-family=\"Helvetica,sans-Serif\" font-size=\"14.00\" fill=\"#000000\">value = 58.62</text>\n</g>\n<!-- 267&#45;&gt;268 -->\n<g id=\"edge268\" class=\"edge\">\n<title>267&#45;&gt;268</title>\n<path fill=\"none\" stroke=\"#000000\" d=\"M21814,-6921.8074C21814,-6759.8403 21814,-6070.0904 21814,-5888.1472\"/>\n<polygon fill=\"#000000\" stroke=\"#000000\" points=\"21817.5001,-5888.1328 21814,-5878.1328 21810.5001,-5888.1329 21817.5001,-5888.1328\"/>\n</g>\n<!-- 271 -->\n<g id=\"node272\" class=\"node\">\n<title>271</title>\n<path fill=\"#e78946\" stroke=\"#000000\" d=\"M22177,-5878C22177,-5878 21983,-5878 21983,-5878 21977,-5878 21971,-5872 21971,-5866 21971,-5866 21971,-5822 21971,-5822 21971,-5816 21977,-5810 21983,-5810 21983,-5810 22177,-5810 22177,-5810 22183,-5810 22189,-5816 22189,-5822 22189,-5822 22189,-5866 22189,-5866 22189,-5872 22183,-5878 22177,-5878\"/>\n<text text-anchor=\"start\" x=\"21979\" y=\"-5862.8\" font-family=\"Helvetica,sans-Serif\" font-size=\"14.00\" fill=\"#000000\">lastReportedSpeedMPH ≤ 60.5</text>\n<text text-anchor=\"start\" x=\"22016\" y=\"-5847.8\" font-family=\"Helvetica,sans-Serif\" font-size=\"14.00\" fill=\"#000000\">squared_error = 0.6</text>\n<text text-anchor=\"start\" x=\"22036\" y=\"-5832.8\" font-family=\"Helvetica,sans-Serif\" font-size=\"14.00\" fill=\"#000000\">samples = 69</text>\n<text text-anchor=\"start\" x=\"22036\" y=\"-5817.8\" font-family=\"Helvetica,sans-Serif\" font-size=\"14.00\" fill=\"#000000\">value = 60.65</text>\n</g>\n<!-- 267&#45;&gt;271 -->\n<g id=\"edge271\" class=\"edge\">\n<title>267&#45;&gt;271</title>\n<path fill=\"none\" stroke=\"#000000\" d=\"M21822.1792,-6921.8074C21860.9424,-6759.7597 22026.0815,-6069.4036 22069.5045,-5887.8758\"/>\n<polygon fill=\"#000000\" stroke=\"#000000\" points=\"22072.9126,-5888.6727 22071.8351,-5878.1328 22066.1046,-5887.0442 22072.9126,-5888.6727\"/>\n</g>\n<!-- 269 -->\n<g id=\"node270\" class=\"node\">\n<title>269</title>\n<path fill=\"#e78b49\" stroke=\"#000000\" d=\"M21816,-309.5C21816,-309.5 21696,-309.5 21696,-309.5 21690,-309.5 21684,-303.5 21684,-297.5 21684,-297.5 21684,-268.5 21684,-268.5 21684,-262.5 21690,-256.5 21696,-256.5 21696,-256.5 21816,-256.5 21816,-256.5 21822,-256.5 21828,-262.5 21828,-268.5 21828,-268.5 21828,-297.5 21828,-297.5 21828,-303.5 21822,-309.5 21816,-309.5\"/>\n<text text-anchor=\"start\" x=\"21692\" y=\"-294.3\" font-family=\"Helvetica,sans-Serif\" font-size=\"14.00\" fill=\"#000000\">squared_error = 0.0</text>\n<text text-anchor=\"start\" x=\"21712\" y=\"-279.3\" font-family=\"Helvetica,sans-Serif\" font-size=\"14.00\" fill=\"#000000\">samples = 39</text>\n<text text-anchor=\"start\" x=\"21716\" y=\"-264.3\" font-family=\"Helvetica,sans-Serif\" font-size=\"14.00\" fill=\"#000000\">value = 58.0</text>\n</g>\n<!-- 268&#45;&gt;269 -->\n<g id=\"edge269\" class=\"edge\">\n<title>268&#45;&gt;269</title>\n<path fill=\"none\" stroke=\"#000000\" d=\"M21813.1122,-5809.9409C21805.815,-5530.0081 21756,-3619 21756,-3619 21756,-3619 21756,-3619 21756,-2507 21756,-2507 21756,-609.559 21756,-319.8949\"/>\n<polygon fill=\"#000000\" stroke=\"#000000\" points=\"21759.5001,-319.5259 21756,-309.5259 21752.5001,-319.5259 21759.5001,-319.5259\"/>\n</g>\n<!-- 270 -->\n<g id=\"node271\" class=\"node\">\n<title>270</title>\n<path fill=\"#e78a48\" stroke=\"#000000\" d=\"M21978,-309.5C21978,-309.5 21858,-309.5 21858,-309.5 21852,-309.5 21846,-303.5 21846,-297.5 21846,-297.5 21846,-268.5 21846,-268.5 21846,-262.5 21852,-256.5 21858,-256.5 21858,-256.5 21978,-256.5 21978,-256.5 21984,-256.5 21990,-262.5 21990,-268.5 21990,-268.5 21990,-297.5 21990,-297.5 21990,-303.5 21984,-309.5 21978,-309.5\"/>\n<text text-anchor=\"start\" x=\"21854\" y=\"-294.3\" font-family=\"Helvetica,sans-Serif\" font-size=\"14.00\" fill=\"#000000\">squared_error = 0.0</text>\n<text text-anchor=\"start\" x=\"21874\" y=\"-279.3\" font-family=\"Helvetica,sans-Serif\" font-size=\"14.00\" fill=\"#000000\">samples = 63</text>\n<text text-anchor=\"start\" x=\"21878\" y=\"-264.3\" font-family=\"Helvetica,sans-Serif\" font-size=\"14.00\" fill=\"#000000\">value = 59.0</text>\n</g>\n<!-- 268&#45;&gt;270 -->\n<g id=\"edge270\" class=\"edge\">\n<title>268&#45;&gt;270</title>\n<path fill=\"none\" stroke=\"#000000\" d=\"M21815.592,-5809.9409C21828.6765,-5530.0081 21918,-3619 21918,-3619 21918,-3619 21918,-3619 21918,-2507 21918,-2507 21918,-609.559 21918,-319.8949\"/>\n<polygon fill=\"#000000\" stroke=\"#000000\" points=\"21921.5001,-319.5259 21918,-309.5259 21914.5001,-319.5259 21921.5001,-319.5259\"/>\n</g>\n<!-- 272 -->\n<g id=\"node273\" class=\"node\">\n<title>272</title>\n<path fill=\"#e78a46\" stroke=\"#000000\" d=\"M22140,-309.5C22140,-309.5 22020,-309.5 22020,-309.5 22014,-309.5 22008,-303.5 22008,-297.5 22008,-297.5 22008,-268.5 22008,-268.5 22008,-262.5 22014,-256.5 22020,-256.5 22020,-256.5 22140,-256.5 22140,-256.5 22146,-256.5 22152,-262.5 22152,-268.5 22152,-268.5 22152,-297.5 22152,-297.5 22152,-303.5 22146,-309.5 22140,-309.5\"/>\n<text text-anchor=\"start\" x=\"22016\" y=\"-294.3\" font-family=\"Helvetica,sans-Serif\" font-size=\"14.00\" fill=\"#000000\">squared_error = 0.0</text>\n<text text-anchor=\"start\" x=\"22036\" y=\"-279.3\" font-family=\"Helvetica,sans-Serif\" font-size=\"14.00\" fill=\"#000000\">samples = 37</text>\n<text text-anchor=\"start\" x=\"22040\" y=\"-264.3\" font-family=\"Helvetica,sans-Serif\" font-size=\"14.00\" fill=\"#000000\">value = 60.0</text>\n</g>\n<!-- 271&#45;&gt;272 -->\n<g id=\"edge272\" class=\"edge\">\n<title>271&#45;&gt;272</title>\n<path fill=\"none\" stroke=\"#000000\" d=\"M22080,-5809.9409C22080,-5530.0081 22080,-3619 22080,-3619 22080,-3619 22080,-3619 22080,-2507 22080,-2507 22080,-609.559 22080,-319.8949\"/>\n<polygon fill=\"#000000\" stroke=\"#000000\" points=\"22083.5001,-319.5259 22080,-309.5259 22076.5001,-319.5259 22083.5001,-319.5259\"/>\n</g>\n<!-- 273 -->\n<g id=\"node274\" class=\"node\">\n<title>273</title>\n<path fill=\"#e78844\" stroke=\"#000000\" d=\"M22367.5,-4766C22367.5,-4766 22120.5,-4766 22120.5,-4766 22114.5,-4766 22108.5,-4760 22108.5,-4754 22108.5,-4754 22108.5,-4710 22108.5,-4710 22108.5,-4704 22114.5,-4698 22120.5,-4698 22120.5,-4698 22367.5,-4698 22367.5,-4698 22373.5,-4698 22379.5,-4704 22379.5,-4710 22379.5,-4710 22379.5,-4754 22379.5,-4754 22379.5,-4760 22373.5,-4766 22367.5,-4766\"/>\n<text text-anchor=\"start\" x=\"22116.5\" y=\"-4750.8\" font-family=\"Helvetica,sans-Serif\" font-size=\"14.00\" fill=\"#000000\">lastReportedPosition.speedMPH ≤ 61.5</text>\n<text text-anchor=\"start\" x=\"22176\" y=\"-4735.8\" font-family=\"Helvetica,sans-Serif\" font-size=\"14.00\" fill=\"#000000\">squared_error = 0.24</text>\n<text text-anchor=\"start\" x=\"22200\" y=\"-4720.8\" font-family=\"Helvetica,sans-Serif\" font-size=\"14.00\" fill=\"#000000\">samples = 32</text>\n<text text-anchor=\"start\" x=\"22200\" y=\"-4705.8\" font-family=\"Helvetica,sans-Serif\" font-size=\"14.00\" fill=\"#000000\">value = 61.41</text>\n</g>\n<!-- 271&#45;&gt;273 -->\n<g id=\"edge273\" class=\"edge\">\n<title>271&#45;&gt;273</title>\n<path fill=\"none\" stroke=\"#000000\" d=\"M22085.0428,-5809.8074C22108.93,-5647.8403 22210.6557,-4958.0904 22237.4891,-4776.1472\"/>\n<polygon fill=\"#000000\" stroke=\"#000000\" points=\"22240.9694,-4776.5365 22238.966,-4766.1328 22234.0444,-4775.5151 22240.9694,-4776.5365\"/>\n</g>\n<!-- 274 -->\n<g id=\"node275\" class=\"node\">\n<title>274</title>\n<path fill=\"#e78945\" stroke=\"#000000\" d=\"M22302,-309.5C22302,-309.5 22182,-309.5 22182,-309.5 22176,-309.5 22170,-303.5 22170,-297.5 22170,-297.5 22170,-268.5 22170,-268.5 22170,-262.5 22176,-256.5 22182,-256.5 22182,-256.5 22302,-256.5 22302,-256.5 22308,-256.5 22314,-262.5 22314,-268.5 22314,-268.5 22314,-297.5 22314,-297.5 22314,-303.5 22308,-309.5 22302,-309.5\"/>\n<text text-anchor=\"start\" x=\"22178\" y=\"-294.3\" font-family=\"Helvetica,sans-Serif\" font-size=\"14.00\" fill=\"#000000\">squared_error = 0.0</text>\n<text text-anchor=\"start\" x=\"22198\" y=\"-279.3\" font-family=\"Helvetica,sans-Serif\" font-size=\"14.00\" fill=\"#000000\">samples = 19</text>\n<text text-anchor=\"start\" x=\"22202\" y=\"-264.3\" font-family=\"Helvetica,sans-Serif\" font-size=\"14.00\" fill=\"#000000\">value = 61.0</text>\n</g>\n<!-- 273&#45;&gt;274 -->\n<g id=\"edge274\" class=\"edge\">\n<title>273&#45;&gt;274</title>\n<path fill=\"none\" stroke=\"#000000\" d=\"M22243.9846,-4697.798C22243.8097,-4308.7163 22242.198,-723.4541 22242.0166,-319.9\"/>\n<polygon fill=\"#000000\" stroke=\"#000000\" points=\"22245.5166,-319.6605 22242.012,-309.6621 22238.5166,-319.6637 22245.5166,-319.6605\"/>\n</g>\n<!-- 275 -->\n<g id=\"node276\" class=\"node\">\n<title>275</title>\n<path fill=\"#e68844\" stroke=\"#000000\" d=\"M22464,-309.5C22464,-309.5 22344,-309.5 22344,-309.5 22338,-309.5 22332,-303.5 22332,-297.5 22332,-297.5 22332,-268.5 22332,-268.5 22332,-262.5 22338,-256.5 22344,-256.5 22344,-256.5 22464,-256.5 22464,-256.5 22470,-256.5 22476,-262.5 22476,-268.5 22476,-268.5 22476,-297.5 22476,-297.5 22476,-303.5 22470,-309.5 22464,-309.5\"/>\n<text text-anchor=\"start\" x=\"22340\" y=\"-294.3\" font-family=\"Helvetica,sans-Serif\" font-size=\"14.00\" fill=\"#000000\">squared_error = 0.0</text>\n<text text-anchor=\"start\" x=\"22360\" y=\"-279.3\" font-family=\"Helvetica,sans-Serif\" font-size=\"14.00\" fill=\"#000000\">samples = 13</text>\n<text text-anchor=\"start\" x=\"22364\" y=\"-264.3\" font-family=\"Helvetica,sans-Serif\" font-size=\"14.00\" fill=\"#000000\">value = 62.0</text>\n</g>\n<!-- 273&#45;&gt;275 -->\n<g id=\"edge275\" class=\"edge\">\n<title>273&#45;&gt;275</title>\n<path fill=\"none\" stroke=\"#000000\" d=\"M22245.23,-4697.798C22259.2226,-4308.7163 22388.1599,-723.4541 22402.673,-319.9\"/>\n<polygon fill=\"#000000\" stroke=\"#000000\" points=\"22406.1794,-319.7815 22403.0411,-309.6621 22399.1839,-319.5298 22406.1794,-319.7815\"/>\n</g>\n<!-- 277 -->\n<g id=\"node278\" class=\"node\">\n<title>277</title>\n<path fill=\"#e68640\" stroke=\"#000000\" d=\"M22634,-309.5C22634,-309.5 22506,-309.5 22506,-309.5 22500,-309.5 22494,-303.5 22494,-297.5 22494,-297.5 22494,-268.5 22494,-268.5 22494,-262.5 22500,-256.5 22506,-256.5 22506,-256.5 22634,-256.5 22634,-256.5 22640,-256.5 22646,-262.5 22646,-268.5 22646,-268.5 22646,-297.5 22646,-297.5 22646,-303.5 22640,-309.5 22634,-309.5\"/>\n<text text-anchor=\"start\" x=\"22502\" y=\"-294.3\" font-family=\"Helvetica,sans-Serif\" font-size=\"14.00\" fill=\"#000000\">squared_error = 1.33</text>\n<text text-anchor=\"start\" x=\"22526\" y=\"-279.3\" font-family=\"Helvetica,sans-Serif\" font-size=\"14.00\" fill=\"#000000\">samples = 18</text>\n<text text-anchor=\"start\" x=\"22526\" y=\"-264.3\" font-family=\"Helvetica,sans-Serif\" font-size=\"14.00\" fill=\"#000000\">value = 64.33</text>\n</g>\n<!-- 276&#45;&gt;277 -->\n<g id=\"edge277\" class=\"edge\">\n<title>276&#45;&gt;277</title>\n<path fill=\"none\" stroke=\"#000000\" d=\"M22570,-8033.9562C22570,-7754.1492 22570,-5844 22570,-5844 22570,-5844 22570,-5844 22570,-2507 22570,-2507 22570,-609.559 22570,-319.8949\"/>\n<polygon fill=\"#000000\" stroke=\"#000000\" points=\"22573.5001,-319.5259 22570,-309.5259 22566.5001,-319.5259 22573.5001,-319.5259\"/>\n</g>\n<!-- 278 -->\n<g id=\"node279\" class=\"node\">\n<title>278</title>\n<path fill=\"#e5823b\" stroke=\"#000000\" d=\"M22922.5,-6990C22922.5,-6990 22675.5,-6990 22675.5,-6990 22669.5,-6990 22663.5,-6984 22663.5,-6978 22663.5,-6978 22663.5,-6934 22663.5,-6934 22663.5,-6928 22669.5,-6922 22675.5,-6922 22675.5,-6922 22922.5,-6922 22922.5,-6922 22928.5,-6922 22934.5,-6928 22934.5,-6934 22934.5,-6934 22934.5,-6978 22934.5,-6978 22934.5,-6984 22928.5,-6990 22922.5,-6990\"/>\n<text text-anchor=\"start\" x=\"22671.5\" y=\"-6974.8\" font-family=\"Helvetica,sans-Serif\" font-size=\"14.00\" fill=\"#000000\">lastReportedPosition.speedMPH ≤ 68.5</text>\n<text text-anchor=\"start\" x=\"22731\" y=\"-6959.8\" font-family=\"Helvetica,sans-Serif\" font-size=\"14.00\" fill=\"#000000\">squared_error = 0.73</text>\n<text text-anchor=\"start\" x=\"22755\" y=\"-6944.8\" font-family=\"Helvetica,sans-Serif\" font-size=\"14.00\" fill=\"#000000\">samples = 68</text>\n<text text-anchor=\"start\" x=\"22755\" y=\"-6929.8\" font-family=\"Helvetica,sans-Serif\" font-size=\"14.00\" fill=\"#000000\">value = 68.37</text>\n</g>\n<!-- 276&#45;&gt;278 -->\n<g id=\"edge278\" class=\"edge\">\n<title>276&#45;&gt;278</title>\n<path fill=\"none\" stroke=\"#000000\" d=\"M22577.0415,-8033.8074C22610.3962,-7871.8403 22752.44,-7182.0904 22789.9085,-7000.1472\"/>\n<polygon fill=\"#000000\" stroke=\"#000000\" points=\"22793.3818,-7000.6333 22791.9708,-6990.1328 22786.5257,-6999.2213 22793.3818,-7000.6333\"/>\n</g>\n<!-- 279 -->\n<g id=\"node280\" class=\"node\">\n<title>279</title>\n<path fill=\"#e5833c\" stroke=\"#000000\" d=\"M22896,-5878C22896,-5878 22702,-5878 22702,-5878 22696,-5878 22690,-5872 22690,-5866 22690,-5866 22690,-5822 22690,-5822 22690,-5816 22696,-5810 22702,-5810 22702,-5810 22896,-5810 22896,-5810 22902,-5810 22908,-5816 22908,-5822 22908,-5822 22908,-5866 22908,-5866 22908,-5872 22902,-5878 22896,-5878\"/>\n<text text-anchor=\"start\" x=\"22698\" y=\"-5862.8\" font-family=\"Helvetica,sans-Serif\" font-size=\"14.00\" fill=\"#000000\">lastReportedSpeedMPH ≤ 67.5</text>\n<text text-anchor=\"start\" x=\"22731\" y=\"-5847.8\" font-family=\"Helvetica,sans-Serif\" font-size=\"14.00\" fill=\"#000000\">squared_error = 0.19</text>\n<text text-anchor=\"start\" x=\"22755\" y=\"-5832.8\" font-family=\"Helvetica,sans-Serif\" font-size=\"14.00\" fill=\"#000000\">samples = 40</text>\n<text text-anchor=\"start\" x=\"22755\" y=\"-5817.8\" font-family=\"Helvetica,sans-Serif\" font-size=\"14.00\" fill=\"#000000\">value = 67.75</text>\n</g>\n<!-- 278&#45;&gt;279 -->\n<g id=\"edge279\" class=\"edge\">\n<title>278&#45;&gt;279</title>\n<path fill=\"none\" stroke=\"#000000\" d=\"M22799,-6921.8074C22799,-6759.8403 22799,-6070.0904 22799,-5888.1472\"/>\n<polygon fill=\"#000000\" stroke=\"#000000\" points=\"22802.5001,-5888.1328 22799,-5878.1328 22795.5001,-5888.1329 22802.5001,-5888.1328\"/>\n</g>\n<!-- 282 -->\n<g id=\"node283\" class=\"node\">\n<title>282</title>\n<path fill=\"#e58139\" stroke=\"#000000\" d=\"M23128,-5878C23128,-5878 23000,-5878 23000,-5878 22994,-5878 22988,-5872 22988,-5866 22988,-5866 22988,-5822 22988,-5822 22988,-5816 22994,-5810 23000,-5810 23000,-5810 23128,-5810 23128,-5810 23134,-5810 23140,-5816 23140,-5822 23140,-5822 23140,-5866 23140,-5866 23140,-5872 23134,-5878 23128,-5878\"/>\n<text text-anchor=\"start\" x=\"23011\" y=\"-5862.8\" font-family=\"Helvetica,sans-Serif\" font-size=\"14.00\" fill=\"#000000\">milepost ≤ 290.5</text>\n<text text-anchor=\"start\" x=\"22996\" y=\"-5847.8\" font-family=\"Helvetica,sans-Serif\" font-size=\"14.00\" fill=\"#000000\">squared_error = 0.19</text>\n<text text-anchor=\"start\" x=\"23020\" y=\"-5832.8\" font-family=\"Helvetica,sans-Serif\" font-size=\"14.00\" fill=\"#000000\">samples = 28</text>\n<text text-anchor=\"start\" x=\"23020\" y=\"-5817.8\" font-family=\"Helvetica,sans-Serif\" font-size=\"14.00\" fill=\"#000000\">value = 69.25</text>\n</g>\n<!-- 278&#45;&gt;282 -->\n<g id=\"edge282\" class=\"edge\">\n<title>278&#45;&gt;282</title>\n<path fill=\"none\" stroke=\"#000000\" d=\"M22807.1484,-6921.8074C22845.7659,-6759.7597 23010.2842,-6069.4036 23053.544,-5887.8758\"/>\n<polygon fill=\"#000000\" stroke=\"#000000\" points=\"23056.9522,-5888.6718 23055.8658,-5878.1328 23050.1429,-5887.049 23056.9522,-5888.6718\"/>\n</g>\n<!-- 280 -->\n<g id=\"node281\" class=\"node\">\n<title>280</title>\n<path fill=\"#e5833d\" stroke=\"#000000\" d=\"M22796,-309.5C22796,-309.5 22676,-309.5 22676,-309.5 22670,-309.5 22664,-303.5 22664,-297.5 22664,-297.5 22664,-268.5 22664,-268.5 22664,-262.5 22670,-256.5 22676,-256.5 22676,-256.5 22796,-256.5 22796,-256.5 22802,-256.5 22808,-262.5 22808,-268.5 22808,-268.5 22808,-297.5 22808,-297.5 22808,-303.5 22802,-309.5 22796,-309.5\"/>\n<text text-anchor=\"start\" x=\"22672\" y=\"-294.3\" font-family=\"Helvetica,sans-Serif\" font-size=\"14.00\" fill=\"#000000\">squared_error = 0.0</text>\n<text text-anchor=\"start\" x=\"22692\" y=\"-279.3\" font-family=\"Helvetica,sans-Serif\" font-size=\"14.00\" fill=\"#000000\">samples = 10</text>\n<text text-anchor=\"start\" x=\"22696\" y=\"-264.3\" font-family=\"Helvetica,sans-Serif\" font-size=\"14.00\" fill=\"#000000\">value = 67.0</text>\n</g>\n<!-- 279&#45;&gt;280 -->\n<g id=\"edge280\" class=\"edge\">\n<title>279&#45;&gt;280</title>\n<path fill=\"none\" stroke=\"#000000\" d=\"M22798.0356,-5809.9409C22790.1094,-5530.0081 22736,-3619 22736,-3619 22736,-3619 22736,-3619 22736,-2507 22736,-2507 22736,-609.559 22736,-319.8949\"/>\n<polygon fill=\"#000000\" stroke=\"#000000\" points=\"22739.5001,-319.5259 22736,-309.5259 22732.5001,-319.5259 22739.5001,-319.5259\"/>\n</g>\n<!-- 281 -->\n<g id=\"node282\" class=\"node\">\n<title>281</title>\n<path fill=\"#e5823b\" stroke=\"#000000\" d=\"M22958,-309.5C22958,-309.5 22838,-309.5 22838,-309.5 22832,-309.5 22826,-303.5 22826,-297.5 22826,-297.5 22826,-268.5 22826,-268.5 22826,-262.5 22832,-256.5 22838,-256.5 22838,-256.5 22958,-256.5 22958,-256.5 22964,-256.5 22970,-262.5 22970,-268.5 22970,-268.5 22970,-297.5 22970,-297.5 22970,-303.5 22964,-309.5 22958,-309.5\"/>\n<text text-anchor=\"start\" x=\"22834\" y=\"-294.3\" font-family=\"Helvetica,sans-Serif\" font-size=\"14.00\" fill=\"#000000\">squared_error = 0.0</text>\n<text text-anchor=\"start\" x=\"22854\" y=\"-279.3\" font-family=\"Helvetica,sans-Serif\" font-size=\"14.00\" fill=\"#000000\">samples = 30</text>\n<text text-anchor=\"start\" x=\"22858\" y=\"-264.3\" font-family=\"Helvetica,sans-Serif\" font-size=\"14.00\" fill=\"#000000\">value = 68.0</text>\n</g>\n<!-- 279&#45;&gt;281 -->\n<g id=\"edge281\" class=\"edge\">\n<title>279&#45;&gt;281</title>\n<path fill=\"none\" stroke=\"#000000\" d=\"M22800.5154,-5809.9409C22812.9709,-5530.0081 22898,-3619 22898,-3619 22898,-3619 22898,-3619 22898,-2507 22898,-2507 22898,-609.559 22898,-319.8949\"/>\n<polygon fill=\"#000000\" stroke=\"#000000\" points=\"22901.5001,-319.5259 22898,-309.5259 22894.5001,-319.5259 22901.5001,-319.5259\"/>\n</g>\n<!-- 283 -->\n<g id=\"node284\" class=\"node\">\n<title>283</title>\n<path fill=\"#e58139\" stroke=\"#000000\" d=\"M23128,-309.5C23128,-309.5 23000,-309.5 23000,-309.5 22994,-309.5 22988,-303.5 22988,-297.5 22988,-297.5 22988,-268.5 22988,-268.5 22988,-262.5 22994,-256.5 23000,-256.5 23000,-256.5 23128,-256.5 23128,-256.5 23134,-256.5 23140,-262.5 23140,-268.5 23140,-268.5 23140,-297.5 23140,-297.5 23140,-303.5 23134,-309.5 23128,-309.5\"/>\n<text text-anchor=\"start\" x=\"22996\" y=\"-294.3\" font-family=\"Helvetica,sans-Serif\" font-size=\"14.00\" fill=\"#000000\">squared_error = 0.25</text>\n<text text-anchor=\"start\" x=\"23020\" y=\"-279.3\" font-family=\"Helvetica,sans-Serif\" font-size=\"14.00\" fill=\"#000000\">samples = 11</text>\n<text text-anchor=\"start\" x=\"23020\" y=\"-264.3\" font-family=\"Helvetica,sans-Serif\" font-size=\"14.00\" fill=\"#000000\">value = 69.55</text>\n</g>\n<!-- 282&#45;&gt;283 -->\n<g id=\"edge283\" class=\"edge\">\n<title>282&#45;&gt;283</title>\n<path fill=\"none\" stroke=\"#000000\" d=\"M23064,-5809.9409C23064,-5530.0081 23064,-3619 23064,-3619 23064,-3619 23064,-3619 23064,-2507 23064,-2507 23064,-609.559 23064,-319.8949\"/>\n<polygon fill=\"#000000\" stroke=\"#000000\" points=\"23067.5001,-319.5259 23064,-309.5259 23060.5001,-319.5259 23067.5001,-319.5259\"/>\n</g>\n<!-- 284 -->\n<g id=\"node285\" class=\"node\">\n<title>284</title>\n<path fill=\"#e5813a\" stroke=\"#000000\" d=\"M23298,-309.5C23298,-309.5 23170,-309.5 23170,-309.5 23164,-309.5 23158,-303.5 23158,-297.5 23158,-297.5 23158,-268.5 23158,-268.5 23158,-262.5 23164,-256.5 23170,-256.5 23170,-256.5 23298,-256.5 23298,-256.5 23304,-256.5 23310,-262.5 23310,-268.5 23310,-268.5 23310,-297.5 23310,-297.5 23310,-303.5 23304,-309.5 23298,-309.5\"/>\n<text text-anchor=\"start\" x=\"23166\" y=\"-294.3\" font-family=\"Helvetica,sans-Serif\" font-size=\"14.00\" fill=\"#000000\">squared_error = 0.06</text>\n<text text-anchor=\"start\" x=\"23190\" y=\"-279.3\" font-family=\"Helvetica,sans-Serif\" font-size=\"14.00\" fill=\"#000000\">samples = 17</text>\n<text text-anchor=\"start\" x=\"23190\" y=\"-264.3\" font-family=\"Helvetica,sans-Serif\" font-size=\"14.00\" fill=\"#000000\">value = 69.06</text>\n</g>\n<!-- 282&#45;&gt;284 -->\n<g id=\"edge284\" class=\"edge\">\n<title>282&#45;&gt;284</title>\n<path fill=\"none\" stroke=\"#000000\" d=\"M23066.6023,-5809.9409C23087.9904,-5530.0081 23234,-3619 23234,-3619 23234,-3619 23234,-3619 23234,-2507 23234,-2507 23234,-609.559 23234,-319.8949\"/>\n<polygon fill=\"#000000\" stroke=\"#000000\" points=\"23237.5001,-319.5259 23234,-309.5259 23230.5001,-319.5259 23237.5001,-319.5259\"/>\n</g>\n</g>\n</svg>\n"
          },
          "metadata": {},
          "execution_count": 86
        }
      ]
    },
    {
      "cell_type": "markdown",
      "source": [
        ""
      ],
      "metadata": {
        "id": "_5Z-hliHHi7r"
      }
    },
    {
      "cell_type": "code",
      "source": [
        "def r_mse(pred,y): return round(math.sqrt(((pred-y)**2).mean()), 6)\n",
        "def m_rmse(m, xs, y): return r_mse(m.predict(xs), y)"
      ],
      "metadata": {
        "id": "D53phc2JE5RC"
      },
      "execution_count": 87,
      "outputs": []
    },
    {
      "cell_type": "code",
      "source": [
        "m_rmse(m, xs, y)"
      ],
      "metadata": {
        "colab": {
          "base_uri": "https://localhost:8080/"
        },
        "id": "8CYcTQHLHT4m",
        "outputId": "ec8ee1b1-36ec-44a4-c65c-ff7af7b1437f"
      },
      "execution_count": 88,
      "outputs": [
        {
          "output_type": "execute_result",
          "data": {
            "text/plain": [
              "0.087291"
            ]
          },
          "metadata": {},
          "execution_count": 88
        }
      ]
    },
    {
      "cell_type": "code",
      "source": [
        "m_rmse(m, valid_xs, valid_y)"
      ],
      "metadata": {
        "colab": {
          "base_uri": "https://localhost:8080/"
        },
        "id": "_oElvFDHHZHm",
        "outputId": "459d47a3-a77c-4301-b008-4510239bf5fc"
      },
      "execution_count": 89,
      "outputs": [
        {
          "output_type": "execute_result",
          "data": {
            "text/plain": [
              "0.173346"
            ]
          },
          "metadata": {},
          "execution_count": 89
        }
      ]
    },
    {
      "cell_type": "markdown",
      "source": [
        "Our first result! It appears the previous speed is so haevily influencing the next speed, it swamps everything else."
      ],
      "metadata": {
        "id": "GAU4iShuUTlj"
      }
    },
    {
      "cell_type": "code",
      "source": [
        "def rf(xs, y, n_estimators=40, max_samples=4500,\n",
        "       max_features=0.5, min_samples_leaf=7, **kwargs):\n",
        "    return RandomForestRegressor(n_jobs=-1, n_estimators=n_estimators,\n",
        "        max_samples=max_samples, max_features=max_features,\n",
        "        min_samples_leaf=min_samples_leaf, oob_score=True).fit(xs, y)"
      ],
      "metadata": {
        "id": "FllkOgNkUTGW"
      },
      "execution_count": 164,
      "outputs": []
    },
    {
      "cell_type": "code",
      "source": [
        "m = rf(xs, y);"
      ],
      "metadata": {
        "id": "OqX5AcTWVRXE"
      },
      "execution_count": 165,
      "outputs": []
    },
    {
      "cell_type": "code",
      "source": [
        "m_rmse(m, xs, y), m_rmse(m, valid_xs, valid_y)"
      ],
      "metadata": {
        "colab": {
          "base_uri": "https://localhost:8080/"
        },
        "id": "33ncywqjVcwn",
        "outputId": "c487df9c-3ef9-4faf-8b6d-5178701bef6a"
      },
      "execution_count": 166,
      "outputs": [
        {
          "output_type": "execute_result",
          "data": {
            "text/plain": [
              "(0.228098, 0.539397)"
            ]
          },
          "metadata": {},
          "execution_count": 166
        }
      ]
    },
    {
      "cell_type": "code",
      "source": [
        "preds = np.stack([t.predict(valid_xs) for t in m.estimators_])"
      ],
      "metadata": {
        "id": "Dg6iyZCIW0Nt"
      },
      "execution_count": null,
      "outputs": []
    },
    {
      "cell_type": "code",
      "source": [
        "r_mse(preds.mean(0), valid_y)"
      ],
      "metadata": {
        "colab": {
          "base_uri": "https://localhost:8080/"
        },
        "id": "5UldrkUhXFbi",
        "outputId": "9cdc7053-65ab-4ff6-e52d-3ae9adafc4fa"
      },
      "execution_count": 168,
      "outputs": [
        {
          "output_type": "execute_result",
          "data": {
            "text/plain": [
              "0.539397"
            ]
          },
          "metadata": {},
          "execution_count": 168
        }
      ]
    },
    {
      "cell_type": "code",
      "source": [
        "plt.plot([r_mse(preds[:i+1].mean(0), valid_y) for i in range(40)]);"
      ],
      "metadata": {
        "colab": {
          "base_uri": "https://localhost:8080/",
          "height": 265
        },
        "id": "eT0fXh6uXIp1",
        "outputId": "62e4b66e-d41b-45ea-ddab-182d710f30c7"
      },
      "execution_count": 170,
      "outputs": [
        {
          "output_type": "display_data",
          "data": {
            "text/plain": [
              "<Figure size 432x288 with 1 Axes>"
            ],
            "image/png": "[encoded data removed]"
          },
          "metadata": {
            "needs_background": "light"
          }
        }
      ]
    },
    {
      "cell_type": "markdown",
      "source": [
        "#OLD CODE"
      ],
      "metadata": {
        "id": "qseWe94Ea6rU"
      }
    },
    {
      "cell_type": "code",
      "source": [
        "def formatTrain(dfTrain):\n",
        "  actuals = pd.json_normalize(dfTrain['trainActualPositionList'])\n",
        "  cols = list(actuals.columns)\n",
        "  dfx = (actuals[cols[0:2] + cols[3:5]])\n",
        "  dfx = dfx.rename(columns={\"speedMPH\" : \"speedMPH\", \"milepostLocation.trackName\":\"trackName\", \"milepostLocation.milepost.milepostNumber\": \"milepostNumber\" })\n",
        "  est = pd.json_normalize(dfTrain['trainEstimatedPositionList'])  \n",
        "  beop = est.rename(columns={\"speedMPH\" : \"forecastSpeedMPH\", \"milepostLocation.trackName\":\"forecastTrackName\", \"milepostLocation.milepost.milepostNumber\": \"forecastMilepostNumber\" })\n",
        "  joined = beop.join(dfx, lsuffix='_beop', rsuffix='_actual')\n",
        "  dn = joined.dropna()\n",
        "  dn = dn.loc[(dn['speedMPH'] != 0)]\n",
        "  delta = abs(dn[\"speedMPH\"] - dn[\"forecastSpeedMPH\"]);\n",
        "  #dn = dn.apply(lambda x: abs(x) if x.name=='speedMPH' or  x.name=='forecastSpeedMPH' else x)\n",
        "  dn[\"delta\"] = delta\n",
        "  try:\n",
        "    dn['milepost'] = dn.apply(lambda row: math.trunc(row['milepostNumber']), axis=1) \n",
        "    dn['millis'] = dn.apply(lambda row: ((datetime.strptime(row['positionTime_actual'], \"%Y-%m-%dT%H:%M:%SZ\"))  - datetime(1970, 1, 1)) // timedelta(milliseconds=1), axis=1)\n",
        "  except ValueError:\n",
        "    print (ValueError)\n",
        "    print(\"Oops!  invalid format\", dn)\n",
        "  dn['trainId'] = dfTrain['trainId.trainSymbol']+\" \"+dfTrain['trainId.trainDate']\n",
        "  dn = dn.drop(columns=['milepostLocation.subdivisionId'])\n",
        "  # dn = dn.reset_index()\n",
        "  return dn"
      ],
      "metadata": {
        "id": "pqfGofcd7BCn"
      },
      "execution_count": null,
      "outputs": []
    },
    {
      "cell_type": "code",
      "source": [
        "def convertTrains(trainSet): \n",
        "  trainsList = []\n",
        "  for index, train in trainSet.iterrows():\n",
        "    # print(train['trainId.trainSymbol'])\n",
        "    trainsList.append(formatTrain(train))\n",
        "  trains = pd.concat(trainsList)\n",
        "  trains = trains.sort_values(['trainId','positionTime_actual'])\n",
        "  trains = trains.drop_duplicates(subset=['trainId', 'milepost'], keep='last')\n",
        "  trains = trains.reset_index()\n",
        "  return trains"
      ],
      "metadata": {
        "id": "JOkpJ6qJbG8Y"
      },
      "execution_count": null,
      "outputs": []
    },
    {
      "cell_type": "code",
      "source": [
        "trains = convertTrains(dfTrains)"
      ],
      "metadata": {
        "id": "uLeB0unDDRTd"
      },
      "execution_count": null,
      "outputs": []
    },
    {
      "cell_type": "code",
      "source": [
        "def getTrain(trains, symbol):\n",
        "  return trains.loc[trains['trainId'].str.startswith(symbol)]"
      ],
      "metadata": {
        "id": "FCS02J2YqnYw"
      },
      "execution_count": null,
      "outputs": []
    },
    {
      "cell_type": "code",
      "source": [
        "getTrain(trains, 'MALNP')"
      ],
      "metadata": {
        "id": "RWCsD5q6GPZO"
      },
      "execution_count": null,
      "outputs": []
    },
    {
      "cell_type": "markdown",
      "source": [
        "Compute the Change of Velocity entering each milepost segment"
      ],
      "metadata": {
        "id": "C4kdY9sCwJwJ"
      }
    },
    {
      "cell_type": "code",
      "source": [
        "def computeSpeedChange(trains):\n",
        "  trains['speedChange'] = trains[\"speedMPH\"]\n",
        "  prevTrain = ''\n",
        "  for i in range(0, len(trains)):\n",
        "    if trains.loc[i, \"trainId\"] == prevTrain :\n",
        "      trains.loc[i, \"speedChange\"] = trains.loc[i, \"speedMPH\"] - trains.loc[i-1, \"speedMPH\"]\n",
        "    else :  \n",
        "      trains.loc[i, \"speedChange\"] = 0.0\n",
        "    prevTrain = trains.loc[i, \"trainId\"]\n",
        "  return trains"
      ],
      "metadata": {
        "id": "b2qg9syo1oSy"
      },
      "execution_count": null,
      "outputs": []
    },
    {
      "cell_type": "code",
      "source": [
        "trains = computeSpeedChange(trains)\n",
        "trains"
      ],
      "metadata": {
        "id": "LGKrmujtF6jq"
      },
      "execution_count": null,
      "outputs": []
    },
    {
      "cell_type": "code",
      "source": [
        "mps = trains['milepost'].unique()\n",
        "mps.sort()\n",
        "mps"
      ],
      "metadata": {
        "id": "LMM_NZDb7ZUm"
      },
      "execution_count": null,
      "outputs": []
    },
    {
      "cell_type": "code",
      "source": [
        "print(trains.iloc[0])"
      ],
      "metadata": {
        "id": "CBTI5mgzLPQJ"
      },
      "execution_count": null,
      "outputs": []
    },
    {
      "cell_type": "code",
      "source": [
        "def printAllReadings(trainSet, trainSymbol):\n",
        "  with pd.option_context('display.max_rows', None,\n",
        "                        'display.max_columns', None,\n",
        "                        'display.width', 1000,\n",
        "                        'display.precision', 3,\n",
        "                        ):\n",
        "    vals = trainSet.loc[trainSet['trainId'] == trainSymbol]\n",
        "    #vals= vals.sort_values('positionTime_actual')\n",
        "    print(vals[['index', 'positionTime_actual', 'milepost', 'milepostNumber','forecastSpeedMPH', 'speedMPH', 'speedChange']])"
      ],
      "metadata": {
        "id": "prQLfUvUxcr7"
      },
      "execution_count": null,
      "outputs": []
    },
    {
      "cell_type": "code",
      "source": [
        "printAllReadings(trains, 'ITAG3 2022-04-20')"
      ],
      "metadata": {
        "id": "A1b87K_6JsQQ"
      },
      "execution_count": null,
      "outputs": []
    },
    {
      "cell_type": "code",
      "source": [
        "dfTrains.iloc[3][\"trainEstimatedPositionList\"]                                                   "
      ],
      "metadata": {
        "id": "kExtfz9d_tMT"
      },
      "execution_count": null,
      "outputs": []
    },
    {
      "cell_type": "code",
      "source": [
        "dfTrains.iloc[3]"
      ],
      "metadata": {
        "id": "nN7dpeZpxTSU"
      },
      "execution_count": null,
      "outputs": []
    },
    {
      "cell_type": "code",
      "source": [
        "def plotTrain(trainData, trainId):\n",
        "  ax = plt.gca()\n",
        "  trainDF = trainData.loc[trainData['trainId'] == trainId]\n",
        "  trainDF = trainDF.reset_index();\n",
        "  trainsDF = trainDF.sort_values('positionTime_actual')\n",
        "  trainDF = trainDF.apply(lambda x: abs(x) if x.name=='speedMPH' or  x.name=='forecastSpeedMPH' else x)  \n",
        "  trainDF.plot(x = 'milepostNumber', y=\"speedMPH\", use_index=True, kind=\"scatter\", ax=ax, figsize=[24,10])\n",
        "  trainDF.plot(x = 'milepostNumber', y=\"forecastSpeedMPH\", use_index=True, kind=\"scatter\", color=\"red\", ax=ax, figsize=[24,10])\n",
        "  trainDF.plot(x = 'milepostNumber', y=\"delta\", use_index=True, kind=\"line\", color=\"green\", ax=ax, figsize=[24,10])\n",
        "  # plt.gcf().autofmt_xdate()\n",
        "  (t,b)= ax.get_xlim()  ## Added for clarity\n",
        "  if t < b:\n",
        "    ax.set_xlim((b,t))\n",
        "  plt.title(trainId)\n",
        "  plt.show()"
      ],
      "metadata": {
        "id": "_xIRdGqGwTXZ"
      },
      "execution_count": null,
      "outputs": []
    },
    {
      "cell_type": "code",
      "source": [
        "def printTrains(trains):\n",
        "  trainIdsList = trains['trainId'].unique()\n",
        "  print(trainIdsList.size)\n",
        "  print(trainIdsList)"
      ],
      "metadata": {
        "id": "02O118bRTw7n"
      },
      "execution_count": null,
      "outputs": []
    },
    {
      "cell_type": "code",
      "source": [
        "printTrains(trains)"
      ],
      "metadata": {
        "id": "9Z4_nM12CarB"
      },
      "execution_count": null,
      "outputs": []
    },
    {
      "cell_type": "code",
      "source": [
        "plotTrain(trains, trainIdsList[14])"
      ],
      "metadata": {
        "id": "qKdCmnM5B5s8"
      },
      "execution_count": null,
      "outputs": []
    },
    {
      "cell_type": "code",
      "source": [
        "trains.head()"
      ],
      "metadata": {
        "id": "JWUdmlvSbmUR"
      },
      "execution_count": null,
      "outputs": []
    },
    {
      "cell_type": "code",
      "source": [
        "indexedMean = (trains[[\"index\",\"delta\"]]).groupby('index').mean()\n",
        "indexedMean.plot( y=\"delta\", kind=\"line\", color=\"green\", figsize=[24,10])\n",
        "plt.title(\"Mean Error\")"
      ],
      "metadata": {
        "id": "YR7CkWAcXrKq"
      },
      "execution_count": null,
      "outputs": []
    },
    {
      "cell_type": "code",
      "source": [
        "meanSquaredError = math.sqrt((indexedMean['delta']**2).sum())\n",
        "print(\"Mean Squared Error: \", meanSquaredError)"
      ],
      "metadata": {
        "id": "eLjAgvTqemtA"
      },
      "execution_count": null,
      "outputs": []
    },
    {
      "cell_type": "code",
      "source": [
        "indexedMeanByMilepost = (trains[[\"milepost\",\"delta\"]]).groupby('milepost').mean()\n",
        "indexedMeanByMilepost = indexedMeanByMilepost.dropna().reset_index()\n",
        "print(indexedMeanByMilepost)\n",
        "indexedMeanByMilepost.plot(y=\"delta\", use_index=True, kind=\"line\", color=\"red\", figsize=[24,10])\n",
        "# labels= indexedMeanByMilepost['milepost'].values\n",
        "plt.xlabel('milepost')\n",
        "plt.title(\"Mean Error by Milepost\")"
      ],
      "metadata": {
        "id": "6seNTYcpgURo"
      },
      "execution_count": null,
      "outputs": []
    },
    {
      "cell_type": "markdown",
      "source": [
        "Begin Training New Model<br>\n",
        "We shall govern *increase in speed* to be a maximimum of the standard deviation for the milepost area. \n"
      ],
      "metadata": {
        "id": "V0UfdnvzOxvI"
      }
    },
    {
      "cell_type": "code",
      "source": [
        "dfTrainIds = dfTrains[['trainId.trainSymbol','trainId.trainDate','lastReportedPosition.positionTime']]\n",
        "dfTrainIds = dfTrainIds.drop_duplicates(subset=['trainId.trainSymbol','trainId.trainDate'], keep='first')\n",
        "dfTrainIds = dfTrainIds.sort_values(['lastReportedPosition.positionTime'])\n",
        "dfTrainIds"
      ],
      "metadata": {
        "id": "H87gq78H3yua"
      },
      "execution_count": null,
      "outputs": []
    },
    {
      "cell_type": "code",
      "source": [
        "count = dfTrainIds.shape[0]\n",
        "trainingCount = count // 4 * 3\n",
        "trainingSet = dfTrains.head(trainingCount)\n",
        "testingSet = dfTrains.tail(count - trainingCount)"
      ],
      "metadata": {
        "id": "WFCxJAxr6W6k"
      },
      "execution_count": null,
      "outputs": []
    },
    {
      "cell_type": "code",
      "source": [
        "trainSpeeds = trains.sort_values(['trainId', 'positionTime_actual'])\n",
        "trainSpeeds = trainSpeeds.drop_duplicates(subset=['trainId'], keep='first')\n",
        "trainSpeeds = trainSpeeds.sort_values(['positionTime_actual'])\n",
        "trainingSpeedsCount = trainSpeeds.shape[0] // 4 * 3\n",
        "trainingSpeedsIdSet = trainSpeeds.head(trainingSpeedsCount)\n",
        "testingSpeedsIdSet = trainSpeeds.tail(trainSpeeds.shape[0] - trainingSpeedsCount)\n",
        "trainingSpeeds = pd.merge(trains, trainingSpeedsIdSet[\"trainId\"])\n",
        "trainingSpeeds"
      ],
      "metadata": {
        "id": "RDhf5EExPBw8"
      },
      "execution_count": null,
      "outputs": []
    },
    {
      "cell_type": "code",
      "source": [
        "def minMaxMean(trainsSet): \n",
        "  vals = trainsSet\n",
        "  speedChangeMean = {\"speedChangeMean\": trainsSet[[\"speedChange\"]].mean()}\n",
        "  speedChangeMax = {\"speedChangeMax\" : trainsSet[[\"speedChange\"]].max()}\n",
        "  speedChangeMin = {\"speedChangeMin\" : trainsSet[[\"speedChange\"]].min()}\n",
        "  speedChangeStd = {\"speedChangeStd\" : trainsSet[[\"speedChange\"]].std()}\n",
        "  return [speedChangeMean, speedChangeMax, speedChangeMin, speedChangeStd, vals]\n"
      ],
      "metadata": {
        "id": "6Lw7YrHOvg5K"
      },
      "execution_count": null,
      "outputs": []
    },
    {
      "cell_type": "code",
      "source": [
        "mps = trains['milepost'].unique()\n",
        "mps.sort()\n",
        "mps"
      ],
      "metadata": {
        "id": "2g4q1zxFbM1o"
      },
      "execution_count": null,
      "outputs": []
    },
    {
      "cell_type": "code",
      "source": [
        "mpSpeedsPositive = {}\n",
        "for mp in mps:\n",
        "  mpTrains = trainingSpeeds.loc[trainingSpeeds['milepost'].between(mp - 1, mp +1)]\n",
        "  mpSpeedsPositive[mp] = minMaxMean(mpTrains.loc[mpTrains.speedMPH > 0])\n",
        "mpSpeedsPositive[203.0]\n"
      ],
      "metadata": {
        "id": "U2p6iVAA3vlU"
      },
      "execution_count": null,
      "outputs": []
    },
    {
      "cell_type": "code",
      "source": [
        "mpSpeedsNegative = {}\n",
        "for mp in mps:\n",
        "  mpTrains = trainingSpeeds.loc[trainingSpeeds['milepost'].between(mp - 1, mp +1)]\n",
        "  mpSpeedsNegative[mp] = minMaxMean(mpTrains.loc[mpTrains.speedMPH < 0])\n",
        "mpSpeedsNegative[203.0]\n"
      ],
      "metadata": {
        "id": "2hqYm6On_Q8H"
      },
      "execution_count": null,
      "outputs": []
    },
    {
      "cell_type": "code",
      "source": [
        "testTrains = convertTrains(testingSet)\n",
        "printTrains(testTrains)"
      ],
      "metadata": {
        "id": "XXffTFK9BmQa"
      },
      "execution_count": null,
      "outputs": []
    },
    {
      "cell_type": "code",
      "source": [
        "plotTrain(testTrains, 'MCHCB 2022-04-25')"
      ],
      "metadata": {
        "id": "DYIjlYCED71Z"
      },
      "execution_count": null,
      "outputs": []
    },
    {
      "cell_type": "code",
      "source": [
        "computeSpeedChange(testTrains)\n",
        "testTrains"
      ],
      "metadata": {
        "id": "rLrbwG2VGvfQ"
      },
      "execution_count": null,
      "outputs": []
    },
    {
      "cell_type": "code",
      "source": [
        "printAllReadings(testTrains, \"MCHCB 2022-04-25\")"
      ],
      "metadata": {
        "id": "B1AEab2WItYI"
      },
      "execution_count": null,
      "outputs": []
    },
    {
      "cell_type": "markdown",
      "source": [
        "I don't actually think this is FIXABLE..."
      ],
      "metadata": {
        "id": "GZja8euSKqty"
      }
    }
  ],
  "metadata": {
    "colab": {
      "name": "MLModel1.ipynb",
      "provenance": [],
      "collapsed_sections": [],
      "include_colab_link": true
    },
    "interpreter": {
      "hash": "99fae7d265480b5fbb0cf965db398c4d2d7b17b55f6259418c7dbfe0de01ea90"
    },
    "kernelspec": {
      "display_name": "Python 3 (ipykernel)",
      "language": "python",
      "name": "python3"
    },
    "language_info": {
      "codemirror_mode": {
        "name": "ipython",
        "version": 3
      },
      "file_extension": ".py",
      "mimetype": "text/x-python",
      "name": "python",
      "nbconvert_exporter": "python",
      "pygments_lexer": "ipython3",
      "version": "3.9.12"
    }
  },
  "nbformat": 4,
  "nbformat_minor": 0
}