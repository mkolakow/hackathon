{
  "cells": [
    {
      "cell_type": "markdown",
      "metadata": {
        "id": "view-in-github",
        "colab_type": "text"
      },
      "source": [
        "<a href=\"https://colab.research.google.com/github/swicklund/hackathon/blob/main/MLModel1.ipynb\" target=\"_parent\"><img src=\"https://colab.research.google.com/assets/colab-badge.svg\" alt=\"Open In Colab\"/></a>"
      ]
    },
    {
      "cell_type": "code",
      "execution_count": 172,
      "metadata": {
        "id": "f18J8QM17E0a"
      },
      "outputs": [],
      "source": [
        "!pip install -Uqq fastbook\n",
        "import os\n",
        "\n",
        "import IPython\n",
        "import IPython.display\n",
        "import matplotlib as mpl\n",
        "import matplotlib.pyplot as plt\n",
        "import numpy as np\n",
        "import fastbook as fastai\n",
        "import pandas as pd\n",
        "from pandas.io.json import json_normalize\n",
        "import seaborn as sns\n",
        "import tensorflow as tf\n",
        "import json\n",
        "import zipfile\n",
        "from io import BytesIO\n",
        "import torch\n",
        "import math\n",
        "from google.colab import files\n",
        "from google.colab import auth\n",
        "from datetime import datetime, timedelta\n",
        "\n",
        "fastai.setup_book()\n",
        "from fastai import tabular"
      ]
    },
    {
      "cell_type": "code",
      "source": [
        "auth.authenticate_user()"
      ],
      "metadata": {
        "id": "_wNuGIFQT0nZ"
      },
      "execution_count": 2,
      "outputs": []
    },
    {
      "cell_type": "code",
      "execution_count": 3,
      "metadata": {
        "colab": {
          "base_uri": "https://localhost:8080/"
        },
        "id": "TpnuFITI6Tzu",
        "outputId": "d6a07dc6-62b1-4d38-ed7f-6b2fba552a36"
      },
      "outputs": [
        {
          "output_type": "stream",
          "name": "stdout",
          "text": [
            "Updated property [core/project].\n"
          ]
        }
      ],
      "source": [
        "!gcloud config set project {'hackathon-352519'}"
      ]
    },
    {
      "cell_type": "code",
      "source": [
        "!gsutil cp gs://trains_data/* /tmp/."
      ],
      "metadata": {
        "colab": {
          "base_uri": "https://localhost:8080/"
        },
        "id": "srQJL7OKVRww",
        "outputId": "60d1742f-a383-4524-fb6e-2f24a1214177"
      },
      "execution_count": 4,
      "outputs": [
        {
          "output_type": "stream",
          "name": "stdout",
          "text": [
            "Copying gs://trains_data/train-data_all-train-events.zip...\n",
            "- [1 files][ 57.1 MiB/ 57.1 MiB]                                                \n",
            "Operation completed over 1 objects/57.1 MiB.                                     \n"
          ]
        }
      ]
    },
    {
      "cell_type": "code",
      "execution_count": 5,
      "metadata": {
        "id": "ckXLQ7eQ7E0c"
      },
      "outputs": [],
      "source": [
        "# z = zipfile.ZipFile('train-data_all-train-events.zip', 'r')\n",
        "\n",
        "x = {}\n",
        "trains = {}\n",
        "i = 1\n",
        "prevLoco = ''\n",
        "with zipfile.ZipFile(\"/tmp/train-data_all-train-events.zip\", \"r\") as f:\n",
        "    for name in f.namelist():\n",
        "        if name.endswith('.json'):\n",
        "            with f.open(name) as zd:\n",
        "                data = json.load(zd)\n",
        "                lastTrainReporting = data['lastTrainReporting']\n",
        "                currentLoco = lastTrainReporting['ptcLeadLocomotiveId']\n",
        "                # prevLoco != currentLoco and \n",
        "                if (\"trainActualPositionList\" in lastTrainReporting and \"trainEstimatedPositionList\" in lastTrainReporting and len(lastTrainReporting['trainEstimatedPositionList']) > 0): \n",
        "                    trainActualPositionList = lastTrainReporting['trainActualPositionList']\n",
        "                    for position in trainActualPositionList:\n",
        "                        positions = pd.json_normalize(position)\n",
        "                        trains[i] = pd.json_normalize(lastTrainReporting)\n",
        "#                             x[i] = pd.concat([train.ptcLeadLocomotiveId,trains[i][\"trainId.trainSymbol\"], trains[i][\"trainId.trainDate\"], positions], axis=1)\n",
        "                        x[i] = positions\n",
        "#                             trains[i] = train \n",
        "                        i = i + 1\n",
        "                        prevLoco = currentLoco\n",
        "                            "
      ]
    },
    {
      "cell_type": "code",
      "execution_count": 6,
      "metadata": {
        "id": "lgWV768N7E0d"
      },
      "outputs": [],
      "source": [
        "df = pd.concat(x.values())\n",
        "dfTrainsAll = pd.concat(trains.values())\n",
        "dfTrainsAll[\"milepost\"] = dfTrainsAll.apply(lambda row: math.trunc(row['lastReportedPosition.milepostLocation.milepost.milepostNumber']), axis=1)\n",
        "#dfTrainsAll[\"hour\"] = dfTrainsAll.apply(lambda row: (row['lastReportedPosition.positionTime']).rsplit(\":\")[0], axis=1)"
      ]
    },
    {
      "cell_type": "code",
      "source": [
        "del x\n",
        "del trains"
      ],
      "metadata": {
        "id": "Q581UU9nCWZ1"
      },
      "execution_count": 7,
      "outputs": []
    },
    {
      "cell_type": "code",
      "source": [
        "df.info()"
      ],
      "metadata": {
        "id": "U7eMpqp_RehS",
        "outputId": "6ee43d86-9f23-4142-f38e-73b216508040",
        "colab": {
          "base_uri": "https://localhost:8080/"
        }
      },
      "execution_count": 8,
      "outputs": [
        {
          "output_type": "stream",
          "name": "stdout",
          "text": [
            "<class 'pandas.core.frame.DataFrame'>\n",
            "Int64Index: 143050 entries, 0 to 0\n",
            "Data columns (total 13 columns):\n",
            " #   Column                                                Non-Null Count   Dtype  \n",
            "---  ------                                                --------------   -----  \n",
            " 0   positionTime                                          143050 non-null  object \n",
            " 1   speedMPH                                              143050 non-null  int64  \n",
            " 2   milepostLocation.subdivisionId                        143050 non-null  int64  \n",
            " 3   milepostLocation.trackName                            143050 non-null  object \n",
            " 4   milepostLocation.milepost.milepostNumber              143050 non-null  float64\n",
            " 5   nextSignalState.milepostLocation.milepostNumber       123498 non-null  float64\n",
            " 6   nextSignalState.signalState                           123498 non-null  float64\n",
            " 7   precedingSignalState.milepostLocation.milepostNumber  124689 non-null  float64\n",
            " 8   precedingSignalState.previousSignalState              97525 non-null   float64\n",
            " 9   precedingSignalState.currentStateTime                 97525 non-null   object \n",
            " 10  precedingSignalState.signalState                      124689 non-null  float64\n",
            " 11  nextSignalState.previousSignalState                   43628 non-null   float64\n",
            " 12  nextSignalState.currentStateTime                      43628 non-null   object \n",
            "dtypes: float64(7), int64(2), object(4)\n",
            "memory usage: 15.3+ MB\n"
          ]
        }
      ]
    },
    {
      "cell_type": "code",
      "execution_count": 37,
      "metadata": {
        "colab": {
          "base_uri": "https://localhost:8080/"
        },
        "id": "Idznxze77E0e",
        "outputId": "abefef9d-8963-49d2-8351-d2eecd3cd840"
      },
      "outputs": [
        {
          "output_type": "stream",
          "name": "stdout",
          "text": [
            "<class 'pandas.core.frame.DataFrame'>\n",
            "Int64Index: 143050 entries, 0 to 0\n",
            "Data columns (total 42 columns):\n",
            " #   Column                                                                     Non-Null Count   Dtype   \n",
            "---  ------                                                                     --------------   -----   \n",
            " 0   ptcLeadLocomotiveId                                                        143050 non-null  object  \n",
            " 1   maximumTrainSpeed                                                          143050 non-null  int64   \n",
            " 2   loadedCarCount                                                             143050 non-null  int64   \n",
            " 3   emptyCarCount                                                              143050 non-null  int64   \n",
            " 4   trainLength                                                                143050 non-null  int64   \n",
            " 5   trailingTonnage                                                            143050 non-null  int64   \n",
            " 6   positionHistoryList                                                        143050 non-null  object  \n",
            " 7   locomotiveList                                                             143050 non-null  object  \n",
            " 8   subdivisionList                                                            143050 non-null  object  \n",
            " 9   trainEstimatedPositionList                                                 143050 non-null  object  \n",
            " 10  trainActualPositionList                                                    143050 non-null  object  \n",
            " 11  trainId.trainSCAC                                                          143050 non-null  object  \n",
            " 12  trainId.trainSection                                                       143050 non-null  object  \n",
            " 13  trainId.trainSymbol                                                        143050 non-null  object  \n",
            " 14  trainId.trainDate                                                          143050 non-null  object  \n",
            " 15  lastReportedPosition.positionTime                                          143050 non-null  object  \n",
            " 16  lastReportedPosition.speedMPH                                              143050 non-null  int64   \n",
            " 17  lastReportedPosition.milepostLocation.subdivisionId                        143050 non-null  int64   \n",
            " 18  lastReportedPosition.milepostLocation.trackName                            143050 non-null  category\n",
            " 19  lastReportedPosition.milepostLocation.milepost.milepostNumber              143050 non-null  float64 \n",
            " 20  aotuTrainData.priorityCode                                                 143050 non-null  int64   \n",
            " 21  aotuTrainData.categoryCode                                                 143050 non-null  int64   \n",
            " 22  aotuTrainData.authorityRangeCode                                           143050 non-null  int64   \n",
            " 23  aotuTrainData.ownershipCode                                                143050 non-null  int64   \n",
            " 24  aotuTrainData.totalCarWeight                                               143050 non-null  float64 \n",
            " 25  aotuTrainData.totalCarLength                                               143050 non-null  float64 \n",
            " 26  aotuTrainData.totalLocomotiveWeight                                        143050 non-null  float64 \n",
            " 27  aotuTrainData.totalLocomotiveLength                                        143050 non-null  float64 \n",
            " 28  aotuTrainData.actualTonsPerAxle                                            143050 non-null  float64 \n",
            " 29  aotuTrainData.heavy143TonCarCount                                          143050 non-null  int64   \n",
            " 30  aotuTrainData.heavy158TonCarCount                                          143050 non-null  int64   \n",
            " 31  aotuTrainData.over158TonCarCount                                           143050 non-null  int64   \n",
            " 32  aotuTrainData.highWideCarCount                                             143050 non-null  int64   \n",
            " 33  aotuTrainData.eventCode                                                    143050 non-null  int64   \n",
            " 34  aotuTrainData.routeLocationList                                            143050 non-null  object  \n",
            " 35  lastReportedPosition.nextSignalState.milepostLocation.milepostNumber       121984 non-null  float64 \n",
            " 36  lastReportedPosition.nextSignalState.signalState                           121984 non-null  float64 \n",
            " 37  lastReportedPosition.precedingSignalState.milepostLocation.milepostNumber  121577 non-null  float64 \n",
            " 38  lastReportedPosition.precedingSignalState.previousSignalState              110875 non-null  float64 \n",
            " 39  lastReportedPosition.precedingSignalState.signalState                      121577 non-null  float64 \n",
            " 40  milepost                                                                   143050 non-null  int64   \n",
            " 41  hour                                                                       143050 non-null  object  \n",
            "dtypes: category(1), float64(11), int64(17), object(13)\n",
            "memory usage: 46.0+ MB\n",
            "None\n",
            "(143050, 42)\n"
          ]
        }
      ],
      "source": [
        "print(dfTrainsAll.info())\n",
        "print(dfTrainsAll.shape)"
      ]
    },
    {
      "cell_type": "code",
      "source": [
        "dfTrainsLearn = dfTrainsAll\n",
        "# dfTrainsLearn['lastReportedPosition.milepostLocation.trackName'].unique()\n",
        "dfTrainsLearn['lastReportedPosition.milepostLocation.trackName'] = dfTrainsLearn['lastReportedPosition.milepostLocation.trackName'].astype('category')\n",
        "dfTrainsLearn['lastReportedPosition.milepostLocation.trackName'] = dfTrainsLearn['lastReportedPosition.milepostLocation.trackName'].cat.set_categories(['WEST MAIN', 'MAIN', 'MT 2', 'MT 1', 'WESTXO', 'XO', 'EASTXO','YD LD', 'EAST MAIN', 'TO_N_EAST MAIN', 'TO_S_UP_MAINLINE', 'TO_S_CS JUNCTION', 'S_STARKS', 'TO_S_KCS UP PRT CONN', 'TO_N_LUCAS', 'S_LUCAS'])\n",
        "dfTrainsLearn['lastReportedSpeedMPH'] = dfTrainsLearn.apply(lambda row: row['positionHistoryList'][0]['speedMPH'], axis=1)\n",
        "dfTrainsLearn['symbolType'] = dfTrainsLearn.apply(lambda row: row['trainId.trainSymbol'][:1], axis=1)\n",
        "dfTrainsLearn['symbolType'] = dfTrainsLearn['symbolType'].astype('category')\n",
        "dfTrainsLearn['symbolType'] = dfTrainsLearn['symbolType'].cat.set_categories(['M', 'I', 'Z', 'C', 'W', 'E', 'U'])\n"
      ],
      "metadata": {
        "id": "DParW0UUrZKv"
      },
      "execution_count": 22,
      "outputs": []
    },
    {
      "cell_type": "code",
      "source": [
        "def getWorkLocations(dfTrainsLocation):\n",
        "  if len(dfTrainsLocation['aotuTrainData.routeLocationList']) == 0:\n",
        "    return None\n",
        "  aotuRoute=pd.json_normalize(dfTrainsLocation['aotuTrainData.routeLocationList']) \n",
        "  eventLocations = aotuRoute[aotuRoute['activityList'].map(len) > 1]\n",
        "  return np.array(eventLocations['milepost.milepostNumber'].unique())\n"
      ],
      "metadata": {
        "id": "TsYgT41SKyAn"
      },
      "execution_count": 145,
      "outputs": []
    },
    {
      "cell_type": "code",
      "source": [
        "#workLocations = getWorkLocations(dfTrainsLearn.iloc[101])\n",
        "dfTrainsLearn['workLocations'] = dfTrainsLearn.apply(lambda row: getWorkLocations(row), axis=1)"
      ],
      "metadata": {
        "id": "5sNuNU-iSgFy"
      },
      "execution_count": 151,
      "outputs": []
    },
    {
      "cell_type": "markdown",
      "source": [
        "We can make this more clever later, but for now this seems the most sensible shortcut"
      ],
      "metadata": {
        "id": "-AZiJPI24QO9"
      }
    },
    {
      "cell_type": "code",
      "source": [
        "dfTrainsLearn['locomotiveCount'] = dfTrainsLearn.apply(lambda row: len(row['locomotiveList']),axis = 1)"
      ],
      "metadata": {
        "id": "LuG8-GNBzwrF"
      },
      "execution_count": 79,
      "outputs": []
    },
    {
      "cell_type": "code",
      "source": [
        "dfTrainsLearnActuals = dfTrainsLearn.apply(lambda row: pd.json_normalize(row['trainActualPositionList']), axis=1)"
      ],
      "metadata": {
        "id": "Ag-KbEfz4Is8"
      },
      "execution_count": null,
      "outputs": []
    },
    {
      "cell_type": "code",
      "source": [
        "dfTrainsLearnActuals.iloc[1]"
      ],
      "metadata": {
        "colab": {
          "base_uri": "https://localhost:8080/",
          "height": 206
        },
        "id": "r_gdrmU4IgpY",
        "outputId": "ddccdede-9eb4-4d71-bf15-ddc7f71857a2"
      },
      "execution_count": 234,
      "outputs": [
        {
          "output_type": "execute_result",
          "data": {
            "text/plain": [
              "           positionTime  speedMPH  milepostLocation.subdivisionId  \\\n",
              "0  2022-04-21T23:33:08Z       -10                             106   \n",
              "1  2022-04-21T23:35:08Z       -10                             106   \n",
              "2  2022-04-21T23:37:08Z       -10                             106   \n",
              "3  2022-04-21T23:39:08Z        -8                             106   \n",
              "4  2022-04-21T23:41:08Z        -8                             106   \n",
              "\n",
              "  milepostLocation.trackName  milepostLocation.milepost.milepostNumber  \n",
              "0                  WEST MAIN                                  766.5422  \n",
              "1             WEST MAIN-MAIN                                  766.1963  \n",
              "2                       MAIN                                  765.8565  \n",
              "3                       MAIN                                  765.5412  \n",
              "4                       MAIN                                  765.2401  "
            ],
            "text/html": [
              "\n",
              "  <div id=\"df-907fe0af-766a-4686-a578-d006006ab638\">\n",
              "    <div class=\"colab-df-container\">\n",
              "      <div>\n",
              "<style scoped>\n",
              "    .dataframe tbody tr th:only-of-type {\n",
              "        vertical-align: middle;\n",
              "    }\n",
              "\n",
              "    .dataframe tbody tr th {\n",
              "        vertical-align: top;\n",
              "    }\n",
              "\n",
              "    .dataframe thead th {\n",
              "        text-align: right;\n",
              "    }\n",
              "</style>\n",
              "<table border=\"1\" class=\"dataframe\">\n",
              "  <thead>\n",
              "    <tr style=\"text-align: right;\">\n",
              "      <th></th>\n",
              "      <th>positionTime</th>\n",
              "      <th>speedMPH</th>\n",
              "      <th>milepostLocation.subdivisionId</th>\n",
              "      <th>milepostLocation.trackName</th>\n",
              "      <th>milepostLocation.milepost.milepostNumber</th>\n",
              "    </tr>\n",
              "  </thead>\n",
              "  <tbody>\n",
              "    <tr>\n",
              "      <th>0</th>\n",
              "      <td>2022-04-21T23:33:08Z</td>\n",
              "      <td>-10</td>\n",
              "      <td>106</td>\n",
              "      <td>WEST MAIN</td>\n",
              "      <td>766.5422</td>\n",
              "    </tr>\n",
              "    <tr>\n",
              "      <th>1</th>\n",
              "      <td>2022-04-21T23:35:08Z</td>\n",
              "      <td>-10</td>\n",
              "      <td>106</td>\n",
              "      <td>WEST MAIN-MAIN</td>\n",
              "      <td>766.1963</td>\n",
              "    </tr>\n",
              "    <tr>\n",
              "      <th>2</th>\n",
              "      <td>2022-04-21T23:37:08Z</td>\n",
              "      <td>-10</td>\n",
              "      <td>106</td>\n",
              "      <td>MAIN</td>\n",
              "      <td>765.8565</td>\n",
              "    </tr>\n",
              "    <tr>\n",
              "      <th>3</th>\n",
              "      <td>2022-04-21T23:39:08Z</td>\n",
              "      <td>-8</td>\n",
              "      <td>106</td>\n",
              "      <td>MAIN</td>\n",
              "      <td>765.5412</td>\n",
              "    </tr>\n",
              "    <tr>\n",
              "      <th>4</th>\n",
              "      <td>2022-04-21T23:41:08Z</td>\n",
              "      <td>-8</td>\n",
              "      <td>106</td>\n",
              "      <td>MAIN</td>\n",
              "      <td>765.2401</td>\n",
              "    </tr>\n",
              "  </tbody>\n",
              "</table>\n",
              "</div>\n",
              "      <button class=\"colab-df-convert\" onclick=\"convertToInteractive('df-907fe0af-766a-4686-a578-d006006ab638')\"\n",
              "              title=\"Convert this dataframe to an interactive table.\"\n",
              "              style=\"display:none;\">\n",
              "        \n",
              "  <svg xmlns=\"http://www.w3.org/2000/svg\" height=\"24px\"viewBox=\"0 0 24 24\"\n",
              "       width=\"24px\">\n",
              "    <path d=\"M0 0h24v24H0V0z\" fill=\"none\"/>\n",
              "    <path d=\"M18.56 5.44l.94 2.06.94-2.06 2.06-.94-2.06-.94-.94-2.06-.94 2.06-2.06.94zm-11 1L8.5 8.5l.94-2.06 2.06-.94-2.06-.94L8.5 2.5l-.94 2.06-2.06.94zm10 10l.94 2.06.94-2.06 2.06-.94-2.06-.94-.94-2.06-.94 2.06-2.06.94z\"/><path d=\"M17.41 7.96l-1.37-1.37c-.4-.4-.92-.59-1.43-.59-.52 0-1.04.2-1.43.59L10.3 9.45l-7.72 7.72c-.78.78-.78 2.05 0 2.83L4 21.41c.39.39.9.59 1.41.59.51 0 1.02-.2 1.41-.59l7.78-7.78 2.81-2.81c.8-.78.8-2.07 0-2.86zM5.41 20L4 18.59l7.72-7.72 1.47 1.35L5.41 20z\"/>\n",
              "  </svg>\n",
              "      </button>\n",
              "      \n",
              "  <style>\n",
              "    .colab-df-container {\n",
              "      display:flex;\n",
              "      flex-wrap:wrap;\n",
              "      gap: 12px;\n",
              "    }\n",
              "\n",
              "    .colab-df-convert {\n",
              "      background-color: #E8F0FE;\n",
              "      border: none;\n",
              "      border-radius: 50%;\n",
              "      cursor: pointer;\n",
              "      display: none;\n",
              "      fill: #1967D2;\n",
              "      height: 32px;\n",
              "      padding: 0 0 0 0;\n",
              "      width: 32px;\n",
              "    }\n",
              "\n",
              "    .colab-df-convert:hover {\n",
              "      background-color: #E2EBFA;\n",
              "      box-shadow: 0px 1px 2px rgba(60, 64, 67, 0.3), 0px 1px 3px 1px rgba(60, 64, 67, 0.15);\n",
              "      fill: #174EA6;\n",
              "    }\n",
              "\n",
              "    [theme=dark] .colab-df-convert {\n",
              "      background-color: #3B4455;\n",
              "      fill: #D2E3FC;\n",
              "    }\n",
              "\n",
              "    [theme=dark] .colab-df-convert:hover {\n",
              "      background-color: #434B5C;\n",
              "      box-shadow: 0px 1px 3px 1px rgba(0, 0, 0, 0.15);\n",
              "      filter: drop-shadow(0px 1px 2px rgba(0, 0, 0, 0.3));\n",
              "      fill: #FFFFFF;\n",
              "    }\n",
              "  </style>\n",
              "\n",
              "      <script>\n",
              "        const buttonEl =\n",
              "          document.querySelector('#df-907fe0af-766a-4686-a578-d006006ab638 button.colab-df-convert');\n",
              "        buttonEl.style.display =\n",
              "          google.colab.kernel.accessAllowed ? 'block' : 'none';\n",
              "\n",
              "        async function convertToInteractive(key) {\n",
              "          const element = document.querySelector('#df-907fe0af-766a-4686-a578-d006006ab638');\n",
              "          const dataTable =\n",
              "            await google.colab.kernel.invokeFunction('convertToInteractive',\n",
              "                                                     [key], {});\n",
              "          if (!dataTable) return;\n",
              "\n",
              "          const docLinkHtml = 'Like what you see? Visit the ' +\n",
              "            '<a target=\"_blank\" href=https://colab.research.google.com/notebooks/data_table.ipynb>data table notebook</a>'\n",
              "            + ' to learn more about interactive tables.';\n",
              "          element.innerHTML = '';\n",
              "          dataTable['output_type'] = 'display_data';\n",
              "          await google.colab.output.renderOutput(dataTable, element);\n",
              "          const docLink = document.createElement('div');\n",
              "          docLink.innerHTML = docLinkHtml;\n",
              "          element.appendChild(docLink);\n",
              "        }\n",
              "      </script>\n",
              "    </div>\n",
              "  </div>\n",
              "  "
            ]
          },
          "metadata": {},
          "execution_count": 234
        }
      ]
    },
    {
      "cell_type": "code",
      "source": [
        "def findNextMilepostSpeed(trainsEntry, actualsEntry):\n",
        "  milepost = trainsEntry['lastReportedPosition.milepostLocation.milepost.milepostNumber']\n",
        "  #print(milepost)\n",
        "  value  = actualsEntry.loc[actualsEntry['milepostLocation.milepost.milepostNumber'] > milepost+1]\n",
        "  if (len(value) > 0):\n",
        "    return value.min()['speedMPH']\n",
        "  value  = actualsEntry.loc[actualsEntry['milepostLocation.milepost.milepostNumber'] < milepost-1]\n",
        "  if (len(value) > 0):\n",
        "    return value.max()['speedMPH']\n",
        "  return None"
      ],
      "metadata": {
        "id": "i_JszmqL0MR6"
      },
      "execution_count": 278,
      "outputs": []
    },
    {
      "cell_type": "code",
      "source": [
        "dfTrainsLearn['nextSpeed'] = dfTrainsLearn['lastReportedPosition.speedMPH']\n",
        "i = 0;\n",
        "for index, trainsEntry in dfTrainsLearn.iterrows():\n",
        "  actualsEntry = dfTrainsLearnActuals.iloc[i]\n",
        "  nextSpeed = findNextMilepostSpeed(trainsEntry, actualsEntry)\n",
        "  if (nextSpeed != None):\n",
        "    trainsEntry['nextSpeed'] = nextSpeed\n",
        "  if (i % 1000 == 0):\n",
        "    print(i)\n",
        "  i = i + 1  \n"
      ],
      "metadata": {
        "colab": {
          "base_uri": "https://localhost:8080/",
          "height": 1000
        },
        "id": "fG2U-anX-jbt",
        "outputId": "0f24a546-72ad-4e7d-f954-44e7e40705c3"
      },
      "execution_count": 292,
      "outputs": [
        {
          "output_type": "stream",
          "name": "stdout",
          "text": [
            "0\n"
          ]
        },
        {
          "output_type": "stream",
          "name": "stderr",
          "text": [
            "/usr/local/lib/python3.7/dist-packages/ipykernel_launcher.py:9: FutureWarning: Dropping of nuisance columns in DataFrame reductions (with 'numeric_only=None') is deprecated; in a future version this will raise TypeError.  Select only valid columns before calling the reduction.\n",
            "  if __name__ == '__main__':\n"
          ]
        },
        {
          "output_type": "stream",
          "name": "stdout",
          "text": [
            "1000\n",
            "2000\n",
            "3000\n",
            "4000\n",
            "5000\n",
            "6000\n",
            "7000\n",
            "8000\n",
            "9000\n",
            "10000\n",
            "11000\n",
            "12000\n",
            "13000\n",
            "14000\n",
            "15000\n",
            "16000\n"
          ]
        },
        {
          "output_type": "stream",
          "name": "stderr",
          "text": [
            "/usr/local/lib/python3.7/dist-packages/ipykernel_launcher.py:6: FutureWarning: Dropping of nuisance columns in DataFrame reductions (with 'numeric_only=None') is deprecated; in a future version this will raise TypeError.  Select only valid columns before calling the reduction.\n",
            "  \n"
          ]
        },
        {
          "output_type": "stream",
          "name": "stdout",
          "text": [
            "17000\n",
            "18000\n",
            "19000\n",
            "20000\n",
            "21000\n",
            "22000\n",
            "23000\n",
            "24000\n",
            "25000\n",
            "26000\n",
            "27000\n",
            "28000\n",
            "29000\n",
            "30000\n",
            "31000\n",
            "32000\n",
            "33000\n",
            "34000\n",
            "35000\n",
            "36000\n",
            "37000\n",
            "38000\n",
            "39000\n",
            "40000\n",
            "41000\n",
            "42000\n",
            "43000\n",
            "44000\n",
            "45000\n",
            "46000\n",
            "47000\n",
            "48000\n",
            "49000\n",
            "50000\n",
            "51000\n",
            "52000\n",
            "53000\n",
            "54000\n",
            "55000\n",
            "56000\n",
            "57000\n",
            "58000\n",
            "59000\n",
            "60000\n",
            "61000\n",
            "62000\n",
            "63000\n",
            "64000\n",
            "65000\n",
            "66000\n",
            "67000\n",
            "68000\n",
            "69000\n",
            "70000\n",
            "71000\n",
            "72000\n",
            "73000\n",
            "74000\n",
            "75000\n",
            "76000\n",
            "77000\n",
            "78000\n",
            "79000\n",
            "80000\n",
            "81000\n",
            "82000\n",
            "83000\n",
            "84000\n",
            "85000\n",
            "86000\n",
            "87000\n",
            "88000\n",
            "89000\n",
            "90000\n",
            "91000\n",
            "92000\n",
            "93000\n",
            "94000\n",
            "95000\n",
            "96000\n",
            "97000\n",
            "98000\n",
            "99000\n",
            "100000\n",
            "101000\n",
            "102000\n",
            "103000\n",
            "104000\n",
            "105000\n",
            "106000\n",
            "107000\n",
            "108000\n",
            "109000\n",
            "110000\n",
            "111000\n",
            "112000\n",
            "113000\n",
            "114000\n",
            "115000\n",
            "116000\n",
            "117000\n",
            "118000\n",
            "119000\n",
            "120000\n",
            "121000\n",
            "122000\n",
            "123000\n",
            "124000\n",
            "125000\n",
            "126000\n",
            "127000\n",
            "128000\n",
            "129000\n",
            "130000\n",
            "131000\n",
            "132000\n",
            "133000\n",
            "134000\n",
            "135000\n",
            "136000\n",
            "137000\n",
            "138000\n",
            "139000\n",
            "140000\n",
            "141000\n",
            "142000\n",
            "143000\n"
          ]
        },
        {
          "output_type": "error",
          "ename": "IndexError",
          "evalue": "ignored",
          "traceback": [
            "\u001b[0;31m---------------------------------------------------------------------------\u001b[0m",
            "\u001b[0;31mIndexError\u001b[0m                                Traceback (most recent call last)",
            "\u001b[0;32m<ipython-input-292-f2c69f8e5886>\u001b[0m in \u001b[0;36m<module>\u001b[0;34m()\u001b[0m\n\u001b[1;32m      2\u001b[0m \u001b[0mi\u001b[0m \u001b[0;34m=\u001b[0m \u001b[0;36m0\u001b[0m\u001b[0;34m;\u001b[0m\u001b[0;34m\u001b[0m\u001b[0;34m\u001b[0m\u001b[0m\n\u001b[1;32m      3\u001b[0m \u001b[0;32mfor\u001b[0m \u001b[0mindex\u001b[0m\u001b[0;34m,\u001b[0m \u001b[0mtrainsEntry\u001b[0m \u001b[0;32min\u001b[0m \u001b[0mdfTrainsLearn\u001b[0m\u001b[0;34m.\u001b[0m\u001b[0miterrows\u001b[0m\u001b[0;34m(\u001b[0m\u001b[0;34m)\u001b[0m\u001b[0;34m:\u001b[0m\u001b[0;34m\u001b[0m\u001b[0;34m\u001b[0m\u001b[0m\n\u001b[0;32m----> 4\u001b[0;31m   \u001b[0mactualsEntry\u001b[0m \u001b[0;34m=\u001b[0m \u001b[0mdfTrainsLearnActuals\u001b[0m\u001b[0;34m.\u001b[0m\u001b[0miloc\u001b[0m\u001b[0;34m[\u001b[0m\u001b[0mi\u001b[0m\u001b[0;34m]\u001b[0m\u001b[0;34m\u001b[0m\u001b[0;34m\u001b[0m\u001b[0m\n\u001b[0m\u001b[1;32m      5\u001b[0m   \u001b[0mnextSpeed\u001b[0m \u001b[0;34m=\u001b[0m \u001b[0mfindNextMilepostSpeed\u001b[0m\u001b[0;34m(\u001b[0m\u001b[0mtrainsEntry\u001b[0m\u001b[0;34m,\u001b[0m \u001b[0mactualsEntry\u001b[0m\u001b[0;34m)\u001b[0m\u001b[0;34m\u001b[0m\u001b[0;34m\u001b[0m\u001b[0m\n\u001b[1;32m      6\u001b[0m   \u001b[0;32mif\u001b[0m \u001b[0;34m(\u001b[0m\u001b[0mnextSpeed\u001b[0m \u001b[0;34m!=\u001b[0m \u001b[0;32mNone\u001b[0m\u001b[0;34m)\u001b[0m\u001b[0;34m:\u001b[0m\u001b[0;34m\u001b[0m\u001b[0;34m\u001b[0m\u001b[0m\n",
            "\u001b[0;32m/usr/local/lib/python3.7/dist-packages/pandas/core/indexing.py\u001b[0m in \u001b[0;36m__getitem__\u001b[0;34m(self, key)\u001b[0m\n\u001b[1;32m    929\u001b[0m \u001b[0;34m\u001b[0m\u001b[0m\n\u001b[1;32m    930\u001b[0m             \u001b[0mmaybe_callable\u001b[0m \u001b[0;34m=\u001b[0m \u001b[0mcom\u001b[0m\u001b[0;34m.\u001b[0m\u001b[0mapply_if_callable\u001b[0m\u001b[0;34m(\u001b[0m\u001b[0mkey\u001b[0m\u001b[0;34m,\u001b[0m \u001b[0mself\u001b[0m\u001b[0;34m.\u001b[0m\u001b[0mobj\u001b[0m\u001b[0;34m)\u001b[0m\u001b[0;34m\u001b[0m\u001b[0;34m\u001b[0m\u001b[0m\n\u001b[0;32m--> 931\u001b[0;31m             \u001b[0;32mreturn\u001b[0m \u001b[0mself\u001b[0m\u001b[0;34m.\u001b[0m\u001b[0m_getitem_axis\u001b[0m\u001b[0;34m(\u001b[0m\u001b[0mmaybe_callable\u001b[0m\u001b[0;34m,\u001b[0m \u001b[0maxis\u001b[0m\u001b[0;34m=\u001b[0m\u001b[0maxis\u001b[0m\u001b[0;34m)\u001b[0m\u001b[0;34m\u001b[0m\u001b[0;34m\u001b[0m\u001b[0m\n\u001b[0m\u001b[1;32m    932\u001b[0m \u001b[0;34m\u001b[0m\u001b[0m\n\u001b[1;32m    933\u001b[0m     \u001b[0;32mdef\u001b[0m \u001b[0m_is_scalar_access\u001b[0m\u001b[0;34m(\u001b[0m\u001b[0mself\u001b[0m\u001b[0;34m,\u001b[0m \u001b[0mkey\u001b[0m\u001b[0;34m:\u001b[0m \u001b[0mtuple\u001b[0m\u001b[0;34m)\u001b[0m\u001b[0;34m:\u001b[0m\u001b[0;34m\u001b[0m\u001b[0;34m\u001b[0m\u001b[0m\n",
            "\u001b[0;32m/usr/local/lib/python3.7/dist-packages/pandas/core/indexing.py\u001b[0m in \u001b[0;36m_getitem_axis\u001b[0;34m(self, key, axis)\u001b[0m\n\u001b[1;32m   1564\u001b[0m \u001b[0;34m\u001b[0m\u001b[0m\n\u001b[1;32m   1565\u001b[0m             \u001b[0;31m# validate the location\u001b[0m\u001b[0;34m\u001b[0m\u001b[0;34m\u001b[0m\u001b[0;34m\u001b[0m\u001b[0m\n\u001b[0;32m-> 1566\u001b[0;31m             \u001b[0mself\u001b[0m\u001b[0;34m.\u001b[0m\u001b[0m_validate_integer\u001b[0m\u001b[0;34m(\u001b[0m\u001b[0mkey\u001b[0m\u001b[0;34m,\u001b[0m \u001b[0maxis\u001b[0m\u001b[0;34m)\u001b[0m\u001b[0;34m\u001b[0m\u001b[0;34m\u001b[0m\u001b[0m\n\u001b[0m\u001b[1;32m   1567\u001b[0m \u001b[0;34m\u001b[0m\u001b[0m\n\u001b[1;32m   1568\u001b[0m             \u001b[0;32mreturn\u001b[0m \u001b[0mself\u001b[0m\u001b[0;34m.\u001b[0m\u001b[0mobj\u001b[0m\u001b[0;34m.\u001b[0m\u001b[0m_ixs\u001b[0m\u001b[0;34m(\u001b[0m\u001b[0mkey\u001b[0m\u001b[0;34m,\u001b[0m \u001b[0maxis\u001b[0m\u001b[0;34m=\u001b[0m\u001b[0maxis\u001b[0m\u001b[0;34m)\u001b[0m\u001b[0;34m\u001b[0m\u001b[0;34m\u001b[0m\u001b[0m\n",
            "\u001b[0;32m/usr/local/lib/python3.7/dist-packages/pandas/core/indexing.py\u001b[0m in \u001b[0;36m_validate_integer\u001b[0;34m(self, key, axis)\u001b[0m\n\u001b[1;32m   1498\u001b[0m         \u001b[0mlen_axis\u001b[0m \u001b[0;34m=\u001b[0m \u001b[0mlen\u001b[0m\u001b[0;34m(\u001b[0m\u001b[0mself\u001b[0m\u001b[0;34m.\u001b[0m\u001b[0mobj\u001b[0m\u001b[0;34m.\u001b[0m\u001b[0m_get_axis\u001b[0m\u001b[0;34m(\u001b[0m\u001b[0maxis\u001b[0m\u001b[0;34m)\u001b[0m\u001b[0;34m)\u001b[0m\u001b[0;34m\u001b[0m\u001b[0;34m\u001b[0m\u001b[0m\n\u001b[1;32m   1499\u001b[0m         \u001b[0;32mif\u001b[0m \u001b[0mkey\u001b[0m \u001b[0;34m>=\u001b[0m \u001b[0mlen_axis\u001b[0m \u001b[0;32mor\u001b[0m \u001b[0mkey\u001b[0m \u001b[0;34m<\u001b[0m \u001b[0;34m-\u001b[0m\u001b[0mlen_axis\u001b[0m\u001b[0;34m:\u001b[0m\u001b[0;34m\u001b[0m\u001b[0;34m\u001b[0m\u001b[0m\n\u001b[0;32m-> 1500\u001b[0;31m             \u001b[0;32mraise\u001b[0m \u001b[0mIndexError\u001b[0m\u001b[0;34m(\u001b[0m\u001b[0;34m\"single positional indexer is out-of-bounds\"\u001b[0m\u001b[0;34m)\u001b[0m\u001b[0;34m\u001b[0m\u001b[0;34m\u001b[0m\u001b[0m\n\u001b[0m\u001b[1;32m   1501\u001b[0m \u001b[0;34m\u001b[0m\u001b[0m\n\u001b[1;32m   1502\u001b[0m     \u001b[0;31m# -------------------------------------------------------------------\u001b[0m\u001b[0;34m\u001b[0m\u001b[0;34m\u001b[0m\u001b[0;34m\u001b[0m\u001b[0m\n",
            "\u001b[0;31mIndexError\u001b[0m: single positional indexer is out-of-bounds"
          ]
        }
      ]
    },
    {
      "cell_type": "code",
      "source": [
        "dfTrainsLearn = dfTrainsLearn.drop(['hour'], axis=1)"
      ],
      "metadata": {
        "id": "BpeBp1Jfu-Hj"
      },
      "execution_count": 185,
      "outputs": []
    },
    {
      "cell_type": "markdown",
      "source": [
        "Drop some values we are not using at the moment not needed"
      ],
      "metadata": {
        "id": "moXjNcMQu-3C"
      }
    },
    {
      "cell_type": "code",
      "source": [
        "dfTrainsLearn = dfTrainsLearn.drop(columns=['aotuTrainData.tenantCarrier',\n",
        "                                            'lastReportedPosition.precedingSignalState.currentStateTime', \n",
        "                                            'lastReportedPosition.nextSignalState.previousSignalState', \n",
        "                                            'lastReportedPosition.nextSignalState.currentStateTime', \n",
        "                                            'positionHistoryList',\n",
        "                                            'locomotiveList',\n",
        "                                            'subdivisionList',\n",
        "                                            'trainActualPositionList',\n",
        "                                            'trainEstimatedPositionList',\n",
        "                                            'aotuTrainData.routeLocationList'])"
      ],
      "metadata": {
        "id": "hBmsqv6IuVVO"
      },
      "execution_count": 27,
      "outputs": []
    },
    {
      "cell_type": "code",
      "source": [
        "tabular.core.make_date(dfTrainsLearn, 'trainId.trainDate')\n",
        "tabular.core.make_date(dfTrainsLearn, 'lastReportedPosition.positionTime')\n",
        "tabular.core.add_datepart(dfTrainsLearn, 'lastReportedPosition.positionTime')\n",
        "# tabular.core.add_elapsed_times(dfTrainsLearn, 'lastReportedPosition.positionTime')\n"
      ],
      "metadata": {
        "id": "DjTAxScsbHCN"
      },
      "execution_count": null,
      "outputs": []
    },
    {
      "cell_type": "code",
      "source": [
        "print(dfTrainsLearn.shape)\n",
        "print(dfTrainsLearn.info())\n",
        "print(dfTrainsLearn.iloc[100])"
      ],
      "metadata": {
        "colab": {
          "base_uri": "https://localhost:8080/"
        },
        "id": "jTVXPBSQ2gp3",
        "outputId": "9888df31-a4e9-46d8-9fe5-d32174f2278b"
      },
      "execution_count": 293,
      "outputs": [
        {
          "output_type": "stream",
          "name": "stdout",
          "text": [
            "(182429, 52)\n",
            "<class 'pandas.core.frame.DataFrame'>\n",
            "Int64Index: 182429 entries, 0 to 39924\n",
            "Data columns (total 52 columns):\n",
            " #   Column                                                                     Non-Null Count   Dtype         \n",
            "---  ------                                                                     --------------   -----         \n",
            " 0   ptcLeadLocomotiveId                                                        143050 non-null  object        \n",
            " 1   maximumTrainSpeed                                                          143050 non-null  float64       \n",
            " 2   loadedCarCount                                                             143050 non-null  float64       \n",
            " 3   emptyCarCount                                                              143050 non-null  float64       \n",
            " 4   trainLength                                                                143050 non-null  float64       \n",
            " 5   trailingTonnage                                                            143050 non-null  float64       \n",
            " 6   trainId.trainSCAC                                                          143050 non-null  object        \n",
            " 7   trainId.trainSection                                                       143050 non-null  object        \n",
            " 8   trainId.trainSymbol                                                        143050 non-null  object        \n",
            " 9   trainId.trainDate                                                          143050 non-null  datetime64[ns]\n",
            " 10  lastReportedPosition.speedMPH                                              143050 non-null  float64       \n",
            " 11  lastReportedPosition.milepostLocation.subdivisionId                        143050 non-null  float64       \n",
            " 12  lastReportedPosition.milepostLocation.trackName                            143050 non-null  category      \n",
            " 13  lastReportedPosition.milepostLocation.milepost.milepostNumber              143050 non-null  float64       \n",
            " 14  aotuTrainData.priorityCode                                                 143050 non-null  float64       \n",
            " 15  aotuTrainData.categoryCode                                                 143050 non-null  float64       \n",
            " 16  aotuTrainData.authorityRangeCode                                           143050 non-null  float64       \n",
            " 17  aotuTrainData.ownershipCode                                                143050 non-null  float64       \n",
            " 18  aotuTrainData.totalCarWeight                                               143050 non-null  float64       \n",
            " 19  aotuTrainData.totalCarLength                                               143050 non-null  float64       \n",
            " 20  aotuTrainData.totalLocomotiveWeight                                        143050 non-null  float64       \n",
            " 21  aotuTrainData.totalLocomotiveLength                                        143050 non-null  float64       \n",
            " 22  aotuTrainData.actualTonsPerAxle                                            143050 non-null  float64       \n",
            " 23  aotuTrainData.heavy143TonCarCount                                          143050 non-null  float64       \n",
            " 24  aotuTrainData.heavy158TonCarCount                                          143050 non-null  float64       \n",
            " 25  aotuTrainData.over158TonCarCount                                           143050 non-null  float64       \n",
            " 26  aotuTrainData.highWideCarCount                                             143050 non-null  float64       \n",
            " 27  aotuTrainData.eventCode                                                    143050 non-null  float64       \n",
            " 28  lastReportedPosition.nextSignalState.milepostLocation.milepostNumber       121984 non-null  float64       \n",
            " 29  lastReportedPosition.nextSignalState.signalState                           121984 non-null  float64       \n",
            " 30  lastReportedPosition.precedingSignalState.milepostLocation.milepostNumber  121577 non-null  float64       \n",
            " 31  lastReportedPosition.precedingSignalState.previousSignalState              110875 non-null  float64       \n",
            " 32  lastReportedPosition.precedingSignalState.signalState                      121577 non-null  float64       \n",
            " 33  milepost                                                                   143050 non-null  float64       \n",
            " 34  lastReportedSpeedMPH                                                       143050 non-null  float64       \n",
            " 35  locomotiveCount                                                            143050 non-null  float64       \n",
            " 36  symbolType                                                                 143050 non-null  category      \n",
            " 37  workLocations                                                              125038 non-null  object        \n",
            " 38  lastReportedPosition.positionTimeYear                                      143050 non-null  float64       \n",
            " 39  lastReportedPosition.positionTimeMonth                                     143050 non-null  float64       \n",
            " 40  lastReportedPosition.positionTimeWeek                                      143050 non-null  float64       \n",
            " 41  lastReportedPosition.positionTimeDay                                       143050 non-null  float64       \n",
            " 42  lastReportedPosition.positionTimeDayofweek                                 143050 non-null  float64       \n",
            " 43  lastReportedPosition.positionTimeDayofyear                                 143050 non-null  float64       \n",
            " 44  lastReportedPosition.positionTimeIs_month_end                              143050 non-null  object        \n",
            " 45  lastReportedPosition.positionTimeIs_month_start                            143050 non-null  object        \n",
            " 46  lastReportedPosition.positionTimeIs_quarter_end                            143050 non-null  object        \n",
            " 47  lastReportedPosition.positionTimeIs_quarter_start                          143050 non-null  object        \n",
            " 48  lastReportedPosition.positionTimeIs_year_end                               143050 non-null  object        \n",
            " 49  lastReportedPosition.positionTimeIs_year_start                             143050 non-null  object        \n",
            " 50  lastReportedPosition.positionTimeElapsed                                   143050 non-null  float64       \n",
            " 51  nextSpeed                                                                  143050 non-null  float64       \n",
            "dtypes: category(2), datetime64[ns](1), float64(38), object(11)\n",
            "memory usage: 75.4+ MB\n",
            "None\n",
            "ptcLeadLocomotiveId                                                                       UP2547\n",
            "maximumTrainSpeed                                                                           70.0\n",
            "loadedCarCount                                                                             221.0\n",
            "emptyCarCount                                                                                0.0\n",
            "trainLength                                                                              13539.0\n",
            "trailingTonnage                                                                          11805.0\n",
            "trainId.trainSCAC                                                                             UP\n",
            "trainId.trainSection                                                                            \n",
            "trainId.trainSymbol                                                                        ILBG3\n",
            "trainId.trainDate                                                            2022-04-16 00:00:00\n",
            "lastReportedPosition.speedMPH                                                              -35.0\n",
            "lastReportedPosition.milepostLocation.subdivisionId                                        106.0\n",
            "lastReportedPosition.milepostLocation.trackName                                             MT 2\n",
            "lastReportedPosition.milepostLocation.milepost.milepostNumber                           325.3429\n",
            "aotuTrainData.priorityCode                                                                   4.0\n",
            "aotuTrainData.categoryCode                                                                  10.0\n",
            "aotuTrainData.authorityRangeCode                                                             2.0\n",
            "aotuTrainData.ownershipCode                                                                  2.0\n",
            "aotuTrainData.totalCarWeight                                                         236055008.0\n",
            "aotuTrainData.totalCarLength                                                           1583820.0\n",
            "aotuTrainData.totalLocomotiveWeight                                                   12600000.0\n",
            "aotuTrainData.totalLocomotiveLength                                                      26580.0\n",
            "aotuTrainData.actualTonsPerAxle                                                          65535.0\n",
            "aotuTrainData.heavy143TonCarCount                                                            0.0\n",
            "aotuTrainData.heavy158TonCarCount                                                            0.0\n",
            "aotuTrainData.over158TonCarCount                                                             0.0\n",
            "aotuTrainData.highWideCarCount                                                               0.0\n",
            "aotuTrainData.eventCode                                                                      0.0\n",
            "lastReportedPosition.nextSignalState.milepostLocation.milepostNumber                      324.43\n",
            "lastReportedPosition.nextSignalState.signalState                                            -4.0\n",
            "lastReportedPosition.precedingSignalState.milepostLocation.milepostNumber                    NaN\n",
            "lastReportedPosition.precedingSignalState.previousSignalState                                NaN\n",
            "lastReportedPosition.precedingSignalState.signalState                                        NaN\n",
            "milepost                                                                                   325.0\n",
            "lastReportedSpeedMPH                                                                       -35.0\n",
            "locomotiveCount                                                                              3.0\n",
            "symbolType                                                                                     I\n",
            "workLocations                                                                            [202.2]\n",
            "lastReportedPosition.positionTimeYear                                                     2022.0\n",
            "lastReportedPosition.positionTimeMonth                                                       4.0\n",
            "lastReportedPosition.positionTimeWeek                                                       16.0\n",
            "lastReportedPosition.positionTimeDay                                                        21.0\n",
            "lastReportedPosition.positionTimeDayofweek                                                   3.0\n",
            "lastReportedPosition.positionTimeDayofyear                                                 111.0\n",
            "lastReportedPosition.positionTimeIs_month_end                                              False\n",
            "lastReportedPosition.positionTimeIs_month_start                                            False\n",
            "lastReportedPosition.positionTimeIs_quarter_end                                            False\n",
            "lastReportedPosition.positionTimeIs_quarter_start                                          False\n",
            "lastReportedPosition.positionTimeIs_year_end                                               False\n",
            "lastReportedPosition.positionTimeIs_year_start                                             False\n",
            "lastReportedPosition.positionTimeElapsed                                            1650578217.0\n",
            "nextSpeed                                                                                  -35.0\n",
            "Name: 0, dtype: object\n"
          ]
        }
      ]
    },
    {
      "cell_type": "markdown",
      "source": [
        "# Use Decision Tree to predict speed in 1 mile"
      ],
      "metadata": {
        "id": "mg1p1vouBeIB"
      }
    },
    {
      "cell_type": "code",
      "source": [
        "procs = [tabular.core.Categorify, tabular.core.FillMissing]"
      ],
      "metadata": {
        "id": "F9TApkZWbAbz"
      },
      "execution_count": 188,
      "outputs": []
    },
    {
      "cell_type": "code",
      "source": [
        "print (dfTrainsLearn.groupby(['lastReportedPosition.positionTimeDayofyear'])['lastReportedPosition.positionTimeDayofyear'].count())\n"
      ],
      "metadata": {
        "colab": {
          "base_uri": "https://localhost:8080/"
        },
        "id": "gDgYzofcvcpM",
        "outputId": "ee788022-24a1-4842-a02e-5f7e8aa58ba4"
      },
      "execution_count": 192,
      "outputs": [
        {
          "output_type": "stream",
          "name": "stdout",
          "text": [
            "lastReportedPosition.positionTimeDayofyear\n",
            "110     5420\n",
            "111    16601\n",
            "112    34466\n",
            "113    26068\n",
            "114    12265\n",
            "115     7845\n",
            "116     7814\n",
            "117       91\n",
            "118       14\n",
            "120     3849\n",
            "121      553\n",
            "122     7541\n",
            "123     8267\n",
            "124     7994\n",
            "125     4262\n",
            "Name: lastReportedPosition.positionTimeDayofyear, dtype: int64\n"
          ]
        }
      ]
    },
    {
      "cell_type": "code",
      "source": [
        "cond = ( dfTrainsLearn['lastReportedPosition.positionTimeDayofyear'] < 121 )\n",
        "trainIdx = np.where(cond)[0]\n",
        "validIdx = np.where(~cond)[0]\n",
        "splits = (list(trainIdx), list(validIdx))"
      ],
      "metadata": {
        "id": "nIURJVe5vc_n"
      },
      "execution_count": null,
      "outputs": []
    },
    {
      "cell_type": "code",
      "source": [
        "dep_var = 'nextSpeed'"
      ],
      "metadata": {
        "id": "rPW42wgnOLO_"
      },
      "execution_count": 294,
      "outputs": []
    },
    {
      "cell_type": "code",
      "source": [
        "cont,cat = tabular.core.cont_cat_split(dfTrainsLearn, 1, dep_var=dep_var)"
      ],
      "metadata": {
        "id": "gHDAeThzyzc6"
      },
      "execution_count": 295,
      "outputs": []
    },
    {
      "cell_type": "code",
      "source": [
        ""
      ],
      "metadata": {
        "id": "xz1ZonvnO-I7"
      },
      "execution_count": null,
      "outputs": []
    },
    {
      "cell_type": "markdown",
      "source": [
        "#OLD CODE"
      ],
      "metadata": {
        "id": "qseWe94Ea6rU"
      }
    },
    {
      "cell_type": "code",
      "source": [
        "def formatTrain(dfTrain):\n",
        "  actuals = pd.json_normalize(dfTrain['trainActualPositionList'])\n",
        "  cols = list(actuals.columns)\n",
        "  dfx = (actuals[cols[0:2] + cols[3:5]])\n",
        "  dfx = dfx.rename(columns={\"speedMPH\" : \"speedMPH\", \"milepostLocation.trackName\":\"trackName\", \"milepostLocation.milepost.milepostNumber\": \"milepostNumber\" })\n",
        "  est = pd.json_normalize(dfTrain['trainEstimatedPositionList'])  \n",
        "  beop = est.rename(columns={\"speedMPH\" : \"forecastSpeedMPH\", \"milepostLocation.trackName\":\"forecastTrackName\", \"milepostLocation.milepost.milepostNumber\": \"forecastMilepostNumber\" })\n",
        "  joined = beop.join(dfx, lsuffix='_beop', rsuffix='_actual')\n",
        "  dn = joined.dropna()\n",
        "  dn = dn.loc[(dn['speedMPH'] != 0)]\n",
        "  delta = abs(dn[\"speedMPH\"] - dn[\"forecastSpeedMPH\"]);\n",
        "  #dn = dn.apply(lambda x: abs(x) if x.name=='speedMPH' or  x.name=='forecastSpeedMPH' else x)\n",
        "  dn[\"delta\"] = delta\n",
        "  try:\n",
        "    dn['milepost'] = dn.apply(lambda row: math.trunc(row['milepostNumber']), axis=1) \n",
        "    dn['millis'] = dn.apply(lambda row: ((datetime.strptime(row['positionTime_actual'], \"%Y-%m-%dT%H:%M:%SZ\"))  - datetime(1970, 1, 1)) // timedelta(milliseconds=1), axis=1)\n",
        "  except ValueError:\n",
        "    print (ValueError)\n",
        "    print(\"Oops!  invalid format\", dn)\n",
        "  dn['trainId'] = dfTrain['trainId.trainSymbol']+\" \"+dfTrain['trainId.trainDate']\n",
        "  dn = dn.drop(columns=['milepostLocation.subdivisionId'])\n",
        "  # dn = dn.reset_index()\n",
        "  return dn"
      ],
      "metadata": {
        "id": "pqfGofcd7BCn"
      },
      "execution_count": 210,
      "outputs": []
    },
    {
      "cell_type": "code",
      "source": [
        "def convertTrains(trainSet): \n",
        "  trainsList = []\n",
        "  for index, train in trainSet.iterrows():\n",
        "    # print(train['trainId.trainSymbol'])\n",
        "    trainsList.append(formatTrain(train))\n",
        "  trains = pd.concat(trainsList)\n",
        "  trains = trains.sort_values(['trainId','positionTime_actual'])\n",
        "  trains = trains.drop_duplicates(subset=['trainId', 'milepost'], keep='last')\n",
        "  trains = trains.reset_index()\n",
        "  return trains"
      ],
      "metadata": {
        "id": "JOkpJ6qJbG8Y"
      },
      "execution_count": 211,
      "outputs": []
    },
    {
      "cell_type": "code",
      "source": [
        "trains = convertTrains(dfTrains)"
      ],
      "metadata": {
        "colab": {
          "base_uri": "https://localhost:8080/",
          "height": 165
        },
        "id": "uLeB0unDDRTd",
        "outputId": "12416b36-8313-4f92-8ab1-7add17bc9fde"
      },
      "execution_count": 212,
      "outputs": [
        {
          "output_type": "error",
          "ename": "NameError",
          "evalue": "ignored",
          "traceback": [
            "\u001b[0;31m---------------------------------------------------------------------------\u001b[0m",
            "\u001b[0;31mNameError\u001b[0m                                 Traceback (most recent call last)",
            "\u001b[0;32m<ipython-input-212-fbdab974d780>\u001b[0m in \u001b[0;36m<module>\u001b[0;34m()\u001b[0m\n\u001b[0;32m----> 1\u001b[0;31m \u001b[0mtrains\u001b[0m \u001b[0;34m=\u001b[0m \u001b[0mconvertTrains\u001b[0m\u001b[0;34m(\u001b[0m\u001b[0mdfTrains\u001b[0m\u001b[0;34m)\u001b[0m\u001b[0;34m\u001b[0m\u001b[0;34m\u001b[0m\u001b[0m\n\u001b[0m",
            "\u001b[0;31mNameError\u001b[0m: name 'dfTrains' is not defined"
          ]
        }
      ]
    },
    {
      "cell_type": "code",
      "source": [
        "def getTrain(trains, symbol):\n",
        "  return trains.loc[trains['trainId'].str.startswith(symbol)]"
      ],
      "metadata": {
        "id": "FCS02J2YqnYw"
      },
      "execution_count": null,
      "outputs": []
    },
    {
      "cell_type": "code",
      "source": [
        "getTrain(trains, 'MALNP')"
      ],
      "metadata": {
        "id": "RWCsD5q6GPZO"
      },
      "execution_count": null,
      "outputs": []
    },
    {
      "cell_type": "markdown",
      "source": [
        "Compute the Change of Velocity entering each milepost segment"
      ],
      "metadata": {
        "id": "C4kdY9sCwJwJ"
      }
    },
    {
      "cell_type": "code",
      "source": [
        "def computeSpeedChange(trains):\n",
        "  trains['speedChange'] = trains[\"speedMPH\"]\n",
        "  prevTrain = ''\n",
        "  for i in range(0, len(trains)):\n",
        "    if trains.loc[i, \"trainId\"] == prevTrain :\n",
        "      trains.loc[i, \"speedChange\"] = trains.loc[i, \"speedMPH\"] - trains.loc[i-1, \"speedMPH\"]\n",
        "    else :  \n",
        "      trains.loc[i, \"speedChange\"] = 0.0\n",
        "    prevTrain = trains.loc[i, \"trainId\"]\n",
        "  return trains"
      ],
      "metadata": {
        "id": "b2qg9syo1oSy"
      },
      "execution_count": null,
      "outputs": []
    },
    {
      "cell_type": "code",
      "source": [
        "trains = computeSpeedChange(trains)\n",
        "trains"
      ],
      "metadata": {
        "id": "LGKrmujtF6jq"
      },
      "execution_count": null,
      "outputs": []
    },
    {
      "cell_type": "code",
      "source": [
        "mps = trains['milepost'].unique()\n",
        "mps.sort()\n",
        "mps"
      ],
      "metadata": {
        "id": "LMM_NZDb7ZUm"
      },
      "execution_count": null,
      "outputs": []
    },
    {
      "cell_type": "code",
      "source": [
        "print(trains.iloc[0])"
      ],
      "metadata": {
        "id": "CBTI5mgzLPQJ"
      },
      "execution_count": null,
      "outputs": []
    },
    {
      "cell_type": "code",
      "source": [
        "def printAllReadings(trainSet, trainSymbol):\n",
        "  with pd.option_context('display.max_rows', None,\n",
        "                        'display.max_columns', None,\n",
        "                        'display.width', 1000,\n",
        "                        'display.precision', 3,\n",
        "                        ):\n",
        "    vals = trainSet.loc[trainSet['trainId'] == trainSymbol]\n",
        "    #vals= vals.sort_values('positionTime_actual')\n",
        "    print(vals[['index', 'positionTime_actual', 'milepost', 'milepostNumber','forecastSpeedMPH', 'speedMPH', 'speedChange']])"
      ],
      "metadata": {
        "id": "prQLfUvUxcr7"
      },
      "execution_count": null,
      "outputs": []
    },
    {
      "cell_type": "code",
      "source": [
        "printAllReadings(trains, 'ITAG3 2022-04-20')"
      ],
      "metadata": {
        "id": "A1b87K_6JsQQ"
      },
      "execution_count": null,
      "outputs": []
    },
    {
      "cell_type": "code",
      "source": [
        "dfTrains.iloc[3][\"trainEstimatedPositionList\"]                                                   "
      ],
      "metadata": {
        "id": "kExtfz9d_tMT"
      },
      "execution_count": null,
      "outputs": []
    },
    {
      "cell_type": "code",
      "source": [
        "dfTrains.iloc[3]"
      ],
      "metadata": {
        "id": "nN7dpeZpxTSU"
      },
      "execution_count": null,
      "outputs": []
    },
    {
      "cell_type": "code",
      "source": [
        "def plotTrain(trainData, trainId):\n",
        "  ax = plt.gca()\n",
        "  trainDF = trainData.loc[trainData['trainId'] == trainId]\n",
        "  trainDF = trainDF.reset_index();\n",
        "  trainsDF = trainDF.sort_values('positionTime_actual')\n",
        "  trainDF = trainDF.apply(lambda x: abs(x) if x.name=='speedMPH' or  x.name=='forecastSpeedMPH' else x)  \n",
        "  trainDF.plot(x = 'milepostNumber', y=\"speedMPH\", use_index=True, kind=\"scatter\", ax=ax, figsize=[24,10])\n",
        "  trainDF.plot(x = 'milepostNumber', y=\"forecastSpeedMPH\", use_index=True, kind=\"scatter\", color=\"red\", ax=ax, figsize=[24,10])\n",
        "  trainDF.plot(x = 'milepostNumber', y=\"delta\", use_index=True, kind=\"line\", color=\"green\", ax=ax, figsize=[24,10])\n",
        "  # plt.gcf().autofmt_xdate()\n",
        "  (t,b)= ax.get_xlim()  ## Added for clarity\n",
        "  if t < b:\n",
        "    ax.set_xlim((b,t))\n",
        "  plt.title(trainId)\n",
        "  plt.show()"
      ],
      "metadata": {
        "id": "_xIRdGqGwTXZ"
      },
      "execution_count": null,
      "outputs": []
    },
    {
      "cell_type": "code",
      "source": [
        "def printTrains(trains):\n",
        "  trainIdsList = trains['trainId'].unique()\n",
        "  print(trainIdsList.size)\n",
        "  print(trainIdsList)"
      ],
      "metadata": {
        "id": "02O118bRTw7n"
      },
      "execution_count": null,
      "outputs": []
    },
    {
      "cell_type": "code",
      "source": [
        "printTrains(trains)"
      ],
      "metadata": {
        "id": "9Z4_nM12CarB"
      },
      "execution_count": null,
      "outputs": []
    },
    {
      "cell_type": "code",
      "source": [
        "plotTrain(trains, trainIdsList[14])"
      ],
      "metadata": {
        "id": "qKdCmnM5B5s8"
      },
      "execution_count": null,
      "outputs": []
    },
    {
      "cell_type": "code",
      "source": [
        "trains.head()"
      ],
      "metadata": {
        "id": "JWUdmlvSbmUR"
      },
      "execution_count": null,
      "outputs": []
    },
    {
      "cell_type": "code",
      "source": [
        "indexedMean = (trains[[\"index\",\"delta\"]]).groupby('index').mean()\n",
        "indexedMean.plot( y=\"delta\", kind=\"line\", color=\"green\", figsize=[24,10])\n",
        "plt.title(\"Mean Error\")"
      ],
      "metadata": {
        "id": "YR7CkWAcXrKq"
      },
      "execution_count": null,
      "outputs": []
    },
    {
      "cell_type": "code",
      "source": [
        "meanSquaredError = math.sqrt((indexedMean['delta']**2).sum())\n",
        "print(\"Mean Squared Error: \", meanSquaredError)"
      ],
      "metadata": {
        "id": "eLjAgvTqemtA"
      },
      "execution_count": null,
      "outputs": []
    },
    {
      "cell_type": "code",
      "source": [
        "indexedMeanByMilepost = (trains[[\"milepost\",\"delta\"]]).groupby('milepost').mean()\n",
        "indexedMeanByMilepost = indexedMeanByMilepost.dropna().reset_index()\n",
        "print(indexedMeanByMilepost)\n",
        "indexedMeanByMilepost.plot(y=\"delta\", use_index=True, kind=\"line\", color=\"red\", figsize=[24,10])\n",
        "# labels= indexedMeanByMilepost['milepost'].values\n",
        "plt.xlabel('milepost')\n",
        "plt.title(\"Mean Error by Milepost\")"
      ],
      "metadata": {
        "id": "6seNTYcpgURo"
      },
      "execution_count": null,
      "outputs": []
    },
    {
      "cell_type": "markdown",
      "source": [
        "Begin Training New Model<br>\n",
        "We shall govern *increase in speed* to be a maximimum of the standard deviation for the milepost area. \n"
      ],
      "metadata": {
        "id": "V0UfdnvzOxvI"
      }
    },
    {
      "cell_type": "code",
      "source": [
        "dfTrainIds = dfTrains[['trainId.trainSymbol','trainId.trainDate','lastReportedPosition.positionTime']]\n",
        "dfTrainIds = dfTrainIds.drop_duplicates(subset=['trainId.trainSymbol','trainId.trainDate'], keep='first')\n",
        "dfTrainIds = dfTrainIds.sort_values(['lastReportedPosition.positionTime'])\n",
        "dfTrainIds"
      ],
      "metadata": {
        "id": "H87gq78H3yua"
      },
      "execution_count": null,
      "outputs": []
    },
    {
      "cell_type": "code",
      "source": [
        "count = dfTrainIds.shape[0]\n",
        "trainingCount = count // 4 * 3\n",
        "trainingSet = dfTrains.head(trainingCount)\n",
        "testingSet = dfTrains.tail(count - trainingCount)"
      ],
      "metadata": {
        "id": "WFCxJAxr6W6k"
      },
      "execution_count": null,
      "outputs": []
    },
    {
      "cell_type": "code",
      "source": [
        "trainSpeeds = trains.sort_values(['trainId', 'positionTime_actual'])\n",
        "trainSpeeds = trainSpeeds.drop_duplicates(subset=['trainId'], keep='first')\n",
        "trainSpeeds = trainSpeeds.sort_values(['positionTime_actual'])\n",
        "trainingSpeedsCount = trainSpeeds.shape[0] // 4 * 3\n",
        "trainingSpeedsIdSet = trainSpeeds.head(trainingSpeedsCount)\n",
        "testingSpeedsIdSet = trainSpeeds.tail(trainSpeeds.shape[0] - trainingSpeedsCount)\n",
        "trainingSpeeds = pd.merge(trains, trainingSpeedsIdSet[\"trainId\"])\n",
        "trainingSpeeds"
      ],
      "metadata": {
        "id": "RDhf5EExPBw8"
      },
      "execution_count": null,
      "outputs": []
    },
    {
      "cell_type": "code",
      "source": [
        "def minMaxMean(trainsSet): \n",
        "  vals = trainsSet\n",
        "  speedChangeMean = {\"speedChangeMean\": trainsSet[[\"speedChange\"]].mean()}\n",
        "  speedChangeMax = {\"speedChangeMax\" : trainsSet[[\"speedChange\"]].max()}\n",
        "  speedChangeMin = {\"speedChangeMin\" : trainsSet[[\"speedChange\"]].min()}\n",
        "  speedChangeStd = {\"speedChangeStd\" : trainsSet[[\"speedChange\"]].std()}\n",
        "  return [speedChangeMean, speedChangeMax, speedChangeMin, speedChangeStd, vals]\n"
      ],
      "metadata": {
        "id": "6Lw7YrHOvg5K"
      },
      "execution_count": null,
      "outputs": []
    },
    {
      "cell_type": "code",
      "source": [
        "mps = trains['milepost'].unique()\n",
        "mps.sort()\n",
        "mps"
      ],
      "metadata": {
        "id": "2g4q1zxFbM1o"
      },
      "execution_count": null,
      "outputs": []
    },
    {
      "cell_type": "code",
      "source": [
        "mpSpeedsPositive = {}\n",
        "for mp in mps:\n",
        "  mpTrains = trainingSpeeds.loc[trainingSpeeds['milepost'].between(mp - 1, mp +1)]\n",
        "  mpSpeedsPositive[mp] = minMaxMean(mpTrains.loc[mpTrains.speedMPH > 0])\n",
        "mpSpeedsPositive[203.0]\n"
      ],
      "metadata": {
        "id": "U2p6iVAA3vlU"
      },
      "execution_count": null,
      "outputs": []
    },
    {
      "cell_type": "code",
      "source": [
        "mpSpeedsNegative = {}\n",
        "for mp in mps:\n",
        "  mpTrains = trainingSpeeds.loc[trainingSpeeds['milepost'].between(mp - 1, mp +1)]\n",
        "  mpSpeedsNegative[mp] = minMaxMean(mpTrains.loc[mpTrains.speedMPH < 0])\n",
        "mpSpeedsNegative[203.0]\n"
      ],
      "metadata": {
        "id": "2hqYm6On_Q8H"
      },
      "execution_count": null,
      "outputs": []
    },
    {
      "cell_type": "code",
      "source": [
        "testTrains = convertTrains(testingSet)\n",
        "printTrains(testTrains)"
      ],
      "metadata": {
        "id": "XXffTFK9BmQa"
      },
      "execution_count": null,
      "outputs": []
    },
    {
      "cell_type": "code",
      "source": [
        "plotTrain(testTrains, 'MCHCB 2022-04-25')"
      ],
      "metadata": {
        "id": "DYIjlYCED71Z"
      },
      "execution_count": null,
      "outputs": []
    },
    {
      "cell_type": "code",
      "source": [
        "computeSpeedChange(testTrains)\n",
        "testTrains"
      ],
      "metadata": {
        "id": "rLrbwG2VGvfQ"
      },
      "execution_count": null,
      "outputs": []
    },
    {
      "cell_type": "code",
      "source": [
        "printAllReadings(testTrains, \"MCHCB 2022-04-25\")"
      ],
      "metadata": {
        "id": "B1AEab2WItYI"
      },
      "execution_count": null,
      "outputs": []
    },
    {
      "cell_type": "markdown",
      "source": [
        "I don't actually think this is FIXABLE..."
      ],
      "metadata": {
        "id": "GZja8euSKqty"
      }
    }
  ],
  "metadata": {
    "colab": {
      "name": "MLModel1.ipynb",
      "provenance": [],
      "collapsed_sections": [],
      "include_colab_link": true
    },
    "interpreter": {
      "hash": "99fae7d265480b5fbb0cf965db398c4d2d7b17b55f6259418c7dbfe0de01ea90"
    },
    "kernelspec": {
      "display_name": "Python 3 (ipykernel)",
      "language": "python",
      "name": "python3"
    },
    "language_info": {
      "codemirror_mode": {
        "name": "ipython",
        "version": 3
      },
      "file_extension": ".py",
      "mimetype": "text/x-python",
      "name": "python",
      "nbconvert_exporter": "python",
      "pygments_lexer": "ipython3",
      "version": "3.9.12"
    }
  },
  "nbformat": 4,
  "nbformat_minor": 0
}