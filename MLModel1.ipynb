{
  "cells": [
    {
      "cell_type": "markdown",
      "metadata": {
        "id": "view-in-github",
        "colab_type": "text"
      },
      "source": [
        "<a href=\"https://colab.research.google.com/github/swicklund/hackathon/blob/main/MLModel1.ipynb\" target=\"_parent\"><img src=\"https://colab.research.google.com/assets/colab-badge.svg\" alt=\"Open In Colab\"/></a>"
      ]
    },
    {
      "cell_type": "code",
      "execution_count": 178,
      "metadata": {
        "id": "f18J8QM17E0a"
      },
      "outputs": [],
      "source": [
        "!pip install -Uqq fastbook\n",
        "import os\n",
        "\n",
        "import IPython\n",
        "import IPython.display\n",
        "import matplotlib as mpl\n",
        "import matplotlib.pyplot as plt\n",
        "import numpy as np\n",
        "import fastbook as fastai\n",
        "import pandas as pd\n",
        "from pandas.io.json import json_normalize\n",
        "import seaborn as sns\n",
        "import tensorflow as tf\n",
        "import json\n",
        "import zipfile\n",
        "from io import BytesIO\n",
        "import torch\n",
        "import math\n",
        "from google.colab import files\n",
        "from google.colab import auth\n",
        "from datetime import datetime, timedelta\n",
        "\n",
        "fastai.setup_book()\n",
        "from fastai import tabular\n"
      ]
    },
    {
      "cell_type": "code",
      "source": [
        "!pip install dtreeviz"
      ],
      "metadata": {
        "colab": {
          "base_uri": "https://localhost:8080/"
        },
        "id": "qfYJfFKSB6nm",
        "outputId": "d9c2f8a3-b1c9-4a33-b9d5-a2738e94b2ac"
      },
      "execution_count": 179,
      "outputs": [
        {
          "output_type": "stream",
          "name": "stdout",
          "text": [
            "Looking in indexes: https://pypi.org/simple, https://us-python.pkg.dev/colab-wheels/public/simple/\n",
            "Requirement already satisfied: dtreeviz in /usr/local/lib/python3.7/dist-packages (1.3.6)\n",
            "Requirement already satisfied: graphviz>=0.9 in /usr/local/lib/python3.7/dist-packages (from dtreeviz) (0.10.1)\n",
            "Requirement already satisfied: pytest in /usr/local/lib/python3.7/dist-packages (from dtreeviz) (3.6.4)\n",
            "Requirement already satisfied: numpy in /usr/local/lib/python3.7/dist-packages (from dtreeviz) (1.21.6)\n",
            "Requirement already satisfied: pandas in /usr/local/lib/python3.7/dist-packages (from dtreeviz) (1.3.5)\n",
            "Requirement already satisfied: scikit-learn in /usr/local/lib/python3.7/dist-packages (from dtreeviz) (1.0.2)\n",
            "Requirement already satisfied: colour in /usr/local/lib/python3.7/dist-packages (from dtreeviz) (0.1.5)\n",
            "Requirement already satisfied: matplotlib in /usr/local/lib/python3.7/dist-packages (from dtreeviz) (3.2.2)\n",
            "Requirement already satisfied: kiwisolver>=1.0.1 in /usr/local/lib/python3.7/dist-packages (from matplotlib->dtreeviz) (1.4.3)\n",
            "Requirement already satisfied: pyparsing!=2.0.4,!=2.1.2,!=2.1.6,>=2.0.1 in /usr/local/lib/python3.7/dist-packages (from matplotlib->dtreeviz) (3.0.9)\n",
            "Requirement already satisfied: cycler>=0.10 in /usr/local/lib/python3.7/dist-packages (from matplotlib->dtreeviz) (0.11.0)\n",
            "Requirement already satisfied: python-dateutil>=2.1 in /usr/local/lib/python3.7/dist-packages (from matplotlib->dtreeviz) (2.8.2)\n",
            "Requirement already satisfied: typing-extensions in /usr/local/lib/python3.7/dist-packages (from kiwisolver>=1.0.1->matplotlib->dtreeviz) (4.1.1)\n",
            "Requirement already satisfied: six>=1.5 in /usr/local/lib/python3.7/dist-packages (from python-dateutil>=2.1->matplotlib->dtreeviz) (1.15.0)\n",
            "Requirement already satisfied: pytz>=2017.3 in /usr/local/lib/python3.7/dist-packages (from pandas->dtreeviz) (2022.1)\n",
            "Requirement already satisfied: pluggy<0.8,>=0.5 in /usr/local/lib/python3.7/dist-packages (from pytest->dtreeviz) (0.7.1)\n",
            "Requirement already satisfied: py>=1.5.0 in /usr/local/lib/python3.7/dist-packages (from pytest->dtreeviz) (1.11.0)\n",
            "Requirement already satisfied: atomicwrites>=1.0 in /usr/local/lib/python3.7/dist-packages (from pytest->dtreeviz) (1.4.0)\n",
            "Requirement already satisfied: attrs>=17.4.0 in /usr/local/lib/python3.7/dist-packages (from pytest->dtreeviz) (21.4.0)\n",
            "Requirement already satisfied: more-itertools>=4.0.0 in /usr/local/lib/python3.7/dist-packages (from pytest->dtreeviz) (8.13.0)\n",
            "Requirement already satisfied: setuptools in /usr/local/lib/python3.7/dist-packages (from pytest->dtreeviz) (57.4.0)\n",
            "Requirement already satisfied: joblib>=0.11 in /usr/local/lib/python3.7/dist-packages (from scikit-learn->dtreeviz) (1.1.0)\n",
            "Requirement already satisfied: scipy>=1.1.0 in /usr/local/lib/python3.7/dist-packages (from scikit-learn->dtreeviz) (1.4.1)\n",
            "Requirement already satisfied: threadpoolctl>=2.0.0 in /usr/local/lib/python3.7/dist-packages (from scikit-learn->dtreeviz) (3.1.0)\n"
          ]
        }
      ]
    },
    {
      "cell_type": "code",
      "source": [
        "from pandas.api.types import is_string_dtype, is_numeric_dtype, is_categorical_dtype\n",
        "from fastai.tabular.all import *\n",
        "from sklearn.ensemble import RandomForestRegressor\n",
        "from sklearn.tree import DecisionTreeRegressor\n",
        "from dtreeviz.trees import *\n",
        "from IPython.display import Image, display_svg, SVG\n",
        "\n",
        "pd.options.display.max_rows = 20\n",
        "pd.options.display.max_columns = 8"
      ],
      "metadata": {
        "id": "wAzfcrrIByux"
      },
      "execution_count": 180,
      "outputs": []
    },
    {
      "cell_type": "code",
      "source": [
        "auth.authenticate_user()"
      ],
      "metadata": {
        "id": "_wNuGIFQT0nZ"
      },
      "execution_count": 181,
      "outputs": []
    },
    {
      "cell_type": "code",
      "execution_count": 182,
      "metadata": {
        "colab": {
          "base_uri": "https://localhost:8080/"
        },
        "id": "TpnuFITI6Tzu",
        "outputId": "40cad631-644f-423a-cf19-a23fc80731fd"
      },
      "outputs": [
        {
          "output_type": "stream",
          "name": "stdout",
          "text": [
            "Updated property [core/project].\n"
          ]
        }
      ],
      "source": [
        "!gcloud config set project {'hackathon-352519'}"
      ]
    },
    {
      "cell_type": "code",
      "source": [
        "!gsutil cp gs://trains_data/* /tmp/."
      ],
      "metadata": {
        "colab": {
          "base_uri": "https://localhost:8080/"
        },
        "id": "srQJL7OKVRww",
        "outputId": "415e2e79-a0af-4543-fe1a-49d20d5a3e24"
      },
      "execution_count": 183,
      "outputs": [
        {
          "output_type": "stream",
          "name": "stdout",
          "text": [
            "Copying gs://trains_data/train-data_all-train-events.zip...\n",
            "/\n",
            "Operation completed over 1 objects/57.1 MiB.                                     \n"
          ]
        }
      ]
    },
    {
      "cell_type": "code",
      "execution_count": 184,
      "metadata": {
        "id": "ckXLQ7eQ7E0c",
        "colab": {
          "base_uri": "https://localhost:8080/"
        },
        "outputId": "2db9837e-3d18-4c25-909a-cbf3bc877267"
      },
      "outputs": [
        {
          "output_type": "stream",
          "name": "stdout",
          "text": [
            "1000   19:16:18\n",
            "2000   19:16:31\n",
            "3000   19:16:35\n",
            "4000   19:16:42\n",
            "5000   19:16:46\n",
            "6000   19:16:53\n",
            "7000   19:16:58\n",
            "8000   19:17:02\n",
            "9000   19:17:09\n",
            "10000   19:17:13\n"
          ]
        }
      ],
      "source": [
        "trains = {}\n",
        "i = 1\n",
        "prevLoco = ''\n",
        "with zipfile.ZipFile(\"/tmp/train-data_all-train-events.zip\", \"r\") as f:\n",
        "    for name in f.namelist():\n",
        "        if name.endswith('.json'):\n",
        "            with f.open(name) as zd:\n",
        "                data = json.load(zd)\n",
        "                lastTrainReporting = data['lastTrainReporting']\n",
        "                currentLoco = lastTrainReporting['ptcLeadLocomotiveId']\n",
        "                # prevLoco != currentLoco and \n",
        "                if (\"trainActualPositionList\" in lastTrainReporting and len(lastTrainReporting['trainActualPositionList']) > 0): \n",
        "                    trainActualPositionList = lastTrainReporting['trainActualPositionList']\n",
        "                    trains[i] = pd.json_normalize(lastTrainReporting)\n",
        "                    i = i + 1\n",
        "                    if (i % 1000 == 0):\n",
        "                      current_time = datetime.now().strftime(\"%H:%M:%S\")\n",
        "                      print(i, \" \", current_time)\n",
        "                    prevLoco = currentLoco\n",
        "                            "
      ]
    },
    {
      "cell_type": "code",
      "execution_count": 185,
      "metadata": {
        "id": "lgWV768N7E0d"
      },
      "outputs": [],
      "source": [
        "dfTrainsAll = pd.concat(trains.values())\n",
        "dfTrainsAll[\"milepost\"] = dfTrainsAll.apply(lambda row: math.trunc(row['lastReportedPosition.milepostLocation.milepost.milepostNumber']), axis=1)"
      ]
    },
    {
      "cell_type": "code",
      "source": [
        "del trains"
      ],
      "metadata": {
        "id": "Q581UU9nCWZ1"
      },
      "execution_count": 186,
      "outputs": []
    },
    {
      "cell_type": "code",
      "execution_count": 187,
      "metadata": {
        "colab": {
          "base_uri": "https://localhost:8080/"
        },
        "id": "Idznxze77E0e",
        "outputId": "694b1b31-798a-4de9-b7fb-134a64c1b5a2"
      },
      "outputs": [
        {
          "output_type": "stream",
          "name": "stdout",
          "text": [
            "<class 'pandas.core.frame.DataFrame'>\n",
            "Int64Index: 10054 entries, 0 to 0\n",
            "Data columns (total 45 columns):\n",
            " #   Column                                                                     Non-Null Count  Dtype  \n",
            "---  ------                                                                     --------------  -----  \n",
            " 0   ptcLeadLocomotiveId                                                        10054 non-null  object \n",
            " 1   maximumTrainSpeed                                                          10053 non-null  float64\n",
            " 2   loadedCarCount                                                             10053 non-null  float64\n",
            " 3   emptyCarCount                                                              10053 non-null  float64\n",
            " 4   trainLength                                                                10053 non-null  float64\n",
            " 5   trailingTonnage                                                            10053 non-null  float64\n",
            " 6   positionHistoryList                                                        10054 non-null  object \n",
            " 7   locomotiveList                                                             10054 non-null  object \n",
            " 8   subdivisionList                                                            10054 non-null  object \n",
            " 9   trainEstimatedPositionList                                                 9623 non-null   object \n",
            " 10  trainActualPositionList                                                    10054 non-null  object \n",
            " 11  trainId.trainSCAC                                                          10054 non-null  object \n",
            " 12  trainId.trainSection                                                       10054 non-null  object \n",
            " 13  trainId.trainSymbol                                                        10054 non-null  object \n",
            " 14  trainId.trainDate                                                          10054 non-null  object \n",
            " 15  lastReportedPosition.positionTime                                          10054 non-null  object \n",
            " 16  lastReportedPosition.speedMPH                                              10054 non-null  int64  \n",
            " 17  lastReportedPosition.milepostLocation.subdivisionId                        10054 non-null  int64  \n",
            " 18  lastReportedPosition.milepostLocation.trackName                            10054 non-null  object \n",
            " 19  lastReportedPosition.milepostLocation.milepost.milepostNumber              10054 non-null  float64\n",
            " 20  aotuTrainData.priorityCode                                                 10054 non-null  int64  \n",
            " 21  aotuTrainData.categoryCode                                                 10054 non-null  int64  \n",
            " 22  aotuTrainData.authorityRangeCode                                           10054 non-null  int64  \n",
            " 23  aotuTrainData.ownershipCode                                                10054 non-null  int64  \n",
            " 24  aotuTrainData.tenantCarrier                                                10054 non-null  object \n",
            " 25  aotuTrainData.totalCarWeight                                               10054 non-null  float64\n",
            " 26  aotuTrainData.totalCarLength                                               10054 non-null  float64\n",
            " 27  aotuTrainData.totalLocomotiveWeight                                        10054 non-null  float64\n",
            " 28  aotuTrainData.totalLocomotiveLength                                        10054 non-null  float64\n",
            " 29  aotuTrainData.actualTonsPerAxle                                            10054 non-null  float64\n",
            " 30  aotuTrainData.heavy143TonCarCount                                          10054 non-null  int64  \n",
            " 31  aotuTrainData.heavy158TonCarCount                                          10054 non-null  int64  \n",
            " 32  aotuTrainData.over158TonCarCount                                           10054 non-null  int64  \n",
            " 33  aotuTrainData.highWideCarCount                                             10054 non-null  int64  \n",
            " 34  aotuTrainData.eventCode                                                    10054 non-null  int64  \n",
            " 35  aotuTrainData.routeLocationList                                            10054 non-null  object \n",
            " 36  lastReportedPosition.precedingSignalState.milepostLocation.milepostNumber  8017 non-null   float64\n",
            " 37  lastReportedPosition.precedingSignalState.previousSignalState              6280 non-null   float64\n",
            " 38  lastReportedPosition.precedingSignalState.currentStateTime                 6280 non-null   object \n",
            " 39  lastReportedPosition.precedingSignalState.signalState                      8017 non-null   float64\n",
            " 40  lastReportedPosition.nextSignalState.milepostLocation.milepostNumber       7996 non-null   float64\n",
            " 41  lastReportedPosition.nextSignalState.signalState                           7996 non-null   float64\n",
            " 42  lastReportedPosition.nextSignalState.previousSignalState                   3345 non-null   float64\n",
            " 43  lastReportedPosition.nextSignalState.currentStateTime                      3345 non-null   object \n",
            " 44  milepost                                                                   10054 non-null  int64  \n",
            "dtypes: float64(17), int64(12), object(16)\n",
            "memory usage: 3.5+ MB\n",
            "None\n",
            "(10054, 45)\n"
          ]
        }
      ],
      "source": [
        "print(dfTrainsAll.info())\n",
        "print(dfTrainsAll.shape)"
      ]
    },
    {
      "cell_type": "code",
      "source": [
        "dfTrainsLearn = dfTrainsAll\n",
        "dfTrainsLearn['lastReportedPosition.milepostLocation.trackName'] = dfTrainsLearn['lastReportedPosition.milepostLocation.trackName'].astype('category')\n",
        "dfTrainsLearn['lastReportedPosition.milepostLocation.trackName'] = dfTrainsLearn['lastReportedPosition.milepostLocation.trackName'].cat.set_categories(['WEST MAIN', 'MAIN', 'MT 2', 'MT 1', 'WESTXO', 'XO', 'EASTXO','YD LD', 'EAST MAIN', 'TO_N_EAST MAIN', 'TO_S_UP_MAINLINE', 'TO_S_CS JUNCTION', 'S_STARKS', 'TO_S_KCS UP PRT CONN', 'TO_N_LUCAS', 'S_LUCAS'])\n",
        "#dfTrainsLearn['lastReportedSpeedMPH'] = dfTrainsLearn.apply(lambda row: row['positionHistoryList'][0]['speedMPH'], axis=1)\n",
        "dfTrainsLearn['symbolType'] = dfTrainsLearn.apply(lambda row: row['trainId.trainSymbol'][:1], axis=1)\n",
        "dfTrainsLearn['symbolType'] = dfTrainsLearn['symbolType'].astype('category')\n",
        "dfTrainsLearn['symbolType'] = dfTrainsLearn['symbolType'].cat.set_categories(['M', 'I', 'Z', 'C', 'W', 'E', 'U'])\n"
      ],
      "metadata": {
        "id": "DParW0UUrZKv"
      },
      "execution_count": 188,
      "outputs": []
    },
    {
      "cell_type": "code",
      "source": [
        "def getWorkLocations(dfTrainsLocation):\n",
        "  if len(dfTrainsLocation['aotuTrainData.routeLocationList']) == 0:\n",
        "    return None\n",
        "  aotuRoute=pd.json_normalize(dfTrainsLocation['aotuTrainData.routeLocationList']) \n",
        "  eventLocations = aotuRoute[aotuRoute['activityList'].map(len) > 1]\n",
        "  temp = eventLocations['milepost.milepostNumber'].unique()\n",
        "  if len(temp) == 0:\n",
        "    return None\n",
        "  return ','.join(['%.2f' % num for num in temp])"
      ],
      "metadata": {
        "id": "TsYgT41SKyAn"
      },
      "execution_count": 189,
      "outputs": []
    },
    {
      "cell_type": "code",
      "source": [
        "#getWorkLocations(dfTrainsLearn.iloc[301])"
      ],
      "metadata": {
        "id": "PM-Q6r-A2JNS"
      },
      "execution_count": 190,
      "outputs": []
    },
    {
      "cell_type": "code",
      "source": [
        "#dfTrainsLearn.loc[dfTrainsLearn['aotuTrainData.routeLocationList'].map(len)==0]"
      ],
      "metadata": {
        "id": "fK5apSV-R6NF"
      },
      "execution_count": 191,
      "outputs": []
    },
    {
      "cell_type": "code",
      "source": [
        "dfTrainsLearn['workLocations'] = dfTrainsLearn.apply(lambda row: getWorkLocations(row), axis=1)"
      ],
      "metadata": {
        "id": "5sNuNU-iSgFy"
      },
      "execution_count": 192,
      "outputs": []
    },
    {
      "cell_type": "code",
      "source": [
        "dfTrainsLearn['workLocations'].unique()"
      ],
      "metadata": {
        "colab": {
          "base_uri": "https://localhost:8080/"
        },
        "id": "jA6cNsHR8VSr",
        "outputId": "6d320ee5-7b28-4e87-ef33-2ca72c2eadeb"
      },
      "execution_count": 193,
      "outputs": [
        {
          "output_type": "execute_result",
          "data": {
            "text/plain": [
              "array([None, '202.20', '258.40,202.20', '202.20,258.40', '202.20,258.40,321.50', '202.92,202.20', '225.10,202.20', '240.90,202.20'], dtype=object)"
            ]
          },
          "metadata": {},
          "execution_count": 193
        }
      ]
    },
    {
      "cell_type": "markdown",
      "source": [
        "We can make this more clever later, but for now this seems the most sensible shortcut"
      ],
      "metadata": {
        "id": "-AZiJPI24QO9"
      }
    },
    {
      "cell_type": "code",
      "source": [
        "dfTrainsLearn['locomotiveCount'] = dfTrainsLearn.apply(lambda row: len(row['locomotiveList']),axis = 1)"
      ],
      "metadata": {
        "id": "LuG8-GNBzwrF"
      },
      "execution_count": 194,
      "outputs": []
    },
    {
      "cell_type": "code",
      "source": [
        "dfTrainsLearnActuals = dfTrainsLearn.apply(lambda row: pd.json_normalize(row['trainActualPositionList']), axis=1)"
      ],
      "metadata": {
        "id": "Ag-KbEfz4Is8"
      },
      "execution_count": 195,
      "outputs": []
    },
    {
      "cell_type": "code",
      "source": [
        "dfTrainsLearnActuals.iloc[1]"
      ],
      "metadata": {
        "colab": {
          "base_uri": "https://localhost:8080/",
          "height": 206
        },
        "id": "r_gdrmU4IgpY",
        "outputId": "64933209-fce1-41b7-f743-6f339cfabb7e"
      },
      "execution_count": 196,
      "outputs": [
        {
          "output_type": "execute_result",
          "data": {
            "text/plain": [
              "           positionTime  speedMPH  milepostLocation.subdivisionId  \\\n",
              "0  2022-04-21T23:34:11Z       -10                             106   \n",
              "1  2022-04-21T23:36:11Z       -10                             106   \n",
              "2  2022-04-21T23:38:11Z        -9                             106   \n",
              "3  2022-04-21T23:40:11Z        -8                             106   \n",
              "4  2022-04-21T23:42:11Z        -9                             106   \n",
              "\n",
              "  milepostLocation.trackName  milepostLocation.milepost.milepostNumber  \n",
              "0                  WEST MAIN                                 766.36030  \n",
              "1                       MAIN                                 766.01776  \n",
              "2                       MAIN                                 765.68665  \n",
              "3                       MAIN                                 765.38310  \n",
              "4                       MAIN                                 765.07520  "
            ],
            "text/html": [
              "\n",
              "  <div id=\"df-f59d1bbe-02c3-4a03-83da-ae61bb0b87b8\">\n",
              "    <div class=\"colab-df-container\">\n",
              "      <div>\n",
              "<style scoped>\n",
              "    .dataframe tbody tr th:only-of-type {\n",
              "        vertical-align: middle;\n",
              "    }\n",
              "\n",
              "    .dataframe tbody tr th {\n",
              "        vertical-align: top;\n",
              "    }\n",
              "\n",
              "    .dataframe thead th {\n",
              "        text-align: right;\n",
              "    }\n",
              "</style>\n",
              "<table border=\"1\" class=\"dataframe\">\n",
              "  <thead>\n",
              "    <tr style=\"text-align: right;\">\n",
              "      <th></th>\n",
              "      <th>positionTime</th>\n",
              "      <th>speedMPH</th>\n",
              "      <th>milepostLocation.subdivisionId</th>\n",
              "      <th>milepostLocation.trackName</th>\n",
              "      <th>milepostLocation.milepost.milepostNumber</th>\n",
              "    </tr>\n",
              "  </thead>\n",
              "  <tbody>\n",
              "    <tr>\n",
              "      <th>0</th>\n",
              "      <td>2022-04-21T23:34:11Z</td>\n",
              "      <td>-10</td>\n",
              "      <td>106</td>\n",
              "      <td>WEST MAIN</td>\n",
              "      <td>766.36030</td>\n",
              "    </tr>\n",
              "    <tr>\n",
              "      <th>1</th>\n",
              "      <td>2022-04-21T23:36:11Z</td>\n",
              "      <td>-10</td>\n",
              "      <td>106</td>\n",
              "      <td>MAIN</td>\n",
              "      <td>766.01776</td>\n",
              "    </tr>\n",
              "    <tr>\n",
              "      <th>2</th>\n",
              "      <td>2022-04-21T23:38:11Z</td>\n",
              "      <td>-9</td>\n",
              "      <td>106</td>\n",
              "      <td>MAIN</td>\n",
              "      <td>765.68665</td>\n",
              "    </tr>\n",
              "    <tr>\n",
              "      <th>3</th>\n",
              "      <td>2022-04-21T23:40:11Z</td>\n",
              "      <td>-8</td>\n",
              "      <td>106</td>\n",
              "      <td>MAIN</td>\n",
              "      <td>765.38310</td>\n",
              "    </tr>\n",
              "    <tr>\n",
              "      <th>4</th>\n",
              "      <td>2022-04-21T23:42:11Z</td>\n",
              "      <td>-9</td>\n",
              "      <td>106</td>\n",
              "      <td>MAIN</td>\n",
              "      <td>765.07520</td>\n",
              "    </tr>\n",
              "  </tbody>\n",
              "</table>\n",
              "</div>\n",
              "      <button class=\"colab-df-convert\" onclick=\"convertToInteractive('df-f59d1bbe-02c3-4a03-83da-ae61bb0b87b8')\"\n",
              "              title=\"Convert this dataframe to an interactive table.\"\n",
              "              style=\"display:none;\">\n",
              "        \n",
              "  <svg xmlns=\"http://www.w3.org/2000/svg\" height=\"24px\"viewBox=\"0 0 24 24\"\n",
              "       width=\"24px\">\n",
              "    <path d=\"M0 0h24v24H0V0z\" fill=\"none\"/>\n",
              "    <path d=\"M18.56 5.44l.94 2.06.94-2.06 2.06-.94-2.06-.94-.94-2.06-.94 2.06-2.06.94zm-11 1L8.5 8.5l.94-2.06 2.06-.94-2.06-.94L8.5 2.5l-.94 2.06-2.06.94zm10 10l.94 2.06.94-2.06 2.06-.94-2.06-.94-.94-2.06-.94 2.06-2.06.94z\"/><path d=\"M17.41 7.96l-1.37-1.37c-.4-.4-.92-.59-1.43-.59-.52 0-1.04.2-1.43.59L10.3 9.45l-7.72 7.72c-.78.78-.78 2.05 0 2.83L4 21.41c.39.39.9.59 1.41.59.51 0 1.02-.2 1.41-.59l7.78-7.78 2.81-2.81c.8-.78.8-2.07 0-2.86zM5.41 20L4 18.59l7.72-7.72 1.47 1.35L5.41 20z\"/>\n",
              "  </svg>\n",
              "      </button>\n",
              "      \n",
              "  <style>\n",
              "    .colab-df-container {\n",
              "      display:flex;\n",
              "      flex-wrap:wrap;\n",
              "      gap: 12px;\n",
              "    }\n",
              "\n",
              "    .colab-df-convert {\n",
              "      background-color: #E8F0FE;\n",
              "      border: none;\n",
              "      border-radius: 50%;\n",
              "      cursor: pointer;\n",
              "      display: none;\n",
              "      fill: #1967D2;\n",
              "      height: 32px;\n",
              "      padding: 0 0 0 0;\n",
              "      width: 32px;\n",
              "    }\n",
              "\n",
              "    .colab-df-convert:hover {\n",
              "      background-color: #E2EBFA;\n",
              "      box-shadow: 0px 1px 2px rgba(60, 64, 67, 0.3), 0px 1px 3px 1px rgba(60, 64, 67, 0.15);\n",
              "      fill: #174EA6;\n",
              "    }\n",
              "\n",
              "    [theme=dark] .colab-df-convert {\n",
              "      background-color: #3B4455;\n",
              "      fill: #D2E3FC;\n",
              "    }\n",
              "\n",
              "    [theme=dark] .colab-df-convert:hover {\n",
              "      background-color: #434B5C;\n",
              "      box-shadow: 0px 1px 3px 1px rgba(0, 0, 0, 0.15);\n",
              "      filter: drop-shadow(0px 1px 2px rgba(0, 0, 0, 0.3));\n",
              "      fill: #FFFFFF;\n",
              "    }\n",
              "  </style>\n",
              "\n",
              "      <script>\n",
              "        const buttonEl =\n",
              "          document.querySelector('#df-f59d1bbe-02c3-4a03-83da-ae61bb0b87b8 button.colab-df-convert');\n",
              "        buttonEl.style.display =\n",
              "          google.colab.kernel.accessAllowed ? 'block' : 'none';\n",
              "\n",
              "        async function convertToInteractive(key) {\n",
              "          const element = document.querySelector('#df-f59d1bbe-02c3-4a03-83da-ae61bb0b87b8');\n",
              "          const dataTable =\n",
              "            await google.colab.kernel.invokeFunction('convertToInteractive',\n",
              "                                                     [key], {});\n",
              "          if (!dataTable) return;\n",
              "\n",
              "          const docLinkHtml = 'Like what you see? Visit the ' +\n",
              "            '<a target=\"_blank\" href=https://colab.research.google.com/notebooks/data_table.ipynb>data table notebook</a>'\n",
              "            + ' to learn more about interactive tables.';\n",
              "          element.innerHTML = '';\n",
              "          dataTable['output_type'] = 'display_data';\n",
              "          await google.colab.output.renderOutput(dataTable, element);\n",
              "          const docLink = document.createElement('div');\n",
              "          docLink.innerHTML = docLinkHtml;\n",
              "          element.appendChild(docLink);\n",
              "        }\n",
              "      </script>\n",
              "    </div>\n",
              "  </div>\n",
              "  "
            ]
          },
          "metadata": {},
          "execution_count": 196
        }
      ]
    },
    {
      "cell_type": "code",
      "source": [
        "def findNextSpeed(trainsEntry, actualsEntry):\n",
        "  milepost = trainsEntry['lastReportedPosition.milepostLocation.milepost.milepostNumber']\n",
        "  #print(milepost)\n",
        "  value  = actualsEntry.loc[actualsEntry['milepostLocation.milepost.milepostNumber'] > milepost+1]\n",
        "  if (len(value) > 0):\n",
        "    return (value.min()['speedMPH'] - trainsEntry['lastReportedPosition.speedMPH'])\n",
        "  value  = actualsEntry.loc[actualsEntry['milepostLocation.milepost.milepostNumber'] < milepost-1]\n",
        "  if (len(value) > 0):\n",
        "    return (value.max()['speedMPH'] - trainsEntry['lastReportedPosition.speedMPH'])\n",
        "  return None"
      ],
      "metadata": {
        "id": "i_JszmqL0MR6"
      },
      "execution_count": 197,
      "outputs": []
    },
    {
      "cell_type": "code",
      "source": [
        "dfTrainsLearn['nextSpeed'] = dfTrainsLearn['lastReportedPosition.speedMPH']\n",
        "i = 0;\n",
        "for index, trainsEntry in dfTrainsLearn.iterrows():\n",
        "  actualsEntry = dfTrainsLearnActuals.iloc[i]\n",
        "  nextSpeed = findNextSpeed(trainsEntry, actualsEntry)\n",
        "  if (nextSpeed != None):\n",
        "    trainsEntry['nextSpeed'] = nextSpeed\n",
        "  if (i % 1000 == 0):\n",
        "    print(i)\n",
        "  i = i + 1"
      ],
      "metadata": {
        "colab": {
          "base_uri": "https://localhost:8080/"
        },
        "id": "fG2U-anX-jbt",
        "outputId": "7d8da584-5427-45ae-c990-c0bc70b2845b"
      },
      "execution_count": 198,
      "outputs": [
        {
          "output_type": "stream",
          "name": "stdout",
          "text": [
            "0\n"
          ]
        },
        {
          "output_type": "stream",
          "name": "stderr",
          "text": [
            "/usr/local/lib/python3.7/dist-packages/ipykernel_launcher.py:6: FutureWarning: Dropping of nuisance columns in DataFrame reductions (with 'numeric_only=None') is deprecated; in a future version this will raise TypeError.  Select only valid columns before calling the reduction.\n",
            "  \n",
            "/usr/local/lib/python3.7/dist-packages/ipykernel_launcher.py:9: FutureWarning: Dropping of nuisance columns in DataFrame reductions (with 'numeric_only=None') is deprecated; in a future version this will raise TypeError.  Select only valid columns before calling the reduction.\n",
            "  if __name__ == '__main__':\n"
          ]
        },
        {
          "output_type": "stream",
          "name": "stdout",
          "text": [
            "1000\n",
            "2000\n",
            "3000\n",
            "4000\n",
            "5000\n",
            "6000\n",
            "7000\n",
            "8000\n",
            "9000\n",
            "10000\n"
          ]
        }
      ]
    },
    {
      "cell_type": "code",
      "source": [
        "# dfTrainsLearn = dfTrainsLearn.drop(['hour'], axis=1)\n",
        "dfTrainsLearn['nextSpeed'].unique()"
      ],
      "metadata": {
        "colab": {
          "base_uri": "https://localhost:8080/"
        },
        "id": "BpeBp1Jfu-Hj",
        "outputId": "76250904-a69f-49e4-8e79-52ce699caf44"
      },
      "execution_count": 199,
      "outputs": [
        {
          "output_type": "execute_result",
          "data": {
            "text/plain": [
              "array([-12, -11, -10,  -8, -56, -58, -55, -43, -29, -34,   0, -22, -28, -27, -65, -68, -70, -67, -64, -71, -69, -62, -59, -61, -66, -48, -50, -53, -60, -52, -47, -46, -38, -37, -51, -17, -36, -41,\n",
              "       -63,  38,  50,  61,  62,  58,  59,  63,  67,  68,  69,  53,  39,  37,  41,  66,  64,  60,  65,  36,  46,  47,  49,  51,  48,  45,  54,  56,  55,  52,  70,  57,  43,  42, -45, -40, -49, -57,\n",
              "       -54, -44, -39,  21,   9,   8,  27,  34,  31,  28,  35,  44,  24,  25,  26,  29,  30,  40,  23,  20,  11,  16,  32, -35, -32, -33, -31, -30, -25, -23, -26, -42, -20, -21, -19, -24, -16, -15,\n",
              "        -5,  -9, -14, -13,  -2,  -7, -18,  -1,  -6,  22,  13,   6,   5,  33,  19,  17,  10,   7,   3,  14,  12,  15,  18,   2,   1,  -3,  -4,   4])"
            ]
          },
          "metadata": {},
          "execution_count": 199
        }
      ]
    },
    {
      "cell_type": "markdown",
      "source": [
        "Drop some values we are not using at the moment not needed"
      ],
      "metadata": {
        "id": "moXjNcMQu-3C"
      }
    },
    {
      "cell_type": "code",
      "source": [
        "dfTrainsLearn = dfTrainsLearn.drop(columns=['aotuTrainData.tenantCarrier',\n",
        "                                            'lastReportedPosition.precedingSignalState.currentStateTime', \n",
        "                                            'lastReportedPosition.nextSignalState.previousSignalState', \n",
        "                                            'lastReportedPosition.nextSignalState.currentStateTime', \n",
        "                                            'positionHistoryList',\n",
        "                                            'locomotiveList',\n",
        "                                            'subdivisionList',\n",
        "                                            'trainActualPositionList',\n",
        "                                            'trainEstimatedPositionList',\n",
        "                                            'aotuTrainData.routeLocationList'])"
      ],
      "metadata": {
        "id": "hBmsqv6IuVVO"
      },
      "execution_count": 200,
      "outputs": []
    },
    {
      "cell_type": "code",
      "source": [
        "tabular.core.make_date(dfTrainsLearn, 'trainId.trainDate')\n",
        "tabular.core.make_date(dfTrainsLearn, 'lastReportedPosition.positionTime')\n",
        "tabular.core.add_datepart(dfTrainsLearn, 'lastReportedPosition.positionTime')\n",
        "# tabular.core.add_elapsed_times(dfTrainsLearn, 'lastReportedPosition.positionTime')\n"
      ],
      "metadata": {
        "colab": {
          "base_uri": "https://localhost:8080/",
          "height": 488
        },
        "id": "DjTAxScsbHCN",
        "outputId": "aba751cc-8d25-471c-e4e1-498ea984c29d"
      },
      "execution_count": 201,
      "outputs": [
        {
          "output_type": "execute_result",
          "data": {
            "text/plain": [
              "   ptcLeadLocomotiveId  maximumTrainSpeed  loadedCarCount  emptyCarCount  ...  \\\n",
              "0               UP2010               50.0            61.0           92.0  ...   \n",
              "0               UP2010               50.0            61.0           92.0  ...   \n",
              "0               UP2010               50.0            61.0           92.0  ...   \n",
              "0               UP2010               50.0            61.0           92.0  ...   \n",
              "0               UP2010               50.0            61.0           92.0  ...   \n",
              "..                 ...                ...             ...            ...  ...   \n",
              "0               UP6459               40.0           105.0           91.0  ...   \n",
              "0               UP6459               40.0           105.0           91.0  ...   \n",
              "0               UP6459               40.0           105.0           91.0  ...   \n",
              "0               UP6459               40.0           105.0           91.0  ...   \n",
              "0               UP6459               40.0           105.0           91.0  ...   \n",
              "\n",
              "    lastReportedPosition.positionTimeIs_quarter_start  \\\n",
              "0                                               False   \n",
              "0                                               False   \n",
              "0                                               False   \n",
              "0                                               False   \n",
              "0                                               False   \n",
              "..                                                ...   \n",
              "0                                               False   \n",
              "0                                               False   \n",
              "0                                               False   \n",
              "0                                               False   \n",
              "0                                               False   \n",
              "\n",
              "    lastReportedPosition.positionTimeIs_year_end  \\\n",
              "0                                          False   \n",
              "0                                          False   \n",
              "0                                          False   \n",
              "0                                          False   \n",
              "0                                          False   \n",
              "..                                           ...   \n",
              "0                                          False   \n",
              "0                                          False   \n",
              "0                                          False   \n",
              "0                                          False   \n",
              "0                                          False   \n",
              "\n",
              "   lastReportedPosition.positionTimeIs_year_start  \\\n",
              "0                                           False   \n",
              "0                                           False   \n",
              "0                                           False   \n",
              "0                                           False   \n",
              "0                                           False   \n",
              "..                                            ...   \n",
              "0                                           False   \n",
              "0                                           False   \n",
              "0                                           False   \n",
              "0                                           False   \n",
              "0                                           False   \n",
              "\n",
              "   lastReportedPosition.positionTimeElapsed  \n",
              "0                              1.650584e+09  \n",
              "0                              1.650584e+09  \n",
              "0                              1.650584e+09  \n",
              "0                              1.650584e+09  \n",
              "0                              1.650584e+09  \n",
              "..                                      ...  \n",
              "0                              1.649637e+09  \n",
              "0                              1.649637e+09  \n",
              "0                              1.649637e+09  \n",
              "0                              1.649637e+09  \n",
              "0                              1.649638e+09  \n",
              "\n",
              "[10054 rows x 51 columns]"
            ],
            "text/html": [
              "\n",
              "  <div id=\"df-610cde71-b564-4d51-844a-8b19e6c19052\">\n",
              "    <div class=\"colab-df-container\">\n",
              "      <div>\n",
              "<style scoped>\n",
              "    .dataframe tbody tr th:only-of-type {\n",
              "        vertical-align: middle;\n",
              "    }\n",
              "\n",
              "    .dataframe tbody tr th {\n",
              "        vertical-align: top;\n",
              "    }\n",
              "\n",
              "    .dataframe thead th {\n",
              "        text-align: right;\n",
              "    }\n",
              "</style>\n",
              "<table border=\"1\" class=\"dataframe\">\n",
              "  <thead>\n",
              "    <tr style=\"text-align: right;\">\n",
              "      <th></th>\n",
              "      <th>ptcLeadLocomotiveId</th>\n",
              "      <th>maximumTrainSpeed</th>\n",
              "      <th>loadedCarCount</th>\n",
              "      <th>emptyCarCount</th>\n",
              "      <th>...</th>\n",
              "      <th>lastReportedPosition.positionTimeIs_quarter_start</th>\n",
              "      <th>lastReportedPosition.positionTimeIs_year_end</th>\n",
              "      <th>lastReportedPosition.positionTimeIs_year_start</th>\n",
              "      <th>lastReportedPosition.positionTimeElapsed</th>\n",
              "    </tr>\n",
              "  </thead>\n",
              "  <tbody>\n",
              "    <tr>\n",
              "      <th>0</th>\n",
              "      <td>UP2010</td>\n",
              "      <td>50.0</td>\n",
              "      <td>61.0</td>\n",
              "      <td>92.0</td>\n",
              "      <td>...</td>\n",
              "      <td>False</td>\n",
              "      <td>False</td>\n",
              "      <td>False</td>\n",
              "      <td>1.650584e+09</td>\n",
              "    </tr>\n",
              "    <tr>\n",
              "      <th>0</th>\n",
              "      <td>UP2010</td>\n",
              "      <td>50.0</td>\n",
              "      <td>61.0</td>\n",
              "      <td>92.0</td>\n",
              "      <td>...</td>\n",
              "      <td>False</td>\n",
              "      <td>False</td>\n",
              "      <td>False</td>\n",
              "      <td>1.650584e+09</td>\n",
              "    </tr>\n",
              "    <tr>\n",
              "      <th>0</th>\n",
              "      <td>UP2010</td>\n",
              "      <td>50.0</td>\n",
              "      <td>61.0</td>\n",
              "      <td>92.0</td>\n",
              "      <td>...</td>\n",
              "      <td>False</td>\n",
              "      <td>False</td>\n",
              "      <td>False</td>\n",
              "      <td>1.650584e+09</td>\n",
              "    </tr>\n",
              "    <tr>\n",
              "      <th>0</th>\n",
              "      <td>UP2010</td>\n",
              "      <td>50.0</td>\n",
              "      <td>61.0</td>\n",
              "      <td>92.0</td>\n",
              "      <td>...</td>\n",
              "      <td>False</td>\n",
              "      <td>False</td>\n",
              "      <td>False</td>\n",
              "      <td>1.650584e+09</td>\n",
              "    </tr>\n",
              "    <tr>\n",
              "      <th>0</th>\n",
              "      <td>UP2010</td>\n",
              "      <td>50.0</td>\n",
              "      <td>61.0</td>\n",
              "      <td>92.0</td>\n",
              "      <td>...</td>\n",
              "      <td>False</td>\n",
              "      <td>False</td>\n",
              "      <td>False</td>\n",
              "      <td>1.650584e+09</td>\n",
              "    </tr>\n",
              "    <tr>\n",
              "      <th>...</th>\n",
              "      <td>...</td>\n",
              "      <td>...</td>\n",
              "      <td>...</td>\n",
              "      <td>...</td>\n",
              "      <td>...</td>\n",
              "      <td>...</td>\n",
              "      <td>...</td>\n",
              "      <td>...</td>\n",
              "      <td>...</td>\n",
              "    </tr>\n",
              "    <tr>\n",
              "      <th>0</th>\n",
              "      <td>UP6459</td>\n",
              "      <td>40.0</td>\n",
              "      <td>105.0</td>\n",
              "      <td>91.0</td>\n",
              "      <td>...</td>\n",
              "      <td>False</td>\n",
              "      <td>False</td>\n",
              "      <td>False</td>\n",
              "      <td>1.649637e+09</td>\n",
              "    </tr>\n",
              "    <tr>\n",
              "      <th>0</th>\n",
              "      <td>UP6459</td>\n",
              "      <td>40.0</td>\n",
              "      <td>105.0</td>\n",
              "      <td>91.0</td>\n",
              "      <td>...</td>\n",
              "      <td>False</td>\n",
              "      <td>False</td>\n",
              "      <td>False</td>\n",
              "      <td>1.649637e+09</td>\n",
              "    </tr>\n",
              "    <tr>\n",
              "      <th>0</th>\n",
              "      <td>UP6459</td>\n",
              "      <td>40.0</td>\n",
              "      <td>105.0</td>\n",
              "      <td>91.0</td>\n",
              "      <td>...</td>\n",
              "      <td>False</td>\n",
              "      <td>False</td>\n",
              "      <td>False</td>\n",
              "      <td>1.649637e+09</td>\n",
              "    </tr>\n",
              "    <tr>\n",
              "      <th>0</th>\n",
              "      <td>UP6459</td>\n",
              "      <td>40.0</td>\n",
              "      <td>105.0</td>\n",
              "      <td>91.0</td>\n",
              "      <td>...</td>\n",
              "      <td>False</td>\n",
              "      <td>False</td>\n",
              "      <td>False</td>\n",
              "      <td>1.649637e+09</td>\n",
              "    </tr>\n",
              "    <tr>\n",
              "      <th>0</th>\n",
              "      <td>UP6459</td>\n",
              "      <td>40.0</td>\n",
              "      <td>105.0</td>\n",
              "      <td>91.0</td>\n",
              "      <td>...</td>\n",
              "      <td>False</td>\n",
              "      <td>False</td>\n",
              "      <td>False</td>\n",
              "      <td>1.649638e+09</td>\n",
              "    </tr>\n",
              "  </tbody>\n",
              "</table>\n",
              "<p>10054 rows × 51 columns</p>\n",
              "</div>\n",
              "      <button class=\"colab-df-convert\" onclick=\"convertToInteractive('df-610cde71-b564-4d51-844a-8b19e6c19052')\"\n",
              "              title=\"Convert this dataframe to an interactive table.\"\n",
              "              style=\"display:none;\">\n",
              "        \n",
              "  <svg xmlns=\"http://www.w3.org/2000/svg\" height=\"24px\"viewBox=\"0 0 24 24\"\n",
              "       width=\"24px\">\n",
              "    <path d=\"M0 0h24v24H0V0z\" fill=\"none\"/>\n",
              "    <path d=\"M18.56 5.44l.94 2.06.94-2.06 2.06-.94-2.06-.94-.94-2.06-.94 2.06-2.06.94zm-11 1L8.5 8.5l.94-2.06 2.06-.94-2.06-.94L8.5 2.5l-.94 2.06-2.06.94zm10 10l.94 2.06.94-2.06 2.06-.94-2.06-.94-.94-2.06-.94 2.06-2.06.94z\"/><path d=\"M17.41 7.96l-1.37-1.37c-.4-.4-.92-.59-1.43-.59-.52 0-1.04.2-1.43.59L10.3 9.45l-7.72 7.72c-.78.78-.78 2.05 0 2.83L4 21.41c.39.39.9.59 1.41.59.51 0 1.02-.2 1.41-.59l7.78-7.78 2.81-2.81c.8-.78.8-2.07 0-2.86zM5.41 20L4 18.59l7.72-7.72 1.47 1.35L5.41 20z\"/>\n",
              "  </svg>\n",
              "      </button>\n",
              "      \n",
              "  <style>\n",
              "    .colab-df-container {\n",
              "      display:flex;\n",
              "      flex-wrap:wrap;\n",
              "      gap: 12px;\n",
              "    }\n",
              "\n",
              "    .colab-df-convert {\n",
              "      background-color: #E8F0FE;\n",
              "      border: none;\n",
              "      border-radius: 50%;\n",
              "      cursor: pointer;\n",
              "      display: none;\n",
              "      fill: #1967D2;\n",
              "      height: 32px;\n",
              "      padding: 0 0 0 0;\n",
              "      width: 32px;\n",
              "    }\n",
              "\n",
              "    .colab-df-convert:hover {\n",
              "      background-color: #E2EBFA;\n",
              "      box-shadow: 0px 1px 2px rgba(60, 64, 67, 0.3), 0px 1px 3px 1px rgba(60, 64, 67, 0.15);\n",
              "      fill: #174EA6;\n",
              "    }\n",
              "\n",
              "    [theme=dark] .colab-df-convert {\n",
              "      background-color: #3B4455;\n",
              "      fill: #D2E3FC;\n",
              "    }\n",
              "\n",
              "    [theme=dark] .colab-df-convert:hover {\n",
              "      background-color: #434B5C;\n",
              "      box-shadow: 0px 1px 3px 1px rgba(0, 0, 0, 0.15);\n",
              "      filter: drop-shadow(0px 1px 2px rgba(0, 0, 0, 0.3));\n",
              "      fill: #FFFFFF;\n",
              "    }\n",
              "  </style>\n",
              "\n",
              "      <script>\n",
              "        const buttonEl =\n",
              "          document.querySelector('#df-610cde71-b564-4d51-844a-8b19e6c19052 button.colab-df-convert');\n",
              "        buttonEl.style.display =\n",
              "          google.colab.kernel.accessAllowed ? 'block' : 'none';\n",
              "\n",
              "        async function convertToInteractive(key) {\n",
              "          const element = document.querySelector('#df-610cde71-b564-4d51-844a-8b19e6c19052');\n",
              "          const dataTable =\n",
              "            await google.colab.kernel.invokeFunction('convertToInteractive',\n",
              "                                                     [key], {});\n",
              "          if (!dataTable) return;\n",
              "\n",
              "          const docLinkHtml = 'Like what you see? Visit the ' +\n",
              "            '<a target=\"_blank\" href=https://colab.research.google.com/notebooks/data_table.ipynb>data table notebook</a>'\n",
              "            + ' to learn more about interactive tables.';\n",
              "          element.innerHTML = '';\n",
              "          dataTable['output_type'] = 'display_data';\n",
              "          await google.colab.output.renderOutput(dataTable, element);\n",
              "          const docLink = document.createElement('div');\n",
              "          docLink.innerHTML = docLinkHtml;\n",
              "          element.appendChild(docLink);\n",
              "        }\n",
              "      </script>\n",
              "    </div>\n",
              "  </div>\n",
              "  "
            ]
          },
          "metadata": {},
          "execution_count": 201
        }
      ]
    },
    {
      "cell_type": "code",
      "source": [
        "print(dfTrainsLearn.shape)\n",
        "print(dfTrainsLearnActuals.shape)\n",
        "\n",
        "print(dfTrainsLearn.info())\n",
        "print(dfTrainsLearn.iloc[100])"
      ],
      "metadata": {
        "colab": {
          "base_uri": "https://localhost:8080/"
        },
        "id": "jTVXPBSQ2gp3",
        "outputId": "7b2588fa-96ac-4ba1-d62b-7c189f2a02a6"
      },
      "execution_count": 202,
      "outputs": [
        {
          "output_type": "stream",
          "name": "stdout",
          "text": [
            "(10054, 51)\n",
            "(10054,)\n",
            "<class 'pandas.core.frame.DataFrame'>\n",
            "Int64Index: 10054 entries, 0 to 0\n",
            "Data columns (total 51 columns):\n",
            " #   Column                                                                     Non-Null Count  Dtype         \n",
            "---  ------                                                                     --------------  -----         \n",
            " 0   ptcLeadLocomotiveId                                                        10054 non-null  object        \n",
            " 1   maximumTrainSpeed                                                          10053 non-null  float64       \n",
            " 2   loadedCarCount                                                             10053 non-null  float64       \n",
            " 3   emptyCarCount                                                              10053 non-null  float64       \n",
            " 4   trainLength                                                                10053 non-null  float64       \n",
            " 5   trailingTonnage                                                            10053 non-null  float64       \n",
            " 6   trainId.trainSCAC                                                          10054 non-null  object        \n",
            " 7   trainId.trainSection                                                       10054 non-null  object        \n",
            " 8   trainId.trainSymbol                                                        10054 non-null  object        \n",
            " 9   trainId.trainDate                                                          10054 non-null  datetime64[ns]\n",
            " 10  lastReportedPosition.speedMPH                                              10054 non-null  int64         \n",
            " 11  lastReportedPosition.milepostLocation.subdivisionId                        10054 non-null  int64         \n",
            " 12  lastReportedPosition.milepostLocation.trackName                            10004 non-null  category      \n",
            " 13  lastReportedPosition.milepostLocation.milepost.milepostNumber              10054 non-null  float64       \n",
            " 14  aotuTrainData.priorityCode                                                 10054 non-null  int64         \n",
            " 15  aotuTrainData.categoryCode                                                 10054 non-null  int64         \n",
            " 16  aotuTrainData.authorityRangeCode                                           10054 non-null  int64         \n",
            " 17  aotuTrainData.ownershipCode                                                10054 non-null  int64         \n",
            " 18  aotuTrainData.totalCarWeight                                               10054 non-null  float64       \n",
            " 19  aotuTrainData.totalCarLength                                               10054 non-null  float64       \n",
            " 20  aotuTrainData.totalLocomotiveWeight                                        10054 non-null  float64       \n",
            " 21  aotuTrainData.totalLocomotiveLength                                        10054 non-null  float64       \n",
            " 22  aotuTrainData.actualTonsPerAxle                                            10054 non-null  float64       \n",
            " 23  aotuTrainData.heavy143TonCarCount                                          10054 non-null  int64         \n",
            " 24  aotuTrainData.heavy158TonCarCount                                          10054 non-null  int64         \n",
            " 25  aotuTrainData.over158TonCarCount                                           10054 non-null  int64         \n",
            " 26  aotuTrainData.highWideCarCount                                             10054 non-null  int64         \n",
            " 27  aotuTrainData.eventCode                                                    10054 non-null  int64         \n",
            " 28  lastReportedPosition.precedingSignalState.milepostLocation.milepostNumber  8017 non-null   float64       \n",
            " 29  lastReportedPosition.precedingSignalState.previousSignalState              6280 non-null   float64       \n",
            " 30  lastReportedPosition.precedingSignalState.signalState                      8017 non-null   float64       \n",
            " 31  lastReportedPosition.nextSignalState.milepostLocation.milepostNumber       7996 non-null   float64       \n",
            " 32  lastReportedPosition.nextSignalState.signalState                           7996 non-null   float64       \n",
            " 33  milepost                                                                   10054 non-null  int64         \n",
            " 34  symbolType                                                                 9684 non-null   category      \n",
            " 35  workLocations                                                              8555 non-null   object        \n",
            " 36  locomotiveCount                                                            10054 non-null  int64         \n",
            " 37  nextSpeed                                                                  10054 non-null  int64         \n",
            " 38  lastReportedPosition.positionTimeYear                                      10054 non-null  int64         \n",
            " 39  lastReportedPosition.positionTimeMonth                                     10054 non-null  int64         \n",
            " 40  lastReportedPosition.positionTimeWeek                                      10054 non-null  int64         \n",
            " 41  lastReportedPosition.positionTimeDay                                       10054 non-null  int64         \n",
            " 42  lastReportedPosition.positionTimeDayofweek                                 10054 non-null  int64         \n",
            " 43  lastReportedPosition.positionTimeDayofyear                                 10054 non-null  int64         \n",
            " 44  lastReportedPosition.positionTimeIs_month_end                              10054 non-null  bool          \n",
            " 45  lastReportedPosition.positionTimeIs_month_start                            10054 non-null  bool          \n",
            " 46  lastReportedPosition.positionTimeIs_quarter_end                            10054 non-null  bool          \n",
            " 47  lastReportedPosition.positionTimeIs_quarter_start                          10054 non-null  bool          \n",
            " 48  lastReportedPosition.positionTimeIs_year_end                               10054 non-null  bool          \n",
            " 49  lastReportedPosition.positionTimeIs_year_start                             10054 non-null  bool          \n",
            " 50  lastReportedPosition.positionTimeElapsed                                   10054 non-null  float64       \n",
            "dtypes: bool(6), category(2), datetime64[ns](1), float64(17), int64(20), object(5)\n",
            "memory usage: 3.5+ MB\n",
            "None\n",
            "ptcLeadLocomotiveId                                        UP2524\n",
            "maximumTrainSpeed                                            70.0\n",
            "loadedCarCount                                               37.0\n",
            "emptyCarCount                                                 5.0\n",
            "trainLength                                                6034.0\n",
            "                                                         ...     \n",
            "lastReportedPosition.positionTimeIs_quarter_end             False\n",
            "lastReportedPosition.positionTimeIs_quarter_start           False\n",
            "lastReportedPosition.positionTimeIs_year_end                False\n",
            "lastReportedPosition.positionTimeIs_year_start              False\n",
            "lastReportedPosition.positionTimeElapsed             1649441741.0\n",
            "Name: 0, Length: 51, dtype: object\n"
          ]
        }
      ]
    },
    {
      "cell_type": "markdown",
      "source": [
        "# Use Decision Tree to predict speed in 1 mile"
      ],
      "metadata": {
        "id": "mg1p1vouBeIB"
      }
    },
    {
      "cell_type": "code",
      "source": [
        "procs = [tabular.core.Categorify, tabular.core.FillMissing]"
      ],
      "metadata": {
        "id": "F9TApkZWbAbz"
      },
      "execution_count": 203,
      "outputs": []
    },
    {
      "cell_type": "code",
      "source": [
        "print (dfTrainsLearn.groupby(['lastReportedPosition.positionTimeDayofyear'])['lastReportedPosition.positionTimeDayofyear'].count())\n"
      ],
      "metadata": {
        "colab": {
          "base_uri": "https://localhost:8080/"
        },
        "id": "gDgYzofcvcpM",
        "outputId": "3fda8be1-4dac-49d8-ecc9-b43f1706a9f0"
      },
      "execution_count": 204,
      "outputs": [
        {
          "output_type": "stream",
          "name": "stdout",
          "text": [
            "lastReportedPosition.positionTimeDayofyear\n",
            "90     124\n",
            "91     271\n",
            "92      79\n",
            "93     106\n",
            "95     109\n",
            "      ... \n",
            "121     45\n",
            "122    247\n",
            "123    214\n",
            "124    237\n",
            "125    150\n",
            "Name: lastReportedPosition.positionTimeDayofyear, Length: 33, dtype: int64\n"
          ]
        }
      ]
    },
    {
      "cell_type": "code",
      "source": [
        "cond = ( dfTrainsLearn['lastReportedPosition.positionTimeDayofyear'] < 121 )\n",
        "trainIdx = np.where(cond)[0]\n",
        "validIdx = np.where(~cond)[0]\n",
        "splits = (list(trainIdx), list(validIdx))"
      ],
      "metadata": {
        "id": "nIURJVe5vc_n"
      },
      "execution_count": 205,
      "outputs": []
    },
    {
      "cell_type": "code",
      "source": [
        "dep_var = 'nextSpeed'"
      ],
      "metadata": {
        "id": "rPW42wgnOLO_"
      },
      "execution_count": 206,
      "outputs": []
    },
    {
      "cell_type": "code",
      "source": [
        "cont,cat = tabular.core.cont_cat_split(dfTrainsLearn, 1, dep_var=dep_var)"
      ],
      "metadata": {
        "id": "gHDAeThzyzc6"
      },
      "execution_count": 207,
      "outputs": []
    },
    {
      "cell_type": "code",
      "source": [
        "to = tabular.core.TabularPandas(dfTrainsLearn, procs, cat, cont, y_names=dep_var, splits=splits)"
      ],
      "metadata": {
        "id": "xz1ZonvnO-I7"
      },
      "execution_count": 208,
      "outputs": []
    },
    {
      "cell_type": "code",
      "source": [
        "len(to.train),len(to.valid)"
      ],
      "metadata": {
        "colab": {
          "base_uri": "https://localhost:8080/"
        },
        "id": "0DJly6_Z94uI",
        "outputId": "9209c341-0b49-455f-aea8-65f3a822eaf3"
      },
      "execution_count": 209,
      "outputs": [
        {
          "output_type": "execute_result",
          "data": {
            "text/plain": [
              "(9161, 893)"
            ]
          },
          "metadata": {},
          "execution_count": 209
        }
      ]
    },
    {
      "cell_type": "code",
      "source": [
        "to.show()"
      ],
      "metadata": {
        "colab": {
          "base_uri": "https://localhost:8080/",
          "height": 383
        },
        "id": "xoEQAME4-n0M",
        "outputId": "01ec1aa8-d17f-4f35-a134-ddc28ca39f62"
      },
      "execution_count": 210,
      "outputs": [
        {
          "output_type": "display_data",
          "data": {
            "text/plain": [
              "<IPython.core.display.HTML object>"
            ],
            "text/html": [
              "<table border=\"1\" class=\"dataframe\">\n",
              "  <thead>\n",
              "    <tr style=\"text-align: right;\">\n",
              "      <th></th>\n",
              "      <th>ptcLeadLocomotiveId</th>\n",
              "      <th>trainId.trainSCAC</th>\n",
              "      <th>trainId.trainSection</th>\n",
              "      <th>trainId.trainSymbol</th>\n",
              "      <th>trainId.trainDate</th>\n",
              "      <th>lastReportedPosition.milepostLocation.subdivisionId</th>\n",
              "      <th>lastReportedPosition.milepostLocation.trackName</th>\n",
              "      <th>aotuTrainData.ownershipCode</th>\n",
              "      <th>aotuTrainData.eventCode</th>\n",
              "      <th>symbolType</th>\n",
              "      <th>workLocations</th>\n",
              "      <th>lastReportedPosition.positionTimeYear</th>\n",
              "      <th>lastReportedPosition.positionTimeIs_month_end</th>\n",
              "      <th>lastReportedPosition.positionTimeIs_month_start</th>\n",
              "      <th>lastReportedPosition.positionTimeIs_quarter_end</th>\n",
              "      <th>lastReportedPosition.positionTimeIs_quarter_start</th>\n",
              "      <th>lastReportedPosition.positionTimeIs_year_end</th>\n",
              "      <th>lastReportedPosition.positionTimeIs_year_start</th>\n",
              "      <th>maximumTrainSpeed_na</th>\n",
              "      <th>loadedCarCount_na</th>\n",
              "      <th>emptyCarCount_na</th>\n",
              "      <th>trainLength_na</th>\n",
              "      <th>trailingTonnage_na</th>\n",
              "      <th>lastReportedPosition.precedingSignalState.milepostLocation.milepostNumber_na</th>\n",
              "      <th>lastReportedPosition.precedingSignalState.previousSignalState_na</th>\n",
              "      <th>lastReportedPosition.precedingSignalState.signalState_na</th>\n",
              "      <th>lastReportedPosition.nextSignalState.milepostLocation.milepostNumber_na</th>\n",
              "      <th>lastReportedPosition.nextSignalState.signalState_na</th>\n",
              "      <th>maximumTrainSpeed</th>\n",
              "      <th>loadedCarCount</th>\n",
              "      <th>emptyCarCount</th>\n",
              "      <th>trainLength</th>\n",
              "      <th>trailingTonnage</th>\n",
              "      <th>lastReportedPosition.speedMPH</th>\n",
              "      <th>lastReportedPosition.milepostLocation.milepost.milepostNumber</th>\n",
              "      <th>aotuTrainData.priorityCode</th>\n",
              "      <th>aotuTrainData.categoryCode</th>\n",
              "      <th>aotuTrainData.authorityRangeCode</th>\n",
              "      <th>aotuTrainData.totalCarWeight</th>\n",
              "      <th>aotuTrainData.totalCarLength</th>\n",
              "      <th>aotuTrainData.totalLocomotiveWeight</th>\n",
              "      <th>aotuTrainData.totalLocomotiveLength</th>\n",
              "      <th>aotuTrainData.actualTonsPerAxle</th>\n",
              "      <th>aotuTrainData.heavy143TonCarCount</th>\n",
              "      <th>aotuTrainData.heavy158TonCarCount</th>\n",
              "      <th>aotuTrainData.over158TonCarCount</th>\n",
              "      <th>aotuTrainData.highWideCarCount</th>\n",
              "      <th>lastReportedPosition.precedingSignalState.milepostLocation.milepostNumber</th>\n",
              "      <th>lastReportedPosition.precedingSignalState.previousSignalState</th>\n",
              "      <th>lastReportedPosition.precedingSignalState.signalState</th>\n",
              "      <th>lastReportedPosition.nextSignalState.milepostLocation.milepostNumber</th>\n",
              "      <th>lastReportedPosition.nextSignalState.signalState</th>\n",
              "      <th>milepost</th>\n",
              "      <th>locomotiveCount</th>\n",
              "      <th>lastReportedPosition.positionTimeMonth</th>\n",
              "      <th>lastReportedPosition.positionTimeWeek</th>\n",
              "      <th>lastReportedPosition.positionTimeDay</th>\n",
              "      <th>lastReportedPosition.positionTimeDayofweek</th>\n",
              "      <th>lastReportedPosition.positionTimeDayofyear</th>\n",
              "      <th>lastReportedPosition.positionTimeElapsed</th>\n",
              "      <th>nextSpeed</th>\n",
              "    </tr>\n",
              "  </thead>\n",
              "  <tbody>\n",
              "    <tr>\n",
              "      <th>0</th>\n",
              "      <td>UP2010</td>\n",
              "      <td>UP</td>\n",
              "      <td></td>\n",
              "      <td>MEWLI</td>\n",
              "      <td>2022-04-21</td>\n",
              "      <td>106</td>\n",
              "      <td>WEST MAIN</td>\n",
              "      <td>2</td>\n",
              "      <td>0</td>\n",
              "      <td>M</td>\n",
              "      <td>#na#</td>\n",
              "      <td>2022</td>\n",
              "      <td>False</td>\n",
              "      <td>False</td>\n",
              "      <td>False</td>\n",
              "      <td>False</td>\n",
              "      <td>False</td>\n",
              "      <td>False</td>\n",
              "      <td>False</td>\n",
              "      <td>False</td>\n",
              "      <td>False</td>\n",
              "      <td>False</td>\n",
              "      <td>False</td>\n",
              "      <td>True</td>\n",
              "      <td>True</td>\n",
              "      <td>True</td>\n",
              "      <td>True</td>\n",
              "      <td>True</td>\n",
              "      <td>50.0</td>\n",
              "      <td>61.0</td>\n",
              "      <td>92.0</td>\n",
              "      <td>9282.0</td>\n",
              "      <td>10992.0</td>\n",
              "      <td>-12</td>\n",
              "      <td>766.930420</td>\n",
              "      <td>4</td>\n",
              "      <td>12</td>\n",
              "      <td>2</td>\n",
              "      <td>219727008.0</td>\n",
              "      <td>1078840.0</td>\n",
              "      <td>12202400.0</td>\n",
              "      <td>25820.0</td>\n",
              "      <td>65535.0</td>\n",
              "      <td>10</td>\n",
              "      <td>0</td>\n",
              "      <td>0</td>\n",
              "      <td>0</td>\n",
              "      <td>258.420013</td>\n",
              "      <td>-4.0</td>\n",
              "      <td>1.0</td>\n",
              "      <td>260.200012</td>\n",
              "      <td>1.0</td>\n",
              "      <td>766</td>\n",
              "      <td>2</td>\n",
              "      <td>4</td>\n",
              "      <td>16</td>\n",
              "      <td>21</td>\n",
              "      <td>3</td>\n",
              "      <td>111</td>\n",
              "      <td>1.650584e+09</td>\n",
              "      <td>-12</td>\n",
              "    </tr>\n",
              "    <tr>\n",
              "      <th>0</th>\n",
              "      <td>UP2010</td>\n",
              "      <td>UP</td>\n",
              "      <td></td>\n",
              "      <td>MEWLI</td>\n",
              "      <td>2022-04-21</td>\n",
              "      <td>106</td>\n",
              "      <td>WEST MAIN</td>\n",
              "      <td>2</td>\n",
              "      <td>0</td>\n",
              "      <td>M</td>\n",
              "      <td>#na#</td>\n",
              "      <td>2022</td>\n",
              "      <td>False</td>\n",
              "      <td>False</td>\n",
              "      <td>False</td>\n",
              "      <td>False</td>\n",
              "      <td>False</td>\n",
              "      <td>False</td>\n",
              "      <td>False</td>\n",
              "      <td>False</td>\n",
              "      <td>False</td>\n",
              "      <td>False</td>\n",
              "      <td>False</td>\n",
              "      <td>True</td>\n",
              "      <td>True</td>\n",
              "      <td>True</td>\n",
              "      <td>True</td>\n",
              "      <td>True</td>\n",
              "      <td>50.0</td>\n",
              "      <td>61.0</td>\n",
              "      <td>92.0</td>\n",
              "      <td>9282.0</td>\n",
              "      <td>10992.0</td>\n",
              "      <td>-11</td>\n",
              "      <td>766.718811</td>\n",
              "      <td>4</td>\n",
              "      <td>12</td>\n",
              "      <td>2</td>\n",
              "      <td>219727008.0</td>\n",
              "      <td>1078840.0</td>\n",
              "      <td>12202400.0</td>\n",
              "      <td>25820.0</td>\n",
              "      <td>65535.0</td>\n",
              "      <td>10</td>\n",
              "      <td>0</td>\n",
              "      <td>0</td>\n",
              "      <td>0</td>\n",
              "      <td>258.420013</td>\n",
              "      <td>-4.0</td>\n",
              "      <td>1.0</td>\n",
              "      <td>260.200012</td>\n",
              "      <td>1.0</td>\n",
              "      <td>766</td>\n",
              "      <td>2</td>\n",
              "      <td>4</td>\n",
              "      <td>16</td>\n",
              "      <td>21</td>\n",
              "      <td>3</td>\n",
              "      <td>111</td>\n",
              "      <td>1.650584e+09</td>\n",
              "      <td>-11</td>\n",
              "    </tr>\n",
              "    <tr>\n",
              "      <th>0</th>\n",
              "      <td>UP2010</td>\n",
              "      <td>UP</td>\n",
              "      <td></td>\n",
              "      <td>MEWLI</td>\n",
              "      <td>2022-04-21</td>\n",
              "      <td>106</td>\n",
              "      <td>WEST MAIN</td>\n",
              "      <td>2</td>\n",
              "      <td>0</td>\n",
              "      <td>M</td>\n",
              "      <td>#na#</td>\n",
              "      <td>2022</td>\n",
              "      <td>False</td>\n",
              "      <td>False</td>\n",
              "      <td>False</td>\n",
              "      <td>False</td>\n",
              "      <td>False</td>\n",
              "      <td>False</td>\n",
              "      <td>False</td>\n",
              "      <td>False</td>\n",
              "      <td>False</td>\n",
              "      <td>False</td>\n",
              "      <td>False</td>\n",
              "      <td>True</td>\n",
              "      <td>True</td>\n",
              "      <td>True</td>\n",
              "      <td>True</td>\n",
              "      <td>True</td>\n",
              "      <td>50.0</td>\n",
              "      <td>61.0</td>\n",
              "      <td>92.0</td>\n",
              "      <td>9282.0</td>\n",
              "      <td>10992.0</td>\n",
              "      <td>-10</td>\n",
              "      <td>766.565308</td>\n",
              "      <td>4</td>\n",
              "      <td>12</td>\n",
              "      <td>2</td>\n",
              "      <td>219727008.0</td>\n",
              "      <td>1078840.0</td>\n",
              "      <td>12202400.0</td>\n",
              "      <td>25820.0</td>\n",
              "      <td>65535.0</td>\n",
              "      <td>10</td>\n",
              "      <td>0</td>\n",
              "      <td>0</td>\n",
              "      <td>0</td>\n",
              "      <td>258.420013</td>\n",
              "      <td>-4.0</td>\n",
              "      <td>1.0</td>\n",
              "      <td>260.200012</td>\n",
              "      <td>1.0</td>\n",
              "      <td>766</td>\n",
              "      <td>2</td>\n",
              "      <td>4</td>\n",
              "      <td>16</td>\n",
              "      <td>21</td>\n",
              "      <td>3</td>\n",
              "      <td>111</td>\n",
              "      <td>1.650584e+09</td>\n",
              "      <td>-10</td>\n",
              "    </tr>\n",
              "    <tr>\n",
              "      <th>0</th>\n",
              "      <td>UP2010</td>\n",
              "      <td>UP</td>\n",
              "      <td></td>\n",
              "      <td>MEWLI</td>\n",
              "      <td>2022-04-21</td>\n",
              "      <td>106</td>\n",
              "      <td>WEST MAIN</td>\n",
              "      <td>2</td>\n",
              "      <td>0</td>\n",
              "      <td>M</td>\n",
              "      <td>#na#</td>\n",
              "      <td>2022</td>\n",
              "      <td>False</td>\n",
              "      <td>False</td>\n",
              "      <td>False</td>\n",
              "      <td>False</td>\n",
              "      <td>False</td>\n",
              "      <td>False</td>\n",
              "      <td>False</td>\n",
              "      <td>False</td>\n",
              "      <td>False</td>\n",
              "      <td>False</td>\n",
              "      <td>False</td>\n",
              "      <td>True</td>\n",
              "      <td>True</td>\n",
              "      <td>True</td>\n",
              "      <td>True</td>\n",
              "      <td>True</td>\n",
              "      <td>50.0</td>\n",
              "      <td>61.0</td>\n",
              "      <td>92.0</td>\n",
              "      <td>9282.0</td>\n",
              "      <td>10992.0</td>\n",
              "      <td>-10</td>\n",
              "      <td>766.435181</td>\n",
              "      <td>4</td>\n",
              "      <td>12</td>\n",
              "      <td>2</td>\n",
              "      <td>219727008.0</td>\n",
              "      <td>1078840.0</td>\n",
              "      <td>12202400.0</td>\n",
              "      <td>25820.0</td>\n",
              "      <td>65535.0</td>\n",
              "      <td>10</td>\n",
              "      <td>0</td>\n",
              "      <td>0</td>\n",
              "      <td>0</td>\n",
              "      <td>258.420013</td>\n",
              "      <td>-4.0</td>\n",
              "      <td>1.0</td>\n",
              "      <td>260.200012</td>\n",
              "      <td>1.0</td>\n",
              "      <td>766</td>\n",
              "      <td>2</td>\n",
              "      <td>4</td>\n",
              "      <td>16</td>\n",
              "      <td>21</td>\n",
              "      <td>3</td>\n",
              "      <td>111</td>\n",
              "      <td>1.650584e+09</td>\n",
              "      <td>-10</td>\n",
              "    </tr>\n",
              "    <tr>\n",
              "      <th>0</th>\n",
              "      <td>UP2010</td>\n",
              "      <td>UP</td>\n",
              "      <td></td>\n",
              "      <td>MEWLI</td>\n",
              "      <td>2022-04-21</td>\n",
              "      <td>106</td>\n",
              "      <td>WEST MAIN</td>\n",
              "      <td>2</td>\n",
              "      <td>0</td>\n",
              "      <td>M</td>\n",
              "      <td>#na#</td>\n",
              "      <td>2022</td>\n",
              "      <td>False</td>\n",
              "      <td>False</td>\n",
              "      <td>False</td>\n",
              "      <td>False</td>\n",
              "      <td>False</td>\n",
              "      <td>False</td>\n",
              "      <td>False</td>\n",
              "      <td>False</td>\n",
              "      <td>False</td>\n",
              "      <td>False</td>\n",
              "      <td>False</td>\n",
              "      <td>True</td>\n",
              "      <td>True</td>\n",
              "      <td>True</td>\n",
              "      <td>True</td>\n",
              "      <td>True</td>\n",
              "      <td>50.0</td>\n",
              "      <td>61.0</td>\n",
              "      <td>92.0</td>\n",
              "      <td>9282.0</td>\n",
              "      <td>10992.0</td>\n",
              "      <td>-10</td>\n",
              "      <td>766.322815</td>\n",
              "      <td>4</td>\n",
              "      <td>12</td>\n",
              "      <td>2</td>\n",
              "      <td>219727008.0</td>\n",
              "      <td>1078840.0</td>\n",
              "      <td>12202400.0</td>\n",
              "      <td>25820.0</td>\n",
              "      <td>65535.0</td>\n",
              "      <td>10</td>\n",
              "      <td>0</td>\n",
              "      <td>0</td>\n",
              "      <td>0</td>\n",
              "      <td>258.420013</td>\n",
              "      <td>-4.0</td>\n",
              "      <td>1.0</td>\n",
              "      <td>260.200012</td>\n",
              "      <td>1.0</td>\n",
              "      <td>766</td>\n",
              "      <td>2</td>\n",
              "      <td>4</td>\n",
              "      <td>16</td>\n",
              "      <td>21</td>\n",
              "      <td>3</td>\n",
              "      <td>111</td>\n",
              "      <td>1.650584e+09</td>\n",
              "      <td>-10</td>\n",
              "    </tr>\n",
              "    <tr>\n",
              "      <th>0</th>\n",
              "      <td>UP2010</td>\n",
              "      <td>UP</td>\n",
              "      <td></td>\n",
              "      <td>MEWLI</td>\n",
              "      <td>2022-04-21</td>\n",
              "      <td>106</td>\n",
              "      <td>WEST MAIN</td>\n",
              "      <td>2</td>\n",
              "      <td>0</td>\n",
              "      <td>M</td>\n",
              "      <td>#na#</td>\n",
              "      <td>2022</td>\n",
              "      <td>False</td>\n",
              "      <td>False</td>\n",
              "      <td>False</td>\n",
              "      <td>False</td>\n",
              "      <td>False</td>\n",
              "      <td>False</td>\n",
              "      <td>False</td>\n",
              "      <td>False</td>\n",
              "      <td>False</td>\n",
              "      <td>False</td>\n",
              "      <td>False</td>\n",
              "      <td>True</td>\n",
              "      <td>True</td>\n",
              "      <td>True</td>\n",
              "      <td>True</td>\n",
              "      <td>True</td>\n",
              "      <td>50.0</td>\n",
              "      <td>61.0</td>\n",
              "      <td>92.0</td>\n",
              "      <td>9282.0</td>\n",
              "      <td>10992.0</td>\n",
              "      <td>-10</td>\n",
              "      <td>766.289795</td>\n",
              "      <td>4</td>\n",
              "      <td>12</td>\n",
              "      <td>2</td>\n",
              "      <td>219727008.0</td>\n",
              "      <td>1078840.0</td>\n",
              "      <td>12202400.0</td>\n",
              "      <td>25820.0</td>\n",
              "      <td>65535.0</td>\n",
              "      <td>10</td>\n",
              "      <td>0</td>\n",
              "      <td>0</td>\n",
              "      <td>0</td>\n",
              "      <td>258.420013</td>\n",
              "      <td>-4.0</td>\n",
              "      <td>1.0</td>\n",
              "      <td>260.200012</td>\n",
              "      <td>1.0</td>\n",
              "      <td>766</td>\n",
              "      <td>2</td>\n",
              "      <td>4</td>\n",
              "      <td>16</td>\n",
              "      <td>21</td>\n",
              "      <td>3</td>\n",
              "      <td>111</td>\n",
              "      <td>1.650584e+09</td>\n",
              "      <td>-10</td>\n",
              "    </tr>\n",
              "    <tr>\n",
              "      <th>0</th>\n",
              "      <td>UP2010</td>\n",
              "      <td>UP</td>\n",
              "      <td></td>\n",
              "      <td>MEWLI</td>\n",
              "      <td>2022-04-21</td>\n",
              "      <td>106</td>\n",
              "      <td>MAIN</td>\n",
              "      <td>2</td>\n",
              "      <td>0</td>\n",
              "      <td>M</td>\n",
              "      <td>#na#</td>\n",
              "      <td>2022</td>\n",
              "      <td>False</td>\n",
              "      <td>False</td>\n",
              "      <td>False</td>\n",
              "      <td>False</td>\n",
              "      <td>False</td>\n",
              "      <td>False</td>\n",
              "      <td>False</td>\n",
              "      <td>False</td>\n",
              "      <td>False</td>\n",
              "      <td>False</td>\n",
              "      <td>False</td>\n",
              "      <td>True</td>\n",
              "      <td>True</td>\n",
              "      <td>True</td>\n",
              "      <td>True</td>\n",
              "      <td>True</td>\n",
              "      <td>50.0</td>\n",
              "      <td>61.0</td>\n",
              "      <td>92.0</td>\n",
              "      <td>9282.0</td>\n",
              "      <td>10992.0</td>\n",
              "      <td>-10</td>\n",
              "      <td>766.046082</td>\n",
              "      <td>4</td>\n",
              "      <td>12</td>\n",
              "      <td>2</td>\n",
              "      <td>219727008.0</td>\n",
              "      <td>1078840.0</td>\n",
              "      <td>12202400.0</td>\n",
              "      <td>25820.0</td>\n",
              "      <td>65535.0</td>\n",
              "      <td>10</td>\n",
              "      <td>0</td>\n",
              "      <td>0</td>\n",
              "      <td>0</td>\n",
              "      <td>258.420013</td>\n",
              "      <td>-4.0</td>\n",
              "      <td>1.0</td>\n",
              "      <td>260.200012</td>\n",
              "      <td>1.0</td>\n",
              "      <td>766</td>\n",
              "      <td>2</td>\n",
              "      <td>4</td>\n",
              "      <td>16</td>\n",
              "      <td>21</td>\n",
              "      <td>3</td>\n",
              "      <td>111</td>\n",
              "      <td>1.650584e+09</td>\n",
              "      <td>-10</td>\n",
              "    </tr>\n",
              "    <tr>\n",
              "      <th>0</th>\n",
              "      <td>UP2010</td>\n",
              "      <td>UP</td>\n",
              "      <td></td>\n",
              "      <td>MEWLI</td>\n",
              "      <td>2022-04-21</td>\n",
              "      <td>106</td>\n",
              "      <td>MAIN</td>\n",
              "      <td>2</td>\n",
              "      <td>0</td>\n",
              "      <td>M</td>\n",
              "      <td>#na#</td>\n",
              "      <td>2022</td>\n",
              "      <td>False</td>\n",
              "      <td>False</td>\n",
              "      <td>False</td>\n",
              "      <td>False</td>\n",
              "      <td>False</td>\n",
              "      <td>False</td>\n",
              "      <td>False</td>\n",
              "      <td>False</td>\n",
              "      <td>False</td>\n",
              "      <td>False</td>\n",
              "      <td>False</td>\n",
              "      <td>True</td>\n",
              "      <td>True</td>\n",
              "      <td>True</td>\n",
              "      <td>True</td>\n",
              "      <td>True</td>\n",
              "      <td>50.0</td>\n",
              "      <td>61.0</td>\n",
              "      <td>92.0</td>\n",
              "      <td>9282.0</td>\n",
              "      <td>10992.0</td>\n",
              "      <td>-10</td>\n",
              "      <td>765.774414</td>\n",
              "      <td>4</td>\n",
              "      <td>12</td>\n",
              "      <td>2</td>\n",
              "      <td>219727008.0</td>\n",
              "      <td>1078840.0</td>\n",
              "      <td>12202400.0</td>\n",
              "      <td>25820.0</td>\n",
              "      <td>65535.0</td>\n",
              "      <td>10</td>\n",
              "      <td>0</td>\n",
              "      <td>0</td>\n",
              "      <td>0</td>\n",
              "      <td>258.420013</td>\n",
              "      <td>-4.0</td>\n",
              "      <td>1.0</td>\n",
              "      <td>260.200012</td>\n",
              "      <td>1.0</td>\n",
              "      <td>765</td>\n",
              "      <td>2</td>\n",
              "      <td>4</td>\n",
              "      <td>16</td>\n",
              "      <td>21</td>\n",
              "      <td>3</td>\n",
              "      <td>111</td>\n",
              "      <td>1.650584e+09</td>\n",
              "      <td>-10</td>\n",
              "    </tr>\n",
              "    <tr>\n",
              "      <th>0</th>\n",
              "      <td>UP2010</td>\n",
              "      <td>UP</td>\n",
              "      <td></td>\n",
              "      <td>MEWLI</td>\n",
              "      <td>2022-04-21</td>\n",
              "      <td>106</td>\n",
              "      <td>MAIN</td>\n",
              "      <td>2</td>\n",
              "      <td>0</td>\n",
              "      <td>M</td>\n",
              "      <td>#na#</td>\n",
              "      <td>2022</td>\n",
              "      <td>False</td>\n",
              "      <td>False</td>\n",
              "      <td>False</td>\n",
              "      <td>False</td>\n",
              "      <td>False</td>\n",
              "      <td>False</td>\n",
              "      <td>False</td>\n",
              "      <td>False</td>\n",
              "      <td>False</td>\n",
              "      <td>False</td>\n",
              "      <td>False</td>\n",
              "      <td>True</td>\n",
              "      <td>True</td>\n",
              "      <td>True</td>\n",
              "      <td>True</td>\n",
              "      <td>True</td>\n",
              "      <td>50.0</td>\n",
              "      <td>61.0</td>\n",
              "      <td>92.0</td>\n",
              "      <td>9282.0</td>\n",
              "      <td>10992.0</td>\n",
              "      <td>-8</td>\n",
              "      <td>765.598877</td>\n",
              "      <td>4</td>\n",
              "      <td>12</td>\n",
              "      <td>2</td>\n",
              "      <td>219727008.0</td>\n",
              "      <td>1078840.0</td>\n",
              "      <td>12202400.0</td>\n",
              "      <td>25820.0</td>\n",
              "      <td>65535.0</td>\n",
              "      <td>10</td>\n",
              "      <td>0</td>\n",
              "      <td>0</td>\n",
              "      <td>0</td>\n",
              "      <td>258.420013</td>\n",
              "      <td>-4.0</td>\n",
              "      <td>1.0</td>\n",
              "      <td>260.200012</td>\n",
              "      <td>1.0</td>\n",
              "      <td>765</td>\n",
              "      <td>2</td>\n",
              "      <td>4</td>\n",
              "      <td>16</td>\n",
              "      <td>21</td>\n",
              "      <td>3</td>\n",
              "      <td>111</td>\n",
              "      <td>1.650584e+09</td>\n",
              "      <td>-8</td>\n",
              "    </tr>\n",
              "    <tr>\n",
              "      <th>0</th>\n",
              "      <td>UP2524</td>\n",
              "      <td>UP</td>\n",
              "      <td></td>\n",
              "      <td>ZBRG2</td>\n",
              "      <td>2022-04-06</td>\n",
              "      <td>106</td>\n",
              "      <td>MT 2</td>\n",
              "      <td>2</td>\n",
              "      <td>0</td>\n",
              "      <td>Z</td>\n",
              "      <td>202.20</td>\n",
              "      <td>2022</td>\n",
              "      <td>False</td>\n",
              "      <td>False</td>\n",
              "      <td>False</td>\n",
              "      <td>False</td>\n",
              "      <td>False</td>\n",
              "      <td>False</td>\n",
              "      <td>False</td>\n",
              "      <td>False</td>\n",
              "      <td>False</td>\n",
              "      <td>False</td>\n",
              "      <td>False</td>\n",
              "      <td>True</td>\n",
              "      <td>True</td>\n",
              "      <td>True</td>\n",
              "      <td>True</td>\n",
              "      <td>True</td>\n",
              "      <td>70.0</td>\n",
              "      <td>37.0</td>\n",
              "      <td>5.0</td>\n",
              "      <td>6034.0</td>\n",
              "      <td>4180.0</td>\n",
              "      <td>-56</td>\n",
              "      <td>326.180389</td>\n",
              "      <td>1</td>\n",
              "      <td>10</td>\n",
              "      <td>2</td>\n",
              "      <td>83582000.0</td>\n",
              "      <td>678370.0</td>\n",
              "      <td>21020000.0</td>\n",
              "      <td>43900.0</td>\n",
              "      <td>65535.0</td>\n",
              "      <td>0</td>\n",
              "      <td>0</td>\n",
              "      <td>0</td>\n",
              "      <td>0</td>\n",
              "      <td>258.420013</td>\n",
              "      <td>-4.0</td>\n",
              "      <td>1.0</td>\n",
              "      <td>260.200012</td>\n",
              "      <td>1.0</td>\n",
              "      <td>326</td>\n",
              "      <td>5</td>\n",
              "      <td>4</td>\n",
              "      <td>14</td>\n",
              "      <td>8</td>\n",
              "      <td>4</td>\n",
              "      <td>98</td>\n",
              "      <td>1.649435e+09</td>\n",
              "      <td>-56</td>\n",
              "    </tr>\n",
              "  </tbody>\n",
              "</table>"
            ]
          },
          "metadata": {}
        }
      ]
    },
    {
      "cell_type": "code",
      "source": [
        "fastai.save_pickle('/tmp/to.pkl',to)"
      ],
      "metadata": {
        "id": "r-D5hdO3-ypC"
      },
      "execution_count": 211,
      "outputs": []
    },
    {
      "cell_type": "markdown",
      "source": [
        "# Creating the Decision Tree"
      ],
      "metadata": {
        "id": "knWgCrX_A0Ep"
      }
    },
    {
      "cell_type": "code",
      "source": [
        "to = fastai.load_pickle('/tmp/to.pkl')"
      ],
      "metadata": {
        "id": "rtc_YDw0ArMR"
      },
      "execution_count": 212,
      "outputs": []
    },
    {
      "cell_type": "code",
      "source": [
        "xs,y = to.train.xs,to.train.y\n",
        "valid_xs,valid_y = to.valid.xs,to.valid.y"
      ],
      "metadata": {
        "id": "CcGx27DMBMbc"
      },
      "execution_count": 213,
      "outputs": []
    },
    {
      "cell_type": "code",
      "source": [
        "m = DecisionTreeRegressor(max_leaf_nodes=16)\n",
        "m.fit(xs, y);"
      ],
      "metadata": {
        "id": "clTcBmpGBXv6"
      },
      "execution_count": 339,
      "outputs": []
    },
    {
      "cell_type": "code",
      "source": [
        "fastai.draw_tree(m, xs, size=20, leaves_parallel=True, precision=2)"
      ],
      "metadata": {
        "colab": {
          "base_uri": "https://localhost:8080/",
          "height": 1000
        },
        "id": "nhXNnHk7CSmF",
        "outputId": "64fbc208-aa7a-4a98-fdd7-ea241d65db9c"
      },
      "execution_count": 340,
      "outputs": [
        {
          "output_type": "execute_result",
          "data": {
            "text/plain": [
              "<graphviz.files.Source at 0x7fe73bb4e510>"
            ],
            "image/svg+xml": "<?xml version=\"1.0\" encoding=\"UTF-8\" standalone=\"no\"?>\n<!DOCTYPE svg PUBLIC \"-//W3C//DTD SVG 1.1//EN\"\n \"http://www.w3.org/Graphics/SVG/1.1/DTD/svg11.dtd\">\n<!-- Generated by graphviz version 2.40.1 (20161225.0304)\n -->\n<!-- Title: Tree Pages: 1 -->\n<svg width=\"1440pt\" height=\"866pt\"\n viewBox=\"0.00 0.00 1440.00 866.28\" xmlns=\"http://www.w3.org/2000/svg\" xmlns:xlink=\"http://www.w3.org/1999/xlink\">\n<g id=\"graph0\" class=\"graph\" transform=\"scale(.5291 .5291) rotate(0) translate(4 1633.2033)\">\n<title>Tree</title>\n<polygon fill=\"#ffffff\" stroke=\"transparent\" points=\"-4,4 -4,-1633.2033 2717.5,-1633.2033 2717.5,4 -4,4\"/>\n<!-- 0 -->\n<g id=\"node1\" class=\"node\">\n<title>0</title>\n<path fill=\"#f3c4a3\" stroke=\"#000000\" d=\"M1261,-1568C1261,-1568 1018,-1568 1018,-1568 1012,-1568 1006,-1562 1006,-1556 1006,-1556 1006,-1512 1006,-1512 1006,-1506 1012,-1500 1018,-1500 1018,-1500 1261,-1500 1261,-1500 1267,-1500 1273,-1506 1273,-1512 1273,-1512 1273,-1556 1273,-1556 1273,-1562 1267,-1568 1261,-1568\"/>\n<text text-anchor=\"start\" x=\"1014\" y=\"-1552.8\" font-family=\"Helvetica,sans-Serif\" font-size=\"14.00\" fill=\"#000000\">lastReportedPosition.speedMPH ≤ &#45;7.5</text>\n<text text-anchor=\"start\" x=\"1063\" y=\"-1537.8\" font-family=\"Helvetica,sans-Serif\" font-size=\"14.00\" fill=\"#000000\">squared_error = 1330.8</text>\n<text text-anchor=\"start\" x=\"1087.5\" y=\"-1522.8\" font-family=\"Helvetica,sans-Serif\" font-size=\"14.00\" fill=\"#000000\">samples = 9161</text>\n<text text-anchor=\"start\" x=\"1097\" y=\"-1507.8\" font-family=\"Helvetica,sans-Serif\" font-size=\"14.00\" fill=\"#000000\">value = &#45;1.74</text>\n</g>\n<!-- 1 -->\n<g id=\"node2\" class=\"node\">\n<title>1</title>\n<path fill=\"#fae9dc\" stroke=\"#000000\" d=\"M1090,-1276C1090,-1276 839,-1276 839,-1276 833,-1276 827,-1270 827,-1264 827,-1264 827,-1220 827,-1220 827,-1214 833,-1208 839,-1208 839,-1208 1090,-1208 1090,-1208 1096,-1208 1102,-1214 1102,-1220 1102,-1220 1102,-1264 1102,-1264 1102,-1270 1096,-1276 1090,-1276\"/>\n<text text-anchor=\"start\" x=\"835\" y=\"-1260.8\" font-family=\"Helvetica,sans-Serif\" font-size=\"14.00\" fill=\"#000000\">lastReportedPosition.speedMPH ≤ &#45;35.5</text>\n<text text-anchor=\"start\" x=\"888\" y=\"-1245.8\" font-family=\"Helvetica,sans-Serif\" font-size=\"14.00\" fill=\"#000000\">squared_error = 139.81</text>\n<text text-anchor=\"start\" x=\"912.5\" y=\"-1230.8\" font-family=\"Helvetica,sans-Serif\" font-size=\"14.00\" fill=\"#000000\">samples = 3815</text>\n<text text-anchor=\"start\" x=\"918\" y=\"-1215.8\" font-family=\"Helvetica,sans-Serif\" font-size=\"14.00\" fill=\"#000000\">value = &#45;39.16</text>\n</g>\n<!-- 0&#45;&gt;1 -->\n<g id=\"edge1\" class=\"edge\">\n<title>0&#45;&gt;1</title>\n<path fill=\"none\" stroke=\"#000000\" d=\"M1119.0828,-1499.9324C1087.0944,-1446.5575 1025.2122,-1343.3026 990.2255,-1284.9248\"/>\n<polygon fill=\"#000000\" stroke=\"#000000\" points=\"993.2005,-1283.0803 985.0577,-1276.302 987.1962,-1286.6787 993.2005,-1283.0803\"/>\n<text text-anchor=\"middle\" x=\"978.9821\" y=\"-1296.8525\" font-family=\"Helvetica,sans-Serif\" font-size=\"14.00\" fill=\"#000000\">True</text>\n</g>\n<!-- 2 -->\n<g id=\"node15\" class=\"node\">\n<title>2</title>\n<path fill=\"#eeaa7a\" stroke=\"#000000\" d=\"M1494,-1276C1494,-1276 1247,-1276 1247,-1276 1241,-1276 1235,-1270 1235,-1264 1235,-1264 1235,-1220 1235,-1220 1235,-1214 1241,-1208 1247,-1208 1247,-1208 1494,-1208 1494,-1208 1500,-1208 1506,-1214 1506,-1220 1506,-1220 1506,-1264 1506,-1264 1506,-1270 1500,-1276 1494,-1276\"/>\n<text text-anchor=\"start\" x=\"1243\" y=\"-1260.8\" font-family=\"Helvetica,sans-Serif\" font-size=\"14.00\" fill=\"#000000\">lastReportedPosition.speedMPH ≤ 23.5</text>\n<text text-anchor=\"start\" x=\"1294\" y=\"-1245.8\" font-family=\"Helvetica,sans-Serif\" font-size=\"14.00\" fill=\"#000000\">squared_error = 468.96</text>\n<text text-anchor=\"start\" x=\"1318.5\" y=\"-1230.8\" font-family=\"Helvetica,sans-Serif\" font-size=\"14.00\" fill=\"#000000\">samples = 5346</text>\n<text text-anchor=\"start\" x=\"1326.5\" y=\"-1215.8\" font-family=\"Helvetica,sans-Serif\" font-size=\"14.00\" fill=\"#000000\">value = 24.96</text>\n</g>\n<!-- 0&#45;&gt;2 -->\n<g id=\"edge14\" class=\"edge\">\n<title>0&#45;&gt;2</title>\n<path fill=\"none\" stroke=\"#000000\" d=\"M1166.4507,-1499.9324C1208.8488,-1446.3383 1291.0315,-1342.4536 1337.1096,-1284.2078\"/>\n<polygon fill=\"#000000\" stroke=\"#000000\" points=\"1339.9045,-1286.3161 1343.3639,-1276.302 1334.4146,-1281.9731 1339.9045,-1286.3161\"/>\n<text text-anchor=\"middle\" x=\"1346.2601\" y=\"-1297.4336\" font-family=\"Helvetica,sans-Serif\" font-size=\"14.00\" fill=\"#000000\">False</text>\n</g>\n<!-- 5 -->\n<g id=\"node3\" class=\"node\">\n<title>5</title>\n<path fill=\"#fceee5\" stroke=\"#000000\" d=\"M697,-984C697,-984 446,-984 446,-984 440,-984 434,-978 434,-972 434,-972 434,-928 434,-928 434,-922 440,-916 446,-916 446,-916 697,-916 697,-916 703,-916 709,-922 709,-928 709,-928 709,-972 709,-972 709,-978 703,-984 697,-984\"/>\n<text text-anchor=\"start\" x=\"442\" y=\"-968.8\" font-family=\"Helvetica,sans-Serif\" font-size=\"14.00\" fill=\"#000000\">lastReportedPosition.speedMPH ≤ &#45;49.5</text>\n<text text-anchor=\"start\" x=\"499\" y=\"-953.8\" font-family=\"Helvetica,sans-Serif\" font-size=\"14.00\" fill=\"#000000\">squared_error = 61.78</text>\n<text text-anchor=\"start\" x=\"519.5\" y=\"-938.8\" font-family=\"Helvetica,sans-Serif\" font-size=\"14.00\" fill=\"#000000\">samples = 2639</text>\n<text text-anchor=\"start\" x=\"525\" y=\"-923.8\" font-family=\"Helvetica,sans-Serif\" font-size=\"14.00\" fill=\"#000000\">value = &#45;45.05</text>\n</g>\n<!-- 1&#45;&gt;5 -->\n<g id=\"edge2\" class=\"edge\">\n<title>1&#45;&gt;5</title>\n<path fill=\"none\" stroke=\"#000000\" d=\"M918.6488,-1207.9324C845.6817,-1153.7177 703.4526,-1048.0411 625.6089,-990.203\"/>\n<polygon fill=\"#000000\" stroke=\"#000000\" points=\"627.4769,-987.2306 617.3625,-984.076 623.302,-992.8494 627.4769,-987.2306\"/>\n</g>\n<!-- 6 -->\n<g id=\"node10\" class=\"node\">\n<title>6</title>\n<path fill=\"#f8dcc7\" stroke=\"#000000\" d=\"M1090,-984C1090,-984 839,-984 839,-984 833,-984 827,-978 827,-972 827,-972 827,-928 827,-928 827,-922 833,-916 839,-916 839,-916 1090,-916 1090,-916 1096,-916 1102,-922 1102,-928 1102,-928 1102,-972 1102,-972 1102,-978 1096,-984 1090,-984\"/>\n<text text-anchor=\"start\" x=\"835\" y=\"-968.8\" font-family=\"Helvetica,sans-Serif\" font-size=\"14.00\" fill=\"#000000\">lastReportedPosition.speedMPH ≤ &#45;22.5</text>\n<text text-anchor=\"start\" x=\"892\" y=\"-953.8\" font-family=\"Helvetica,sans-Serif\" font-size=\"14.00\" fill=\"#000000\">squared_error = 61.99</text>\n<text text-anchor=\"start\" x=\"912.5\" y=\"-938.8\" font-family=\"Helvetica,sans-Serif\" font-size=\"14.00\" fill=\"#000000\">samples = 1176</text>\n<text text-anchor=\"start\" x=\"918\" y=\"-923.8\" font-family=\"Helvetica,sans-Serif\" font-size=\"14.00\" fill=\"#000000\">value = &#45;25.93</text>\n</g>\n<!-- 1&#45;&gt;6 -->\n<g id=\"edge9\" class=\"edge\">\n<title>1&#45;&gt;6</title>\n<path fill=\"none\" stroke=\"#000000\" d=\"M964.5,-1207.9324C964.5,-1154.9959 964.5,-1052.9954 964.5,-994.3723\"/>\n<polygon fill=\"#000000\" stroke=\"#000000\" points=\"968.0001,-994.3019 964.5,-984.302 961.0001,-994.302 968.0001,-994.3019\"/>\n</g>\n<!-- 9 -->\n<g id=\"node4\" class=\"node\">\n<title>9</title>\n<path fill=\"#fefaf8\" stroke=\"#000000\" d=\"M381,-692C381,-692 130,-692 130,-692 124,-692 118,-686 118,-680 118,-680 118,-636 118,-636 118,-630 124,-624 130,-624 130,-624 381,-624 381,-624 387,-624 393,-630 393,-636 393,-636 393,-680 393,-680 393,-686 387,-692 381,-692\"/>\n<text text-anchor=\"start\" x=\"126\" y=\"-676.8\" font-family=\"Helvetica,sans-Serif\" font-size=\"14.00\" fill=\"#000000\">lastReportedPosition.speedMPH ≤ &#45;57.5</text>\n<text text-anchor=\"start\" x=\"183\" y=\"-661.8\" font-family=\"Helvetica,sans-Serif\" font-size=\"14.00\" fill=\"#000000\">squared_error = 34.55</text>\n<text text-anchor=\"start\" x=\"207.5\" y=\"-646.8\" font-family=\"Helvetica,sans-Serif\" font-size=\"14.00\" fill=\"#000000\">samples = 571</text>\n<text text-anchor=\"start\" x=\"209\" y=\"-631.8\" font-family=\"Helvetica,sans-Serif\" font-size=\"14.00\" fill=\"#000000\">value = &#45;57.47</text>\n</g>\n<!-- 5&#45;&gt;9 -->\n<g id=\"edge3\" class=\"edge\">\n<title>5&#45;&gt;9</title>\n<path fill=\"none\" stroke=\"#000000\" d=\"M534.6323,-915.9324C476.2774,-862.0095 362.8286,-757.1771 300.0224,-699.141\"/>\n<polygon fill=\"#000000\" stroke=\"#000000\" points=\"302.3411,-696.5181 292.6213,-692.302 297.5905,-701.6592 302.3411,-696.5181\"/>\n</g>\n<!-- 10 -->\n<g id=\"node7\" class=\"node\">\n<title>10</title>\n<path fill=\"#fbebdf\" stroke=\"#000000\" d=\"M697,-692C697,-692 446,-692 446,-692 440,-692 434,-686 434,-680 434,-680 434,-636 434,-636 434,-630 440,-624 446,-624 446,-624 697,-624 697,-624 703,-624 709,-630 709,-636 709,-636 709,-680 709,-680 709,-686 703,-692 697,-692\"/>\n<text text-anchor=\"start\" x=\"442\" y=\"-676.8\" font-family=\"Helvetica,sans-Serif\" font-size=\"14.00\" fill=\"#000000\">lastReportedPosition.speedMPH ≤ &#45;42.5</text>\n<text text-anchor=\"start\" x=\"503.5\" y=\"-661.8\" font-family=\"Helvetica,sans-Serif\" font-size=\"14.00\" fill=\"#000000\">squared_error = 14.9</text>\n<text text-anchor=\"start\" x=\"519.5\" y=\"-646.8\" font-family=\"Helvetica,sans-Serif\" font-size=\"14.00\" fill=\"#000000\">samples = 2068</text>\n<text text-anchor=\"start\" x=\"525\" y=\"-631.8\" font-family=\"Helvetica,sans-Serif\" font-size=\"14.00\" fill=\"#000000\">value = &#45;41.62</text>\n</g>\n<!-- 5&#45;&gt;10 -->\n<g id=\"edge6\" class=\"edge\">\n<title>5&#45;&gt;10</title>\n<path fill=\"none\" stroke=\"#000000\" d=\"M571.5,-915.9324C571.5,-862.9959 571.5,-760.9954 571.5,-702.3723\"/>\n<polygon fill=\"#000000\" stroke=\"#000000\" points=\"575.0001,-702.3019 571.5,-692.302 568.0001,-702.302 575.0001,-702.3019\"/>\n</g>\n<!-- 21 -->\n<g id=\"node5\" class=\"node\">\n<title>21</title>\n<path fill=\"#ffffff\" stroke=\"#000000\" d=\"M149,-100.5C149,-100.5 12,-100.5 12,-100.5 6,-100.5 0,-94.5 0,-88.5 0,-88.5 0,-59.5 0,-59.5 0,-53.5 6,-47.5 12,-47.5 12,-47.5 149,-47.5 149,-47.5 155,-47.5 161,-53.5 161,-59.5 161,-59.5 161,-88.5 161,-88.5 161,-94.5 155,-100.5 149,-100.5\"/>\n<text text-anchor=\"start\" x=\"8\" y=\"-85.3\" font-family=\"Helvetica,sans-Serif\" font-size=\"14.00\" fill=\"#000000\">squared_error = 18.07</text>\n<text text-anchor=\"start\" x=\"32.5\" y=\"-70.3\" font-family=\"Helvetica,sans-Serif\" font-size=\"14.00\" fill=\"#000000\">samples = 280</text>\n<text text-anchor=\"start\" x=\"34\" y=\"-55.3\" font-family=\"Helvetica,sans-Serif\" font-size=\"14.00\" fill=\"#000000\">value = &#45;62.33</text>\n</g>\n<!-- 9&#45;&gt;21 -->\n<g id=\"edge4\" class=\"edge\">\n<title>9&#45;&gt;21</title>\n<path fill=\"none\" stroke=\"#000000\" d=\"M245.2063,-623.6484C214.398,-520.8369 123.0988,-216.1581 91.4495,-110.5401\"/>\n<polygon fill=\"#000000\" stroke=\"#000000\" points=\"94.7139,-109.2405 88.4907,-100.666 88.0085,-111.2498 94.7139,-109.2405\"/>\n</g>\n<!-- 22 -->\n<g id=\"node6\" class=\"node\">\n<title>22</title>\n<path fill=\"#fdf6f0\" stroke=\"#000000\" d=\"M319.5,-100.5C319.5,-100.5 191.5,-100.5 191.5,-100.5 185.5,-100.5 179.5,-94.5 179.5,-88.5 179.5,-88.5 179.5,-59.5 179.5,-59.5 179.5,-53.5 185.5,-47.5 191.5,-47.5 191.5,-47.5 319.5,-47.5 319.5,-47.5 325.5,-47.5 331.5,-53.5 331.5,-59.5 331.5,-59.5 331.5,-88.5 331.5,-88.5 331.5,-94.5 325.5,-100.5 319.5,-100.5\"/>\n<text text-anchor=\"start\" x=\"187.5\" y=\"-85.3\" font-family=\"Helvetica,sans-Serif\" font-size=\"14.00\" fill=\"#000000\">squared_error = 5.93</text>\n<text text-anchor=\"start\" x=\"207.5\" y=\"-70.3\" font-family=\"Helvetica,sans-Serif\" font-size=\"14.00\" fill=\"#000000\">samples = 291</text>\n<text text-anchor=\"start\" x=\"213\" y=\"-55.3\" font-family=\"Helvetica,sans-Serif\" font-size=\"14.00\" fill=\"#000000\">value = &#45;52.8</text>\n</g>\n<!-- 9&#45;&gt;22 -->\n<g id=\"edge5\" class=\"edge\">\n<title>9&#45;&gt;22</title>\n<path fill=\"none\" stroke=\"#000000\" d=\"M255.5,-623.6484C255.5,-520.9406 255.5,-216.7728 255.5,-110.8605\"/>\n<polygon fill=\"#000000\" stroke=\"#000000\" points=\"259.0001,-110.666 255.5,-100.666 252.0001,-110.666 259.0001,-110.666\"/>\n</g>\n<!-- 19 -->\n<g id=\"node8\" class=\"node\">\n<title>19</title>\n<path fill=\"#fcefe6\" stroke=\"#000000\" d=\"M489.5,-100.5C489.5,-100.5 361.5,-100.5 361.5,-100.5 355.5,-100.5 349.5,-94.5 349.5,-88.5 349.5,-88.5 349.5,-59.5 349.5,-59.5 349.5,-53.5 355.5,-47.5 361.5,-47.5 361.5,-47.5 489.5,-47.5 489.5,-47.5 495.5,-47.5 501.5,-53.5 501.5,-59.5 501.5,-59.5 501.5,-88.5 501.5,-88.5 501.5,-94.5 495.5,-100.5 489.5,-100.5\"/>\n<text text-anchor=\"start\" x=\"357.5\" y=\"-85.3\" font-family=\"Helvetica,sans-Serif\" font-size=\"14.00\" fill=\"#000000\">squared_error = 4.24</text>\n<text text-anchor=\"start\" x=\"377.5\" y=\"-70.3\" font-family=\"Helvetica,sans-Serif\" font-size=\"14.00\" fill=\"#000000\">samples = 801</text>\n<text text-anchor=\"start\" x=\"379\" y=\"-55.3\" font-family=\"Helvetica,sans-Serif\" font-size=\"14.00\" fill=\"#000000\">value = &#45;45.81</text>\n</g>\n<!-- 10&#45;&gt;19 -->\n<g id=\"edge7\" class=\"edge\">\n<title>10&#45;&gt;19</title>\n<path fill=\"none\" stroke=\"#000000\" d=\"M562.9121,-623.6484C537.2092,-520.8369 461.0395,-216.1581 434.635,-110.5401\"/>\n<polygon fill=\"#000000\" stroke=\"#000000\" points=\"437.9874,-109.5185 432.1665,-100.666 431.1964,-111.2163 437.9874,-109.5185\"/>\n</g>\n<!-- 20 -->\n<g id=\"node9\" class=\"node\">\n<title>20</title>\n<path fill=\"#fae8db\" stroke=\"#000000\" d=\"M659.5,-100.5C659.5,-100.5 531.5,-100.5 531.5,-100.5 525.5,-100.5 519.5,-94.5 519.5,-88.5 519.5,-88.5 519.5,-59.5 519.5,-59.5 519.5,-53.5 525.5,-47.5 531.5,-47.5 531.5,-47.5 659.5,-47.5 659.5,-47.5 665.5,-47.5 671.5,-53.5 671.5,-59.5 671.5,-59.5 671.5,-88.5 671.5,-88.5 671.5,-94.5 665.5,-100.5 659.5,-100.5\"/>\n<text text-anchor=\"start\" x=\"527.5\" y=\"-85.3\" font-family=\"Helvetica,sans-Serif\" font-size=\"14.00\" fill=\"#000000\">squared_error = 3.47</text>\n<text text-anchor=\"start\" x=\"543.5\" y=\"-70.3\" font-family=\"Helvetica,sans-Serif\" font-size=\"14.00\" fill=\"#000000\">samples = 1267</text>\n<text text-anchor=\"start\" x=\"549\" y=\"-55.3\" font-family=\"Helvetica,sans-Serif\" font-size=\"14.00\" fill=\"#000000\">value = &#45;38.97</text>\n</g>\n<!-- 10&#45;&gt;20 -->\n<g id=\"edge8\" class=\"edge\">\n<title>10&#45;&gt;20</title>\n<path fill=\"none\" stroke=\"#000000\" d=\"M572.9117,-623.6484C577.1326,-520.9406 589.6326,-216.7728 593.9852,-110.8605\"/>\n<polygon fill=\"#000000\" stroke=\"#000000\" points=\"597.4905,-110.8013 594.4041,-100.666 590.4964,-110.5138 597.4905,-110.8013\"/>\n</g>\n<!-- 13 -->\n<g id=\"node11\" class=\"node\">\n<title>13</title>\n<path fill=\"#f9e0ce\" stroke=\"#000000\" d=\"M1061,-692C1061,-692 810,-692 810,-692 804,-692 798,-686 798,-680 798,-680 798,-636 798,-636 798,-630 804,-624 810,-624 810,-624 1061,-624 1061,-624 1067,-624 1073,-630 1073,-636 1073,-636 1073,-680 1073,-680 1073,-686 1067,-692 1061,-692\"/>\n<text text-anchor=\"start\" x=\"806\" y=\"-676.8\" font-family=\"Helvetica,sans-Serif\" font-size=\"14.00\" fill=\"#000000\">lastReportedPosition.speedMPH ≤ &#45;29.5</text>\n<text text-anchor=\"start\" x=\"867.5\" y=\"-661.8\" font-family=\"Helvetica,sans-Serif\" font-size=\"14.00\" fill=\"#000000\">squared_error = 13.9</text>\n<text text-anchor=\"start\" x=\"887.5\" y=\"-646.8\" font-family=\"Helvetica,sans-Serif\" font-size=\"14.00\" fill=\"#000000\">samples = 839</text>\n<text text-anchor=\"start\" x=\"889\" y=\"-631.8\" font-family=\"Helvetica,sans-Serif\" font-size=\"14.00\" fill=\"#000000\">value = &#45;30.23</text>\n</g>\n<!-- 6&#45;&gt;13 -->\n<g id=\"edge10\" class=\"edge\">\n<title>6&#45;&gt;13</title>\n<path fill=\"none\" stroke=\"#000000\" d=\"M961.1166,-915.9324C955.8592,-862.9959 945.729,-760.9954 939.9068,-702.3723\"/>\n<polygon fill=\"#000000\" stroke=\"#000000\" points=\"943.3779,-701.9071 938.9067,-692.302 936.4122,-702.5989 943.3779,-701.9071\"/>\n</g>\n<!-- 14 -->\n<g id=\"node14\" class=\"node\">\n<title>14</title>\n<path fill=\"#f6d1b7\" stroke=\"#000000\" d=\"M1179,-100.5C1179,-100.5 1042,-100.5 1042,-100.5 1036,-100.5 1030,-94.5 1030,-88.5 1030,-88.5 1030,-59.5 1030,-59.5 1030,-53.5 1036,-47.5 1042,-47.5 1042,-47.5 1179,-47.5 1179,-47.5 1185,-47.5 1191,-53.5 1191,-59.5 1191,-59.5 1191,-88.5 1191,-88.5 1191,-94.5 1185,-100.5 1179,-100.5\"/>\n<text text-anchor=\"start\" x=\"1038\" y=\"-85.3\" font-family=\"Helvetica,sans-Serif\" font-size=\"14.00\" fill=\"#000000\">squared_error = 20.92</text>\n<text text-anchor=\"start\" x=\"1062.5\" y=\"-70.3\" font-family=\"Helvetica,sans-Serif\" font-size=\"14.00\" fill=\"#000000\">samples = 337</text>\n<text text-anchor=\"start\" x=\"1064\" y=\"-55.3\" font-family=\"Helvetica,sans-Serif\" font-size=\"14.00\" fill=\"#000000\">value = &#45;15.22</text>\n</g>\n<!-- 6&#45;&gt;14 -->\n<g id=\"edge13\" class=\"edge\">\n<title>6&#45;&gt;14</title>\n<path fill=\"none\" stroke=\"#000000\" d=\"M980.0367,-915.7396C1011.863,-845.5585 1081.5,-692 1081.5,-692 1081.5,-692 1102.5477,-243.4664 1108.7808,-110.6365\"/>\n<polygon fill=\"#000000\" stroke=\"#000000\" points=\"1112.2812,-110.7078 1109.2539,-100.5547 1105.2889,-110.3796 1112.2812,-110.7078\"/>\n</g>\n<!-- 25 -->\n<g id=\"node12\" class=\"node\">\n<title>25</title>\n<path fill=\"#f9e2d2\" stroke=\"#000000\" d=\"M829.5,-100.5C829.5,-100.5 701.5,-100.5 701.5,-100.5 695.5,-100.5 689.5,-94.5 689.5,-88.5 689.5,-88.5 689.5,-59.5 689.5,-59.5 689.5,-53.5 695.5,-47.5 701.5,-47.5 701.5,-47.5 829.5,-47.5 829.5,-47.5 835.5,-47.5 841.5,-53.5 841.5,-59.5 841.5,-59.5 841.5,-88.5 841.5,-88.5 841.5,-94.5 835.5,-100.5 829.5,-100.5\"/>\n<text text-anchor=\"start\" x=\"697.5\" y=\"-85.3\" font-family=\"Helvetica,sans-Serif\" font-size=\"14.00\" fill=\"#000000\">squared_error = 2.98</text>\n<text text-anchor=\"start\" x=\"717.5\" y=\"-70.3\" font-family=\"Helvetica,sans-Serif\" font-size=\"14.00\" fill=\"#000000\">samples = 498</text>\n<text text-anchor=\"start\" x=\"719\" y=\"-55.3\" font-family=\"Helvetica,sans-Serif\" font-size=\"14.00\" fill=\"#000000\">value = &#45;32.91</text>\n</g>\n<!-- 13&#45;&gt;25 -->\n<g id=\"edge11\" class=\"edge\">\n<title>13&#45;&gt;25</title>\n<path fill=\"none\" stroke=\"#000000\" d=\"M925.5004,-623.6484C895.5724,-520.8369 806.8817,-216.1581 776.1367,-110.5401\"/>\n<polygon fill=\"#000000\" stroke=\"#000000\" points=\"779.4179,-109.2892 773.2624,-100.666 772.6969,-111.2457 779.4179,-109.2892\"/>\n</g>\n<!-- 26 -->\n<g id=\"node13\" class=\"node\">\n<title>26</title>\n<path fill=\"#f8dcc8\" stroke=\"#000000\" d=\"M999.5,-100.5C999.5,-100.5 871.5,-100.5 871.5,-100.5 865.5,-100.5 859.5,-94.5 859.5,-88.5 859.5,-88.5 859.5,-59.5 859.5,-59.5 859.5,-53.5 865.5,-47.5 871.5,-47.5 871.5,-47.5 999.5,-47.5 999.5,-47.5 1005.5,-47.5 1011.5,-53.5 1011.5,-59.5 1011.5,-59.5 1011.5,-88.5 1011.5,-88.5 1011.5,-94.5 1005.5,-100.5 999.5,-100.5\"/>\n<text text-anchor=\"start\" x=\"867.5\" y=\"-85.3\" font-family=\"Helvetica,sans-Serif\" font-size=\"14.00\" fill=\"#000000\">squared_error = 3.97</text>\n<text text-anchor=\"start\" x=\"887.5\" y=\"-70.3\" font-family=\"Helvetica,sans-Serif\" font-size=\"14.00\" fill=\"#000000\">samples = 341</text>\n<text text-anchor=\"start\" x=\"889\" y=\"-55.3\" font-family=\"Helvetica,sans-Serif\" font-size=\"14.00\" fill=\"#000000\">value = &#45;26.31</text>\n</g>\n<!-- 13&#45;&gt;26 -->\n<g id=\"edge12\" class=\"edge\">\n<title>13&#45;&gt;26</title>\n<path fill=\"none\" stroke=\"#000000\" d=\"M935.5,-623.6484C935.5,-520.9406 935.5,-216.7728 935.5,-110.8605\"/>\n<polygon fill=\"#000000\" stroke=\"#000000\" points=\"939.0001,-110.666 935.5,-100.666 932.0001,-110.666 939.0001,-110.666\"/>\n</g>\n<!-- 3 -->\n<g id=\"node16\" class=\"node\">\n<title>3</title>\n<path fill=\"#f2bf9b\" stroke=\"#000000\" d=\"M1490,-984C1490,-984 1251,-984 1251,-984 1245,-984 1239,-978 1239,-972 1239,-972 1239,-928 1239,-928 1239,-922 1245,-916 1251,-916 1251,-916 1490,-916 1490,-916 1496,-916 1502,-922 1502,-928 1502,-928 1502,-972 1502,-972 1502,-978 1496,-984 1490,-984\"/>\n<text text-anchor=\"start\" x=\"1247\" y=\"-968.8\" font-family=\"Helvetica,sans-Serif\" font-size=\"14.00\" fill=\"#000000\">lastReportedPosition.speedMPH ≤ 7.5</text>\n<text text-anchor=\"start\" x=\"1298\" y=\"-953.8\" font-family=\"Helvetica,sans-Serif\" font-size=\"14.00\" fill=\"#000000\">squared_error = 43.07</text>\n<text text-anchor=\"start\" x=\"1318.5\" y=\"-938.8\" font-family=\"Helvetica,sans-Serif\" font-size=\"14.00\" fill=\"#000000\">samples = 2432</text>\n<text text-anchor=\"start\" x=\"1330.5\" y=\"-923.8\" font-family=\"Helvetica,sans-Serif\" font-size=\"14.00\" fill=\"#000000\">value = 3.19</text>\n</g>\n<!-- 2&#45;&gt;3 -->\n<g id=\"edge15\" class=\"edge\">\n<title>2&#45;&gt;3</title>\n<path fill=\"none\" stroke=\"#000000\" d=\"M1370.5,-1207.9324C1370.5,-1154.9959 1370.5,-1052.9954 1370.5,-994.3723\"/>\n<polygon fill=\"#000000\" stroke=\"#000000\" points=\"1374.0001,-994.3019 1370.5,-984.302 1367.0001,-994.302 1374.0001,-994.3019\"/>\n</g>\n<!-- 4 -->\n<g id=\"node21\" class=\"node\">\n<title>4</title>\n<path fill=\"#ea995e\" stroke=\"#000000\" d=\"M1944,-984C1944,-984 1697,-984 1697,-984 1691,-984 1685,-978 1685,-972 1685,-972 1685,-928 1685,-928 1685,-922 1691,-916 1697,-916 1697,-916 1944,-916 1944,-916 1950,-916 1956,-922 1956,-928 1956,-928 1956,-972 1956,-972 1956,-978 1950,-984 1944,-984\"/>\n<text text-anchor=\"start\" x=\"1693\" y=\"-968.8\" font-family=\"Helvetica,sans-Serif\" font-size=\"14.00\" fill=\"#000000\">lastReportedPosition.speedMPH ≤ 43.5</text>\n<text text-anchor=\"start\" x=\"1748\" y=\"-953.8\" font-family=\"Helvetica,sans-Serif\" font-size=\"14.00\" fill=\"#000000\">squared_error = 98.62</text>\n<text text-anchor=\"start\" x=\"1768.5\" y=\"-938.8\" font-family=\"Helvetica,sans-Serif\" font-size=\"14.00\" fill=\"#000000\">samples = 2914</text>\n<text text-anchor=\"start\" x=\"1776.5\" y=\"-923.8\" font-family=\"Helvetica,sans-Serif\" font-size=\"14.00\" fill=\"#000000\">value = 43.13</text>\n</g>\n<!-- 2&#45;&gt;4 -->\n<g id=\"edge20\" class=\"edge\">\n<title>2&#45;&gt;4</title>\n<path fill=\"none\" stroke=\"#000000\" d=\"M1423.0014,-1207.9324C1506.8052,-1153.5531 1670.399,-1047.3989 1759.3532,-989.6775\"/>\n<polygon fill=\"#000000\" stroke=\"#000000\" points=\"1761.5021,-992.4554 1767.9856,-984.076 1757.6917,-986.5833 1761.5021,-992.4554\"/>\n</g>\n<!-- 11 -->\n<g id=\"node17\" class=\"node\">\n<title>11</title>\n<path fill=\"#f3c2a0\" stroke=\"#000000\" d=\"M1349.5,-100.5C1349.5,-100.5 1221.5,-100.5 1221.5,-100.5 1215.5,-100.5 1209.5,-94.5 1209.5,-88.5 1209.5,-88.5 1209.5,-59.5 1209.5,-59.5 1209.5,-53.5 1215.5,-47.5 1221.5,-47.5 1221.5,-47.5 1349.5,-47.5 1349.5,-47.5 1355.5,-47.5 1361.5,-53.5 1361.5,-59.5 1361.5,-59.5 1361.5,-88.5 1361.5,-88.5 1361.5,-94.5 1355.5,-100.5 1349.5,-100.5\"/>\n<text text-anchor=\"start\" x=\"1217.5\" y=\"-85.3\" font-family=\"Helvetica,sans-Serif\" font-size=\"14.00\" fill=\"#000000\">squared_error = 2.05</text>\n<text text-anchor=\"start\" x=\"1233.5\" y=\"-70.3\" font-family=\"Helvetica,sans-Serif\" font-size=\"14.00\" fill=\"#000000\">samples = 1920</text>\n<text text-anchor=\"start\" x=\"1245.5\" y=\"-55.3\" font-family=\"Helvetica,sans-Serif\" font-size=\"14.00\" fill=\"#000000\">value = 0.07</text>\n</g>\n<!-- 3&#45;&gt;11 -->\n<g id=\"edge16\" class=\"edge\">\n<title>3&#45;&gt;11</title>\n<path fill=\"none\" stroke=\"#000000\" d=\"M1362.5325,-915.7396C1346.2113,-845.5585 1310.5,-692 1310.5,-692 1310.5,-692 1292.3554,-243.4664 1286.9821,-110.6365\"/>\n<polygon fill=\"#000000\" stroke=\"#000000\" points=\"1290.4757,-110.405 1286.5742,-100.5547 1283.4814,-110.688 1290.4757,-110.405\"/>\n</g>\n<!-- 12 -->\n<g id=\"node18\" class=\"node\">\n<title>12</title>\n<path fill=\"#f0b489\" stroke=\"#000000\" d=\"M1579,-692C1579,-692 1332,-692 1332,-692 1326,-692 1320,-686 1320,-680 1320,-680 1320,-636 1320,-636 1320,-630 1326,-624 1332,-624 1332,-624 1579,-624 1579,-624 1585,-624 1591,-630 1591,-636 1591,-636 1591,-680 1591,-680 1591,-686 1585,-692 1579,-692\"/>\n<text text-anchor=\"start\" x=\"1328\" y=\"-676.8\" font-family=\"Helvetica,sans-Serif\" font-size=\"14.00\" fill=\"#000000\">lastReportedPosition.speedMPH ≤ 15.5</text>\n<text text-anchor=\"start\" x=\"1383\" y=\"-661.8\" font-family=\"Helvetica,sans-Serif\" font-size=\"14.00\" fill=\"#000000\">squared_error = 23.67</text>\n<text text-anchor=\"start\" x=\"1407.5\" y=\"-646.8\" font-family=\"Helvetica,sans-Serif\" font-size=\"14.00\" fill=\"#000000\">samples = 512</text>\n<text text-anchor=\"start\" x=\"1411.5\" y=\"-631.8\" font-family=\"Helvetica,sans-Serif\" font-size=\"14.00\" fill=\"#000000\">value = 14.88</text>\n</g>\n<!-- 3&#45;&gt;12 -->\n<g id=\"edge17\" class=\"edge\">\n<title>3&#45;&gt;12</title>\n<path fill=\"none\" stroke=\"#000000\" d=\"M1380.4169,-915.9324C1395.8584,-862.8863 1425.6415,-760.5728 1442.6892,-702.0087\"/>\n<polygon fill=\"#000000\" stroke=\"#000000\" points=\"1446.0803,-702.8817 1445.5148,-692.302 1439.3593,-700.9252 1446.0803,-702.8817\"/>\n</g>\n<!-- 23 -->\n<g id=\"node19\" class=\"node\">\n<title>23</title>\n<path fill=\"#f0b88f\" stroke=\"#000000\" d=\"M1519.5,-100.5C1519.5,-100.5 1391.5,-100.5 1391.5,-100.5 1385.5,-100.5 1379.5,-94.5 1379.5,-88.5 1379.5,-88.5 1379.5,-59.5 1379.5,-59.5 1379.5,-53.5 1385.5,-47.5 1391.5,-47.5 1391.5,-47.5 1519.5,-47.5 1519.5,-47.5 1525.5,-47.5 1531.5,-53.5 1531.5,-59.5 1531.5,-59.5 1531.5,-88.5 1531.5,-88.5 1531.5,-94.5 1525.5,-100.5 1519.5,-100.5\"/>\n<text text-anchor=\"start\" x=\"1387.5\" y=\"-85.3\" font-family=\"Helvetica,sans-Serif\" font-size=\"14.00\" fill=\"#000000\">squared_error = 5.18</text>\n<text text-anchor=\"start\" x=\"1407.5\" y=\"-70.3\" font-family=\"Helvetica,sans-Serif\" font-size=\"14.00\" fill=\"#000000\">samples = 283</text>\n<text text-anchor=\"start\" x=\"1411.5\" y=\"-55.3\" font-family=\"Helvetica,sans-Serif\" font-size=\"14.00\" fill=\"#000000\">value = 11.02</text>\n</g>\n<!-- 12&#45;&gt;23 -->\n<g id=\"edge18\" class=\"edge\">\n<title>12&#45;&gt;23</title>\n<path fill=\"none\" stroke=\"#000000\" d=\"M1455.5,-623.6484C1455.5,-520.9406 1455.5,-216.7728 1455.5,-110.8605\"/>\n<polygon fill=\"#000000\" stroke=\"#000000\" points=\"1459.0001,-110.666 1455.5,-100.666 1452.0001,-110.666 1459.0001,-110.666\"/>\n</g>\n<!-- 24 -->\n<g id=\"node20\" class=\"node\">\n<title>24</title>\n<path fill=\"#efaf82\" stroke=\"#000000\" d=\"M1689.5,-100.5C1689.5,-100.5 1561.5,-100.5 1561.5,-100.5 1555.5,-100.5 1549.5,-94.5 1549.5,-88.5 1549.5,-88.5 1549.5,-59.5 1549.5,-59.5 1549.5,-53.5 1555.5,-47.5 1561.5,-47.5 1561.5,-47.5 1689.5,-47.5 1689.5,-47.5 1695.5,-47.5 1701.5,-53.5 1701.5,-59.5 1701.5,-59.5 1701.5,-88.5 1701.5,-88.5 1701.5,-94.5 1695.5,-100.5 1689.5,-100.5\"/>\n<text text-anchor=\"start\" x=\"1557.5\" y=\"-85.3\" font-family=\"Helvetica,sans-Serif\" font-size=\"14.00\" fill=\"#000000\">squared_error = 5.34</text>\n<text text-anchor=\"start\" x=\"1577.5\" y=\"-70.3\" font-family=\"Helvetica,sans-Serif\" font-size=\"14.00\" fill=\"#000000\">samples = 229</text>\n<text text-anchor=\"start\" x=\"1581.5\" y=\"-55.3\" font-family=\"Helvetica,sans-Serif\" font-size=\"14.00\" fill=\"#000000\">value = 19.65</text>\n</g>\n<!-- 12&#45;&gt;24 -->\n<g id=\"edge19\" class=\"edge\">\n<title>12&#45;&gt;24</title>\n<path fill=\"none\" stroke=\"#000000\" d=\"M1465.4996,-623.6484C1495.4276,-520.8369 1584.1183,-216.1581 1614.8633,-110.5401\"/>\n<polygon fill=\"#000000\" stroke=\"#000000\" points=\"1618.3031,-111.2457 1617.7376,-100.666 1611.5821,-109.2892 1618.3031,-111.2457\"/>\n</g>\n<!-- 7 -->\n<g id=\"node22\" class=\"node\">\n<title>7</title>\n<path fill=\"#eba06a\" stroke=\"#000000\" d=\"M1944,-692C1944,-692 1697,-692 1697,-692 1691,-692 1685,-686 1685,-680 1685,-680 1685,-636 1685,-636 1685,-630 1691,-624 1697,-624 1697,-624 1944,-624 1944,-624 1950,-624 1956,-630 1956,-636 1956,-636 1956,-680 1956,-680 1956,-686 1950,-692 1944,-692\"/>\n<text text-anchor=\"start\" x=\"1693\" y=\"-676.8\" font-family=\"Helvetica,sans-Serif\" font-size=\"14.00\" fill=\"#000000\">lastReportedPosition.speedMPH ≤ 34.5</text>\n<text text-anchor=\"start\" x=\"1752.5\" y=\"-661.8\" font-family=\"Helvetica,sans-Serif\" font-size=\"14.00\" fill=\"#000000\">squared_error = 27.2</text>\n<text text-anchor=\"start\" x=\"1768.5\" y=\"-646.8\" font-family=\"Helvetica,sans-Serif\" font-size=\"14.00\" fill=\"#000000\">samples = 1538</text>\n<text text-anchor=\"start\" x=\"1776.5\" y=\"-631.8\" font-family=\"Helvetica,sans-Serif\" font-size=\"14.00\" fill=\"#000000\">value = 35.44</text>\n</g>\n<!-- 4&#45;&gt;7 -->\n<g id=\"edge21\" class=\"edge\">\n<title>4&#45;&gt;7</title>\n<path fill=\"none\" stroke=\"#000000\" d=\"M1820.5,-915.9324C1820.5,-862.9959 1820.5,-760.9954 1820.5,-702.3723\"/>\n<polygon fill=\"#000000\" stroke=\"#000000\" points=\"1824.0001,-702.3019 1820.5,-692.302 1817.0001,-702.302 1824.0001,-702.3019\"/>\n</g>\n<!-- 8 -->\n<g id=\"node25\" class=\"node\">\n<title>8</title>\n<path fill=\"#e89051\" stroke=\"#000000\" d=\"M2282,-692C2282,-692 2035,-692 2035,-692 2029,-692 2023,-686 2023,-680 2023,-680 2023,-636 2023,-636 2023,-630 2029,-624 2035,-624 2035,-624 2282,-624 2282,-624 2288,-624 2294,-630 2294,-636 2294,-636 2294,-680 2294,-680 2294,-686 2288,-692 2282,-692\"/>\n<text text-anchor=\"start\" x=\"2031\" y=\"-676.8\" font-family=\"Helvetica,sans-Serif\" font-size=\"14.00\" fill=\"#000000\">lastReportedPosition.speedMPH ≤ 54.5</text>\n<text text-anchor=\"start\" x=\"2086\" y=\"-661.8\" font-family=\"Helvetica,sans-Serif\" font-size=\"14.00\" fill=\"#000000\">squared_error = 38.68</text>\n<text text-anchor=\"start\" x=\"2106.5\" y=\"-646.8\" font-family=\"Helvetica,sans-Serif\" font-size=\"14.00\" fill=\"#000000\">samples = 1376</text>\n<text text-anchor=\"start\" x=\"2114.5\" y=\"-631.8\" font-family=\"Helvetica,sans-Serif\" font-size=\"14.00\" fill=\"#000000\">value = 51.72</text>\n</g>\n<!-- 4&#45;&gt;8 -->\n<g id=\"edge24\" class=\"edge\">\n<title>4&#45;&gt;8</title>\n<path fill=\"none\" stroke=\"#000000\" d=\"M1859.9344,-915.9324C1922.4357,-861.9372 2044.0246,-756.8959 2111.1478,-698.9079\"/>\n<polygon fill=\"#000000\" stroke=\"#000000\" points=\"2113.7767,-701.2619 2119.0559,-692.076 2109.2005,-695.9648 2113.7767,-701.2619\"/>\n</g>\n<!-- 17 -->\n<g id=\"node23\" class=\"node\">\n<title>17</title>\n<path fill=\"#eda673\" stroke=\"#000000\" d=\"M1859.5,-100.5C1859.5,-100.5 1731.5,-100.5 1731.5,-100.5 1725.5,-100.5 1719.5,-94.5 1719.5,-88.5 1719.5,-88.5 1719.5,-59.5 1719.5,-59.5 1719.5,-53.5 1725.5,-47.5 1731.5,-47.5 1731.5,-47.5 1859.5,-47.5 1859.5,-47.5 1865.5,-47.5 1871.5,-53.5 1871.5,-59.5 1871.5,-59.5 1871.5,-88.5 1871.5,-88.5 1871.5,-94.5 1865.5,-100.5 1859.5,-100.5\"/>\n<text text-anchor=\"start\" x=\"1727.5\" y=\"-85.3\" font-family=\"Helvetica,sans-Serif\" font-size=\"14.00\" fill=\"#000000\">squared_error = 9.89</text>\n<text text-anchor=\"start\" x=\"1747.5\" y=\"-70.3\" font-family=\"Helvetica,sans-Serif\" font-size=\"14.00\" fill=\"#000000\">samples = 586</text>\n<text text-anchor=\"start\" x=\"1751.5\" y=\"-55.3\" font-family=\"Helvetica,sans-Serif\" font-size=\"14.00\" fill=\"#000000\">value = 29.79</text>\n</g>\n<!-- 7&#45;&gt;17 -->\n<g id=\"edge22\" class=\"edge\">\n<title>7&#45;&gt;17</title>\n<path fill=\"none\" stroke=\"#000000\" d=\"M1819.0295,-623.6484C1814.6327,-520.9406 1801.6119,-216.7728 1797.0779,-110.8605\"/>\n<polygon fill=\"#000000\" stroke=\"#000000\" points=\"1800.5661,-110.5071 1796.6415,-100.666 1793.5725,-110.8066 1800.5661,-110.5071\"/>\n</g>\n<!-- 18 -->\n<g id=\"node24\" class=\"node\">\n<title>18</title>\n<path fill=\"#eb9d65\" stroke=\"#000000\" d=\"M2029.5,-100.5C2029.5,-100.5 1901.5,-100.5 1901.5,-100.5 1895.5,-100.5 1889.5,-94.5 1889.5,-88.5 1889.5,-88.5 1889.5,-59.5 1889.5,-59.5 1889.5,-53.5 1895.5,-47.5 1901.5,-47.5 1901.5,-47.5 2029.5,-47.5 2029.5,-47.5 2035.5,-47.5 2041.5,-53.5 2041.5,-59.5 2041.5,-59.5 2041.5,-88.5 2041.5,-88.5 2041.5,-94.5 2035.5,-100.5 2029.5,-100.5\"/>\n<text text-anchor=\"start\" x=\"1897.5\" y=\"-85.3\" font-family=\"Helvetica,sans-Serif\" font-size=\"14.00\" fill=\"#000000\">squared_error = 6.09</text>\n<text text-anchor=\"start\" x=\"1917.5\" y=\"-70.3\" font-family=\"Helvetica,sans-Serif\" font-size=\"14.00\" fill=\"#000000\">samples = 952</text>\n<text text-anchor=\"start\" x=\"1921.5\" y=\"-55.3\" font-family=\"Helvetica,sans-Serif\" font-size=\"14.00\" fill=\"#000000\">value = 38.92</text>\n</g>\n<!-- 7&#45;&gt;18 -->\n<g id=\"edge23\" class=\"edge\">\n<title>7&#45;&gt;18</title>\n<path fill=\"none\" stroke=\"#000000\" d=\"M1829.0291,-623.6484C1854.5559,-520.8369 1930.2039,-216.1581 1956.4275,-110.5401\"/>\n<polygon fill=\"#000000\" stroke=\"#000000\" points=\"1959.8662,-111.2147 1958.8792,-100.666 1953.0725,-109.5279 1959.8662,-111.2147\"/>\n</g>\n<!-- 15 -->\n<g id=\"node26\" class=\"node\">\n<title>15</title>\n<path fill=\"#e99356\" stroke=\"#000000\" d=\"M2282,-400C2282,-400 2035,-400 2035,-400 2029,-400 2023,-394 2023,-388 2023,-388 2023,-344 2023,-344 2023,-338 2029,-332 2035,-332 2035,-332 2282,-332 2282,-332 2288,-332 2294,-338 2294,-344 2294,-344 2294,-388 2294,-388 2294,-394 2288,-400 2282,-400\"/>\n<text text-anchor=\"start\" x=\"2031\" y=\"-384.8\" font-family=\"Helvetica,sans-Serif\" font-size=\"14.00\" fill=\"#000000\">lastReportedPosition.speedMPH ≤ 48.5</text>\n<text text-anchor=\"start\" x=\"2090.5\" y=\"-369.8\" font-family=\"Helvetica,sans-Serif\" font-size=\"14.00\" fill=\"#000000\">squared_error = 8.48</text>\n<text text-anchor=\"start\" x=\"2110.5\" y=\"-354.8\" font-family=\"Helvetica,sans-Serif\" font-size=\"14.00\" fill=\"#000000\">samples = 997</text>\n<text text-anchor=\"start\" x=\"2114.5\" y=\"-339.8\" font-family=\"Helvetica,sans-Serif\" font-size=\"14.00\" fill=\"#000000\">value = 48.51</text>\n</g>\n<!-- 8&#45;&gt;15 -->\n<g id=\"edge25\" class=\"edge\">\n<title>8&#45;&gt;15</title>\n<path fill=\"none\" stroke=\"#000000\" d=\"M2158.5,-623.9324C2158.5,-570.9959 2158.5,-468.9954 2158.5,-410.3723\"/>\n<polygon fill=\"#000000\" stroke=\"#000000\" points=\"2162.0001,-410.3019 2158.5,-400.302 2155.0001,-410.302 2162.0001,-410.3019\"/>\n</g>\n<!-- 16 -->\n<g id=\"node29\" class=\"node\">\n<title>16</title>\n<path fill=\"#e68844\" stroke=\"#000000\" d=\"M2595,-400C2595,-400 2348,-400 2348,-400 2342,-400 2336,-394 2336,-388 2336,-388 2336,-344 2336,-344 2336,-338 2342,-332 2348,-332 2348,-332 2595,-332 2595,-332 2601,-332 2607,-338 2607,-344 2607,-344 2607,-388 2607,-388 2607,-394 2601,-400 2595,-400\"/>\n<text text-anchor=\"start\" x=\"2344\" y=\"-384.8\" font-family=\"Helvetica,sans-Serif\" font-size=\"14.00\" fill=\"#000000\">lastReportedPosition.speedMPH ≤ 62.5</text>\n<text text-anchor=\"start\" x=\"2399\" y=\"-369.8\" font-family=\"Helvetica,sans-Serif\" font-size=\"14.00\" fill=\"#000000\">squared_error = 19.83</text>\n<text text-anchor=\"start\" x=\"2423.5\" y=\"-354.8\" font-family=\"Helvetica,sans-Serif\" font-size=\"14.00\" fill=\"#000000\">samples = 379</text>\n<text text-anchor=\"start\" x=\"2427.5\" y=\"-339.8\" font-family=\"Helvetica,sans-Serif\" font-size=\"14.00\" fill=\"#000000\">value = 60.16</text>\n</g>\n<!-- 8&#45;&gt;16 -->\n<g id=\"edge28\" class=\"edge\">\n<title>8&#45;&gt;16</title>\n<path fill=\"none\" stroke=\"#000000\" d=\"M2195.0177,-623.9324C2252.8186,-570.0095 2365.1903,-465.1771 2427.4002,-407.141\"/>\n<polygon fill=\"#000000\" stroke=\"#000000\" points=\"2429.8065,-409.6828 2434.7311,-400.302 2425.0314,-404.5643 2429.8065,-409.6828\"/>\n</g>\n<!-- 29 -->\n<g id=\"node27\" class=\"node\">\n<title>29</title>\n<path fill=\"#e9965a\" stroke=\"#000000\" d=\"M2199.5,-100.5C2199.5,-100.5 2071.5,-100.5 2071.5,-100.5 2065.5,-100.5 2059.5,-94.5 2059.5,-88.5 2059.5,-88.5 2059.5,-59.5 2059.5,-59.5 2059.5,-53.5 2065.5,-47.5 2071.5,-47.5 2071.5,-47.5 2199.5,-47.5 2199.5,-47.5 2205.5,-47.5 2211.5,-53.5 2211.5,-59.5 2211.5,-59.5 2211.5,-88.5 2211.5,-88.5 2211.5,-94.5 2205.5,-100.5 2199.5,-100.5\"/>\n<text text-anchor=\"start\" x=\"2067.5\" y=\"-85.3\" font-family=\"Helvetica,sans-Serif\" font-size=\"14.00\" fill=\"#000000\">squared_error = 2.03</text>\n<text text-anchor=\"start\" x=\"2087.5\" y=\"-70.3\" font-family=\"Helvetica,sans-Serif\" font-size=\"14.00\" fill=\"#000000\">samples = 502</text>\n<text text-anchor=\"start\" x=\"2091.5\" y=\"-55.3\" font-family=\"Helvetica,sans-Serif\" font-size=\"14.00\" fill=\"#000000\">value = 46.08</text>\n</g>\n<!-- 15&#45;&gt;29 -->\n<g id=\"edge26\" class=\"edge\">\n<title>15&#45;&gt;29</title>\n<path fill=\"none\" stroke=\"#000000\" d=\"M2155.8166,-331.9324C2151.4548,-276.5562 2142.8639,-167.4894 2138.3791,-110.5524\"/>\n<polygon fill=\"#000000\" stroke=\"#000000\" points=\"2141.866,-110.2467 2137.5915,-100.5524 2134.8876,-110.7964 2141.866,-110.2467\"/>\n</g>\n<!-- 30 -->\n<g id=\"node28\" class=\"node\">\n<title>30</title>\n<path fill=\"#e89152\" stroke=\"#000000\" d=\"M2369.5,-100.5C2369.5,-100.5 2241.5,-100.5 2241.5,-100.5 2235.5,-100.5 2229.5,-94.5 2229.5,-88.5 2229.5,-88.5 2229.5,-59.5 2229.5,-59.5 2229.5,-53.5 2235.5,-47.5 2241.5,-47.5 2241.5,-47.5 2369.5,-47.5 2369.5,-47.5 2375.5,-47.5 2381.5,-53.5 2381.5,-59.5 2381.5,-59.5 2381.5,-88.5 2381.5,-88.5 2381.5,-94.5 2375.5,-100.5 2369.5,-100.5\"/>\n<text text-anchor=\"start\" x=\"2237.5\" y=\"-85.3\" font-family=\"Helvetica,sans-Serif\" font-size=\"14.00\" fill=\"#000000\">squared_error = 3.01</text>\n<text text-anchor=\"start\" x=\"2257.5\" y=\"-70.3\" font-family=\"Helvetica,sans-Serif\" font-size=\"14.00\" fill=\"#000000\">samples = 495</text>\n<text text-anchor=\"start\" x=\"2261.5\" y=\"-55.3\" font-family=\"Helvetica,sans-Serif\" font-size=\"14.00\" fill=\"#000000\">value = 50.97</text>\n</g>\n<!-- 15&#45;&gt;30 -->\n<g id=\"edge27\" class=\"edge\">\n<title>15&#45;&gt;30</title>\n<path fill=\"none\" stroke=\"#000000\" d=\"M2175.6505,-331.9324C2203.7017,-276.2115 2259.1197,-166.1296 2287.6308,-109.4954\"/>\n<polygon fill=\"#000000\" stroke=\"#000000\" points=\"2290.7624,-111.0582 2292.1329,-100.5524 2284.51,-107.9106 2290.7624,-111.0582\"/>\n</g>\n<!-- 27 -->\n<g id=\"node30\" class=\"node\">\n<title>27</title>\n<path fill=\"#e78a48\" stroke=\"#000000\" d=\"M2531.5,-100.5C2531.5,-100.5 2411.5,-100.5 2411.5,-100.5 2405.5,-100.5 2399.5,-94.5 2399.5,-88.5 2399.5,-88.5 2399.5,-59.5 2399.5,-59.5 2399.5,-53.5 2405.5,-47.5 2411.5,-47.5 2411.5,-47.5 2531.5,-47.5 2531.5,-47.5 2537.5,-47.5 2543.5,-53.5 2543.5,-59.5 2543.5,-59.5 2543.5,-88.5 2543.5,-88.5 2543.5,-94.5 2537.5,-100.5 2531.5,-100.5\"/>\n<text text-anchor=\"start\" x=\"2407.5\" y=\"-85.3\" font-family=\"Helvetica,sans-Serif\" font-size=\"14.00\" fill=\"#000000\">squared_error = 4.0</text>\n<text text-anchor=\"start\" x=\"2423.5\" y=\"-70.3\" font-family=\"Helvetica,sans-Serif\" font-size=\"14.00\" fill=\"#000000\">samples = 293</text>\n<text text-anchor=\"start\" x=\"2427.5\" y=\"-55.3\" font-family=\"Helvetica,sans-Serif\" font-size=\"14.00\" fill=\"#000000\">value = 57.99</text>\n</g>\n<!-- 16&#45;&gt;27 -->\n<g id=\"edge29\" class=\"edge\">\n<title>16&#45;&gt;27</title>\n<path fill=\"none\" stroke=\"#000000\" d=\"M2471.5,-331.9324C2471.5,-276.5562 2471.5,-167.4894 2471.5,-110.5524\"/>\n<polygon fill=\"#000000\" stroke=\"#000000\" points=\"2475.0001,-110.5524 2471.5,-100.5524 2468.0001,-110.5524 2475.0001,-110.5524\"/>\n</g>\n<!-- 28 -->\n<g id=\"node31\" class=\"node\">\n<title>28</title>\n<path fill=\"#e58139\" stroke=\"#000000\" d=\"M2701.5,-100.5C2701.5,-100.5 2573.5,-100.5 2573.5,-100.5 2567.5,-100.5 2561.5,-94.5 2561.5,-88.5 2561.5,-88.5 2561.5,-59.5 2561.5,-59.5 2561.5,-53.5 2567.5,-47.5 2573.5,-47.5 2573.5,-47.5 2701.5,-47.5 2701.5,-47.5 2707.5,-47.5 2713.5,-53.5 2713.5,-59.5 2713.5,-59.5 2713.5,-88.5 2713.5,-88.5 2713.5,-94.5 2707.5,-100.5 2701.5,-100.5\"/>\n<text text-anchor=\"start\" x=\"2569.5\" y=\"-85.3\" font-family=\"Helvetica,sans-Serif\" font-size=\"14.00\" fill=\"#000000\">squared_error = 3.55</text>\n<text text-anchor=\"start\" x=\"2593.5\" y=\"-70.3\" font-family=\"Helvetica,sans-Serif\" font-size=\"14.00\" fill=\"#000000\">samples = 86</text>\n<text text-anchor=\"start\" x=\"2593.5\" y=\"-55.3\" font-family=\"Helvetica,sans-Serif\" font-size=\"14.00\" fill=\"#000000\">value = 67.52</text>\n</g>\n<!-- 16&#45;&gt;28 -->\n<g id=\"edge30\" class=\"edge\">\n<title>16&#45;&gt;28</title>\n<path fill=\"none\" stroke=\"#000000\" d=\"M2490.8672,-331.9324C2522.5441,-276.2115 2585.125,-166.1296 2617.3211,-109.4954\"/>\n<polygon fill=\"#000000\" stroke=\"#000000\" points=\"2620.5056,-110.9756 2622.4051,-100.5524 2614.4203,-107.5161 2620.5056,-110.9756\"/>\n</g>\n</g>\n</svg>\n"
          },
          "metadata": {},
          "execution_count": 340
        }
      ]
    },
    {
      "cell_type": "code",
      "source": [
        "m = DecisionTreeRegressor(min_samples_leaf=10)\n",
        "m.fit(xs, y);"
      ],
      "metadata": {
        "id": "_wto32TJkud4"
      },
      "execution_count": 341,
      "outputs": []
    },
    {
      "cell_type": "code",
      "source": [
        "def r_mse(pred,y): return round(math.sqrt(((pred-y)**2).mean()), 6)\n",
        "def m_rmse(m, xs, y): return r_mse(m.predict(xs), y)"
      ],
      "metadata": {
        "id": "D53phc2JE5RC"
      },
      "execution_count": 342,
      "outputs": []
    },
    {
      "cell_type": "code",
      "source": [
        "m_rmse(m, xs, y)"
      ],
      "metadata": {
        "colab": {
          "base_uri": "https://localhost:8080/"
        },
        "id": "8CYcTQHLHT4m",
        "outputId": "a8f62115-6f92-4a19-b53d-2decfaf24e1a"
      },
      "execution_count": 343,
      "outputs": [
        {
          "output_type": "execute_result",
          "data": {
            "text/plain": [
              "0.087185"
            ]
          },
          "metadata": {},
          "execution_count": 343
        }
      ]
    },
    {
      "cell_type": "code",
      "source": [
        "m_rmse(m, valid_xs, valid_y)"
      ],
      "metadata": {
        "colab": {
          "base_uri": "https://localhost:8080/"
        },
        "id": "_oElvFDHHZHm",
        "outputId": "31a966d1-740f-4ee2-85ea-59b906ca33d3"
      },
      "execution_count": 344,
      "outputs": [
        {
          "output_type": "execute_result",
          "data": {
            "text/plain": [
              "0.173346"
            ]
          },
          "metadata": {},
          "execution_count": 344
        }
      ]
    },
    {
      "cell_type": "code",
      "source": [
        "def rf_feat_importance(m, df):\n",
        "    return pd.DataFrame({'cols':df.columns, 'imp':m.feature_importances_}\n",
        "                       ).sort_values('imp', ascending=False)"
      ],
      "metadata": {
        "id": "oCKCSQSlab4o"
      },
      "execution_count": 326,
      "outputs": []
    },
    {
      "cell_type": "code",
      "source": [
        "fi = rf_feat_importance(m, xs)\n",
        "fi[:10]"
      ],
      "metadata": {
        "colab": {
          "base_uri": "https://localhost:8080/",
          "height": 363
        },
        "id": "jxENiQDXlYKl",
        "outputId": "fd244caa-a2f3-42cf-d9bf-e38feacb3625"
      },
      "execution_count": 346,
      "outputs": [
        {
          "output_type": "execute_result",
          "data": {
            "text/plain": [
              "                                                                    cols  \\\n",
              "33                                         lastReportedPosition.speedMPH   \n",
              "32                                                       trailingTonnage   \n",
              "34         lastReportedPosition.milepostLocation.milepost.milepostNumber   \n",
              "51                      lastReportedPosition.nextSignalState.signalState   \n",
              "29                                                        loadedCarCount   \n",
              "38                                          aotuTrainData.totalCarWeight   \n",
              "49                 lastReportedPosition.precedingSignalState.signalState   \n",
              "50  lastReportedPosition.nextSignalState.milepostLocation.milepostNumber   \n",
              "52                                                              milepost   \n",
              "0                                                    ptcLeadLocomotiveId   \n",
              "\n",
              "             imp  \n",
              "33  9.999994e-01  \n",
              "32  2.614734e-07  \n",
              "34  1.565187e-07  \n",
              "51  4.878263e-08  \n",
              "29  3.061496e-08  \n",
              "38  2.670004e-08  \n",
              "49  1.324413e-08  \n",
              "50  5.177867e-09  \n",
              "52  4.101250e-09  \n",
              "0   2.903987e-09  "
            ],
            "text/html": [
              "\n",
              "  <div id=\"df-26f9ead7-4cd6-434e-be93-5fcbe6884839\">\n",
              "    <div class=\"colab-df-container\">\n",
              "      <div>\n",
              "<style scoped>\n",
              "    .dataframe tbody tr th:only-of-type {\n",
              "        vertical-align: middle;\n",
              "    }\n",
              "\n",
              "    .dataframe tbody tr th {\n",
              "        vertical-align: top;\n",
              "    }\n",
              "\n",
              "    .dataframe thead th {\n",
              "        text-align: right;\n",
              "    }\n",
              "</style>\n",
              "<table border=\"1\" class=\"dataframe\">\n",
              "  <thead>\n",
              "    <tr style=\"text-align: right;\">\n",
              "      <th></th>\n",
              "      <th>cols</th>\n",
              "      <th>imp</th>\n",
              "    </tr>\n",
              "  </thead>\n",
              "  <tbody>\n",
              "    <tr>\n",
              "      <th>33</th>\n",
              "      <td>lastReportedPosition.speedMPH</td>\n",
              "      <td>9.999994e-01</td>\n",
              "    </tr>\n",
              "    <tr>\n",
              "      <th>32</th>\n",
              "      <td>trailingTonnage</td>\n",
              "      <td>2.614734e-07</td>\n",
              "    </tr>\n",
              "    <tr>\n",
              "      <th>34</th>\n",
              "      <td>lastReportedPosition.milepostLocation.milepost.milepostNumber</td>\n",
              "      <td>1.565187e-07</td>\n",
              "    </tr>\n",
              "    <tr>\n",
              "      <th>51</th>\n",
              "      <td>lastReportedPosition.nextSignalState.signalState</td>\n",
              "      <td>4.878263e-08</td>\n",
              "    </tr>\n",
              "    <tr>\n",
              "      <th>29</th>\n",
              "      <td>loadedCarCount</td>\n",
              "      <td>3.061496e-08</td>\n",
              "    </tr>\n",
              "    <tr>\n",
              "      <th>38</th>\n",
              "      <td>aotuTrainData.totalCarWeight</td>\n",
              "      <td>2.670004e-08</td>\n",
              "    </tr>\n",
              "    <tr>\n",
              "      <th>49</th>\n",
              "      <td>lastReportedPosition.precedingSignalState.signalState</td>\n",
              "      <td>1.324413e-08</td>\n",
              "    </tr>\n",
              "    <tr>\n",
              "      <th>50</th>\n",
              "      <td>lastReportedPosition.nextSignalState.milepostLocation.milepostNumber</td>\n",
              "      <td>5.177867e-09</td>\n",
              "    </tr>\n",
              "    <tr>\n",
              "      <th>52</th>\n",
              "      <td>milepost</td>\n",
              "      <td>4.101250e-09</td>\n",
              "    </tr>\n",
              "    <tr>\n",
              "      <th>0</th>\n",
              "      <td>ptcLeadLocomotiveId</td>\n",
              "      <td>2.903987e-09</td>\n",
              "    </tr>\n",
              "  </tbody>\n",
              "</table>\n",
              "</div>\n",
              "      <button class=\"colab-df-convert\" onclick=\"convertToInteractive('df-26f9ead7-4cd6-434e-be93-5fcbe6884839')\"\n",
              "              title=\"Convert this dataframe to an interactive table.\"\n",
              "              style=\"display:none;\">\n",
              "        \n",
              "  <svg xmlns=\"http://www.w3.org/2000/svg\" height=\"24px\"viewBox=\"0 0 24 24\"\n",
              "       width=\"24px\">\n",
              "    <path d=\"M0 0h24v24H0V0z\" fill=\"none\"/>\n",
              "    <path d=\"M18.56 5.44l.94 2.06.94-2.06 2.06-.94-2.06-.94-.94-2.06-.94 2.06-2.06.94zm-11 1L8.5 8.5l.94-2.06 2.06-.94-2.06-.94L8.5 2.5l-.94 2.06-2.06.94zm10 10l.94 2.06.94-2.06 2.06-.94-2.06-.94-.94-2.06-.94 2.06-2.06.94z\"/><path d=\"M17.41 7.96l-1.37-1.37c-.4-.4-.92-.59-1.43-.59-.52 0-1.04.2-1.43.59L10.3 9.45l-7.72 7.72c-.78.78-.78 2.05 0 2.83L4 21.41c.39.39.9.59 1.41.59.51 0 1.02-.2 1.41-.59l7.78-7.78 2.81-2.81c.8-.78.8-2.07 0-2.86zM5.41 20L4 18.59l7.72-7.72 1.47 1.35L5.41 20z\"/>\n",
              "  </svg>\n",
              "      </button>\n",
              "      \n",
              "  <style>\n",
              "    .colab-df-container {\n",
              "      display:flex;\n",
              "      flex-wrap:wrap;\n",
              "      gap: 12px;\n",
              "    }\n",
              "\n",
              "    .colab-df-convert {\n",
              "      background-color: #E8F0FE;\n",
              "      border: none;\n",
              "      border-radius: 50%;\n",
              "      cursor: pointer;\n",
              "      display: none;\n",
              "      fill: #1967D2;\n",
              "      height: 32px;\n",
              "      padding: 0 0 0 0;\n",
              "      width: 32px;\n",
              "    }\n",
              "\n",
              "    .colab-df-convert:hover {\n",
              "      background-color: #E2EBFA;\n",
              "      box-shadow: 0px 1px 2px rgba(60, 64, 67, 0.3), 0px 1px 3px 1px rgba(60, 64, 67, 0.15);\n",
              "      fill: #174EA6;\n",
              "    }\n",
              "\n",
              "    [theme=dark] .colab-df-convert {\n",
              "      background-color: #3B4455;\n",
              "      fill: #D2E3FC;\n",
              "    }\n",
              "\n",
              "    [theme=dark] .colab-df-convert:hover {\n",
              "      background-color: #434B5C;\n",
              "      box-shadow: 0px 1px 3px 1px rgba(0, 0, 0, 0.15);\n",
              "      filter: drop-shadow(0px 1px 2px rgba(0, 0, 0, 0.3));\n",
              "      fill: #FFFFFF;\n",
              "    }\n",
              "  </style>\n",
              "\n",
              "      <script>\n",
              "        const buttonEl =\n",
              "          document.querySelector('#df-26f9ead7-4cd6-434e-be93-5fcbe6884839 button.colab-df-convert');\n",
              "        buttonEl.style.display =\n",
              "          google.colab.kernel.accessAllowed ? 'block' : 'none';\n",
              "\n",
              "        async function convertToInteractive(key) {\n",
              "          const element = document.querySelector('#df-26f9ead7-4cd6-434e-be93-5fcbe6884839');\n",
              "          const dataTable =\n",
              "            await google.colab.kernel.invokeFunction('convertToInteractive',\n",
              "                                                     [key], {});\n",
              "          if (!dataTable) return;\n",
              "\n",
              "          const docLinkHtml = 'Like what you see? Visit the ' +\n",
              "            '<a target=\"_blank\" href=https://colab.research.google.com/notebooks/data_table.ipynb>data table notebook</a>'\n",
              "            + ' to learn more about interactive tables.';\n",
              "          element.innerHTML = '';\n",
              "          dataTable['output_type'] = 'display_data';\n",
              "          await google.colab.output.renderOutput(dataTable, element);\n",
              "          const docLink = document.createElement('div');\n",
              "          docLink.innerHTML = docLinkHtml;\n",
              "          element.appendChild(docLink);\n",
              "        }\n",
              "      </script>\n",
              "    </div>\n",
              "  </div>\n",
              "  "
            ]
          },
          "metadata": {},
          "execution_count": 346
        }
      ]
    },
    {
      "cell_type": "markdown",
      "source": [
        "Our first result! It appears the previous speed is so heavily influencing the next speed, it swamps everything else."
      ],
      "metadata": {
        "id": "GAU4iShuUTlj"
      }
    },
    {
      "cell_type": "code",
      "source": [
        "ax = xs['lastReportedPosition.speedMPH'].hist()\n"
      ],
      "metadata": {
        "colab": {
          "base_uri": "https://localhost:8080/",
          "height": 265
        },
        "id": "W_xHGvS4mTAv",
        "outputId": "d707349e-c458-468d-d5d1-33e3ace1fc8a"
      },
      "execution_count": 352,
      "outputs": [
        {
          "output_type": "display_data",
          "data": {
            "text/plain": [
              "<Figure size 432x288 with 1 Axes>"
            ],
            "image/png": "[encoded data removed]"
          },
          "metadata": {
            "needs_background": "light"
          }
        }
      ]
    },
    {
      "cell_type": "code",
      "source": [
        "from sklearn.inspection import plot_partial_dependence\n",
        "\n",
        "fig,ax = plt.subplots(figsize=(12, 4))\n",
        "plot_partial_dependence(m, xs, ['lastReportedPosition.speedMPH'],\n",
        "                        grid_resolution=20, ax=ax);"
      ],
      "metadata": {
        "colab": {
          "base_uri": "https://localhost:8080/",
          "height": 334
        },
        "id": "dVfYTqKvniXo",
        "outputId": "10e8c327-e0db-4007-cd21-d79bc66c48cb"
      },
      "execution_count": 353,
      "outputs": [
        {
          "output_type": "stream",
          "name": "stderr",
          "text": [
            "/usr/local/lib/python3.7/dist-packages/sklearn/utils/deprecation.py:87: FutureWarning: Function plot_partial_dependence is deprecated; Function `plot_partial_dependence` is deprecated in 1.0 and will be removed in 1.2. Use PartialDependenceDisplay.from_estimator instead\n",
            "  warnings.warn(msg, category=FutureWarning)\n"
          ]
        },
        {
          "output_type": "display_data",
          "data": {
            "text/plain": [
              "<Figure size 864x288 with 2 Axes>"
            ],
            "image/png": "[encoded data removed]"
          },
          "metadata": {
            "needs_background": "light"
          }
        }
      ]
    },
    {
      "cell_type": "markdown",
      "source": [
        "This is sort of a dur moment, saying \"Speeds don't change a lot one milepost to the next\".  "
      ],
      "metadata": {
        "id": "CmpVELOUoF-l"
      }
    },
    {
      "cell_type": "markdown",
      "source": [
        "#Random Forest"
      ],
      "metadata": {
        "id": "-iGNWlJDmQrV"
      }
    },
    {
      "cell_type": "code",
      "source": [
        "def randomForest(xs, y, n_estimators=50, max_samples=1500,\n",
        "       max_features=0.6, min_samples_leaf=5, **kwargs):\n",
        "    return RandomForestRegressor(n_jobs=-1, n_estimators=n_estimators,\n",
        "        max_samples=max_samples, max_features=max_features,\n",
        "        min_samples_leaf=min_samples_leaf, oob_score=True).fit(xs, y)"
      ],
      "metadata": {
        "id": "FllkOgNkUTGW"
      },
      "execution_count": 315,
      "outputs": []
    },
    {
      "cell_type": "code",
      "source": [
        "m = randomForest(xs, y);"
      ],
      "metadata": {
        "id": "OqX5AcTWVRXE"
      },
      "execution_count": 316,
      "outputs": []
    },
    {
      "cell_type": "code",
      "source": [
        "m_rmse(m, xs, y), m_rmse(m, valid_xs, valid_y)"
      ],
      "metadata": {
        "colab": {
          "base_uri": "https://localhost:8080/"
        },
        "id": "33ncywqjVcwn",
        "outputId": "18eb341a-2cf0-42ff-e943-1d95cd18d603"
      },
      "execution_count": 317,
      "outputs": [
        {
          "output_type": "execute_result",
          "data": {
            "text/plain": [
              "(0.707943, 1.102309)"
            ]
          },
          "metadata": {},
          "execution_count": 317
        }
      ]
    },
    {
      "cell_type": "code",
      "source": [
        "preds = np.stack([t.predict(valid_xs) for t in m.estimators_])"
      ],
      "metadata": {
        "id": "Dg6iyZCIW0Nt"
      },
      "execution_count": null,
      "outputs": []
    },
    {
      "cell_type": "code",
      "source": [
        "r_mse(preds.mean(0), valid_y)"
      ],
      "metadata": {
        "id": "5UldrkUhXFbi"
      },
      "execution_count": null,
      "outputs": []
    },
    {
      "cell_type": "code",
      "source": [
        "plt.plot([r_mse(preds[:i+1].mean(0), valid_y) for i in range(50)]);"
      ],
      "metadata": {
        "colab": {
          "base_uri": "https://localhost:8080/",
          "height": 267
        },
        "id": "eT0fXh6uXIp1",
        "outputId": "29491be1-0963-414f-d370-e4115ea771f7"
      },
      "execution_count": 320,
      "outputs": [
        {
          "output_type": "display_data",
          "data": {
            "text/plain": [
              "<Figure size 432x288 with 1 Axes>"
            ],
            "image/png": "[encoded data removed]"
          },
          "metadata": {
            "needs_background": "light"
          }
        }
      ]
    },
    {
      "cell_type": "markdown",
      "source": [
        "### Out-of-Bag Error"
      ],
      "metadata": {
        "id": "GN-VS3_2YsOd"
      }
    },
    {
      "cell_type": "code",
      "source": [
        "r_mse(m.oob_prediction_, y)"
      ],
      "metadata": {
        "colab": {
          "base_uri": "https://localhost:8080/"
        },
        "id": "tvwS19-6Yc20",
        "outputId": "d103f810-8df4-485e-e0ef-aa256c6c41d7"
      },
      "execution_count": 321,
      "outputs": [
        {
          "output_type": "execute_result",
          "data": {
            "text/plain": [
              "0.761377"
            ]
          },
          "metadata": {},
          "execution_count": 321
        }
      ]
    },
    {
      "cell_type": "code",
      "source": [
        ""
      ],
      "metadata": {
        "id": "URHsHfuMZDAS"
      },
      "execution_count": 298,
      "outputs": []
    },
    {
      "cell_type": "markdown",
      "source": [
        "- How confident are we in our predictions using a particular row of data?\n",
        "- For predicting with a particular row of data, what were the most important factors, and how did they influence that prediction?\n",
        "- Which columns are the strongest predictors, which can we ignore?\n",
        "- Which columns are effectively redundant with each other, for purposes of prediction?\n",
        "- How do predictions vary, as we vary these columns?\n"
      ],
      "metadata": {
        "id": "-jSxQWTZZDfx"
      }
    },
    {
      "cell_type": "code",
      "source": [
        "preds = np.stack([t.predict(valid_xs) for t in m.estimators_])"
      ],
      "metadata": {
        "id": "eS53q1RUZRva"
      },
      "execution_count": null,
      "outputs": []
    },
    {
      "cell_type": "code",
      "source": [
        "preds.shape"
      ],
      "metadata": {
        "colab": {
          "base_uri": "https://localhost:8080/"
        },
        "id": "quArhZFkZtq_",
        "outputId": "a643e742-c5dd-4edf-a633-d9a927ed8442"
      },
      "execution_count": 323,
      "outputs": [
        {
          "output_type": "execute_result",
          "data": {
            "text/plain": [
              "(50, 893)"
            ]
          },
          "metadata": {},
          "execution_count": 323
        }
      ]
    },
    {
      "cell_type": "code",
      "source": [
        "preds_std = preds.std(0)"
      ],
      "metadata": {
        "id": "xZCBhV9MZxSH"
      },
      "execution_count": 324,
      "outputs": []
    },
    {
      "cell_type": "code",
      "source": [
        "preds_std[:5]"
      ],
      "metadata": {
        "colab": {
          "base_uri": "https://localhost:8080/"
        },
        "id": "ZvKvldDdZ44S",
        "outputId": "c1c83e3d-05e9-4c71-d64c-c47ea7aa250a"
      },
      "execution_count": 325,
      "outputs": [
        {
          "output_type": "execute_result",
          "data": {
            "text/plain": [
              "array([3.60806304, 3.72033919, 3.62327066, 2.0375765 , 2.1497783 ])"
            ]
          },
          "metadata": {},
          "execution_count": 325
        }
      ]
    },
    {
      "cell_type": "markdown",
      "source": [
        "# FEATURE Importance"
      ],
      "metadata": {
        "id": "tkENwKVIaPXc"
      }
    },
    {
      "cell_type": "code",
      "source": [
        "fi = rf_feat_importance(m, xs)\n",
        "fi[:20]"
      ],
      "metadata": {
        "colab": {
          "base_uri": "https://localhost:8080/",
          "height": 676
        },
        "id": "_xddcBHXaj9O",
        "outputId": "67b5a479-4619-4d46-e4bc-60fe00da42ae"
      },
      "execution_count": 331,
      "outputs": [
        {
          "output_type": "execute_result",
          "data": {
            "text/plain": [
              "                                                                         cols  \\\n",
              "33                                              lastReportedPosition.speedMPH   \n",
              "51                           lastReportedPosition.nextSignalState.signalState   \n",
              "49                      lastReportedPosition.precedingSignalState.signalState   \n",
              "48              lastReportedPosition.precedingSignalState.previousSignalState   \n",
              "0                                                         ptcLeadLocomotiveId   \n",
              "35                                                 aotuTrainData.priorityCode   \n",
              "3                                                         trainId.trainSymbol   \n",
              "24           lastReportedPosition.precedingSignalState.previousSignalState_na   \n",
              "6                             lastReportedPosition.milepostLocation.trackName   \n",
              "34              lastReportedPosition.milepostLocation.milepost.milepostNumber   \n",
              "32                                                            trailingTonnage   \n",
              "52                                                                   milepost   \n",
              "57                                 lastReportedPosition.positionTimeDayofweek   \n",
              "59                                   lastReportedPosition.positionTimeElapsed   \n",
              "38                                               aotuTrainData.totalCarWeight   \n",
              "47  lastReportedPosition.precedingSignalState.milepostLocation.milepostNumber   \n",
              "50       lastReportedPosition.nextSignalState.milepostLocation.milepostNumber   \n",
              "56                                       lastReportedPosition.positionTimeDay   \n",
              "26    lastReportedPosition.nextSignalState.milepostLocation.milepostNumber_na   \n",
              "39                                               aotuTrainData.totalCarLength   \n",
              "\n",
              "         imp  \n",
              "33  0.687563  \n",
              "51  0.227394  \n",
              "49  0.037662  \n",
              "48  0.012177  \n",
              "0   0.008548  \n",
              "35  0.005297  \n",
              "3   0.004946  \n",
              "24  0.004615  \n",
              "6   0.002840  \n",
              "34  0.001451  \n",
              "32  0.001190  \n",
              "52  0.001154  \n",
              "57  0.001049  \n",
              "59  0.000606  \n",
              "38  0.000521  \n",
              "47  0.000390  \n",
              "50  0.000295  \n",
              "56  0.000250  \n",
              "26  0.000205  \n",
              "39  0.000200  "
            ],
            "text/html": [
              "\n",
              "  <div id=\"df-1828feaf-e474-4248-ac8c-c8416d4f5eb8\">\n",
              "    <div class=\"colab-df-container\">\n",
              "      <div>\n",
              "<style scoped>\n",
              "    .dataframe tbody tr th:only-of-type {\n",
              "        vertical-align: middle;\n",
              "    }\n",
              "\n",
              "    .dataframe tbody tr th {\n",
              "        vertical-align: top;\n",
              "    }\n",
              "\n",
              "    .dataframe thead th {\n",
              "        text-align: right;\n",
              "    }\n",
              "</style>\n",
              "<table border=\"1\" class=\"dataframe\">\n",
              "  <thead>\n",
              "    <tr style=\"text-align: right;\">\n",
              "      <th></th>\n",
              "      <th>cols</th>\n",
              "      <th>imp</th>\n",
              "    </tr>\n",
              "  </thead>\n",
              "  <tbody>\n",
              "    <tr>\n",
              "      <th>33</th>\n",
              "      <td>lastReportedPosition.speedMPH</td>\n",
              "      <td>0.687563</td>\n",
              "    </tr>\n",
              "    <tr>\n",
              "      <th>51</th>\n",
              "      <td>lastReportedPosition.nextSignalState.signalState</td>\n",
              "      <td>0.227394</td>\n",
              "    </tr>\n",
              "    <tr>\n",
              "      <th>49</th>\n",
              "      <td>lastReportedPosition.precedingSignalState.signalState</td>\n",
              "      <td>0.037662</td>\n",
              "    </tr>\n",
              "    <tr>\n",
              "      <th>48</th>\n",
              "      <td>lastReportedPosition.precedingSignalState.previousSignalState</td>\n",
              "      <td>0.012177</td>\n",
              "    </tr>\n",
              "    <tr>\n",
              "      <th>0</th>\n",
              "      <td>ptcLeadLocomotiveId</td>\n",
              "      <td>0.008548</td>\n",
              "    </tr>\n",
              "    <tr>\n",
              "      <th>35</th>\n",
              "      <td>aotuTrainData.priorityCode</td>\n",
              "      <td>0.005297</td>\n",
              "    </tr>\n",
              "    <tr>\n",
              "      <th>3</th>\n",
              "      <td>trainId.trainSymbol</td>\n",
              "      <td>0.004946</td>\n",
              "    </tr>\n",
              "    <tr>\n",
              "      <th>24</th>\n",
              "      <td>lastReportedPosition.precedingSignalState.previousSignalState_na</td>\n",
              "      <td>0.004615</td>\n",
              "    </tr>\n",
              "    <tr>\n",
              "      <th>6</th>\n",
              "      <td>lastReportedPosition.milepostLocation.trackName</td>\n",
              "      <td>0.002840</td>\n",
              "    </tr>\n",
              "    <tr>\n",
              "      <th>34</th>\n",
              "      <td>lastReportedPosition.milepostLocation.milepost.milepostNumber</td>\n",
              "      <td>0.001451</td>\n",
              "    </tr>\n",
              "    <tr>\n",
              "      <th>32</th>\n",
              "      <td>trailingTonnage</td>\n",
              "      <td>0.001190</td>\n",
              "    </tr>\n",
              "    <tr>\n",
              "      <th>52</th>\n",
              "      <td>milepost</td>\n",
              "      <td>0.001154</td>\n",
              "    </tr>\n",
              "    <tr>\n",
              "      <th>57</th>\n",
              "      <td>lastReportedPosition.positionTimeDayofweek</td>\n",
              "      <td>0.001049</td>\n",
              "    </tr>\n",
              "    <tr>\n",
              "      <th>59</th>\n",
              "      <td>lastReportedPosition.positionTimeElapsed</td>\n",
              "      <td>0.000606</td>\n",
              "    </tr>\n",
              "    <tr>\n",
              "      <th>38</th>\n",
              "      <td>aotuTrainData.totalCarWeight</td>\n",
              "      <td>0.000521</td>\n",
              "    </tr>\n",
              "    <tr>\n",
              "      <th>47</th>\n",
              "      <td>lastReportedPosition.precedingSignalState.milepostLocation.milepostNumber</td>\n",
              "      <td>0.000390</td>\n",
              "    </tr>\n",
              "    <tr>\n",
              "      <th>50</th>\n",
              "      <td>lastReportedPosition.nextSignalState.milepostLocation.milepostNumber</td>\n",
              "      <td>0.000295</td>\n",
              "    </tr>\n",
              "    <tr>\n",
              "      <th>56</th>\n",
              "      <td>lastReportedPosition.positionTimeDay</td>\n",
              "      <td>0.000250</td>\n",
              "    </tr>\n",
              "    <tr>\n",
              "      <th>26</th>\n",
              "      <td>lastReportedPosition.nextSignalState.milepostLocation.milepostNumber_na</td>\n",
              "      <td>0.000205</td>\n",
              "    </tr>\n",
              "    <tr>\n",
              "      <th>39</th>\n",
              "      <td>aotuTrainData.totalCarLength</td>\n",
              "      <td>0.000200</td>\n",
              "    </tr>\n",
              "  </tbody>\n",
              "</table>\n",
              "</div>\n",
              "      <button class=\"colab-df-convert\" onclick=\"convertToInteractive('df-1828feaf-e474-4248-ac8c-c8416d4f5eb8')\"\n",
              "              title=\"Convert this dataframe to an interactive table.\"\n",
              "              style=\"display:none;\">\n",
              "        \n",
              "  <svg xmlns=\"http://www.w3.org/2000/svg\" height=\"24px\"viewBox=\"0 0 24 24\"\n",
              "       width=\"24px\">\n",
              "    <path d=\"M0 0h24v24H0V0z\" fill=\"none\"/>\n",
              "    <path d=\"M18.56 5.44l.94 2.06.94-2.06 2.06-.94-2.06-.94-.94-2.06-.94 2.06-2.06.94zm-11 1L8.5 8.5l.94-2.06 2.06-.94-2.06-.94L8.5 2.5l-.94 2.06-2.06.94zm10 10l.94 2.06.94-2.06 2.06-.94-2.06-.94-.94-2.06-.94 2.06-2.06.94z\"/><path d=\"M17.41 7.96l-1.37-1.37c-.4-.4-.92-.59-1.43-.59-.52 0-1.04.2-1.43.59L10.3 9.45l-7.72 7.72c-.78.78-.78 2.05 0 2.83L4 21.41c.39.39.9.59 1.41.59.51 0 1.02-.2 1.41-.59l7.78-7.78 2.81-2.81c.8-.78.8-2.07 0-2.86zM5.41 20L4 18.59l7.72-7.72 1.47 1.35L5.41 20z\"/>\n",
              "  </svg>\n",
              "      </button>\n",
              "      \n",
              "  <style>\n",
              "    .colab-df-container {\n",
              "      display:flex;\n",
              "      flex-wrap:wrap;\n",
              "      gap: 12px;\n",
              "    }\n",
              "\n",
              "    .colab-df-convert {\n",
              "      background-color: #E8F0FE;\n",
              "      border: none;\n",
              "      border-radius: 50%;\n",
              "      cursor: pointer;\n",
              "      display: none;\n",
              "      fill: #1967D2;\n",
              "      height: 32px;\n",
              "      padding: 0 0 0 0;\n",
              "      width: 32px;\n",
              "    }\n",
              "\n",
              "    .colab-df-convert:hover {\n",
              "      background-color: #E2EBFA;\n",
              "      box-shadow: 0px 1px 2px rgba(60, 64, 67, 0.3), 0px 1px 3px 1px rgba(60, 64, 67, 0.15);\n",
              "      fill: #174EA6;\n",
              "    }\n",
              "\n",
              "    [theme=dark] .colab-df-convert {\n",
              "      background-color: #3B4455;\n",
              "      fill: #D2E3FC;\n",
              "    }\n",
              "\n",
              "    [theme=dark] .colab-df-convert:hover {\n",
              "      background-color: #434B5C;\n",
              "      box-shadow: 0px 1px 3px 1px rgba(0, 0, 0, 0.15);\n",
              "      filter: drop-shadow(0px 1px 2px rgba(0, 0, 0, 0.3));\n",
              "      fill: #FFFFFF;\n",
              "    }\n",
              "  </style>\n",
              "\n",
              "      <script>\n",
              "        const buttonEl =\n",
              "          document.querySelector('#df-1828feaf-e474-4248-ac8c-c8416d4f5eb8 button.colab-df-convert');\n",
              "        buttonEl.style.display =\n",
              "          google.colab.kernel.accessAllowed ? 'block' : 'none';\n",
              "\n",
              "        async function convertToInteractive(key) {\n",
              "          const element = document.querySelector('#df-1828feaf-e474-4248-ac8c-c8416d4f5eb8');\n",
              "          const dataTable =\n",
              "            await google.colab.kernel.invokeFunction('convertToInteractive',\n",
              "                                                     [key], {});\n",
              "          if (!dataTable) return;\n",
              "\n",
              "          const docLinkHtml = 'Like what you see? Visit the ' +\n",
              "            '<a target=\"_blank\" href=https://colab.research.google.com/notebooks/data_table.ipynb>data table notebook</a>'\n",
              "            + ' to learn more about interactive tables.';\n",
              "          element.innerHTML = '';\n",
              "          dataTable['output_type'] = 'display_data';\n",
              "          await google.colab.output.renderOutput(dataTable, element);\n",
              "          const docLink = document.createElement('div');\n",
              "          docLink.innerHTML = docLinkHtml;\n",
              "          element.appendChild(docLink);\n",
              "        }\n",
              "      </script>\n",
              "    </div>\n",
              "  </div>\n",
              "  "
            ]
          },
          "metadata": {},
          "execution_count": 331
        }
      ]
    },
    {
      "cell_type": "code",
      "source": [
        "def plot_fi(fi):\n",
        "    return fi.plot('cols', 'imp', 'barh', figsize=(12,7), legend=False)\n",
        "\n",
        "plot_fi(fi[:30]);"
      ],
      "metadata": {
        "colab": {
          "base_uri": "https://localhost:8080/",
          "height": 428
        },
        "id": "PrrzmK6AflwF",
        "outputId": "431f2eee-e79f-4ab0-ee04-5fd9e4733f4e"
      },
      "execution_count": 328,
      "outputs": [
        {
          "output_type": "display_data",
          "data": {
            "text/plain": [
              "<Figure size 864x504 with 1 Axes>"
            ],
            "image/png": "[encoded data removed]"
          },
          "metadata": {
            "needs_background": "light"
          }
        }
      ]
    },
    {
      "cell_type": "markdown",
      "source": [
        "Remove low importance columns"
      ],
      "metadata": {
        "id": "ic6LbeWIf2EQ"
      }
    },
    {
      "cell_type": "code",
      "source": [
        "to_keep = fi[fi.imp>0.0002].cols\n",
        "len(to_keep)"
      ],
      "metadata": {
        "colab": {
          "base_uri": "https://localhost:8080/"
        },
        "id": "jaWtqZdQfwmy",
        "outputId": "1f091368-ad1a-41dc-f39c-e0325dd8ff4b"
      },
      "execution_count": 332,
      "outputs": [
        {
          "output_type": "execute_result",
          "data": {
            "text/plain": [
              "19"
            ]
          },
          "metadata": {},
          "execution_count": 332
        }
      ]
    },
    {
      "cell_type": "code",
      "source": [
        "xs_imp = xs[to_keep]\n",
        "valid_xs_imp = valid_xs[to_keep]"
      ],
      "metadata": {
        "id": "KK47uCFsgAYv"
      },
      "execution_count": 333,
      "outputs": []
    },
    {
      "cell_type": "code",
      "source": [
        "m = randomForest(xs_imp, y)"
      ],
      "metadata": {
        "id": "GgFy875_gGp4"
      },
      "execution_count": 334,
      "outputs": []
    },
    {
      "cell_type": "code",
      "source": [
        "m_rmse(m, xs_imp, y), m_rmse(m, valid_xs_imp, valid_y)"
      ],
      "metadata": {
        "colab": {
          "base_uri": "https://localhost:8080/"
        },
        "id": "5e5LZrqmgJf2",
        "outputId": "bff56ec5-8745-4c6b-ac51-c9b38b605306"
      },
      "execution_count": 335,
      "outputs": [
        {
          "output_type": "execute_result",
          "data": {
            "text/plain": [
              "(0.806844, 1.467372)"
            ]
          },
          "metadata": {},
          "execution_count": 335
        }
      ]
    },
    {
      "cell_type": "code",
      "source": [
        "plot_fi(rf_feat_importance(m, xs_imp));"
      ],
      "metadata": {
        "colab": {
          "base_uri": "https://localhost:8080/",
          "height": 428
        },
        "id": "5Szx4cKsgKPL",
        "outputId": "585431b6-bcc1-48ea-ba72-53d073b799d0"
      },
      "execution_count": 336,
      "outputs": [
        {
          "output_type": "display_data",
          "data": {
            "text/plain": [
              "<Figure size 864x504 with 1 Axes>"
            ],
            "image/png": "[encoded data removed]"
          },
          "metadata": {
            "needs_background": "light"
          }
        }
      ]
    },
    {
      "cell_type": "code",
      "source": [
        "fastai.cluster_columns(xs_imp)"
      ],
      "metadata": {
        "colab": {
          "base_uri": "https://localhost:8080/",
          "height": 374
        },
        "id": "ZRqtok8LhwlR",
        "outputId": "a725964a-802b-42fc-e376-f6fac82858b6"
      },
      "execution_count": 338,
      "outputs": [
        {
          "output_type": "display_data",
          "data": {
            "text/plain": [
              "<Figure size 720x432 with 1 Axes>"
            ],
            "image/png": "[encoded data removed]"
          },
          "metadata": {
            "needs_background": "light"
          }
        }
      ]
    }
  ],
  "metadata": {
    "colab": {
      "name": "MLModel1.ipynb",
      "provenance": [],
      "collapsed_sections": [],
      "include_colab_link": true
    },
    "interpreter": {
      "hash": "99fae7d265480b5fbb0cf965db398c4d2d7b17b55f6259418c7dbfe0de01ea90"
    },
    "kernelspec": {
      "display_name": "Python 3 (ipykernel)",
      "language": "python",
      "name": "python3"
    },
    "language_info": {
      "codemirror_mode": {
        "name": "ipython",
        "version": 3
      },
      "file_extension": ".py",
      "mimetype": "text/x-python",
      "name": "python",
      "nbconvert_exporter": "python",
      "pygments_lexer": "ipython3",
      "version": "3.9.12"
    }
  },
  "nbformat": 4,
  "nbformat_minor": 0
}